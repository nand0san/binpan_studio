{
 "cells": [
  {
   "cell_type": "code",
   "execution_count": 1,
   "id": "990f848d",
   "metadata": {},
   "outputs": [
    {
     "data": {
      "text/html": [
       "<style>.container { width:100% !important; }</style>"
      ],
      "text/plain": [
       "<IPython.core.display.HTML object>"
      ]
     },
     "metadata": {},
     "output_type": "display_data"
    }
   ],
   "source": [
    "from IPython.display import display, HTML\n",
    "\n",
    "display(HTML(\"<style>.container { width:100% !important; }</style>\"))"
   ]
  },
  {
   "cell_type": "code",
   "execution_count": 2,
   "id": "54e00f86",
   "metadata": {
    "scrolled": false
   },
   "outputs": [],
   "source": [
    "from binpan import binpan"
   ]
  },
  {
   "cell_type": "code",
   "execution_count": 3,
   "id": "13d6b6ab",
   "metadata": {},
   "outputs": [],
   "source": [
    "from binpan import handlers"
   ]
  },
  {
   "cell_type": "code",
   "execution_count": 4,
   "id": "ca8c0955",
   "metadata": {},
   "outputs": [],
   "source": [
    "import redis"
   ]
  },
  {
   "cell_type": "code",
   "execution_count": 8,
   "id": "f7a03bd7",
   "metadata": {},
   "outputs": [],
   "source": [
    "redis_conf = {'host': '192.168.89.242', 'port': 6379, 'db': 0, 'decode_responses': True}\n",
    "redis_conf_trades = {'host': '192.168.89.241', 'port': 6379, 'db': 0, 'decode_responses': True}"
   ]
  },
  {
   "cell_type": "code",
   "execution_count": 9,
   "id": "48b33275",
   "metadata": {},
   "outputs": [],
   "source": [
    "# symbol = \"RLCBTC\"\n",
    "symbol = \"LTCBTC\"\n",
    "tick_interval = \"1m\"\n",
    "redis_klines  = redis.StrictRedis(**redis_conf)\n",
    "redis_trades  = redis.StrictRedis(**redis_conf_trades)"
   ]
  },
  {
   "cell_type": "code",
   "execution_count": 10,
   "id": "11941238",
   "metadata": {},
   "outputs": [
    {
     "name": "stdout",
     "output_type": "stream",
     "text": [
      "start and end: 1669339250793 1669399198000\n"
     ]
    },
    {
     "name": "stderr",
     "output_type": "stream",
     "text": [
      "2022-11-25\t 19:00:51    ERROR BinPan Exception: Requested data for ltcbtc@kline_1m between 1669399190793 and 1669399250793 missing in redis.\n",
      "NoneType: None\n"
     ]
    },
    {
     "ename": "Exception",
     "evalue": "BinPan Exception: Requested data for ltcbtc@kline_1m between 1669399190793 and 1669399250793 missing in redis.",
     "output_type": "error",
     "traceback": [
      "\u001b[1;31m---------------------------------------------------------------------------\u001b[0m",
      "\u001b[1;31mException\u001b[0m                                 Traceback (most recent call last)",
      "\u001b[1;32m~\\AppData\\Local\\Temp\\ipykernel_13244\\3128967345.py\u001b[0m in \u001b[0;36m<module>\u001b[1;34m\u001b[0m\n\u001b[1;32m----> 1\u001b[1;33m \u001b[0msym\u001b[0m \u001b[1;33m=\u001b[0m \u001b[0mbinpan\u001b[0m\u001b[1;33m.\u001b[0m\u001b[0mSymbol\u001b[0m\u001b[1;33m(\u001b[0m\u001b[0msymbol\u001b[0m\u001b[1;33m=\u001b[0m\u001b[0msymbol\u001b[0m\u001b[1;33m,\u001b[0m \u001b[0mtick_interval\u001b[0m\u001b[1;33m=\u001b[0m\u001b[0mtick_interval\u001b[0m\u001b[1;33m,\u001b[0m \u001b[0mtime_zone\u001b[0m\u001b[1;33m=\u001b[0m\u001b[1;34m\"Europe/Madrid\"\u001b[0m\u001b[1;33m,\u001b[0m \u001b[0mfrom_redis\u001b[0m\u001b[1;33m=\u001b[0m\u001b[0mredis_klines\u001b[0m\u001b[1;33m,\u001b[0m \u001b[0mfrom_redis_trades\u001b[0m\u001b[1;33m=\u001b[0m\u001b[0mredis_trades\u001b[0m\u001b[1;33m)\u001b[0m\u001b[1;33m\u001b[0m\u001b[1;33m\u001b[0m\u001b[0m\n\u001b[0m\u001b[0;32m      2\u001b[0m \u001b[1;33m\u001b[0m\u001b[0m\n\u001b[0;32m      3\u001b[0m \u001b[1;31m# if not redis available use:\u001b[0m\u001b[1;33m\u001b[0m\u001b[1;33m\u001b[0m\u001b[1;33m\u001b[0m\u001b[0m\n\u001b[0;32m      4\u001b[0m \u001b[1;31m# sym = binpan.Symbol(symbol=symbol, tick_interval=tick_interval, time_zone=\"Europe/Madrid\")\u001b[0m\u001b[1;33m\u001b[0m\u001b[1;33m\u001b[0m\u001b[1;33m\u001b[0m\u001b[0m\n\u001b[0;32m      5\u001b[0m \u001b[1;33m\u001b[0m\u001b[0m\n",
      "\u001b[1;32m~\\PycharmProjects\\binpan_studio\\binpan\\binpan.py\u001b[0m in \u001b[0;36m__init__\u001b[1;34m(self, symbol, tick_interval, start_time, end_time, limit, time_zone, time_index, closed, from_redis, from_redis_trades, display_columns, display_rows, display_min_rows, display_width, from_csv)\u001b[0m\n\u001b[0;32m    450\u001b[0m                                                                   \u001b[0mend_time\u001b[0m\u001b[1;33m=\u001b[0m\u001b[0mself\u001b[0m\u001b[1;33m.\u001b[0m\u001b[0mend_time\u001b[0m\u001b[1;33m,\u001b[0m\u001b[1;33m\u001b[0m\u001b[1;33m\u001b[0m\u001b[0m\n\u001b[0;32m    451\u001b[0m                                                                   \u001b[0mlimit\u001b[0m\u001b[1;33m=\u001b[0m\u001b[0mself\u001b[0m\u001b[1;33m.\u001b[0m\u001b[0mlimit\u001b[0m\u001b[1;33m,\u001b[0m\u001b[1;33m\u001b[0m\u001b[1;33m\u001b[0m\u001b[0m\n\u001b[1;32m--> 452\u001b[1;33m                                                                   redis_client=self.from_redis)\n\u001b[0m\u001b[0;32m    453\u001b[0m \u001b[1;33m\u001b[0m\u001b[0m\n\u001b[0;32m    454\u001b[0m             dataframe = handlers.market.parse_candles_to_dataframe(raw_response=self.raw,\n",
      "\u001b[1;32m~\\PycharmProjects\\binpan_studio\\handlers\\market.py\u001b[0m in \u001b[0;36mget_candles_by_time_stamps\u001b[1;34m(symbol, tick_interval, start_time, end_time, limit, redis_client)\u001b[0m\n\u001b[0;32m    184\u001b[0m                 \u001b[0mmsg\u001b[0m \u001b[1;33m=\u001b[0m \u001b[1;34mf\"BinPan Exception: Requested data for {symbol.lower()}@kline_{tick_interval} between {start} and {end} missing in redis.\"\u001b[0m\u001b[1;33m\u001b[0m\u001b[1;33m\u001b[0m\u001b[0m\n\u001b[0;32m    185\u001b[0m                 \u001b[0mmarket_logger\u001b[0m\u001b[1;33m.\u001b[0m\u001b[0merror\u001b[0m\u001b[1;33m(\u001b[0m\u001b[0mmsg\u001b[0m\u001b[1;33m)\u001b[0m\u001b[1;33m\u001b[0m\u001b[1;33m\u001b[0m\u001b[0m\n\u001b[1;32m--> 186\u001b[1;33m                 \u001b[1;32mraise\u001b[0m \u001b[0mException\u001b[0m\u001b[1;33m(\u001b[0m\u001b[0mmsg\u001b[0m\u001b[1;33m)\u001b[0m\u001b[1;33m\u001b[0m\u001b[1;33m\u001b[0m\u001b[0m\n\u001b[0m\u001b[0;32m    187\u001b[0m \u001b[1;33m\u001b[0m\u001b[0m\n\u001b[0;32m    188\u001b[0m             \u001b[0mresponse\u001b[0m \u001b[1;33m=\u001b[0m \u001b[1;33m[\u001b[0m\u001b[0mjson\u001b[0m\u001b[1;33m.\u001b[0m\u001b[0mloads\u001b[0m\u001b[1;33m(\u001b[0m\u001b[0mi\u001b[0m\u001b[1;33m)\u001b[0m \u001b[1;32mfor\u001b[0m \u001b[0mi\u001b[0m \u001b[1;32min\u001b[0m \u001b[0mret\u001b[0m\u001b[1;33m]\u001b[0m\u001b[1;33m\u001b[0m\u001b[1;33m\u001b[0m\u001b[0m\n",
      "\u001b[1;31mException\u001b[0m: BinPan Exception: Requested data for ltcbtc@kline_1m between 1669399190793 and 1669399250793 missing in redis."
     ]
    }
   ],
   "source": [
    "sym = binpan.Symbol(symbol=symbol, tick_interval=tick_interval, time_zone=\"Europe/Madrid\", from_redis=redis_klines, from_redis_trades=redis_trades)\n",
    "\n",
    "# if not redis available use:\n",
    "# sym = binpan.Symbol(symbol=symbol, tick_interval=tick_interval, time_zone=\"Europe/Madrid\")\n",
    "\n",
    "sym.df"
   ]
  },
  {
   "cell_type": "code",
   "execution_count": null,
   "id": "510905fb",
   "metadata": {
    "scrolled": false
   },
   "outputs": [],
   "source": [
    "sym.get_trades()"
   ]
  },
  {
   "cell_type": "code",
   "execution_count": null,
   "id": "67077f72",
   "metadata": {},
   "outputs": [],
   "source": [
    "sym = binpan.Symbol(symbol=symbol, tick_interval=tick_interval, time_zone=\"Europe/Madrid\", from_redis=redis_klines, from_redis_trades=redis_trades)\n",
    "sym.get_trades()\n",
    "sym.plot_trades_size(logarithmic=True, max_size=40)"
   ]
  },
  {
   "cell_type": "code",
   "execution_count": null,
   "id": "f9658177",
   "metadata": {},
   "outputs": [],
   "source": []
  },
  {
   "cell_type": "code",
   "execution_count": null,
   "id": "b07d0e3c",
   "metadata": {},
   "outputs": [],
   "source": []
  },
  {
   "cell_type": "code",
   "execution_count": null,
   "id": "39fd6722",
   "metadata": {},
   "outputs": [],
   "source": []
  }
 ],
 "metadata": {
  "kernelspec": {
   "display_name": "Python 3 (ipykernel)",
   "language": "python",
   "name": "python3"
  },
  "language_info": {
   "codemirror_mode": {
    "name": "ipython",
    "version": 3
   },
   "file_extension": ".py",
   "mimetype": "text/x-python",
   "name": "python",
   "nbconvert_exporter": "python",
   "pygments_lexer": "ipython3",
   "version": "3.7.9"
  }
 },
 "nbformat": 4,
 "nbformat_minor": 5
}
