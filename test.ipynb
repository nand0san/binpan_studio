{
 "cells": [
  {
   "cell_type": "code",
   "execution_count": 1,
   "id": "6cb5c3ab",
   "metadata": {
    "ExecuteTime": {
     "end_time": "2023-10-08T09:49:39.393156800Z",
     "start_time": "2023-10-08T09:49:39.380249500Z"
    }
   },
   "outputs": [
    {
     "data": {
      "text/plain": "<IPython.core.display.HTML object>",
      "text/html": "<style>.container { width:100% !important; }</style>"
     },
     "metadata": {},
     "output_type": "display_data"
    }
   ],
   "source": [
    "from IPython.display import display, HTML\n",
    "\n",
    "display(HTML(\"<style>.container { width:100% !important; }</style>\"))"
   ]
  },
  {
   "cell_type": "code",
   "execution_count": 2,
   "id": "618c7267",
   "metadata": {
    "ExecuteTime": {
     "end_time": "2023-10-08T09:49:39.462642400Z",
     "start_time": "2023-10-08T09:49:39.393156800Z"
    }
   },
   "outputs": [
    {
     "name": "stdout",
     "output_type": "stream",
     "text": [
      "Python 3.11.2\n"
     ]
    }
   ],
   "source": [
    "!python -V"
   ]
  },
  {
   "cell_type": "code",
   "execution_count": 3,
   "id": "da1cbca0",
   "metadata": {
    "ExecuteTime": {
     "end_time": "2023-10-08T09:49:47.500155100Z",
     "start_time": "2023-10-08T09:49:39.462642400Z"
    }
   },
   "outputs": [
    {
     "name": "stdout",
     "output_type": "stream",
     "text": [
      "Cannot import numba: only Python versions >=3.7,<3.11 are supported. Using Numpy.\n"
     ]
    }
   ],
   "source": [
    "import binpan\n",
    "from binpan import handlers"
   ]
  },
  {
   "cell_type": "code",
   "execution_count": 4,
   "id": "ea6a6242",
   "metadata": {
    "ExecuteTime": {
     "end_time": "2023-10-08T09:49:47.505616Z",
     "start_time": "2023-10-08T09:49:47.500155100Z"
    }
   },
   "outputs": [
    {
     "data": {
      "text/plain": "'0.5.13'"
     },
     "execution_count": 4,
     "metadata": {},
     "output_type": "execute_result"
    }
   ],
   "source": [
    "binpan.__version__"
   ]
  },
  {
   "cell_type": "markdown",
   "id": "d20c7e5c",
   "metadata": {},
   "source": [
    "# Get some data"
   ]
  },
  {
   "cell_type": "code",
   "execution_count": 5,
   "id": "ca528fee",
   "metadata": {
    "scrolled": false,
    "ExecuteTime": {
     "end_time": "2023-10-08T09:49:50.084303300Z",
     "start_time": "2023-10-08T09:49:48.868031600Z"
    }
   },
   "outputs": [
    {
     "name": "stderr",
     "output_type": "stream",
     "text": [
      "2023-10-08\t 11:49:49     INFO Getting data from table aaveusdt_kline_1m from 1668678589073 to 1696758538000\n",
      "2023-10-08\t 11:49:49     INFO From first Open date 2023-10-06 20:42:00 to last Open date 2023-10-08 11:48:00\n",
      "2023-10-08\t 11:49:50  WARNING BinPan Warning: Dataframe has gaps in klines continuity: \n",
      "                               Open timestamp         Close timestamp\n",
      "AAVEUSDT 1m Europe/Madrid                                            \n",
      "2023-10-08 09:40:00+02:00 2023-10-08 07:40:00 2023-10-08 07:40:59.999\n",
      "2023-10-08\t 11:49:50  WARNING \n",
      "Timestamp discontinuities detected: \n",
      "DatetimeIndex(['2023-10-08 09:40:00+02:00'], dtype='datetime64[ns, Europe/Madrid]', name='AAVEUSDT 1m Europe/Madrid', freq=None)\n"
     ]
    },
    {
     "data": {
      "text/plain": "                                          Open time   Open   High    Low  Close  Volume                       Close time  Quote volume  Trades  Taker buy base volume  Taker buy quote volume  Open timestamp  Close timestamp  First TradeId  Last TradeId\nAAVEUSDT 1m Europe/Madrid                                                                                                                                                                                                                                  \n2023-10-06 20:42:00+02:00 2023-10-06 20:42:00+02:00  69.24  69.24  69.24  69.24   0.516 2023-10-06 18:42:59.999000+02:00      35.72784       3                  0.000                 0.00000   1696617720000    1696617779999    106271112.0   106271114.0\n2023-10-06 20:43:00+02:00 2023-10-06 20:43:00+02:00  69.24  69.24  69.23  69.23   1.869 2023-10-06 18:43:59.999000+02:00     129.39980       4                  0.893                61.83132   1696617780000    1696617839999    106271115.0   106271118.0\n2023-10-06 20:44:00+02:00 2023-10-06 20:44:00+02:00  69.22  69.22  69.18  69.20  56.562 2023-10-06 18:44:59.999000+02:00    3913.65373      29                 39.452              2729.69834   1696617840000    1696617899999    106271119.0   106271147.0\n2023-10-06 20:45:00+02:00 2023-10-06 20:45:00+02:00  69.20  69.21  69.18  69.21  44.183 2023-10-06 18:45:59.999000+02:00    3057.45985      21                 40.684              2815.34708   1696617900000    1696617959999    106271148.0   106271168.0\n2023-10-06 20:46:00+02:00 2023-10-06 20:46:00+02:00  69.22  69.22  69.21  69.21   3.076 2023-10-06 18:46:59.999000+02:00     212.90020       5                  1.024                70.88128   1696617960000    1696618019999            NaN           NaN\n...                                             ...    ...    ...    ...    ...     ...                              ...           ...     ...                    ...                     ...             ...              ...            ...           ...\n2023-10-08 11:44:00+02:00 2023-10-08 11:44:00+02:00  65.84  65.84  65.84  65.84   0.442 2023-10-08 09:44:59.999000+02:00      29.10128       1                  0.000                 0.00000   1696758240000    1696758299999    106341031.0   106341031.0\n2023-10-08 11:45:00+02:00 2023-10-08 11:45:00+02:00  65.85  65.86  65.85  65.86   2.764 2023-10-08 09:45:59.999000+02:00     182.03361       5                  0.602                39.64429   1696758300000    1696758359999    106341032.0   106341036.0\n2023-10-08 11:46:00+02:00 2023-10-08 11:46:00+02:00  65.80  65.80  65.79  65.80   5.236 2023-10-08 09:46:59.999000+02:00     344.50743       9                  4.187               275.48941   1696758360000    1696758419999    106341037.0   106341045.0\n2023-10-08 11:47:00+02:00 2023-10-08 11:47:00+02:00  65.83  65.83  65.80  65.83   9.105 2023-10-08 09:47:59.999000+02:00     599.33658       7                  6.067               399.34504   1696758420000    1696758479999    106341046.0   106341052.0\n2023-10-08 11:48:00+02:00 2023-10-08 11:48:00+02:00  65.81  65.82  65.80  65.80  10.664 2023-10-08 09:48:59.999000+02:00     701.82867      11                  1.519                99.98058   1696758480000    1696758539999    106341053.0   106341063.0\n\n[2321 rows x 15 columns]",
      "text/html": "<div>\n<style scoped>\n    .dataframe tbody tr th:only-of-type {\n        vertical-align: middle;\n    }\n\n    .dataframe tbody tr th {\n        vertical-align: top;\n    }\n\n    .dataframe thead th {\n        text-align: right;\n    }\n</style>\n<table border=\"1\" class=\"dataframe\">\n  <thead>\n    <tr style=\"text-align: right;\">\n      <th></th>\n      <th>Open time</th>\n      <th>Open</th>\n      <th>High</th>\n      <th>Low</th>\n      <th>Close</th>\n      <th>Volume</th>\n      <th>Close time</th>\n      <th>Quote volume</th>\n      <th>Trades</th>\n      <th>Taker buy base volume</th>\n      <th>Taker buy quote volume</th>\n      <th>Open timestamp</th>\n      <th>Close timestamp</th>\n      <th>First TradeId</th>\n      <th>Last TradeId</th>\n    </tr>\n    <tr>\n      <th>AAVEUSDT 1m Europe/Madrid</th>\n      <th></th>\n      <th></th>\n      <th></th>\n      <th></th>\n      <th></th>\n      <th></th>\n      <th></th>\n      <th></th>\n      <th></th>\n      <th></th>\n      <th></th>\n      <th></th>\n      <th></th>\n      <th></th>\n      <th></th>\n    </tr>\n  </thead>\n  <tbody>\n    <tr>\n      <th>2023-10-06 20:42:00+02:00</th>\n      <td>2023-10-06 20:42:00+02:00</td>\n      <td>69.24</td>\n      <td>69.24</td>\n      <td>69.24</td>\n      <td>69.24</td>\n      <td>0.516</td>\n      <td>2023-10-06 18:42:59.999000+02:00</td>\n      <td>35.72784</td>\n      <td>3</td>\n      <td>0.000</td>\n      <td>0.00000</td>\n      <td>1696617720000</td>\n      <td>1696617779999</td>\n      <td>106271112.0</td>\n      <td>106271114.0</td>\n    </tr>\n    <tr>\n      <th>2023-10-06 20:43:00+02:00</th>\n      <td>2023-10-06 20:43:00+02:00</td>\n      <td>69.24</td>\n      <td>69.24</td>\n      <td>69.23</td>\n      <td>69.23</td>\n      <td>1.869</td>\n      <td>2023-10-06 18:43:59.999000+02:00</td>\n      <td>129.39980</td>\n      <td>4</td>\n      <td>0.893</td>\n      <td>61.83132</td>\n      <td>1696617780000</td>\n      <td>1696617839999</td>\n      <td>106271115.0</td>\n      <td>106271118.0</td>\n    </tr>\n    <tr>\n      <th>2023-10-06 20:44:00+02:00</th>\n      <td>2023-10-06 20:44:00+02:00</td>\n      <td>69.22</td>\n      <td>69.22</td>\n      <td>69.18</td>\n      <td>69.20</td>\n      <td>56.562</td>\n      <td>2023-10-06 18:44:59.999000+02:00</td>\n      <td>3913.65373</td>\n      <td>29</td>\n      <td>39.452</td>\n      <td>2729.69834</td>\n      <td>1696617840000</td>\n      <td>1696617899999</td>\n      <td>106271119.0</td>\n      <td>106271147.0</td>\n    </tr>\n    <tr>\n      <th>2023-10-06 20:45:00+02:00</th>\n      <td>2023-10-06 20:45:00+02:00</td>\n      <td>69.20</td>\n      <td>69.21</td>\n      <td>69.18</td>\n      <td>69.21</td>\n      <td>44.183</td>\n      <td>2023-10-06 18:45:59.999000+02:00</td>\n      <td>3057.45985</td>\n      <td>21</td>\n      <td>40.684</td>\n      <td>2815.34708</td>\n      <td>1696617900000</td>\n      <td>1696617959999</td>\n      <td>106271148.0</td>\n      <td>106271168.0</td>\n    </tr>\n    <tr>\n      <th>2023-10-06 20:46:00+02:00</th>\n      <td>2023-10-06 20:46:00+02:00</td>\n      <td>69.22</td>\n      <td>69.22</td>\n      <td>69.21</td>\n      <td>69.21</td>\n      <td>3.076</td>\n      <td>2023-10-06 18:46:59.999000+02:00</td>\n      <td>212.90020</td>\n      <td>5</td>\n      <td>1.024</td>\n      <td>70.88128</td>\n      <td>1696617960000</td>\n      <td>1696618019999</td>\n      <td>NaN</td>\n      <td>NaN</td>\n    </tr>\n    <tr>\n      <th>...</th>\n      <td>...</td>\n      <td>...</td>\n      <td>...</td>\n      <td>...</td>\n      <td>...</td>\n      <td>...</td>\n      <td>...</td>\n      <td>...</td>\n      <td>...</td>\n      <td>...</td>\n      <td>...</td>\n      <td>...</td>\n      <td>...</td>\n      <td>...</td>\n      <td>...</td>\n    </tr>\n    <tr>\n      <th>2023-10-08 11:44:00+02:00</th>\n      <td>2023-10-08 11:44:00+02:00</td>\n      <td>65.84</td>\n      <td>65.84</td>\n      <td>65.84</td>\n      <td>65.84</td>\n      <td>0.442</td>\n      <td>2023-10-08 09:44:59.999000+02:00</td>\n      <td>29.10128</td>\n      <td>1</td>\n      <td>0.000</td>\n      <td>0.00000</td>\n      <td>1696758240000</td>\n      <td>1696758299999</td>\n      <td>106341031.0</td>\n      <td>106341031.0</td>\n    </tr>\n    <tr>\n      <th>2023-10-08 11:45:00+02:00</th>\n      <td>2023-10-08 11:45:00+02:00</td>\n      <td>65.85</td>\n      <td>65.86</td>\n      <td>65.85</td>\n      <td>65.86</td>\n      <td>2.764</td>\n      <td>2023-10-08 09:45:59.999000+02:00</td>\n      <td>182.03361</td>\n      <td>5</td>\n      <td>0.602</td>\n      <td>39.64429</td>\n      <td>1696758300000</td>\n      <td>1696758359999</td>\n      <td>106341032.0</td>\n      <td>106341036.0</td>\n    </tr>\n    <tr>\n      <th>2023-10-08 11:46:00+02:00</th>\n      <td>2023-10-08 11:46:00+02:00</td>\n      <td>65.80</td>\n      <td>65.80</td>\n      <td>65.79</td>\n      <td>65.80</td>\n      <td>5.236</td>\n      <td>2023-10-08 09:46:59.999000+02:00</td>\n      <td>344.50743</td>\n      <td>9</td>\n      <td>4.187</td>\n      <td>275.48941</td>\n      <td>1696758360000</td>\n      <td>1696758419999</td>\n      <td>106341037.0</td>\n      <td>106341045.0</td>\n    </tr>\n    <tr>\n      <th>2023-10-08 11:47:00+02:00</th>\n      <td>2023-10-08 11:47:00+02:00</td>\n      <td>65.83</td>\n      <td>65.83</td>\n      <td>65.80</td>\n      <td>65.83</td>\n      <td>9.105</td>\n      <td>2023-10-08 09:47:59.999000+02:00</td>\n      <td>599.33658</td>\n      <td>7</td>\n      <td>6.067</td>\n      <td>399.34504</td>\n      <td>1696758420000</td>\n      <td>1696758479999</td>\n      <td>106341046.0</td>\n      <td>106341052.0</td>\n    </tr>\n    <tr>\n      <th>2023-10-08 11:48:00+02:00</th>\n      <td>2023-10-08 11:48:00+02:00</td>\n      <td>65.81</td>\n      <td>65.82</td>\n      <td>65.80</td>\n      <td>65.80</td>\n      <td>10.664</td>\n      <td>2023-10-08 09:48:59.999000+02:00</td>\n      <td>701.82867</td>\n      <td>11</td>\n      <td>1.519</td>\n      <td>99.98058</td>\n      <td>1696758480000</td>\n      <td>1696758539999</td>\n      <td>106341053.0</td>\n      <td>106341063.0</td>\n    </tr>\n  </tbody>\n</table>\n<p>2321 rows × 15 columns</p>\n</div>"
     },
     "execution_count": 5,
     "metadata": {},
     "output_type": "execute_result"
    }
   ],
   "source": [
    "sym = binpan.Symbol(symbol='AAVEUSDT',\n",
    "                    tick_interval='1m',\n",
    "                    hours=7800,\n",
    "                    time_zone='Europe/Madrid',\n",
    "                    postgres_klines=\"192.168.89.242\")\n",
    "sym.df"
   ]
  },
  {
   "cell_type": "code",
   "execution_count": 6,
   "outputs": [
    {
     "data": {
      "text/plain": "                                          Open time   Open   High    Low  Close      Volume                       Close time  Quote volume  Trades  Taker buy base volume  Taker buy quote volume  Open timestamp  Close timestamp\nAAVEUSDT 1d Europe/Madrid                                                                                                                                                                                                         \n2023-10-06 00:00:00+02:00 2023-10-06 20:42:00+02:00  69.24  69.77  69.11  69.39    5452.020 2023-10-06 21:59:59.999000+02:00  3.780282e+05    3037               2899.450            2.011152e+05   1696617720000    1696629599999\n2023-10-07 00:00:00+02:00 2023-10-07 00:00:00+02:00  69.40  69.51  65.89  67.00  111469.546 2023-10-07 21:59:59.999000+02:00  7.477523e+06   53711              50679.797            3.401501e+06   1696629600000    1696715999999\n2023-10-08 00:00:00+02:00 2023-10-08 00:00:00+02:00  67.00  67.38  65.64  65.80   21580.182 2023-10-08 09:48:59.999000+02:00  1.435365e+06   12715               9712.101            6.459799e+05   1696716000000    1696758539999",
      "text/html": "<div>\n<style scoped>\n    .dataframe tbody tr th:only-of-type {\n        vertical-align: middle;\n    }\n\n    .dataframe tbody tr th {\n        vertical-align: top;\n    }\n\n    .dataframe thead th {\n        text-align: right;\n    }\n</style>\n<table border=\"1\" class=\"dataframe\">\n  <thead>\n    <tr style=\"text-align: right;\">\n      <th></th>\n      <th>Open time</th>\n      <th>Open</th>\n      <th>High</th>\n      <th>Low</th>\n      <th>Close</th>\n      <th>Volume</th>\n      <th>Close time</th>\n      <th>Quote volume</th>\n      <th>Trades</th>\n      <th>Taker buy base volume</th>\n      <th>Taker buy quote volume</th>\n      <th>Open timestamp</th>\n      <th>Close timestamp</th>\n    </tr>\n    <tr>\n      <th>AAVEUSDT 1d Europe/Madrid</th>\n      <th></th>\n      <th></th>\n      <th></th>\n      <th></th>\n      <th></th>\n      <th></th>\n      <th></th>\n      <th></th>\n      <th></th>\n      <th></th>\n      <th></th>\n      <th></th>\n      <th></th>\n    </tr>\n  </thead>\n  <tbody>\n    <tr>\n      <th>2023-10-06 00:00:00+02:00</th>\n      <td>2023-10-06 20:42:00+02:00</td>\n      <td>69.24</td>\n      <td>69.77</td>\n      <td>69.11</td>\n      <td>69.39</td>\n      <td>5452.020</td>\n      <td>2023-10-06 21:59:59.999000+02:00</td>\n      <td>3.780282e+05</td>\n      <td>3037</td>\n      <td>2899.450</td>\n      <td>2.011152e+05</td>\n      <td>1696617720000</td>\n      <td>1696629599999</td>\n    </tr>\n    <tr>\n      <th>2023-10-07 00:00:00+02:00</th>\n      <td>2023-10-07 00:00:00+02:00</td>\n      <td>69.40</td>\n      <td>69.51</td>\n      <td>65.89</td>\n      <td>67.00</td>\n      <td>111469.546</td>\n      <td>2023-10-07 21:59:59.999000+02:00</td>\n      <td>7.477523e+06</td>\n      <td>53711</td>\n      <td>50679.797</td>\n      <td>3.401501e+06</td>\n      <td>1696629600000</td>\n      <td>1696715999999</td>\n    </tr>\n    <tr>\n      <th>2023-10-08 00:00:00+02:00</th>\n      <td>2023-10-08 00:00:00+02:00</td>\n      <td>67.00</td>\n      <td>67.38</td>\n      <td>65.64</td>\n      <td>65.80</td>\n      <td>21580.182</td>\n      <td>2023-10-08 09:48:59.999000+02:00</td>\n      <td>1.435365e+06</td>\n      <td>12715</td>\n      <td>9712.101</td>\n      <td>6.459799e+05</td>\n      <td>1696716000000</td>\n      <td>1696758539999</td>\n    </tr>\n  </tbody>\n</table>\n</div>"
     },
     "execution_count": 6,
     "metadata": {},
     "output_type": "execute_result"
    }
   ],
   "source": [
    "sym.resample(\"1d\")"
   ],
   "metadata": {
    "collapsed": false,
    "ExecuteTime": {
     "end_time": "2023-10-08T09:49:59.254540600Z",
     "start_time": "2023-10-08T09:49:59.221728300Z"
    }
   },
   "id": "f80033eb8a6da332"
  },
  {
   "cell_type": "code",
   "execution_count": 14,
   "outputs": [
    {
     "ename": "NameError",
     "evalue": "name 'stop' is not defined",
     "output_type": "error",
     "traceback": [
      "\u001B[1;31m---------------------------------------------------------------------------\u001B[0m",
      "\u001B[1;31mNameError\u001B[0m                                 Traceback (most recent call last)",
      "Cell \u001B[1;32mIn[14], line 1\u001B[0m\n\u001B[1;32m----> 1\u001B[0m \u001B[43mstop\u001B[49m\n",
      "\u001B[1;31mNameError\u001B[0m: name 'stop' is not defined"
     ]
    }
   ],
   "source": [
    "stop"
   ],
   "metadata": {
    "collapsed": false,
    "ExecuteTime": {
     "end_time": "2023-10-07T10:20:19.798409200Z",
     "start_time": "2023-10-07T10:20:19.693969200Z"
    }
   },
   "id": "35dcc85b346d882b"
  },
  {
   "cell_type": "code",
   "execution_count": null,
   "outputs": [],
   "source": [],
   "metadata": {
    "collapsed": false,
    "ExecuteTime": {
     "start_time": "2023-10-07T10:20:19.720270600Z"
    }
   },
   "id": "dbdf2b36740b049c"
  },
  {
   "cell_type": "code",
   "execution_count": null,
   "id": "7cdb9125",
   "metadata": {
    "ExecuteTime": {
     "start_time": "2023-10-07T10:20:19.720270600Z"
    }
   },
   "outputs": [],
   "source": [
    "sym.time_centroids()"
   ]
  },
  {
   "cell_type": "code",
   "execution_count": null,
   "id": "da2e38bb",
   "metadata": {
    "scrolled": false,
    "ExecuteTime": {
     "start_time": "2023-10-07T10:20:19.720270600Z"
    }
   },
   "outputs": [],
   "source": [
    "sym.plot()"
   ]
  },
  {
   "cell_type": "code",
   "execution_count": null,
   "id": "4abbb90b",
   "metadata": {
    "ExecuteTime": {
     "start_time": "2023-10-07T10:20:19.720270600Z"
    }
   },
   "outputs": [],
   "source": [
    "sym.time_centroids(simple=False)"
   ]
  },
  {
   "cell_type": "code",
   "execution_count": null,
   "id": "0ccc6d7d",
   "metadata": {
    "ExecuteTime": {
     "start_time": "2023-10-07T10:20:19.720270600Z"
    }
   },
   "outputs": [],
   "source": [
    "sym.plot()"
   ]
  },
  {
   "cell_type": "code",
   "execution_count": null,
   "id": "a4b64ae8",
   "metadata": {
    "scrolled": true,
    "ExecuteTime": {
     "start_time": "2023-10-07T10:20:19.720270600Z"
    }
   },
   "outputs": [],
   "source": [
    "sym.get_atomic_trades()"
   ]
  },
  {
   "cell_type": "code",
   "execution_count": null,
   "id": "0fca50dc",
   "metadata": {
    "ExecuteTime": {
     "start_time": "2023-10-07T10:20:19.720270600Z"
    }
   },
   "outputs": [],
   "source": [
    "sym.time_centroids(from_atomic=True, simple=False)"
   ]
  },
  {
   "cell_type": "code",
   "execution_count": null,
   "id": "53fd281b",
   "metadata": {
    "ExecuteTime": {
     "start_time": "2023-10-07T10:20:19.720270600Z"
    }
   },
   "outputs": [],
   "source": [
    "sym.plot()"
   ]
  },
  {
   "cell_type": "code",
   "execution_count": null,
   "id": "cb6aadd6",
   "metadata": {
    "ExecuteTime": {
     "start_time": "2023-10-07T10:20:19.720270600Z"
    }
   },
   "outputs": [],
   "source": [
    "sym.time_centroids(from_atomic=True, simple=True)\n",
    "sym.plot()"
   ]
  },
  {
   "cell_type": "code",
   "execution_count": null,
   "id": "b1c51961",
   "metadata": {
    "ExecuteTime": {
     "start_time": "2023-10-07T10:20:19.720270600Z"
    }
   },
   "outputs": [],
   "source": []
  }
 ],
 "metadata": {
  "kernelspec": {
   "display_name": "Python 3 (ipykernel)",
   "language": "python",
   "name": "python3"
  },
  "language_info": {
   "codemirror_mode": {
    "name": "ipython",
    "version": 3
   },
   "file_extension": ".py",
   "mimetype": "text/x-python",
   "name": "python",
   "nbconvert_exporter": "python",
   "pygments_lexer": "ipython3",
   "version": "3.11.2"
  }
 },
 "nbformat": 4,
 "nbformat_minor": 5
}
