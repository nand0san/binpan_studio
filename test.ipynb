{
 "cells": [
  {
   "cell_type": "code",
   "execution_count": 8,
   "id": "6cb5c3ab",
   "metadata": {
    "ExecuteTime": {
     "end_time": "2023-10-07T10:20:18.927689300Z",
     "start_time": "2023-10-07T10:20:18.833394Z"
    }
   },
   "outputs": [
    {
     "data": {
      "text/plain": "<IPython.core.display.HTML object>",
      "text/html": "<style>.container { width:100% !important; }</style>"
     },
     "metadata": {},
     "output_type": "display_data"
    }
   ],
   "source": [
    "from IPython.display import display, HTML\n",
    "\n",
    "display(HTML(\"<style>.container { width:100% !important; }</style>\"))"
   ]
  },
  {
   "cell_type": "code",
   "execution_count": 9,
   "id": "618c7267",
   "metadata": {
    "ExecuteTime": {
     "end_time": "2023-10-07T10:20:18.990190900Z",
     "start_time": "2023-10-07T10:20:18.837669100Z"
    }
   },
   "outputs": [
    {
     "name": "stdout",
     "output_type": "stream",
     "text": [
      "Python 3.11.2\n"
     ]
    }
   ],
   "source": [
    "!python -V"
   ]
  },
  {
   "cell_type": "code",
   "execution_count": 10,
   "id": "da1cbca0",
   "metadata": {
    "ExecuteTime": {
     "end_time": "2023-10-07T10:20:18.990190900Z",
     "start_time": "2023-10-07T10:20:18.896513Z"
    }
   },
   "outputs": [],
   "source": [
    "import binpan\n",
    "from binpan import handlers"
   ]
  },
  {
   "cell_type": "code",
   "execution_count": 11,
   "id": "ea6a6242",
   "metadata": {
    "ExecuteTime": {
     "end_time": "2023-10-07T10:20:18.990190900Z",
     "start_time": "2023-10-07T10:20:18.900115800Z"
    }
   },
   "outputs": [
    {
     "data": {
      "text/plain": "'0.5.9'"
     },
     "execution_count": 11,
     "metadata": {},
     "output_type": "execute_result"
    }
   ],
   "source": [
    "binpan.__version__"
   ]
  },
  {
   "cell_type": "markdown",
   "id": "d20c7e5c",
   "metadata": {},
   "source": [
    "# Get some data"
   ]
  },
  {
   "cell_type": "code",
   "execution_count": 12,
   "id": "ca528fee",
   "metadata": {
    "scrolled": false,
    "ExecuteTime": {
     "end_time": "2023-10-07T10:20:19.675963900Z",
     "start_time": "2023-10-07T10:20:18.912050100Z"
    }
   },
   "outputs": [
    {
     "name": "stderr",
     "output_type": "stream",
     "text": [
      "2023-10-07\t 12:20:19     INFO Getting data from table aaveusdt_kline_1m from 1668594019005 to 1696673998000\n",
      "2023-10-07\t 12:20:19     INFO From first Open date 2023-10-06 20:42:00 to last Open date 2023-10-07 12:19:00\n"
     ]
    },
    {
     "data": {
      "text/plain": "                                          Open time   Open   High    Low  Close  Volume                       Close time  Quote volume  Trades  Taker buy base volume  Taker buy quote volume  Open timestamp  Close timestamp  First TradeId  Last TradeId\nAAVEUSDT 1m Europe/Madrid                                                                                                                                                                                                                                  \n2023-10-06 20:42:00+02:00 2023-10-06 20:42:00+02:00  69.24  69.24  69.24  69.24   0.516 2023-10-06 18:42:59.999000+02:00      35.72784       3                  0.000                 0.00000   1696617720000    1696617779999    106271112.0   106271114.0\n2023-10-06 20:43:00+02:00 2023-10-06 20:43:00+02:00  69.24  69.24  69.23  69.23   1.869 2023-10-06 18:43:59.999000+02:00     129.39980       4                  0.893                61.83132   1696617780000    1696617839999    106271115.0   106271118.0\n2023-10-06 20:44:00+02:00 2023-10-06 20:44:00+02:00  69.22  69.22  69.18  69.20  56.562 2023-10-06 18:44:59.999000+02:00    3913.65373      29                 39.452              2729.69834   1696617840000    1696617899999    106271119.0   106271147.0\n2023-10-06 20:45:00+02:00 2023-10-06 20:45:00+02:00  69.20  69.21  69.18  69.21  44.183 2023-10-06 18:45:59.999000+02:00    3057.45985      21                 40.684              2815.34708   1696617900000    1696617959999    106271148.0   106271168.0\n2023-10-06 20:46:00+02:00 2023-10-06 20:46:00+02:00  69.22  69.22  69.21  69.21   3.076 2023-10-06 18:46:59.999000+02:00     212.90020       5                  1.024                70.88128   1696617960000    1696618019999            NaN           NaN\n...                                             ...    ...    ...    ...    ...     ...                              ...           ...     ...                    ...                     ...             ...              ...            ...           ...\n2023-10-07 12:15:00+02:00 2023-10-07 12:15:00+02:00  66.24  66.27  66.24  66.25  65.669 2023-10-07 10:15:59.999000+02:00    4351.04158      22                 62.035              4110.28505   1696673700000    1696673759999    106311519.0   106311540.0\n2023-10-07 12:16:00+02:00 2023-10-07 12:16:00+02:00  66.25  66.26  66.24  66.25   3.963 2023-10-07 10:16:59.999000+02:00     262.54849       6                  3.963               262.54849   1696673760000    1696673819999    106311541.0   106311546.0\n2023-10-07 12:17:00+02:00 2023-10-07 12:17:00+02:00  66.25  66.25  66.25  66.25   1.417 2023-10-07 10:17:59.999000+02:00      93.87625       6                  1.417                93.87625   1696673820000    1696673879999    106311547.0   106311552.0\n2023-10-07 12:18:00+02:00 2023-10-07 12:18:00+02:00  66.25  66.25  66.24  66.24   2.449 2023-10-07 10:18:59.999000+02:00     162.22325       4                  0.149                 9.87125   1696673880000    1696673939999    106311553.0   106311556.0\n2023-10-07 12:19:00+02:00 2023-10-07 12:19:00+02:00  66.24  66.24  66.24  66.24   0.885 2023-10-07 10:19:59.999000+02:00      58.62240       1                  0.000                 0.00000   1696673940000    1696673999999    106311557.0   106311557.0\n\n[938 rows x 15 columns]",
      "text/html": "<div>\n<style scoped>\n    .dataframe tbody tr th:only-of-type {\n        vertical-align: middle;\n    }\n\n    .dataframe tbody tr th {\n        vertical-align: top;\n    }\n\n    .dataframe thead th {\n        text-align: right;\n    }\n</style>\n<table border=\"1\" class=\"dataframe\">\n  <thead>\n    <tr style=\"text-align: right;\">\n      <th></th>\n      <th>Open time</th>\n      <th>Open</th>\n      <th>High</th>\n      <th>Low</th>\n      <th>Close</th>\n      <th>Volume</th>\n      <th>Close time</th>\n      <th>Quote volume</th>\n      <th>Trades</th>\n      <th>Taker buy base volume</th>\n      <th>Taker buy quote volume</th>\n      <th>Open timestamp</th>\n      <th>Close timestamp</th>\n      <th>First TradeId</th>\n      <th>Last TradeId</th>\n    </tr>\n    <tr>\n      <th>AAVEUSDT 1m Europe/Madrid</th>\n      <th></th>\n      <th></th>\n      <th></th>\n      <th></th>\n      <th></th>\n      <th></th>\n      <th></th>\n      <th></th>\n      <th></th>\n      <th></th>\n      <th></th>\n      <th></th>\n      <th></th>\n      <th></th>\n      <th></th>\n    </tr>\n  </thead>\n  <tbody>\n    <tr>\n      <th>2023-10-06 20:42:00+02:00</th>\n      <td>2023-10-06 20:42:00+02:00</td>\n      <td>69.24</td>\n      <td>69.24</td>\n      <td>69.24</td>\n      <td>69.24</td>\n      <td>0.516</td>\n      <td>2023-10-06 18:42:59.999000+02:00</td>\n      <td>35.72784</td>\n      <td>3</td>\n      <td>0.000</td>\n      <td>0.00000</td>\n      <td>1696617720000</td>\n      <td>1696617779999</td>\n      <td>106271112.0</td>\n      <td>106271114.0</td>\n    </tr>\n    <tr>\n      <th>2023-10-06 20:43:00+02:00</th>\n      <td>2023-10-06 20:43:00+02:00</td>\n      <td>69.24</td>\n      <td>69.24</td>\n      <td>69.23</td>\n      <td>69.23</td>\n      <td>1.869</td>\n      <td>2023-10-06 18:43:59.999000+02:00</td>\n      <td>129.39980</td>\n      <td>4</td>\n      <td>0.893</td>\n      <td>61.83132</td>\n      <td>1696617780000</td>\n      <td>1696617839999</td>\n      <td>106271115.0</td>\n      <td>106271118.0</td>\n    </tr>\n    <tr>\n      <th>2023-10-06 20:44:00+02:00</th>\n      <td>2023-10-06 20:44:00+02:00</td>\n      <td>69.22</td>\n      <td>69.22</td>\n      <td>69.18</td>\n      <td>69.20</td>\n      <td>56.562</td>\n      <td>2023-10-06 18:44:59.999000+02:00</td>\n      <td>3913.65373</td>\n      <td>29</td>\n      <td>39.452</td>\n      <td>2729.69834</td>\n      <td>1696617840000</td>\n      <td>1696617899999</td>\n      <td>106271119.0</td>\n      <td>106271147.0</td>\n    </tr>\n    <tr>\n      <th>2023-10-06 20:45:00+02:00</th>\n      <td>2023-10-06 20:45:00+02:00</td>\n      <td>69.20</td>\n      <td>69.21</td>\n      <td>69.18</td>\n      <td>69.21</td>\n      <td>44.183</td>\n      <td>2023-10-06 18:45:59.999000+02:00</td>\n      <td>3057.45985</td>\n      <td>21</td>\n      <td>40.684</td>\n      <td>2815.34708</td>\n      <td>1696617900000</td>\n      <td>1696617959999</td>\n      <td>106271148.0</td>\n      <td>106271168.0</td>\n    </tr>\n    <tr>\n      <th>2023-10-06 20:46:00+02:00</th>\n      <td>2023-10-06 20:46:00+02:00</td>\n      <td>69.22</td>\n      <td>69.22</td>\n      <td>69.21</td>\n      <td>69.21</td>\n      <td>3.076</td>\n      <td>2023-10-06 18:46:59.999000+02:00</td>\n      <td>212.90020</td>\n      <td>5</td>\n      <td>1.024</td>\n      <td>70.88128</td>\n      <td>1696617960000</td>\n      <td>1696618019999</td>\n      <td>NaN</td>\n      <td>NaN</td>\n    </tr>\n    <tr>\n      <th>...</th>\n      <td>...</td>\n      <td>...</td>\n      <td>...</td>\n      <td>...</td>\n      <td>...</td>\n      <td>...</td>\n      <td>...</td>\n      <td>...</td>\n      <td>...</td>\n      <td>...</td>\n      <td>...</td>\n      <td>...</td>\n      <td>...</td>\n      <td>...</td>\n      <td>...</td>\n    </tr>\n    <tr>\n      <th>2023-10-07 12:15:00+02:00</th>\n      <td>2023-10-07 12:15:00+02:00</td>\n      <td>66.24</td>\n      <td>66.27</td>\n      <td>66.24</td>\n      <td>66.25</td>\n      <td>65.669</td>\n      <td>2023-10-07 10:15:59.999000+02:00</td>\n      <td>4351.04158</td>\n      <td>22</td>\n      <td>62.035</td>\n      <td>4110.28505</td>\n      <td>1696673700000</td>\n      <td>1696673759999</td>\n      <td>106311519.0</td>\n      <td>106311540.0</td>\n    </tr>\n    <tr>\n      <th>2023-10-07 12:16:00+02:00</th>\n      <td>2023-10-07 12:16:00+02:00</td>\n      <td>66.25</td>\n      <td>66.26</td>\n      <td>66.24</td>\n      <td>66.25</td>\n      <td>3.963</td>\n      <td>2023-10-07 10:16:59.999000+02:00</td>\n      <td>262.54849</td>\n      <td>6</td>\n      <td>3.963</td>\n      <td>262.54849</td>\n      <td>1696673760000</td>\n      <td>1696673819999</td>\n      <td>106311541.0</td>\n      <td>106311546.0</td>\n    </tr>\n    <tr>\n      <th>2023-10-07 12:17:00+02:00</th>\n      <td>2023-10-07 12:17:00+02:00</td>\n      <td>66.25</td>\n      <td>66.25</td>\n      <td>66.25</td>\n      <td>66.25</td>\n      <td>1.417</td>\n      <td>2023-10-07 10:17:59.999000+02:00</td>\n      <td>93.87625</td>\n      <td>6</td>\n      <td>1.417</td>\n      <td>93.87625</td>\n      <td>1696673820000</td>\n      <td>1696673879999</td>\n      <td>106311547.0</td>\n      <td>106311552.0</td>\n    </tr>\n    <tr>\n      <th>2023-10-07 12:18:00+02:00</th>\n      <td>2023-10-07 12:18:00+02:00</td>\n      <td>66.25</td>\n      <td>66.25</td>\n      <td>66.24</td>\n      <td>66.24</td>\n      <td>2.449</td>\n      <td>2023-10-07 10:18:59.999000+02:00</td>\n      <td>162.22325</td>\n      <td>4</td>\n      <td>0.149</td>\n      <td>9.87125</td>\n      <td>1696673880000</td>\n      <td>1696673939999</td>\n      <td>106311553.0</td>\n      <td>106311556.0</td>\n    </tr>\n    <tr>\n      <th>2023-10-07 12:19:00+02:00</th>\n      <td>2023-10-07 12:19:00+02:00</td>\n      <td>66.24</td>\n      <td>66.24</td>\n      <td>66.24</td>\n      <td>66.24</td>\n      <td>0.885</td>\n      <td>2023-10-07 10:19:59.999000+02:00</td>\n      <td>58.62240</td>\n      <td>1</td>\n      <td>0.000</td>\n      <td>0.00000</td>\n      <td>1696673940000</td>\n      <td>1696673999999</td>\n      <td>106311557.0</td>\n      <td>106311557.0</td>\n    </tr>\n  </tbody>\n</table>\n<p>938 rows × 15 columns</p>\n</div>"
     },
     "execution_count": 12,
     "metadata": {},
     "output_type": "execute_result"
    }
   ],
   "source": [
    "sym = binpan.Symbol(symbol='AAVEUSDT',\n",
    "                    tick_interval='1m',\n",
    "                    hours=7800,\n",
    "                    time_zone='Europe/Madrid',\n",
    "                    postgres_klines=True)\n",
    "sym.df"
   ]
  },
  {
   "cell_type": "code",
   "execution_count": 13,
   "outputs": [
    {
     "data": {
      "text/plain": "                                          Open time   Open   High    Low  Close     Volume                       Close time  Quote volume  Trades  Taker buy base volume  Taker buy quote volume  Open timestamp  Close timestamp\nAAVEUSDT 1d Europe/Madrid                                                                                                                                                                                                        \n2023-10-06 00:00:00+02:00 2023-10-06 20:42:00+02:00  69.24  69.77  69.11  69.39   5452.020 2023-10-06 21:59:59.999000+02:00  3.780282e+05    3037               2899.450            2.011152e+05   1696617720000    1696629599999\n2023-10-07 00:00:00+02:00 2023-10-07 00:00:00+02:00  69.40  69.51  65.89  66.24  70458.286 2023-10-07 10:19:59.999000+02:00  4.729391e+06   37409              31525.464            2.118048e+06   1696629600000    1696673999999",
      "text/html": "<div>\n<style scoped>\n    .dataframe tbody tr th:only-of-type {\n        vertical-align: middle;\n    }\n\n    .dataframe tbody tr th {\n        vertical-align: top;\n    }\n\n    .dataframe thead th {\n        text-align: right;\n    }\n</style>\n<table border=\"1\" class=\"dataframe\">\n  <thead>\n    <tr style=\"text-align: right;\">\n      <th></th>\n      <th>Open time</th>\n      <th>Open</th>\n      <th>High</th>\n      <th>Low</th>\n      <th>Close</th>\n      <th>Volume</th>\n      <th>Close time</th>\n      <th>Quote volume</th>\n      <th>Trades</th>\n      <th>Taker buy base volume</th>\n      <th>Taker buy quote volume</th>\n      <th>Open timestamp</th>\n      <th>Close timestamp</th>\n    </tr>\n    <tr>\n      <th>AAVEUSDT 1d Europe/Madrid</th>\n      <th></th>\n      <th></th>\n      <th></th>\n      <th></th>\n      <th></th>\n      <th></th>\n      <th></th>\n      <th></th>\n      <th></th>\n      <th></th>\n      <th></th>\n      <th></th>\n      <th></th>\n    </tr>\n  </thead>\n  <tbody>\n    <tr>\n      <th>2023-10-06 00:00:00+02:00</th>\n      <td>2023-10-06 20:42:00+02:00</td>\n      <td>69.24</td>\n      <td>69.77</td>\n      <td>69.11</td>\n      <td>69.39</td>\n      <td>5452.020</td>\n      <td>2023-10-06 21:59:59.999000+02:00</td>\n      <td>3.780282e+05</td>\n      <td>3037</td>\n      <td>2899.450</td>\n      <td>2.011152e+05</td>\n      <td>1696617720000</td>\n      <td>1696629599999</td>\n    </tr>\n    <tr>\n      <th>2023-10-07 00:00:00+02:00</th>\n      <td>2023-10-07 00:00:00+02:00</td>\n      <td>69.40</td>\n      <td>69.51</td>\n      <td>65.89</td>\n      <td>66.24</td>\n      <td>70458.286</td>\n      <td>2023-10-07 10:19:59.999000+02:00</td>\n      <td>4.729391e+06</td>\n      <td>37409</td>\n      <td>31525.464</td>\n      <td>2.118048e+06</td>\n      <td>1696629600000</td>\n      <td>1696673999999</td>\n    </tr>\n  </tbody>\n</table>\n</div>"
     },
     "execution_count": 13,
     "metadata": {},
     "output_type": "execute_result"
    }
   ],
   "source": [
    "sym.resample(\"1d\")"
   ],
   "metadata": {
    "collapsed": false,
    "ExecuteTime": {
     "end_time": "2023-10-07T10:20:19.693969200Z",
     "start_time": "2023-10-07T10:20:19.675963900Z"
    }
   },
   "id": "f80033eb8a6da332"
  },
  {
   "cell_type": "code",
   "execution_count": 14,
   "outputs": [
    {
     "ename": "NameError",
     "evalue": "name 'stop' is not defined",
     "output_type": "error",
     "traceback": [
      "\u001B[1;31m---------------------------------------------------------------------------\u001B[0m",
      "\u001B[1;31mNameError\u001B[0m                                 Traceback (most recent call last)",
      "Cell \u001B[1;32mIn[14], line 1\u001B[0m\n\u001B[1;32m----> 1\u001B[0m \u001B[43mstop\u001B[49m\n",
      "\u001B[1;31mNameError\u001B[0m: name 'stop' is not defined"
     ]
    }
   ],
   "source": [
    "stop"
   ],
   "metadata": {
    "collapsed": false,
    "ExecuteTime": {
     "end_time": "2023-10-07T10:20:19.798409200Z",
     "start_time": "2023-10-07T10:20:19.693969200Z"
    }
   },
   "id": "35dcc85b346d882b"
  },
  {
   "cell_type": "code",
   "execution_count": null,
   "outputs": [],
   "source": [],
   "metadata": {
    "collapsed": false,
    "ExecuteTime": {
     "start_time": "2023-10-07T10:20:19.720270600Z"
    }
   },
   "id": "dbdf2b36740b049c"
  },
  {
   "cell_type": "code",
   "execution_count": null,
   "id": "7cdb9125",
   "metadata": {
    "ExecuteTime": {
     "start_time": "2023-10-07T10:20:19.720270600Z"
    }
   },
   "outputs": [],
   "source": [
    "sym.time_centroids()"
   ]
  },
  {
   "cell_type": "code",
   "execution_count": null,
   "id": "da2e38bb",
   "metadata": {
    "scrolled": false,
    "ExecuteTime": {
     "start_time": "2023-10-07T10:20:19.720270600Z"
    }
   },
   "outputs": [],
   "source": [
    "sym.plot()"
   ]
  },
  {
   "cell_type": "code",
   "execution_count": null,
   "id": "4abbb90b",
   "metadata": {
    "ExecuteTime": {
     "start_time": "2023-10-07T10:20:19.720270600Z"
    }
   },
   "outputs": [],
   "source": [
    "sym.time_centroids(simple=False)"
   ]
  },
  {
   "cell_type": "code",
   "execution_count": null,
   "id": "0ccc6d7d",
   "metadata": {
    "ExecuteTime": {
     "start_time": "2023-10-07T10:20:19.720270600Z"
    }
   },
   "outputs": [],
   "source": [
    "sym.plot()"
   ]
  },
  {
   "cell_type": "code",
   "execution_count": null,
   "id": "a4b64ae8",
   "metadata": {
    "scrolled": true,
    "ExecuteTime": {
     "start_time": "2023-10-07T10:20:19.720270600Z"
    }
   },
   "outputs": [],
   "source": [
    "sym.get_atomic_trades()"
   ]
  },
  {
   "cell_type": "code",
   "execution_count": null,
   "id": "0fca50dc",
   "metadata": {
    "ExecuteTime": {
     "start_time": "2023-10-07T10:20:19.720270600Z"
    }
   },
   "outputs": [],
   "source": [
    "sym.time_centroids(from_atomic=True, simple=False)"
   ]
  },
  {
   "cell_type": "code",
   "execution_count": null,
   "id": "53fd281b",
   "metadata": {
    "ExecuteTime": {
     "start_time": "2023-10-07T10:20:19.720270600Z"
    }
   },
   "outputs": [],
   "source": [
    "sym.plot()"
   ]
  },
  {
   "cell_type": "code",
   "execution_count": null,
   "id": "cb6aadd6",
   "metadata": {
    "ExecuteTime": {
     "start_time": "2023-10-07T10:20:19.720270600Z"
    }
   },
   "outputs": [],
   "source": [
    "sym.time_centroids(from_atomic=True, simple=True)\n",
    "sym.plot()"
   ]
  },
  {
   "cell_type": "code",
   "execution_count": null,
   "id": "b1c51961",
   "metadata": {
    "ExecuteTime": {
     "start_time": "2023-10-07T10:20:19.720270600Z"
    }
   },
   "outputs": [],
   "source": []
  }
 ],
 "metadata": {
  "kernelspec": {
   "display_name": "Python 3 (ipykernel)",
   "language": "python",
   "name": "python3"
  },
  "language_info": {
   "codemirror_mode": {
    "name": "ipython",
    "version": 3
   },
   "file_extension": ".py",
   "mimetype": "text/x-python",
   "name": "python",
   "nbconvert_exporter": "python",
   "pygments_lexer": "ipython3",
   "version": "3.11.2"
  }
 },
 "nbformat": 4,
 "nbformat_minor": 5
}
