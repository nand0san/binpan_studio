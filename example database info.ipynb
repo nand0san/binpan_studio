{
 "cells": [
  {
   "cell_type": "code",
   "execution_count": 1,
   "id": "6cb5c3ab",
   "metadata": {
    "ExecuteTime": {
     "end_time": "2024-02-17T17:51:22.636883700Z",
     "start_time": "2024-02-17T17:51:22.593885900Z"
    }
   },
   "outputs": [
    {
     "data": {
      "text/plain": "<IPython.core.display.HTML object>",
      "text/html": "<style>.container { width:100% !important; }</style>"
     },
     "metadata": {},
     "output_type": "display_data"
    }
   ],
   "source": [
    "from IPython.display import display, HTML\n",
    "\n",
    "display(HTML(\"<style>.container { width:100% !important; }</style>\"))"
   ]
  },
  {
   "cell_type": "code",
   "execution_count": 2,
   "id": "618c7267",
   "metadata": {
    "ExecuteTime": {
     "end_time": "2024-02-17T17:51:22.668405600Z",
     "start_time": "2024-02-17T17:51:22.603369600Z"
    }
   },
   "outputs": [
    {
     "name": "stdout",
     "output_type": "stream",
     "text": [
      "Python 3.11.2\n"
     ]
    }
   ],
   "source": [
    "!python -V"
   ]
  },
  {
   "cell_type": "code",
   "execution_count": 3,
   "id": "da1cbca0",
   "metadata": {
    "ExecuteTime": {
     "end_time": "2024-02-17T17:51:31.411353600Z",
     "start_time": "2024-02-17T17:51:22.664404500Z"
    }
   },
   "outputs": [],
   "source": [
    "import binpan\n",
    "from handlers.postgresql_database import *"
   ]
  },
  {
   "cell_type": "code",
   "execution_count": 4,
   "id": "ea6a6242",
   "metadata": {
    "ExecuteTime": {
     "end_time": "2024-02-17T17:51:31.419119300Z",
     "start_time": "2024-02-17T17:51:31.412354Z"
    }
   },
   "outputs": [
    {
     "data": {
      "text/plain": "'0.8.10'"
     },
     "execution_count": 4,
     "metadata": {},
     "output_type": "execute_result"
    }
   ],
   "source": [
    "binpan.__version__"
   ]
  },
  {
   "cell_type": "markdown",
   "id": "d20c7e5c",
   "metadata": {},
   "source": [
    "# Database connector"
   ]
  },
  {
   "cell_type": "code",
   "execution_count": 5,
   "id": "b0575b3f",
   "metadata": {
    "ExecuteTime": {
     "end_time": "2024-02-17T17:51:32.057389200Z",
     "start_time": "2024-02-17T17:51:31.417119200Z"
    }
   },
   "outputs": [
    {
     "name": "stdout",
     "output_type": "stream",
     "text": [
      "Host: 192.168.89.211\n",
      "Port: 5432\n",
      "User: nando\n",
      "Database: crypto\n"
     ]
    }
   ],
   "source": [
    "db = binpan.Database(host=\"192.168.89.211\")"
   ]
  },
  {
   "cell_type": "code",
   "execution_count": 6,
   "id": "44e6863f",
   "metadata": {
    "ExecuteTime": {
     "end_time": "2024-02-17T17:51:32.066147800Z",
     "start_time": "2024-02-17T17:51:32.060387300Z"
    }
   },
   "outputs": [
    {
     "name": "stdout",
     "output_type": "stream",
     "text": [
      "Host: 192.168.89.211\n",
      "Port: 5432\n",
      "User: nando\n",
      "Password: XXXXXXXXXXXX \n",
      "Database: crypto\n",
      "Connection: <connection object at 0x00000240A53006A0; dsn: 'user=nando password=xxx connect_timeout=10 dbname=crypto host=192.168.89.211 port=5432', closed: 0>\n",
      "Cursor: <cursor object at 0x00000240A5357E60; closed: 0>\n"
     ]
    }
   ],
   "source": [
    "db.status()"
   ]
  },
  {
   "cell_type": "code",
   "execution_count": 7,
   "id": "6332fba86742d04e",
   "metadata": {
    "ExecuteTime": {
     "end_time": "2024-02-17T17:51:32.074693500Z",
     "start_time": "2024-02-17T17:51:32.065151200Z"
    }
   },
   "outputs": [
    {
     "data": {
      "text/plain": "'110 GB'"
     },
     "execution_count": 7,
     "metadata": {},
     "output_type": "execute_result"
    }
   ],
   "source": [
    "db.size"
   ]
  },
  {
   "cell_type": "code",
   "execution_count": 8,
   "id": "27d15f1ba9cb3bc2",
   "metadata": {
    "ExecuteTime": {
     "end_time": "2024-02-17T17:51:32.122369500Z",
     "start_time": "2024-02-17T17:51:32.075694400Z"
    }
   },
   "outputs": [
    {
     "data": {
      "text/plain": "    schemaname           tablename  table_size_kb  indexes_size_kb  total_size_kb\n0       public    juvusdt_kline_1m            8.0             16.0           24.0\n34      public    bchusdt_kline_1m            8.0             16.0           24.0\n25      public   dashusdt_kline_1m            8.0             16.0           24.0\n26      public  multiusdt_kline_1m            8.0             16.0           24.0\n27      public   arkmusdt_kline_1m            8.0             16.0           24.0\n..         ...                 ...            ...              ...            ...\n288     public   ustcusdt_kline_1m            0.0             16.0           16.0\n289     public   reefusdt_kline_1m            0.0             16.0           16.0\n290     public    sfpusdt_kline_1m            0.0             16.0           16.0\n291     public    fisusdt_kline_1m            0.0             16.0           16.0\n773     public     qiusdt_kline_1m            0.0             16.0           16.0\n\n[774 rows x 5 columns]",
      "text/html": "<div>\n<style scoped>\n    .dataframe tbody tr th:only-of-type {\n        vertical-align: middle;\n    }\n\n    .dataframe tbody tr th {\n        vertical-align: top;\n    }\n\n    .dataframe thead th {\n        text-align: right;\n    }\n</style>\n<table border=\"1\" class=\"dataframe\">\n  <thead>\n    <tr style=\"text-align: right;\">\n      <th></th>\n      <th>schemaname</th>\n      <th>tablename</th>\n      <th>table_size_kb</th>\n      <th>indexes_size_kb</th>\n      <th>total_size_kb</th>\n    </tr>\n  </thead>\n  <tbody>\n    <tr>\n      <th>0</th>\n      <td>public</td>\n      <td>juvusdt_kline_1m</td>\n      <td>8.0</td>\n      <td>16.0</td>\n      <td>24.0</td>\n    </tr>\n    <tr>\n      <th>34</th>\n      <td>public</td>\n      <td>bchusdt_kline_1m</td>\n      <td>8.0</td>\n      <td>16.0</td>\n      <td>24.0</td>\n    </tr>\n    <tr>\n      <th>25</th>\n      <td>public</td>\n      <td>dashusdt_kline_1m</td>\n      <td>8.0</td>\n      <td>16.0</td>\n      <td>24.0</td>\n    </tr>\n    <tr>\n      <th>26</th>\n      <td>public</td>\n      <td>multiusdt_kline_1m</td>\n      <td>8.0</td>\n      <td>16.0</td>\n      <td>24.0</td>\n    </tr>\n    <tr>\n      <th>27</th>\n      <td>public</td>\n      <td>arkmusdt_kline_1m</td>\n      <td>8.0</td>\n      <td>16.0</td>\n      <td>24.0</td>\n    </tr>\n    <tr>\n      <th>...</th>\n      <td>...</td>\n      <td>...</td>\n      <td>...</td>\n      <td>...</td>\n      <td>...</td>\n    </tr>\n    <tr>\n      <th>288</th>\n      <td>public</td>\n      <td>ustcusdt_kline_1m</td>\n      <td>0.0</td>\n      <td>16.0</td>\n      <td>16.0</td>\n    </tr>\n    <tr>\n      <th>289</th>\n      <td>public</td>\n      <td>reefusdt_kline_1m</td>\n      <td>0.0</td>\n      <td>16.0</td>\n      <td>16.0</td>\n    </tr>\n    <tr>\n      <th>290</th>\n      <td>public</td>\n      <td>sfpusdt_kline_1m</td>\n      <td>0.0</td>\n      <td>16.0</td>\n      <td>16.0</td>\n    </tr>\n    <tr>\n      <th>291</th>\n      <td>public</td>\n      <td>fisusdt_kline_1m</td>\n      <td>0.0</td>\n      <td>16.0</td>\n      <td>16.0</td>\n    </tr>\n    <tr>\n      <th>773</th>\n      <td>public</td>\n      <td>qiusdt_kline_1m</td>\n      <td>0.0</td>\n      <td>16.0</td>\n      <td>16.0</td>\n    </tr>\n  </tbody>\n</table>\n<p>774 rows × 5 columns</p>\n</div>"
     },
     "execution_count": 8,
     "metadata": {},
     "output_type": "execute_result"
    }
   ],
   "source": [
    "db.table_sizes"
   ]
  },
  {
   "cell_type": "code",
   "execution_count": 9,
   "id": "f0b07856c086dfdf",
   "metadata": {
    "ExecuteTime": {
     "end_time": "2024-02-17T17:51:32.124353900Z",
     "start_time": "2024-02-17T17:51:32.093275900Z"
    }
   },
   "outputs": [
    {
     "data": {
      "text/plain": "    hypertable_schema            hypertable_name  owner  num_dimensions  num_chunks  compression_enabled  is_distributed replication_factor data_nodes tablespaces\n134            public           ethusdt_kline_1m  nando               1         340                False           False               None       None        None\n72             public           btcusdt_kline_1m  nando               1         340                False           False               None       None        None\n101            public           bnbusdt_kline_1m  nando               1         329                False           False               None       None        None\n102            public           neousdt_kline_1m  nando               1         327                False           False               None       None        None\n1              public           ltcusdt_kline_1m  nando               1         324                False           False               None       None        None\n..                ...                        ...    ...             ...         ...                  ...             ...                ...        ...         ...\n767            public    jupusdt_kline_1m_missed  nando               1           0                False           False               None       None        None\n769            public   pythusdt_kline_1m_missed  nando               1           0                False           False               None       None        None\n449            public     ltcbtc_kline_1m_missed  nando               1           0                False           False               None       None        None\n772            public  roninusdt_kline_1m_missed  nando               1           0                False           False               None       None        None\n773            public    dymusdt_kline_1m_missed  nando               1           0                False           False               None       None        None\n\n[774 rows x 10 columns]",
      "text/html": "<div>\n<style scoped>\n    .dataframe tbody tr th:only-of-type {\n        vertical-align: middle;\n    }\n\n    .dataframe tbody tr th {\n        vertical-align: top;\n    }\n\n    .dataframe thead th {\n        text-align: right;\n    }\n</style>\n<table border=\"1\" class=\"dataframe\">\n  <thead>\n    <tr style=\"text-align: right;\">\n      <th></th>\n      <th>hypertable_schema</th>\n      <th>hypertable_name</th>\n      <th>owner</th>\n      <th>num_dimensions</th>\n      <th>num_chunks</th>\n      <th>compression_enabled</th>\n      <th>is_distributed</th>\n      <th>replication_factor</th>\n      <th>data_nodes</th>\n      <th>tablespaces</th>\n    </tr>\n  </thead>\n  <tbody>\n    <tr>\n      <th>134</th>\n      <td>public</td>\n      <td>ethusdt_kline_1m</td>\n      <td>nando</td>\n      <td>1</td>\n      <td>340</td>\n      <td>False</td>\n      <td>False</td>\n      <td>None</td>\n      <td>None</td>\n      <td>None</td>\n    </tr>\n    <tr>\n      <th>72</th>\n      <td>public</td>\n      <td>btcusdt_kline_1m</td>\n      <td>nando</td>\n      <td>1</td>\n      <td>340</td>\n      <td>False</td>\n      <td>False</td>\n      <td>None</td>\n      <td>None</td>\n      <td>None</td>\n    </tr>\n    <tr>\n      <th>101</th>\n      <td>public</td>\n      <td>bnbusdt_kline_1m</td>\n      <td>nando</td>\n      <td>1</td>\n      <td>329</td>\n      <td>False</td>\n      <td>False</td>\n      <td>None</td>\n      <td>None</td>\n      <td>None</td>\n    </tr>\n    <tr>\n      <th>102</th>\n      <td>public</td>\n      <td>neousdt_kline_1m</td>\n      <td>nando</td>\n      <td>1</td>\n      <td>327</td>\n      <td>False</td>\n      <td>False</td>\n      <td>None</td>\n      <td>None</td>\n      <td>None</td>\n    </tr>\n    <tr>\n      <th>1</th>\n      <td>public</td>\n      <td>ltcusdt_kline_1m</td>\n      <td>nando</td>\n      <td>1</td>\n      <td>324</td>\n      <td>False</td>\n      <td>False</td>\n      <td>None</td>\n      <td>None</td>\n      <td>None</td>\n    </tr>\n    <tr>\n      <th>...</th>\n      <td>...</td>\n      <td>...</td>\n      <td>...</td>\n      <td>...</td>\n      <td>...</td>\n      <td>...</td>\n      <td>...</td>\n      <td>...</td>\n      <td>...</td>\n      <td>...</td>\n    </tr>\n    <tr>\n      <th>767</th>\n      <td>public</td>\n      <td>jupusdt_kline_1m_missed</td>\n      <td>nando</td>\n      <td>1</td>\n      <td>0</td>\n      <td>False</td>\n      <td>False</td>\n      <td>None</td>\n      <td>None</td>\n      <td>None</td>\n    </tr>\n    <tr>\n      <th>769</th>\n      <td>public</td>\n      <td>pythusdt_kline_1m_missed</td>\n      <td>nando</td>\n      <td>1</td>\n      <td>0</td>\n      <td>False</td>\n      <td>False</td>\n      <td>None</td>\n      <td>None</td>\n      <td>None</td>\n    </tr>\n    <tr>\n      <th>449</th>\n      <td>public</td>\n      <td>ltcbtc_kline_1m_missed</td>\n      <td>nando</td>\n      <td>1</td>\n      <td>0</td>\n      <td>False</td>\n      <td>False</td>\n      <td>None</td>\n      <td>None</td>\n      <td>None</td>\n    </tr>\n    <tr>\n      <th>772</th>\n      <td>public</td>\n      <td>roninusdt_kline_1m_missed</td>\n      <td>nando</td>\n      <td>1</td>\n      <td>0</td>\n      <td>False</td>\n      <td>False</td>\n      <td>None</td>\n      <td>None</td>\n      <td>None</td>\n    </tr>\n    <tr>\n      <th>773</th>\n      <td>public</td>\n      <td>dymusdt_kline_1m_missed</td>\n      <td>nando</td>\n      <td>1</td>\n      <td>0</td>\n      <td>False</td>\n      <td>False</td>\n      <td>None</td>\n      <td>None</td>\n      <td>None</td>\n    </tr>\n  </tbody>\n</table>\n<p>774 rows × 10 columns</p>\n</div>"
     },
     "execution_count": 9,
     "metadata": {},
     "output_type": "execute_result"
    }
   ],
   "source": [
    "db.hypertable_info"
   ]
  },
  {
   "cell_type": "code",
   "execution_count": 10,
   "id": "2b4a3444",
   "metadata": {
    "ExecuteTime": {
     "end_time": "2024-02-17T17:51:32.200398Z",
     "start_time": "2024-02-17T17:51:32.104838600Z"
    }
   },
   "outputs": [
    {
     "data": {
      "text/plain": "['litusdt_kline_1m',\n 'badgerusdt_kline_1m',\n 'omusdt_kline_1m',\n 'tkousdt_kline_1m',\n 'barusdt_kline_1m',\n 'polsusdt_kline_1m',\n 'maskusdt_kline_1m',\n 'gftusdt_kline_1m',\n 'qntusdt_kline_1m',\n 'alpacausdt_kline_1m',\n 'requsdt_kline_1m',\n 'xecusdt_kline_1m',\n 'elfusdt_kline_1m',\n 'dydxusdt_kline_1m',\n 'galausdt_kline_1m',\n 'agldusdt_kline_1m',\n 'betausdt_kline_1m',\n 'chessusdt_kline_1m',\n 'adxusdt_kline_1m',\n 'ensusdt_kline_1m',\n 'kp3rusdt_kline_1m',\n 'qiusdt_kline_1m',\n 'jasmyusdt_kline_1m',\n 'ampusdt_kline_1m',\n 'alcxusdt_kline_1m',\n 'fxsusdt_kline_1m',\n 'voxelusdt_kline_1m',\n 'ookiusdt_kline_1m',\n 'glmrusdt_kline_1m',\n 'xvsusdt_kline_1m',\n 'aaveusdt_kline_1m',\n 'nearusdt_kline_1m',\n 'akrousdt_kline_1m',\n 'roseusdt_kline_1m',\n 'avausdt_kline_1m',\n 'sklusdt_kline_1m',\n 'grtusdt_kline_1m',\n 'juvusdt_kline_1m',\n 'psgusdt_kline_1m',\n 'ogusdt_kline_1m',\n 'asrusdt_kline_1m',\n 'rifusdt_kline_1m',\n 'truusdt_kline_1m',\n 'ckbusdt_kline_1m',\n 'twtusdt_kline_1m',\n 'linausdt_kline_1m',\n 'cfxusdt_kline_1m',\n 'forthusdt_kline_1m',\n 'bakeusdt_kline_1m',\n 'shibusdt_kline_1m',\n 'arusdt_kline_1m',\n 'lptusdt_kline_1m',\n 'gtcusdt_kline_1m',\n 'ernusdt_kline_1m',\n 'dentusdt_kline_1m',\n 'clvusdt_kline_1m',\n 'tvkusdt_kline_1m',\n 'rayusdt_kline_1m',\n 'mboxusdt_kline_1m',\n 'waxpusdt_kline_1m',\n 'vidtusdt_kline_1m',\n 'dfusdt_kline_1m',\n 'fidausdt_kline_1m',\n 'darusdt_kline_1m',\n 'portousdt_kline_1m',\n 'vgxusdt_kline_1m',\n 'plausdt_kline_1m',\n 'rndrusdt_kline_1m',\n 'mcusdt_kline_1m',\n 'slpusdt_kline_1m',\n 'fluxusdt_kline_1m',\n 'cvxusdt_kline_1m',\n 'scrtusdt_kline_1m',\n 'alpineusdt_kline_1m',\n 'gmtusdt_kline_1m',\n 'steemusdt_kline_1m',\n 'gmxusdt_kline_1m',\n 'polyxusdt_kline_1m',\n 'phbusdt_kline_1m',\n 'agixusdt_kline_1m',\n 'gnsusdt_kline_1m',\n 'lqtyusdt_kline_1m',\n 'gasusdt_kline_1m',\n 'arbusdt_kline_1m',\n 'wbtcusdt_kline_1m',\n 'eduusdt_kline_1m',\n 'astusdt_kline_1m',\n 'arkusdt_kline_1m',\n 'iqusdt_kline_1m',\n 'mobusdt_kline_1m',\n 'ldousdt_kline_1m',\n 'epxusdt_kline_1m',\n 'stgusdt_kline_1m',\n 'luncusdt_kline_1m',\n 'osmousdt_kline_1m',\n 'prosusdt_kline_1m',\n 'synusdt_kline_1m',\n 'ssvusdt_kline_1m',\n 'ambusdt_kline_1m',\n 'ustcusdt_kline_1m',\n 'idusdt_kline_1m',\n 'combousdt_kline_1m',\n 'wldusdt_kline_1m',\n 'fdusdusdt_kline_1m',\n 'seiusdt_kline_1m',\n 'creamusdt_kline_1m',\n 'injusdt_kline_1m',\n 'ctkusdt_kline_1m',\n 'celousdt_kline_1m',\n 'straxusdt_kline_1m',\n 'reefusdt_kline_1m',\n 'alphausdt_kline_1m',\n 'api3usdt_kline_1m',\n 'firousdt_kline_1m',\n 'sfpusdt_kline_1m',\n 'dodousdt_kline_1m',\n 'acmusdt_kline_1m',\n 'fisusdt_kline_1m',\n 'pondusdt_kline_1m',\n 'degousdt_kline_1m',\n 'burgerusdt_kline_1m',\n 'klayusdt_kline_1m',\n 'dexeusdt_kline_1m',\n 'c98usdt_kline_1m',\n 'flowusdt_kline_1m',\n 'gnousdt_kline_1m',\n 'bnbupusdt_kline_1m',\n 'idexusdt_kline_1m',\n 'yggusdt_kline_1m',\n 'frontusdt_kline_1m',\n 'cvpusdt_kline_1m',\n 'rareusdt_kline_1m',\n 'auctionusdt_kline_1m',\n 'bnxusdt_kline_1m',\n 'santosusdt_kline_1m',\n 'highusdt_kline_1m',\n 'spellusdt_kline_1m',\n 'joeusdt_kline_1m',\n 'acausdt_kline_1m',\n 'kdausdt_kline_1m',\n 'audiousdt_kline_1m',\n 'xemusdt_kline_1m',\n 'axsusdt_kline_1m',\n 'hardusdt_kline_1m',\n 't_1inchusdt_kline_1m',\n 'atmusdt_kline_1m',\n 'cakeusdt_kline_1m',\n 'aliceusdt_kline_1m',\n 'hotusdt_kline_1m',\n 'celrusdt_kline_1m',\n 'tfuelusdt_kline_1m',\n 'perpusdt_kline_1m',\n 'superusdt_kline_1m',\n 'pundixusdt_kline_1m',\n 'ftmusdt_kline_1m',\n 'ankrusdt_kline_1m',\n 'keyusdt_kline_1m',\n 'wanusdt_kline_1m',\n 'tlmusdt_kline_1m',\n 'chzusdt_kline_1m',\n 'icpusdt_kline_1m',\n 'mdxusdt_kline_1m',\n 'xvgusdt_kline_1m',\n 'atausdt_kline_1m',\n 'bandusdt_kline_1m',\n 'hbarusdt_kline_1m',\n 'stxusdt_kline_1m',\n 'kavausdt_kline_1m',\n 'rlcusdt_kline_1m',\n 'phausdt_kline_1m',\n 'bondusdt_kline_1m',\n 'mlnusdt_kline_1m',\n 'minausdt_kline_1m',\n 'farmusdt_kline_1m',\n 'quickusdt_kline_1m',\n 'forusdt_kline_1m',\n 'qtumusdt_kline_1m',\n 'ghstusdt_kline_1m',\n 'usdpusdt_kline_1m',\n 'ilvusdt_kline_1m',\n 'sysusdt_kline_1m',\n 'xrpusdt_kline_1m',\n 'radusdt_kline_1m',\n 'eosusdt_kline_1m',\n 'trxusdt_kline_1m',\n 'laziousdt_kline_1m',\n 'icxusdt_kline_1m',\n 'movrusdt_kline_1m',\n 'usdcusdt_kline_1m',\n 'cityusdt_kline_1m',\n 'powrusdt_kline_1m',\n 'ongusdt_kline_1m',\n 'bifiusdt_kline_1m',\n 'cotiusdt_kline_1m',\n 'bicousdt_kline_1m',\n 'pyrusdt_kline_1m',\n 'woousdt_kline_1m',\n 'tusdt_kline_1m',\n 'solusdt_kline_1m',\n 'astrusdt_kline_1m',\n 'peopleusdt_kline_1m',\n 'apeusdt_kline_1m',\n 'achusdt_kline_1m',\n 'nexousdt_kline_1m',\n 'imxusdt_kline_1m',\n 'lokausdt_kline_1m',\n 'bttcusdt_kline_1m',\n 'xnousdt_kline_1m',\n 'pntusdt_kline_1m',\n 'mkrusdt_kline_1m',\n 'multiusdt_kline_1m',\n 'reiusdt_kline_1m',\n 'storjusdt_kline_1m',\n 'galusdt_kline_1m',\n 'opusdt_kline_1m',\n 'magicusdt_kline_1m',\n 'hifiusdt_kline_1m',\n 'uftusdt_kline_1m',\n 'wbethusdt_kline_1m',\n 'leverusdt_kline_1m',\n 'bnbdownusdt_kline_1m',\n 'sushiusdt_kline_1m',\n 'btcusdt_kline_1m',\n 'ntrnusdt_kline_1m',\n 'iotausdt_kline_1m',\n 'blzusdt_kline_1m',\n 'bswusdt_kline_1m',\n 'sandusdt_kline_1m',\n 'suiusdt_kline_1m',\n 'ontusdt_kline_1m',\n 'oceanusdt_kline_1m',\n 'promusdt_kline_1m',\n 'dotusdt_kline_1m',\n 'trbusdt_kline_1m',\n 'loomusdt_kline_1m',\n 'aptusdt_kline_1m',\n 'oaxusdt_kline_1m',\n 'aergousdt_kline_1m',\n 'pepeusdt_kline_1m',\n 'sntusdt_kline_1m',\n 'arkmusdt_kline_1m',\n 'wavesusdt_kline_1m',\n 'rdntusdt_kline_1m',\n 'hftusdt_kline_1m',\n 'vibusdt_kline_1m',\n 'hookusdt_kline_1m',\n 'rplusdt_kline_1m',\n 'glmusdt_kline_1m',\n 'flokiusdt_kline_1m',\n 'mavusdt_kline_1m',\n 'pendleusdt_kline_1m',\n 'cyberusdt_kline_1m',\n 'fetusdt_kline_1m',\n 'dockusdt_kline_1m',\n 'qkcusdt_kline_1m',\n 'xmrusdt_kline_1m',\n 'zecusdt_kline_1m',\n 'dogeusdt_kline_1m',\n 'maticusdt_kline_1m',\n 'duskusdt_kline_1m',\n 'sxpusdt_kline_1m',\n 'funusdt_kline_1m',\n 'busdusdt_kline_1m',\n 'arpausdt_kline_1m',\n 'mblusdt_kline_1m',\n 'ognusdt_kline_1m',\n 'stptusdt_kline_1m',\n 'datausdt_kline_1m',\n 'ardrusdt_kline_1m',\n 'compusdt_kline_1m',\n 'snxusdt_kline_1m',\n 'ethupusdt_kline_1m',\n 'btcupusdt_kline_1m',\n 'dgbusdt_kline_1m',\n 'diausdt_kline_1m',\n 'oxtusdt_kline_1m',\n 'sunusdt_kline_1m',\n 'jstusdt_kline_1m',\n 'ornusdt_kline_1m',\n 'nmrusdt_kline_1m',\n 'utkusdt_kline_1m',\n 'paxgusdt_kline_1m',\n 'bnbusdt_kline_1m',\n 'ksmusdt_kline_1m',\n 'neousdt_kline_1m',\n 'xlmusdt_kline_1m',\n 'ltcusdt_kline_1m',\n 'nulsusdt_kline_1m',\n 'adausdt_kline_1m',\n 'batusdt_kline_1m',\n 'tusdusdt_kline_1m',\n 'iostusdt_kline_1m',\n 'xtzusdt_kline_1m',\n 'dashusdt_kline_1m',\n 'omgusdt_kline_1m',\n 'thetausdt_kline_1m',\n 'oneusdt_kline_1m',\n 'enjusdt_kline_1m',\n 'algousdt_kline_1m',\n 'perlusdt_kline_1m',\n 'cvcusdt_kline_1m',\n 'renusdt_kline_1m',\n 'ctxcusdt_kline_1m',\n 'ethusdt_kline_1m',\n 'ctsiusdt_kline_1m',\n 'scusdt_kline_1m',\n 'hiveusdt_kline_1m',\n 'chrusdt_kline_1m',\n 'stmxusdt_kline_1m',\n 'gbpusdt_kline_1m',\n 'viteusdt_kline_1m',\n 'fttusdt_kline_1m',\n 'drepusdt_kline_1m',\n 'etcusdt_kline_1m',\n 'wrxusdt_kline_1m',\n 'lskusdt_kline_1m',\n 'yfiusdt_kline_1m',\n 'balusdt_kline_1m',\n 'linkusdt_kline_1m',\n 'kmdusdt_kline_1m',\n 'crvusdt_kline_1m',\n 'umausdt_kline_1m',\n 'flmusdt_kline_1m',\n 'vetusdt_kline_1m',\n 'zilusdt_kline_1m',\n 'zrxusdt_kline_1m',\n 'atomusdt_kline_1m',\n 'rvnusdt_kline_1m',\n 'winusdt_kline_1m',\n 'cosusdt_kline_1m',\n 'mtlusdt_kline_1m',\n 'tomousdt_kline_1m',\n 'nknusdt_kline_1m',\n 'iotxusdt_kline_1m',\n 'troyusdt_kline_1m',\n 'lrcusdt_kline_1m',\n 'wtcusdt_kline_1m',\n 'btcdownusdt_kline_1m',\n 'eurusdt_kline_1m',\n 'mdtusdt_kline_1m',\n 'btsusdt_kline_1m',\n 'kncusdt_kline_1m',\n 'bntusdt_kline_1m',\n 'zenusdt_kline_1m',\n 'ltousdt_kline_1m',\n 'altusdt_kline_1m',\n 'vthousdt_kline_1m',\n 'dcrusdt_kline_1m',\n 'manausdt_kline_1m',\n 'irisusdt_kline_1m',\n 'antusdt_kline_1m',\n 'lunausdt_kline_1m',\n 'runeusdt_kline_1m',\n 'rsrusdt_kline_1m',\n 'wnxmusdt_kline_1m',\n 'egldusdt_kline_1m',\n 'fiousdt_kline_1m',\n 'belusdt_kline_1m',\n 'xaiusdt_kline_1m',\n 'mantausdt_kline_1m',\n 'ethdownusdt_kline_1m',\n 'wingusdt_kline_1m',\n 'uniusdt_kline_1m',\n 'avaxusdt_kline_1m',\n 'unfiusdt_kline_1m',\n 'filusdt_kline_1m',\n 'roninusdt_kline_1m',\n 'jupusdt_kline_1m',\n 'pythusdt_kline_1m',\n 'dymusdt_kline_1m',\n 'ltcbtc_kline_1m',\n 'tiausdt_kline_1m',\n 'memeusdt_kline_1m',\n 'pivxusdt_kline_1m',\n 'bchusdt_kline_1m',\n 'ordiusdt_kline_1m',\n 'beamxusdt_kline_1m',\n 'vicusdt_kline_1m',\n 'blurusdt_kline_1m',\n 'bonkusdt_kline_1m',\n 'aceusdt_kline_1m',\n 'vanryusdt_kline_1m',\n 'aeurusdt_kline_1m',\n 'jtousdt_kline_1m',\n 't_1000satsusdt_kline_1m',\n 'nfpusdt_kline_1m',\n 'aiusdt_kline_1m']"
     },
     "execution_count": 10,
     "metadata": {},
     "output_type": "execute_result"
    }
   ],
   "source": [
    "tables = db.get_tables(table_type=\"kline_1m\")\n",
    "tables"
   ]
  },
  {
   "cell_type": "code",
   "execution_count": 11,
   "id": "565bb800",
   "metadata": {
    "ExecuteTime": {
     "end_time": "2024-02-17T17:51:43.704082300Z",
     "start_time": "2024-02-17T17:51:32.145399900Z"
    }
   },
   "outputs": [
    {
     "data": {
      "text/plain": "btcusdt_kline_1m      3375956\nethusdt_kline_1m      3373600\nbnbusdt_kline_1m      3264968\nneousdt_kline_1m      3246713\nltcusdt_kline_1m      3222696\n                       ...   \njupusdt_kline_1m        21161\npythusdt_kline_1m       19863\nroninusdt_kline_1m      15239\ndymusdt_kline_1m        15149\nltcbtc_kline_1m           113\nLength: 387, dtype: int64"
     },
     "execution_count": 11,
     "metadata": {},
     "output_type": "execute_result"
    }
   ],
   "source": [
    "table_counts = db.get_table_counts()\n",
    "table_counts"
   ]
  },
  {
   "cell_type": "code",
   "execution_count": 12,
   "id": "7b335ab9",
   "metadata": {
    "ExecuteTime": {
     "end_time": "2024-02-17T17:51:43.706081200Z",
     "start_time": "2024-02-17T17:51:43.694805500Z"
    }
   },
   "outputs": [
    {
     "data": {
      "text/plain": "btcusdt_kline_1m      3375956\nethusdt_kline_1m      3373600\nbnbusdt_kline_1m      3264968\nneousdt_kline_1m      3246713\nltcusdt_kline_1m      3222696\n                       ...   \njupusdt_kline_1m        21161\npythusdt_kline_1m       19863\nroninusdt_kline_1m      15239\ndymusdt_kline_1m        15149\nltcbtc_kline_1m           113\nLength: 387, dtype: int64"
     },
     "execution_count": 12,
     "metadata": {},
     "output_type": "execute_result"
    }
   ],
   "source": [
    "ser = pd.Series(table_counts)\n",
    "ser.sort_values(ascending=False, inplace=True)\n",
    "ser"
   ]
  },
  {
   "cell_type": "code",
   "execution_count": 13,
   "id": "6d3b9203",
   "metadata": {
    "ExecuteTime": {
     "end_time": "2024-02-17T17:51:43.736121500Z",
     "start_time": "2024-02-17T17:51:43.702083400Z"
    }
   },
   "outputs": [
    {
     "data": {
      "text/plain": "'btcusdt_kline_1m'"
     },
     "execution_count": 13,
     "metadata": {},
     "output_type": "execute_result"
    }
   ],
   "source": [
    "table = ser.index[0]\n",
    "table"
   ]
  },
  {
   "cell_type": "code",
   "execution_count": 14,
   "id": "718cc0cb",
   "metadata": {
    "ExecuteTime": {
     "end_time": "2024-02-17T17:51:43.756758200Z",
     "start_time": "2024-02-17T17:51:43.721124Z"
    }
   },
   "outputs": [
    {
     "data": {
      "text/plain": "['time',\n 'close_timestamp',\n 'first_trade_id',\n 'last_trade_id',\n 'open',\n 'close',\n 'high',\n 'low',\n 'volume',\n 'trades',\n 'quote_volume',\n 'taker_buy_base_volume',\n 'taker_buy_quote_volume']"
     },
     "execution_count": 14,
     "metadata": {},
     "output_type": "execute_result"
    }
   ],
   "source": [
    "db.get_columns(table_name=table)"
   ]
  },
  {
   "cell_type": "code",
   "execution_count": 15,
   "id": "9632ef99",
   "metadata": {
    "ExecuteTime": {
     "end_time": "2024-02-17T17:51:43.757758900Z",
     "start_time": "2024-02-17T17:51:43.751758600Z"
    }
   },
   "outputs": [],
   "source": [
    "symbol = table.split(\"_\")[0]\n",
    "tick_interval = table.split(\"_\")[-1]"
   ]
  },
  {
   "cell_type": "code",
   "execution_count": 16,
   "id": "8c00700b",
   "metadata": {
    "ExecuteTime": {
     "end_time": "2024-02-17T17:51:51.961322Z",
     "start_time": "2024-02-17T17:51:43.756758200Z"
    }
   },
   "outputs": [
    {
     "name": "stderr",
     "output_type": "stream",
     "text": [
      "2024-02-17\t 18:51:43     INFO Postgres connection requested as str: 192.168.89.211\n",
      "2024-02-17\t 18:51:44     INFO Getting data from table btcusdt_kline_1m from 2023-02-17 12:51:43 to 2024-02-17 18:50:58\n",
      "2024-02-17\t 18:51:51  WARNING BinPan Warning: Dataframe has gaps in klines continuity: \n",
      "                                     Open timestamp                  Close timestamp             Gap length\n",
      "BTCUSDT 1m Europe/Madrid                                                                                   \n",
      "2023-03-24 15:00:00+01:00 2023-03-24 15:00:00+01:00 2023-03-24 15:00:59.999000+01:00 0 days 00:00:59.999000\n",
      "2023-10-24 09:38:00+02:00 2023-10-24 09:38:00+02:00 2023-10-24 09:38:59.999000+02:00 0 days 00:00:59.999000\n",
      "2023-10-24 11:16:00+02:00 2023-10-24 11:16:00+02:00 2023-10-24 11:16:59.999000+02:00 0 days 00:00:59.999000\n",
      "2023-10-24 16:03:00+02:00 2023-10-24 16:03:00+02:00 2023-10-24 16:03:59.999000+02:00 0 days 00:00:59.999000\n",
      "2023-10-24 16:05:00+02:00 2023-10-24 16:05:00+02:00 2023-10-24 16:05:59.999000+02:00 0 days 00:00:59.999000\n",
      "...                                             ...                              ...                    ...\n",
      "2023-11-16 07:03:00+01:00 2023-11-16 07:03:00+01:00 2023-11-16 07:03:59.999000+01:00 0 days 00:00:59.999000\n",
      "2023-11-16 07:07:00+01:00 2023-11-16 07:07:00+01:00 2023-11-16 07:07:59.999000+01:00 0 days 00:00:59.999000\n",
      "2023-11-20 17:48:00+01:00 2023-11-20 17:48:00+01:00 2023-11-20 17:48:59.999000+01:00 0 days 00:00:59.999000\n",
      "2023-11-24 10:14:00+01:00 2023-11-24 10:14:00+01:00 2023-11-24 10:14:59.999000+01:00 0 days 00:00:59.999000\n",
      "2023-12-18 19:32:00+01:00 2023-12-18 19:32:00+01:00 2023-12-18 19:32:59.999000+01:00 0 days 00:00:59.999000\n",
      "\n",
      "[28 rows x 3 columns]\n",
      "2024-02-17\t 18:51:51     INFO Please, repair the dataframe with the function 'repair_continuity' method or 'repair_kline_discontinuity' function from 'auxiliar.py'.\n"
     ]
    }
   ],
   "source": [
    "sym = binpan.Symbol(symbol=symbol,\n",
    "                    tick_interval=\"1m\",\n",
    "                    time_zone='Europe/Madrid',\n",
    "                    hours=8766,\n",
    "                    postgres_klines=\"192.168.89.211\")"
   ]
  },
  {
   "cell_type": "code",
   "execution_count": 17,
   "id": "a814be76",
   "metadata": {
    "ExecuteTime": {
     "end_time": "2024-02-17T17:51:51.962323600Z",
     "start_time": "2024-02-17T17:51:51.957069800Z"
    }
   },
   "outputs": [
    {
     "data": {
      "text/plain": "pandas.core.indexes.datetimes.DatetimeIndex"
     },
     "execution_count": 17,
     "metadata": {},
     "output_type": "execute_result"
    }
   ],
   "source": [
    "type(sym.df.index)"
   ]
  },
  {
   "cell_type": "code",
   "execution_count": 18,
   "id": "9a62a263",
   "metadata": {
    "ExecuteTime": {
     "end_time": "2024-02-17T17:51:51.983248100Z",
     "start_time": "2024-02-17T17:51:51.963322900Z"
    }
   },
   "outputs": [
    {
     "data": {
      "text/plain": "                                     Open timestamp                  Close timestamp             Gap length\nBTCUSDT 1m Europe/Madrid                                                                                   \n2023-03-24 15:00:00+01:00 2023-03-24 15:00:00+01:00 2023-03-24 15:00:59.999000+01:00 0 days 00:00:59.999000\n2023-10-24 09:38:00+02:00 2023-10-24 09:38:00+02:00 2023-10-24 09:38:59.999000+02:00 0 days 00:00:59.999000\n2023-10-24 11:16:00+02:00 2023-10-24 11:16:00+02:00 2023-10-24 11:16:59.999000+02:00 0 days 00:00:59.999000\n2023-10-24 16:03:00+02:00 2023-10-24 16:03:00+02:00 2023-10-24 16:03:59.999000+02:00 0 days 00:00:59.999000\n2023-10-24 16:05:00+02:00 2023-10-24 16:05:00+02:00 2023-10-24 16:05:59.999000+02:00 0 days 00:00:59.999000\n...                                             ...                              ...                    ...\n2023-11-16 07:03:00+01:00 2023-11-16 07:03:00+01:00 2023-11-16 07:03:59.999000+01:00 0 days 00:00:59.999000\n2023-11-16 07:07:00+01:00 2023-11-16 07:07:00+01:00 2023-11-16 07:07:59.999000+01:00 0 days 00:00:59.999000\n2023-11-20 17:48:00+01:00 2023-11-20 17:48:00+01:00 2023-11-20 17:48:59.999000+01:00 0 days 00:00:59.999000\n2023-11-24 10:14:00+01:00 2023-11-24 10:14:00+01:00 2023-11-24 10:14:59.999000+01:00 0 days 00:00:59.999000\n2023-12-18 19:32:00+01:00 2023-12-18 19:32:00+01:00 2023-12-18 19:32:59.999000+01:00 0 days 00:00:59.999000\n\n[28 rows x 3 columns]",
      "text/html": "<div>\n<style scoped>\n    .dataframe tbody tr th:only-of-type {\n        vertical-align: middle;\n    }\n\n    .dataframe tbody tr th {\n        vertical-align: top;\n    }\n\n    .dataframe thead th {\n        text-align: right;\n    }\n</style>\n<table border=\"1\" class=\"dataframe\">\n  <thead>\n    <tr style=\"text-align: right;\">\n      <th></th>\n      <th>Open timestamp</th>\n      <th>Close timestamp</th>\n      <th>Gap length</th>\n    </tr>\n    <tr>\n      <th>BTCUSDT 1m Europe/Madrid</th>\n      <th></th>\n      <th></th>\n      <th></th>\n    </tr>\n  </thead>\n  <tbody>\n    <tr>\n      <th>2023-03-24 15:00:00+01:00</th>\n      <td>2023-03-24 15:00:00+01:00</td>\n      <td>2023-03-24 15:00:59.999000+01:00</td>\n      <td>0 days 00:00:59.999000</td>\n    </tr>\n    <tr>\n      <th>2023-10-24 09:38:00+02:00</th>\n      <td>2023-10-24 09:38:00+02:00</td>\n      <td>2023-10-24 09:38:59.999000+02:00</td>\n      <td>0 days 00:00:59.999000</td>\n    </tr>\n    <tr>\n      <th>2023-10-24 11:16:00+02:00</th>\n      <td>2023-10-24 11:16:00+02:00</td>\n      <td>2023-10-24 11:16:59.999000+02:00</td>\n      <td>0 days 00:00:59.999000</td>\n    </tr>\n    <tr>\n      <th>2023-10-24 16:03:00+02:00</th>\n      <td>2023-10-24 16:03:00+02:00</td>\n      <td>2023-10-24 16:03:59.999000+02:00</td>\n      <td>0 days 00:00:59.999000</td>\n    </tr>\n    <tr>\n      <th>2023-10-24 16:05:00+02:00</th>\n      <td>2023-10-24 16:05:00+02:00</td>\n      <td>2023-10-24 16:05:59.999000+02:00</td>\n      <td>0 days 00:00:59.999000</td>\n    </tr>\n    <tr>\n      <th>...</th>\n      <td>...</td>\n      <td>...</td>\n      <td>...</td>\n    </tr>\n    <tr>\n      <th>2023-11-16 07:03:00+01:00</th>\n      <td>2023-11-16 07:03:00+01:00</td>\n      <td>2023-11-16 07:03:59.999000+01:00</td>\n      <td>0 days 00:00:59.999000</td>\n    </tr>\n    <tr>\n      <th>2023-11-16 07:07:00+01:00</th>\n      <td>2023-11-16 07:07:00+01:00</td>\n      <td>2023-11-16 07:07:59.999000+01:00</td>\n      <td>0 days 00:00:59.999000</td>\n    </tr>\n    <tr>\n      <th>2023-11-20 17:48:00+01:00</th>\n      <td>2023-11-20 17:48:00+01:00</td>\n      <td>2023-11-20 17:48:59.999000+01:00</td>\n      <td>0 days 00:00:59.999000</td>\n    </tr>\n    <tr>\n      <th>2023-11-24 10:14:00+01:00</th>\n      <td>2023-11-24 10:14:00+01:00</td>\n      <td>2023-11-24 10:14:59.999000+01:00</td>\n      <td>0 days 00:00:59.999000</td>\n    </tr>\n    <tr>\n      <th>2023-12-18 19:32:00+01:00</th>\n      <td>2023-12-18 19:32:00+01:00</td>\n      <td>2023-12-18 19:32:59.999000+01:00</td>\n      <td>0 days 00:00:59.999000</td>\n    </tr>\n  </tbody>\n</table>\n<p>28 rows × 3 columns</p>\n</div>"
     },
     "execution_count": 18,
     "metadata": {},
     "output_type": "execute_result"
    }
   ],
   "source": [
    "sym.discontinuities"
   ]
  },
  {
   "cell_type": "code",
   "execution_count": 19,
   "id": "fa401762",
   "metadata": {
    "ExecuteTime": {
     "end_time": "2024-02-17T17:51:52.989222400Z",
     "start_time": "2024-02-17T17:51:51.976248800Z"
    }
   },
   "outputs": [
    {
     "name": "stderr",
     "output_type": "stream",
     "text": [
      "2024-02-17\t 18:51:51     INFO Repairing kline discontinuity with selective ffill...\n",
      "2024-02-17\t 18:51:52     INFO Common interval found: 60000 ms. Inserting 107 missing rows...\n",
      "E:\\PycharmProjects\\binpan_studio\\binpan\\auxiliar.py:252: FutureWarning: The behavior of DataFrame concatenation with empty or all-NA entries is deprecated. In a future version, this will no longer exclude empty or all-NA columns when determining the result dtypes. To retain the old behavior, exclude the relevant entries before the concat operation.\n",
      "  df_copy = pd.concat([df_copy, df_], axis=0, ignore_index=False)\n",
      "2024-02-17\t 18:51:52     INFO Filling missing values...\n",
      "2024-02-17\t 18:51:52     INFO Klines continuity verification after repair\n",
      "2024-02-17\t 18:51:52     INFO Klines continuity OK\n"
     ]
    }
   ],
   "source": [
    "sym.repair_continuity()"
   ]
  },
  {
   "cell_type": "code",
   "execution_count": 20,
   "id": "42222598",
   "metadata": {
    "ExecuteTime": {
     "end_time": "2024-02-17T17:51:53.006220700Z",
     "start_time": "2024-02-17T17:51:52.990221900Z"
    }
   },
   "outputs": [
    {
     "data": {
      "text/plain": "pandas.core.indexes.datetimes.DatetimeIndex"
     },
     "execution_count": 20,
     "metadata": {},
     "output_type": "execute_result"
    }
   ],
   "source": [
    "type(sym.df.index)"
   ]
  },
  {
   "cell_type": "code",
   "execution_count": 21,
   "id": "60af5267",
   "metadata": {
    "ExecuteTime": {
     "end_time": "2024-02-17T17:51:53.029138100Z",
     "start_time": "2024-02-17T17:51:52.997222600Z"
    }
   },
   "outputs": [
    {
     "data": {
      "text/plain": "                                          Open time      Open      High       Low     Close     Volume                       Close time  Quote volume  Trades  Taker buy base volume  Taker buy quote volume  Open timestamp  Close timestamp  First TradeId  Last TradeId\nBTCUSDT 1m Europe/Madrid                                                                                                                                                                                                                                                  \n2023-02-17 12:52:00+01:00 2023-02-17 12:52:00+01:00  23792.61  23797.10  23786.70  23794.20  171.56825 2023-02-17 12:52:59.999000+01:00  4.081898e+06    4997               93.98967            2.236213e+06   1676634720000    1676634779999            NaN           NaN\n2023-02-17 12:53:00+01:00 2023-02-17 12:53:00+01:00  23794.20  23808.59  23792.23  23802.47  230.25425 2023-02-17 12:53:59.999000+01:00  5.480201e+06    5719              133.05510            3.166789e+06   1676634780000    1676634839999            NaN           NaN\n2023-02-17 12:54:00+01:00 2023-02-17 12:54:00+01:00  23802.47  23803.75  23785.32  23787.18  217.70045 2023-02-17 12:54:59.999000+01:00  5.180153e+06    5290               89.61602            2.132487e+06   1676634840000    1676634899999            NaN           NaN\n2023-02-17 12:55:00+01:00 2023-02-17 12:55:00+01:00  23787.18  23794.59  23783.18  23785.04  149.11081 2023-02-17 12:55:59.999000+01:00  3.547031e+06    5197               76.41334            1.817744e+06   1676634900000    1676634959999            NaN           NaN\n2023-02-17 12:56:00+01:00 2023-02-17 12:56:00+01:00  23785.77  23792.34  23772.25  23781.44  315.78988 2023-02-17 12:56:59.999000+01:00  7.510036e+06    6778              148.30957            3.527075e+06   1676634960000    1676635019999            NaN           NaN\n...                                             ...       ...       ...       ...       ...        ...                              ...           ...     ...                    ...                     ...             ...              ...            ...           ...\n2024-02-17 18:46:00+01:00 2024-02-17 18:46:00+01:00  51193.33  51240.70  51193.33  51193.92   30.94426 2024-02-17 18:46:59.999000+01:00  1.584948e+06    2576               18.07997            9.259826e+05   1708191960000    1708192019999   3.422095e+09  3.422098e+09\n2024-02-17 18:47:00+01:00 2024-02-17 18:47:00+01:00  51193.91  51221.10  51193.91  51221.10   14.35392 2024-02-17 18:47:59.999000+01:00  7.349809e+05     875               10.29438            5.271162e+05   1708192020000    1708192079999   3.422098e+09  3.422099e+09\n2024-02-17 18:48:00+01:00 2024-02-17 18:48:00+01:00  51221.09  51241.10  51208.89  51241.09   17.37808 2024-02-17 18:48:59.999000+01:00  8.902124e+05    1275               12.50926            6.408277e+05   1708192080000    1708192139999   3.422099e+09  3.422100e+09\n2024-02-17 18:49:00+01:00 2024-02-17 18:49:00+01:00  51241.10  51259.17  51241.09  51254.60   27.18186 2024-02-17 18:49:59.999000+01:00  1.393056e+06    1221               19.47885            9.982574e+05   1708192140000    1708192199999   3.422100e+09  3.422101e+09\n2024-02-17 18:50:00+01:00 2024-02-17 18:50:00+01:00  51254.60  51254.61  51221.80  51238.10   22.34637 2024-02-17 18:50:59.999000+01:00  1.145101e+06     990                7.39315            3.787874e+05   1708192200000    1708192259999   3.422101e+09  3.422102e+09\n\n[525959 rows x 15 columns]",
      "text/html": "<div>\n<style scoped>\n    .dataframe tbody tr th:only-of-type {\n        vertical-align: middle;\n    }\n\n    .dataframe tbody tr th {\n        vertical-align: top;\n    }\n\n    .dataframe thead th {\n        text-align: right;\n    }\n</style>\n<table border=\"1\" class=\"dataframe\">\n  <thead>\n    <tr style=\"text-align: right;\">\n      <th></th>\n      <th>Open time</th>\n      <th>Open</th>\n      <th>High</th>\n      <th>Low</th>\n      <th>Close</th>\n      <th>Volume</th>\n      <th>Close time</th>\n      <th>Quote volume</th>\n      <th>Trades</th>\n      <th>Taker buy base volume</th>\n      <th>Taker buy quote volume</th>\n      <th>Open timestamp</th>\n      <th>Close timestamp</th>\n      <th>First TradeId</th>\n      <th>Last TradeId</th>\n    </tr>\n    <tr>\n      <th>BTCUSDT 1m Europe/Madrid</th>\n      <th></th>\n      <th></th>\n      <th></th>\n      <th></th>\n      <th></th>\n      <th></th>\n      <th></th>\n      <th></th>\n      <th></th>\n      <th></th>\n      <th></th>\n      <th></th>\n      <th></th>\n      <th></th>\n      <th></th>\n    </tr>\n  </thead>\n  <tbody>\n    <tr>\n      <th>2023-02-17 12:52:00+01:00</th>\n      <td>2023-02-17 12:52:00+01:00</td>\n      <td>23792.61</td>\n      <td>23797.10</td>\n      <td>23786.70</td>\n      <td>23794.20</td>\n      <td>171.56825</td>\n      <td>2023-02-17 12:52:59.999000+01:00</td>\n      <td>4.081898e+06</td>\n      <td>4997</td>\n      <td>93.98967</td>\n      <td>2.236213e+06</td>\n      <td>1676634720000</td>\n      <td>1676634779999</td>\n      <td>NaN</td>\n      <td>NaN</td>\n    </tr>\n    <tr>\n      <th>2023-02-17 12:53:00+01:00</th>\n      <td>2023-02-17 12:53:00+01:00</td>\n      <td>23794.20</td>\n      <td>23808.59</td>\n      <td>23792.23</td>\n      <td>23802.47</td>\n      <td>230.25425</td>\n      <td>2023-02-17 12:53:59.999000+01:00</td>\n      <td>5.480201e+06</td>\n      <td>5719</td>\n      <td>133.05510</td>\n      <td>3.166789e+06</td>\n      <td>1676634780000</td>\n      <td>1676634839999</td>\n      <td>NaN</td>\n      <td>NaN</td>\n    </tr>\n    <tr>\n      <th>2023-02-17 12:54:00+01:00</th>\n      <td>2023-02-17 12:54:00+01:00</td>\n      <td>23802.47</td>\n      <td>23803.75</td>\n      <td>23785.32</td>\n      <td>23787.18</td>\n      <td>217.70045</td>\n      <td>2023-02-17 12:54:59.999000+01:00</td>\n      <td>5.180153e+06</td>\n      <td>5290</td>\n      <td>89.61602</td>\n      <td>2.132487e+06</td>\n      <td>1676634840000</td>\n      <td>1676634899999</td>\n      <td>NaN</td>\n      <td>NaN</td>\n    </tr>\n    <tr>\n      <th>2023-02-17 12:55:00+01:00</th>\n      <td>2023-02-17 12:55:00+01:00</td>\n      <td>23787.18</td>\n      <td>23794.59</td>\n      <td>23783.18</td>\n      <td>23785.04</td>\n      <td>149.11081</td>\n      <td>2023-02-17 12:55:59.999000+01:00</td>\n      <td>3.547031e+06</td>\n      <td>5197</td>\n      <td>76.41334</td>\n      <td>1.817744e+06</td>\n      <td>1676634900000</td>\n      <td>1676634959999</td>\n      <td>NaN</td>\n      <td>NaN</td>\n    </tr>\n    <tr>\n      <th>2023-02-17 12:56:00+01:00</th>\n      <td>2023-02-17 12:56:00+01:00</td>\n      <td>23785.77</td>\n      <td>23792.34</td>\n      <td>23772.25</td>\n      <td>23781.44</td>\n      <td>315.78988</td>\n      <td>2023-02-17 12:56:59.999000+01:00</td>\n      <td>7.510036e+06</td>\n      <td>6778</td>\n      <td>148.30957</td>\n      <td>3.527075e+06</td>\n      <td>1676634960000</td>\n      <td>1676635019999</td>\n      <td>NaN</td>\n      <td>NaN</td>\n    </tr>\n    <tr>\n      <th>...</th>\n      <td>...</td>\n      <td>...</td>\n      <td>...</td>\n      <td>...</td>\n      <td>...</td>\n      <td>...</td>\n      <td>...</td>\n      <td>...</td>\n      <td>...</td>\n      <td>...</td>\n      <td>...</td>\n      <td>...</td>\n      <td>...</td>\n      <td>...</td>\n      <td>...</td>\n    </tr>\n    <tr>\n      <th>2024-02-17 18:46:00+01:00</th>\n      <td>2024-02-17 18:46:00+01:00</td>\n      <td>51193.33</td>\n      <td>51240.70</td>\n      <td>51193.33</td>\n      <td>51193.92</td>\n      <td>30.94426</td>\n      <td>2024-02-17 18:46:59.999000+01:00</td>\n      <td>1.584948e+06</td>\n      <td>2576</td>\n      <td>18.07997</td>\n      <td>9.259826e+05</td>\n      <td>1708191960000</td>\n      <td>1708192019999</td>\n      <td>3.422095e+09</td>\n      <td>3.422098e+09</td>\n    </tr>\n    <tr>\n      <th>2024-02-17 18:47:00+01:00</th>\n      <td>2024-02-17 18:47:00+01:00</td>\n      <td>51193.91</td>\n      <td>51221.10</td>\n      <td>51193.91</td>\n      <td>51221.10</td>\n      <td>14.35392</td>\n      <td>2024-02-17 18:47:59.999000+01:00</td>\n      <td>7.349809e+05</td>\n      <td>875</td>\n      <td>10.29438</td>\n      <td>5.271162e+05</td>\n      <td>1708192020000</td>\n      <td>1708192079999</td>\n      <td>3.422098e+09</td>\n      <td>3.422099e+09</td>\n    </tr>\n    <tr>\n      <th>2024-02-17 18:48:00+01:00</th>\n      <td>2024-02-17 18:48:00+01:00</td>\n      <td>51221.09</td>\n      <td>51241.10</td>\n      <td>51208.89</td>\n      <td>51241.09</td>\n      <td>17.37808</td>\n      <td>2024-02-17 18:48:59.999000+01:00</td>\n      <td>8.902124e+05</td>\n      <td>1275</td>\n      <td>12.50926</td>\n      <td>6.408277e+05</td>\n      <td>1708192080000</td>\n      <td>1708192139999</td>\n      <td>3.422099e+09</td>\n      <td>3.422100e+09</td>\n    </tr>\n    <tr>\n      <th>2024-02-17 18:49:00+01:00</th>\n      <td>2024-02-17 18:49:00+01:00</td>\n      <td>51241.10</td>\n      <td>51259.17</td>\n      <td>51241.09</td>\n      <td>51254.60</td>\n      <td>27.18186</td>\n      <td>2024-02-17 18:49:59.999000+01:00</td>\n      <td>1.393056e+06</td>\n      <td>1221</td>\n      <td>19.47885</td>\n      <td>9.982574e+05</td>\n      <td>1708192140000</td>\n      <td>1708192199999</td>\n      <td>3.422100e+09</td>\n      <td>3.422101e+09</td>\n    </tr>\n    <tr>\n      <th>2024-02-17 18:50:00+01:00</th>\n      <td>2024-02-17 18:50:00+01:00</td>\n      <td>51254.60</td>\n      <td>51254.61</td>\n      <td>51221.80</td>\n      <td>51238.10</td>\n      <td>22.34637</td>\n      <td>2024-02-17 18:50:59.999000+01:00</td>\n      <td>1.145101e+06</td>\n      <td>990</td>\n      <td>7.39315</td>\n      <td>3.787874e+05</td>\n      <td>1708192200000</td>\n      <td>1708192259999</td>\n      <td>3.422101e+09</td>\n      <td>3.422102e+09</td>\n    </tr>\n  </tbody>\n</table>\n<p>525959 rows × 15 columns</p>\n</div>"
     },
     "execution_count": 21,
     "metadata": {},
     "output_type": "execute_result"
    }
   ],
   "source": [
    "df = sym.df\n",
    "df"
   ]
  },
  {
   "cell_type": "code",
   "execution_count": 22,
   "id": "6915be60",
   "metadata": {
    "ExecuteTime": {
     "end_time": "2024-02-17T17:51:53.238831300Z",
     "start_time": "2024-02-17T17:51:53.021138600Z"
    }
   },
   "outputs": [
    {
     "name": "stderr",
     "output_type": "stream",
     "text": [
      "2024-02-17\t 18:51:53     INFO Resampling BTCUSDT from 1m to 30m\n"
     ]
    },
    {
     "data": {
      "text/plain": "                                          Open time      Open      High       Low     Close      Volume                       Close time  Quote volume  Trades  Taker buy base volume  Taker buy quote volume  Open timestamp  Close timestamp\nBTCUSDT 30m Europe/Madrid                                                                                                                                                                                                                     \n2023-02-17 12:30:00+01:00 2023-02-17 12:52:00+01:00  23792.61  23808.59  23772.25  23789.82  1495.49748 2023-02-17 12:59:59.999000+01:00  3.557775e+07   39940              748.12673            1.779825e+07   1676634720000    1676635199999\n2023-02-17 13:00:00+01:00 2023-02-17 13:00:00+01:00  23789.12  23837.45  23766.62  23816.26  5598.70590 2023-02-17 13:29:59.999000+01:00  1.332855e+08  153415             2810.08518            6.689985e+07   1676635200000    1676636999999\n2023-02-17 13:30:00+01:00 2023-02-17 13:30:00+01:00  23817.04  23909.87  23805.31  23869.46  7435.98214 2023-02-17 13:59:59.999000+01:00  1.774204e+08  182622             3790.34221            9.043614e+07   1676637000000    1676638799999\n2023-02-17 14:00:00+01:00 2023-02-17 14:00:00+01:00  23870.38  23888.96  23772.63  23803.29  7567.29852 2023-02-17 14:29:59.999000+01:00  1.804261e+08  183837             3644.86303            8.690829e+07   1676638800000    1676640599999\n2023-02-17 14:30:00+01:00 2023-02-17 14:30:00+01:00  23803.29  23820.35  23753.00  23782.23  6295.59562 2023-02-17 14:59:59.999000+01:00  1.497650e+08  159098             3080.72789            7.329048e+07   1676640600000    1676642399999\n...                                             ...       ...       ...       ...       ...         ...                              ...           ...     ...                    ...                     ...             ...              ...\n2024-02-17 16:30:00+01:00 2024-02-17 16:30:00+01:00  50987.99  51174.04  50941.17  50984.56  1048.25316 2024-02-17 16:59:59.999000+01:00  5.351675e+07   79516              559.57951            2.856684e+07   1708183800000    1708185599999\n2024-02-17 17:00:00+01:00 2024-02-17 17:00:00+01:00  50984.56  50984.56  50741.10  50825.97   764.35131 2024-02-17 17:29:59.999000+01:00  3.885928e+07   39501              357.60219            1.817890e+07   1708185600000    1708187399999\n2024-02-17 17:30:00+01:00 2024-02-17 17:30:00+01:00  50825.98  51027.15  50754.70  50951.25   586.75788 2024-02-17 17:59:59.999000+01:00  2.987023e+07   39945              356.47354            1.814950e+07   1708187400000    1708189199999\n2024-02-17 18:00:00+01:00 2024-02-17 18:00:00+01:00  50951.26  51228.85  50944.67  51077.11   832.59169 2024-02-17 18:29:59.999000+01:00  4.257647e+07   65090              485.23076            2.481153e+07   1708189200000    1708190999999\n2024-02-17 18:30:00+01:00 2024-02-17 18:30:00+01:00  51077.12  51259.17  51058.06  51238.10   444.09738 2024-02-17 18:50:59.999000+01:00  2.272556e+07   26357              288.75387            1.477593e+07   1708191000000    1708192259999\n\n[17533 rows x 13 columns]",
      "text/html": "<div>\n<style scoped>\n    .dataframe tbody tr th:only-of-type {\n        vertical-align: middle;\n    }\n\n    .dataframe tbody tr th {\n        vertical-align: top;\n    }\n\n    .dataframe thead th {\n        text-align: right;\n    }\n</style>\n<table border=\"1\" class=\"dataframe\">\n  <thead>\n    <tr style=\"text-align: right;\">\n      <th></th>\n      <th>Open time</th>\n      <th>Open</th>\n      <th>High</th>\n      <th>Low</th>\n      <th>Close</th>\n      <th>Volume</th>\n      <th>Close time</th>\n      <th>Quote volume</th>\n      <th>Trades</th>\n      <th>Taker buy base volume</th>\n      <th>Taker buy quote volume</th>\n      <th>Open timestamp</th>\n      <th>Close timestamp</th>\n    </tr>\n    <tr>\n      <th>BTCUSDT 30m Europe/Madrid</th>\n      <th></th>\n      <th></th>\n      <th></th>\n      <th></th>\n      <th></th>\n      <th></th>\n      <th></th>\n      <th></th>\n      <th></th>\n      <th></th>\n      <th></th>\n      <th></th>\n      <th></th>\n    </tr>\n  </thead>\n  <tbody>\n    <tr>\n      <th>2023-02-17 12:30:00+01:00</th>\n      <td>2023-02-17 12:52:00+01:00</td>\n      <td>23792.61</td>\n      <td>23808.59</td>\n      <td>23772.25</td>\n      <td>23789.82</td>\n      <td>1495.49748</td>\n      <td>2023-02-17 12:59:59.999000+01:00</td>\n      <td>3.557775e+07</td>\n      <td>39940</td>\n      <td>748.12673</td>\n      <td>1.779825e+07</td>\n      <td>1676634720000</td>\n      <td>1676635199999</td>\n    </tr>\n    <tr>\n      <th>2023-02-17 13:00:00+01:00</th>\n      <td>2023-02-17 13:00:00+01:00</td>\n      <td>23789.12</td>\n      <td>23837.45</td>\n      <td>23766.62</td>\n      <td>23816.26</td>\n      <td>5598.70590</td>\n      <td>2023-02-17 13:29:59.999000+01:00</td>\n      <td>1.332855e+08</td>\n      <td>153415</td>\n      <td>2810.08518</td>\n      <td>6.689985e+07</td>\n      <td>1676635200000</td>\n      <td>1676636999999</td>\n    </tr>\n    <tr>\n      <th>2023-02-17 13:30:00+01:00</th>\n      <td>2023-02-17 13:30:00+01:00</td>\n      <td>23817.04</td>\n      <td>23909.87</td>\n      <td>23805.31</td>\n      <td>23869.46</td>\n      <td>7435.98214</td>\n      <td>2023-02-17 13:59:59.999000+01:00</td>\n      <td>1.774204e+08</td>\n      <td>182622</td>\n      <td>3790.34221</td>\n      <td>9.043614e+07</td>\n      <td>1676637000000</td>\n      <td>1676638799999</td>\n    </tr>\n    <tr>\n      <th>2023-02-17 14:00:00+01:00</th>\n      <td>2023-02-17 14:00:00+01:00</td>\n      <td>23870.38</td>\n      <td>23888.96</td>\n      <td>23772.63</td>\n      <td>23803.29</td>\n      <td>7567.29852</td>\n      <td>2023-02-17 14:29:59.999000+01:00</td>\n      <td>1.804261e+08</td>\n      <td>183837</td>\n      <td>3644.86303</td>\n      <td>8.690829e+07</td>\n      <td>1676638800000</td>\n      <td>1676640599999</td>\n    </tr>\n    <tr>\n      <th>2023-02-17 14:30:00+01:00</th>\n      <td>2023-02-17 14:30:00+01:00</td>\n      <td>23803.29</td>\n      <td>23820.35</td>\n      <td>23753.00</td>\n      <td>23782.23</td>\n      <td>6295.59562</td>\n      <td>2023-02-17 14:59:59.999000+01:00</td>\n      <td>1.497650e+08</td>\n      <td>159098</td>\n      <td>3080.72789</td>\n      <td>7.329048e+07</td>\n      <td>1676640600000</td>\n      <td>1676642399999</td>\n    </tr>\n    <tr>\n      <th>...</th>\n      <td>...</td>\n      <td>...</td>\n      <td>...</td>\n      <td>...</td>\n      <td>...</td>\n      <td>...</td>\n      <td>...</td>\n      <td>...</td>\n      <td>...</td>\n      <td>...</td>\n      <td>...</td>\n      <td>...</td>\n      <td>...</td>\n    </tr>\n    <tr>\n      <th>2024-02-17 16:30:00+01:00</th>\n      <td>2024-02-17 16:30:00+01:00</td>\n      <td>50987.99</td>\n      <td>51174.04</td>\n      <td>50941.17</td>\n      <td>50984.56</td>\n      <td>1048.25316</td>\n      <td>2024-02-17 16:59:59.999000+01:00</td>\n      <td>5.351675e+07</td>\n      <td>79516</td>\n      <td>559.57951</td>\n      <td>2.856684e+07</td>\n      <td>1708183800000</td>\n      <td>1708185599999</td>\n    </tr>\n    <tr>\n      <th>2024-02-17 17:00:00+01:00</th>\n      <td>2024-02-17 17:00:00+01:00</td>\n      <td>50984.56</td>\n      <td>50984.56</td>\n      <td>50741.10</td>\n      <td>50825.97</td>\n      <td>764.35131</td>\n      <td>2024-02-17 17:29:59.999000+01:00</td>\n      <td>3.885928e+07</td>\n      <td>39501</td>\n      <td>357.60219</td>\n      <td>1.817890e+07</td>\n      <td>1708185600000</td>\n      <td>1708187399999</td>\n    </tr>\n    <tr>\n      <th>2024-02-17 17:30:00+01:00</th>\n      <td>2024-02-17 17:30:00+01:00</td>\n      <td>50825.98</td>\n      <td>51027.15</td>\n      <td>50754.70</td>\n      <td>50951.25</td>\n      <td>586.75788</td>\n      <td>2024-02-17 17:59:59.999000+01:00</td>\n      <td>2.987023e+07</td>\n      <td>39945</td>\n      <td>356.47354</td>\n      <td>1.814950e+07</td>\n      <td>1708187400000</td>\n      <td>1708189199999</td>\n    </tr>\n    <tr>\n      <th>2024-02-17 18:00:00+01:00</th>\n      <td>2024-02-17 18:00:00+01:00</td>\n      <td>50951.26</td>\n      <td>51228.85</td>\n      <td>50944.67</td>\n      <td>51077.11</td>\n      <td>832.59169</td>\n      <td>2024-02-17 18:29:59.999000+01:00</td>\n      <td>4.257647e+07</td>\n      <td>65090</td>\n      <td>485.23076</td>\n      <td>2.481153e+07</td>\n      <td>1708189200000</td>\n      <td>1708190999999</td>\n    </tr>\n    <tr>\n      <th>2024-02-17 18:30:00+01:00</th>\n      <td>2024-02-17 18:30:00+01:00</td>\n      <td>51077.12</td>\n      <td>51259.17</td>\n      <td>51058.06</td>\n      <td>51238.10</td>\n      <td>444.09738</td>\n      <td>2024-02-17 18:50:59.999000+01:00</td>\n      <td>2.272556e+07</td>\n      <td>26357</td>\n      <td>288.75387</td>\n      <td>1.477593e+07</td>\n      <td>1708191000000</td>\n      <td>1708192259999</td>\n    </tr>\n  </tbody>\n</table>\n<p>17533 rows × 13 columns</p>\n</div>"
     },
     "execution_count": 22,
     "metadata": {},
     "output_type": "execute_result"
    }
   ],
   "source": [
    "sym.resample(tick_interval=\"30m\")"
   ]
  },
  {
   "cell_type": "code",
   "execution_count": 22,
   "id": "bad6c34a",
   "metadata": {
    "ExecuteTime": {
     "end_time": "2024-02-17T17:51:53.238831300Z",
     "start_time": "2024-02-17T17:51:53.231829600Z"
    }
   },
   "outputs": [],
   "source": []
  }
 ],
 "metadata": {
  "kernelspec": {
   "display_name": "Python 3 (ipykernel)",
   "language": "python",
   "name": "python3"
  },
  "language_info": {
   "codemirror_mode": {
    "name": "ipython",
    "version": 3
   },
   "file_extension": ".py",
   "mimetype": "text/x-python",
   "name": "python",
   "nbconvert_exporter": "python",
   "pygments_lexer": "ipython3",
   "version": "3.11.2"
  }
 },
 "nbformat": 4,
 "nbformat_minor": 5
}
