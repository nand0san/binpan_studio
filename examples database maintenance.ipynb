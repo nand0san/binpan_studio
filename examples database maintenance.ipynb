{
 "cells": [
  {
   "cell_type": "code",
   "execution_count": 1,
   "id": "e9f066cbca7a550a",
   "metadata": {
    "ExecuteTime": {
     "end_time": "2024-02-17T17:49:47.470296700Z",
     "start_time": "2024-02-17T17:49:39.082004900Z"
    }
   },
   "outputs": [],
   "source": [
    "import binpan\n",
    "from handlers.postgresql_database import *\n",
    "from handlers.postgresql import *\n",
    "\n",
    "from secret import postgresql_database, postgresql_port, postgresql_user, postgresql_password"
   ]
  },
  {
   "cell_type": "code",
   "execution_count": 2,
   "id": "dbb4e8c5ba00a0e",
   "metadata": {
    "ExecuteTime": {
     "end_time": "2024-02-17T17:49:47.479311400Z",
     "start_time": "2024-02-17T17:49:47.470296700Z"
    }
   },
   "outputs": [
    {
     "data": {
      "text/plain": "'0.8.10'"
     },
     "execution_count": 2,
     "metadata": {},
     "output_type": "execute_result"
    }
   ],
   "source": [
    "binpan.__version__"
   ]
  },
  {
   "cell_type": "markdown",
   "id": "aa840b20cf8d9275",
   "metadata": {},
   "source": [
    "# Database metadata"
   ]
  },
  {
   "cell_type": "code",
   "execution_count": 3,
   "id": "ebd5bf450670a2f5",
   "metadata": {
    "ExecuteTime": {
     "end_time": "2024-02-17T17:49:47.535318500Z",
     "start_time": "2024-02-17T17:49:47.478318400Z"
    }
   },
   "outputs": [],
   "source": [
    "conn, cursor = create_connection(user=postgresql_user,\n",
    "                                 enc_password=postgresql_password,\n",
    "                                 host=\"192.168.89.211\",\n",
    "                                 port=postgresql_port,\n",
    "                                 database=postgresql_database)"
   ]
  },
  {
   "cell_type": "code",
   "execution_count": 4,
   "id": "77e9199a4f3e258b",
   "metadata": {
    "ExecuteTime": {
     "end_time": "2024-02-17T17:49:47.960975600Z",
     "start_time": "2024-02-17T17:49:47.534319800Z"
    }
   },
   "outputs": [
    {
     "data": {
      "text/plain": "'110 GB'"
     },
     "execution_count": 4,
     "metadata": {},
     "output_type": "execute_result"
    }
   ],
   "source": [
    "get_db_size(cursor)"
   ]
  },
  {
   "cell_type": "code",
   "execution_count": 5,
   "id": "d6949c06a6320f58",
   "metadata": {
    "ExecuteTime": {
     "end_time": "2024-02-17T17:49:48.107254Z",
     "start_time": "2024-02-17T17:49:47.956976900Z"
    }
   },
   "outputs": [
    {
     "data": {
      "text/plain": "    schemaname             tablename  table_size_kb  indexes_size_kb  total_size_kb\n0       public     maskusdt_kline_1m            8.0             16.0           24.0\n34      public    multiusdt_kline_1m            8.0             16.0           24.0\n25      public     dockusdt_kline_1m            8.0             16.0           24.0\n26      public    alphausdt_kline_1m            8.0             16.0           24.0\n27      public      bchusdt_kline_1m            8.0             16.0           24.0\n..         ...                   ...            ...              ...            ...\n288     public  auctionusdt_kline_1m            0.0             16.0           16.0\n289     public   santosusdt_kline_1m            0.0             16.0           16.0\n290     public     highusdt_kline_1m            0.0             16.0           16.0\n291     public    audiousdt_kline_1m            0.0             16.0           16.0\n773     public    chessusdt_kline_1m            0.0             16.0           16.0\n\n[774 rows x 5 columns]",
      "text/html": "<div>\n<style scoped>\n    .dataframe tbody tr th:only-of-type {\n        vertical-align: middle;\n    }\n\n    .dataframe tbody tr th {\n        vertical-align: top;\n    }\n\n    .dataframe thead th {\n        text-align: right;\n    }\n</style>\n<table border=\"1\" class=\"dataframe\">\n  <thead>\n    <tr style=\"text-align: right;\">\n      <th></th>\n      <th>schemaname</th>\n      <th>tablename</th>\n      <th>table_size_kb</th>\n      <th>indexes_size_kb</th>\n      <th>total_size_kb</th>\n    </tr>\n  </thead>\n  <tbody>\n    <tr>\n      <th>0</th>\n      <td>public</td>\n      <td>maskusdt_kline_1m</td>\n      <td>8.0</td>\n      <td>16.0</td>\n      <td>24.0</td>\n    </tr>\n    <tr>\n      <th>34</th>\n      <td>public</td>\n      <td>multiusdt_kline_1m</td>\n      <td>8.0</td>\n      <td>16.0</td>\n      <td>24.0</td>\n    </tr>\n    <tr>\n      <th>25</th>\n      <td>public</td>\n      <td>dockusdt_kline_1m</td>\n      <td>8.0</td>\n      <td>16.0</td>\n      <td>24.0</td>\n    </tr>\n    <tr>\n      <th>26</th>\n      <td>public</td>\n      <td>alphausdt_kline_1m</td>\n      <td>8.0</td>\n      <td>16.0</td>\n      <td>24.0</td>\n    </tr>\n    <tr>\n      <th>27</th>\n      <td>public</td>\n      <td>bchusdt_kline_1m</td>\n      <td>8.0</td>\n      <td>16.0</td>\n      <td>24.0</td>\n    </tr>\n    <tr>\n      <th>...</th>\n      <td>...</td>\n      <td>...</td>\n      <td>...</td>\n      <td>...</td>\n      <td>...</td>\n    </tr>\n    <tr>\n      <th>288</th>\n      <td>public</td>\n      <td>auctionusdt_kline_1m</td>\n      <td>0.0</td>\n      <td>16.0</td>\n      <td>16.0</td>\n    </tr>\n    <tr>\n      <th>289</th>\n      <td>public</td>\n      <td>santosusdt_kline_1m</td>\n      <td>0.0</td>\n      <td>16.0</td>\n      <td>16.0</td>\n    </tr>\n    <tr>\n      <th>290</th>\n      <td>public</td>\n      <td>highusdt_kline_1m</td>\n      <td>0.0</td>\n      <td>16.0</td>\n      <td>16.0</td>\n    </tr>\n    <tr>\n      <th>291</th>\n      <td>public</td>\n      <td>audiousdt_kline_1m</td>\n      <td>0.0</td>\n      <td>16.0</td>\n      <td>16.0</td>\n    </tr>\n    <tr>\n      <th>773</th>\n      <td>public</td>\n      <td>chessusdt_kline_1m</td>\n      <td>0.0</td>\n      <td>16.0</td>\n      <td>16.0</td>\n    </tr>\n  </tbody>\n</table>\n<p>774 rows × 5 columns</p>\n</div>"
     },
     "execution_count": 5,
     "metadata": {},
     "output_type": "execute_result"
    }
   ],
   "source": [
    "get_table_sizes(cursor, only_public_schema=True)"
   ]
  },
  {
   "cell_type": "code",
   "execution_count": 6,
   "id": "a9687ac199a5c7a",
   "metadata": {
    "ExecuteTime": {
     "end_time": "2024-02-17T17:49:52.878605200Z",
     "start_time": "2024-02-17T17:49:52.869058200Z"
    }
   },
   "outputs": [
    {
     "data": {
      "text/plain": "388.8613867983222"
     },
     "execution_count": 6,
     "metadata": {},
     "output_type": "execute_result"
    }
   ],
   "source": [
    "get_wal_gb_size(cursor)"
   ]
  },
  {
   "cell_type": "code",
   "execution_count": 7,
   "id": "246b72a5d604ea01",
   "metadata": {
    "ExecuteTime": {
     "end_time": "2024-02-17T17:49:54.216561700Z",
     "start_time": "2024-02-17T17:49:54.194404700Z"
    }
   },
   "outputs": [
    {
     "data": {
      "text/plain": "1"
     },
     "execution_count": 7,
     "metadata": {},
     "output_type": "execute_result"
    }
   ],
   "source": [
    "get_active_connections(cursor)"
   ]
  },
  {
   "cell_type": "code",
   "execution_count": 8,
   "id": "ec42669ac27c9c99",
   "metadata": {
    "ExecuteTime": {
     "end_time": "2024-02-17T17:49:57.252068200Z",
     "start_time": "2024-02-17T17:49:56.662460700Z"
    }
   },
   "outputs": [
    {
     "data": {
      "text/plain": "                  schemaname                  relname                  last_autovacuum                 last_autoanalyze  n_dead_tup  n_live_tup  n_mod_since_analyze  seq_scan    idx_scan\n0       _timescaledb_catalog               hypertable                              NaT                              NaT         0.0        12.0                 12.0       0.0  70608428.0\n1       _timescaledb_catalog     hypertable_data_node                              NaT                              NaT         0.0         0.0                  0.0       6.0    172687.0\n2       _timescaledb_catalog               tablespace                              NaT                              NaT         0.0         0.0                  0.0       6.0      5649.0\n3       _timescaledb_catalog                dimension                              NaT                              NaT         0.0        12.0                 12.0       0.0    172687.0\n4       _timescaledb_catalog      dimension_partition                              NaT                              NaT         0.0         0.0                  0.0       0.0         0.0\n...                      ...                      ...                              ...                              ...         ...         ...                  ...       ...         ...\n61079  _timescaledb_internal   _hyper_143_65751_chunk 2024-02-16 21:56:32.723513+00:00 2024-02-17 13:06:38.771117+00:00         0.0      3949.0                283.0      11.0      4264.0\n61080  _timescaledb_internal   _hyper_137_65752_chunk 2024-02-16 22:00:43.073228+00:00 2024-02-17 14:19:42.821856+00:00         0.0      3949.0                210.0      11.0      4243.0\n61081  _timescaledb_internal  _hyper_1594_65753_chunk 2024-02-16 21:56:32.852859+00:00 2024-02-17 13:24:49.727953+00:00         0.0      3949.0                265.0      11.0      4243.0\n61082  _timescaledb_internal  _hyper_1567_65754_chunk 2024-02-16 21:56:32.981496+00:00 2024-02-17 13:58:01.338125+00:00         0.0      3949.0                232.0      10.0      4229.0\n61083  _timescaledb_internal   _hyper_289_65755_chunk 2024-02-16 22:10:43.752250+00:00 2024-02-17 14:20:42.892332+00:00         0.0      3949.0                209.0      11.0      4264.0\n\n[61084 rows x 9 columns]",
      "text/html": "<div>\n<style scoped>\n    .dataframe tbody tr th:only-of-type {\n        vertical-align: middle;\n    }\n\n    .dataframe tbody tr th {\n        vertical-align: top;\n    }\n\n    .dataframe thead th {\n        text-align: right;\n    }\n</style>\n<table border=\"1\" class=\"dataframe\">\n  <thead>\n    <tr style=\"text-align: right;\">\n      <th></th>\n      <th>schemaname</th>\n      <th>relname</th>\n      <th>last_autovacuum</th>\n      <th>last_autoanalyze</th>\n      <th>n_dead_tup</th>\n      <th>n_live_tup</th>\n      <th>n_mod_since_analyze</th>\n      <th>seq_scan</th>\n      <th>idx_scan</th>\n    </tr>\n  </thead>\n  <tbody>\n    <tr>\n      <th>0</th>\n      <td>_timescaledb_catalog</td>\n      <td>hypertable</td>\n      <td>NaT</td>\n      <td>NaT</td>\n      <td>0.0</td>\n      <td>12.0</td>\n      <td>12.0</td>\n      <td>0.0</td>\n      <td>70608428.0</td>\n    </tr>\n    <tr>\n      <th>1</th>\n      <td>_timescaledb_catalog</td>\n      <td>hypertable_data_node</td>\n      <td>NaT</td>\n      <td>NaT</td>\n      <td>0.0</td>\n      <td>0.0</td>\n      <td>0.0</td>\n      <td>6.0</td>\n      <td>172687.0</td>\n    </tr>\n    <tr>\n      <th>2</th>\n      <td>_timescaledb_catalog</td>\n      <td>tablespace</td>\n      <td>NaT</td>\n      <td>NaT</td>\n      <td>0.0</td>\n      <td>0.0</td>\n      <td>0.0</td>\n      <td>6.0</td>\n      <td>5649.0</td>\n    </tr>\n    <tr>\n      <th>3</th>\n      <td>_timescaledb_catalog</td>\n      <td>dimension</td>\n      <td>NaT</td>\n      <td>NaT</td>\n      <td>0.0</td>\n      <td>12.0</td>\n      <td>12.0</td>\n      <td>0.0</td>\n      <td>172687.0</td>\n    </tr>\n    <tr>\n      <th>4</th>\n      <td>_timescaledb_catalog</td>\n      <td>dimension_partition</td>\n      <td>NaT</td>\n      <td>NaT</td>\n      <td>0.0</td>\n      <td>0.0</td>\n      <td>0.0</td>\n      <td>0.0</td>\n      <td>0.0</td>\n    </tr>\n    <tr>\n      <th>...</th>\n      <td>...</td>\n      <td>...</td>\n      <td>...</td>\n      <td>...</td>\n      <td>...</td>\n      <td>...</td>\n      <td>...</td>\n      <td>...</td>\n      <td>...</td>\n    </tr>\n    <tr>\n      <th>61079</th>\n      <td>_timescaledb_internal</td>\n      <td>_hyper_143_65751_chunk</td>\n      <td>2024-02-16 21:56:32.723513+00:00</td>\n      <td>2024-02-17 13:06:38.771117+00:00</td>\n      <td>0.0</td>\n      <td>3949.0</td>\n      <td>283.0</td>\n      <td>11.0</td>\n      <td>4264.0</td>\n    </tr>\n    <tr>\n      <th>61080</th>\n      <td>_timescaledb_internal</td>\n      <td>_hyper_137_65752_chunk</td>\n      <td>2024-02-16 22:00:43.073228+00:00</td>\n      <td>2024-02-17 14:19:42.821856+00:00</td>\n      <td>0.0</td>\n      <td>3949.0</td>\n      <td>210.0</td>\n      <td>11.0</td>\n      <td>4243.0</td>\n    </tr>\n    <tr>\n      <th>61081</th>\n      <td>_timescaledb_internal</td>\n      <td>_hyper_1594_65753_chunk</td>\n      <td>2024-02-16 21:56:32.852859+00:00</td>\n      <td>2024-02-17 13:24:49.727953+00:00</td>\n      <td>0.0</td>\n      <td>3949.0</td>\n      <td>265.0</td>\n      <td>11.0</td>\n      <td>4243.0</td>\n    </tr>\n    <tr>\n      <th>61082</th>\n      <td>_timescaledb_internal</td>\n      <td>_hyper_1567_65754_chunk</td>\n      <td>2024-02-16 21:56:32.981496+00:00</td>\n      <td>2024-02-17 13:58:01.338125+00:00</td>\n      <td>0.0</td>\n      <td>3949.0</td>\n      <td>232.0</td>\n      <td>10.0</td>\n      <td>4229.0</td>\n    </tr>\n    <tr>\n      <th>61083</th>\n      <td>_timescaledb_internal</td>\n      <td>_hyper_289_65755_chunk</td>\n      <td>2024-02-16 22:10:43.752250+00:00</td>\n      <td>2024-02-17 14:20:42.892332+00:00</td>\n      <td>0.0</td>\n      <td>3949.0</td>\n      <td>209.0</td>\n      <td>11.0</td>\n      <td>4264.0</td>\n    </tr>\n  </tbody>\n</table>\n<p>61084 rows × 9 columns</p>\n</div>"
     },
     "execution_count": 8,
     "metadata": {},
     "output_type": "execute_result"
    }
   ],
   "source": [
    "get_autovacuum_level(cursor)"
   ]
  },
  {
   "cell_type": "code",
   "execution_count": 9,
   "id": "d8cc3831abc61da2",
   "metadata": {
    "ExecuteTime": {
     "end_time": "2024-02-17T17:50:02.987643500Z",
     "start_time": "2024-02-17T17:50:02.958912100Z"
    }
   },
   "outputs": [
    {
     "data": {
      "text/plain": "Empty DataFrame\nColumns: []\nIndex: []",
      "text/html": "<div>\n<style scoped>\n    .dataframe tbody tr th:only-of-type {\n        vertical-align: middle;\n    }\n\n    .dataframe tbody tr th {\n        vertical-align: top;\n    }\n\n    .dataframe thead th {\n        text-align: right;\n    }\n</style>\n<table border=\"1\" class=\"dataframe\">\n  <thead>\n    <tr style=\"text-align: right;\">\n      <th></th>\n    </tr>\n  </thead>\n  <tbody>\n  </tbody>\n</table>\n</div>"
     },
     "execution_count": 9,
     "metadata": {},
     "output_type": "execute_result"
    }
   ],
   "source": [
    "get_ungranted_locks(cursor)"
   ]
  },
  {
   "cell_type": "code",
   "execution_count": 10,
   "id": "f32cb8a19906ce65",
   "metadata": {
    "ExecuteTime": {
     "end_time": "2024-02-17T17:50:07.116476300Z",
     "start_time": "2024-02-17T17:50:05.536972100Z"
    }
   },
   "outputs": [
    {
     "data": {
      "text/plain": "                    table_name  heap_blks_read  heap_blks_hit  idx_blks_read  idx_blks_hit  toast_blks_read  toast_blks_hit  tidx_blks_read  tidx_blks_hit  heap_cache_hit_rate  idx_cache_hit_rate\n0                   hypertable           609.0     58348612.0          465.0   141216773.0              NaN             NaN             NaN            NaN             0.999990            0.999997\n1         hypertable_data_node             0.0            0.0           18.0      345380.0              NaN             NaN             NaN            NaN                  NaN            0.999948\n2                   tablespace             0.0            0.0           16.0       11306.0              NaN             NaN             NaN            NaN                  NaN            0.998587\n3                    dimension           199.0       172518.0          693.0      344980.0              NaN             NaN             NaN            NaN             0.998848            0.997995\n4          dimension_partition             0.0            0.0            0.0           0.0              0.0             0.0             0.0            0.0                  NaN                 NaN\n...                        ...             ...            ...            ...           ...              ...             ...             ...            ...                  ...                 ...\n61079   _hyper_143_65751_chunk           641.0         9606.0          167.0       23174.0              NaN             NaN             NaN            NaN             0.937445            0.992845\n61080   _hyper_137_65752_chunk           728.0         9451.0          164.0       23155.0              NaN             NaN             NaN            NaN             0.928480            0.992967\n61081  _hyper_1594_65753_chunk           651.0         9444.0          157.0       23119.0              NaN             NaN             NaN            NaN             0.935513            0.993255\n61082  _hyper_1567_65754_chunk           713.0         9309.0          163.0       23103.0              NaN             NaN             NaN            NaN             0.928857            0.992994\n61083   _hyper_289_65755_chunk           652.0         9561.0          165.0       23155.0              NaN             NaN             NaN            NaN             0.936160            0.992925\n\n[61084 rows x 11 columns]",
      "text/html": "<div>\n<style scoped>\n    .dataframe tbody tr th:only-of-type {\n        vertical-align: middle;\n    }\n\n    .dataframe tbody tr th {\n        vertical-align: top;\n    }\n\n    .dataframe thead th {\n        text-align: right;\n    }\n</style>\n<table border=\"1\" class=\"dataframe\">\n  <thead>\n    <tr style=\"text-align: right;\">\n      <th></th>\n      <th>table_name</th>\n      <th>heap_blks_read</th>\n      <th>heap_blks_hit</th>\n      <th>idx_blks_read</th>\n      <th>idx_blks_hit</th>\n      <th>toast_blks_read</th>\n      <th>toast_blks_hit</th>\n      <th>tidx_blks_read</th>\n      <th>tidx_blks_hit</th>\n      <th>heap_cache_hit_rate</th>\n      <th>idx_cache_hit_rate</th>\n    </tr>\n  </thead>\n  <tbody>\n    <tr>\n      <th>0</th>\n      <td>hypertable</td>\n      <td>609.0</td>\n      <td>58348612.0</td>\n      <td>465.0</td>\n      <td>141216773.0</td>\n      <td>NaN</td>\n      <td>NaN</td>\n      <td>NaN</td>\n      <td>NaN</td>\n      <td>0.999990</td>\n      <td>0.999997</td>\n    </tr>\n    <tr>\n      <th>1</th>\n      <td>hypertable_data_node</td>\n      <td>0.0</td>\n      <td>0.0</td>\n      <td>18.0</td>\n      <td>345380.0</td>\n      <td>NaN</td>\n      <td>NaN</td>\n      <td>NaN</td>\n      <td>NaN</td>\n      <td>NaN</td>\n      <td>0.999948</td>\n    </tr>\n    <tr>\n      <th>2</th>\n      <td>tablespace</td>\n      <td>0.0</td>\n      <td>0.0</td>\n      <td>16.0</td>\n      <td>11306.0</td>\n      <td>NaN</td>\n      <td>NaN</td>\n      <td>NaN</td>\n      <td>NaN</td>\n      <td>NaN</td>\n      <td>0.998587</td>\n    </tr>\n    <tr>\n      <th>3</th>\n      <td>dimension</td>\n      <td>199.0</td>\n      <td>172518.0</td>\n      <td>693.0</td>\n      <td>344980.0</td>\n      <td>NaN</td>\n      <td>NaN</td>\n      <td>NaN</td>\n      <td>NaN</td>\n      <td>0.998848</td>\n      <td>0.997995</td>\n    </tr>\n    <tr>\n      <th>4</th>\n      <td>dimension_partition</td>\n      <td>0.0</td>\n      <td>0.0</td>\n      <td>0.0</td>\n      <td>0.0</td>\n      <td>0.0</td>\n      <td>0.0</td>\n      <td>0.0</td>\n      <td>0.0</td>\n      <td>NaN</td>\n      <td>NaN</td>\n    </tr>\n    <tr>\n      <th>...</th>\n      <td>...</td>\n      <td>...</td>\n      <td>...</td>\n      <td>...</td>\n      <td>...</td>\n      <td>...</td>\n      <td>...</td>\n      <td>...</td>\n      <td>...</td>\n      <td>...</td>\n      <td>...</td>\n    </tr>\n    <tr>\n      <th>61079</th>\n      <td>_hyper_143_65751_chunk</td>\n      <td>641.0</td>\n      <td>9606.0</td>\n      <td>167.0</td>\n      <td>23174.0</td>\n      <td>NaN</td>\n      <td>NaN</td>\n      <td>NaN</td>\n      <td>NaN</td>\n      <td>0.937445</td>\n      <td>0.992845</td>\n    </tr>\n    <tr>\n      <th>61080</th>\n      <td>_hyper_137_65752_chunk</td>\n      <td>728.0</td>\n      <td>9451.0</td>\n      <td>164.0</td>\n      <td>23155.0</td>\n      <td>NaN</td>\n      <td>NaN</td>\n      <td>NaN</td>\n      <td>NaN</td>\n      <td>0.928480</td>\n      <td>0.992967</td>\n    </tr>\n    <tr>\n      <th>61081</th>\n      <td>_hyper_1594_65753_chunk</td>\n      <td>651.0</td>\n      <td>9444.0</td>\n      <td>157.0</td>\n      <td>23119.0</td>\n      <td>NaN</td>\n      <td>NaN</td>\n      <td>NaN</td>\n      <td>NaN</td>\n      <td>0.935513</td>\n      <td>0.993255</td>\n    </tr>\n    <tr>\n      <th>61082</th>\n      <td>_hyper_1567_65754_chunk</td>\n      <td>713.0</td>\n      <td>9309.0</td>\n      <td>163.0</td>\n      <td>23103.0</td>\n      <td>NaN</td>\n      <td>NaN</td>\n      <td>NaN</td>\n      <td>NaN</td>\n      <td>0.928857</td>\n      <td>0.992994</td>\n    </tr>\n    <tr>\n      <th>61083</th>\n      <td>_hyper_289_65755_chunk</td>\n      <td>652.0</td>\n      <td>9561.0</td>\n      <td>165.0</td>\n      <td>23155.0</td>\n      <td>NaN</td>\n      <td>NaN</td>\n      <td>NaN</td>\n      <td>NaN</td>\n      <td>0.936160</td>\n      <td>0.992925</td>\n    </tr>\n  </tbody>\n</table>\n<p>61084 rows × 11 columns</p>\n</div>"
     },
     "execution_count": 10,
     "metadata": {},
     "output_type": "execute_result"
    }
   ],
   "source": [
    "get_cache_statistics(cursor)"
   ]
  },
  {
   "cell_type": "code",
   "execution_count": 11,
   "id": "6925c6e2d91d516d",
   "metadata": {
    "ExecuteTime": {
     "end_time": "2024-02-17T17:50:13.268609500Z",
     "start_time": "2024-02-17T17:50:13.171592300Z"
    }
   },
   "outputs": [
    {
     "data": {
      "text/plain": "    hypertable_schema            hypertable_name  owner  num_dimensions  num_chunks  compression_enabled  is_distributed replication_factor data_nodes tablespaces\n134            public           ethusdt_kline_1m  nando               1         340                False           False               None       None        None\n72             public           btcusdt_kline_1m  nando               1         340                False           False               None       None        None\n101            public           bnbusdt_kline_1m  nando               1         329                False           False               None       None        None\n102            public           neousdt_kline_1m  nando               1         327                False           False               None       None        None\n1              public           ltcusdt_kline_1m  nando               1         324                False           False               None       None        None\n..                ...                        ...    ...             ...         ...                  ...             ...                ...        ...         ...\n767            public    jupusdt_kline_1m_missed  nando               1           0                False           False               None       None        None\n769            public   pythusdt_kline_1m_missed  nando               1           0                False           False               None       None        None\n449            public     ltcbtc_kline_1m_missed  nando               1           0                False           False               None       None        None\n772            public  roninusdt_kline_1m_missed  nando               1           0                False           False               None       None        None\n773            public    dymusdt_kline_1m_missed  nando               1           0                False           False               None       None        None\n\n[774 rows x 10 columns]",
      "text/html": "<div>\n<style scoped>\n    .dataframe tbody tr th:only-of-type {\n        vertical-align: middle;\n    }\n\n    .dataframe tbody tr th {\n        vertical-align: top;\n    }\n\n    .dataframe thead th {\n        text-align: right;\n    }\n</style>\n<table border=\"1\" class=\"dataframe\">\n  <thead>\n    <tr style=\"text-align: right;\">\n      <th></th>\n      <th>hypertable_schema</th>\n      <th>hypertable_name</th>\n      <th>owner</th>\n      <th>num_dimensions</th>\n      <th>num_chunks</th>\n      <th>compression_enabled</th>\n      <th>is_distributed</th>\n      <th>replication_factor</th>\n      <th>data_nodes</th>\n      <th>tablespaces</th>\n    </tr>\n  </thead>\n  <tbody>\n    <tr>\n      <th>134</th>\n      <td>public</td>\n      <td>ethusdt_kline_1m</td>\n      <td>nando</td>\n      <td>1</td>\n      <td>340</td>\n      <td>False</td>\n      <td>False</td>\n      <td>None</td>\n      <td>None</td>\n      <td>None</td>\n    </tr>\n    <tr>\n      <th>72</th>\n      <td>public</td>\n      <td>btcusdt_kline_1m</td>\n      <td>nando</td>\n      <td>1</td>\n      <td>340</td>\n      <td>False</td>\n      <td>False</td>\n      <td>None</td>\n      <td>None</td>\n      <td>None</td>\n    </tr>\n    <tr>\n      <th>101</th>\n      <td>public</td>\n      <td>bnbusdt_kline_1m</td>\n      <td>nando</td>\n      <td>1</td>\n      <td>329</td>\n      <td>False</td>\n      <td>False</td>\n      <td>None</td>\n      <td>None</td>\n      <td>None</td>\n    </tr>\n    <tr>\n      <th>102</th>\n      <td>public</td>\n      <td>neousdt_kline_1m</td>\n      <td>nando</td>\n      <td>1</td>\n      <td>327</td>\n      <td>False</td>\n      <td>False</td>\n      <td>None</td>\n      <td>None</td>\n      <td>None</td>\n    </tr>\n    <tr>\n      <th>1</th>\n      <td>public</td>\n      <td>ltcusdt_kline_1m</td>\n      <td>nando</td>\n      <td>1</td>\n      <td>324</td>\n      <td>False</td>\n      <td>False</td>\n      <td>None</td>\n      <td>None</td>\n      <td>None</td>\n    </tr>\n    <tr>\n      <th>...</th>\n      <td>...</td>\n      <td>...</td>\n      <td>...</td>\n      <td>...</td>\n      <td>...</td>\n      <td>...</td>\n      <td>...</td>\n      <td>...</td>\n      <td>...</td>\n      <td>...</td>\n    </tr>\n    <tr>\n      <th>767</th>\n      <td>public</td>\n      <td>jupusdt_kline_1m_missed</td>\n      <td>nando</td>\n      <td>1</td>\n      <td>0</td>\n      <td>False</td>\n      <td>False</td>\n      <td>None</td>\n      <td>None</td>\n      <td>None</td>\n    </tr>\n    <tr>\n      <th>769</th>\n      <td>public</td>\n      <td>pythusdt_kline_1m_missed</td>\n      <td>nando</td>\n      <td>1</td>\n      <td>0</td>\n      <td>False</td>\n      <td>False</td>\n      <td>None</td>\n      <td>None</td>\n      <td>None</td>\n    </tr>\n    <tr>\n      <th>449</th>\n      <td>public</td>\n      <td>ltcbtc_kline_1m_missed</td>\n      <td>nando</td>\n      <td>1</td>\n      <td>0</td>\n      <td>False</td>\n      <td>False</td>\n      <td>None</td>\n      <td>None</td>\n      <td>None</td>\n    </tr>\n    <tr>\n      <th>772</th>\n      <td>public</td>\n      <td>roninusdt_kline_1m_missed</td>\n      <td>nando</td>\n      <td>1</td>\n      <td>0</td>\n      <td>False</td>\n      <td>False</td>\n      <td>None</td>\n      <td>None</td>\n      <td>None</td>\n    </tr>\n    <tr>\n      <th>773</th>\n      <td>public</td>\n      <td>dymusdt_kline_1m_missed</td>\n      <td>nando</td>\n      <td>1</td>\n      <td>0</td>\n      <td>False</td>\n      <td>False</td>\n      <td>None</td>\n      <td>None</td>\n      <td>None</td>\n    </tr>\n  </tbody>\n</table>\n<p>774 rows × 10 columns</p>\n</div>"
     },
     "execution_count": 11,
     "metadata": {},
     "output_type": "execute_result"
    }
   ],
   "source": [
    "get_hypertable_info(cursor)"
   ]
  },
  {
   "cell_type": "code",
   "execution_count": 11,
   "id": "c378e105a76d2233",
   "metadata": {
    "ExecuteTime": {
     "end_time": "2024-02-17T17:50:15.586693800Z",
     "start_time": "2024-02-17T17:50:15.577177900Z"
    }
   },
   "outputs": [],
   "source": []
  },
  {
   "cell_type": "code",
   "execution_count": null,
   "id": "b84c47ea5e90901c",
   "metadata": {
    "ExecuteTime": {
     "end_time": "2023-10-24T08:59:56.302318200Z",
     "start_time": "2023-10-24T08:59:56.302318200Z"
    }
   },
   "outputs": [],
   "source": []
  },
  {
   "cell_type": "code",
   "execution_count": null,
   "id": "fc5cba60bd5afeeb",
   "metadata": {},
   "outputs": [],
   "source": []
  }
 ],
 "metadata": {
  "kernelspec": {
   "display_name": "Python 3 (ipykernel)",
   "language": "python",
   "name": "python3"
  },
  "language_info": {
   "codemirror_mode": {
    "name": "ipython",
    "version": 3
   },
   "file_extension": ".py",
   "mimetype": "text/x-python",
   "name": "python",
   "nbconvert_exporter": "python",
   "pygments_lexer": "ipython3",
   "version": "3.11.2"
  }
 },
 "nbformat": 4,
 "nbformat_minor": 5
}
