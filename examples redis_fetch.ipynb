{
 "cells": [
  {
   "cell_type": "code",
   "execution_count": 1,
   "id": "744452bf",
   "metadata": {
    "pycharm": {
     "name": "#%%\n"
    }
   },
   "outputs": [
    {
     "data": {
      "text/html": [
       "<style>.container { width:100% !important; }</style>"
      ],
      "text/plain": [
       "<IPython.core.display.HTML object>"
      ]
     },
     "metadata": {},
     "output_type": "display_data"
    }
   ],
   "source": [
    "from IPython.display import display, HTML\n",
    "\n",
    "display(HTML(\"<style>.container { width:100% !important; }</style>\"))"
   ]
  },
  {
   "cell_type": "code",
   "execution_count": 2,
   "id": "bde68f66",
   "metadata": {},
   "outputs": [],
   "source": [
    "from binpan import binpan"
   ]
  },
  {
   "cell_type": "code",
   "execution_count": 3,
   "id": "f602503a",
   "metadata": {},
   "outputs": [],
   "source": [
    "from binpan import handlers"
   ]
  },
  {
   "cell_type": "code",
   "execution_count": 4,
   "id": "7d9ef0f3",
   "metadata": {
    "pycharm": {
     "name": "#%%\n"
    }
   },
   "outputs": [],
   "source": [
    "from redis import StrictRedis\n",
    "from handlers import redis_fetch\n",
    "from random import choice"
   ]
  },
  {
   "cell_type": "code",
   "execution_count": 5,
   "id": "e8cbf3a2",
   "metadata": {},
   "outputs": [
    {
     "name": "stdout",
     "output_type": "stream",
     "text": [
      "Python 3.11.2\n"
     ]
    }
   ],
   "source": [
    "!python -V"
   ]
  },
  {
   "cell_type": "code",
   "execution_count": 6,
   "id": "b10d0427",
   "metadata": {
    "pycharm": {
     "name": "#%%\n"
    }
   },
   "outputs": [
    {
     "data": {
      "text/plain": [
       "'0.4.27'"
      ]
     },
     "execution_count": 6,
     "metadata": {},
     "output_type": "execute_result"
    }
   ],
   "source": [
    "binpan.__version__"
   ]
  },
  {
   "cell_type": "markdown",
   "id": "fbb964db",
   "metadata": {},
   "source": [
    "# Symbol class can configure automatically redis client"
   ]
  },
  {
   "cell_type": "code",
   "execution_count": 7,
   "id": "ab9446d2",
   "metadata": {},
   "outputs": [
    {
     "name": "stderr",
     "output_type": "stream",
     "text": [
      "2023-07-22\t 13:11:52     INFO get_candles_by_time_stamps -> symbol=LTCBTC tick_interval=1m start=2023-07-19 01:51:52 end=2023-07-22 13:10:58 channel:ltcbtc@kline_1m\n"
     ]
    },
    {
     "data": {
      "text/plain": [
       "Redis<ConnectionPool<Connection<host=192.168.89.241,port=6379,db=0>>>"
      ]
     },
     "execution_count": 7,
     "metadata": {},
     "output_type": "execute_result"
    }
   ],
   "source": [
    "sym = binpan.Symbol(symbol='ltcbtc', tick_interval='1m', from_redis=True, time_zone='Europe/Madrid', limit=5000)\n",
    "sym.from_redis"
   ]
  },
  {
   "cell_type": "code",
   "execution_count": 8,
   "id": "a60bf8c5",
   "metadata": {},
   "outputs": [
    {
     "data": {
      "text/html": [
       "<div>\n",
       "<style scoped>\n",
       "    .dataframe tbody tr th:only-of-type {\n",
       "        vertical-align: middle;\n",
       "    }\n",
       "\n",
       "    .dataframe tbody tr th {\n",
       "        vertical-align: top;\n",
       "    }\n",
       "\n",
       "    .dataframe thead th {\n",
       "        text-align: right;\n",
       "    }\n",
       "</style>\n",
       "<table border=\"1\" class=\"dataframe\">\n",
       "  <thead>\n",
       "    <tr style=\"text-align: right;\">\n",
       "      <th></th>\n",
       "      <th>Open time</th>\n",
       "      <th>Open</th>\n",
       "      <th>High</th>\n",
       "      <th>Low</th>\n",
       "      <th>Close</th>\n",
       "      <th>Volume</th>\n",
       "      <th>Close time</th>\n",
       "      <th>Quote volume</th>\n",
       "      <th>Trades</th>\n",
       "      <th>Taker buy base volume</th>\n",
       "      <th>Taker buy quote volume</th>\n",
       "      <th>Ignore</th>\n",
       "      <th>Open timestamp</th>\n",
       "      <th>Close timestamp</th>\n",
       "    </tr>\n",
       "    <tr>\n",
       "      <th>LTCBTC 1m Europe/Madrid</th>\n",
       "      <th></th>\n",
       "      <th></th>\n",
       "      <th></th>\n",
       "      <th></th>\n",
       "      <th></th>\n",
       "      <th></th>\n",
       "      <th></th>\n",
       "      <th></th>\n",
       "      <th></th>\n",
       "      <th></th>\n",
       "      <th></th>\n",
       "      <th></th>\n",
       "      <th></th>\n",
       "      <th></th>\n",
       "    </tr>\n",
       "  </thead>\n",
       "  <tbody>\n",
       "    <tr>\n",
       "      <th>2023-07-21 20:56:00+02:00</th>\n",
       "      <td>2023-07-21 20:56:00+02:00</td>\n",
       "      <td>0.003153</td>\n",
       "      <td>0.003153</td>\n",
       "      <td>0.003152</td>\n",
       "      <td>0.003153</td>\n",
       "      <td>3.409</td>\n",
       "      <td>2023-07-21 20:56:59.999000+02:00</td>\n",
       "      <td>0.010748</td>\n",
       "      <td>6</td>\n",
       "      <td>3.132</td>\n",
       "      <td>0.009875</td>\n",
       "      <td>0</td>\n",
       "      <td>1689965760000</td>\n",
       "      <td>1689965819999</td>\n",
       "    </tr>\n",
       "    <tr>\n",
       "      <th>2023-07-21 20:57:00+02:00</th>\n",
       "      <td>2023-07-21 20:57:00+02:00</td>\n",
       "      <td>0.003152</td>\n",
       "      <td>0.003153</td>\n",
       "      <td>0.003152</td>\n",
       "      <td>0.003153</td>\n",
       "      <td>13.596</td>\n",
       "      <td>2023-07-21 20:57:59.999000+02:00</td>\n",
       "      <td>0.042868</td>\n",
       "      <td>5</td>\n",
       "      <td>13.051</td>\n",
       "      <td>0.041150</td>\n",
       "      <td>0</td>\n",
       "      <td>1689965820000</td>\n",
       "      <td>1689965879999</td>\n",
       "    </tr>\n",
       "    <tr>\n",
       "      <th>2023-07-21 20:58:00+02:00</th>\n",
       "      <td>2023-07-21 20:58:00+02:00</td>\n",
       "      <td>0.003153</td>\n",
       "      <td>0.003153</td>\n",
       "      <td>0.003152</td>\n",
       "      <td>0.003152</td>\n",
       "      <td>13.913</td>\n",
       "      <td>2023-07-21 20:58:59.999000+02:00</td>\n",
       "      <td>0.043854</td>\n",
       "      <td>7</td>\n",
       "      <td>4.304</td>\n",
       "      <td>0.013566</td>\n",
       "      <td>0</td>\n",
       "      <td>1689965880000</td>\n",
       "      <td>1689965939999</td>\n",
       "    </tr>\n",
       "    <tr>\n",
       "      <th>2023-07-21 20:59:00+02:00</th>\n",
       "      <td>2023-07-21 20:59:00+02:00</td>\n",
       "      <td>0.003152</td>\n",
       "      <td>0.003152</td>\n",
       "      <td>0.003151</td>\n",
       "      <td>0.003152</td>\n",
       "      <td>2.579</td>\n",
       "      <td>2023-07-21 20:59:59.999000+02:00</td>\n",
       "      <td>0.008129</td>\n",
       "      <td>4</td>\n",
       "      <td>2.470</td>\n",
       "      <td>0.007785</td>\n",
       "      <td>0</td>\n",
       "      <td>1689965940000</td>\n",
       "      <td>1689965999999</td>\n",
       "    </tr>\n",
       "    <tr>\n",
       "      <th>2023-07-21 21:00:00+02:00</th>\n",
       "      <td>2023-07-21 21:00:00+02:00</td>\n",
       "      <td>0.003152</td>\n",
       "      <td>0.003154</td>\n",
       "      <td>0.003152</td>\n",
       "      <td>0.003154</td>\n",
       "      <td>76.298</td>\n",
       "      <td>2023-07-21 21:00:59.999000+02:00</td>\n",
       "      <td>0.240511</td>\n",
       "      <td>18</td>\n",
       "      <td>62.688</td>\n",
       "      <td>0.197612</td>\n",
       "      <td>0</td>\n",
       "      <td>1689966000000</td>\n",
       "      <td>1689966059999</td>\n",
       "    </tr>\n",
       "    <tr>\n",
       "      <th>...</th>\n",
       "      <td>...</td>\n",
       "      <td>...</td>\n",
       "      <td>...</td>\n",
       "      <td>...</td>\n",
       "      <td>...</td>\n",
       "      <td>...</td>\n",
       "      <td>...</td>\n",
       "      <td>...</td>\n",
       "      <td>...</td>\n",
       "      <td>...</td>\n",
       "      <td>...</td>\n",
       "      <td>...</td>\n",
       "      <td>...</td>\n",
       "      <td>...</td>\n",
       "    </tr>\n",
       "    <tr>\n",
       "      <th>2023-07-22 13:06:00+02:00</th>\n",
       "      <td>2023-07-22 13:06:00+02:00</td>\n",
       "      <td>0.003138</td>\n",
       "      <td>0.003138</td>\n",
       "      <td>0.003138</td>\n",
       "      <td>0.003138</td>\n",
       "      <td>2.428</td>\n",
       "      <td>2023-07-22 13:06:59.999000+02:00</td>\n",
       "      <td>0.007619</td>\n",
       "      <td>1</td>\n",
       "      <td>0.000</td>\n",
       "      <td>0.000000</td>\n",
       "      <td>0</td>\n",
       "      <td>1690023960000</td>\n",
       "      <td>1690024019999</td>\n",
       "    </tr>\n",
       "    <tr>\n",
       "      <th>2023-07-22 13:07:00+02:00</th>\n",
       "      <td>2023-07-22 13:07:00+02:00</td>\n",
       "      <td>0.003137</td>\n",
       "      <td>0.003138</td>\n",
       "      <td>0.003137</td>\n",
       "      <td>0.003138</td>\n",
       "      <td>5.582</td>\n",
       "      <td>2023-07-22 13:07:59.999000+02:00</td>\n",
       "      <td>0.017511</td>\n",
       "      <td>3</td>\n",
       "      <td>0.250</td>\n",
       "      <td>0.000785</td>\n",
       "      <td>0</td>\n",
       "      <td>1690024020000</td>\n",
       "      <td>1690024079999</td>\n",
       "    </tr>\n",
       "    <tr>\n",
       "      <th>2023-07-22 13:08:00+02:00</th>\n",
       "      <td>2023-07-22 13:08:00+02:00</td>\n",
       "      <td>0.003138</td>\n",
       "      <td>0.003139</td>\n",
       "      <td>0.003138</td>\n",
       "      <td>0.003139</td>\n",
       "      <td>0.242</td>\n",
       "      <td>2023-07-22 13:08:59.999000+02:00</td>\n",
       "      <td>0.000760</td>\n",
       "      <td>2</td>\n",
       "      <td>0.242</td>\n",
       "      <td>0.000760</td>\n",
       "      <td>0</td>\n",
       "      <td>1690024080000</td>\n",
       "      <td>1690024139999</td>\n",
       "    </tr>\n",
       "    <tr>\n",
       "      <th>2023-07-22 13:09:00+02:00</th>\n",
       "      <td>2023-07-22 13:09:00+02:00</td>\n",
       "      <td>0.003139</td>\n",
       "      <td>0.003139</td>\n",
       "      <td>0.003139</td>\n",
       "      <td>0.003139</td>\n",
       "      <td>0.000</td>\n",
       "      <td>2023-07-22 13:09:59.999000+02:00</td>\n",
       "      <td>0.000000</td>\n",
       "      <td>0</td>\n",
       "      <td>0.000</td>\n",
       "      <td>0.000000</td>\n",
       "      <td>0</td>\n",
       "      <td>1690024140000</td>\n",
       "      <td>1690024199999</td>\n",
       "    </tr>\n",
       "    <tr>\n",
       "      <th>2023-07-22 13:10:00+02:00</th>\n",
       "      <td>2023-07-22 13:10:00+02:00</td>\n",
       "      <td>0.003138</td>\n",
       "      <td>0.003138</td>\n",
       "      <td>0.003137</td>\n",
       "      <td>0.003138</td>\n",
       "      <td>28.475</td>\n",
       "      <td>2023-07-22 13:10:59.999000+02:00</td>\n",
       "      <td>0.089351</td>\n",
       "      <td>16</td>\n",
       "      <td>0.787</td>\n",
       "      <td>0.002470</td>\n",
       "      <td>0</td>\n",
       "      <td>1690024200000</td>\n",
       "      <td>1690024259999</td>\n",
       "    </tr>\n",
       "  </tbody>\n",
       "</table>\n",
       "<p>975 rows × 14 columns</p>\n",
       "</div>"
      ],
      "text/plain": [
       "                                          Open time      Open      High       Low     Close  Volume                       Close time  Quote volume  Trades  Taker buy base volume  Taker buy quote volume  Ignore  Open timestamp  Close timestamp\n",
       "LTCBTC 1m Europe/Madrid                                                                                                                                                                                                                           \n",
       "2023-07-21 20:56:00+02:00 2023-07-21 20:56:00+02:00  0.003153  0.003153  0.003152  0.003153   3.409 2023-07-21 20:56:59.999000+02:00      0.010748       6                  3.132                0.009875       0   1689965760000    1689965819999\n",
       "2023-07-21 20:57:00+02:00 2023-07-21 20:57:00+02:00  0.003152  0.003153  0.003152  0.003153  13.596 2023-07-21 20:57:59.999000+02:00      0.042868       5                 13.051                0.041150       0   1689965820000    1689965879999\n",
       "2023-07-21 20:58:00+02:00 2023-07-21 20:58:00+02:00  0.003153  0.003153  0.003152  0.003152  13.913 2023-07-21 20:58:59.999000+02:00      0.043854       7                  4.304                0.013566       0   1689965880000    1689965939999\n",
       "2023-07-21 20:59:00+02:00 2023-07-21 20:59:00+02:00  0.003152  0.003152  0.003151  0.003152   2.579 2023-07-21 20:59:59.999000+02:00      0.008129       4                  2.470                0.007785       0   1689965940000    1689965999999\n",
       "2023-07-21 21:00:00+02:00 2023-07-21 21:00:00+02:00  0.003152  0.003154  0.003152  0.003154  76.298 2023-07-21 21:00:59.999000+02:00      0.240511      18                 62.688                0.197612       0   1689966000000    1689966059999\n",
       "...                                             ...       ...       ...       ...       ...     ...                              ...           ...     ...                    ...                     ...     ...             ...              ...\n",
       "2023-07-22 13:06:00+02:00 2023-07-22 13:06:00+02:00  0.003138  0.003138  0.003138  0.003138   2.428 2023-07-22 13:06:59.999000+02:00      0.007619       1                  0.000                0.000000       0   1690023960000    1690024019999\n",
       "2023-07-22 13:07:00+02:00 2023-07-22 13:07:00+02:00  0.003137  0.003138  0.003137  0.003138   5.582 2023-07-22 13:07:59.999000+02:00      0.017511       3                  0.250                0.000785       0   1690024020000    1690024079999\n",
       "2023-07-22 13:08:00+02:00 2023-07-22 13:08:00+02:00  0.003138  0.003139  0.003138  0.003139   0.242 2023-07-22 13:08:59.999000+02:00      0.000760       2                  0.242                0.000760       0   1690024080000    1690024139999\n",
       "2023-07-22 13:09:00+02:00 2023-07-22 13:09:00+02:00  0.003139  0.003139  0.003139  0.003139   0.000 2023-07-22 13:09:59.999000+02:00      0.000000       0                  0.000                0.000000       0   1690024140000    1690024199999\n",
       "2023-07-22 13:10:00+02:00 2023-07-22 13:10:00+02:00  0.003138  0.003138  0.003137  0.003138  28.475 2023-07-22 13:10:59.999000+02:00      0.089351      16                  0.787                0.002470       0   1690024200000    1690024259999\n",
       "\n",
       "[975 rows x 14 columns]"
      ]
     },
     "execution_count": 8,
     "metadata": {},
     "output_type": "execute_result"
    }
   ],
   "source": [
    "sym.df"
   ]
  },
  {
   "cell_type": "code",
   "execution_count": 9,
   "id": "deeaefb2",
   "metadata": {},
   "outputs": [
    {
     "name": "stdout",
     "output_type": "stream",
     "text": [
      "Requesting atomic trades between 2023-07-21 20:56:00 and 2023-07-22 13:10:59\n"
     ]
    },
    {
     "name": "stderr",
     "output_type": "stream",
     "text": [
      "2023-07-22\t 13:11:52     INFO Fetching atomic trades from redis server for LTCBTC\n",
      "2023-07-22\t 13:11:52     INFO Clean atomic 3238 trades found for LTCBTC\n"
     ]
    },
    {
     "data": {
      "text/html": [
       "<div>\n",
       "<style scoped>\n",
       "    .dataframe tbody tr th:only-of-type {\n",
       "        vertical-align: middle;\n",
       "    }\n",
       "\n",
       "    .dataframe tbody tr th {\n",
       "        vertical-align: top;\n",
       "    }\n",
       "\n",
       "    .dataframe thead th {\n",
       "        text-align: right;\n",
       "    }\n",
       "</style>\n",
       "<table border=\"1\" class=\"dataframe\">\n",
       "  <thead>\n",
       "    <tr style=\"text-align: right;\">\n",
       "      <th></th>\n",
       "      <th>Trade Id</th>\n",
       "      <th>Price</th>\n",
       "      <th>Quantity</th>\n",
       "      <th>Buyer Order Id</th>\n",
       "      <th>Seller Order Id</th>\n",
       "      <th>Date</th>\n",
       "      <th>Timestamp</th>\n",
       "      <th>Buyer was maker</th>\n",
       "      <th>Best price match</th>\n",
       "    </tr>\n",
       "    <tr>\n",
       "      <th>LTCBTC Europe/Madrid</th>\n",
       "      <th></th>\n",
       "      <th></th>\n",
       "      <th></th>\n",
       "      <th></th>\n",
       "      <th></th>\n",
       "      <th></th>\n",
       "      <th></th>\n",
       "      <th></th>\n",
       "      <th></th>\n",
       "    </tr>\n",
       "  </thead>\n",
       "  <tbody>\n",
       "    <tr>\n",
       "      <th>2023-07-22 09:15:19.076000+02:00</th>\n",
       "      <td>92721851</td>\n",
       "      <td>0.003156</td>\n",
       "      <td>7.900</td>\n",
       "      <td>1103380198</td>\n",
       "      <td>1103380300</td>\n",
       "      <td>1690010119000000000</td>\n",
       "      <td>1690010119076</td>\n",
       "      <td>True</td>\n",
       "      <td>True</td>\n",
       "    </tr>\n",
       "    <tr>\n",
       "      <th>2023-07-22 09:15:19.803000+02:00</th>\n",
       "      <td>92721852</td>\n",
       "      <td>0.003156</td>\n",
       "      <td>0.140</td>\n",
       "      <td>1103380333</td>\n",
       "      <td>1103380305</td>\n",
       "      <td>1690010119000000000</td>\n",
       "      <td>1690010119803</td>\n",
       "      <td>False</td>\n",
       "      <td>True</td>\n",
       "    </tr>\n",
       "    <tr>\n",
       "      <th>2023-07-22 09:15:26.441000+02:00</th>\n",
       "      <td>92721853</td>\n",
       "      <td>0.003155</td>\n",
       "      <td>2.178</td>\n",
       "      <td>1103379573</td>\n",
       "      <td>1103380351</td>\n",
       "      <td>1690010126000000000</td>\n",
       "      <td>1690010126441</td>\n",
       "      <td>True</td>\n",
       "      <td>True</td>\n",
       "    </tr>\n",
       "    <tr>\n",
       "      <th>2023-07-22 09:15:26.441000+02:00</th>\n",
       "      <td>92721854</td>\n",
       "      <td>0.003155</td>\n",
       "      <td>2.999</td>\n",
       "      <td>1103379593</td>\n",
       "      <td>1103380351</td>\n",
       "      <td>1690010126000000000</td>\n",
       "      <td>1690010126441</td>\n",
       "      <td>True</td>\n",
       "      <td>True</td>\n",
       "    </tr>\n",
       "    <tr>\n",
       "      <th>2023-07-22 09:15:34.272000+02:00</th>\n",
       "      <td>92721855</td>\n",
       "      <td>0.003155</td>\n",
       "      <td>0.107</td>\n",
       "      <td>1103379593</td>\n",
       "      <td>1103380373</td>\n",
       "      <td>1690010134000000000</td>\n",
       "      <td>1690010134272</td>\n",
       "      <td>True</td>\n",
       "      <td>True</td>\n",
       "    </tr>\n",
       "    <tr>\n",
       "      <th>...</th>\n",
       "      <td>...</td>\n",
       "      <td>...</td>\n",
       "      <td>...</td>\n",
       "      <td>...</td>\n",
       "      <td>...</td>\n",
       "      <td>...</td>\n",
       "      <td>...</td>\n",
       "      <td>...</td>\n",
       "      <td>...</td>\n",
       "    </tr>\n",
       "    <tr>\n",
       "      <th>2023-07-22 13:10:47.364000+02:00</th>\n",
       "      <td>92725084</td>\n",
       "      <td>0.003137</td>\n",
       "      <td>3.221</td>\n",
       "      <td>1103423151</td>\n",
       "      <td>1103424022</td>\n",
       "      <td>1690024247000000000</td>\n",
       "      <td>1690024247364</td>\n",
       "      <td>True</td>\n",
       "      <td>True</td>\n",
       "    </tr>\n",
       "    <tr>\n",
       "      <th>2023-07-22 13:10:47.383000+02:00</th>\n",
       "      <td>92725085</td>\n",
       "      <td>0.003137</td>\n",
       "      <td>0.314</td>\n",
       "      <td>1103423151</td>\n",
       "      <td>1103424023</td>\n",
       "      <td>1690024247000000000</td>\n",
       "      <td>1690024247383</td>\n",
       "      <td>True</td>\n",
       "      <td>True</td>\n",
       "    </tr>\n",
       "    <tr>\n",
       "      <th>2023-07-22 13:10:47.419000+02:00</th>\n",
       "      <td>92725086</td>\n",
       "      <td>0.003137</td>\n",
       "      <td>0.089</td>\n",
       "      <td>1103423151</td>\n",
       "      <td>1103424024</td>\n",
       "      <td>1690024247000000000</td>\n",
       "      <td>1690024247419</td>\n",
       "      <td>True</td>\n",
       "      <td>True</td>\n",
       "    </tr>\n",
       "    <tr>\n",
       "      <th>2023-07-22 13:10:47.865000+02:00</th>\n",
       "      <td>92725087</td>\n",
       "      <td>0.003137</td>\n",
       "      <td>0.097</td>\n",
       "      <td>1103423151</td>\n",
       "      <td>1103424025</td>\n",
       "      <td>1690024247000000000</td>\n",
       "      <td>1690024247865</td>\n",
       "      <td>True</td>\n",
       "      <td>True</td>\n",
       "    </tr>\n",
       "    <tr>\n",
       "      <th>2023-07-22 13:10:50.291000+02:00</th>\n",
       "      <td>92725088</td>\n",
       "      <td>0.003138</td>\n",
       "      <td>0.787</td>\n",
       "      <td>1103424030</td>\n",
       "      <td>1103423977</td>\n",
       "      <td>1690024250000000000</td>\n",
       "      <td>1690024250291</td>\n",
       "      <td>False</td>\n",
       "      <td>True</td>\n",
       "    </tr>\n",
       "  </tbody>\n",
       "</table>\n",
       "<p>3238 rows × 9 columns</p>\n",
       "</div>"
      ],
      "text/plain": [
       "                                  Trade Id     Price  Quantity  Buyer Order Id  Seller Order Id                 Date      Timestamp  Buyer was maker  Best price match\n",
       "LTCBTC Europe/Madrid                                                                                                                                                  \n",
       "2023-07-22 09:15:19.076000+02:00  92721851  0.003156     7.900      1103380198       1103380300  1690010119000000000  1690010119076             True              True\n",
       "2023-07-22 09:15:19.803000+02:00  92721852  0.003156     0.140      1103380333       1103380305  1690010119000000000  1690010119803            False              True\n",
       "2023-07-22 09:15:26.441000+02:00  92721853  0.003155     2.178      1103379573       1103380351  1690010126000000000  1690010126441             True              True\n",
       "2023-07-22 09:15:26.441000+02:00  92721854  0.003155     2.999      1103379593       1103380351  1690010126000000000  1690010126441             True              True\n",
       "2023-07-22 09:15:34.272000+02:00  92721855  0.003155     0.107      1103379593       1103380373  1690010134000000000  1690010134272             True              True\n",
       "...                                    ...       ...       ...             ...              ...                  ...            ...              ...               ...\n",
       "2023-07-22 13:10:47.364000+02:00  92725084  0.003137     3.221      1103423151       1103424022  1690024247000000000  1690024247364             True              True\n",
       "2023-07-22 13:10:47.383000+02:00  92725085  0.003137     0.314      1103423151       1103424023  1690024247000000000  1690024247383             True              True\n",
       "2023-07-22 13:10:47.419000+02:00  92725086  0.003137     0.089      1103423151       1103424024  1690024247000000000  1690024247419             True              True\n",
       "2023-07-22 13:10:47.865000+02:00  92725087  0.003137     0.097      1103423151       1103424025  1690024247000000000  1690024247865             True              True\n",
       "2023-07-22 13:10:50.291000+02:00  92725088  0.003138     0.787      1103424030       1103423977  1690024250000000000  1690024250291            False              True\n",
       "\n",
       "[3238 rows x 9 columns]"
      ]
     },
     "execution_count": 9,
     "metadata": {},
     "output_type": "execute_result"
    }
   ],
   "source": [
    "sym.get_atomic_trades()"
   ]
  },
  {
   "cell_type": "markdown",
   "id": "db1348b4",
   "metadata": {},
   "source": [
    "# Using dict with config in Symbol class arguments"
   ]
  },
  {
   "cell_type": "code",
   "execution_count": 10,
   "id": "d264f030",
   "metadata": {},
   "outputs": [
    {
     "name": "stderr",
     "output_type": "stream",
     "text": [
      "2023-07-22\t 13:11:53     INFO get_candles_by_time_stamps -> symbol=LTCBTC tick_interval=1m start=2023-07-19 01:51:53 end=2023-07-22 13:10:58 channel:ltcbtc@kline_1m\n"
     ]
    },
    {
     "data": {
      "text/plain": [
       "Redis<ConnectionPool<Connection<host=192.168.89.241,port=6379,db=0>>>"
      ]
     },
     "execution_count": 10,
     "metadata": {},
     "output_type": "execute_result"
    }
   ],
   "source": [
    "data = {'host': '192.168.89.241', 'port': 6379, 'db': 0, 'decode_responses': True}\n",
    "\n",
    "sym = binpan.Symbol(symbol='ltcbtc', tick_interval='1m', from_redis=data, time_zone='Europe/Madrid', limit=5000)\n",
    "sym.from_redis"
   ]
  },
  {
   "cell_type": "code",
   "execution_count": 11,
   "id": "3f52af81",
   "metadata": {},
   "outputs": [
    {
     "data": {
      "text/html": [
       "<div>\n",
       "<style scoped>\n",
       "    .dataframe tbody tr th:only-of-type {\n",
       "        vertical-align: middle;\n",
       "    }\n",
       "\n",
       "    .dataframe tbody tr th {\n",
       "        vertical-align: top;\n",
       "    }\n",
       "\n",
       "    .dataframe thead th {\n",
       "        text-align: right;\n",
       "    }\n",
       "</style>\n",
       "<table border=\"1\" class=\"dataframe\">\n",
       "  <thead>\n",
       "    <tr style=\"text-align: right;\">\n",
       "      <th></th>\n",
       "      <th>Open time</th>\n",
       "      <th>Open</th>\n",
       "      <th>High</th>\n",
       "      <th>Low</th>\n",
       "      <th>Close</th>\n",
       "      <th>Volume</th>\n",
       "      <th>Close time</th>\n",
       "      <th>Quote volume</th>\n",
       "      <th>Trades</th>\n",
       "      <th>Taker buy base volume</th>\n",
       "      <th>Taker buy quote volume</th>\n",
       "      <th>Ignore</th>\n",
       "      <th>Open timestamp</th>\n",
       "      <th>Close timestamp</th>\n",
       "    </tr>\n",
       "    <tr>\n",
       "      <th>LTCBTC 1m Europe/Madrid</th>\n",
       "      <th></th>\n",
       "      <th></th>\n",
       "      <th></th>\n",
       "      <th></th>\n",
       "      <th></th>\n",
       "      <th></th>\n",
       "      <th></th>\n",
       "      <th></th>\n",
       "      <th></th>\n",
       "      <th></th>\n",
       "      <th></th>\n",
       "      <th></th>\n",
       "      <th></th>\n",
       "      <th></th>\n",
       "    </tr>\n",
       "  </thead>\n",
       "  <tbody>\n",
       "    <tr>\n",
       "      <th>2023-07-21 20:56:00+02:00</th>\n",
       "      <td>2023-07-21 20:56:00+02:00</td>\n",
       "      <td>0.003153</td>\n",
       "      <td>0.003153</td>\n",
       "      <td>0.003152</td>\n",
       "      <td>0.003153</td>\n",
       "      <td>3.409</td>\n",
       "      <td>2023-07-21 20:56:59.999000+02:00</td>\n",
       "      <td>0.010748</td>\n",
       "      <td>6</td>\n",
       "      <td>3.132</td>\n",
       "      <td>0.009875</td>\n",
       "      <td>0</td>\n",
       "      <td>1689965760000</td>\n",
       "      <td>1689965819999</td>\n",
       "    </tr>\n",
       "    <tr>\n",
       "      <th>2023-07-21 20:57:00+02:00</th>\n",
       "      <td>2023-07-21 20:57:00+02:00</td>\n",
       "      <td>0.003152</td>\n",
       "      <td>0.003153</td>\n",
       "      <td>0.003152</td>\n",
       "      <td>0.003153</td>\n",
       "      <td>13.596</td>\n",
       "      <td>2023-07-21 20:57:59.999000+02:00</td>\n",
       "      <td>0.042868</td>\n",
       "      <td>5</td>\n",
       "      <td>13.051</td>\n",
       "      <td>0.041150</td>\n",
       "      <td>0</td>\n",
       "      <td>1689965820000</td>\n",
       "      <td>1689965879999</td>\n",
       "    </tr>\n",
       "    <tr>\n",
       "      <th>2023-07-21 20:58:00+02:00</th>\n",
       "      <td>2023-07-21 20:58:00+02:00</td>\n",
       "      <td>0.003153</td>\n",
       "      <td>0.003153</td>\n",
       "      <td>0.003152</td>\n",
       "      <td>0.003152</td>\n",
       "      <td>13.913</td>\n",
       "      <td>2023-07-21 20:58:59.999000+02:00</td>\n",
       "      <td>0.043854</td>\n",
       "      <td>7</td>\n",
       "      <td>4.304</td>\n",
       "      <td>0.013566</td>\n",
       "      <td>0</td>\n",
       "      <td>1689965880000</td>\n",
       "      <td>1689965939999</td>\n",
       "    </tr>\n",
       "    <tr>\n",
       "      <th>2023-07-21 20:59:00+02:00</th>\n",
       "      <td>2023-07-21 20:59:00+02:00</td>\n",
       "      <td>0.003152</td>\n",
       "      <td>0.003152</td>\n",
       "      <td>0.003151</td>\n",
       "      <td>0.003152</td>\n",
       "      <td>2.579</td>\n",
       "      <td>2023-07-21 20:59:59.999000+02:00</td>\n",
       "      <td>0.008129</td>\n",
       "      <td>4</td>\n",
       "      <td>2.470</td>\n",
       "      <td>0.007785</td>\n",
       "      <td>0</td>\n",
       "      <td>1689965940000</td>\n",
       "      <td>1689965999999</td>\n",
       "    </tr>\n",
       "    <tr>\n",
       "      <th>2023-07-21 21:00:00+02:00</th>\n",
       "      <td>2023-07-21 21:00:00+02:00</td>\n",
       "      <td>0.003152</td>\n",
       "      <td>0.003154</td>\n",
       "      <td>0.003152</td>\n",
       "      <td>0.003154</td>\n",
       "      <td>76.298</td>\n",
       "      <td>2023-07-21 21:00:59.999000+02:00</td>\n",
       "      <td>0.240511</td>\n",
       "      <td>18</td>\n",
       "      <td>62.688</td>\n",
       "      <td>0.197612</td>\n",
       "      <td>0</td>\n",
       "      <td>1689966000000</td>\n",
       "      <td>1689966059999</td>\n",
       "    </tr>\n",
       "    <tr>\n",
       "      <th>...</th>\n",
       "      <td>...</td>\n",
       "      <td>...</td>\n",
       "      <td>...</td>\n",
       "      <td>...</td>\n",
       "      <td>...</td>\n",
       "      <td>...</td>\n",
       "      <td>...</td>\n",
       "      <td>...</td>\n",
       "      <td>...</td>\n",
       "      <td>...</td>\n",
       "      <td>...</td>\n",
       "      <td>...</td>\n",
       "      <td>...</td>\n",
       "      <td>...</td>\n",
       "    </tr>\n",
       "    <tr>\n",
       "      <th>2023-07-22 13:06:00+02:00</th>\n",
       "      <td>2023-07-22 13:06:00+02:00</td>\n",
       "      <td>0.003138</td>\n",
       "      <td>0.003138</td>\n",
       "      <td>0.003138</td>\n",
       "      <td>0.003138</td>\n",
       "      <td>2.428</td>\n",
       "      <td>2023-07-22 13:06:59.999000+02:00</td>\n",
       "      <td>0.007619</td>\n",
       "      <td>1</td>\n",
       "      <td>0.000</td>\n",
       "      <td>0.000000</td>\n",
       "      <td>0</td>\n",
       "      <td>1690023960000</td>\n",
       "      <td>1690024019999</td>\n",
       "    </tr>\n",
       "    <tr>\n",
       "      <th>2023-07-22 13:07:00+02:00</th>\n",
       "      <td>2023-07-22 13:07:00+02:00</td>\n",
       "      <td>0.003137</td>\n",
       "      <td>0.003138</td>\n",
       "      <td>0.003137</td>\n",
       "      <td>0.003138</td>\n",
       "      <td>5.582</td>\n",
       "      <td>2023-07-22 13:07:59.999000+02:00</td>\n",
       "      <td>0.017511</td>\n",
       "      <td>3</td>\n",
       "      <td>0.250</td>\n",
       "      <td>0.000785</td>\n",
       "      <td>0</td>\n",
       "      <td>1690024020000</td>\n",
       "      <td>1690024079999</td>\n",
       "    </tr>\n",
       "    <tr>\n",
       "      <th>2023-07-22 13:08:00+02:00</th>\n",
       "      <td>2023-07-22 13:08:00+02:00</td>\n",
       "      <td>0.003138</td>\n",
       "      <td>0.003139</td>\n",
       "      <td>0.003138</td>\n",
       "      <td>0.003139</td>\n",
       "      <td>0.242</td>\n",
       "      <td>2023-07-22 13:08:59.999000+02:00</td>\n",
       "      <td>0.000760</td>\n",
       "      <td>2</td>\n",
       "      <td>0.242</td>\n",
       "      <td>0.000760</td>\n",
       "      <td>0</td>\n",
       "      <td>1690024080000</td>\n",
       "      <td>1690024139999</td>\n",
       "    </tr>\n",
       "    <tr>\n",
       "      <th>2023-07-22 13:09:00+02:00</th>\n",
       "      <td>2023-07-22 13:09:00+02:00</td>\n",
       "      <td>0.003139</td>\n",
       "      <td>0.003139</td>\n",
       "      <td>0.003139</td>\n",
       "      <td>0.003139</td>\n",
       "      <td>0.000</td>\n",
       "      <td>2023-07-22 13:09:59.999000+02:00</td>\n",
       "      <td>0.000000</td>\n",
       "      <td>0</td>\n",
       "      <td>0.000</td>\n",
       "      <td>0.000000</td>\n",
       "      <td>0</td>\n",
       "      <td>1690024140000</td>\n",
       "      <td>1690024199999</td>\n",
       "    </tr>\n",
       "    <tr>\n",
       "      <th>2023-07-22 13:10:00+02:00</th>\n",
       "      <td>2023-07-22 13:10:00+02:00</td>\n",
       "      <td>0.003138</td>\n",
       "      <td>0.003138</td>\n",
       "      <td>0.003137</td>\n",
       "      <td>0.003138</td>\n",
       "      <td>28.475</td>\n",
       "      <td>2023-07-22 13:10:59.999000+02:00</td>\n",
       "      <td>0.089351</td>\n",
       "      <td>16</td>\n",
       "      <td>0.787</td>\n",
       "      <td>0.002470</td>\n",
       "      <td>0</td>\n",
       "      <td>1690024200000</td>\n",
       "      <td>1690024259999</td>\n",
       "    </tr>\n",
       "  </tbody>\n",
       "</table>\n",
       "<p>975 rows × 14 columns</p>\n",
       "</div>"
      ],
      "text/plain": [
       "                                          Open time      Open      High       Low     Close  Volume                       Close time  Quote volume  Trades  Taker buy base volume  Taker buy quote volume  Ignore  Open timestamp  Close timestamp\n",
       "LTCBTC 1m Europe/Madrid                                                                                                                                                                                                                           \n",
       "2023-07-21 20:56:00+02:00 2023-07-21 20:56:00+02:00  0.003153  0.003153  0.003152  0.003153   3.409 2023-07-21 20:56:59.999000+02:00      0.010748       6                  3.132                0.009875       0   1689965760000    1689965819999\n",
       "2023-07-21 20:57:00+02:00 2023-07-21 20:57:00+02:00  0.003152  0.003153  0.003152  0.003153  13.596 2023-07-21 20:57:59.999000+02:00      0.042868       5                 13.051                0.041150       0   1689965820000    1689965879999\n",
       "2023-07-21 20:58:00+02:00 2023-07-21 20:58:00+02:00  0.003153  0.003153  0.003152  0.003152  13.913 2023-07-21 20:58:59.999000+02:00      0.043854       7                  4.304                0.013566       0   1689965880000    1689965939999\n",
       "2023-07-21 20:59:00+02:00 2023-07-21 20:59:00+02:00  0.003152  0.003152  0.003151  0.003152   2.579 2023-07-21 20:59:59.999000+02:00      0.008129       4                  2.470                0.007785       0   1689965940000    1689965999999\n",
       "2023-07-21 21:00:00+02:00 2023-07-21 21:00:00+02:00  0.003152  0.003154  0.003152  0.003154  76.298 2023-07-21 21:00:59.999000+02:00      0.240511      18                 62.688                0.197612       0   1689966000000    1689966059999\n",
       "...                                             ...       ...       ...       ...       ...     ...                              ...           ...     ...                    ...                     ...     ...             ...              ...\n",
       "2023-07-22 13:06:00+02:00 2023-07-22 13:06:00+02:00  0.003138  0.003138  0.003138  0.003138   2.428 2023-07-22 13:06:59.999000+02:00      0.007619       1                  0.000                0.000000       0   1690023960000    1690024019999\n",
       "2023-07-22 13:07:00+02:00 2023-07-22 13:07:00+02:00  0.003137  0.003138  0.003137  0.003138   5.582 2023-07-22 13:07:59.999000+02:00      0.017511       3                  0.250                0.000785       0   1690024020000    1690024079999\n",
       "2023-07-22 13:08:00+02:00 2023-07-22 13:08:00+02:00  0.003138  0.003139  0.003138  0.003139   0.242 2023-07-22 13:08:59.999000+02:00      0.000760       2                  0.242                0.000760       0   1690024080000    1690024139999\n",
       "2023-07-22 13:09:00+02:00 2023-07-22 13:09:00+02:00  0.003139  0.003139  0.003139  0.003139   0.000 2023-07-22 13:09:59.999000+02:00      0.000000       0                  0.000                0.000000       0   1690024140000    1690024199999\n",
       "2023-07-22 13:10:00+02:00 2023-07-22 13:10:00+02:00  0.003138  0.003138  0.003137  0.003138  28.475 2023-07-22 13:10:59.999000+02:00      0.089351      16                  0.787                0.002470       0   1690024200000    1690024259999\n",
       "\n",
       "[975 rows x 14 columns]"
      ]
     },
     "execution_count": 11,
     "metadata": {},
     "output_type": "execute_result"
    }
   ],
   "source": [
    "sym.df"
   ]
  },
  {
   "cell_type": "code",
   "execution_count": 12,
   "id": "73126f76",
   "metadata": {},
   "outputs": [
    {
     "name": "stdout",
     "output_type": "stream",
     "text": [
      "Requesting atomic trades between 2023-07-21 20:56:00 and 2023-07-22 13:10:59\n"
     ]
    },
    {
     "name": "stderr",
     "output_type": "stream",
     "text": [
      "2023-07-22\t 13:11:53     INFO Fetching atomic trades from redis server for LTCBTC\n",
      "2023-07-22\t 13:11:53     INFO Clean atomic 3238 trades found for LTCBTC\n"
     ]
    },
    {
     "data": {
      "text/html": [
       "<div>\n",
       "<style scoped>\n",
       "    .dataframe tbody tr th:only-of-type {\n",
       "        vertical-align: middle;\n",
       "    }\n",
       "\n",
       "    .dataframe tbody tr th {\n",
       "        vertical-align: top;\n",
       "    }\n",
       "\n",
       "    .dataframe thead th {\n",
       "        text-align: right;\n",
       "    }\n",
       "</style>\n",
       "<table border=\"1\" class=\"dataframe\">\n",
       "  <thead>\n",
       "    <tr style=\"text-align: right;\">\n",
       "      <th></th>\n",
       "      <th>Trade Id</th>\n",
       "      <th>Price</th>\n",
       "      <th>Quantity</th>\n",
       "      <th>Buyer Order Id</th>\n",
       "      <th>Seller Order Id</th>\n",
       "      <th>Date</th>\n",
       "      <th>Timestamp</th>\n",
       "      <th>Buyer was maker</th>\n",
       "      <th>Best price match</th>\n",
       "    </tr>\n",
       "    <tr>\n",
       "      <th>LTCBTC Europe/Madrid</th>\n",
       "      <th></th>\n",
       "      <th></th>\n",
       "      <th></th>\n",
       "      <th></th>\n",
       "      <th></th>\n",
       "      <th></th>\n",
       "      <th></th>\n",
       "      <th></th>\n",
       "      <th></th>\n",
       "    </tr>\n",
       "  </thead>\n",
       "  <tbody>\n",
       "    <tr>\n",
       "      <th>2023-07-22 09:15:19.076000+02:00</th>\n",
       "      <td>92721851</td>\n",
       "      <td>0.003156</td>\n",
       "      <td>7.900</td>\n",
       "      <td>1103380198</td>\n",
       "      <td>1103380300</td>\n",
       "      <td>1690010119000000000</td>\n",
       "      <td>1690010119076</td>\n",
       "      <td>True</td>\n",
       "      <td>True</td>\n",
       "    </tr>\n",
       "    <tr>\n",
       "      <th>2023-07-22 09:15:19.803000+02:00</th>\n",
       "      <td>92721852</td>\n",
       "      <td>0.003156</td>\n",
       "      <td>0.140</td>\n",
       "      <td>1103380333</td>\n",
       "      <td>1103380305</td>\n",
       "      <td>1690010119000000000</td>\n",
       "      <td>1690010119803</td>\n",
       "      <td>False</td>\n",
       "      <td>True</td>\n",
       "    </tr>\n",
       "    <tr>\n",
       "      <th>2023-07-22 09:15:26.441000+02:00</th>\n",
       "      <td>92721853</td>\n",
       "      <td>0.003155</td>\n",
       "      <td>2.178</td>\n",
       "      <td>1103379573</td>\n",
       "      <td>1103380351</td>\n",
       "      <td>1690010126000000000</td>\n",
       "      <td>1690010126441</td>\n",
       "      <td>True</td>\n",
       "      <td>True</td>\n",
       "    </tr>\n",
       "    <tr>\n",
       "      <th>2023-07-22 09:15:26.441000+02:00</th>\n",
       "      <td>92721854</td>\n",
       "      <td>0.003155</td>\n",
       "      <td>2.999</td>\n",
       "      <td>1103379593</td>\n",
       "      <td>1103380351</td>\n",
       "      <td>1690010126000000000</td>\n",
       "      <td>1690010126441</td>\n",
       "      <td>True</td>\n",
       "      <td>True</td>\n",
       "    </tr>\n",
       "    <tr>\n",
       "      <th>2023-07-22 09:15:34.272000+02:00</th>\n",
       "      <td>92721855</td>\n",
       "      <td>0.003155</td>\n",
       "      <td>0.107</td>\n",
       "      <td>1103379593</td>\n",
       "      <td>1103380373</td>\n",
       "      <td>1690010134000000000</td>\n",
       "      <td>1690010134272</td>\n",
       "      <td>True</td>\n",
       "      <td>True</td>\n",
       "    </tr>\n",
       "    <tr>\n",
       "      <th>...</th>\n",
       "      <td>...</td>\n",
       "      <td>...</td>\n",
       "      <td>...</td>\n",
       "      <td>...</td>\n",
       "      <td>...</td>\n",
       "      <td>...</td>\n",
       "      <td>...</td>\n",
       "      <td>...</td>\n",
       "      <td>...</td>\n",
       "    </tr>\n",
       "    <tr>\n",
       "      <th>2023-07-22 13:10:47.364000+02:00</th>\n",
       "      <td>92725084</td>\n",
       "      <td>0.003137</td>\n",
       "      <td>3.221</td>\n",
       "      <td>1103423151</td>\n",
       "      <td>1103424022</td>\n",
       "      <td>1690024247000000000</td>\n",
       "      <td>1690024247364</td>\n",
       "      <td>True</td>\n",
       "      <td>True</td>\n",
       "    </tr>\n",
       "    <tr>\n",
       "      <th>2023-07-22 13:10:47.383000+02:00</th>\n",
       "      <td>92725085</td>\n",
       "      <td>0.003137</td>\n",
       "      <td>0.314</td>\n",
       "      <td>1103423151</td>\n",
       "      <td>1103424023</td>\n",
       "      <td>1690024247000000000</td>\n",
       "      <td>1690024247383</td>\n",
       "      <td>True</td>\n",
       "      <td>True</td>\n",
       "    </tr>\n",
       "    <tr>\n",
       "      <th>2023-07-22 13:10:47.419000+02:00</th>\n",
       "      <td>92725086</td>\n",
       "      <td>0.003137</td>\n",
       "      <td>0.089</td>\n",
       "      <td>1103423151</td>\n",
       "      <td>1103424024</td>\n",
       "      <td>1690024247000000000</td>\n",
       "      <td>1690024247419</td>\n",
       "      <td>True</td>\n",
       "      <td>True</td>\n",
       "    </tr>\n",
       "    <tr>\n",
       "      <th>2023-07-22 13:10:47.865000+02:00</th>\n",
       "      <td>92725087</td>\n",
       "      <td>0.003137</td>\n",
       "      <td>0.097</td>\n",
       "      <td>1103423151</td>\n",
       "      <td>1103424025</td>\n",
       "      <td>1690024247000000000</td>\n",
       "      <td>1690024247865</td>\n",
       "      <td>True</td>\n",
       "      <td>True</td>\n",
       "    </tr>\n",
       "    <tr>\n",
       "      <th>2023-07-22 13:10:50.291000+02:00</th>\n",
       "      <td>92725088</td>\n",
       "      <td>0.003138</td>\n",
       "      <td>0.787</td>\n",
       "      <td>1103424030</td>\n",
       "      <td>1103423977</td>\n",
       "      <td>1690024250000000000</td>\n",
       "      <td>1690024250291</td>\n",
       "      <td>False</td>\n",
       "      <td>True</td>\n",
       "    </tr>\n",
       "  </tbody>\n",
       "</table>\n",
       "<p>3238 rows × 9 columns</p>\n",
       "</div>"
      ],
      "text/plain": [
       "                                  Trade Id     Price  Quantity  Buyer Order Id  Seller Order Id                 Date      Timestamp  Buyer was maker  Best price match\n",
       "LTCBTC Europe/Madrid                                                                                                                                                  \n",
       "2023-07-22 09:15:19.076000+02:00  92721851  0.003156     7.900      1103380198       1103380300  1690010119000000000  1690010119076             True              True\n",
       "2023-07-22 09:15:19.803000+02:00  92721852  0.003156     0.140      1103380333       1103380305  1690010119000000000  1690010119803            False              True\n",
       "2023-07-22 09:15:26.441000+02:00  92721853  0.003155     2.178      1103379573       1103380351  1690010126000000000  1690010126441             True              True\n",
       "2023-07-22 09:15:26.441000+02:00  92721854  0.003155     2.999      1103379593       1103380351  1690010126000000000  1690010126441             True              True\n",
       "2023-07-22 09:15:34.272000+02:00  92721855  0.003155     0.107      1103379593       1103380373  1690010134000000000  1690010134272             True              True\n",
       "...                                    ...       ...       ...             ...              ...                  ...            ...              ...               ...\n",
       "2023-07-22 13:10:47.364000+02:00  92725084  0.003137     3.221      1103423151       1103424022  1690024247000000000  1690024247364             True              True\n",
       "2023-07-22 13:10:47.383000+02:00  92725085  0.003137     0.314      1103423151       1103424023  1690024247000000000  1690024247383             True              True\n",
       "2023-07-22 13:10:47.419000+02:00  92725086  0.003137     0.089      1103423151       1103424024  1690024247000000000  1690024247419             True              True\n",
       "2023-07-22 13:10:47.865000+02:00  92725087  0.003137     0.097      1103423151       1103424025  1690024247000000000  1690024247865             True              True\n",
       "2023-07-22 13:10:50.291000+02:00  92725088  0.003138     0.787      1103424030       1103423977  1690024250000000000  1690024250291            False              True\n",
       "\n",
       "[3238 rows x 9 columns]"
      ]
     },
     "execution_count": 12,
     "metadata": {},
     "output_type": "execute_result"
    }
   ],
   "source": [
    "sym.get_atomic_trades()"
   ]
  },
  {
   "cell_type": "markdown",
   "id": "f644455b",
   "metadata": {},
   "source": [
    "# It's possible to pass a redis client directly as argument to Symbol class."
   ]
  },
  {
   "cell_type": "code",
   "execution_count": 13,
   "id": "d1d1294e",
   "metadata": {},
   "outputs": [],
   "source": [
    "symbol='ltcbtc'\n",
    "redis_conf_klines = {'host': '192.168.89.241', 'port': 6379, 'db': 0, 'decode_responses': True}\n",
    "redisClient_klines = StrictRedis(**redis_conf_klines)"
   ]
  },
  {
   "cell_type": "code",
   "execution_count": 14,
   "id": "1210c60b",
   "metadata": {
    "pycharm": {
     "name": "#%%\n"
    }
   },
   "outputs": [
    {
     "name": "stderr",
     "output_type": "stream",
     "text": [
      "2023-07-22\t 13:11:53     INFO get_candles_by_time_stamps -> symbol=LTCBTC tick_interval=1m start=2023-07-22 10:11:53 end=2023-07-22 13:10:58 channel:ltcbtc@kline_1m\n"
     ]
    }
   ],
   "source": [
    "sym = binpan.Symbol(symbol=symbol, tick_interval='1m', from_redis=redisClient_klines, time_zone='Europe/Madrid', hours=3)"
   ]
  },
  {
   "cell_type": "code",
   "execution_count": 15,
   "id": "9b17ce41",
   "metadata": {},
   "outputs": [
    {
     "data": {
      "text/html": [
       "<div>\n",
       "<style scoped>\n",
       "    .dataframe tbody tr th:only-of-type {\n",
       "        vertical-align: middle;\n",
       "    }\n",
       "\n",
       "    .dataframe tbody tr th {\n",
       "        vertical-align: top;\n",
       "    }\n",
       "\n",
       "    .dataframe thead th {\n",
       "        text-align: right;\n",
       "    }\n",
       "</style>\n",
       "<table border=\"1\" class=\"dataframe\">\n",
       "  <thead>\n",
       "    <tr style=\"text-align: right;\">\n",
       "      <th></th>\n",
       "      <th>Open time</th>\n",
       "      <th>Open</th>\n",
       "      <th>High</th>\n",
       "      <th>Low</th>\n",
       "      <th>Close</th>\n",
       "      <th>Volume</th>\n",
       "      <th>Close time</th>\n",
       "      <th>Quote volume</th>\n",
       "      <th>Trades</th>\n",
       "      <th>Taker buy base volume</th>\n",
       "      <th>Taker buy quote volume</th>\n",
       "      <th>Ignore</th>\n",
       "      <th>Open timestamp</th>\n",
       "      <th>Close timestamp</th>\n",
       "    </tr>\n",
       "    <tr>\n",
       "      <th>LTCBTC 1m Europe/Madrid</th>\n",
       "      <th></th>\n",
       "      <th></th>\n",
       "      <th></th>\n",
       "      <th></th>\n",
       "      <th></th>\n",
       "      <th></th>\n",
       "      <th></th>\n",
       "      <th></th>\n",
       "      <th></th>\n",
       "      <th></th>\n",
       "      <th></th>\n",
       "      <th></th>\n",
       "      <th></th>\n",
       "      <th></th>\n",
       "    </tr>\n",
       "  </thead>\n",
       "  <tbody>\n",
       "    <tr>\n",
       "      <th>2023-07-22 10:12:00+02:00</th>\n",
       "      <td>2023-07-22 10:12:00+02:00</td>\n",
       "      <td>0.003153</td>\n",
       "      <td>0.003153</td>\n",
       "      <td>0.003152</td>\n",
       "      <td>0.003153</td>\n",
       "      <td>17.381</td>\n",
       "      <td>2023-07-22 10:12:59.999000+02:00</td>\n",
       "      <td>0.054790</td>\n",
       "      <td>11</td>\n",
       "      <td>3.572</td>\n",
       "      <td>0.011262</td>\n",
       "      <td>0</td>\n",
       "      <td>1690013520000</td>\n",
       "      <td>1690013579999</td>\n",
       "    </tr>\n",
       "    <tr>\n",
       "      <th>2023-07-22 10:13:00+02:00</th>\n",
       "      <td>2023-07-22 10:13:00+02:00</td>\n",
       "      <td>0.003151</td>\n",
       "      <td>0.003153</td>\n",
       "      <td>0.003151</td>\n",
       "      <td>0.003153</td>\n",
       "      <td>0.583</td>\n",
       "      <td>2023-07-22 10:13:59.999000+02:00</td>\n",
       "      <td>0.001838</td>\n",
       "      <td>2</td>\n",
       "      <td>0.343</td>\n",
       "      <td>0.001081</td>\n",
       "      <td>0</td>\n",
       "      <td>1690013580000</td>\n",
       "      <td>1690013639999</td>\n",
       "    </tr>\n",
       "    <tr>\n",
       "      <th>2023-07-22 10:14:00+02:00</th>\n",
       "      <td>2023-07-22 10:14:00+02:00</td>\n",
       "      <td>0.003152</td>\n",
       "      <td>0.003152</td>\n",
       "      <td>0.003152</td>\n",
       "      <td>0.003152</td>\n",
       "      <td>5.320</td>\n",
       "      <td>2023-07-22 10:14:59.999000+02:00</td>\n",
       "      <td>0.016769</td>\n",
       "      <td>5</td>\n",
       "      <td>5.320</td>\n",
       "      <td>0.016769</td>\n",
       "      <td>0</td>\n",
       "      <td>1690013640000</td>\n",
       "      <td>1690013699999</td>\n",
       "    </tr>\n",
       "    <tr>\n",
       "      <th>2023-07-22 10:15:00+02:00</th>\n",
       "      <td>2023-07-22 10:15:00+02:00</td>\n",
       "      <td>0.003152</td>\n",
       "      <td>0.003154</td>\n",
       "      <td>0.003152</td>\n",
       "      <td>0.003154</td>\n",
       "      <td>3.812</td>\n",
       "      <td>2023-07-22 10:15:59.999000+02:00</td>\n",
       "      <td>0.012019</td>\n",
       "      <td>3</td>\n",
       "      <td>1.740</td>\n",
       "      <td>0.005488</td>\n",
       "      <td>0</td>\n",
       "      <td>1690013700000</td>\n",
       "      <td>1690013759999</td>\n",
       "    </tr>\n",
       "    <tr>\n",
       "      <th>2023-07-22 10:16:00+02:00</th>\n",
       "      <td>2023-07-22 10:16:00+02:00</td>\n",
       "      <td>0.003154</td>\n",
       "      <td>0.003154</td>\n",
       "      <td>0.003154</td>\n",
       "      <td>0.003154</td>\n",
       "      <td>0.103</td>\n",
       "      <td>2023-07-22 10:16:59.999000+02:00</td>\n",
       "      <td>0.000325</td>\n",
       "      <td>1</td>\n",
       "      <td>0.103</td>\n",
       "      <td>0.000325</td>\n",
       "      <td>0</td>\n",
       "      <td>1690013760000</td>\n",
       "      <td>1690013819999</td>\n",
       "    </tr>\n",
       "    <tr>\n",
       "      <th>...</th>\n",
       "      <td>...</td>\n",
       "      <td>...</td>\n",
       "      <td>...</td>\n",
       "      <td>...</td>\n",
       "      <td>...</td>\n",
       "      <td>...</td>\n",
       "      <td>...</td>\n",
       "      <td>...</td>\n",
       "      <td>...</td>\n",
       "      <td>...</td>\n",
       "      <td>...</td>\n",
       "      <td>...</td>\n",
       "      <td>...</td>\n",
       "      <td>...</td>\n",
       "    </tr>\n",
       "    <tr>\n",
       "      <th>2023-07-22 13:06:00+02:00</th>\n",
       "      <td>2023-07-22 13:06:00+02:00</td>\n",
       "      <td>0.003138</td>\n",
       "      <td>0.003138</td>\n",
       "      <td>0.003138</td>\n",
       "      <td>0.003138</td>\n",
       "      <td>2.428</td>\n",
       "      <td>2023-07-22 13:06:59.999000+02:00</td>\n",
       "      <td>0.007619</td>\n",
       "      <td>1</td>\n",
       "      <td>0.000</td>\n",
       "      <td>0.000000</td>\n",
       "      <td>0</td>\n",
       "      <td>1690023960000</td>\n",
       "      <td>1690024019999</td>\n",
       "    </tr>\n",
       "    <tr>\n",
       "      <th>2023-07-22 13:07:00+02:00</th>\n",
       "      <td>2023-07-22 13:07:00+02:00</td>\n",
       "      <td>0.003137</td>\n",
       "      <td>0.003138</td>\n",
       "      <td>0.003137</td>\n",
       "      <td>0.003138</td>\n",
       "      <td>5.582</td>\n",
       "      <td>2023-07-22 13:07:59.999000+02:00</td>\n",
       "      <td>0.017511</td>\n",
       "      <td>3</td>\n",
       "      <td>0.250</td>\n",
       "      <td>0.000785</td>\n",
       "      <td>0</td>\n",
       "      <td>1690024020000</td>\n",
       "      <td>1690024079999</td>\n",
       "    </tr>\n",
       "    <tr>\n",
       "      <th>2023-07-22 13:08:00+02:00</th>\n",
       "      <td>2023-07-22 13:08:00+02:00</td>\n",
       "      <td>0.003138</td>\n",
       "      <td>0.003139</td>\n",
       "      <td>0.003138</td>\n",
       "      <td>0.003139</td>\n",
       "      <td>0.242</td>\n",
       "      <td>2023-07-22 13:08:59.999000+02:00</td>\n",
       "      <td>0.000760</td>\n",
       "      <td>2</td>\n",
       "      <td>0.242</td>\n",
       "      <td>0.000760</td>\n",
       "      <td>0</td>\n",
       "      <td>1690024080000</td>\n",
       "      <td>1690024139999</td>\n",
       "    </tr>\n",
       "    <tr>\n",
       "      <th>2023-07-22 13:09:00+02:00</th>\n",
       "      <td>2023-07-22 13:09:00+02:00</td>\n",
       "      <td>0.003139</td>\n",
       "      <td>0.003139</td>\n",
       "      <td>0.003139</td>\n",
       "      <td>0.003139</td>\n",
       "      <td>0.000</td>\n",
       "      <td>2023-07-22 13:09:59.999000+02:00</td>\n",
       "      <td>0.000000</td>\n",
       "      <td>0</td>\n",
       "      <td>0.000</td>\n",
       "      <td>0.000000</td>\n",
       "      <td>0</td>\n",
       "      <td>1690024140000</td>\n",
       "      <td>1690024199999</td>\n",
       "    </tr>\n",
       "    <tr>\n",
       "      <th>2023-07-22 13:10:00+02:00</th>\n",
       "      <td>2023-07-22 13:10:00+02:00</td>\n",
       "      <td>0.003138</td>\n",
       "      <td>0.003138</td>\n",
       "      <td>0.003137</td>\n",
       "      <td>0.003138</td>\n",
       "      <td>28.475</td>\n",
       "      <td>2023-07-22 13:10:59.999000+02:00</td>\n",
       "      <td>0.089351</td>\n",
       "      <td>16</td>\n",
       "      <td>0.787</td>\n",
       "      <td>0.002470</td>\n",
       "      <td>0</td>\n",
       "      <td>1690024200000</td>\n",
       "      <td>1690024259999</td>\n",
       "    </tr>\n",
       "  </tbody>\n",
       "</table>\n",
       "<p>179 rows × 14 columns</p>\n",
       "</div>"
      ],
      "text/plain": [
       "                                          Open time      Open      High       Low     Close  Volume                       Close time  Quote volume  Trades  Taker buy base volume  Taker buy quote volume  Ignore  Open timestamp  Close timestamp\n",
       "LTCBTC 1m Europe/Madrid                                                                                                                                                                                                                           \n",
       "2023-07-22 10:12:00+02:00 2023-07-22 10:12:00+02:00  0.003153  0.003153  0.003152  0.003153  17.381 2023-07-22 10:12:59.999000+02:00      0.054790      11                  3.572                0.011262       0   1690013520000    1690013579999\n",
       "2023-07-22 10:13:00+02:00 2023-07-22 10:13:00+02:00  0.003151  0.003153  0.003151  0.003153   0.583 2023-07-22 10:13:59.999000+02:00      0.001838       2                  0.343                0.001081       0   1690013580000    1690013639999\n",
       "2023-07-22 10:14:00+02:00 2023-07-22 10:14:00+02:00  0.003152  0.003152  0.003152  0.003152   5.320 2023-07-22 10:14:59.999000+02:00      0.016769       5                  5.320                0.016769       0   1690013640000    1690013699999\n",
       "2023-07-22 10:15:00+02:00 2023-07-22 10:15:00+02:00  0.003152  0.003154  0.003152  0.003154   3.812 2023-07-22 10:15:59.999000+02:00      0.012019       3                  1.740                0.005488       0   1690013700000    1690013759999\n",
       "2023-07-22 10:16:00+02:00 2023-07-22 10:16:00+02:00  0.003154  0.003154  0.003154  0.003154   0.103 2023-07-22 10:16:59.999000+02:00      0.000325       1                  0.103                0.000325       0   1690013760000    1690013819999\n",
       "...                                             ...       ...       ...       ...       ...     ...                              ...           ...     ...                    ...                     ...     ...             ...              ...\n",
       "2023-07-22 13:06:00+02:00 2023-07-22 13:06:00+02:00  0.003138  0.003138  0.003138  0.003138   2.428 2023-07-22 13:06:59.999000+02:00      0.007619       1                  0.000                0.000000       0   1690023960000    1690024019999\n",
       "2023-07-22 13:07:00+02:00 2023-07-22 13:07:00+02:00  0.003137  0.003138  0.003137  0.003138   5.582 2023-07-22 13:07:59.999000+02:00      0.017511       3                  0.250                0.000785       0   1690024020000    1690024079999\n",
       "2023-07-22 13:08:00+02:00 2023-07-22 13:08:00+02:00  0.003138  0.003139  0.003138  0.003139   0.242 2023-07-22 13:08:59.999000+02:00      0.000760       2                  0.242                0.000760       0   1690024080000    1690024139999\n",
       "2023-07-22 13:09:00+02:00 2023-07-22 13:09:00+02:00  0.003139  0.003139  0.003139  0.003139   0.000 2023-07-22 13:09:59.999000+02:00      0.000000       0                  0.000                0.000000       0   1690024140000    1690024199999\n",
       "2023-07-22 13:10:00+02:00 2023-07-22 13:10:00+02:00  0.003138  0.003138  0.003137  0.003138  28.475 2023-07-22 13:10:59.999000+02:00      0.089351      16                  0.787                0.002470       0   1690024200000    1690024259999\n",
       "\n",
       "[179 rows x 14 columns]"
      ]
     },
     "execution_count": 15,
     "metadata": {},
     "output_type": "execute_result"
    }
   ],
   "source": [
    "sym.df"
   ]
  },
  {
   "cell_type": "code",
   "execution_count": 16,
   "id": "85e27a3b",
   "metadata": {
    "scrolled": false
   },
   "outputs": [
    {
     "name": "stdout",
     "output_type": "stream",
     "text": [
      "Requesting atomic trades between 2023-07-22 10:12:00 and 2023-07-22 13:10:59\n"
     ]
    },
    {
     "name": "stderr",
     "output_type": "stream",
     "text": [
      "2023-07-22\t 13:11:54     INFO Fetching atomic trades from redis server for LTCBTC\n",
      "2023-07-22\t 13:11:54     INFO Clean atomic 2698 trades found for LTCBTC\n"
     ]
    },
    {
     "data": {
      "text/html": [
       "<div>\n",
       "<style scoped>\n",
       "    .dataframe tbody tr th:only-of-type {\n",
       "        vertical-align: middle;\n",
       "    }\n",
       "\n",
       "    .dataframe tbody tr th {\n",
       "        vertical-align: top;\n",
       "    }\n",
       "\n",
       "    .dataframe thead th {\n",
       "        text-align: right;\n",
       "    }\n",
       "</style>\n",
       "<table border=\"1\" class=\"dataframe\">\n",
       "  <thead>\n",
       "    <tr style=\"text-align: right;\">\n",
       "      <th></th>\n",
       "      <th>Trade Id</th>\n",
       "      <th>Price</th>\n",
       "      <th>Quantity</th>\n",
       "      <th>Buyer Order Id</th>\n",
       "      <th>Seller Order Id</th>\n",
       "      <th>Date</th>\n",
       "      <th>Timestamp</th>\n",
       "      <th>Buyer was maker</th>\n",
       "      <th>Best price match</th>\n",
       "    </tr>\n",
       "    <tr>\n",
       "      <th>LTCBTC Europe/Madrid</th>\n",
       "      <th></th>\n",
       "      <th></th>\n",
       "      <th></th>\n",
       "      <th></th>\n",
       "      <th></th>\n",
       "      <th></th>\n",
       "      <th></th>\n",
       "      <th></th>\n",
       "      <th></th>\n",
       "    </tr>\n",
       "  </thead>\n",
       "  <tbody>\n",
       "    <tr>\n",
       "      <th>2023-07-22 10:12:10.304000+02:00</th>\n",
       "      <td>92722391</td>\n",
       "      <td>0.003153</td>\n",
       "      <td>0.766</td>\n",
       "      <td>1103388295</td>\n",
       "      <td>1103388767</td>\n",
       "      <td>1690013530000000000</td>\n",
       "      <td>1690013530304</td>\n",
       "      <td>True</td>\n",
       "      <td>True</td>\n",
       "    </tr>\n",
       "    <tr>\n",
       "      <th>2023-07-22 10:12:12.544000+02:00</th>\n",
       "      <td>92722392</td>\n",
       "      <td>0.003152</td>\n",
       "      <td>2.154</td>\n",
       "      <td>1103387474</td>\n",
       "      <td>1103388801</td>\n",
       "      <td>1690013532000000000</td>\n",
       "      <td>1690013532544</td>\n",
       "      <td>True</td>\n",
       "      <td>True</td>\n",
       "    </tr>\n",
       "    <tr>\n",
       "      <th>2023-07-22 10:12:15.404000+02:00</th>\n",
       "      <td>92722393</td>\n",
       "      <td>0.003153</td>\n",
       "      <td>3.332</td>\n",
       "      <td>1103388811</td>\n",
       "      <td>1103388767</td>\n",
       "      <td>1690013535000000000</td>\n",
       "      <td>1690013535404</td>\n",
       "      <td>False</td>\n",
       "      <td>True</td>\n",
       "    </tr>\n",
       "    <tr>\n",
       "      <th>2023-07-22 10:12:25.708000+02:00</th>\n",
       "      <td>92722394</td>\n",
       "      <td>0.003152</td>\n",
       "      <td>4.672</td>\n",
       "      <td>1103387474</td>\n",
       "      <td>1103388832</td>\n",
       "      <td>1690013545000000000</td>\n",
       "      <td>1690013545708</td>\n",
       "      <td>True</td>\n",
       "      <td>True</td>\n",
       "    </tr>\n",
       "    <tr>\n",
       "      <th>2023-07-22 10:12:25.708000+02:00</th>\n",
       "      <td>92722395</td>\n",
       "      <td>0.003152</td>\n",
       "      <td>1.741</td>\n",
       "      <td>1103388636</td>\n",
       "      <td>1103388832</td>\n",
       "      <td>1690013545000000000</td>\n",
       "      <td>1690013545708</td>\n",
       "      <td>True</td>\n",
       "      <td>True</td>\n",
       "    </tr>\n",
       "    <tr>\n",
       "      <th>...</th>\n",
       "      <td>...</td>\n",
       "      <td>...</td>\n",
       "      <td>...</td>\n",
       "      <td>...</td>\n",
       "      <td>...</td>\n",
       "      <td>...</td>\n",
       "      <td>...</td>\n",
       "      <td>...</td>\n",
       "      <td>...</td>\n",
       "    </tr>\n",
       "    <tr>\n",
       "      <th>2023-07-22 13:10:47.364000+02:00</th>\n",
       "      <td>92725084</td>\n",
       "      <td>0.003137</td>\n",
       "      <td>3.221</td>\n",
       "      <td>1103423151</td>\n",
       "      <td>1103424022</td>\n",
       "      <td>1690024247000000000</td>\n",
       "      <td>1690024247364</td>\n",
       "      <td>True</td>\n",
       "      <td>True</td>\n",
       "    </tr>\n",
       "    <tr>\n",
       "      <th>2023-07-22 13:10:47.383000+02:00</th>\n",
       "      <td>92725085</td>\n",
       "      <td>0.003137</td>\n",
       "      <td>0.314</td>\n",
       "      <td>1103423151</td>\n",
       "      <td>1103424023</td>\n",
       "      <td>1690024247000000000</td>\n",
       "      <td>1690024247383</td>\n",
       "      <td>True</td>\n",
       "      <td>True</td>\n",
       "    </tr>\n",
       "    <tr>\n",
       "      <th>2023-07-22 13:10:47.419000+02:00</th>\n",
       "      <td>92725086</td>\n",
       "      <td>0.003137</td>\n",
       "      <td>0.089</td>\n",
       "      <td>1103423151</td>\n",
       "      <td>1103424024</td>\n",
       "      <td>1690024247000000000</td>\n",
       "      <td>1690024247419</td>\n",
       "      <td>True</td>\n",
       "      <td>True</td>\n",
       "    </tr>\n",
       "    <tr>\n",
       "      <th>2023-07-22 13:10:47.865000+02:00</th>\n",
       "      <td>92725087</td>\n",
       "      <td>0.003137</td>\n",
       "      <td>0.097</td>\n",
       "      <td>1103423151</td>\n",
       "      <td>1103424025</td>\n",
       "      <td>1690024247000000000</td>\n",
       "      <td>1690024247865</td>\n",
       "      <td>True</td>\n",
       "      <td>True</td>\n",
       "    </tr>\n",
       "    <tr>\n",
       "      <th>2023-07-22 13:10:50.291000+02:00</th>\n",
       "      <td>92725088</td>\n",
       "      <td>0.003138</td>\n",
       "      <td>0.787</td>\n",
       "      <td>1103424030</td>\n",
       "      <td>1103423977</td>\n",
       "      <td>1690024250000000000</td>\n",
       "      <td>1690024250291</td>\n",
       "      <td>False</td>\n",
       "      <td>True</td>\n",
       "    </tr>\n",
       "  </tbody>\n",
       "</table>\n",
       "<p>2698 rows × 9 columns</p>\n",
       "</div>"
      ],
      "text/plain": [
       "                                  Trade Id     Price  Quantity  Buyer Order Id  Seller Order Id                 Date      Timestamp  Buyer was maker  Best price match\n",
       "LTCBTC Europe/Madrid                                                                                                                                                  \n",
       "2023-07-22 10:12:10.304000+02:00  92722391  0.003153     0.766      1103388295       1103388767  1690013530000000000  1690013530304             True              True\n",
       "2023-07-22 10:12:12.544000+02:00  92722392  0.003152     2.154      1103387474       1103388801  1690013532000000000  1690013532544             True              True\n",
       "2023-07-22 10:12:15.404000+02:00  92722393  0.003153     3.332      1103388811       1103388767  1690013535000000000  1690013535404            False              True\n",
       "2023-07-22 10:12:25.708000+02:00  92722394  0.003152     4.672      1103387474       1103388832  1690013545000000000  1690013545708             True              True\n",
       "2023-07-22 10:12:25.708000+02:00  92722395  0.003152     1.741      1103388636       1103388832  1690013545000000000  1690013545708             True              True\n",
       "...                                    ...       ...       ...             ...              ...                  ...            ...              ...               ...\n",
       "2023-07-22 13:10:47.364000+02:00  92725084  0.003137     3.221      1103423151       1103424022  1690024247000000000  1690024247364             True              True\n",
       "2023-07-22 13:10:47.383000+02:00  92725085  0.003137     0.314      1103423151       1103424023  1690024247000000000  1690024247383             True              True\n",
       "2023-07-22 13:10:47.419000+02:00  92725086  0.003137     0.089      1103423151       1103424024  1690024247000000000  1690024247419             True              True\n",
       "2023-07-22 13:10:47.865000+02:00  92725087  0.003137     0.097      1103423151       1103424025  1690024247000000000  1690024247865             True              True\n",
       "2023-07-22 13:10:50.291000+02:00  92725088  0.003138     0.787      1103424030       1103423977  1690024250000000000  1690024250291            False              True\n",
       "\n",
       "[2698 rows x 9 columns]"
      ]
     },
     "execution_count": 16,
     "metadata": {},
     "output_type": "execute_result"
    }
   ],
   "source": [
    "# will get just EXISTING trades in the server\n",
    "sym.get_atomic_trades()"
   ]
  },
  {
   "cell_type": "markdown",
   "id": "0331d03a",
   "metadata": {},
   "source": [
    "# Using sentinel secret.py configuration"
   ]
  },
  {
   "cell_type": "code",
   "execution_count": 17,
   "id": "4110739f",
   "metadata": {},
   "outputs": [
    {
     "name": "stderr",
     "output_type": "stream",
     "text": [
      "2023-07-22\t 13:11:55     INFO get_candles_by_time_stamps -> symbol=LTCBTC tick_interval=1m start=2023-07-19 01:51:55 end=2023-07-22 13:10:58 channel:ltcbtc@kline_1m\n"
     ]
    },
    {
     "data": {
      "text/html": [
       "<div>\n",
       "<style scoped>\n",
       "    .dataframe tbody tr th:only-of-type {\n",
       "        vertical-align: middle;\n",
       "    }\n",
       "\n",
       "    .dataframe tbody tr th {\n",
       "        vertical-align: top;\n",
       "    }\n",
       "\n",
       "    .dataframe thead th {\n",
       "        text-align: right;\n",
       "    }\n",
       "</style>\n",
       "<table border=\"1\" class=\"dataframe\">\n",
       "  <thead>\n",
       "    <tr style=\"text-align: right;\">\n",
       "      <th></th>\n",
       "      <th>Open time</th>\n",
       "      <th>Open</th>\n",
       "      <th>High</th>\n",
       "      <th>Low</th>\n",
       "      <th>Close</th>\n",
       "      <th>Volume</th>\n",
       "      <th>Close time</th>\n",
       "      <th>Quote volume</th>\n",
       "      <th>Trades</th>\n",
       "      <th>Taker buy base volume</th>\n",
       "      <th>Taker buy quote volume</th>\n",
       "      <th>Ignore</th>\n",
       "      <th>Open timestamp</th>\n",
       "      <th>Close timestamp</th>\n",
       "    </tr>\n",
       "    <tr>\n",
       "      <th>LTCBTC 1m Europe/Madrid</th>\n",
       "      <th></th>\n",
       "      <th></th>\n",
       "      <th></th>\n",
       "      <th></th>\n",
       "      <th></th>\n",
       "      <th></th>\n",
       "      <th></th>\n",
       "      <th></th>\n",
       "      <th></th>\n",
       "      <th></th>\n",
       "      <th></th>\n",
       "      <th></th>\n",
       "      <th></th>\n",
       "      <th></th>\n",
       "    </tr>\n",
       "  </thead>\n",
       "  <tbody>\n",
       "    <tr>\n",
       "      <th>2023-07-21 20:56:00+02:00</th>\n",
       "      <td>2023-07-21 20:56:00+02:00</td>\n",
       "      <td>0.003153</td>\n",
       "      <td>0.003153</td>\n",
       "      <td>0.003152</td>\n",
       "      <td>0.003153</td>\n",
       "      <td>3.409</td>\n",
       "      <td>2023-07-21 20:56:59.999000+02:00</td>\n",
       "      <td>0.010748</td>\n",
       "      <td>6</td>\n",
       "      <td>3.132</td>\n",
       "      <td>0.009875</td>\n",
       "      <td>0</td>\n",
       "      <td>1689965760000</td>\n",
       "      <td>1689965819999</td>\n",
       "    </tr>\n",
       "    <tr>\n",
       "      <th>2023-07-21 20:57:00+02:00</th>\n",
       "      <td>2023-07-21 20:57:00+02:00</td>\n",
       "      <td>0.003152</td>\n",
       "      <td>0.003153</td>\n",
       "      <td>0.003152</td>\n",
       "      <td>0.003153</td>\n",
       "      <td>13.596</td>\n",
       "      <td>2023-07-21 20:57:59.999000+02:00</td>\n",
       "      <td>0.042868</td>\n",
       "      <td>5</td>\n",
       "      <td>13.051</td>\n",
       "      <td>0.041150</td>\n",
       "      <td>0</td>\n",
       "      <td>1689965820000</td>\n",
       "      <td>1689965879999</td>\n",
       "    </tr>\n",
       "    <tr>\n",
       "      <th>2023-07-21 20:58:00+02:00</th>\n",
       "      <td>2023-07-21 20:58:00+02:00</td>\n",
       "      <td>0.003153</td>\n",
       "      <td>0.003153</td>\n",
       "      <td>0.003152</td>\n",
       "      <td>0.003152</td>\n",
       "      <td>13.913</td>\n",
       "      <td>2023-07-21 20:58:59.999000+02:00</td>\n",
       "      <td>0.043854</td>\n",
       "      <td>7</td>\n",
       "      <td>4.304</td>\n",
       "      <td>0.013566</td>\n",
       "      <td>0</td>\n",
       "      <td>1689965880000</td>\n",
       "      <td>1689965939999</td>\n",
       "    </tr>\n",
       "    <tr>\n",
       "      <th>2023-07-21 20:59:00+02:00</th>\n",
       "      <td>2023-07-21 20:59:00+02:00</td>\n",
       "      <td>0.003152</td>\n",
       "      <td>0.003152</td>\n",
       "      <td>0.003151</td>\n",
       "      <td>0.003152</td>\n",
       "      <td>2.579</td>\n",
       "      <td>2023-07-21 20:59:59.999000+02:00</td>\n",
       "      <td>0.008129</td>\n",
       "      <td>4</td>\n",
       "      <td>2.470</td>\n",
       "      <td>0.007785</td>\n",
       "      <td>0</td>\n",
       "      <td>1689965940000</td>\n",
       "      <td>1689965999999</td>\n",
       "    </tr>\n",
       "    <tr>\n",
       "      <th>2023-07-21 21:00:00+02:00</th>\n",
       "      <td>2023-07-21 21:00:00+02:00</td>\n",
       "      <td>0.003152</td>\n",
       "      <td>0.003154</td>\n",
       "      <td>0.003152</td>\n",
       "      <td>0.003154</td>\n",
       "      <td>76.298</td>\n",
       "      <td>2023-07-21 21:00:59.999000+02:00</td>\n",
       "      <td>0.240511</td>\n",
       "      <td>18</td>\n",
       "      <td>62.688</td>\n",
       "      <td>0.197612</td>\n",
       "      <td>0</td>\n",
       "      <td>1689966000000</td>\n",
       "      <td>1689966059999</td>\n",
       "    </tr>\n",
       "    <tr>\n",
       "      <th>...</th>\n",
       "      <td>...</td>\n",
       "      <td>...</td>\n",
       "      <td>...</td>\n",
       "      <td>...</td>\n",
       "      <td>...</td>\n",
       "      <td>...</td>\n",
       "      <td>...</td>\n",
       "      <td>...</td>\n",
       "      <td>...</td>\n",
       "      <td>...</td>\n",
       "      <td>...</td>\n",
       "      <td>...</td>\n",
       "      <td>...</td>\n",
       "      <td>...</td>\n",
       "    </tr>\n",
       "    <tr>\n",
       "      <th>2023-07-22 13:06:00+02:00</th>\n",
       "      <td>2023-07-22 13:06:00+02:00</td>\n",
       "      <td>0.003138</td>\n",
       "      <td>0.003138</td>\n",
       "      <td>0.003138</td>\n",
       "      <td>0.003138</td>\n",
       "      <td>2.428</td>\n",
       "      <td>2023-07-22 13:06:59.999000+02:00</td>\n",
       "      <td>0.007619</td>\n",
       "      <td>1</td>\n",
       "      <td>0.000</td>\n",
       "      <td>0.000000</td>\n",
       "      <td>0</td>\n",
       "      <td>1690023960000</td>\n",
       "      <td>1690024019999</td>\n",
       "    </tr>\n",
       "    <tr>\n",
       "      <th>2023-07-22 13:07:00+02:00</th>\n",
       "      <td>2023-07-22 13:07:00+02:00</td>\n",
       "      <td>0.003137</td>\n",
       "      <td>0.003138</td>\n",
       "      <td>0.003137</td>\n",
       "      <td>0.003138</td>\n",
       "      <td>5.582</td>\n",
       "      <td>2023-07-22 13:07:59.999000+02:00</td>\n",
       "      <td>0.017511</td>\n",
       "      <td>3</td>\n",
       "      <td>0.250</td>\n",
       "      <td>0.000785</td>\n",
       "      <td>0</td>\n",
       "      <td>1690024020000</td>\n",
       "      <td>1690024079999</td>\n",
       "    </tr>\n",
       "    <tr>\n",
       "      <th>2023-07-22 13:08:00+02:00</th>\n",
       "      <td>2023-07-22 13:08:00+02:00</td>\n",
       "      <td>0.003138</td>\n",
       "      <td>0.003139</td>\n",
       "      <td>0.003138</td>\n",
       "      <td>0.003139</td>\n",
       "      <td>0.242</td>\n",
       "      <td>2023-07-22 13:08:59.999000+02:00</td>\n",
       "      <td>0.000760</td>\n",
       "      <td>2</td>\n",
       "      <td>0.242</td>\n",
       "      <td>0.000760</td>\n",
       "      <td>0</td>\n",
       "      <td>1690024080000</td>\n",
       "      <td>1690024139999</td>\n",
       "    </tr>\n",
       "    <tr>\n",
       "      <th>2023-07-22 13:09:00+02:00</th>\n",
       "      <td>2023-07-22 13:09:00+02:00</td>\n",
       "      <td>0.003139</td>\n",
       "      <td>0.003139</td>\n",
       "      <td>0.003139</td>\n",
       "      <td>0.003139</td>\n",
       "      <td>0.000</td>\n",
       "      <td>2023-07-22 13:09:59.999000+02:00</td>\n",
       "      <td>0.000000</td>\n",
       "      <td>0</td>\n",
       "      <td>0.000</td>\n",
       "      <td>0.000000</td>\n",
       "      <td>0</td>\n",
       "      <td>1690024140000</td>\n",
       "      <td>1690024199999</td>\n",
       "    </tr>\n",
       "    <tr>\n",
       "      <th>2023-07-22 13:10:00+02:00</th>\n",
       "      <td>2023-07-22 13:10:00+02:00</td>\n",
       "      <td>0.003138</td>\n",
       "      <td>0.003138</td>\n",
       "      <td>0.003137</td>\n",
       "      <td>0.003138</td>\n",
       "      <td>28.475</td>\n",
       "      <td>2023-07-22 13:10:59.999000+02:00</td>\n",
       "      <td>0.089351</td>\n",
       "      <td>16</td>\n",
       "      <td>0.787</td>\n",
       "      <td>0.002470</td>\n",
       "      <td>0</td>\n",
       "      <td>1690024200000</td>\n",
       "      <td>1690024259999</td>\n",
       "    </tr>\n",
       "  </tbody>\n",
       "</table>\n",
       "<p>975 rows × 14 columns</p>\n",
       "</div>"
      ],
      "text/plain": [
       "                                          Open time      Open      High       Low     Close  Volume                       Close time  Quote volume  Trades  Taker buy base volume  Taker buy quote volume  Ignore  Open timestamp  Close timestamp\n",
       "LTCBTC 1m Europe/Madrid                                                                                                                                                                                                                           \n",
       "2023-07-21 20:56:00+02:00 2023-07-21 20:56:00+02:00  0.003153  0.003153  0.003152  0.003153   3.409 2023-07-21 20:56:59.999000+02:00      0.010748       6                  3.132                0.009875       0   1689965760000    1689965819999\n",
       "2023-07-21 20:57:00+02:00 2023-07-21 20:57:00+02:00  0.003152  0.003153  0.003152  0.003153  13.596 2023-07-21 20:57:59.999000+02:00      0.042868       5                 13.051                0.041150       0   1689965820000    1689965879999\n",
       "2023-07-21 20:58:00+02:00 2023-07-21 20:58:00+02:00  0.003153  0.003153  0.003152  0.003152  13.913 2023-07-21 20:58:59.999000+02:00      0.043854       7                  4.304                0.013566       0   1689965880000    1689965939999\n",
       "2023-07-21 20:59:00+02:00 2023-07-21 20:59:00+02:00  0.003152  0.003152  0.003151  0.003152   2.579 2023-07-21 20:59:59.999000+02:00      0.008129       4                  2.470                0.007785       0   1689965940000    1689965999999\n",
       "2023-07-21 21:00:00+02:00 2023-07-21 21:00:00+02:00  0.003152  0.003154  0.003152  0.003154  76.298 2023-07-21 21:00:59.999000+02:00      0.240511      18                 62.688                0.197612       0   1689966000000    1689966059999\n",
       "...                                             ...       ...       ...       ...       ...     ...                              ...           ...     ...                    ...                     ...     ...             ...              ...\n",
       "2023-07-22 13:06:00+02:00 2023-07-22 13:06:00+02:00  0.003138  0.003138  0.003138  0.003138   2.428 2023-07-22 13:06:59.999000+02:00      0.007619       1                  0.000                0.000000       0   1690023960000    1690024019999\n",
       "2023-07-22 13:07:00+02:00 2023-07-22 13:07:00+02:00  0.003137  0.003138  0.003137  0.003138   5.582 2023-07-22 13:07:59.999000+02:00      0.017511       3                  0.250                0.000785       0   1690024020000    1690024079999\n",
       "2023-07-22 13:08:00+02:00 2023-07-22 13:08:00+02:00  0.003138  0.003139  0.003138  0.003139   0.242 2023-07-22 13:08:59.999000+02:00      0.000760       2                  0.242                0.000760       0   1690024080000    1690024139999\n",
       "2023-07-22 13:09:00+02:00 2023-07-22 13:09:00+02:00  0.003139  0.003139  0.003139  0.003139   0.000 2023-07-22 13:09:59.999000+02:00      0.000000       0                  0.000                0.000000       0   1690024140000    1690024199999\n",
       "2023-07-22 13:10:00+02:00 2023-07-22 13:10:00+02:00  0.003138  0.003138  0.003137  0.003138  28.475 2023-07-22 13:10:59.999000+02:00      0.089351      16                  0.787                0.002470       0   1690024200000    1690024259999\n",
       "\n",
       "[975 rows x 14 columns]"
      ]
     },
     "execution_count": 17,
     "metadata": {},
     "output_type": "execute_result"
    }
   ],
   "source": [
    "sym = binpan.Symbol(symbol='ltcbtc', tick_interval='1m', sentinel_redis=True, time_zone='Europe/Madrid', limit=5000)\n",
    "sym.df"
   ]
  },
  {
   "cell_type": "code",
   "execution_count": 18,
   "id": "052172f0",
   "metadata": {},
   "outputs": [
    {
     "data": {
      "text/plain": [
       "Redis<SentinelConnectionPool<service=mymaster(master)>"
      ]
     },
     "execution_count": 18,
     "metadata": {},
     "output_type": "execute_result"
    }
   ],
   "source": [
    "sym.from_redis"
   ]
  },
  {
   "cell_type": "code",
   "execution_count": 19,
   "id": "2347250a",
   "metadata": {},
   "outputs": [
    {
     "name": "stdout",
     "output_type": "stream",
     "text": [
      "Requesting atomic trades between 2023-07-21 20:56:00 and 2023-07-22 13:10:59\n"
     ]
    },
    {
     "name": "stderr",
     "output_type": "stream",
     "text": [
      "2023-07-22\t 13:11:55     INFO Fetching atomic trades from redis server for LTCBTC\n",
      "2023-07-22\t 13:11:55     INFO Clean atomic 3238 trades found for LTCBTC\n"
     ]
    },
    {
     "data": {
      "text/html": [
       "<div>\n",
       "<style scoped>\n",
       "    .dataframe tbody tr th:only-of-type {\n",
       "        vertical-align: middle;\n",
       "    }\n",
       "\n",
       "    .dataframe tbody tr th {\n",
       "        vertical-align: top;\n",
       "    }\n",
       "\n",
       "    .dataframe thead th {\n",
       "        text-align: right;\n",
       "    }\n",
       "</style>\n",
       "<table border=\"1\" class=\"dataframe\">\n",
       "  <thead>\n",
       "    <tr style=\"text-align: right;\">\n",
       "      <th></th>\n",
       "      <th>Trade Id</th>\n",
       "      <th>Price</th>\n",
       "      <th>Quantity</th>\n",
       "      <th>Buyer Order Id</th>\n",
       "      <th>Seller Order Id</th>\n",
       "      <th>Date</th>\n",
       "      <th>Timestamp</th>\n",
       "      <th>Buyer was maker</th>\n",
       "      <th>Best price match</th>\n",
       "    </tr>\n",
       "    <tr>\n",
       "      <th>LTCBTC Europe/Madrid</th>\n",
       "      <th></th>\n",
       "      <th></th>\n",
       "      <th></th>\n",
       "      <th></th>\n",
       "      <th></th>\n",
       "      <th></th>\n",
       "      <th></th>\n",
       "      <th></th>\n",
       "      <th></th>\n",
       "    </tr>\n",
       "  </thead>\n",
       "  <tbody>\n",
       "    <tr>\n",
       "      <th>2023-07-22 09:15:19.076000+02:00</th>\n",
       "      <td>92721851</td>\n",
       "      <td>0.003156</td>\n",
       "      <td>7.900</td>\n",
       "      <td>1103380198</td>\n",
       "      <td>1103380300</td>\n",
       "      <td>1690010119000000000</td>\n",
       "      <td>1690010119076</td>\n",
       "      <td>True</td>\n",
       "      <td>True</td>\n",
       "    </tr>\n",
       "    <tr>\n",
       "      <th>2023-07-22 09:15:19.803000+02:00</th>\n",
       "      <td>92721852</td>\n",
       "      <td>0.003156</td>\n",
       "      <td>0.140</td>\n",
       "      <td>1103380333</td>\n",
       "      <td>1103380305</td>\n",
       "      <td>1690010119000000000</td>\n",
       "      <td>1690010119803</td>\n",
       "      <td>False</td>\n",
       "      <td>True</td>\n",
       "    </tr>\n",
       "    <tr>\n",
       "      <th>2023-07-22 09:15:26.441000+02:00</th>\n",
       "      <td>92721853</td>\n",
       "      <td>0.003155</td>\n",
       "      <td>2.178</td>\n",
       "      <td>1103379573</td>\n",
       "      <td>1103380351</td>\n",
       "      <td>1690010126000000000</td>\n",
       "      <td>1690010126441</td>\n",
       "      <td>True</td>\n",
       "      <td>True</td>\n",
       "    </tr>\n",
       "    <tr>\n",
       "      <th>2023-07-22 09:15:26.441000+02:00</th>\n",
       "      <td>92721854</td>\n",
       "      <td>0.003155</td>\n",
       "      <td>2.999</td>\n",
       "      <td>1103379593</td>\n",
       "      <td>1103380351</td>\n",
       "      <td>1690010126000000000</td>\n",
       "      <td>1690010126441</td>\n",
       "      <td>True</td>\n",
       "      <td>True</td>\n",
       "    </tr>\n",
       "    <tr>\n",
       "      <th>2023-07-22 09:15:34.272000+02:00</th>\n",
       "      <td>92721855</td>\n",
       "      <td>0.003155</td>\n",
       "      <td>0.107</td>\n",
       "      <td>1103379593</td>\n",
       "      <td>1103380373</td>\n",
       "      <td>1690010134000000000</td>\n",
       "      <td>1690010134272</td>\n",
       "      <td>True</td>\n",
       "      <td>True</td>\n",
       "    </tr>\n",
       "    <tr>\n",
       "      <th>...</th>\n",
       "      <td>...</td>\n",
       "      <td>...</td>\n",
       "      <td>...</td>\n",
       "      <td>...</td>\n",
       "      <td>...</td>\n",
       "      <td>...</td>\n",
       "      <td>...</td>\n",
       "      <td>...</td>\n",
       "      <td>...</td>\n",
       "    </tr>\n",
       "    <tr>\n",
       "      <th>2023-07-22 13:10:47.364000+02:00</th>\n",
       "      <td>92725084</td>\n",
       "      <td>0.003137</td>\n",
       "      <td>3.221</td>\n",
       "      <td>1103423151</td>\n",
       "      <td>1103424022</td>\n",
       "      <td>1690024247000000000</td>\n",
       "      <td>1690024247364</td>\n",
       "      <td>True</td>\n",
       "      <td>True</td>\n",
       "    </tr>\n",
       "    <tr>\n",
       "      <th>2023-07-22 13:10:47.383000+02:00</th>\n",
       "      <td>92725085</td>\n",
       "      <td>0.003137</td>\n",
       "      <td>0.314</td>\n",
       "      <td>1103423151</td>\n",
       "      <td>1103424023</td>\n",
       "      <td>1690024247000000000</td>\n",
       "      <td>1690024247383</td>\n",
       "      <td>True</td>\n",
       "      <td>True</td>\n",
       "    </tr>\n",
       "    <tr>\n",
       "      <th>2023-07-22 13:10:47.419000+02:00</th>\n",
       "      <td>92725086</td>\n",
       "      <td>0.003137</td>\n",
       "      <td>0.089</td>\n",
       "      <td>1103423151</td>\n",
       "      <td>1103424024</td>\n",
       "      <td>1690024247000000000</td>\n",
       "      <td>1690024247419</td>\n",
       "      <td>True</td>\n",
       "      <td>True</td>\n",
       "    </tr>\n",
       "    <tr>\n",
       "      <th>2023-07-22 13:10:47.865000+02:00</th>\n",
       "      <td>92725087</td>\n",
       "      <td>0.003137</td>\n",
       "      <td>0.097</td>\n",
       "      <td>1103423151</td>\n",
       "      <td>1103424025</td>\n",
       "      <td>1690024247000000000</td>\n",
       "      <td>1690024247865</td>\n",
       "      <td>True</td>\n",
       "      <td>True</td>\n",
       "    </tr>\n",
       "    <tr>\n",
       "      <th>2023-07-22 13:10:50.291000+02:00</th>\n",
       "      <td>92725088</td>\n",
       "      <td>0.003138</td>\n",
       "      <td>0.787</td>\n",
       "      <td>1103424030</td>\n",
       "      <td>1103423977</td>\n",
       "      <td>1690024250000000000</td>\n",
       "      <td>1690024250291</td>\n",
       "      <td>False</td>\n",
       "      <td>True</td>\n",
       "    </tr>\n",
       "  </tbody>\n",
       "</table>\n",
       "<p>3238 rows × 9 columns</p>\n",
       "</div>"
      ],
      "text/plain": [
       "                                  Trade Id     Price  Quantity  Buyer Order Id  Seller Order Id                 Date      Timestamp  Buyer was maker  Best price match\n",
       "LTCBTC Europe/Madrid                                                                                                                                                  \n",
       "2023-07-22 09:15:19.076000+02:00  92721851  0.003156     7.900      1103380198       1103380300  1690010119000000000  1690010119076             True              True\n",
       "2023-07-22 09:15:19.803000+02:00  92721852  0.003156     0.140      1103380333       1103380305  1690010119000000000  1690010119803            False              True\n",
       "2023-07-22 09:15:26.441000+02:00  92721853  0.003155     2.178      1103379573       1103380351  1690010126000000000  1690010126441             True              True\n",
       "2023-07-22 09:15:26.441000+02:00  92721854  0.003155     2.999      1103379593       1103380351  1690010126000000000  1690010126441             True              True\n",
       "2023-07-22 09:15:34.272000+02:00  92721855  0.003155     0.107      1103379593       1103380373  1690010134000000000  1690010134272             True              True\n",
       "...                                    ...       ...       ...             ...              ...                  ...            ...              ...               ...\n",
       "2023-07-22 13:10:47.364000+02:00  92725084  0.003137     3.221      1103423151       1103424022  1690024247000000000  1690024247364             True              True\n",
       "2023-07-22 13:10:47.383000+02:00  92725085  0.003137     0.314      1103423151       1103424023  1690024247000000000  1690024247383             True              True\n",
       "2023-07-22 13:10:47.419000+02:00  92725086  0.003137     0.089      1103423151       1103424024  1690024247000000000  1690024247419             True              True\n",
       "2023-07-22 13:10:47.865000+02:00  92725087  0.003137     0.097      1103423151       1103424025  1690024247000000000  1690024247865             True              True\n",
       "2023-07-22 13:10:50.291000+02:00  92725088  0.003138     0.787      1103424030       1103423977  1690024250000000000  1690024250291            False              True\n",
       "\n",
       "[3238 rows x 9 columns]"
      ]
     },
     "execution_count": 19,
     "metadata": {},
     "output_type": "execute_result"
    }
   ],
   "source": [
    "sym.get_atomic_trades()"
   ]
  },
  {
   "cell_type": "markdown",
   "id": "d1c76e93",
   "metadata": {},
   "source": [
    "# Passing sentinel config to class"
   ]
  },
  {
   "cell_type": "code",
   "execution_count": 23,
   "id": "8a846788",
   "metadata": {},
   "outputs": [
    {
     "name": "stderr",
     "output_type": "stream",
     "text": [
      "2023-07-22\t 13:13:16     INFO get_candles_by_time_stamps -> symbol=LTCBTC tick_interval=1m start=2023-07-19 01:53:16 end=2023-07-22 13:12:58 channel:ltcbtc@kline_1m\n"
     ]
    },
    {
     "data": {
      "text/html": [
       "<div>\n",
       "<style scoped>\n",
       "    .dataframe tbody tr th:only-of-type {\n",
       "        vertical-align: middle;\n",
       "    }\n",
       "\n",
       "    .dataframe tbody tr th {\n",
       "        vertical-align: top;\n",
       "    }\n",
       "\n",
       "    .dataframe thead th {\n",
       "        text-align: right;\n",
       "    }\n",
       "</style>\n",
       "<table border=\"1\" class=\"dataframe\">\n",
       "  <thead>\n",
       "    <tr style=\"text-align: right;\">\n",
       "      <th></th>\n",
       "      <th>Open time</th>\n",
       "      <th>Open</th>\n",
       "      <th>High</th>\n",
       "      <th>Low</th>\n",
       "      <th>Close</th>\n",
       "      <th>Volume</th>\n",
       "      <th>Close time</th>\n",
       "      <th>Quote volume</th>\n",
       "      <th>Trades</th>\n",
       "      <th>Taker buy base volume</th>\n",
       "      <th>Taker buy quote volume</th>\n",
       "      <th>Ignore</th>\n",
       "      <th>Open timestamp</th>\n",
       "      <th>Close timestamp</th>\n",
       "    </tr>\n",
       "    <tr>\n",
       "      <th>LTCBTC 1m Europe/Madrid</th>\n",
       "      <th></th>\n",
       "      <th></th>\n",
       "      <th></th>\n",
       "      <th></th>\n",
       "      <th></th>\n",
       "      <th></th>\n",
       "      <th></th>\n",
       "      <th></th>\n",
       "      <th></th>\n",
       "      <th></th>\n",
       "      <th></th>\n",
       "      <th></th>\n",
       "      <th></th>\n",
       "      <th></th>\n",
       "    </tr>\n",
       "  </thead>\n",
       "  <tbody>\n",
       "    <tr>\n",
       "      <th>2023-07-21 20:56:00+02:00</th>\n",
       "      <td>2023-07-21 20:56:00+02:00</td>\n",
       "      <td>0.003153</td>\n",
       "      <td>0.003153</td>\n",
       "      <td>0.003152</td>\n",
       "      <td>0.003153</td>\n",
       "      <td>3.409</td>\n",
       "      <td>2023-07-21 20:56:59.999000+02:00</td>\n",
       "      <td>0.010748</td>\n",
       "      <td>6</td>\n",
       "      <td>3.132</td>\n",
       "      <td>0.009875</td>\n",
       "      <td>0</td>\n",
       "      <td>1689965760000</td>\n",
       "      <td>1689965819999</td>\n",
       "    </tr>\n",
       "    <tr>\n",
       "      <th>2023-07-21 20:57:00+02:00</th>\n",
       "      <td>2023-07-21 20:57:00+02:00</td>\n",
       "      <td>0.003152</td>\n",
       "      <td>0.003153</td>\n",
       "      <td>0.003152</td>\n",
       "      <td>0.003153</td>\n",
       "      <td>13.596</td>\n",
       "      <td>2023-07-21 20:57:59.999000+02:00</td>\n",
       "      <td>0.042868</td>\n",
       "      <td>5</td>\n",
       "      <td>13.051</td>\n",
       "      <td>0.041150</td>\n",
       "      <td>0</td>\n",
       "      <td>1689965820000</td>\n",
       "      <td>1689965879999</td>\n",
       "    </tr>\n",
       "    <tr>\n",
       "      <th>2023-07-21 20:58:00+02:00</th>\n",
       "      <td>2023-07-21 20:58:00+02:00</td>\n",
       "      <td>0.003153</td>\n",
       "      <td>0.003153</td>\n",
       "      <td>0.003152</td>\n",
       "      <td>0.003152</td>\n",
       "      <td>13.913</td>\n",
       "      <td>2023-07-21 20:58:59.999000+02:00</td>\n",
       "      <td>0.043854</td>\n",
       "      <td>7</td>\n",
       "      <td>4.304</td>\n",
       "      <td>0.013566</td>\n",
       "      <td>0</td>\n",
       "      <td>1689965880000</td>\n",
       "      <td>1689965939999</td>\n",
       "    </tr>\n",
       "    <tr>\n",
       "      <th>2023-07-21 20:59:00+02:00</th>\n",
       "      <td>2023-07-21 20:59:00+02:00</td>\n",
       "      <td>0.003152</td>\n",
       "      <td>0.003152</td>\n",
       "      <td>0.003151</td>\n",
       "      <td>0.003152</td>\n",
       "      <td>2.579</td>\n",
       "      <td>2023-07-21 20:59:59.999000+02:00</td>\n",
       "      <td>0.008129</td>\n",
       "      <td>4</td>\n",
       "      <td>2.470</td>\n",
       "      <td>0.007785</td>\n",
       "      <td>0</td>\n",
       "      <td>1689965940000</td>\n",
       "      <td>1689965999999</td>\n",
       "    </tr>\n",
       "    <tr>\n",
       "      <th>2023-07-21 21:00:00+02:00</th>\n",
       "      <td>2023-07-21 21:00:00+02:00</td>\n",
       "      <td>0.003152</td>\n",
       "      <td>0.003154</td>\n",
       "      <td>0.003152</td>\n",
       "      <td>0.003154</td>\n",
       "      <td>76.298</td>\n",
       "      <td>2023-07-21 21:00:59.999000+02:00</td>\n",
       "      <td>0.240511</td>\n",
       "      <td>18</td>\n",
       "      <td>62.688</td>\n",
       "      <td>0.197612</td>\n",
       "      <td>0</td>\n",
       "      <td>1689966000000</td>\n",
       "      <td>1689966059999</td>\n",
       "    </tr>\n",
       "    <tr>\n",
       "      <th>...</th>\n",
       "      <td>...</td>\n",
       "      <td>...</td>\n",
       "      <td>...</td>\n",
       "      <td>...</td>\n",
       "      <td>...</td>\n",
       "      <td>...</td>\n",
       "      <td>...</td>\n",
       "      <td>...</td>\n",
       "      <td>...</td>\n",
       "      <td>...</td>\n",
       "      <td>...</td>\n",
       "      <td>...</td>\n",
       "      <td>...</td>\n",
       "      <td>...</td>\n",
       "    </tr>\n",
       "    <tr>\n",
       "      <th>2023-07-22 13:08:00+02:00</th>\n",
       "      <td>2023-07-22 13:08:00+02:00</td>\n",
       "      <td>0.003138</td>\n",
       "      <td>0.003139</td>\n",
       "      <td>0.003138</td>\n",
       "      <td>0.003139</td>\n",
       "      <td>0.242</td>\n",
       "      <td>2023-07-22 13:08:59.999000+02:00</td>\n",
       "      <td>0.000760</td>\n",
       "      <td>2</td>\n",
       "      <td>0.242</td>\n",
       "      <td>0.000760</td>\n",
       "      <td>0</td>\n",
       "      <td>1690024080000</td>\n",
       "      <td>1690024139999</td>\n",
       "    </tr>\n",
       "    <tr>\n",
       "      <th>2023-07-22 13:09:00+02:00</th>\n",
       "      <td>2023-07-22 13:09:00+02:00</td>\n",
       "      <td>0.003139</td>\n",
       "      <td>0.003139</td>\n",
       "      <td>0.003139</td>\n",
       "      <td>0.003139</td>\n",
       "      <td>0.000</td>\n",
       "      <td>2023-07-22 13:09:59.999000+02:00</td>\n",
       "      <td>0.000000</td>\n",
       "      <td>0</td>\n",
       "      <td>0.000</td>\n",
       "      <td>0.000000</td>\n",
       "      <td>0</td>\n",
       "      <td>1690024140000</td>\n",
       "      <td>1690024199999</td>\n",
       "    </tr>\n",
       "    <tr>\n",
       "      <th>2023-07-22 13:10:00+02:00</th>\n",
       "      <td>2023-07-22 13:10:00+02:00</td>\n",
       "      <td>0.003138</td>\n",
       "      <td>0.003138</td>\n",
       "      <td>0.003137</td>\n",
       "      <td>0.003138</td>\n",
       "      <td>28.475</td>\n",
       "      <td>2023-07-22 13:10:59.999000+02:00</td>\n",
       "      <td>0.089351</td>\n",
       "      <td>16</td>\n",
       "      <td>0.787</td>\n",
       "      <td>0.002470</td>\n",
       "      <td>0</td>\n",
       "      <td>1690024200000</td>\n",
       "      <td>1690024259999</td>\n",
       "    </tr>\n",
       "    <tr>\n",
       "      <th>2023-07-22 13:11:00+02:00</th>\n",
       "      <td>2023-07-22 13:11:00+02:00</td>\n",
       "      <td>0.003138</td>\n",
       "      <td>0.003138</td>\n",
       "      <td>0.003136</td>\n",
       "      <td>0.003136</td>\n",
       "      <td>30.088</td>\n",
       "      <td>2023-07-22 13:11:59.999000+02:00</td>\n",
       "      <td>0.094384</td>\n",
       "      <td>10</td>\n",
       "      <td>9.177</td>\n",
       "      <td>0.028792</td>\n",
       "      <td>0</td>\n",
       "      <td>1690024260000</td>\n",
       "      <td>1690024319999</td>\n",
       "    </tr>\n",
       "    <tr>\n",
       "      <th>2023-07-22 13:12:00+02:00</th>\n",
       "      <td>2023-07-22 13:12:00+02:00</td>\n",
       "      <td>0.003135</td>\n",
       "      <td>0.003136</td>\n",
       "      <td>0.003134</td>\n",
       "      <td>0.003136</td>\n",
       "      <td>81.403</td>\n",
       "      <td>2023-07-22 13:12:59.999000+02:00</td>\n",
       "      <td>0.255197</td>\n",
       "      <td>23</td>\n",
       "      <td>46.386</td>\n",
       "      <td>0.145426</td>\n",
       "      <td>0</td>\n",
       "      <td>1690024320000</td>\n",
       "      <td>1690024379999</td>\n",
       "    </tr>\n",
       "  </tbody>\n",
       "</table>\n",
       "<p>977 rows × 14 columns</p>\n",
       "</div>"
      ],
      "text/plain": [
       "                                          Open time      Open      High       Low     Close  Volume                       Close time  Quote volume  Trades  Taker buy base volume  Taker buy quote volume  Ignore  Open timestamp  Close timestamp\n",
       "LTCBTC 1m Europe/Madrid                                                                                                                                                                                                                           \n",
       "2023-07-21 20:56:00+02:00 2023-07-21 20:56:00+02:00  0.003153  0.003153  0.003152  0.003153   3.409 2023-07-21 20:56:59.999000+02:00      0.010748       6                  3.132                0.009875       0   1689965760000    1689965819999\n",
       "2023-07-21 20:57:00+02:00 2023-07-21 20:57:00+02:00  0.003152  0.003153  0.003152  0.003153  13.596 2023-07-21 20:57:59.999000+02:00      0.042868       5                 13.051                0.041150       0   1689965820000    1689965879999\n",
       "2023-07-21 20:58:00+02:00 2023-07-21 20:58:00+02:00  0.003153  0.003153  0.003152  0.003152  13.913 2023-07-21 20:58:59.999000+02:00      0.043854       7                  4.304                0.013566       0   1689965880000    1689965939999\n",
       "2023-07-21 20:59:00+02:00 2023-07-21 20:59:00+02:00  0.003152  0.003152  0.003151  0.003152   2.579 2023-07-21 20:59:59.999000+02:00      0.008129       4                  2.470                0.007785       0   1689965940000    1689965999999\n",
       "2023-07-21 21:00:00+02:00 2023-07-21 21:00:00+02:00  0.003152  0.003154  0.003152  0.003154  76.298 2023-07-21 21:00:59.999000+02:00      0.240511      18                 62.688                0.197612       0   1689966000000    1689966059999\n",
       "...                                             ...       ...       ...       ...       ...     ...                              ...           ...     ...                    ...                     ...     ...             ...              ...\n",
       "2023-07-22 13:08:00+02:00 2023-07-22 13:08:00+02:00  0.003138  0.003139  0.003138  0.003139   0.242 2023-07-22 13:08:59.999000+02:00      0.000760       2                  0.242                0.000760       0   1690024080000    1690024139999\n",
       "2023-07-22 13:09:00+02:00 2023-07-22 13:09:00+02:00  0.003139  0.003139  0.003139  0.003139   0.000 2023-07-22 13:09:59.999000+02:00      0.000000       0                  0.000                0.000000       0   1690024140000    1690024199999\n",
       "2023-07-22 13:10:00+02:00 2023-07-22 13:10:00+02:00  0.003138  0.003138  0.003137  0.003138  28.475 2023-07-22 13:10:59.999000+02:00      0.089351      16                  0.787                0.002470       0   1690024200000    1690024259999\n",
       "2023-07-22 13:11:00+02:00 2023-07-22 13:11:00+02:00  0.003138  0.003138  0.003136  0.003136  30.088 2023-07-22 13:11:59.999000+02:00      0.094384      10                  9.177                0.028792       0   1690024260000    1690024319999\n",
       "2023-07-22 13:12:00+02:00 2023-07-22 13:12:00+02:00  0.003135  0.003136  0.003134  0.003136  81.403 2023-07-22 13:12:59.999000+02:00      0.255197      23                 46.386                0.145426       0   1690024320000    1690024379999\n",
       "\n",
       "[977 rows x 14 columns]"
      ]
     },
     "execution_count": 23,
     "metadata": {},
     "output_type": "execute_result"
    }
   ],
   "source": [
    "sentinel_info = {'hosts': [(\"192.168.89.241\", 26379), (\"192.168.89.242\", 26379), (\"192.168.89.243\", 26379)],\n",
    "                 'password': None,\n",
    "                 'name': 'mymaster'}\n",
    "sym = binpan.Symbol(symbol='ltcbtc', tick_interval='1m', sentinel_redis=sentinel_info, time_zone='Europe/Madrid', limit=5000)\n",
    "sym.df"
   ]
  },
  {
   "cell_type": "code",
   "execution_count": 24,
   "id": "9c6910ae",
   "metadata": {},
   "outputs": [
    {
     "name": "stdout",
     "output_type": "stream",
     "text": [
      "Requesting atomic trades between 2023-07-21 20:56:00 and 2023-07-22 13:12:59\n"
     ]
    },
    {
     "name": "stderr",
     "output_type": "stream",
     "text": [
      "2023-07-22\t 13:13:16     INFO Fetching atomic trades from redis server for LTCBTC\n",
      "2023-07-22\t 13:13:17     INFO Clean atomic 3271 trades found for LTCBTC\n"
     ]
    },
    {
     "data": {
      "text/html": [
       "<div>\n",
       "<style scoped>\n",
       "    .dataframe tbody tr th:only-of-type {\n",
       "        vertical-align: middle;\n",
       "    }\n",
       "\n",
       "    .dataframe tbody tr th {\n",
       "        vertical-align: top;\n",
       "    }\n",
       "\n",
       "    .dataframe thead th {\n",
       "        text-align: right;\n",
       "    }\n",
       "</style>\n",
       "<table border=\"1\" class=\"dataframe\">\n",
       "  <thead>\n",
       "    <tr style=\"text-align: right;\">\n",
       "      <th></th>\n",
       "      <th>Trade Id</th>\n",
       "      <th>Price</th>\n",
       "      <th>Quantity</th>\n",
       "      <th>Buyer Order Id</th>\n",
       "      <th>Seller Order Id</th>\n",
       "      <th>Date</th>\n",
       "      <th>Timestamp</th>\n",
       "      <th>Buyer was maker</th>\n",
       "      <th>Best price match</th>\n",
       "    </tr>\n",
       "    <tr>\n",
       "      <th>LTCBTC Europe/Madrid</th>\n",
       "      <th></th>\n",
       "      <th></th>\n",
       "      <th></th>\n",
       "      <th></th>\n",
       "      <th></th>\n",
       "      <th></th>\n",
       "      <th></th>\n",
       "      <th></th>\n",
       "      <th></th>\n",
       "    </tr>\n",
       "  </thead>\n",
       "  <tbody>\n",
       "    <tr>\n",
       "      <th>2023-07-22 09:15:19.076000+02:00</th>\n",
       "      <td>92721851</td>\n",
       "      <td>0.003156</td>\n",
       "      <td>7.900</td>\n",
       "      <td>1103380198</td>\n",
       "      <td>1103380300</td>\n",
       "      <td>1690010119000000000</td>\n",
       "      <td>1690010119076</td>\n",
       "      <td>True</td>\n",
       "      <td>True</td>\n",
       "    </tr>\n",
       "    <tr>\n",
       "      <th>2023-07-22 09:15:19.803000+02:00</th>\n",
       "      <td>92721852</td>\n",
       "      <td>0.003156</td>\n",
       "      <td>0.140</td>\n",
       "      <td>1103380333</td>\n",
       "      <td>1103380305</td>\n",
       "      <td>1690010119000000000</td>\n",
       "      <td>1690010119803</td>\n",
       "      <td>False</td>\n",
       "      <td>True</td>\n",
       "    </tr>\n",
       "    <tr>\n",
       "      <th>2023-07-22 09:15:26.441000+02:00</th>\n",
       "      <td>92721853</td>\n",
       "      <td>0.003155</td>\n",
       "      <td>2.178</td>\n",
       "      <td>1103379573</td>\n",
       "      <td>1103380351</td>\n",
       "      <td>1690010126000000000</td>\n",
       "      <td>1690010126441</td>\n",
       "      <td>True</td>\n",
       "      <td>True</td>\n",
       "    </tr>\n",
       "    <tr>\n",
       "      <th>2023-07-22 09:15:26.441000+02:00</th>\n",
       "      <td>92721854</td>\n",
       "      <td>0.003155</td>\n",
       "      <td>2.999</td>\n",
       "      <td>1103379593</td>\n",
       "      <td>1103380351</td>\n",
       "      <td>1690010126000000000</td>\n",
       "      <td>1690010126441</td>\n",
       "      <td>True</td>\n",
       "      <td>True</td>\n",
       "    </tr>\n",
       "    <tr>\n",
       "      <th>2023-07-22 09:15:34.272000+02:00</th>\n",
       "      <td>92721855</td>\n",
       "      <td>0.003155</td>\n",
       "      <td>0.107</td>\n",
       "      <td>1103379593</td>\n",
       "      <td>1103380373</td>\n",
       "      <td>1690010134000000000</td>\n",
       "      <td>1690010134272</td>\n",
       "      <td>True</td>\n",
       "      <td>True</td>\n",
       "    </tr>\n",
       "    <tr>\n",
       "      <th>...</th>\n",
       "      <td>...</td>\n",
       "      <td>...</td>\n",
       "      <td>...</td>\n",
       "      <td>...</td>\n",
       "      <td>...</td>\n",
       "      <td>...</td>\n",
       "      <td>...</td>\n",
       "      <td>...</td>\n",
       "      <td>...</td>\n",
       "    </tr>\n",
       "    <tr>\n",
       "      <th>2023-07-22 13:12:10.958000+02:00</th>\n",
       "      <td>92725117</td>\n",
       "      <td>0.003135</td>\n",
       "      <td>12.128</td>\n",
       "      <td>1103424280</td>\n",
       "      <td>1103424278</td>\n",
       "      <td>1690024330000000000</td>\n",
       "      <td>1690024330958</td>\n",
       "      <td>False</td>\n",
       "      <td>True</td>\n",
       "    </tr>\n",
       "    <tr>\n",
       "      <th>2023-07-22 13:12:26.436000+02:00</th>\n",
       "      <td>92725118</td>\n",
       "      <td>0.003136</td>\n",
       "      <td>1.118</td>\n",
       "      <td>1103424313</td>\n",
       "      <td>1103424167</td>\n",
       "      <td>1690024346000000000</td>\n",
       "      <td>1690024346436</td>\n",
       "      <td>False</td>\n",
       "      <td>True</td>\n",
       "    </tr>\n",
       "    <tr>\n",
       "      <th>2023-07-22 13:12:33.498000+02:00</th>\n",
       "      <td>92725119</td>\n",
       "      <td>0.003136</td>\n",
       "      <td>0.692</td>\n",
       "      <td>1103424321</td>\n",
       "      <td>1103424167</td>\n",
       "      <td>1690024353000000000</td>\n",
       "      <td>1690024353498</td>\n",
       "      <td>False</td>\n",
       "      <td>True</td>\n",
       "    </tr>\n",
       "    <tr>\n",
       "      <th>2023-07-22 13:12:43.799000+02:00</th>\n",
       "      <td>92725120</td>\n",
       "      <td>0.003136</td>\n",
       "      <td>4.286</td>\n",
       "      <td>1103424331</td>\n",
       "      <td>1103424167</td>\n",
       "      <td>1690024363000000000</td>\n",
       "      <td>1690024363799</td>\n",
       "      <td>False</td>\n",
       "      <td>True</td>\n",
       "    </tr>\n",
       "    <tr>\n",
       "      <th>2023-07-22 13:12:47.981000+02:00</th>\n",
       "      <td>92725121</td>\n",
       "      <td>0.003136</td>\n",
       "      <td>0.173</td>\n",
       "      <td>1103424340</td>\n",
       "      <td>1103424167</td>\n",
       "      <td>1690024367000000000</td>\n",
       "      <td>1690024367981</td>\n",
       "      <td>False</td>\n",
       "      <td>True</td>\n",
       "    </tr>\n",
       "  </tbody>\n",
       "</table>\n",
       "<p>3271 rows × 9 columns</p>\n",
       "</div>"
      ],
      "text/plain": [
       "                                  Trade Id     Price  Quantity  Buyer Order Id  Seller Order Id                 Date      Timestamp  Buyer was maker  Best price match\n",
       "LTCBTC Europe/Madrid                                                                                                                                                  \n",
       "2023-07-22 09:15:19.076000+02:00  92721851  0.003156     7.900      1103380198       1103380300  1690010119000000000  1690010119076             True              True\n",
       "2023-07-22 09:15:19.803000+02:00  92721852  0.003156     0.140      1103380333       1103380305  1690010119000000000  1690010119803            False              True\n",
       "2023-07-22 09:15:26.441000+02:00  92721853  0.003155     2.178      1103379573       1103380351  1690010126000000000  1690010126441             True              True\n",
       "2023-07-22 09:15:26.441000+02:00  92721854  0.003155     2.999      1103379593       1103380351  1690010126000000000  1690010126441             True              True\n",
       "2023-07-22 09:15:34.272000+02:00  92721855  0.003155     0.107      1103379593       1103380373  1690010134000000000  1690010134272             True              True\n",
       "...                                    ...       ...       ...             ...              ...                  ...            ...              ...               ...\n",
       "2023-07-22 13:12:10.958000+02:00  92725117  0.003135    12.128      1103424280       1103424278  1690024330000000000  1690024330958            False              True\n",
       "2023-07-22 13:12:26.436000+02:00  92725118  0.003136     1.118      1103424313       1103424167  1690024346000000000  1690024346436            False              True\n",
       "2023-07-22 13:12:33.498000+02:00  92725119  0.003136     0.692      1103424321       1103424167  1690024353000000000  1690024353498            False              True\n",
       "2023-07-22 13:12:43.799000+02:00  92725120  0.003136     4.286      1103424331       1103424167  1690024363000000000  1690024363799            False              True\n",
       "2023-07-22 13:12:47.981000+02:00  92725121  0.003136     0.173      1103424340       1103424167  1690024367000000000  1690024367981            False              True\n",
       "\n",
       "[3271 rows x 9 columns]"
      ]
     },
     "execution_count": 24,
     "metadata": {},
     "output_type": "execute_result"
    }
   ],
   "source": [
    "sym.get_atomic_trades()"
   ]
  },
  {
   "cell_type": "markdown",
   "id": "d68428f9",
   "metadata": {},
   "source": [
    "# Creating your own client mode"
   ]
  },
  {
   "cell_type": "code",
   "execution_count": 25,
   "id": "b83af6c6",
   "metadata": {},
   "outputs": [],
   "source": [
    "redis_conf_klines = {'host': '192.168.89.241', 'port': 6379, 'db': 0, 'decode_responses': True}\n",
    "\n",
    "redisClient_klines = StrictRedis(**redis_conf_klines)"
   ]
  },
  {
   "cell_type": "code",
   "execution_count": 26,
   "id": "77b71c9d",
   "metadata": {
    "pycharm": {
     "name": "#%%\n"
    }
   },
   "outputs": [],
   "source": [
    "keys = redis_fetch.fetch_keys(redisClient=redisClient_klines)"
   ]
  },
  {
   "cell_type": "code",
   "execution_count": 27,
   "id": "f3151d3f",
   "metadata": {
    "pycharm": {
     "name": "#%%\n"
    }
   },
   "outputs": [
    {
     "data": {
      "text/plain": [
       "['gmxbtc@kline_1h',\n",
       " 'rlcbtc@kline_1h',\n",
       " 'polsbtc@kline_1h',\n",
       " 'elfbtc@kline_5m',\n",
       " 'gmxbtc@kline_5m',\n",
       " 'crvbtc@kline_1h',\n",
       " 'linkbtc@kline_1h',\n",
       " 'flmbtc@kline_5m',\n",
       " 'glmrbtc@kline_5m',\n",
       " 'egldbtc@kline_5m',\n",
       " 'etcbtc@kline_1h',\n",
       " 'mdxbtc@kline_1h',\n",
       " 'snxbtc@kline_1h',\n",
       " 'hardbtc@kline_1h',\n",
       " 'audiobtc@kline_1h']"
      ]
     },
     "execution_count": 27,
     "metadata": {},
     "output_type": "execute_result"
    }
   ],
   "source": [
    "keys = list(keys)\n",
    "keys[:15]"
   ]
  },
  {
   "cell_type": "code",
   "execution_count": 28,
   "id": "ea8aa52e",
   "metadata": {
    "pycharm": {
     "name": "#%%\n"
    }
   },
   "outputs": [],
   "source": [
    "mykey = choice(keys)\n",
    "mykey = 'ltcbtc@kline_1m'"
   ]
  },
  {
   "cell_type": "code",
   "execution_count": 29,
   "id": "93cb8f96",
   "metadata": {
    "pycharm": {
     "name": "#%%\n"
    }
   },
   "outputs": [
    {
     "name": "stdout",
     "output_type": "stream",
     "text": [
      "977\n"
     ]
    },
    {
     "data": {
      "text/plain": [
       "['{\"t\": 1690023480000, \"T\": 1690023539999, \"s\": \"LTCBTC\", \"i\": \"1m\", \"f\": 92725015, \"L\": 92725018, \"o\": \"0.00313800\", \"c\": \"0.00313900\", \"h\": \"0.00313900\", \"l\": \"0.00313800\", \"v\": \"3.71800000\", \"n\": 4, \"x\": true, \"q\": \"0.01167019\", \"V\": \"3.71800000\", \"Q\": \"0.01167019\", \"B\": \"0\"}',\n",
       " '{\"t\": 1690023540000, \"T\": 1690023599999, \"s\": \"LTCBTC\", \"i\": \"1m\", \"f\": 92725019, \"L\": 92725027, \"o\": \"0.00313800\", \"c\": \"0.00313600\", \"h\": \"0.00313800\", \"l\": \"0.00313500\", \"v\": \"42.63200000\", \"n\": 9, \"x\": true, \"q\": \"0.13371428\", \"V\": \"24.28300000\", \"Q\": \"0.07615148\", \"B\": \"0\"}',\n",
       " '{\"t\": 1690023600000, \"T\": 1690023659999, \"s\": \"LTCBTC\", \"i\": \"1m\", \"f\": 92725028, \"L\": 92725035, \"o\": \"0.00313600\", \"c\": \"0.00313700\", \"h\": \"0.00313700\", \"l\": \"0.00313500\", \"v\": \"22.55000000\", \"n\": 8, \"x\": true, \"q\": \"0.07071693\", \"V\": \"13.52900000\", \"Q\": \"0.04242869\", \"B\": \"0\"}',\n",
       " '{\"t\": 1690023660000, \"T\": 1690023719999, \"s\": \"LTCBTC\", \"i\": \"1m\", \"f\": 92725036, \"L\": 92725040, \"o\": \"0.00313800\", \"c\": \"0.00313800\", \"h\": \"0.00313800\", \"l\": \"0.00313800\", \"v\": \"18.76900000\", \"n\": 5, \"x\": true, \"q\": \"0.05889710\", \"V\": \"5.19300000\", \"Q\": \"0.01629562\", \"B\": \"0\"}',\n",
       " '{\"t\": 1690023720000, \"T\": 1690023779999, \"s\": \"LTCBTC\", \"i\": \"1m\", \"f\": 92725041, \"L\": 92725044, \"o\": \"0.00313800\", \"c\": \"0.00313700\", \"h\": \"0.00313800\", \"l\": \"0.00313700\", \"v\": \"3.99600000\", \"n\": 4, \"x\": true, \"q\": \"0.01253871\", \"V\": \"3.28000000\", \"Q\": \"0.01029263\", \"B\": \"0\"}',\n",
       " '{\"t\": 1690023780000, \"T\": 1690023839999, \"s\": \"LTCBTC\", \"i\": \"1m\", \"f\": 92725045, \"L\": 92725054, \"o\": \"0.00313800\", \"c\": \"0.00313900\", \"h\": \"0.00313900\", \"l\": \"0.00313800\", \"v\": \"13.74900000\", \"n\": 10, \"x\": true, \"q\": \"0.04315444\", \"V\": \"13.65300000\", \"Q\": \"0.04285320\", \"B\": \"0\"}',\n",
       " '{\"t\": 1690023840000, \"T\": 1690023899999, \"s\": \"LTCBTC\", \"i\": \"1m\", \"f\": 92725055, \"L\": 92725061, \"o\": \"0.00313900\", \"c\": \"0.00313800\", \"h\": \"0.00313900\", \"l\": \"0.00313800\", \"v\": \"47.75200000\", \"n\": 7, \"x\": true, \"q\": \"0.14984660\", \"V\": \"19.39500000\", \"Q\": \"0.06086234\", \"B\": \"0\"}',\n",
       " '{\"t\": 1690023900000, \"T\": 1690023959999, \"s\": \"LTCBTC\", \"i\": \"1m\", \"f\": 92725062, \"L\": 92725066, \"o\": \"0.00313800\", \"c\": \"0.00313900\", \"h\": \"0.00313900\", \"l\": \"0.00313800\", \"v\": \"29.94300000\", \"n\": 5, \"x\": true, \"q\": \"0.09396172\", \"V\": \"29.94300000\", \"Q\": \"0.09396172\", \"B\": \"0\"}',\n",
       " '{\"t\": 1690023960000, \"T\": 1690024019999, \"s\": \"LTCBTC\", \"i\": \"1m\", \"f\": 92725067, \"L\": 92725067, \"o\": \"0.00313800\", \"c\": \"0.00313800\", \"h\": \"0.00313800\", \"l\": \"0.00313800\", \"v\": \"2.42800000\", \"n\": 1, \"x\": true, \"q\": \"0.00761906\", \"V\": \"0.00000000\", \"Q\": \"0.00000000\", \"B\": \"0\"}',\n",
       " '{\"t\": 1690024020000, \"T\": 1690024079999, \"s\": \"LTCBTC\", \"i\": \"1m\", \"f\": 92725068, \"L\": 92725070, \"o\": \"0.00313700\", \"c\": \"0.00313800\", \"h\": \"0.00313800\", \"l\": \"0.00313700\", \"v\": \"5.58200000\", \"n\": 3, \"x\": true, \"q\": \"0.01751097\", \"V\": \"0.25000000\", \"Q\": \"0.00078450\", \"B\": \"0\"}',\n",
       " '{\"t\": 1690024080000, \"T\": 1690024139999, \"s\": \"LTCBTC\", \"i\": \"1m\", \"f\": 92725071, \"L\": 92725072, \"o\": \"0.00313800\", \"c\": \"0.00313900\", \"h\": \"0.00313900\", \"l\": \"0.00313800\", \"v\": \"0.24200000\", \"n\": 2, \"x\": true, \"q\": \"0.00075954\", \"V\": \"0.24200000\", \"Q\": \"0.00075954\", \"B\": \"0\"}',\n",
       " '{\"t\": 1690024140000, \"T\": 1690024199999, \"s\": \"LTCBTC\", \"i\": \"1m\", \"f\": -1, \"L\": -1, \"o\": \"0.00313900\", \"c\": \"0.00313900\", \"h\": \"0.00313900\", \"l\": \"0.00313900\", \"v\": \"0.00000000\", \"n\": 0, \"x\": true, \"q\": \"0.00000000\", \"V\": \"0.00000000\", \"Q\": \"0.00000000\", \"B\": \"0\"}',\n",
       " '{\"t\": 1690024200000, \"T\": 1690024259999, \"s\": \"LTCBTC\", \"i\": \"1m\", \"f\": 92725073, \"L\": 92725088, \"o\": \"0.00313800\", \"c\": \"0.00313800\", \"h\": \"0.00313800\", \"l\": \"0.00313700\", \"v\": \"28.47500000\", \"n\": 16, \"x\": true, \"q\": \"0.08935057\", \"V\": \"0.78700000\", \"Q\": \"0.00246960\", \"B\": \"0\"}',\n",
       " '{\"t\": 1690024260000, \"T\": 1690024319999, \"s\": \"LTCBTC\", \"i\": \"1m\", \"f\": 92725089, \"L\": 92725098, \"o\": \"0.00313800\", \"c\": \"0.00313600\", \"h\": \"0.00313800\", \"l\": \"0.00313600\", \"v\": \"30.08800000\", \"n\": 10, \"x\": true, \"q\": \"0.09438374\", \"V\": \"9.17700000\", \"Q\": \"0.02879156\", \"B\": \"0\"}',\n",
       " '{\"t\": 1690024320000, \"T\": 1690024379999, \"s\": \"LTCBTC\", \"i\": \"1m\", \"f\": 92725099, \"L\": 92725121, \"o\": \"0.00313500\", \"c\": \"0.00313600\", \"h\": \"0.00313600\", \"l\": \"0.00313400\", \"v\": \"81.40300000\", \"n\": 23, \"x\": true, \"q\": \"0.25519748\", \"V\": \"46.38600000\", \"Q\": \"0.14542633\", \"B\": \"0\"}']"
      ]
     },
     "execution_count": 29,
     "metadata": {},
     "output_type": "execute_result"
    }
   ],
   "source": [
    "response = redis_fetch.fetch_zset_range(redisClient=redisClient_klines, key=mykey)\n",
    "print(len(response))\n",
    "response[-15:]"
   ]
  },
  {
   "cell_type": "code",
   "execution_count": 30,
   "id": "2ac81dfe",
   "metadata": {
    "pycharm": {
     "name": "#%%\n"
    }
   },
   "outputs": [],
   "source": [
    "# %timeit redis_fetch.fetch_zset_range(redisClient=redisClient, key=mykey)\n",
    "# 1.6 ms ± 24.9 µs per loop (mean ± std. dev. of 7 runs, 1000 loops each)"
   ]
  },
  {
   "cell_type": "code",
   "execution_count": 31,
   "id": "33f238b0",
   "metadata": {
    "pycharm": {
     "name": "#%%\n"
    }
   },
   "outputs": [
    {
     "data": {
      "text/html": [
       "<div>\n",
       "<style scoped>\n",
       "    .dataframe tbody tr th:only-of-type {\n",
       "        vertical-align: middle;\n",
       "    }\n",
       "\n",
       "    .dataframe tbody tr th {\n",
       "        vertical-align: top;\n",
       "    }\n",
       "\n",
       "    .dataframe thead th {\n",
       "        text-align: right;\n",
       "    }\n",
       "</style>\n",
       "<table border=\"1\" class=\"dataframe\">\n",
       "  <thead>\n",
       "    <tr style=\"text-align: right;\">\n",
       "      <th></th>\n",
       "      <th>Open time</th>\n",
       "      <th>Open</th>\n",
       "      <th>High</th>\n",
       "      <th>Low</th>\n",
       "      <th>Close</th>\n",
       "      <th>Volume</th>\n",
       "      <th>Close time</th>\n",
       "      <th>Quote volume</th>\n",
       "      <th>Trades</th>\n",
       "      <th>Taker buy base volume</th>\n",
       "      <th>Taker buy quote volume</th>\n",
       "      <th>Ignore</th>\n",
       "      <th>Open timestamp</th>\n",
       "      <th>Close timestamp</th>\n",
       "    </tr>\n",
       "    <tr>\n",
       "      <th>LTCBTC 1m Europe/madrid</th>\n",
       "      <th></th>\n",
       "      <th></th>\n",
       "      <th></th>\n",
       "      <th></th>\n",
       "      <th></th>\n",
       "      <th></th>\n",
       "      <th></th>\n",
       "      <th></th>\n",
       "      <th></th>\n",
       "      <th></th>\n",
       "      <th></th>\n",
       "      <th></th>\n",
       "      <th></th>\n",
       "      <th></th>\n",
       "    </tr>\n",
       "  </thead>\n",
       "  <tbody>\n",
       "    <tr>\n",
       "      <th>2023-07-21 20:56:00+02:00</th>\n",
       "      <td>2023-07-21 20:56:00+02:00</td>\n",
       "      <td>0.003153</td>\n",
       "      <td>0.003153</td>\n",
       "      <td>0.003152</td>\n",
       "      <td>0.003153</td>\n",
       "      <td>3.409</td>\n",
       "      <td>2023-07-21 20:56:59+02:00</td>\n",
       "      <td>0.010748</td>\n",
       "      <td>6</td>\n",
       "      <td>3.132</td>\n",
       "      <td>0.009875</td>\n",
       "      <td>0</td>\n",
       "      <td>1689965760000</td>\n",
       "      <td>1689965819999</td>\n",
       "    </tr>\n",
       "    <tr>\n",
       "      <th>2023-07-21 20:57:00+02:00</th>\n",
       "      <td>2023-07-21 20:57:00+02:00</td>\n",
       "      <td>0.003152</td>\n",
       "      <td>0.003153</td>\n",
       "      <td>0.003152</td>\n",
       "      <td>0.003153</td>\n",
       "      <td>13.596</td>\n",
       "      <td>2023-07-21 20:57:59+02:00</td>\n",
       "      <td>0.042868</td>\n",
       "      <td>5</td>\n",
       "      <td>13.051</td>\n",
       "      <td>0.041150</td>\n",
       "      <td>0</td>\n",
       "      <td>1689965820000</td>\n",
       "      <td>1689965879999</td>\n",
       "    </tr>\n",
       "    <tr>\n",
       "      <th>2023-07-21 20:58:00+02:00</th>\n",
       "      <td>2023-07-21 20:58:00+02:00</td>\n",
       "      <td>0.003153</td>\n",
       "      <td>0.003153</td>\n",
       "      <td>0.003152</td>\n",
       "      <td>0.003152</td>\n",
       "      <td>13.913</td>\n",
       "      <td>2023-07-21 20:58:59+02:00</td>\n",
       "      <td>0.043854</td>\n",
       "      <td>7</td>\n",
       "      <td>4.304</td>\n",
       "      <td>0.013566</td>\n",
       "      <td>0</td>\n",
       "      <td>1689965880000</td>\n",
       "      <td>1689965939999</td>\n",
       "    </tr>\n",
       "    <tr>\n",
       "      <th>2023-07-21 20:59:00+02:00</th>\n",
       "      <td>2023-07-21 20:59:00+02:00</td>\n",
       "      <td>0.003152</td>\n",
       "      <td>0.003152</td>\n",
       "      <td>0.003151</td>\n",
       "      <td>0.003152</td>\n",
       "      <td>2.579</td>\n",
       "      <td>2023-07-21 20:59:59+02:00</td>\n",
       "      <td>0.008129</td>\n",
       "      <td>4</td>\n",
       "      <td>2.470</td>\n",
       "      <td>0.007785</td>\n",
       "      <td>0</td>\n",
       "      <td>1689965940000</td>\n",
       "      <td>1689965999999</td>\n",
       "    </tr>\n",
       "    <tr>\n",
       "      <th>2023-07-21 21:00:00+02:00</th>\n",
       "      <td>2023-07-21 21:00:00+02:00</td>\n",
       "      <td>0.003152</td>\n",
       "      <td>0.003154</td>\n",
       "      <td>0.003152</td>\n",
       "      <td>0.003154</td>\n",
       "      <td>76.298</td>\n",
       "      <td>2023-07-21 21:00:59+02:00</td>\n",
       "      <td>0.240511</td>\n",
       "      <td>18</td>\n",
       "      <td>62.688</td>\n",
       "      <td>0.197612</td>\n",
       "      <td>0</td>\n",
       "      <td>1689966000000</td>\n",
       "      <td>1689966059999</td>\n",
       "    </tr>\n",
       "    <tr>\n",
       "      <th>...</th>\n",
       "      <td>...</td>\n",
       "      <td>...</td>\n",
       "      <td>...</td>\n",
       "      <td>...</td>\n",
       "      <td>...</td>\n",
       "      <td>...</td>\n",
       "      <td>...</td>\n",
       "      <td>...</td>\n",
       "      <td>...</td>\n",
       "      <td>...</td>\n",
       "      <td>...</td>\n",
       "      <td>...</td>\n",
       "      <td>...</td>\n",
       "      <td>...</td>\n",
       "    </tr>\n",
       "    <tr>\n",
       "      <th>2023-07-22 13:08:00+02:00</th>\n",
       "      <td>2023-07-22 13:08:00+02:00</td>\n",
       "      <td>0.003138</td>\n",
       "      <td>0.003139</td>\n",
       "      <td>0.003138</td>\n",
       "      <td>0.003139</td>\n",
       "      <td>0.242</td>\n",
       "      <td>2023-07-22 13:08:59+02:00</td>\n",
       "      <td>0.000760</td>\n",
       "      <td>2</td>\n",
       "      <td>0.242</td>\n",
       "      <td>0.000760</td>\n",
       "      <td>0</td>\n",
       "      <td>1690024080000</td>\n",
       "      <td>1690024139999</td>\n",
       "    </tr>\n",
       "    <tr>\n",
       "      <th>2023-07-22 13:09:00+02:00</th>\n",
       "      <td>2023-07-22 13:09:00+02:00</td>\n",
       "      <td>0.003139</td>\n",
       "      <td>0.003139</td>\n",
       "      <td>0.003139</td>\n",
       "      <td>0.003139</td>\n",
       "      <td>0.000</td>\n",
       "      <td>2023-07-22 13:09:59+02:00</td>\n",
       "      <td>0.000000</td>\n",
       "      <td>0</td>\n",
       "      <td>0.000</td>\n",
       "      <td>0.000000</td>\n",
       "      <td>0</td>\n",
       "      <td>1690024140000</td>\n",
       "      <td>1690024199999</td>\n",
       "    </tr>\n",
       "    <tr>\n",
       "      <th>2023-07-22 13:10:00+02:00</th>\n",
       "      <td>2023-07-22 13:10:00+02:00</td>\n",
       "      <td>0.003138</td>\n",
       "      <td>0.003138</td>\n",
       "      <td>0.003137</td>\n",
       "      <td>0.003138</td>\n",
       "      <td>28.475</td>\n",
       "      <td>2023-07-22 13:10:59+02:00</td>\n",
       "      <td>0.089351</td>\n",
       "      <td>16</td>\n",
       "      <td>0.787</td>\n",
       "      <td>0.002470</td>\n",
       "      <td>0</td>\n",
       "      <td>1690024200000</td>\n",
       "      <td>1690024259999</td>\n",
       "    </tr>\n",
       "    <tr>\n",
       "      <th>2023-07-22 13:11:00+02:00</th>\n",
       "      <td>2023-07-22 13:11:00+02:00</td>\n",
       "      <td>0.003138</td>\n",
       "      <td>0.003138</td>\n",
       "      <td>0.003136</td>\n",
       "      <td>0.003136</td>\n",
       "      <td>30.088</td>\n",
       "      <td>2023-07-22 13:11:59+02:00</td>\n",
       "      <td>0.094384</td>\n",
       "      <td>10</td>\n",
       "      <td>9.177</td>\n",
       "      <td>0.028792</td>\n",
       "      <td>0</td>\n",
       "      <td>1690024260000</td>\n",
       "      <td>1690024319999</td>\n",
       "    </tr>\n",
       "    <tr>\n",
       "      <th>2023-07-22 13:12:00+02:00</th>\n",
       "      <td>2023-07-22 13:12:00+02:00</td>\n",
       "      <td>0.003135</td>\n",
       "      <td>0.003136</td>\n",
       "      <td>0.003134</td>\n",
       "      <td>0.003136</td>\n",
       "      <td>81.403</td>\n",
       "      <td>2023-07-22 13:12:59+02:00</td>\n",
       "      <td>0.255197</td>\n",
       "      <td>23</td>\n",
       "      <td>46.386</td>\n",
       "      <td>0.145426</td>\n",
       "      <td>0</td>\n",
       "      <td>1690024320000</td>\n",
       "      <td>1690024379999</td>\n",
       "    </tr>\n",
       "  </tbody>\n",
       "</table>\n",
       "<p>977 rows × 14 columns</p>\n",
       "</div>"
      ],
      "text/plain": [
       "                                          Open time      Open      High       Low     Close  Volume                Close time  Quote volume  Trades  Taker buy base volume  Taker buy quote volume  Ignore  Open timestamp  Close timestamp\n",
       "LTCBTC 1m Europe/madrid                                                                                                                                                                                                                    \n",
       "2023-07-21 20:56:00+02:00 2023-07-21 20:56:00+02:00  0.003153  0.003153  0.003152  0.003153   3.409 2023-07-21 20:56:59+02:00      0.010748       6                  3.132                0.009875       0   1689965760000    1689965819999\n",
       "2023-07-21 20:57:00+02:00 2023-07-21 20:57:00+02:00  0.003152  0.003153  0.003152  0.003153  13.596 2023-07-21 20:57:59+02:00      0.042868       5                 13.051                0.041150       0   1689965820000    1689965879999\n",
       "2023-07-21 20:58:00+02:00 2023-07-21 20:58:00+02:00  0.003153  0.003153  0.003152  0.003152  13.913 2023-07-21 20:58:59+02:00      0.043854       7                  4.304                0.013566       0   1689965880000    1689965939999\n",
       "2023-07-21 20:59:00+02:00 2023-07-21 20:59:00+02:00  0.003152  0.003152  0.003151  0.003152   2.579 2023-07-21 20:59:59+02:00      0.008129       4                  2.470                0.007785       0   1689965940000    1689965999999\n",
       "2023-07-21 21:00:00+02:00 2023-07-21 21:00:00+02:00  0.003152  0.003154  0.003152  0.003154  76.298 2023-07-21 21:00:59+02:00      0.240511      18                 62.688                0.197612       0   1689966000000    1689966059999\n",
       "...                                             ...       ...       ...       ...       ...     ...                       ...           ...     ...                    ...                     ...     ...             ...              ...\n",
       "2023-07-22 13:08:00+02:00 2023-07-22 13:08:00+02:00  0.003138  0.003139  0.003138  0.003139   0.242 2023-07-22 13:08:59+02:00      0.000760       2                  0.242                0.000760       0   1690024080000    1690024139999\n",
       "2023-07-22 13:09:00+02:00 2023-07-22 13:09:00+02:00  0.003139  0.003139  0.003139  0.003139   0.000 2023-07-22 13:09:59+02:00      0.000000       0                  0.000                0.000000       0   1690024140000    1690024199999\n",
       "2023-07-22 13:10:00+02:00 2023-07-22 13:10:00+02:00  0.003138  0.003138  0.003137  0.003138  28.475 2023-07-22 13:10:59+02:00      0.089351      16                  0.787                0.002470       0   1690024200000    1690024259999\n",
       "2023-07-22 13:11:00+02:00 2023-07-22 13:11:00+02:00  0.003138  0.003138  0.003136  0.003136  30.088 2023-07-22 13:11:59+02:00      0.094384      10                  9.177                0.028792       0   1690024260000    1690024319999\n",
       "2023-07-22 13:12:00+02:00 2023-07-22 13:12:00+02:00  0.003135  0.003136  0.003134  0.003136  81.403 2023-07-22 13:12:59+02:00      0.255197      23                 46.386                0.145426       0   1690024320000    1690024379999\n",
       "\n",
       "[977 rows x 14 columns]"
      ]
     },
     "execution_count": 31,
     "metadata": {},
     "output_type": "execute_result"
    }
   ],
   "source": [
    "df = redis_fetch.fetch_set_and_parse(redisClient=redisClient_klines, key=mykey)\n",
    "df"
   ]
  },
  {
   "cell_type": "code",
   "execution_count": 32,
   "id": "3cb98b2a",
   "metadata": {},
   "outputs": [],
   "source": [
    "# verify not missing entries\n",
    "verification = df['Open timestamp'].diff().value_counts()\n",
    "assert len(verification) == 1"
   ]
  },
  {
   "cell_type": "code",
   "execution_count": 33,
   "id": "aef0008a",
   "metadata": {
    "pycharm": {
     "name": "#%%\n"
    }
   },
   "outputs": [],
   "source": [
    "# %%timeit\n",
    "# data = redis_fetch.fetch_set_and_parse(redisClient=redisClient, key=mykey)\n",
    "# 20.6 ms ± 412 µs per loop (mean ± std. dev. of 7 runs, 10 loops each)"
   ]
  },
  {
   "cell_type": "code",
   "execution_count": 34,
   "id": "995a6804",
   "metadata": {
    "scrolled": false
   },
   "outputs": [
    {
     "name": "stderr",
     "output_type": "stream",
     "text": [
      "2023-07-22\t 13:13:18     INFO Empty trades, please request using: get_agg_trades() method: Example: my_symbol.get_agg_trades()\n"
     ]
    }
   ],
   "source": [
    "sym.plot_trades_scatter()"
   ]
  },
  {
   "cell_type": "code",
   "execution_count": 35,
   "id": "5d694615",
   "metadata": {},
   "outputs": [
    {
     "name": "stderr",
     "output_type": "stream",
     "text": [
      "2023-07-22\t 13:13:18     INFO Empty trades, please request using: get_agg_trades() method: Example: my_symbol.get_agg_trades()\n"
     ]
    }
   ],
   "source": [
    "sym.plot_market_profile(from_agg_trades=True)"
   ]
  },
  {
   "cell_type": "code",
   "execution_count": 36,
   "id": "47daf562",
   "metadata": {},
   "outputs": [
    {
     "data": {
      "application/vnd.plotly.v1+json": {
       "config": {
        "plotlyServerURL": "https://plot.ly"
       },
       "data": [
        {
         "name": "Buyer was maker: False",
         "type": "bar",
         "x": [
          "(0.003114, 0.0031144]",
          "(0.0031144, 0.0031149]",
          "(0.0031149, 0.0031153]",
          "(0.0031153, 0.0031158]",
          "(0.0031158, 0.0031162]",
          "(0.0031162, 0.0031167]",
          "(0.0031167, 0.0031172]",
          "(0.0031172, 0.0031176]",
          "(0.0031176, 0.003118]",
          "(0.003118, 0.0031185]",
          "(0.0031185, 0.003119]",
          "(0.003119, 0.0031194]",
          "(0.0031194, 0.0031198]",
          "(0.0031198, 0.0031203]",
          "(0.0031203, 0.0031208]",
          "(0.0031208, 0.0031212]",
          "(0.0031212, 0.0031216]",
          "(0.0031216, 0.0031221]",
          "(0.0031221, 0.0031226]",
          "(0.0031226, 0.003123]",
          "(0.003123, 0.0031234]",
          "(0.0031234, 0.0031239]",
          "(0.0031239, 0.0031244]",
          "(0.0031244, 0.0031248]",
          "(0.0031248, 0.0031252]",
          "(0.0031252, 0.0031257]",
          "(0.0031257, 0.0031262]",
          "(0.0031262, 0.0031266]",
          "(0.0031266, 0.003127]",
          "(0.003127, 0.0031275]",
          "(0.0031275, 0.003128]",
          "(0.003128, 0.0031284]",
          "(0.0031284, 0.0031288]",
          "(0.0031288, 0.0031293]",
          "(0.0031293, 0.0031298]",
          "(0.0031298, 0.0031302]",
          "(0.0031302, 0.0031306]",
          "(0.0031306, 0.0031311]",
          "(0.0031311, 0.0031316]",
          "(0.0031316, 0.003132]",
          "(0.003132, 0.0031324]",
          "(0.0031324, 0.0031329]",
          "(0.0031329, 0.0031334]",
          "(0.0031334, 0.0031338]",
          "(0.0031338, 0.0031342]",
          "(0.0031342, 0.0031347]",
          "(0.0031347, 0.0031352]",
          "(0.0031352, 0.0031356]",
          "(0.0031356, 0.003136]",
          "(0.003136, 0.0031365]",
          "(0.0031365, 0.003137]",
          "(0.003137, 0.0031374]",
          "(0.0031374, 0.0031378]",
          "(0.0031378, 0.0031383]",
          "(0.0031383, 0.0031388]",
          "(0.0031388, 0.0031392]",
          "(0.0031392, 0.0031396]",
          "(0.0031396, 0.0031401]",
          "(0.0031401, 0.0031405]",
          "(0.0031405, 0.003141]",
          "(0.003141, 0.0031414]",
          "(0.0031414, 0.0031419]",
          "(0.0031419, 0.0031424]",
          "(0.0031424, 0.0031428]",
          "(0.0031428, 0.0031432]",
          "(0.0031432, 0.0031437]",
          "(0.0031437, 0.0031442]",
          "(0.0031442, 0.0031446]",
          "(0.0031446, 0.003145]",
          "(0.003145, 0.0031455]",
          "(0.0031455, 0.0031459]",
          "(0.0031459, 0.0031464]",
          "(0.0031464, 0.0031468]",
          "(0.0031468, 0.0031473]",
          "(0.0031473, 0.0031478]",
          "(0.0031478, 0.0031482]",
          "(0.0031482, 0.0031486]",
          "(0.0031486, 0.0031491]",
          "(0.0031491, 0.0031496]",
          "(0.0031496, 0.00315]",
          "(0.00315, 0.0031504]",
          "(0.0031504, 0.0031509]",
          "(0.0031509, 0.0031513]",
          "(0.0031513, 0.0031518]",
          "(0.0031518, 0.0031522]",
          "(0.0031522, 0.0031527]",
          "(0.0031527, 0.0031532]",
          "(0.0031532, 0.0031536]",
          "(0.0031536, 0.003154]",
          "(0.003154, 0.0031545]",
          "(0.0031545, 0.003155]",
          "(0.003155, 0.0031554]",
          "(0.0031554, 0.0031558]",
          "(0.0031558, 0.0031563]",
          "(0.0031563, 0.0031568]",
          "(0.0031568, 0.0031572]",
          "(0.0031572, 0.0031576]",
          "(0.0031576, 0.0031581]",
          "(0.0031581, 0.0031586]",
          "(0.0031586, 0.003159]"
         ],
         "y": [
          0,
          0,
          15.639,
          0,
          13.137,
          0,
          91.64099999999999,
          0,
          49.834,
          0,
          0,
          109.661,
          0,
          55.947,
          0,
          189.573,
          0,
          177.674,
          0,
          244.168,
          0,
          0,
          162.615,
          0,
          258.15,
          0,
          83.416,
          0,
          104.062,
          0,
          0,
          158.083,
          0,
          133.988,
          0,
          116.326,
          0,
          11.926,
          0,
          17.081,
          0,
          0,
          29.661,
          0,
          86.166,
          0,
          148.451,
          0,
          212.027,
          0,
          0,
          164.501,
          0,
          258.89300000000003,
          0,
          87.92,
          0,
          98.13499999999999,
          0,
          50.496,
          0,
          0,
          56.459,
          0,
          0.5559999999999999,
          0,
          1.75,
          0,
          0.657,
          0,
          0,
          49.787,
          0,
          1.032,
          0,
          18.82,
          0,
          7.277,
          0,
          36.394999999999996,
          0,
          0,
          102.91799999999999,
          0,
          133.712,
          0,
          125.342,
          0,
          445.074,
          0,
          0,
          294.134,
          0,
          312.01,
          0,
          102.382,
          0,
          165.247,
          0,
          83.581
         ]
        },
        {
         "name": "Buyer was maker: True",
         "type": "bar",
         "x": [
          "(0.003114, 0.0031144]",
          "(0.0031144, 0.0031149]",
          "(0.0031149, 0.0031153]",
          "(0.0031153, 0.0031158]",
          "(0.0031158, 0.0031162]",
          "(0.0031162, 0.0031167]",
          "(0.0031167, 0.0031172]",
          "(0.0031172, 0.0031176]",
          "(0.0031176, 0.003118]",
          "(0.003118, 0.0031185]",
          "(0.0031185, 0.003119]",
          "(0.003119, 0.0031194]",
          "(0.0031194, 0.0031198]",
          "(0.0031198, 0.0031203]",
          "(0.0031203, 0.0031208]",
          "(0.0031208, 0.0031212]",
          "(0.0031212, 0.0031216]",
          "(0.0031216, 0.0031221]",
          "(0.0031221, 0.0031226]",
          "(0.0031226, 0.003123]",
          "(0.003123, 0.0031234]",
          "(0.0031234, 0.0031239]",
          "(0.0031239, 0.0031244]",
          "(0.0031244, 0.0031248]",
          "(0.0031248, 0.0031252]",
          "(0.0031252, 0.0031257]",
          "(0.0031257, 0.0031262]",
          "(0.0031262, 0.0031266]",
          "(0.0031266, 0.003127]",
          "(0.003127, 0.0031275]",
          "(0.0031275, 0.003128]",
          "(0.003128, 0.0031284]",
          "(0.0031284, 0.0031288]",
          "(0.0031288, 0.0031293]",
          "(0.0031293, 0.0031298]",
          "(0.0031298, 0.0031302]",
          "(0.0031302, 0.0031306]",
          "(0.0031306, 0.0031311]",
          "(0.0031311, 0.0031316]",
          "(0.0031316, 0.003132]",
          "(0.003132, 0.0031324]",
          "(0.0031324, 0.0031329]",
          "(0.0031329, 0.0031334]",
          "(0.0031334, 0.0031338]",
          "(0.0031338, 0.0031342]",
          "(0.0031342, 0.0031347]",
          "(0.0031347, 0.0031352]",
          "(0.0031352, 0.0031356]",
          "(0.0031356, 0.003136]",
          "(0.003136, 0.0031365]",
          "(0.0031365, 0.003137]",
          "(0.003137, 0.0031374]",
          "(0.0031374, 0.0031378]",
          "(0.0031378, 0.0031383]",
          "(0.0031383, 0.0031388]",
          "(0.0031388, 0.0031392]",
          "(0.0031392, 0.0031396]",
          "(0.0031396, 0.0031401]",
          "(0.0031401, 0.0031405]",
          "(0.0031405, 0.003141]",
          "(0.003141, 0.0031414]",
          "(0.0031414, 0.0031419]",
          "(0.0031419, 0.0031424]",
          "(0.0031424, 0.0031428]",
          "(0.0031428, 0.0031432]",
          "(0.0031432, 0.0031437]",
          "(0.0031437, 0.0031442]",
          "(0.0031442, 0.0031446]",
          "(0.0031446, 0.003145]",
          "(0.003145, 0.0031455]",
          "(0.0031455, 0.0031459]",
          "(0.0031459, 0.0031464]",
          "(0.0031464, 0.0031468]",
          "(0.0031468, 0.0031473]",
          "(0.0031473, 0.0031478]",
          "(0.0031478, 0.0031482]",
          "(0.0031482, 0.0031486]",
          "(0.0031486, 0.0031491]",
          "(0.0031491, 0.0031496]",
          "(0.0031496, 0.00315]",
          "(0.00315, 0.0031504]",
          "(0.0031504, 0.0031509]",
          "(0.0031509, 0.0031513]",
          "(0.0031513, 0.0031518]",
          "(0.0031518, 0.0031522]",
          "(0.0031522, 0.0031527]",
          "(0.0031527, 0.0031532]",
          "(0.0031532, 0.0031536]",
          "(0.0031536, 0.003154]",
          "(0.003154, 0.0031545]",
          "(0.0031545, 0.003155]",
          "(0.003155, 0.0031554]",
          "(0.0031554, 0.0031558]",
          "(0.0031558, 0.0031563]",
          "(0.0031563, 0.0031568]",
          "(0.0031568, 0.0031572]",
          "(0.0031572, 0.0031576]",
          "(0.0031576, 0.0031581]",
          "(0.0031581, 0.0031586]",
          "(0.0031586, 0.003159]"
         ],
         "y": [
          0,
          0,
          65.799,
          0,
          31.832,
          0,
          21.111,
          0,
          48.997,
          0,
          0,
          236.492,
          0,
          170.216,
          0,
          87.475,
          0,
          181.969,
          0,
          184.148,
          0,
          0,
          149.28900000000002,
          0,
          113.195,
          0,
          295.976,
          0,
          230.241,
          0,
          0,
          117.361,
          0,
          95.414,
          0,
          154.468,
          0,
          17.124000000000002,
          0,
          33.882,
          0,
          0,
          42.268,
          0,
          235.645,
          0,
          132.80700000000002,
          0,
          261.89,
          0,
          0,
          81.294,
          0,
          334.484,
          0,
          173.105,
          0,
          9.994,
          0,
          5.916,
          0,
          0,
          56.296,
          0,
          23.239,
          0,
          38.723,
          0,
          11.700000000000001,
          0,
          0,
          118.28999999999999,
          0,
          164.24699999999999,
          0,
          5.2299999999999995,
          0,
          6.093,
          0,
          26.02,
          0,
          0,
          45.804,
          0,
          173.321,
          0,
          220.367,
          0,
          312.581,
          0,
          0,
          458.528,
          0,
          79.337,
          0,
          160.542,
          0,
          23.146,
          0,
          10.678
         ]
        }
       ],
       "layout": {
        "barmode": "stack",
        "height": 900,
        "template": {
         "data": {
          "bar": [
           {
            "error_x": {
             "color": "#2a3f5f"
            },
            "error_y": {
             "color": "#2a3f5f"
            },
            "marker": {
             "line": {
              "color": "#E5ECF6",
              "width": 0.5
             },
             "pattern": {
              "fillmode": "overlay",
              "size": 10,
              "solidity": 0.2
             }
            },
            "type": "bar"
           }
          ],
          "barpolar": [
           {
            "marker": {
             "line": {
              "color": "#E5ECF6",
              "width": 0.5
             },
             "pattern": {
              "fillmode": "overlay",
              "size": 10,
              "solidity": 0.2
             }
            },
            "type": "barpolar"
           }
          ],
          "carpet": [
           {
            "aaxis": {
             "endlinecolor": "#2a3f5f",
             "gridcolor": "white",
             "linecolor": "white",
             "minorgridcolor": "white",
             "startlinecolor": "#2a3f5f"
            },
            "baxis": {
             "endlinecolor": "#2a3f5f",
             "gridcolor": "white",
             "linecolor": "white",
             "minorgridcolor": "white",
             "startlinecolor": "#2a3f5f"
            },
            "type": "carpet"
           }
          ],
          "choropleth": [
           {
            "colorbar": {
             "outlinewidth": 0,
             "ticks": ""
            },
            "type": "choropleth"
           }
          ],
          "contour": [
           {
            "colorbar": {
             "outlinewidth": 0,
             "ticks": ""
            },
            "colorscale": [
             [
              0,
              "#0d0887"
             ],
             [
              0.1111111111111111,
              "#46039f"
             ],
             [
              0.2222222222222222,
              "#7201a8"
             ],
             [
              0.3333333333333333,
              "#9c179e"
             ],
             [
              0.4444444444444444,
              "#bd3786"
             ],
             [
              0.5555555555555556,
              "#d8576b"
             ],
             [
              0.6666666666666666,
              "#ed7953"
             ],
             [
              0.7777777777777778,
              "#fb9f3a"
             ],
             [
              0.8888888888888888,
              "#fdca26"
             ],
             [
              1,
              "#f0f921"
             ]
            ],
            "type": "contour"
           }
          ],
          "contourcarpet": [
           {
            "colorbar": {
             "outlinewidth": 0,
             "ticks": ""
            },
            "type": "contourcarpet"
           }
          ],
          "heatmap": [
           {
            "colorbar": {
             "outlinewidth": 0,
             "ticks": ""
            },
            "colorscale": [
             [
              0,
              "#0d0887"
             ],
             [
              0.1111111111111111,
              "#46039f"
             ],
             [
              0.2222222222222222,
              "#7201a8"
             ],
             [
              0.3333333333333333,
              "#9c179e"
             ],
             [
              0.4444444444444444,
              "#bd3786"
             ],
             [
              0.5555555555555556,
              "#d8576b"
             ],
             [
              0.6666666666666666,
              "#ed7953"
             ],
             [
              0.7777777777777778,
              "#fb9f3a"
             ],
             [
              0.8888888888888888,
              "#fdca26"
             ],
             [
              1,
              "#f0f921"
             ]
            ],
            "type": "heatmap"
           }
          ],
          "heatmapgl": [
           {
            "colorbar": {
             "outlinewidth": 0,
             "ticks": ""
            },
            "colorscale": [
             [
              0,
              "#0d0887"
             ],
             [
              0.1111111111111111,
              "#46039f"
             ],
             [
              0.2222222222222222,
              "#7201a8"
             ],
             [
              0.3333333333333333,
              "#9c179e"
             ],
             [
              0.4444444444444444,
              "#bd3786"
             ],
             [
              0.5555555555555556,
              "#d8576b"
             ],
             [
              0.6666666666666666,
              "#ed7953"
             ],
             [
              0.7777777777777778,
              "#fb9f3a"
             ],
             [
              0.8888888888888888,
              "#fdca26"
             ],
             [
              1,
              "#f0f921"
             ]
            ],
            "type": "heatmapgl"
           }
          ],
          "histogram": [
           {
            "marker": {
             "pattern": {
              "fillmode": "overlay",
              "size": 10,
              "solidity": 0.2
             }
            },
            "type": "histogram"
           }
          ],
          "histogram2d": [
           {
            "colorbar": {
             "outlinewidth": 0,
             "ticks": ""
            },
            "colorscale": [
             [
              0,
              "#0d0887"
             ],
             [
              0.1111111111111111,
              "#46039f"
             ],
             [
              0.2222222222222222,
              "#7201a8"
             ],
             [
              0.3333333333333333,
              "#9c179e"
             ],
             [
              0.4444444444444444,
              "#bd3786"
             ],
             [
              0.5555555555555556,
              "#d8576b"
             ],
             [
              0.6666666666666666,
              "#ed7953"
             ],
             [
              0.7777777777777778,
              "#fb9f3a"
             ],
             [
              0.8888888888888888,
              "#fdca26"
             ],
             [
              1,
              "#f0f921"
             ]
            ],
            "type": "histogram2d"
           }
          ],
          "histogram2dcontour": [
           {
            "colorbar": {
             "outlinewidth": 0,
             "ticks": ""
            },
            "colorscale": [
             [
              0,
              "#0d0887"
             ],
             [
              0.1111111111111111,
              "#46039f"
             ],
             [
              0.2222222222222222,
              "#7201a8"
             ],
             [
              0.3333333333333333,
              "#9c179e"
             ],
             [
              0.4444444444444444,
              "#bd3786"
             ],
             [
              0.5555555555555556,
              "#d8576b"
             ],
             [
              0.6666666666666666,
              "#ed7953"
             ],
             [
              0.7777777777777778,
              "#fb9f3a"
             ],
             [
              0.8888888888888888,
              "#fdca26"
             ],
             [
              1,
              "#f0f921"
             ]
            ],
            "type": "histogram2dcontour"
           }
          ],
          "mesh3d": [
           {
            "colorbar": {
             "outlinewidth": 0,
             "ticks": ""
            },
            "type": "mesh3d"
           }
          ],
          "parcoords": [
           {
            "line": {
             "colorbar": {
              "outlinewidth": 0,
              "ticks": ""
             }
            },
            "type": "parcoords"
           }
          ],
          "pie": [
           {
            "automargin": true,
            "type": "pie"
           }
          ],
          "scatter": [
           {
            "fillpattern": {
             "fillmode": "overlay",
             "size": 10,
             "solidity": 0.2
            },
            "type": "scatter"
           }
          ],
          "scatter3d": [
           {
            "line": {
             "colorbar": {
              "outlinewidth": 0,
              "ticks": ""
             }
            },
            "marker": {
             "colorbar": {
              "outlinewidth": 0,
              "ticks": ""
             }
            },
            "type": "scatter3d"
           }
          ],
          "scattercarpet": [
           {
            "marker": {
             "colorbar": {
              "outlinewidth": 0,
              "ticks": ""
             }
            },
            "type": "scattercarpet"
           }
          ],
          "scattergeo": [
           {
            "marker": {
             "colorbar": {
              "outlinewidth": 0,
              "ticks": ""
             }
            },
            "type": "scattergeo"
           }
          ],
          "scattergl": [
           {
            "marker": {
             "colorbar": {
              "outlinewidth": 0,
              "ticks": ""
             }
            },
            "type": "scattergl"
           }
          ],
          "scattermapbox": [
           {
            "marker": {
             "colorbar": {
              "outlinewidth": 0,
              "ticks": ""
             }
            },
            "type": "scattermapbox"
           }
          ],
          "scatterpolar": [
           {
            "marker": {
             "colorbar": {
              "outlinewidth": 0,
              "ticks": ""
             }
            },
            "type": "scatterpolar"
           }
          ],
          "scatterpolargl": [
           {
            "marker": {
             "colorbar": {
              "outlinewidth": 0,
              "ticks": ""
             }
            },
            "type": "scatterpolargl"
           }
          ],
          "scatterternary": [
           {
            "marker": {
             "colorbar": {
              "outlinewidth": 0,
              "ticks": ""
             }
            },
            "type": "scatterternary"
           }
          ],
          "surface": [
           {
            "colorbar": {
             "outlinewidth": 0,
             "ticks": ""
            },
            "colorscale": [
             [
              0,
              "#0d0887"
             ],
             [
              0.1111111111111111,
              "#46039f"
             ],
             [
              0.2222222222222222,
              "#7201a8"
             ],
             [
              0.3333333333333333,
              "#9c179e"
             ],
             [
              0.4444444444444444,
              "#bd3786"
             ],
             [
              0.5555555555555556,
              "#d8576b"
             ],
             [
              0.6666666666666666,
              "#ed7953"
             ],
             [
              0.7777777777777778,
              "#fb9f3a"
             ],
             [
              0.8888888888888888,
              "#fdca26"
             ],
             [
              1,
              "#f0f921"
             ]
            ],
            "type": "surface"
           }
          ],
          "table": [
           {
            "cells": {
             "fill": {
              "color": "#EBF0F8"
             },
             "line": {
              "color": "white"
             }
            },
            "header": {
             "fill": {
              "color": "#C8D4E3"
             },
             "line": {
              "color": "white"
             }
            },
            "type": "table"
           }
          ]
         },
         "layout": {
          "annotationdefaults": {
           "arrowcolor": "#2a3f5f",
           "arrowhead": 0,
           "arrowwidth": 1
          },
          "autotypenumbers": "strict",
          "coloraxis": {
           "colorbar": {
            "outlinewidth": 0,
            "ticks": ""
           }
          },
          "colorscale": {
           "diverging": [
            [
             0,
             "#8e0152"
            ],
            [
             0.1,
             "#c51b7d"
            ],
            [
             0.2,
             "#de77ae"
            ],
            [
             0.3,
             "#f1b6da"
            ],
            [
             0.4,
             "#fde0ef"
            ],
            [
             0.5,
             "#f7f7f7"
            ],
            [
             0.6,
             "#e6f5d0"
            ],
            [
             0.7,
             "#b8e186"
            ],
            [
             0.8,
             "#7fbc41"
            ],
            [
             0.9,
             "#4d9221"
            ],
            [
             1,
             "#276419"
            ]
           ],
           "sequential": [
            [
             0,
             "#0d0887"
            ],
            [
             0.1111111111111111,
             "#46039f"
            ],
            [
             0.2222222222222222,
             "#7201a8"
            ],
            [
             0.3333333333333333,
             "#9c179e"
            ],
            [
             0.4444444444444444,
             "#bd3786"
            ],
            [
             0.5555555555555556,
             "#d8576b"
            ],
            [
             0.6666666666666666,
             "#ed7953"
            ],
            [
             0.7777777777777778,
             "#fb9f3a"
            ],
            [
             0.8888888888888888,
             "#fdca26"
            ],
            [
             1,
             "#f0f921"
            ]
           ],
           "sequentialminus": [
            [
             0,
             "#0d0887"
            ],
            [
             0.1111111111111111,
             "#46039f"
            ],
            [
             0.2222222222222222,
             "#7201a8"
            ],
            [
             0.3333333333333333,
             "#9c179e"
            ],
            [
             0.4444444444444444,
             "#bd3786"
            ],
            [
             0.5555555555555556,
             "#d8576b"
            ],
            [
             0.6666666666666666,
             "#ed7953"
            ],
            [
             0.7777777777777778,
             "#fb9f3a"
            ],
            [
             0.8888888888888888,
             "#fdca26"
            ],
            [
             1,
             "#f0f921"
            ]
           ]
          },
          "colorway": [
           "#636efa",
           "#EF553B",
           "#00cc96",
           "#ab63fa",
           "#FFA15A",
           "#19d3f3",
           "#FF6692",
           "#B6E880",
           "#FF97FF",
           "#FECB52"
          ],
          "font": {
           "color": "#2a3f5f"
          },
          "geo": {
           "bgcolor": "white",
           "lakecolor": "white",
           "landcolor": "#E5ECF6",
           "showlakes": true,
           "showland": true,
           "subunitcolor": "white"
          },
          "hoverlabel": {
           "align": "left"
          },
          "hovermode": "closest",
          "mapbox": {
           "style": "light"
          },
          "paper_bgcolor": "white",
          "plot_bgcolor": "#E5ECF6",
          "polar": {
           "angularaxis": {
            "gridcolor": "white",
            "linecolor": "white",
            "ticks": ""
           },
           "bgcolor": "#E5ECF6",
           "radialaxis": {
            "gridcolor": "white",
            "linecolor": "white",
            "ticks": ""
           }
          },
          "scene": {
           "xaxis": {
            "backgroundcolor": "#E5ECF6",
            "gridcolor": "white",
            "gridwidth": 2,
            "linecolor": "white",
            "showbackground": true,
            "ticks": "",
            "zerolinecolor": "white"
           },
           "yaxis": {
            "backgroundcolor": "#E5ECF6",
            "gridcolor": "white",
            "gridwidth": 2,
            "linecolor": "white",
            "showbackground": true,
            "ticks": "",
            "zerolinecolor": "white"
           },
           "zaxis": {
            "backgroundcolor": "#E5ECF6",
            "gridcolor": "white",
            "gridwidth": 2,
            "linecolor": "white",
            "showbackground": true,
            "ticks": "",
            "zerolinecolor": "white"
           }
          },
          "shapedefaults": {
           "line": {
            "color": "#2a3f5f"
           }
          },
          "ternary": {
           "aaxis": {
            "gridcolor": "white",
            "linecolor": "white",
            "ticks": ""
           },
           "baxis": {
            "gridcolor": "white",
            "linecolor": "white",
            "ticks": ""
           },
           "bgcolor": "#E5ECF6",
           "caxis": {
            "gridcolor": "white",
            "linecolor": "white",
            "ticks": ""
           }
          },
          "title": {
           "x": 0.05
          },
          "xaxis": {
           "automargin": true,
           "gridcolor": "white",
           "linecolor": "white",
           "ticks": "",
           "title": {
            "standoff": 15
           },
           "zerolinecolor": "white",
           "zerolinewidth": 2
          },
          "yaxis": {
           "automargin": true,
           "gridcolor": "white",
           "linecolor": "white",
           "ticks": "",
           "title": {
            "standoff": 15
           },
           "zerolinecolor": "white",
           "zerolinewidth": 2
          }
         }
        },
        "title": {
         "text": "Market Profile Atomic LTCBTC"
        },
        "yaxis": {
         "title": {
          "text": "Buy takers VS Buy makers"
         }
        }
       }
      },
      "text/html": [
       "<div>                            <div id=\"3d6b6954-9a19-4483-a5ed-679b6249232e\" class=\"plotly-graph-div\" style=\"height:900px; width:100%;\"></div>            <script type=\"text/javascript\">                require([\"plotly\"], function(Plotly) {                    window.PLOTLYENV=window.PLOTLYENV || {};                                    if (document.getElementById(\"3d6b6954-9a19-4483-a5ed-679b6249232e\")) {                    Plotly.newPlot(                        \"3d6b6954-9a19-4483-a5ed-679b6249232e\",                        [{\"name\":\"Buyer was maker: False\",\"x\":[\"(0.003114, 0.0031144]\",\"(0.0031144, 0.0031149]\",\"(0.0031149, 0.0031153]\",\"(0.0031153, 0.0031158]\",\"(0.0031158, 0.0031162]\",\"(0.0031162, 0.0031167]\",\"(0.0031167, 0.0031172]\",\"(0.0031172, 0.0031176]\",\"(0.0031176, 0.003118]\",\"(0.003118, 0.0031185]\",\"(0.0031185, 0.003119]\",\"(0.003119, 0.0031194]\",\"(0.0031194, 0.0031198]\",\"(0.0031198, 0.0031203]\",\"(0.0031203, 0.0031208]\",\"(0.0031208, 0.0031212]\",\"(0.0031212, 0.0031216]\",\"(0.0031216, 0.0031221]\",\"(0.0031221, 0.0031226]\",\"(0.0031226, 0.003123]\",\"(0.003123, 0.0031234]\",\"(0.0031234, 0.0031239]\",\"(0.0031239, 0.0031244]\",\"(0.0031244, 0.0031248]\",\"(0.0031248, 0.0031252]\",\"(0.0031252, 0.0031257]\",\"(0.0031257, 0.0031262]\",\"(0.0031262, 0.0031266]\",\"(0.0031266, 0.003127]\",\"(0.003127, 0.0031275]\",\"(0.0031275, 0.003128]\",\"(0.003128, 0.0031284]\",\"(0.0031284, 0.0031288]\",\"(0.0031288, 0.0031293]\",\"(0.0031293, 0.0031298]\",\"(0.0031298, 0.0031302]\",\"(0.0031302, 0.0031306]\",\"(0.0031306, 0.0031311]\",\"(0.0031311, 0.0031316]\",\"(0.0031316, 0.003132]\",\"(0.003132, 0.0031324]\",\"(0.0031324, 0.0031329]\",\"(0.0031329, 0.0031334]\",\"(0.0031334, 0.0031338]\",\"(0.0031338, 0.0031342]\",\"(0.0031342, 0.0031347]\",\"(0.0031347, 0.0031352]\",\"(0.0031352, 0.0031356]\",\"(0.0031356, 0.003136]\",\"(0.003136, 0.0031365]\",\"(0.0031365, 0.003137]\",\"(0.003137, 0.0031374]\",\"(0.0031374, 0.0031378]\",\"(0.0031378, 0.0031383]\",\"(0.0031383, 0.0031388]\",\"(0.0031388, 0.0031392]\",\"(0.0031392, 0.0031396]\",\"(0.0031396, 0.0031401]\",\"(0.0031401, 0.0031405]\",\"(0.0031405, 0.003141]\",\"(0.003141, 0.0031414]\",\"(0.0031414, 0.0031419]\",\"(0.0031419, 0.0031424]\",\"(0.0031424, 0.0031428]\",\"(0.0031428, 0.0031432]\",\"(0.0031432, 0.0031437]\",\"(0.0031437, 0.0031442]\",\"(0.0031442, 0.0031446]\",\"(0.0031446, 0.003145]\",\"(0.003145, 0.0031455]\",\"(0.0031455, 0.0031459]\",\"(0.0031459, 0.0031464]\",\"(0.0031464, 0.0031468]\",\"(0.0031468, 0.0031473]\",\"(0.0031473, 0.0031478]\",\"(0.0031478, 0.0031482]\",\"(0.0031482, 0.0031486]\",\"(0.0031486, 0.0031491]\",\"(0.0031491, 0.0031496]\",\"(0.0031496, 0.00315]\",\"(0.00315, 0.0031504]\",\"(0.0031504, 0.0031509]\",\"(0.0031509, 0.0031513]\",\"(0.0031513, 0.0031518]\",\"(0.0031518, 0.0031522]\",\"(0.0031522, 0.0031527]\",\"(0.0031527, 0.0031532]\",\"(0.0031532, 0.0031536]\",\"(0.0031536, 0.003154]\",\"(0.003154, 0.0031545]\",\"(0.0031545, 0.003155]\",\"(0.003155, 0.0031554]\",\"(0.0031554, 0.0031558]\",\"(0.0031558, 0.0031563]\",\"(0.0031563, 0.0031568]\",\"(0.0031568, 0.0031572]\",\"(0.0031572, 0.0031576]\",\"(0.0031576, 0.0031581]\",\"(0.0031581, 0.0031586]\",\"(0.0031586, 0.003159]\"],\"y\":[0.0,0.0,15.639,0.0,13.137,0.0,91.64099999999999,0.0,49.834,0.0,0.0,109.661,0.0,55.947,0.0,189.573,0.0,177.674,0.0,244.168,0.0,0.0,162.615,0.0,258.15,0.0,83.416,0.0,104.062,0.0,0.0,158.083,0.0,133.988,0.0,116.326,0.0,11.926,0.0,17.081,0.0,0.0,29.661,0.0,86.166,0.0,148.451,0.0,212.027,0.0,0.0,164.501,0.0,258.89300000000003,0.0,87.92,0.0,98.13499999999999,0.0,50.496,0.0,0.0,56.459,0.0,0.5559999999999999,0.0,1.75,0.0,0.657,0.0,0.0,49.787,0.0,1.032,0.0,18.82,0.0,7.277,0.0,36.394999999999996,0.0,0.0,102.91799999999999,0.0,133.712,0.0,125.342,0.0,445.074,0.0,0.0,294.134,0.0,312.01,0.0,102.382,0.0,165.247,0.0,83.581],\"type\":\"bar\"},{\"name\":\"Buyer was maker: True\",\"x\":[\"(0.003114, 0.0031144]\",\"(0.0031144, 0.0031149]\",\"(0.0031149, 0.0031153]\",\"(0.0031153, 0.0031158]\",\"(0.0031158, 0.0031162]\",\"(0.0031162, 0.0031167]\",\"(0.0031167, 0.0031172]\",\"(0.0031172, 0.0031176]\",\"(0.0031176, 0.003118]\",\"(0.003118, 0.0031185]\",\"(0.0031185, 0.003119]\",\"(0.003119, 0.0031194]\",\"(0.0031194, 0.0031198]\",\"(0.0031198, 0.0031203]\",\"(0.0031203, 0.0031208]\",\"(0.0031208, 0.0031212]\",\"(0.0031212, 0.0031216]\",\"(0.0031216, 0.0031221]\",\"(0.0031221, 0.0031226]\",\"(0.0031226, 0.003123]\",\"(0.003123, 0.0031234]\",\"(0.0031234, 0.0031239]\",\"(0.0031239, 0.0031244]\",\"(0.0031244, 0.0031248]\",\"(0.0031248, 0.0031252]\",\"(0.0031252, 0.0031257]\",\"(0.0031257, 0.0031262]\",\"(0.0031262, 0.0031266]\",\"(0.0031266, 0.003127]\",\"(0.003127, 0.0031275]\",\"(0.0031275, 0.003128]\",\"(0.003128, 0.0031284]\",\"(0.0031284, 0.0031288]\",\"(0.0031288, 0.0031293]\",\"(0.0031293, 0.0031298]\",\"(0.0031298, 0.0031302]\",\"(0.0031302, 0.0031306]\",\"(0.0031306, 0.0031311]\",\"(0.0031311, 0.0031316]\",\"(0.0031316, 0.003132]\",\"(0.003132, 0.0031324]\",\"(0.0031324, 0.0031329]\",\"(0.0031329, 0.0031334]\",\"(0.0031334, 0.0031338]\",\"(0.0031338, 0.0031342]\",\"(0.0031342, 0.0031347]\",\"(0.0031347, 0.0031352]\",\"(0.0031352, 0.0031356]\",\"(0.0031356, 0.003136]\",\"(0.003136, 0.0031365]\",\"(0.0031365, 0.003137]\",\"(0.003137, 0.0031374]\",\"(0.0031374, 0.0031378]\",\"(0.0031378, 0.0031383]\",\"(0.0031383, 0.0031388]\",\"(0.0031388, 0.0031392]\",\"(0.0031392, 0.0031396]\",\"(0.0031396, 0.0031401]\",\"(0.0031401, 0.0031405]\",\"(0.0031405, 0.003141]\",\"(0.003141, 0.0031414]\",\"(0.0031414, 0.0031419]\",\"(0.0031419, 0.0031424]\",\"(0.0031424, 0.0031428]\",\"(0.0031428, 0.0031432]\",\"(0.0031432, 0.0031437]\",\"(0.0031437, 0.0031442]\",\"(0.0031442, 0.0031446]\",\"(0.0031446, 0.003145]\",\"(0.003145, 0.0031455]\",\"(0.0031455, 0.0031459]\",\"(0.0031459, 0.0031464]\",\"(0.0031464, 0.0031468]\",\"(0.0031468, 0.0031473]\",\"(0.0031473, 0.0031478]\",\"(0.0031478, 0.0031482]\",\"(0.0031482, 0.0031486]\",\"(0.0031486, 0.0031491]\",\"(0.0031491, 0.0031496]\",\"(0.0031496, 0.00315]\",\"(0.00315, 0.0031504]\",\"(0.0031504, 0.0031509]\",\"(0.0031509, 0.0031513]\",\"(0.0031513, 0.0031518]\",\"(0.0031518, 0.0031522]\",\"(0.0031522, 0.0031527]\",\"(0.0031527, 0.0031532]\",\"(0.0031532, 0.0031536]\",\"(0.0031536, 0.003154]\",\"(0.003154, 0.0031545]\",\"(0.0031545, 0.003155]\",\"(0.003155, 0.0031554]\",\"(0.0031554, 0.0031558]\",\"(0.0031558, 0.0031563]\",\"(0.0031563, 0.0031568]\",\"(0.0031568, 0.0031572]\",\"(0.0031572, 0.0031576]\",\"(0.0031576, 0.0031581]\",\"(0.0031581, 0.0031586]\",\"(0.0031586, 0.003159]\"],\"y\":[0.0,0.0,65.799,0.0,31.832,0.0,21.111,0.0,48.997,0.0,0.0,236.492,0.0,170.216,0.0,87.475,0.0,181.969,0.0,184.148,0.0,0.0,149.28900000000002,0.0,113.195,0.0,295.976,0.0,230.241,0.0,0.0,117.361,0.0,95.414,0.0,154.468,0.0,17.124000000000002,0.0,33.882,0.0,0.0,42.268,0.0,235.645,0.0,132.80700000000002,0.0,261.89,0.0,0.0,81.294,0.0,334.484,0.0,173.105,0.0,9.994,0.0,5.916,0.0,0.0,56.296,0.0,23.239,0.0,38.723,0.0,11.700000000000001,0.0,0.0,118.28999999999999,0.0,164.24699999999999,0.0,5.2299999999999995,0.0,6.093,0.0,26.02,0.0,0.0,45.804,0.0,173.321,0.0,220.367,0.0,312.581,0.0,0.0,458.528,0.0,79.337,0.0,160.542,0.0,23.146,0.0,10.678],\"type\":\"bar\"}],                        {\"template\":{\"data\":{\"histogram2dcontour\":[{\"type\":\"histogram2dcontour\",\"colorbar\":{\"outlinewidth\":0,\"ticks\":\"\"},\"colorscale\":[[0.0,\"#0d0887\"],[0.1111111111111111,\"#46039f\"],[0.2222222222222222,\"#7201a8\"],[0.3333333333333333,\"#9c179e\"],[0.4444444444444444,\"#bd3786\"],[0.5555555555555556,\"#d8576b\"],[0.6666666666666666,\"#ed7953\"],[0.7777777777777778,\"#fb9f3a\"],[0.8888888888888888,\"#fdca26\"],[1.0,\"#f0f921\"]]}],\"choropleth\":[{\"type\":\"choropleth\",\"colorbar\":{\"outlinewidth\":0,\"ticks\":\"\"}}],\"histogram2d\":[{\"type\":\"histogram2d\",\"colorbar\":{\"outlinewidth\":0,\"ticks\":\"\"},\"colorscale\":[[0.0,\"#0d0887\"],[0.1111111111111111,\"#46039f\"],[0.2222222222222222,\"#7201a8\"],[0.3333333333333333,\"#9c179e\"],[0.4444444444444444,\"#bd3786\"],[0.5555555555555556,\"#d8576b\"],[0.6666666666666666,\"#ed7953\"],[0.7777777777777778,\"#fb9f3a\"],[0.8888888888888888,\"#fdca26\"],[1.0,\"#f0f921\"]]}],\"heatmap\":[{\"type\":\"heatmap\",\"colorbar\":{\"outlinewidth\":0,\"ticks\":\"\"},\"colorscale\":[[0.0,\"#0d0887\"],[0.1111111111111111,\"#46039f\"],[0.2222222222222222,\"#7201a8\"],[0.3333333333333333,\"#9c179e\"],[0.4444444444444444,\"#bd3786\"],[0.5555555555555556,\"#d8576b\"],[0.6666666666666666,\"#ed7953\"],[0.7777777777777778,\"#fb9f3a\"],[0.8888888888888888,\"#fdca26\"],[1.0,\"#f0f921\"]]}],\"heatmapgl\":[{\"type\":\"heatmapgl\",\"colorbar\":{\"outlinewidth\":0,\"ticks\":\"\"},\"colorscale\":[[0.0,\"#0d0887\"],[0.1111111111111111,\"#46039f\"],[0.2222222222222222,\"#7201a8\"],[0.3333333333333333,\"#9c179e\"],[0.4444444444444444,\"#bd3786\"],[0.5555555555555556,\"#d8576b\"],[0.6666666666666666,\"#ed7953\"],[0.7777777777777778,\"#fb9f3a\"],[0.8888888888888888,\"#fdca26\"],[1.0,\"#f0f921\"]]}],\"contourcarpet\":[{\"type\":\"contourcarpet\",\"colorbar\":{\"outlinewidth\":0,\"ticks\":\"\"}}],\"contour\":[{\"type\":\"contour\",\"colorbar\":{\"outlinewidth\":0,\"ticks\":\"\"},\"colorscale\":[[0.0,\"#0d0887\"],[0.1111111111111111,\"#46039f\"],[0.2222222222222222,\"#7201a8\"],[0.3333333333333333,\"#9c179e\"],[0.4444444444444444,\"#bd3786\"],[0.5555555555555556,\"#d8576b\"],[0.6666666666666666,\"#ed7953\"],[0.7777777777777778,\"#fb9f3a\"],[0.8888888888888888,\"#fdca26\"],[1.0,\"#f0f921\"]]}],\"surface\":[{\"type\":\"surface\",\"colorbar\":{\"outlinewidth\":0,\"ticks\":\"\"},\"colorscale\":[[0.0,\"#0d0887\"],[0.1111111111111111,\"#46039f\"],[0.2222222222222222,\"#7201a8\"],[0.3333333333333333,\"#9c179e\"],[0.4444444444444444,\"#bd3786\"],[0.5555555555555556,\"#d8576b\"],[0.6666666666666666,\"#ed7953\"],[0.7777777777777778,\"#fb9f3a\"],[0.8888888888888888,\"#fdca26\"],[1.0,\"#f0f921\"]]}],\"mesh3d\":[{\"type\":\"mesh3d\",\"colorbar\":{\"outlinewidth\":0,\"ticks\":\"\"}}],\"scatter\":[{\"fillpattern\":{\"fillmode\":\"overlay\",\"size\":10,\"solidity\":0.2},\"type\":\"scatter\"}],\"parcoords\":[{\"type\":\"parcoords\",\"line\":{\"colorbar\":{\"outlinewidth\":0,\"ticks\":\"\"}}}],\"scatterpolargl\":[{\"type\":\"scatterpolargl\",\"marker\":{\"colorbar\":{\"outlinewidth\":0,\"ticks\":\"\"}}}],\"bar\":[{\"error_x\":{\"color\":\"#2a3f5f\"},\"error_y\":{\"color\":\"#2a3f5f\"},\"marker\":{\"line\":{\"color\":\"#E5ECF6\",\"width\":0.5},\"pattern\":{\"fillmode\":\"overlay\",\"size\":10,\"solidity\":0.2}},\"type\":\"bar\"}],\"scattergeo\":[{\"type\":\"scattergeo\",\"marker\":{\"colorbar\":{\"outlinewidth\":0,\"ticks\":\"\"}}}],\"scatterpolar\":[{\"type\":\"scatterpolar\",\"marker\":{\"colorbar\":{\"outlinewidth\":0,\"ticks\":\"\"}}}],\"histogram\":[{\"marker\":{\"pattern\":{\"fillmode\":\"overlay\",\"size\":10,\"solidity\":0.2}},\"type\":\"histogram\"}],\"scattergl\":[{\"type\":\"scattergl\",\"marker\":{\"colorbar\":{\"outlinewidth\":0,\"ticks\":\"\"}}}],\"scatter3d\":[{\"type\":\"scatter3d\",\"line\":{\"colorbar\":{\"outlinewidth\":0,\"ticks\":\"\"}},\"marker\":{\"colorbar\":{\"outlinewidth\":0,\"ticks\":\"\"}}}],\"scattermapbox\":[{\"type\":\"scattermapbox\",\"marker\":{\"colorbar\":{\"outlinewidth\":0,\"ticks\":\"\"}}}],\"scatterternary\":[{\"type\":\"scatterternary\",\"marker\":{\"colorbar\":{\"outlinewidth\":0,\"ticks\":\"\"}}}],\"scattercarpet\":[{\"type\":\"scattercarpet\",\"marker\":{\"colorbar\":{\"outlinewidth\":0,\"ticks\":\"\"}}}],\"carpet\":[{\"aaxis\":{\"endlinecolor\":\"#2a3f5f\",\"gridcolor\":\"white\",\"linecolor\":\"white\",\"minorgridcolor\":\"white\",\"startlinecolor\":\"#2a3f5f\"},\"baxis\":{\"endlinecolor\":\"#2a3f5f\",\"gridcolor\":\"white\",\"linecolor\":\"white\",\"minorgridcolor\":\"white\",\"startlinecolor\":\"#2a3f5f\"},\"type\":\"carpet\"}],\"table\":[{\"cells\":{\"fill\":{\"color\":\"#EBF0F8\"},\"line\":{\"color\":\"white\"}},\"header\":{\"fill\":{\"color\":\"#C8D4E3\"},\"line\":{\"color\":\"white\"}},\"type\":\"table\"}],\"barpolar\":[{\"marker\":{\"line\":{\"color\":\"#E5ECF6\",\"width\":0.5},\"pattern\":{\"fillmode\":\"overlay\",\"size\":10,\"solidity\":0.2}},\"type\":\"barpolar\"}],\"pie\":[{\"automargin\":true,\"type\":\"pie\"}]},\"layout\":{\"autotypenumbers\":\"strict\",\"colorway\":[\"#636efa\",\"#EF553B\",\"#00cc96\",\"#ab63fa\",\"#FFA15A\",\"#19d3f3\",\"#FF6692\",\"#B6E880\",\"#FF97FF\",\"#FECB52\"],\"font\":{\"color\":\"#2a3f5f\"},\"hovermode\":\"closest\",\"hoverlabel\":{\"align\":\"left\"},\"paper_bgcolor\":\"white\",\"plot_bgcolor\":\"#E5ECF6\",\"polar\":{\"bgcolor\":\"#E5ECF6\",\"angularaxis\":{\"gridcolor\":\"white\",\"linecolor\":\"white\",\"ticks\":\"\"},\"radialaxis\":{\"gridcolor\":\"white\",\"linecolor\":\"white\",\"ticks\":\"\"}},\"ternary\":{\"bgcolor\":\"#E5ECF6\",\"aaxis\":{\"gridcolor\":\"white\",\"linecolor\":\"white\",\"ticks\":\"\"},\"baxis\":{\"gridcolor\":\"white\",\"linecolor\":\"white\",\"ticks\":\"\"},\"caxis\":{\"gridcolor\":\"white\",\"linecolor\":\"white\",\"ticks\":\"\"}},\"coloraxis\":{\"colorbar\":{\"outlinewidth\":0,\"ticks\":\"\"}},\"colorscale\":{\"sequential\":[[0.0,\"#0d0887\"],[0.1111111111111111,\"#46039f\"],[0.2222222222222222,\"#7201a8\"],[0.3333333333333333,\"#9c179e\"],[0.4444444444444444,\"#bd3786\"],[0.5555555555555556,\"#d8576b\"],[0.6666666666666666,\"#ed7953\"],[0.7777777777777778,\"#fb9f3a\"],[0.8888888888888888,\"#fdca26\"],[1.0,\"#f0f921\"]],\"sequentialminus\":[[0.0,\"#0d0887\"],[0.1111111111111111,\"#46039f\"],[0.2222222222222222,\"#7201a8\"],[0.3333333333333333,\"#9c179e\"],[0.4444444444444444,\"#bd3786\"],[0.5555555555555556,\"#d8576b\"],[0.6666666666666666,\"#ed7953\"],[0.7777777777777778,\"#fb9f3a\"],[0.8888888888888888,\"#fdca26\"],[1.0,\"#f0f921\"]],\"diverging\":[[0,\"#8e0152\"],[0.1,\"#c51b7d\"],[0.2,\"#de77ae\"],[0.3,\"#f1b6da\"],[0.4,\"#fde0ef\"],[0.5,\"#f7f7f7\"],[0.6,\"#e6f5d0\"],[0.7,\"#b8e186\"],[0.8,\"#7fbc41\"],[0.9,\"#4d9221\"],[1,\"#276419\"]]},\"xaxis\":{\"gridcolor\":\"white\",\"linecolor\":\"white\",\"ticks\":\"\",\"title\":{\"standoff\":15},\"zerolinecolor\":\"white\",\"automargin\":true,\"zerolinewidth\":2},\"yaxis\":{\"gridcolor\":\"white\",\"linecolor\":\"white\",\"ticks\":\"\",\"title\":{\"standoff\":15},\"zerolinecolor\":\"white\",\"automargin\":true,\"zerolinewidth\":2},\"scene\":{\"xaxis\":{\"backgroundcolor\":\"#E5ECF6\",\"gridcolor\":\"white\",\"linecolor\":\"white\",\"showbackground\":true,\"ticks\":\"\",\"zerolinecolor\":\"white\",\"gridwidth\":2},\"yaxis\":{\"backgroundcolor\":\"#E5ECF6\",\"gridcolor\":\"white\",\"linecolor\":\"white\",\"showbackground\":true,\"ticks\":\"\",\"zerolinecolor\":\"white\",\"gridwidth\":2},\"zaxis\":{\"backgroundcolor\":\"#E5ECF6\",\"gridcolor\":\"white\",\"linecolor\":\"white\",\"showbackground\":true,\"ticks\":\"\",\"zerolinecolor\":\"white\",\"gridwidth\":2}},\"shapedefaults\":{\"line\":{\"color\":\"#2a3f5f\"}},\"annotationdefaults\":{\"arrowcolor\":\"#2a3f5f\",\"arrowhead\":0,\"arrowwidth\":1},\"geo\":{\"bgcolor\":\"white\",\"landcolor\":\"#E5ECF6\",\"subunitcolor\":\"white\",\"showland\":true,\"showlakes\":true,\"lakecolor\":\"white\"},\"title\":{\"x\":0.05},\"mapbox\":{\"style\":\"light\"}}},\"barmode\":\"stack\",\"title\":{\"text\":\"Market Profile Atomic LTCBTC\"},\"height\":900,\"yaxis\":{\"title\":{\"text\":\"Buy takers VS Buy makers\"}}},                        {\"responsive\": true}                    ).then(function(){\n",
       "                            \n",
       "var gd = document.getElementById('3d6b6954-9a19-4483-a5ed-679b6249232e');\n",
       "var x = new MutationObserver(function (mutations, observer) {{\n",
       "        var display = window.getComputedStyle(gd).display;\n",
       "        if (!display || display === 'none') {{\n",
       "            console.log([gd, 'removed!']);\n",
       "            Plotly.purge(gd);\n",
       "            observer.disconnect();\n",
       "        }}\n",
       "}});\n",
       "\n",
       "// Listen for the removal of the full notebook cells\n",
       "var notebookContainer = gd.closest('#notebook-container');\n",
       "if (notebookContainer) {{\n",
       "    x.observe(notebookContainer, {childList: true});\n",
       "}}\n",
       "\n",
       "// Listen for the clearing of the current output cell\n",
       "var outputEl = gd.closest('.output');\n",
       "if (outputEl) {{\n",
       "    x.observe(outputEl, {childList: true});\n",
       "}}\n",
       "\n",
       "                        })                };                });            </script>        </div>"
      ]
     },
     "metadata": {},
     "output_type": "display_data"
    },
    {
     "data": {
      "text/plain": [
       "'C:\\\\Users\\\\hanca\\\\PycharmProjects\\\\binpan_studio\\\\last_plot.png'"
      ]
     },
     "execution_count": 36,
     "metadata": {},
     "output_type": "execute_result"
    }
   ],
   "source": [
    "sym.plot_market_profile(from_atomic_trades=True)"
   ]
  },
  {
   "cell_type": "markdown",
   "id": "99222f52",
   "metadata": {},
   "source": [
    "# Thank you"
   ]
  }
 ],
 "metadata": {
  "kernelspec": {
   "display_name": "Python 3 (ipykernel)",
   "language": "python",
   "name": "python3"
  },
  "language_info": {
   "codemirror_mode": {
    "name": "ipython",
    "version": 3
   },
   "file_extension": ".py",
   "mimetype": "text/x-python",
   "name": "python",
   "nbconvert_exporter": "python",
   "pygments_lexer": "ipython3",
   "version": "3.11.2"
  }
 },
 "nbformat": 4,
 "nbformat_minor": 5
}
