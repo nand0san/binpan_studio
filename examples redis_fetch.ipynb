{
 "cells": [
  {
   "cell_type": "code",
   "execution_count": 1,
   "id": "744452bf",
   "metadata": {
    "pycharm": {
     "name": "#%%\n"
    }
   },
   "outputs": [
    {
     "data": {
      "text/html": [
       "<style>.container { width:100% !important; }</style>"
      ],
      "text/plain": [
       "<IPython.core.display.HTML object>"
      ]
     },
     "metadata": {},
     "output_type": "display_data"
    }
   ],
   "source": [
    "from IPython.display import display, HTML\n",
    "\n",
    "display(HTML(\"<style>.container { width:100% !important; }</style>\"))"
   ]
  },
  {
   "cell_type": "code",
   "execution_count": 2,
   "id": "7d9ef0f3",
   "metadata": {
    "pycharm": {
     "name": "#%%\n"
    }
   },
   "outputs": [],
   "source": [
    "from binpan import binpan\n",
    "import redis\n",
    "from handlers import redis_fetch\n",
    "from random import choice"
   ]
  },
  {
   "cell_type": "code",
   "execution_count": 3,
   "id": "b10d0427",
   "metadata": {
    "pycharm": {
     "name": "#%%\n"
    }
   },
   "outputs": [
    {
     "data": {
      "text/plain": [
       "'0.0.71'"
      ]
     },
     "execution_count": 3,
     "metadata": {},
     "output_type": "execute_result"
    }
   ],
   "source": [
    "binpan.__version__"
   ]
  },
  {
   "cell_type": "code",
   "execution_count": 4,
   "id": "d6dc8460",
   "metadata": {
    "pycharm": {
     "name": "#%%\n"
    }
   },
   "outputs": [],
   "source": [
    "# test done calling redis docker in raspberry-pi running unicorn websockets\n",
    "redis_client = binpan.redis_client(ip='192.168.89.241')"
   ]
  },
  {
   "cell_type": "code",
   "execution_count": 5,
   "id": "77b71c9d",
   "metadata": {
    "pycharm": {
     "name": "#%%\n"
    }
   },
   "outputs": [],
   "source": [
    "keys = redis_fetch.fetch_keys(redisClient=redis_client)"
   ]
  },
  {
   "cell_type": "code",
   "execution_count": 6,
   "id": "f3151d3f",
   "metadata": {
    "pycharm": {
     "name": "#%%\n"
    }
   },
   "outputs": [
    {
     "data": {
      "text/plain": [
       "['spellbusd@kline_5m',\n",
       " 'waxpbusd@kline_5m',\n",
       " 'oxtbusd@kline_5m',\n",
       " 'cvxbusd@kline_5m',\n",
       " 'slpbusd@kline_5m',\n",
       " 'apebusd@kline_5m',\n",
       " 'citybusd@kline_5m',\n",
       " 'lrcbusd@kline_5m',\n",
       " 'nearbusd@kline_5m',\n",
       " 'iqbusd@kline_5m',\n",
       " 'hbarbusd@kline_5m',\n",
       " 'thetabusd@kline_5m',\n",
       " 'trxbusd@kline_5m',\n",
       " 'usdpbusd@kline_5m',\n",
       " 'ethbusd@kline_5m']"
      ]
     },
     "execution_count": 6,
     "metadata": {},
     "output_type": "execute_result"
    }
   ],
   "source": [
    "keys = list(keys)\n",
    "keys[:15]"
   ]
  },
  {
   "cell_type": "code",
   "execution_count": 7,
   "id": "ea8aa52e",
   "metadata": {
    "pycharm": {
     "name": "#%%\n"
    }
   },
   "outputs": [
    {
     "data": {
      "text/plain": [
       "'chessbusd@kline_5m'"
      ]
     },
     "execution_count": 7,
     "metadata": {},
     "output_type": "execute_result"
    }
   ],
   "source": [
    "mykey = choice(keys)\n",
    "mykey"
   ]
  },
  {
   "cell_type": "code",
   "execution_count": 8,
   "id": "93cb8f96",
   "metadata": {
    "pycharm": {
     "name": "#%%\n"
    }
   },
   "outputs": [
    {
     "data": {
      "text/plain": [
       "['{\"t\": 1659777900000, \"o\": \"0.39300000\", \"h\": \"0.39300000\", \"l\": \"0.39300000\", \"c\": \"0.39300000\", \"v\": \"0.00000000\", \"T\": 1659778199999, \"q\": \"0.00000000\", \"n\": 0, \"V\": \"0.00000000\", \"Q\": \"0.00000000\", \"B\": \"0\"}',\n",
       " '{\"t\": 1659778200000, \"o\": \"0.39500000\", \"h\": \"0.39500000\", \"l\": \"0.39500000\", \"c\": \"0.39500000\", \"v\": \"400.10000000\", \"T\": 1659778499999, \"q\": \"158.03950000\", \"n\": 3, \"V\": \"400.10000000\", \"Q\": \"158.03950000\", \"B\": \"0\"}',\n",
       " '{\"t\": 1659778500000, \"o\": \"0.39500000\", \"h\": \"0.39500000\", \"l\": \"0.39500000\", \"c\": \"0.39500000\", \"v\": \"38.00000000\", \"T\": 1659778799999, \"q\": \"15.01000000\", \"n\": 1, \"V\": \"38.00000000\", \"Q\": \"15.01000000\", \"B\": \"0\"}',\n",
       " '{\"t\": 1659778800000, \"o\": \"0.39400000\", \"h\": \"0.39500000\", \"l\": \"0.39400000\", \"c\": \"0.39500000\", \"v\": \"653.80000000\", \"T\": 1659779099999, \"q\": \"257.85040000\", \"n\": 2, \"V\": \"653.80000000\", \"Q\": \"257.85040000\", \"B\": \"0\"}',\n",
       " '{\"t\": 1659779100000, \"o\": \"0.39500000\", \"h\": \"0.39500000\", \"l\": \"0.39500000\", \"c\": \"0.39500000\", \"v\": \"0.00000000\", \"T\": 1659779399999, \"q\": \"0.00000000\", \"n\": 0, \"V\": \"0.00000000\", \"Q\": \"0.00000000\", \"B\": \"0\"}',\n",
       " '{\"t\": 1659779400000, \"o\": \"0.39300000\", \"h\": \"0.39300000\", \"l\": \"0.39000000\", \"c\": \"0.39300000\", \"v\": \"34578.30000000\", \"T\": 1659779699999, \"q\": \"13536.08580000\", \"n\": 36, \"V\": \"0.00000000\", \"Q\": \"0.00000000\", \"B\": \"0\"}',\n",
       " '{\"t\": 1659779700000, \"o\": \"0.39300000\", \"h\": \"0.39300000\", \"l\": \"0.39300000\", \"c\": \"0.39300000\", \"v\": \"13157.90000000\", \"T\": 1659779999999, \"q\": \"5171.05470000\", \"n\": 24, \"V\": \"12649.00000000\", \"Q\": \"4971.05700000\", \"B\": \"0\"}',\n",
       " '{\"t\": 1659780000000, \"o\": \"0.39300000\", \"h\": \"0.39400000\", \"l\": \"0.39300000\", \"c\": \"0.39400000\", \"v\": \"2118.20000000\", \"T\": 1659780299999, \"q\": \"832.98790000\", \"n\": 8, \"V\": \"2118.20000000\", \"Q\": \"832.98790000\", \"B\": \"0\"}',\n",
       " '{\"t\": 1659780300000, \"o\": \"0.39400000\", \"h\": \"0.39400000\", \"l\": \"0.39200000\", \"c\": \"0.39200000\", \"v\": \"108.20000000\", \"T\": 1659780599999, \"q\": \"42.51500000\", \"n\": 2, \"V\": \"50.30000000\", \"Q\": \"19.81820000\", \"B\": \"0\"}',\n",
       " '{\"t\": 1659780600000, \"o\": \"0.39200000\", \"h\": \"0.39200000\", \"l\": \"0.39200000\", \"c\": \"0.39200000\", \"v\": \"0.00000000\", \"T\": 1659780899999, \"q\": \"0.00000000\", \"n\": 0, \"V\": \"0.00000000\", \"Q\": \"0.00000000\", \"B\": \"0\"}',\n",
       " '{\"t\": 1659780900000, \"o\": \"0.39400000\", \"h\": \"0.39400000\", \"l\": \"0.39400000\", \"c\": \"0.39400000\", \"v\": \"637.30000000\", \"T\": 1659781199999, \"q\": \"251.09620000\", \"n\": 1, \"V\": \"637.30000000\", \"Q\": \"251.09620000\", \"B\": \"0\"}',\n",
       " '{\"t\": 1659781200000, \"o\": \"0.39400000\", \"h\": \"0.39400000\", \"l\": \"0.39400000\", \"c\": \"0.39400000\", \"v\": \"36.40000000\", \"T\": 1659781499999, \"q\": \"14.34160000\", \"n\": 1, \"V\": \"36.40000000\", \"Q\": \"14.34160000\", \"B\": \"0\"}',\n",
       " '{\"t\": 1659781500000, \"o\": \"0.39300000\", \"h\": \"0.39400000\", \"l\": \"0.39300000\", \"c\": \"0.39400000\", \"v\": \"1911.40000000\", \"T\": 1659781799999, \"q\": \"751.23020000\", \"n\": 5, \"V\": \"488.00000000\", \"Q\": \"191.83400000\", \"B\": \"0\"}',\n",
       " '{\"t\": 1659781800000, \"o\": \"0.39500000\", \"h\": \"0.39500000\", \"l\": \"0.39400000\", \"c\": \"0.39400000\", \"v\": \"446.80000000\", \"T\": 1659782099999, \"q\": \"176.06480000\", \"n\": 2, \"V\": \"446.80000000\", \"Q\": \"176.06480000\", \"B\": \"0\"}',\n",
       " '{\"t\": 1659782100000, \"o\": \"0.39400000\", \"h\": \"0.39400000\", \"l\": \"0.39400000\", \"c\": \"0.39400000\", \"v\": \"0.00000000\", \"T\": 1659782399999, \"q\": \"0.00000000\", \"n\": 0, \"V\": \"0.00000000\", \"Q\": \"0.00000000\", \"B\": \"0\"}']"
      ]
     },
     "execution_count": 8,
     "metadata": {},
     "output_type": "execute_result"
    }
   ],
   "source": [
    "response = redis_fetch.fetch_zset_range(redisClient=redis_client, key=mykey)\n",
    "response[-15:]"
   ]
  },
  {
   "cell_type": "code",
   "execution_count": 9,
   "id": "2ac81dfe",
   "metadata": {
    "pycharm": {
     "name": "#%%\n"
    }
   },
   "outputs": [
    {
     "name": "stdout",
     "output_type": "stream",
     "text": [
      "6.04 ms ± 43.7 µs per loop (mean ± std. dev. of 7 runs, 100 loops each)\n"
     ]
    }
   ],
   "source": [
    "%timeit redis_fetch.fetch_zset_range(redisClient=redis_client, key=mykey)"
   ]
  },
  {
   "cell_type": "code",
   "execution_count": 10,
   "id": "33f238b0",
   "metadata": {
    "pycharm": {
     "name": "#%%\n"
    }
   },
   "outputs": [
    {
     "data": {
      "text/html": [
       "<div>\n",
       "<style scoped>\n",
       "    .dataframe tbody tr th:only-of-type {\n",
       "        vertical-align: middle;\n",
       "    }\n",
       "\n",
       "    .dataframe tbody tr th {\n",
       "        vertical-align: top;\n",
       "    }\n",
       "\n",
       "    .dataframe thead th {\n",
       "        text-align: right;\n",
       "    }\n",
       "</style>\n",
       "<table border=\"1\" class=\"dataframe\">\n",
       "  <thead>\n",
       "    <tr style=\"text-align: right;\">\n",
       "      <th></th>\n",
       "      <th>Open time</th>\n",
       "      <th>Open</th>\n",
       "      <th>High</th>\n",
       "      <th>Low</th>\n",
       "      <th>Close</th>\n",
       "      <th>Volume</th>\n",
       "      <th>Close time</th>\n",
       "      <th>Quote volume</th>\n",
       "      <th>Trades</th>\n",
       "      <th>Taker buy base volume</th>\n",
       "      <th>Taker buy quote volume</th>\n",
       "      <th>Ignore</th>\n",
       "      <th>Open timestamp</th>\n",
       "      <th>Close timestamp</th>\n",
       "    </tr>\n",
       "    <tr>\n",
       "      <th>CHESSBUSD 5m Europe/madrid</th>\n",
       "      <th></th>\n",
       "      <th></th>\n",
       "      <th></th>\n",
       "      <th></th>\n",
       "      <th></th>\n",
       "      <th></th>\n",
       "      <th></th>\n",
       "      <th></th>\n",
       "      <th></th>\n",
       "      <th></th>\n",
       "      <th></th>\n",
       "      <th></th>\n",
       "      <th></th>\n",
       "      <th></th>\n",
       "    </tr>\n",
       "  </thead>\n",
       "  <tbody>\n",
       "    <tr>\n",
       "      <th>2022-08-03 01:10:00+02:00</th>\n",
       "      <td>2022-08-03 01:10:00</td>\n",
       "      <td>0.397</td>\n",
       "      <td>0.397</td>\n",
       "      <td>0.397</td>\n",
       "      <td>0.397</td>\n",
       "      <td>0.0</td>\n",
       "      <td>2022-08-03 01:14:59</td>\n",
       "      <td>0.0000</td>\n",
       "      <td>0</td>\n",
       "      <td>0.0</td>\n",
       "      <td>0.0000</td>\n",
       "      <td>0</td>\n",
       "      <td>1659481800000</td>\n",
       "      <td>1659482099999</td>\n",
       "    </tr>\n",
       "    <tr>\n",
       "      <th>2022-08-03 01:15:00+02:00</th>\n",
       "      <td>2022-08-03 01:15:00</td>\n",
       "      <td>0.396</td>\n",
       "      <td>0.396</td>\n",
       "      <td>0.396</td>\n",
       "      <td>0.396</td>\n",
       "      <td>295.2</td>\n",
       "      <td>2022-08-03 01:19:59</td>\n",
       "      <td>116.8992</td>\n",
       "      <td>5</td>\n",
       "      <td>0.0</td>\n",
       "      <td>0.0000</td>\n",
       "      <td>0</td>\n",
       "      <td>1659482100000</td>\n",
       "      <td>1659482399999</td>\n",
       "    </tr>\n",
       "    <tr>\n",
       "      <th>2022-08-03 01:20:00+02:00</th>\n",
       "      <td>2022-08-03 01:20:00</td>\n",
       "      <td>0.396</td>\n",
       "      <td>0.396</td>\n",
       "      <td>0.396</td>\n",
       "      <td>0.396</td>\n",
       "      <td>0.0</td>\n",
       "      <td>2022-08-03 01:24:59</td>\n",
       "      <td>0.0000</td>\n",
       "      <td>0</td>\n",
       "      <td>0.0</td>\n",
       "      <td>0.0000</td>\n",
       "      <td>0</td>\n",
       "      <td>1659482400000</td>\n",
       "      <td>1659482699999</td>\n",
       "    </tr>\n",
       "    <tr>\n",
       "      <th>2022-08-03 01:25:00+02:00</th>\n",
       "      <td>2022-08-03 01:25:00</td>\n",
       "      <td>0.395</td>\n",
       "      <td>0.395</td>\n",
       "      <td>0.395</td>\n",
       "      <td>0.395</td>\n",
       "      <td>289.3</td>\n",
       "      <td>2022-08-03 01:29:59</td>\n",
       "      <td>114.2735</td>\n",
       "      <td>2</td>\n",
       "      <td>237.4</td>\n",
       "      <td>93.7730</td>\n",
       "      <td>0</td>\n",
       "      <td>1659482700000</td>\n",
       "      <td>1659482999999</td>\n",
       "    </tr>\n",
       "    <tr>\n",
       "      <th>2022-08-03 01:30:00+02:00</th>\n",
       "      <td>2022-08-03 01:30:00</td>\n",
       "      <td>0.396</td>\n",
       "      <td>0.396</td>\n",
       "      <td>0.396</td>\n",
       "      <td>0.396</td>\n",
       "      <td>145.3</td>\n",
       "      <td>2022-08-03 01:34:59</td>\n",
       "      <td>57.5388</td>\n",
       "      <td>1</td>\n",
       "      <td>145.3</td>\n",
       "      <td>57.5388</td>\n",
       "      <td>0</td>\n",
       "      <td>1659483000000</td>\n",
       "      <td>1659483299999</td>\n",
       "    </tr>\n",
       "    <tr>\n",
       "      <th>...</th>\n",
       "      <td>...</td>\n",
       "      <td>...</td>\n",
       "      <td>...</td>\n",
       "      <td>...</td>\n",
       "      <td>...</td>\n",
       "      <td>...</td>\n",
       "      <td>...</td>\n",
       "      <td>...</td>\n",
       "      <td>...</td>\n",
       "      <td>...</td>\n",
       "      <td>...</td>\n",
       "      <td>...</td>\n",
       "      <td>...</td>\n",
       "      <td>...</td>\n",
       "    </tr>\n",
       "    <tr>\n",
       "      <th>2022-08-06 12:15:00+02:00</th>\n",
       "      <td>2022-08-06 12:15:00</td>\n",
       "      <td>0.394</td>\n",
       "      <td>0.394</td>\n",
       "      <td>0.394</td>\n",
       "      <td>0.394</td>\n",
       "      <td>637.3</td>\n",
       "      <td>2022-08-06 12:19:59</td>\n",
       "      <td>251.0962</td>\n",
       "      <td>1</td>\n",
       "      <td>637.3</td>\n",
       "      <td>251.0962</td>\n",
       "      <td>0</td>\n",
       "      <td>1659780900000</td>\n",
       "      <td>1659781199999</td>\n",
       "    </tr>\n",
       "    <tr>\n",
       "      <th>2022-08-06 12:20:00+02:00</th>\n",
       "      <td>2022-08-06 12:20:00</td>\n",
       "      <td>0.394</td>\n",
       "      <td>0.394</td>\n",
       "      <td>0.394</td>\n",
       "      <td>0.394</td>\n",
       "      <td>36.4</td>\n",
       "      <td>2022-08-06 12:24:59</td>\n",
       "      <td>14.3416</td>\n",
       "      <td>1</td>\n",
       "      <td>36.4</td>\n",
       "      <td>14.3416</td>\n",
       "      <td>0</td>\n",
       "      <td>1659781200000</td>\n",
       "      <td>1659781499999</td>\n",
       "    </tr>\n",
       "    <tr>\n",
       "      <th>2022-08-06 12:25:00+02:00</th>\n",
       "      <td>2022-08-06 12:25:00</td>\n",
       "      <td>0.393</td>\n",
       "      <td>0.394</td>\n",
       "      <td>0.393</td>\n",
       "      <td>0.394</td>\n",
       "      <td>1911.4</td>\n",
       "      <td>2022-08-06 12:29:59</td>\n",
       "      <td>751.2302</td>\n",
       "      <td>5</td>\n",
       "      <td>488.0</td>\n",
       "      <td>191.8340</td>\n",
       "      <td>0</td>\n",
       "      <td>1659781500000</td>\n",
       "      <td>1659781799999</td>\n",
       "    </tr>\n",
       "    <tr>\n",
       "      <th>2022-08-06 12:30:00+02:00</th>\n",
       "      <td>2022-08-06 12:30:00</td>\n",
       "      <td>0.395</td>\n",
       "      <td>0.395</td>\n",
       "      <td>0.394</td>\n",
       "      <td>0.394</td>\n",
       "      <td>446.8</td>\n",
       "      <td>2022-08-06 12:34:59</td>\n",
       "      <td>176.0648</td>\n",
       "      <td>2</td>\n",
       "      <td>446.8</td>\n",
       "      <td>176.0648</td>\n",
       "      <td>0</td>\n",
       "      <td>1659781800000</td>\n",
       "      <td>1659782099999</td>\n",
       "    </tr>\n",
       "    <tr>\n",
       "      <th>2022-08-06 12:35:00+02:00</th>\n",
       "      <td>2022-08-06 12:35:00</td>\n",
       "      <td>0.394</td>\n",
       "      <td>0.394</td>\n",
       "      <td>0.394</td>\n",
       "      <td>0.394</td>\n",
       "      <td>0.0</td>\n",
       "      <td>2022-08-06 12:39:59</td>\n",
       "      <td>0.0000</td>\n",
       "      <td>0</td>\n",
       "      <td>0.0</td>\n",
       "      <td>0.0000</td>\n",
       "      <td>0</td>\n",
       "      <td>1659782100000</td>\n",
       "      <td>1659782399999</td>\n",
       "    </tr>\n",
       "  </tbody>\n",
       "</table>\n",
       "<p>1002 rows × 14 columns</p>\n",
       "</div>"
      ],
      "text/plain": [
       "                                      Open time   Open   High    Low  Close  Volume           Close time  Quote volume  Trades  Taker buy base volume  Taker buy quote volume  Ignore  Open timestamp  Close timestamp\n",
       "CHESSBUSD 5m Europe/madrid                                                                                                                                                                                            \n",
       "2022-08-03 01:10:00+02:00   2022-08-03 01:10:00  0.397  0.397  0.397  0.397     0.0  2022-08-03 01:14:59        0.0000       0                    0.0                  0.0000       0   1659481800000    1659482099999\n",
       "2022-08-03 01:15:00+02:00   2022-08-03 01:15:00  0.396  0.396  0.396  0.396   295.2  2022-08-03 01:19:59      116.8992       5                    0.0                  0.0000       0   1659482100000    1659482399999\n",
       "2022-08-03 01:20:00+02:00   2022-08-03 01:20:00  0.396  0.396  0.396  0.396     0.0  2022-08-03 01:24:59        0.0000       0                    0.0                  0.0000       0   1659482400000    1659482699999\n",
       "2022-08-03 01:25:00+02:00   2022-08-03 01:25:00  0.395  0.395  0.395  0.395   289.3  2022-08-03 01:29:59      114.2735       2                  237.4                 93.7730       0   1659482700000    1659482999999\n",
       "2022-08-03 01:30:00+02:00   2022-08-03 01:30:00  0.396  0.396  0.396  0.396   145.3  2022-08-03 01:34:59       57.5388       1                  145.3                 57.5388       0   1659483000000    1659483299999\n",
       "...                                         ...    ...    ...    ...    ...     ...                  ...           ...     ...                    ...                     ...     ...             ...              ...\n",
       "2022-08-06 12:15:00+02:00   2022-08-06 12:15:00  0.394  0.394  0.394  0.394   637.3  2022-08-06 12:19:59      251.0962       1                  637.3                251.0962       0   1659780900000    1659781199999\n",
       "2022-08-06 12:20:00+02:00   2022-08-06 12:20:00  0.394  0.394  0.394  0.394    36.4  2022-08-06 12:24:59       14.3416       1                   36.4                 14.3416       0   1659781200000    1659781499999\n",
       "2022-08-06 12:25:00+02:00   2022-08-06 12:25:00  0.393  0.394  0.393  0.394  1911.4  2022-08-06 12:29:59      751.2302       5                  488.0                191.8340       0   1659781500000    1659781799999\n",
       "2022-08-06 12:30:00+02:00   2022-08-06 12:30:00  0.395  0.395  0.394  0.394   446.8  2022-08-06 12:34:59      176.0648       2                  446.8                176.0648       0   1659781800000    1659782099999\n",
       "2022-08-06 12:35:00+02:00   2022-08-06 12:35:00  0.394  0.394  0.394  0.394     0.0  2022-08-06 12:39:59        0.0000       0                    0.0                  0.0000       0   1659782100000    1659782399999\n",
       "\n",
       "[1002 rows x 14 columns]"
      ]
     },
     "execution_count": 10,
     "metadata": {},
     "output_type": "execute_result"
    }
   ],
   "source": [
    "data = redis_fetch.fetch_set_and_parse(redisClient=redis_client, key=mykey)\n",
    "data"
   ]
  },
  {
   "cell_type": "code",
   "execution_count": 11,
   "id": "aef0008a",
   "metadata": {
    "pycharm": {
     "name": "#%%\n"
    }
   },
   "outputs": [
    {
     "name": "stdout",
     "output_type": "stream",
     "text": [
      "52.7 ms ± 649 µs per loop (mean ± std. dev. of 7 runs, 10 loops each)\n"
     ]
    }
   ],
   "source": [
    "%%timeit\n",
    "data = redis_fetch.fetch_set_and_parse(redisClient=redis_client, key=mykey)"
   ]
  },
  {
   "cell_type": "code",
   "execution_count": null,
   "id": "1210c60b",
   "metadata": {
    "pycharm": {
     "name": "#%%\n"
    }
   },
   "outputs": [],
   "source": []
  }
 ],
 "metadata": {
  "kernelspec": {
   "display_name": "Python 3 (ipykernel)",
   "language": "python",
   "name": "python3"
  },
  "language_info": {
   "codemirror_mode": {
    "name": "ipython",
    "version": 3
   },
   "file_extension": ".py",
   "mimetype": "text/x-python",
   "name": "python",
   "nbconvert_exporter": "python",
   "pygments_lexer": "ipython3",
   "version": "3.7.9"
  }
 },
 "nbformat": 4,
 "nbformat_minor": 5
}
