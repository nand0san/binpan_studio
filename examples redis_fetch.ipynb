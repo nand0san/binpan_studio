{
 "cells": [
  {
   "cell_type": "code",
   "execution_count": 1,
   "id": "744452bf",
   "metadata": {
    "pycharm": {
     "name": "#%%\n"
    }
   },
   "outputs": [
    {
     "data": {
      "text/html": [
       "<style>.container { width:100% !important; }</style>"
      ],
      "text/plain": [
       "<IPython.core.display.HTML object>"
      ]
     },
     "metadata": {},
     "output_type": "display_data"
    }
   ],
   "source": [
    "from IPython.display import display, HTML\n",
    "\n",
    "display(HTML(\"<style>.container { width:100% !important; }</style>\"))"
   ]
  },
  {
   "cell_type": "code",
   "execution_count": 2,
   "id": "bde68f66",
   "metadata": {},
   "outputs": [],
   "source": [
    "from binpan import binpan"
   ]
  },
  {
   "cell_type": "code",
   "execution_count": 3,
   "id": "f602503a",
   "metadata": {},
   "outputs": [],
   "source": [
    "from binpan import handlers"
   ]
  },
  {
   "cell_type": "code",
   "execution_count": 4,
   "id": "7d9ef0f3",
   "metadata": {
    "pycharm": {
     "name": "#%%\n"
    }
   },
   "outputs": [],
   "source": [
    "from redis import StrictRedis\n",
    "from handlers import redis_fetch\n",
    "from random import choice"
   ]
  },
  {
   "cell_type": "code",
   "execution_count": 5,
   "id": "e8cbf3a2",
   "metadata": {},
   "outputs": [
    {
     "name": "stdout",
     "output_type": "stream",
     "text": [
      "Python 3.11.2\n"
     ]
    }
   ],
   "source": [
    "!python -V"
   ]
  },
  {
   "cell_type": "code",
   "execution_count": 6,
   "id": "b10d0427",
   "metadata": {
    "pycharm": {
     "name": "#%%\n"
    }
   },
   "outputs": [
    {
     "data": {
      "text/plain": [
       "'0.4.19'"
      ]
     },
     "execution_count": 6,
     "metadata": {},
     "output_type": "execute_result"
    }
   ],
   "source": [
    "binpan.__version__"
   ]
  },
  {
   "cell_type": "markdown",
   "id": "fbb964db",
   "metadata": {},
   "source": [
    "# Symbol class can configure automatically redis client\n",
    "\n",
    "If from_redis=True, and if configuration exists in secret.py like this:\n",
    "```\n",
    "redis_conf = {'host': '192.168.89.241', 'port': 6379, 'db': 0, 'decode_responses': True}\n",
    "```"
   ]
  },
  {
   "cell_type": "code",
   "execution_count": 74,
   "id": "ab9446d2",
   "metadata": {},
   "outputs": [
    {
     "data": {
      "text/plain": [
       "Redis<ConnectionPool<Connection<host=192.168.89.241,port=6379,db=0>>>"
      ]
     },
     "execution_count": 74,
     "metadata": {},
     "output_type": "execute_result"
    }
   ],
   "source": [
    "sym = binpan.Symbol(symbol='ltcbtc', tick_interval='1m', from_redis=True, time_zone='Europe/Madrid', limit=5000)\n",
    "sym.from_redis"
   ]
  },
  {
   "cell_type": "code",
   "execution_count": 75,
   "id": "a60bf8c5",
   "metadata": {},
   "outputs": [
    {
     "data": {
      "text/html": [
       "<div>\n",
       "<style scoped>\n",
       "    .dataframe tbody tr th:only-of-type {\n",
       "        vertical-align: middle;\n",
       "    }\n",
       "\n",
       "    .dataframe tbody tr th {\n",
       "        vertical-align: top;\n",
       "    }\n",
       "\n",
       "    .dataframe thead th {\n",
       "        text-align: right;\n",
       "    }\n",
       "</style>\n",
       "<table border=\"1\" class=\"dataframe\">\n",
       "  <thead>\n",
       "    <tr style=\"text-align: right;\">\n",
       "      <th></th>\n",
       "      <th>Open time</th>\n",
       "      <th>Open</th>\n",
       "      <th>High</th>\n",
       "      <th>Low</th>\n",
       "      <th>Close</th>\n",
       "      <th>Volume</th>\n",
       "      <th>Close time</th>\n",
       "      <th>Quote volume</th>\n",
       "      <th>Trades</th>\n",
       "      <th>Taker buy base volume</th>\n",
       "      <th>Taker buy quote volume</th>\n",
       "      <th>Ignore</th>\n",
       "      <th>Open timestamp</th>\n",
       "      <th>Close timestamp</th>\n",
       "    </tr>\n",
       "    <tr>\n",
       "      <th>LTCBTC 1m Europe/Madrid</th>\n",
       "      <th></th>\n",
       "      <th></th>\n",
       "      <th></th>\n",
       "      <th></th>\n",
       "      <th></th>\n",
       "      <th></th>\n",
       "      <th></th>\n",
       "      <th></th>\n",
       "      <th></th>\n",
       "      <th></th>\n",
       "      <th></th>\n",
       "      <th></th>\n",
       "      <th></th>\n",
       "      <th></th>\n",
       "    </tr>\n",
       "  </thead>\n",
       "  <tbody>\n",
       "    <tr>\n",
       "      <th>2023-05-05 20:01:00+02:00</th>\n",
       "      <td>2023-05-05 20:01:00+02:00</td>\n",
       "      <td>0.003007</td>\n",
       "      <td>0.003008</td>\n",
       "      <td>0.003007</td>\n",
       "      <td>0.003008</td>\n",
       "      <td>3.596</td>\n",
       "      <td>2023-05-05 20:01:59.999000+02:00</td>\n",
       "      <td>0.010815</td>\n",
       "      <td>2</td>\n",
       "      <td>0.000</td>\n",
       "      <td>0.000000</td>\n",
       "      <td>0</td>\n",
       "      <td>1683309660000</td>\n",
       "      <td>1683309719999</td>\n",
       "    </tr>\n",
       "    <tr>\n",
       "      <th>2023-05-05 20:02:00+02:00</th>\n",
       "      <td>2023-05-05 20:02:00+02:00</td>\n",
       "      <td>0.003009</td>\n",
       "      <td>0.003009</td>\n",
       "      <td>0.003007</td>\n",
       "      <td>0.003007</td>\n",
       "      <td>53.482</td>\n",
       "      <td>2023-05-05 20:02:59.999000+02:00</td>\n",
       "      <td>0.160831</td>\n",
       "      <td>7</td>\n",
       "      <td>2.340</td>\n",
       "      <td>0.007041</td>\n",
       "      <td>0</td>\n",
       "      <td>1683309720000</td>\n",
       "      <td>1683309779999</td>\n",
       "    </tr>\n",
       "    <tr>\n",
       "      <th>2023-05-05 20:03:00+02:00</th>\n",
       "      <td>2023-05-05 20:03:00+02:00</td>\n",
       "      <td>0.003008</td>\n",
       "      <td>0.003008</td>\n",
       "      <td>0.003007</td>\n",
       "      <td>0.003007</td>\n",
       "      <td>5.448</td>\n",
       "      <td>2023-05-05 20:03:59.999000+02:00</td>\n",
       "      <td>0.016384</td>\n",
       "      <td>5</td>\n",
       "      <td>5.448</td>\n",
       "      <td>0.016384</td>\n",
       "      <td>0</td>\n",
       "      <td>1683309780000</td>\n",
       "      <td>1683309839999</td>\n",
       "    </tr>\n",
       "    <tr>\n",
       "      <th>2023-05-05 20:04:00+02:00</th>\n",
       "      <td>2023-05-05 20:04:00+02:00</td>\n",
       "      <td>0.003007</td>\n",
       "      <td>0.003007</td>\n",
       "      <td>0.003007</td>\n",
       "      <td>0.003007</td>\n",
       "      <td>0.000</td>\n",
       "      <td>2023-05-05 20:04:59.999000+02:00</td>\n",
       "      <td>0.000000</td>\n",
       "      <td>0</td>\n",
       "      <td>0.000</td>\n",
       "      <td>0.000000</td>\n",
       "      <td>0</td>\n",
       "      <td>1683309840000</td>\n",
       "      <td>1683309899999</td>\n",
       "    </tr>\n",
       "    <tr>\n",
       "      <th>2023-05-05 20:05:00+02:00</th>\n",
       "      <td>2023-05-05 20:05:00+02:00</td>\n",
       "      <td>0.003009</td>\n",
       "      <td>0.003009</td>\n",
       "      <td>0.003009</td>\n",
       "      <td>0.003009</td>\n",
       "      <td>1.550</td>\n",
       "      <td>2023-05-05 20:05:59.999000+02:00</td>\n",
       "      <td>0.004664</td>\n",
       "      <td>3</td>\n",
       "      <td>1.550</td>\n",
       "      <td>0.004664</td>\n",
       "      <td>0</td>\n",
       "      <td>1683309900000</td>\n",
       "      <td>1683309959999</td>\n",
       "    </tr>\n",
       "    <tr>\n",
       "      <th>...</th>\n",
       "      <td>...</td>\n",
       "      <td>...</td>\n",
       "      <td>...</td>\n",
       "      <td>...</td>\n",
       "      <td>...</td>\n",
       "      <td>...</td>\n",
       "      <td>...</td>\n",
       "      <td>...</td>\n",
       "      <td>...</td>\n",
       "      <td>...</td>\n",
       "      <td>...</td>\n",
       "      <td>...</td>\n",
       "      <td>...</td>\n",
       "      <td>...</td>\n",
       "    </tr>\n",
       "    <tr>\n",
       "      <th>2023-05-05 22:03:00+02:00</th>\n",
       "      <td>2023-05-05 22:03:00+02:00</td>\n",
       "      <td>0.003004</td>\n",
       "      <td>0.003006</td>\n",
       "      <td>0.003004</td>\n",
       "      <td>0.003005</td>\n",
       "      <td>51.508</td>\n",
       "      <td>2023-05-05 22:03:59.999000+02:00</td>\n",
       "      <td>0.154762</td>\n",
       "      <td>21</td>\n",
       "      <td>4.621</td>\n",
       "      <td>0.013886</td>\n",
       "      <td>0</td>\n",
       "      <td>1683316980000</td>\n",
       "      <td>1683317039999</td>\n",
       "    </tr>\n",
       "    <tr>\n",
       "      <th>2023-05-05 22:04:00+02:00</th>\n",
       "      <td>2023-05-05 22:04:00+02:00</td>\n",
       "      <td>0.003005</td>\n",
       "      <td>0.003006</td>\n",
       "      <td>0.003005</td>\n",
       "      <td>0.003006</td>\n",
       "      <td>2.603</td>\n",
       "      <td>2023-05-05 22:04:59.999000+02:00</td>\n",
       "      <td>0.007824</td>\n",
       "      <td>5</td>\n",
       "      <td>2.603</td>\n",
       "      <td>0.007824</td>\n",
       "      <td>0</td>\n",
       "      <td>1683317040000</td>\n",
       "      <td>1683317099999</td>\n",
       "    </tr>\n",
       "    <tr>\n",
       "      <th>2023-05-05 22:05:00+02:00</th>\n",
       "      <td>2023-05-05 22:05:00+02:00</td>\n",
       "      <td>0.003005</td>\n",
       "      <td>0.003006</td>\n",
       "      <td>0.003004</td>\n",
       "      <td>0.003004</td>\n",
       "      <td>3.509</td>\n",
       "      <td>2023-05-05 22:05:59.999000+02:00</td>\n",
       "      <td>0.010545</td>\n",
       "      <td>4</td>\n",
       "      <td>3.208</td>\n",
       "      <td>0.009641</td>\n",
       "      <td>0</td>\n",
       "      <td>1683317100000</td>\n",
       "      <td>1683317159999</td>\n",
       "    </tr>\n",
       "    <tr>\n",
       "      <th>2023-05-05 22:06:00+02:00</th>\n",
       "      <td>2023-05-05 22:06:00+02:00</td>\n",
       "      <td>0.003005</td>\n",
       "      <td>0.003005</td>\n",
       "      <td>0.003003</td>\n",
       "      <td>0.003005</td>\n",
       "      <td>2.324</td>\n",
       "      <td>2023-05-05 22:06:59.999000+02:00</td>\n",
       "      <td>0.006980</td>\n",
       "      <td>4</td>\n",
       "      <td>1.089</td>\n",
       "      <td>0.003272</td>\n",
       "      <td>0</td>\n",
       "      <td>1683317160000</td>\n",
       "      <td>1683317219999</td>\n",
       "    </tr>\n",
       "    <tr>\n",
       "      <th>2023-05-05 22:07:00+02:00</th>\n",
       "      <td>2023-05-05 22:07:00+02:00</td>\n",
       "      <td>0.003005</td>\n",
       "      <td>0.003005</td>\n",
       "      <td>0.003004</td>\n",
       "      <td>0.003004</td>\n",
       "      <td>23.847</td>\n",
       "      <td>2023-05-05 22:07:59.999000+02:00</td>\n",
       "      <td>0.071644</td>\n",
       "      <td>6</td>\n",
       "      <td>10.612</td>\n",
       "      <td>0.031886</td>\n",
       "      <td>0</td>\n",
       "      <td>1683317220000</td>\n",
       "      <td>1683317279999</td>\n",
       "    </tr>\n",
       "  </tbody>\n",
       "</table>\n",
       "<p>127 rows × 14 columns</p>\n",
       "</div>"
      ],
      "text/plain": [
       "                                          Open time      Open      High       Low     Close  Volume                       Close time  Quote volume  Trades  Taker buy base volume  Taker buy quote volume  Ignore  Open timestamp  Close timestamp\n",
       "LTCBTC 1m Europe/Madrid                                                                                                                                                                                                                           \n",
       "2023-05-05 20:01:00+02:00 2023-05-05 20:01:00+02:00  0.003007  0.003008  0.003007  0.003008   3.596 2023-05-05 20:01:59.999000+02:00      0.010815       2                  0.000                0.000000       0   1683309660000    1683309719999\n",
       "2023-05-05 20:02:00+02:00 2023-05-05 20:02:00+02:00  0.003009  0.003009  0.003007  0.003007  53.482 2023-05-05 20:02:59.999000+02:00      0.160831       7                  2.340                0.007041       0   1683309720000    1683309779999\n",
       "2023-05-05 20:03:00+02:00 2023-05-05 20:03:00+02:00  0.003008  0.003008  0.003007  0.003007   5.448 2023-05-05 20:03:59.999000+02:00      0.016384       5                  5.448                0.016384       0   1683309780000    1683309839999\n",
       "2023-05-05 20:04:00+02:00 2023-05-05 20:04:00+02:00  0.003007  0.003007  0.003007  0.003007   0.000 2023-05-05 20:04:59.999000+02:00      0.000000       0                  0.000                0.000000       0   1683309840000    1683309899999\n",
       "2023-05-05 20:05:00+02:00 2023-05-05 20:05:00+02:00  0.003009  0.003009  0.003009  0.003009   1.550 2023-05-05 20:05:59.999000+02:00      0.004664       3                  1.550                0.004664       0   1683309900000    1683309959999\n",
       "...                                             ...       ...       ...       ...       ...     ...                              ...           ...     ...                    ...                     ...     ...             ...              ...\n",
       "2023-05-05 22:03:00+02:00 2023-05-05 22:03:00+02:00  0.003004  0.003006  0.003004  0.003005  51.508 2023-05-05 22:03:59.999000+02:00      0.154762      21                  4.621                0.013886       0   1683316980000    1683317039999\n",
       "2023-05-05 22:04:00+02:00 2023-05-05 22:04:00+02:00  0.003005  0.003006  0.003005  0.003006   2.603 2023-05-05 22:04:59.999000+02:00      0.007824       5                  2.603                0.007824       0   1683317040000    1683317099999\n",
       "2023-05-05 22:05:00+02:00 2023-05-05 22:05:00+02:00  0.003005  0.003006  0.003004  0.003004   3.509 2023-05-05 22:05:59.999000+02:00      0.010545       4                  3.208                0.009641       0   1683317100000    1683317159999\n",
       "2023-05-05 22:06:00+02:00 2023-05-05 22:06:00+02:00  0.003005  0.003005  0.003003  0.003005   2.324 2023-05-05 22:06:59.999000+02:00      0.006980       4                  1.089                0.003272       0   1683317160000    1683317219999\n",
       "2023-05-05 22:07:00+02:00 2023-05-05 22:07:00+02:00  0.003005  0.003005  0.003004  0.003004  23.847 2023-05-05 22:07:59.999000+02:00      0.071644       6                 10.612                0.031886       0   1683317220000    1683317279999\n",
       "\n",
       "[127 rows x 14 columns]"
      ]
     },
     "execution_count": 75,
     "metadata": {},
     "output_type": "execute_result"
    }
   ],
   "source": [
    "sym.df"
   ]
  },
  {
   "cell_type": "code",
   "execution_count": 76,
   "id": "deeaefb2",
   "metadata": {},
   "outputs": [
    {
     "name": "stdout",
     "output_type": "stream",
     "text": [
      "Requesting atomic trades between 2023-05-05 20:01:00 and 2023-05-05 22:07:59\n"
     ]
    },
    {
     "name": "stderr",
     "output_type": "stream",
     "text": [
      "2023-05-05\t 22:08:39     INFO Fetching atomic trades from redis server for LTCBTC\n",
      "2023-05-05\t 22:08:41     INFO Clean atomic 797 trades found for LTCBTC\n"
     ]
    },
    {
     "data": {
      "text/html": [
       "<div>\n",
       "<style scoped>\n",
       "    .dataframe tbody tr th:only-of-type {\n",
       "        vertical-align: middle;\n",
       "    }\n",
       "\n",
       "    .dataframe tbody tr th {\n",
       "        vertical-align: top;\n",
       "    }\n",
       "\n",
       "    .dataframe thead th {\n",
       "        text-align: right;\n",
       "    }\n",
       "</style>\n",
       "<table border=\"1\" class=\"dataframe\">\n",
       "  <thead>\n",
       "    <tr style=\"text-align: right;\">\n",
       "      <th></th>\n",
       "      <th>Trade Id</th>\n",
       "      <th>Price</th>\n",
       "      <th>Quantity</th>\n",
       "      <th>Buyer Order Id</th>\n",
       "      <th>Seller Order Id</th>\n",
       "      <th>Date</th>\n",
       "      <th>Timestamp</th>\n",
       "      <th>Buyer was maker</th>\n",
       "      <th>Best price match</th>\n",
       "    </tr>\n",
       "    <tr>\n",
       "      <th>LTCBTC Europe/Madrid</th>\n",
       "      <th></th>\n",
       "      <th></th>\n",
       "      <th></th>\n",
       "      <th></th>\n",
       "      <th></th>\n",
       "      <th></th>\n",
       "      <th></th>\n",
       "      <th></th>\n",
       "      <th></th>\n",
       "    </tr>\n",
       "  </thead>\n",
       "  <tbody>\n",
       "    <tr>\n",
       "      <th>2023-05-05 20:01:38.079000+02:00</th>\n",
       "      <td>90740182</td>\n",
       "      <td>0.003007</td>\n",
       "      <td>2.205</td>\n",
       "      <td>1073479749</td>\n",
       "      <td>1073479785</td>\n",
       "      <td>1683309698000000000</td>\n",
       "      <td>1683309698079</td>\n",
       "      <td>True</td>\n",
       "      <td>True</td>\n",
       "    </tr>\n",
       "    <tr>\n",
       "      <th>2023-05-05 20:01:58.897000+02:00</th>\n",
       "      <td>90740183</td>\n",
       "      <td>0.003008</td>\n",
       "      <td>1.391</td>\n",
       "      <td>1073479851</td>\n",
       "      <td>1073479852</td>\n",
       "      <td>1683309718000000000</td>\n",
       "      <td>1683309718897</td>\n",
       "      <td>True</td>\n",
       "      <td>True</td>\n",
       "    </tr>\n",
       "    <tr>\n",
       "      <th>2023-05-05 20:02:14.499000+02:00</th>\n",
       "      <td>90740184</td>\n",
       "      <td>0.003009</td>\n",
       "      <td>2.340</td>\n",
       "      <td>1073479907</td>\n",
       "      <td>1073479048</td>\n",
       "      <td>1683309734000000000</td>\n",
       "      <td>1683309734499</td>\n",
       "      <td>False</td>\n",
       "      <td>True</td>\n",
       "    </tr>\n",
       "    <tr>\n",
       "      <th>2023-05-05 20:02:14.845000+02:00</th>\n",
       "      <td>90740185</td>\n",
       "      <td>0.003008</td>\n",
       "      <td>3.000</td>\n",
       "      <td>1073479893</td>\n",
       "      <td>1073479908</td>\n",
       "      <td>1683309734000000000</td>\n",
       "      <td>1683309734845</td>\n",
       "      <td>True</td>\n",
       "      <td>True</td>\n",
       "    </tr>\n",
       "    <tr>\n",
       "      <th>2023-05-05 20:02:14.851000+02:00</th>\n",
       "      <td>90740186</td>\n",
       "      <td>0.003008</td>\n",
       "      <td>3.000</td>\n",
       "      <td>1073479893</td>\n",
       "      <td>1073479909</td>\n",
       "      <td>1683309734000000000</td>\n",
       "      <td>1683309734851</td>\n",
       "      <td>True</td>\n",
       "      <td>True</td>\n",
       "    </tr>\n",
       "    <tr>\n",
       "      <th>...</th>\n",
       "      <td>...</td>\n",
       "      <td>...</td>\n",
       "      <td>...</td>\n",
       "      <td>...</td>\n",
       "      <td>...</td>\n",
       "      <td>...</td>\n",
       "      <td>...</td>\n",
       "      <td>...</td>\n",
       "      <td>...</td>\n",
       "    </tr>\n",
       "    <tr>\n",
       "      <th>2023-05-05 22:07:33.714000+02:00</th>\n",
       "      <td>90740974</td>\n",
       "      <td>0.003005</td>\n",
       "      <td>0.410</td>\n",
       "      <td>1073499830</td>\n",
       "      <td>1073499684</td>\n",
       "      <td>1683317253000000000</td>\n",
       "      <td>1683317253714</td>\n",
       "      <td>False</td>\n",
       "      <td>True</td>\n",
       "    </tr>\n",
       "    <tr>\n",
       "      <th>2023-05-05 22:07:34.937000+02:00</th>\n",
       "      <td>90740975</td>\n",
       "      <td>0.003004</td>\n",
       "      <td>2.600</td>\n",
       "      <td>1073499833</td>\n",
       "      <td>1073499832</td>\n",
       "      <td>1683317254000000000</td>\n",
       "      <td>1683317254937</td>\n",
       "      <td>False</td>\n",
       "      <td>True</td>\n",
       "    </tr>\n",
       "    <tr>\n",
       "      <th>2023-05-05 22:07:34.937000+02:00</th>\n",
       "      <td>90740976</td>\n",
       "      <td>0.003005</td>\n",
       "      <td>4.306</td>\n",
       "      <td>1073499833</td>\n",
       "      <td>1073499684</td>\n",
       "      <td>1683317254000000000</td>\n",
       "      <td>1683317254937</td>\n",
       "      <td>False</td>\n",
       "      <td>True</td>\n",
       "    </tr>\n",
       "    <tr>\n",
       "      <th>2023-05-05 22:07:34.937000+02:00</th>\n",
       "      <td>90740977</td>\n",
       "      <td>0.003005</td>\n",
       "      <td>2.929</td>\n",
       "      <td>1073499833</td>\n",
       "      <td>1073499778</td>\n",
       "      <td>1683317254000000000</td>\n",
       "      <td>1683317254937</td>\n",
       "      <td>False</td>\n",
       "      <td>True</td>\n",
       "    </tr>\n",
       "    <tr>\n",
       "      <th>2023-05-05 22:07:50.147000+02:00</th>\n",
       "      <td>90740978</td>\n",
       "      <td>0.003004</td>\n",
       "      <td>13.235</td>\n",
       "      <td>1073499856</td>\n",
       "      <td>1073499865</td>\n",
       "      <td>1683317270000000000</td>\n",
       "      <td>1683317270147</td>\n",
       "      <td>True</td>\n",
       "      <td>True</td>\n",
       "    </tr>\n",
       "  </tbody>\n",
       "</table>\n",
       "<p>797 rows × 9 columns</p>\n",
       "</div>"
      ],
      "text/plain": [
       "                                  Trade Id     Price  Quantity  Buyer Order Id  Seller Order Id                 Date      Timestamp  Buyer was maker  Best price match\n",
       "LTCBTC Europe/Madrid                                                                                                                                                  \n",
       "2023-05-05 20:01:38.079000+02:00  90740182  0.003007     2.205      1073479749       1073479785  1683309698000000000  1683309698079             True              True\n",
       "2023-05-05 20:01:58.897000+02:00  90740183  0.003008     1.391      1073479851       1073479852  1683309718000000000  1683309718897             True              True\n",
       "2023-05-05 20:02:14.499000+02:00  90740184  0.003009     2.340      1073479907       1073479048  1683309734000000000  1683309734499            False              True\n",
       "2023-05-05 20:02:14.845000+02:00  90740185  0.003008     3.000      1073479893       1073479908  1683309734000000000  1683309734845             True              True\n",
       "2023-05-05 20:02:14.851000+02:00  90740186  0.003008     3.000      1073479893       1073479909  1683309734000000000  1683309734851             True              True\n",
       "...                                    ...       ...       ...             ...              ...                  ...            ...              ...               ...\n",
       "2023-05-05 22:07:33.714000+02:00  90740974  0.003005     0.410      1073499830       1073499684  1683317253000000000  1683317253714            False              True\n",
       "2023-05-05 22:07:34.937000+02:00  90740975  0.003004     2.600      1073499833       1073499832  1683317254000000000  1683317254937            False              True\n",
       "2023-05-05 22:07:34.937000+02:00  90740976  0.003005     4.306      1073499833       1073499684  1683317254000000000  1683317254937            False              True\n",
       "2023-05-05 22:07:34.937000+02:00  90740977  0.003005     2.929      1073499833       1073499778  1683317254000000000  1683317254937            False              True\n",
       "2023-05-05 22:07:50.147000+02:00  90740978  0.003004    13.235      1073499856       1073499865  1683317270000000000  1683317270147             True              True\n",
       "\n",
       "[797 rows x 9 columns]"
      ]
     },
     "execution_count": 76,
     "metadata": {},
     "output_type": "execute_result"
    }
   ],
   "source": [
    "sym.get_atomic_trades()"
   ]
  },
  {
   "cell_type": "markdown",
   "id": "db1348b4",
   "metadata": {},
   "source": [
    "# Using dict with config in Symbol class arguments"
   ]
  },
  {
   "cell_type": "code",
   "execution_count": 77,
   "id": "d264f030",
   "metadata": {},
   "outputs": [
    {
     "data": {
      "text/plain": [
       "Redis<ConnectionPool<Connection<host=192.168.89.241,port=6379,db=0>>>"
      ]
     },
     "execution_count": 77,
     "metadata": {},
     "output_type": "execute_result"
    }
   ],
   "source": [
    "data = {'host': '192.168.89.241', 'port': 6379, 'db': 0, 'decode_responses': True}\n",
    "\n",
    "sym = binpan.Symbol(symbol='ltcbtc', tick_interval='1m', from_redis=data, time_zone='Europe/Madrid', limit=5000)\n",
    "sym.from_redis"
   ]
  },
  {
   "cell_type": "code",
   "execution_count": 78,
   "id": "3f52af81",
   "metadata": {},
   "outputs": [
    {
     "data": {
      "text/html": [
       "<div>\n",
       "<style scoped>\n",
       "    .dataframe tbody tr th:only-of-type {\n",
       "        vertical-align: middle;\n",
       "    }\n",
       "\n",
       "    .dataframe tbody tr th {\n",
       "        vertical-align: top;\n",
       "    }\n",
       "\n",
       "    .dataframe thead th {\n",
       "        text-align: right;\n",
       "    }\n",
       "</style>\n",
       "<table border=\"1\" class=\"dataframe\">\n",
       "  <thead>\n",
       "    <tr style=\"text-align: right;\">\n",
       "      <th></th>\n",
       "      <th>Open time</th>\n",
       "      <th>Open</th>\n",
       "      <th>High</th>\n",
       "      <th>Low</th>\n",
       "      <th>Close</th>\n",
       "      <th>Volume</th>\n",
       "      <th>Close time</th>\n",
       "      <th>Quote volume</th>\n",
       "      <th>Trades</th>\n",
       "      <th>Taker buy base volume</th>\n",
       "      <th>Taker buy quote volume</th>\n",
       "      <th>Ignore</th>\n",
       "      <th>Open timestamp</th>\n",
       "      <th>Close timestamp</th>\n",
       "    </tr>\n",
       "    <tr>\n",
       "      <th>LTCBTC 1m Europe/Madrid</th>\n",
       "      <th></th>\n",
       "      <th></th>\n",
       "      <th></th>\n",
       "      <th></th>\n",
       "      <th></th>\n",
       "      <th></th>\n",
       "      <th></th>\n",
       "      <th></th>\n",
       "      <th></th>\n",
       "      <th></th>\n",
       "      <th></th>\n",
       "      <th></th>\n",
       "      <th></th>\n",
       "      <th></th>\n",
       "    </tr>\n",
       "  </thead>\n",
       "  <tbody>\n",
       "    <tr>\n",
       "      <th>2023-05-05 20:01:00+02:00</th>\n",
       "      <td>2023-05-05 20:01:00+02:00</td>\n",
       "      <td>0.003007</td>\n",
       "      <td>0.003008</td>\n",
       "      <td>0.003007</td>\n",
       "      <td>0.003008</td>\n",
       "      <td>3.596</td>\n",
       "      <td>2023-05-05 20:01:59.999000+02:00</td>\n",
       "      <td>0.010815</td>\n",
       "      <td>2</td>\n",
       "      <td>0.000</td>\n",
       "      <td>0.000000</td>\n",
       "      <td>0</td>\n",
       "      <td>1683309660000</td>\n",
       "      <td>1683309719999</td>\n",
       "    </tr>\n",
       "    <tr>\n",
       "      <th>2023-05-05 20:02:00+02:00</th>\n",
       "      <td>2023-05-05 20:02:00+02:00</td>\n",
       "      <td>0.003009</td>\n",
       "      <td>0.003009</td>\n",
       "      <td>0.003007</td>\n",
       "      <td>0.003007</td>\n",
       "      <td>53.482</td>\n",
       "      <td>2023-05-05 20:02:59.999000+02:00</td>\n",
       "      <td>0.160831</td>\n",
       "      <td>7</td>\n",
       "      <td>2.340</td>\n",
       "      <td>0.007041</td>\n",
       "      <td>0</td>\n",
       "      <td>1683309720000</td>\n",
       "      <td>1683309779999</td>\n",
       "    </tr>\n",
       "    <tr>\n",
       "      <th>2023-05-05 20:03:00+02:00</th>\n",
       "      <td>2023-05-05 20:03:00+02:00</td>\n",
       "      <td>0.003008</td>\n",
       "      <td>0.003008</td>\n",
       "      <td>0.003007</td>\n",
       "      <td>0.003007</td>\n",
       "      <td>5.448</td>\n",
       "      <td>2023-05-05 20:03:59.999000+02:00</td>\n",
       "      <td>0.016384</td>\n",
       "      <td>5</td>\n",
       "      <td>5.448</td>\n",
       "      <td>0.016384</td>\n",
       "      <td>0</td>\n",
       "      <td>1683309780000</td>\n",
       "      <td>1683309839999</td>\n",
       "    </tr>\n",
       "    <tr>\n",
       "      <th>2023-05-05 20:04:00+02:00</th>\n",
       "      <td>2023-05-05 20:04:00+02:00</td>\n",
       "      <td>0.003007</td>\n",
       "      <td>0.003007</td>\n",
       "      <td>0.003007</td>\n",
       "      <td>0.003007</td>\n",
       "      <td>0.000</td>\n",
       "      <td>2023-05-05 20:04:59.999000+02:00</td>\n",
       "      <td>0.000000</td>\n",
       "      <td>0</td>\n",
       "      <td>0.000</td>\n",
       "      <td>0.000000</td>\n",
       "      <td>0</td>\n",
       "      <td>1683309840000</td>\n",
       "      <td>1683309899999</td>\n",
       "    </tr>\n",
       "    <tr>\n",
       "      <th>2023-05-05 20:05:00+02:00</th>\n",
       "      <td>2023-05-05 20:05:00+02:00</td>\n",
       "      <td>0.003009</td>\n",
       "      <td>0.003009</td>\n",
       "      <td>0.003009</td>\n",
       "      <td>0.003009</td>\n",
       "      <td>1.550</td>\n",
       "      <td>2023-05-05 20:05:59.999000+02:00</td>\n",
       "      <td>0.004664</td>\n",
       "      <td>3</td>\n",
       "      <td>1.550</td>\n",
       "      <td>0.004664</td>\n",
       "      <td>0</td>\n",
       "      <td>1683309900000</td>\n",
       "      <td>1683309959999</td>\n",
       "    </tr>\n",
       "    <tr>\n",
       "      <th>...</th>\n",
       "      <td>...</td>\n",
       "      <td>...</td>\n",
       "      <td>...</td>\n",
       "      <td>...</td>\n",
       "      <td>...</td>\n",
       "      <td>...</td>\n",
       "      <td>...</td>\n",
       "      <td>...</td>\n",
       "      <td>...</td>\n",
       "      <td>...</td>\n",
       "      <td>...</td>\n",
       "      <td>...</td>\n",
       "      <td>...</td>\n",
       "      <td>...</td>\n",
       "    </tr>\n",
       "    <tr>\n",
       "      <th>2023-05-05 22:03:00+02:00</th>\n",
       "      <td>2023-05-05 22:03:00+02:00</td>\n",
       "      <td>0.003004</td>\n",
       "      <td>0.003006</td>\n",
       "      <td>0.003004</td>\n",
       "      <td>0.003005</td>\n",
       "      <td>51.508</td>\n",
       "      <td>2023-05-05 22:03:59.999000+02:00</td>\n",
       "      <td>0.154762</td>\n",
       "      <td>21</td>\n",
       "      <td>4.621</td>\n",
       "      <td>0.013886</td>\n",
       "      <td>0</td>\n",
       "      <td>1683316980000</td>\n",
       "      <td>1683317039999</td>\n",
       "    </tr>\n",
       "    <tr>\n",
       "      <th>2023-05-05 22:04:00+02:00</th>\n",
       "      <td>2023-05-05 22:04:00+02:00</td>\n",
       "      <td>0.003005</td>\n",
       "      <td>0.003006</td>\n",
       "      <td>0.003005</td>\n",
       "      <td>0.003006</td>\n",
       "      <td>2.603</td>\n",
       "      <td>2023-05-05 22:04:59.999000+02:00</td>\n",
       "      <td>0.007824</td>\n",
       "      <td>5</td>\n",
       "      <td>2.603</td>\n",
       "      <td>0.007824</td>\n",
       "      <td>0</td>\n",
       "      <td>1683317040000</td>\n",
       "      <td>1683317099999</td>\n",
       "    </tr>\n",
       "    <tr>\n",
       "      <th>2023-05-05 22:05:00+02:00</th>\n",
       "      <td>2023-05-05 22:05:00+02:00</td>\n",
       "      <td>0.003005</td>\n",
       "      <td>0.003006</td>\n",
       "      <td>0.003004</td>\n",
       "      <td>0.003004</td>\n",
       "      <td>3.509</td>\n",
       "      <td>2023-05-05 22:05:59.999000+02:00</td>\n",
       "      <td>0.010545</td>\n",
       "      <td>4</td>\n",
       "      <td>3.208</td>\n",
       "      <td>0.009641</td>\n",
       "      <td>0</td>\n",
       "      <td>1683317100000</td>\n",
       "      <td>1683317159999</td>\n",
       "    </tr>\n",
       "    <tr>\n",
       "      <th>2023-05-05 22:06:00+02:00</th>\n",
       "      <td>2023-05-05 22:06:00+02:00</td>\n",
       "      <td>0.003005</td>\n",
       "      <td>0.003005</td>\n",
       "      <td>0.003003</td>\n",
       "      <td>0.003005</td>\n",
       "      <td>2.324</td>\n",
       "      <td>2023-05-05 22:06:59.999000+02:00</td>\n",
       "      <td>0.006980</td>\n",
       "      <td>4</td>\n",
       "      <td>1.089</td>\n",
       "      <td>0.003272</td>\n",
       "      <td>0</td>\n",
       "      <td>1683317160000</td>\n",
       "      <td>1683317219999</td>\n",
       "    </tr>\n",
       "    <tr>\n",
       "      <th>2023-05-05 22:07:00+02:00</th>\n",
       "      <td>2023-05-05 22:07:00+02:00</td>\n",
       "      <td>0.003005</td>\n",
       "      <td>0.003005</td>\n",
       "      <td>0.003004</td>\n",
       "      <td>0.003004</td>\n",
       "      <td>23.847</td>\n",
       "      <td>2023-05-05 22:07:59.999000+02:00</td>\n",
       "      <td>0.071644</td>\n",
       "      <td>6</td>\n",
       "      <td>10.612</td>\n",
       "      <td>0.031886</td>\n",
       "      <td>0</td>\n",
       "      <td>1683317220000</td>\n",
       "      <td>1683317279999</td>\n",
       "    </tr>\n",
       "  </tbody>\n",
       "</table>\n",
       "<p>127 rows × 14 columns</p>\n",
       "</div>"
      ],
      "text/plain": [
       "                                          Open time      Open      High       Low     Close  Volume                       Close time  Quote volume  Trades  Taker buy base volume  Taker buy quote volume  Ignore  Open timestamp  Close timestamp\n",
       "LTCBTC 1m Europe/Madrid                                                                                                                                                                                                                           \n",
       "2023-05-05 20:01:00+02:00 2023-05-05 20:01:00+02:00  0.003007  0.003008  0.003007  0.003008   3.596 2023-05-05 20:01:59.999000+02:00      0.010815       2                  0.000                0.000000       0   1683309660000    1683309719999\n",
       "2023-05-05 20:02:00+02:00 2023-05-05 20:02:00+02:00  0.003009  0.003009  0.003007  0.003007  53.482 2023-05-05 20:02:59.999000+02:00      0.160831       7                  2.340                0.007041       0   1683309720000    1683309779999\n",
       "2023-05-05 20:03:00+02:00 2023-05-05 20:03:00+02:00  0.003008  0.003008  0.003007  0.003007   5.448 2023-05-05 20:03:59.999000+02:00      0.016384       5                  5.448                0.016384       0   1683309780000    1683309839999\n",
       "2023-05-05 20:04:00+02:00 2023-05-05 20:04:00+02:00  0.003007  0.003007  0.003007  0.003007   0.000 2023-05-05 20:04:59.999000+02:00      0.000000       0                  0.000                0.000000       0   1683309840000    1683309899999\n",
       "2023-05-05 20:05:00+02:00 2023-05-05 20:05:00+02:00  0.003009  0.003009  0.003009  0.003009   1.550 2023-05-05 20:05:59.999000+02:00      0.004664       3                  1.550                0.004664       0   1683309900000    1683309959999\n",
       "...                                             ...       ...       ...       ...       ...     ...                              ...           ...     ...                    ...                     ...     ...             ...              ...\n",
       "2023-05-05 22:03:00+02:00 2023-05-05 22:03:00+02:00  0.003004  0.003006  0.003004  0.003005  51.508 2023-05-05 22:03:59.999000+02:00      0.154762      21                  4.621                0.013886       0   1683316980000    1683317039999\n",
       "2023-05-05 22:04:00+02:00 2023-05-05 22:04:00+02:00  0.003005  0.003006  0.003005  0.003006   2.603 2023-05-05 22:04:59.999000+02:00      0.007824       5                  2.603                0.007824       0   1683317040000    1683317099999\n",
       "2023-05-05 22:05:00+02:00 2023-05-05 22:05:00+02:00  0.003005  0.003006  0.003004  0.003004   3.509 2023-05-05 22:05:59.999000+02:00      0.010545       4                  3.208                0.009641       0   1683317100000    1683317159999\n",
       "2023-05-05 22:06:00+02:00 2023-05-05 22:06:00+02:00  0.003005  0.003005  0.003003  0.003005   2.324 2023-05-05 22:06:59.999000+02:00      0.006980       4                  1.089                0.003272       0   1683317160000    1683317219999\n",
       "2023-05-05 22:07:00+02:00 2023-05-05 22:07:00+02:00  0.003005  0.003005  0.003004  0.003004  23.847 2023-05-05 22:07:59.999000+02:00      0.071644       6                 10.612                0.031886       0   1683317220000    1683317279999\n",
       "\n",
       "[127 rows x 14 columns]"
      ]
     },
     "execution_count": 78,
     "metadata": {},
     "output_type": "execute_result"
    }
   ],
   "source": [
    "sym.df"
   ]
  },
  {
   "cell_type": "code",
   "execution_count": 79,
   "id": "73126f76",
   "metadata": {},
   "outputs": [
    {
     "name": "stdout",
     "output_type": "stream",
     "text": [
      "Requesting aggregated trades between 2023-05-05 20:01:00 and 2023-05-05 22:07:59\n"
     ]
    },
    {
     "name": "stderr",
     "output_type": "stream",
     "text": [
      "2023-05-05\t 22:08:53     INFO Fetching aggregated trades from redis server for LTCBTC\n",
      "2023-05-05\t 22:08:53     INFO Clean aggregated 400 trades found for LTCBTC\n"
     ]
    },
    {
     "data": {
      "text/html": [
       "<div>\n",
       "<style scoped>\n",
       "    .dataframe tbody tr th:only-of-type {\n",
       "        vertical-align: middle;\n",
       "    }\n",
       "\n",
       "    .dataframe tbody tr th {\n",
       "        vertical-align: top;\n",
       "    }\n",
       "\n",
       "    .dataframe thead th {\n",
       "        text-align: right;\n",
       "    }\n",
       "</style>\n",
       "<table border=\"1\" class=\"dataframe\">\n",
       "  <thead>\n",
       "    <tr style=\"text-align: right;\">\n",
       "      <th></th>\n",
       "      <th>Aggregate tradeId</th>\n",
       "      <th>Price</th>\n",
       "      <th>Quantity</th>\n",
       "      <th>First tradeId</th>\n",
       "      <th>Last tradeId</th>\n",
       "      <th>Date</th>\n",
       "      <th>Timestamp</th>\n",
       "      <th>Buyer was maker</th>\n",
       "      <th>Best price match</th>\n",
       "    </tr>\n",
       "    <tr>\n",
       "      <th>LTCBTC Europe/Madrid</th>\n",
       "      <th></th>\n",
       "      <th></th>\n",
       "      <th></th>\n",
       "      <th></th>\n",
       "      <th></th>\n",
       "      <th></th>\n",
       "      <th></th>\n",
       "      <th></th>\n",
       "      <th></th>\n",
       "    </tr>\n",
       "  </thead>\n",
       "  <tbody>\n",
       "    <tr>\n",
       "      <th>2023-05-05 20:22:04.868000+02:00</th>\n",
       "      <td>71185215</td>\n",
       "      <td>0.003009</td>\n",
       "      <td>2.166</td>\n",
       "      <td>90740289</td>\n",
       "      <td>90740289</td>\n",
       "      <td>1683310924000000000</td>\n",
       "      <td>1683310924868</td>\n",
       "      <td>False</td>\n",
       "      <td>True</td>\n",
       "    </tr>\n",
       "    <tr>\n",
       "      <th>2023-05-05 20:22:26.638000+02:00</th>\n",
       "      <td>71185216</td>\n",
       "      <td>0.003009</td>\n",
       "      <td>5.131</td>\n",
       "      <td>90740290</td>\n",
       "      <td>90740290</td>\n",
       "      <td>1683310946000000000</td>\n",
       "      <td>1683310946638</td>\n",
       "      <td>True</td>\n",
       "      <td>True</td>\n",
       "    </tr>\n",
       "    <tr>\n",
       "      <th>2023-05-05 20:22:26.638000+02:00</th>\n",
       "      <td>71185217</td>\n",
       "      <td>0.003008</td>\n",
       "      <td>9.173</td>\n",
       "      <td>90740291</td>\n",
       "      <td>90740291</td>\n",
       "      <td>1683310946000000000</td>\n",
       "      <td>1683310946638</td>\n",
       "      <td>True</td>\n",
       "      <td>True</td>\n",
       "    </tr>\n",
       "    <tr>\n",
       "      <th>2023-05-05 20:22:29.392000+02:00</th>\n",
       "      <td>71185218</td>\n",
       "      <td>0.003010</td>\n",
       "      <td>0.266</td>\n",
       "      <td>90740292</td>\n",
       "      <td>90740292</td>\n",
       "      <td>1683310949000000000</td>\n",
       "      <td>1683310949392</td>\n",
       "      <td>False</td>\n",
       "      <td>True</td>\n",
       "    </tr>\n",
       "    <tr>\n",
       "      <th>2023-05-05 20:22:33.436000+02:00</th>\n",
       "      <td>71185219</td>\n",
       "      <td>0.003009</td>\n",
       "      <td>3.620</td>\n",
       "      <td>90740293</td>\n",
       "      <td>90740293</td>\n",
       "      <td>1683310953000000000</td>\n",
       "      <td>1683310953436</td>\n",
       "      <td>True</td>\n",
       "      <td>True</td>\n",
       "    </tr>\n",
       "    <tr>\n",
       "      <th>...</th>\n",
       "      <td>...</td>\n",
       "      <td>...</td>\n",
       "      <td>...</td>\n",
       "      <td>...</td>\n",
       "      <td>...</td>\n",
       "      <td>...</td>\n",
       "      <td>...</td>\n",
       "      <td>...</td>\n",
       "      <td>...</td>\n",
       "    </tr>\n",
       "    <tr>\n",
       "      <th>2023-05-05 21:53:15.028000+02:00</th>\n",
       "      <td>71185610</td>\n",
       "      <td>0.003002</td>\n",
       "      <td>0.116</td>\n",
       "      <td>90740859</td>\n",
       "      <td>90740859</td>\n",
       "      <td>1683316395000000000</td>\n",
       "      <td>1683316395028</td>\n",
       "      <td>False</td>\n",
       "      <td>True</td>\n",
       "    </tr>\n",
       "    <tr>\n",
       "      <th>2023-05-05 21:53:25.173000+02:00</th>\n",
       "      <td>71185611</td>\n",
       "      <td>0.003001</td>\n",
       "      <td>6.999</td>\n",
       "      <td>90740860</td>\n",
       "      <td>90740860</td>\n",
       "      <td>1683316405000000000</td>\n",
       "      <td>1683316405173</td>\n",
       "      <td>True</td>\n",
       "      <td>True</td>\n",
       "    </tr>\n",
       "    <tr>\n",
       "      <th>2023-05-05 21:53:28.977000+02:00</th>\n",
       "      <td>71185612</td>\n",
       "      <td>0.003003</td>\n",
       "      <td>0.544</td>\n",
       "      <td>90740861</td>\n",
       "      <td>90740861</td>\n",
       "      <td>1683316408000000000</td>\n",
       "      <td>1683316408977</td>\n",
       "      <td>False</td>\n",
       "      <td>True</td>\n",
       "    </tr>\n",
       "    <tr>\n",
       "      <th>2023-05-05 21:53:40.809000+02:00</th>\n",
       "      <td>71185613</td>\n",
       "      <td>0.003002</td>\n",
       "      <td>4.949</td>\n",
       "      <td>90740862</td>\n",
       "      <td>90740862</td>\n",
       "      <td>1683316420000000000</td>\n",
       "      <td>1683316420809</td>\n",
       "      <td>True</td>\n",
       "      <td>True</td>\n",
       "    </tr>\n",
       "    <tr>\n",
       "      <th>2023-05-05 21:54:12.368000+02:00</th>\n",
       "      <td>71185614</td>\n",
       "      <td>0.003002</td>\n",
       "      <td>0.542</td>\n",
       "      <td>90740863</td>\n",
       "      <td>90740863</td>\n",
       "      <td>1683316452000000000</td>\n",
       "      <td>1683316452368</td>\n",
       "      <td>False</td>\n",
       "      <td>True</td>\n",
       "    </tr>\n",
       "  </tbody>\n",
       "</table>\n",
       "<p>400 rows × 9 columns</p>\n",
       "</div>"
      ],
      "text/plain": [
       "                                  Aggregate tradeId     Price  Quantity  First tradeId  Last tradeId                 Date      Timestamp  Buyer was maker  Best price match\n",
       "LTCBTC Europe/Madrid                                                                                                                                                       \n",
       "2023-05-05 20:22:04.868000+02:00           71185215  0.003009     2.166       90740289      90740289  1683310924000000000  1683310924868            False              True\n",
       "2023-05-05 20:22:26.638000+02:00           71185216  0.003009     5.131       90740290      90740290  1683310946000000000  1683310946638             True              True\n",
       "2023-05-05 20:22:26.638000+02:00           71185217  0.003008     9.173       90740291      90740291  1683310946000000000  1683310946638             True              True\n",
       "2023-05-05 20:22:29.392000+02:00           71185218  0.003010     0.266       90740292      90740292  1683310949000000000  1683310949392            False              True\n",
       "2023-05-05 20:22:33.436000+02:00           71185219  0.003009     3.620       90740293      90740293  1683310953000000000  1683310953436             True              True\n",
       "...                                             ...       ...       ...            ...           ...                  ...            ...              ...               ...\n",
       "2023-05-05 21:53:15.028000+02:00           71185610  0.003002     0.116       90740859      90740859  1683316395000000000  1683316395028            False              True\n",
       "2023-05-05 21:53:25.173000+02:00           71185611  0.003001     6.999       90740860      90740860  1683316405000000000  1683316405173             True              True\n",
       "2023-05-05 21:53:28.977000+02:00           71185612  0.003003     0.544       90740861      90740861  1683316408000000000  1683316408977            False              True\n",
       "2023-05-05 21:53:40.809000+02:00           71185613  0.003002     4.949       90740862      90740862  1683316420000000000  1683316420809             True              True\n",
       "2023-05-05 21:54:12.368000+02:00           71185614  0.003002     0.542       90740863      90740863  1683316452000000000  1683316452368            False              True\n",
       "\n",
       "[400 rows x 9 columns]"
      ]
     },
     "execution_count": 79,
     "metadata": {},
     "output_type": "execute_result"
    }
   ],
   "source": [
    "sym.get_atomic_trades()"
   ]
  },
  {
   "cell_type": "markdown",
   "id": "f644455b",
   "metadata": {},
   "source": [
    "# It's possible to pass a redis client directly as argument to Symbol class."
   ]
  },
  {
   "cell_type": "code",
   "execution_count": 71,
   "id": "d1d1294e",
   "metadata": {},
   "outputs": [],
   "source": [
    "symbol='ltcbtc'\n",
    "redis_conf_klines = {'host': '192.168.89.241', 'port': 6379, 'db': 0, 'decode_responses': True}\n",
    "redisClient_klines = StrictRedis(**redis_conf_klines)"
   ]
  },
  {
   "cell_type": "code",
   "execution_count": 72,
   "id": "1210c60b",
   "metadata": {
    "pycharm": {
     "name": "#%%\n"
    }
   },
   "outputs": [],
   "source": [
    "sym = binpan.Symbol(symbol=symbol, tick_interval='1m', from_redis=redisClient_klines, time_zone='Europe/Madrid', hours=3)"
   ]
  },
  {
   "cell_type": "code",
   "execution_count": 73,
   "id": "9b17ce41",
   "metadata": {},
   "outputs": [
    {
     "data": {
      "text/html": [
       "<div>\n",
       "<style scoped>\n",
       "    .dataframe tbody tr th:only-of-type {\n",
       "        vertical-align: middle;\n",
       "    }\n",
       "\n",
       "    .dataframe tbody tr th {\n",
       "        vertical-align: top;\n",
       "    }\n",
       "\n",
       "    .dataframe thead th {\n",
       "        text-align: right;\n",
       "    }\n",
       "</style>\n",
       "<table border=\"1\" class=\"dataframe\">\n",
       "  <thead>\n",
       "    <tr style=\"text-align: right;\">\n",
       "      <th></th>\n",
       "      <th>Open time</th>\n",
       "      <th>Open</th>\n",
       "      <th>High</th>\n",
       "      <th>Low</th>\n",
       "      <th>Close</th>\n",
       "      <th>Volume</th>\n",
       "      <th>Close time</th>\n",
       "      <th>Quote volume</th>\n",
       "      <th>Trades</th>\n",
       "      <th>Taker buy base volume</th>\n",
       "      <th>Taker buy quote volume</th>\n",
       "      <th>Ignore</th>\n",
       "      <th>Open timestamp</th>\n",
       "      <th>Close timestamp</th>\n",
       "    </tr>\n",
       "    <tr>\n",
       "      <th>LTCBTC 1m Europe/Madrid</th>\n",
       "      <th></th>\n",
       "      <th></th>\n",
       "      <th></th>\n",
       "      <th></th>\n",
       "      <th></th>\n",
       "      <th></th>\n",
       "      <th></th>\n",
       "      <th></th>\n",
       "      <th></th>\n",
       "      <th></th>\n",
       "      <th></th>\n",
       "      <th></th>\n",
       "      <th></th>\n",
       "      <th></th>\n",
       "    </tr>\n",
       "  </thead>\n",
       "  <tbody>\n",
       "    <tr>\n",
       "      <th>2023-05-05 20:01:00+02:00</th>\n",
       "      <td>2023-05-05 20:01:00+02:00</td>\n",
       "      <td>0.003007</td>\n",
       "      <td>0.003008</td>\n",
       "      <td>0.003007</td>\n",
       "      <td>0.003008</td>\n",
       "      <td>3.596</td>\n",
       "      <td>2023-05-05 20:01:59.999000+02:00</td>\n",
       "      <td>0.010815</td>\n",
       "      <td>2</td>\n",
       "      <td>0.000</td>\n",
       "      <td>0.000000</td>\n",
       "      <td>0</td>\n",
       "      <td>1683309660000</td>\n",
       "      <td>1683309719999</td>\n",
       "    </tr>\n",
       "    <tr>\n",
       "      <th>2023-05-05 20:02:00+02:00</th>\n",
       "      <td>2023-05-05 20:02:00+02:00</td>\n",
       "      <td>0.003009</td>\n",
       "      <td>0.003009</td>\n",
       "      <td>0.003007</td>\n",
       "      <td>0.003007</td>\n",
       "      <td>53.482</td>\n",
       "      <td>2023-05-05 20:02:59.999000+02:00</td>\n",
       "      <td>0.160831</td>\n",
       "      <td>7</td>\n",
       "      <td>2.340</td>\n",
       "      <td>0.007041</td>\n",
       "      <td>0</td>\n",
       "      <td>1683309720000</td>\n",
       "      <td>1683309779999</td>\n",
       "    </tr>\n",
       "    <tr>\n",
       "      <th>2023-05-05 20:03:00+02:00</th>\n",
       "      <td>2023-05-05 20:03:00+02:00</td>\n",
       "      <td>0.003008</td>\n",
       "      <td>0.003008</td>\n",
       "      <td>0.003007</td>\n",
       "      <td>0.003007</td>\n",
       "      <td>5.448</td>\n",
       "      <td>2023-05-05 20:03:59.999000+02:00</td>\n",
       "      <td>0.016384</td>\n",
       "      <td>5</td>\n",
       "      <td>5.448</td>\n",
       "      <td>0.016384</td>\n",
       "      <td>0</td>\n",
       "      <td>1683309780000</td>\n",
       "      <td>1683309839999</td>\n",
       "    </tr>\n",
       "    <tr>\n",
       "      <th>2023-05-05 20:04:00+02:00</th>\n",
       "      <td>2023-05-05 20:04:00+02:00</td>\n",
       "      <td>0.003007</td>\n",
       "      <td>0.003007</td>\n",
       "      <td>0.003007</td>\n",
       "      <td>0.003007</td>\n",
       "      <td>0.000</td>\n",
       "      <td>2023-05-05 20:04:59.999000+02:00</td>\n",
       "      <td>0.000000</td>\n",
       "      <td>0</td>\n",
       "      <td>0.000</td>\n",
       "      <td>0.000000</td>\n",
       "      <td>0</td>\n",
       "      <td>1683309840000</td>\n",
       "      <td>1683309899999</td>\n",
       "    </tr>\n",
       "    <tr>\n",
       "      <th>2023-05-05 20:05:00+02:00</th>\n",
       "      <td>2023-05-05 20:05:00+02:00</td>\n",
       "      <td>0.003009</td>\n",
       "      <td>0.003009</td>\n",
       "      <td>0.003009</td>\n",
       "      <td>0.003009</td>\n",
       "      <td>1.550</td>\n",
       "      <td>2023-05-05 20:05:59.999000+02:00</td>\n",
       "      <td>0.004664</td>\n",
       "      <td>3</td>\n",
       "      <td>1.550</td>\n",
       "      <td>0.004664</td>\n",
       "      <td>0</td>\n",
       "      <td>1683309900000</td>\n",
       "      <td>1683309959999</td>\n",
       "    </tr>\n",
       "    <tr>\n",
       "      <th>...</th>\n",
       "      <td>...</td>\n",
       "      <td>...</td>\n",
       "      <td>...</td>\n",
       "      <td>...</td>\n",
       "      <td>...</td>\n",
       "      <td>...</td>\n",
       "      <td>...</td>\n",
       "      <td>...</td>\n",
       "      <td>...</td>\n",
       "      <td>...</td>\n",
       "      <td>...</td>\n",
       "      <td>...</td>\n",
       "      <td>...</td>\n",
       "      <td>...</td>\n",
       "    </tr>\n",
       "    <tr>\n",
       "      <th>2023-05-05 22:03:00+02:00</th>\n",
       "      <td>2023-05-05 22:03:00+02:00</td>\n",
       "      <td>0.003004</td>\n",
       "      <td>0.003006</td>\n",
       "      <td>0.003004</td>\n",
       "      <td>0.003005</td>\n",
       "      <td>51.508</td>\n",
       "      <td>2023-05-05 22:03:59.999000+02:00</td>\n",
       "      <td>0.154762</td>\n",
       "      <td>21</td>\n",
       "      <td>4.621</td>\n",
       "      <td>0.013886</td>\n",
       "      <td>0</td>\n",
       "      <td>1683316980000</td>\n",
       "      <td>1683317039999</td>\n",
       "    </tr>\n",
       "    <tr>\n",
       "      <th>2023-05-05 22:04:00+02:00</th>\n",
       "      <td>2023-05-05 22:04:00+02:00</td>\n",
       "      <td>0.003005</td>\n",
       "      <td>0.003006</td>\n",
       "      <td>0.003005</td>\n",
       "      <td>0.003006</td>\n",
       "      <td>2.603</td>\n",
       "      <td>2023-05-05 22:04:59.999000+02:00</td>\n",
       "      <td>0.007824</td>\n",
       "      <td>5</td>\n",
       "      <td>2.603</td>\n",
       "      <td>0.007824</td>\n",
       "      <td>0</td>\n",
       "      <td>1683317040000</td>\n",
       "      <td>1683317099999</td>\n",
       "    </tr>\n",
       "    <tr>\n",
       "      <th>2023-05-05 22:05:00+02:00</th>\n",
       "      <td>2023-05-05 22:05:00+02:00</td>\n",
       "      <td>0.003005</td>\n",
       "      <td>0.003006</td>\n",
       "      <td>0.003004</td>\n",
       "      <td>0.003004</td>\n",
       "      <td>3.509</td>\n",
       "      <td>2023-05-05 22:05:59.999000+02:00</td>\n",
       "      <td>0.010545</td>\n",
       "      <td>4</td>\n",
       "      <td>3.208</td>\n",
       "      <td>0.009641</td>\n",
       "      <td>0</td>\n",
       "      <td>1683317100000</td>\n",
       "      <td>1683317159999</td>\n",
       "    </tr>\n",
       "    <tr>\n",
       "      <th>2023-05-05 22:06:00+02:00</th>\n",
       "      <td>2023-05-05 22:06:00+02:00</td>\n",
       "      <td>0.003005</td>\n",
       "      <td>0.003005</td>\n",
       "      <td>0.003003</td>\n",
       "      <td>0.003005</td>\n",
       "      <td>2.324</td>\n",
       "      <td>2023-05-05 22:06:59.999000+02:00</td>\n",
       "      <td>0.006980</td>\n",
       "      <td>4</td>\n",
       "      <td>1.089</td>\n",
       "      <td>0.003272</td>\n",
       "      <td>0</td>\n",
       "      <td>1683317160000</td>\n",
       "      <td>1683317219999</td>\n",
       "    </tr>\n",
       "    <tr>\n",
       "      <th>2023-05-05 22:07:00+02:00</th>\n",
       "      <td>2023-05-05 22:07:00+02:00</td>\n",
       "      <td>0.003005</td>\n",
       "      <td>0.003005</td>\n",
       "      <td>0.003004</td>\n",
       "      <td>0.003004</td>\n",
       "      <td>23.847</td>\n",
       "      <td>2023-05-05 22:07:59.999000+02:00</td>\n",
       "      <td>0.071644</td>\n",
       "      <td>6</td>\n",
       "      <td>10.612</td>\n",
       "      <td>0.031886</td>\n",
       "      <td>0</td>\n",
       "      <td>1683317220000</td>\n",
       "      <td>1683317279999</td>\n",
       "    </tr>\n",
       "  </tbody>\n",
       "</table>\n",
       "<p>127 rows × 14 columns</p>\n",
       "</div>"
      ],
      "text/plain": [
       "                                          Open time      Open      High       Low     Close  Volume                       Close time  Quote volume  Trades  Taker buy base volume  Taker buy quote volume  Ignore  Open timestamp  Close timestamp\n",
       "LTCBTC 1m Europe/Madrid                                                                                                                                                                                                                           \n",
       "2023-05-05 20:01:00+02:00 2023-05-05 20:01:00+02:00  0.003007  0.003008  0.003007  0.003008   3.596 2023-05-05 20:01:59.999000+02:00      0.010815       2                  0.000                0.000000       0   1683309660000    1683309719999\n",
       "2023-05-05 20:02:00+02:00 2023-05-05 20:02:00+02:00  0.003009  0.003009  0.003007  0.003007  53.482 2023-05-05 20:02:59.999000+02:00      0.160831       7                  2.340                0.007041       0   1683309720000    1683309779999\n",
       "2023-05-05 20:03:00+02:00 2023-05-05 20:03:00+02:00  0.003008  0.003008  0.003007  0.003007   5.448 2023-05-05 20:03:59.999000+02:00      0.016384       5                  5.448                0.016384       0   1683309780000    1683309839999\n",
       "2023-05-05 20:04:00+02:00 2023-05-05 20:04:00+02:00  0.003007  0.003007  0.003007  0.003007   0.000 2023-05-05 20:04:59.999000+02:00      0.000000       0                  0.000                0.000000       0   1683309840000    1683309899999\n",
       "2023-05-05 20:05:00+02:00 2023-05-05 20:05:00+02:00  0.003009  0.003009  0.003009  0.003009   1.550 2023-05-05 20:05:59.999000+02:00      0.004664       3                  1.550                0.004664       0   1683309900000    1683309959999\n",
       "...                                             ...       ...       ...       ...       ...     ...                              ...           ...     ...                    ...                     ...     ...             ...              ...\n",
       "2023-05-05 22:03:00+02:00 2023-05-05 22:03:00+02:00  0.003004  0.003006  0.003004  0.003005  51.508 2023-05-05 22:03:59.999000+02:00      0.154762      21                  4.621                0.013886       0   1683316980000    1683317039999\n",
       "2023-05-05 22:04:00+02:00 2023-05-05 22:04:00+02:00  0.003005  0.003006  0.003005  0.003006   2.603 2023-05-05 22:04:59.999000+02:00      0.007824       5                  2.603                0.007824       0   1683317040000    1683317099999\n",
       "2023-05-05 22:05:00+02:00 2023-05-05 22:05:00+02:00  0.003005  0.003006  0.003004  0.003004   3.509 2023-05-05 22:05:59.999000+02:00      0.010545       4                  3.208                0.009641       0   1683317100000    1683317159999\n",
       "2023-05-05 22:06:00+02:00 2023-05-05 22:06:00+02:00  0.003005  0.003005  0.003003  0.003005   2.324 2023-05-05 22:06:59.999000+02:00      0.006980       4                  1.089                0.003272       0   1683317160000    1683317219999\n",
       "2023-05-05 22:07:00+02:00 2023-05-05 22:07:00+02:00  0.003005  0.003005  0.003004  0.003004  23.847 2023-05-05 22:07:59.999000+02:00      0.071644       6                 10.612                0.031886       0   1683317220000    1683317279999\n",
       "\n",
       "[127 rows x 14 columns]"
      ]
     },
     "execution_count": 73,
     "metadata": {},
     "output_type": "execute_result"
    }
   ],
   "source": [
    "sym.df"
   ]
  },
  {
   "cell_type": "code",
   "execution_count": 82,
   "id": "85e27a3b",
   "metadata": {
    "scrolled": false
   },
   "outputs": [
    {
     "name": "stdout",
     "output_type": "stream",
     "text": [
      "Requesting atomic trades between 2023-05-05 20:01:00 and 2023-05-05 22:07:59\n"
     ]
    },
    {
     "name": "stderr",
     "output_type": "stream",
     "text": [
      "2023-05-05\t 22:09:25     INFO Fetching atomic trades from redis server for LTCBTC\n",
      "2023-05-05\t 22:09:27     INFO Clean atomic 797 trades found for LTCBTC\n"
     ]
    },
    {
     "data": {
      "text/html": [
       "<div>\n",
       "<style scoped>\n",
       "    .dataframe tbody tr th:only-of-type {\n",
       "        vertical-align: middle;\n",
       "    }\n",
       "\n",
       "    .dataframe tbody tr th {\n",
       "        vertical-align: top;\n",
       "    }\n",
       "\n",
       "    .dataframe thead th {\n",
       "        text-align: right;\n",
       "    }\n",
       "</style>\n",
       "<table border=\"1\" class=\"dataframe\">\n",
       "  <thead>\n",
       "    <tr style=\"text-align: right;\">\n",
       "      <th></th>\n",
       "      <th>Trade Id</th>\n",
       "      <th>Price</th>\n",
       "      <th>Quantity</th>\n",
       "      <th>Buyer Order Id</th>\n",
       "      <th>Seller Order Id</th>\n",
       "      <th>Date</th>\n",
       "      <th>Timestamp</th>\n",
       "      <th>Buyer was maker</th>\n",
       "      <th>Best price match</th>\n",
       "    </tr>\n",
       "    <tr>\n",
       "      <th>LTCBTC Europe/Madrid</th>\n",
       "      <th></th>\n",
       "      <th></th>\n",
       "      <th></th>\n",
       "      <th></th>\n",
       "      <th></th>\n",
       "      <th></th>\n",
       "      <th></th>\n",
       "      <th></th>\n",
       "      <th></th>\n",
       "    </tr>\n",
       "  </thead>\n",
       "  <tbody>\n",
       "    <tr>\n",
       "      <th>2023-05-05 20:01:38.079000+02:00</th>\n",
       "      <td>90740182</td>\n",
       "      <td>0.003007</td>\n",
       "      <td>2.205</td>\n",
       "      <td>1073479749</td>\n",
       "      <td>1073479785</td>\n",
       "      <td>1683309698000000000</td>\n",
       "      <td>1683309698079</td>\n",
       "      <td>True</td>\n",
       "      <td>True</td>\n",
       "    </tr>\n",
       "    <tr>\n",
       "      <th>2023-05-05 20:01:58.897000+02:00</th>\n",
       "      <td>90740183</td>\n",
       "      <td>0.003008</td>\n",
       "      <td>1.391</td>\n",
       "      <td>1073479851</td>\n",
       "      <td>1073479852</td>\n",
       "      <td>1683309718000000000</td>\n",
       "      <td>1683309718897</td>\n",
       "      <td>True</td>\n",
       "      <td>True</td>\n",
       "    </tr>\n",
       "    <tr>\n",
       "      <th>2023-05-05 20:02:14.499000+02:00</th>\n",
       "      <td>90740184</td>\n",
       "      <td>0.003009</td>\n",
       "      <td>2.340</td>\n",
       "      <td>1073479907</td>\n",
       "      <td>1073479048</td>\n",
       "      <td>1683309734000000000</td>\n",
       "      <td>1683309734499</td>\n",
       "      <td>False</td>\n",
       "      <td>True</td>\n",
       "    </tr>\n",
       "    <tr>\n",
       "      <th>2023-05-05 20:02:14.845000+02:00</th>\n",
       "      <td>90740185</td>\n",
       "      <td>0.003008</td>\n",
       "      <td>3.000</td>\n",
       "      <td>1073479893</td>\n",
       "      <td>1073479908</td>\n",
       "      <td>1683309734000000000</td>\n",
       "      <td>1683309734845</td>\n",
       "      <td>True</td>\n",
       "      <td>True</td>\n",
       "    </tr>\n",
       "    <tr>\n",
       "      <th>2023-05-05 20:02:14.851000+02:00</th>\n",
       "      <td>90740186</td>\n",
       "      <td>0.003008</td>\n",
       "      <td>3.000</td>\n",
       "      <td>1073479893</td>\n",
       "      <td>1073479909</td>\n",
       "      <td>1683309734000000000</td>\n",
       "      <td>1683309734851</td>\n",
       "      <td>True</td>\n",
       "      <td>True</td>\n",
       "    </tr>\n",
       "    <tr>\n",
       "      <th>...</th>\n",
       "      <td>...</td>\n",
       "      <td>...</td>\n",
       "      <td>...</td>\n",
       "      <td>...</td>\n",
       "      <td>...</td>\n",
       "      <td>...</td>\n",
       "      <td>...</td>\n",
       "      <td>...</td>\n",
       "      <td>...</td>\n",
       "    </tr>\n",
       "    <tr>\n",
       "      <th>2023-05-05 22:07:33.714000+02:00</th>\n",
       "      <td>90740974</td>\n",
       "      <td>0.003005</td>\n",
       "      <td>0.410</td>\n",
       "      <td>1073499830</td>\n",
       "      <td>1073499684</td>\n",
       "      <td>1683317253000000000</td>\n",
       "      <td>1683317253714</td>\n",
       "      <td>False</td>\n",
       "      <td>True</td>\n",
       "    </tr>\n",
       "    <tr>\n",
       "      <th>2023-05-05 22:07:34.937000+02:00</th>\n",
       "      <td>90740975</td>\n",
       "      <td>0.003004</td>\n",
       "      <td>2.600</td>\n",
       "      <td>1073499833</td>\n",
       "      <td>1073499832</td>\n",
       "      <td>1683317254000000000</td>\n",
       "      <td>1683317254937</td>\n",
       "      <td>False</td>\n",
       "      <td>True</td>\n",
       "    </tr>\n",
       "    <tr>\n",
       "      <th>2023-05-05 22:07:34.937000+02:00</th>\n",
       "      <td>90740976</td>\n",
       "      <td>0.003005</td>\n",
       "      <td>4.306</td>\n",
       "      <td>1073499833</td>\n",
       "      <td>1073499684</td>\n",
       "      <td>1683317254000000000</td>\n",
       "      <td>1683317254937</td>\n",
       "      <td>False</td>\n",
       "      <td>True</td>\n",
       "    </tr>\n",
       "    <tr>\n",
       "      <th>2023-05-05 22:07:34.937000+02:00</th>\n",
       "      <td>90740977</td>\n",
       "      <td>0.003005</td>\n",
       "      <td>2.929</td>\n",
       "      <td>1073499833</td>\n",
       "      <td>1073499778</td>\n",
       "      <td>1683317254000000000</td>\n",
       "      <td>1683317254937</td>\n",
       "      <td>False</td>\n",
       "      <td>True</td>\n",
       "    </tr>\n",
       "    <tr>\n",
       "      <th>2023-05-05 22:07:50.147000+02:00</th>\n",
       "      <td>90740978</td>\n",
       "      <td>0.003004</td>\n",
       "      <td>13.235</td>\n",
       "      <td>1073499856</td>\n",
       "      <td>1073499865</td>\n",
       "      <td>1683317270000000000</td>\n",
       "      <td>1683317270147</td>\n",
       "      <td>True</td>\n",
       "      <td>True</td>\n",
       "    </tr>\n",
       "  </tbody>\n",
       "</table>\n",
       "<p>797 rows × 9 columns</p>\n",
       "</div>"
      ],
      "text/plain": [
       "                                  Trade Id     Price  Quantity  Buyer Order Id  Seller Order Id                 Date      Timestamp  Buyer was maker  Best price match\n",
       "LTCBTC Europe/Madrid                                                                                                                                                  \n",
       "2023-05-05 20:01:38.079000+02:00  90740182  0.003007     2.205      1073479749       1073479785  1683309698000000000  1683309698079             True              True\n",
       "2023-05-05 20:01:58.897000+02:00  90740183  0.003008     1.391      1073479851       1073479852  1683309718000000000  1683309718897             True              True\n",
       "2023-05-05 20:02:14.499000+02:00  90740184  0.003009     2.340      1073479907       1073479048  1683309734000000000  1683309734499            False              True\n",
       "2023-05-05 20:02:14.845000+02:00  90740185  0.003008     3.000      1073479893       1073479908  1683309734000000000  1683309734845             True              True\n",
       "2023-05-05 20:02:14.851000+02:00  90740186  0.003008     3.000      1073479893       1073479909  1683309734000000000  1683309734851             True              True\n",
       "...                                    ...       ...       ...             ...              ...                  ...            ...              ...               ...\n",
       "2023-05-05 22:07:33.714000+02:00  90740974  0.003005     0.410      1073499830       1073499684  1683317253000000000  1683317253714            False              True\n",
       "2023-05-05 22:07:34.937000+02:00  90740975  0.003004     2.600      1073499833       1073499832  1683317254000000000  1683317254937            False              True\n",
       "2023-05-05 22:07:34.937000+02:00  90740976  0.003005     4.306      1073499833       1073499684  1683317254000000000  1683317254937            False              True\n",
       "2023-05-05 22:07:34.937000+02:00  90740977  0.003005     2.929      1073499833       1073499778  1683317254000000000  1683317254937            False              True\n",
       "2023-05-05 22:07:50.147000+02:00  90740978  0.003004    13.235      1073499856       1073499865  1683317270000000000  1683317270147             True              True\n",
       "\n",
       "[797 rows x 9 columns]"
      ]
     },
     "execution_count": 82,
     "metadata": {},
     "output_type": "execute_result"
    }
   ],
   "source": [
    "# will get just EXISTING trades in the server\n",
    "sym.get_atomic_trades()"
   ]
  },
  {
   "cell_type": "markdown",
   "id": "0331d03a",
   "metadata": {},
   "source": [
    "# Using sentinel secret.py configuration"
   ]
  },
  {
   "cell_type": "code",
   "execution_count": 83,
   "id": "4110739f",
   "metadata": {},
   "outputs": [
    {
     "data": {
      "text/html": [
       "<div>\n",
       "<style scoped>\n",
       "    .dataframe tbody tr th:only-of-type {\n",
       "        vertical-align: middle;\n",
       "    }\n",
       "\n",
       "    .dataframe tbody tr th {\n",
       "        vertical-align: top;\n",
       "    }\n",
       "\n",
       "    .dataframe thead th {\n",
       "        text-align: right;\n",
       "    }\n",
       "</style>\n",
       "<table border=\"1\" class=\"dataframe\">\n",
       "  <thead>\n",
       "    <tr style=\"text-align: right;\">\n",
       "      <th></th>\n",
       "      <th>Open time</th>\n",
       "      <th>Open</th>\n",
       "      <th>High</th>\n",
       "      <th>Low</th>\n",
       "      <th>Close</th>\n",
       "      <th>Volume</th>\n",
       "      <th>Close time</th>\n",
       "      <th>Quote volume</th>\n",
       "      <th>Trades</th>\n",
       "      <th>Taker buy base volume</th>\n",
       "      <th>Taker buy quote volume</th>\n",
       "      <th>Ignore</th>\n",
       "      <th>Open timestamp</th>\n",
       "      <th>Close timestamp</th>\n",
       "    </tr>\n",
       "    <tr>\n",
       "      <th>LTCBTC 1m Europe/Madrid</th>\n",
       "      <th></th>\n",
       "      <th></th>\n",
       "      <th></th>\n",
       "      <th></th>\n",
       "      <th></th>\n",
       "      <th></th>\n",
       "      <th></th>\n",
       "      <th></th>\n",
       "      <th></th>\n",
       "      <th></th>\n",
       "      <th></th>\n",
       "      <th></th>\n",
       "      <th></th>\n",
       "      <th></th>\n",
       "    </tr>\n",
       "  </thead>\n",
       "  <tbody>\n",
       "    <tr>\n",
       "      <th>2023-05-05 20:01:00+02:00</th>\n",
       "      <td>2023-05-05 20:01:00+02:00</td>\n",
       "      <td>0.003007</td>\n",
       "      <td>0.003008</td>\n",
       "      <td>0.003007</td>\n",
       "      <td>0.003008</td>\n",
       "      <td>3.596</td>\n",
       "      <td>2023-05-05 20:01:59.999000+02:00</td>\n",
       "      <td>0.010815</td>\n",
       "      <td>2</td>\n",
       "      <td>0.000</td>\n",
       "      <td>0.000000</td>\n",
       "      <td>0</td>\n",
       "      <td>1683309660000</td>\n",
       "      <td>1683309719999</td>\n",
       "    </tr>\n",
       "    <tr>\n",
       "      <th>2023-05-05 20:02:00+02:00</th>\n",
       "      <td>2023-05-05 20:02:00+02:00</td>\n",
       "      <td>0.003009</td>\n",
       "      <td>0.003009</td>\n",
       "      <td>0.003007</td>\n",
       "      <td>0.003007</td>\n",
       "      <td>53.482</td>\n",
       "      <td>2023-05-05 20:02:59.999000+02:00</td>\n",
       "      <td>0.160831</td>\n",
       "      <td>7</td>\n",
       "      <td>2.340</td>\n",
       "      <td>0.007041</td>\n",
       "      <td>0</td>\n",
       "      <td>1683309720000</td>\n",
       "      <td>1683309779999</td>\n",
       "    </tr>\n",
       "    <tr>\n",
       "      <th>2023-05-05 20:03:00+02:00</th>\n",
       "      <td>2023-05-05 20:03:00+02:00</td>\n",
       "      <td>0.003008</td>\n",
       "      <td>0.003008</td>\n",
       "      <td>0.003007</td>\n",
       "      <td>0.003007</td>\n",
       "      <td>5.448</td>\n",
       "      <td>2023-05-05 20:03:59.999000+02:00</td>\n",
       "      <td>0.016384</td>\n",
       "      <td>5</td>\n",
       "      <td>5.448</td>\n",
       "      <td>0.016384</td>\n",
       "      <td>0</td>\n",
       "      <td>1683309780000</td>\n",
       "      <td>1683309839999</td>\n",
       "    </tr>\n",
       "    <tr>\n",
       "      <th>2023-05-05 20:04:00+02:00</th>\n",
       "      <td>2023-05-05 20:04:00+02:00</td>\n",
       "      <td>0.003007</td>\n",
       "      <td>0.003007</td>\n",
       "      <td>0.003007</td>\n",
       "      <td>0.003007</td>\n",
       "      <td>0.000</td>\n",
       "      <td>2023-05-05 20:04:59.999000+02:00</td>\n",
       "      <td>0.000000</td>\n",
       "      <td>0</td>\n",
       "      <td>0.000</td>\n",
       "      <td>0.000000</td>\n",
       "      <td>0</td>\n",
       "      <td>1683309840000</td>\n",
       "      <td>1683309899999</td>\n",
       "    </tr>\n",
       "    <tr>\n",
       "      <th>2023-05-05 20:05:00+02:00</th>\n",
       "      <td>2023-05-05 20:05:00+02:00</td>\n",
       "      <td>0.003009</td>\n",
       "      <td>0.003009</td>\n",
       "      <td>0.003009</td>\n",
       "      <td>0.003009</td>\n",
       "      <td>1.550</td>\n",
       "      <td>2023-05-05 20:05:59.999000+02:00</td>\n",
       "      <td>0.004664</td>\n",
       "      <td>3</td>\n",
       "      <td>1.550</td>\n",
       "      <td>0.004664</td>\n",
       "      <td>0</td>\n",
       "      <td>1683309900000</td>\n",
       "      <td>1683309959999</td>\n",
       "    </tr>\n",
       "    <tr>\n",
       "      <th>...</th>\n",
       "      <td>...</td>\n",
       "      <td>...</td>\n",
       "      <td>...</td>\n",
       "      <td>...</td>\n",
       "      <td>...</td>\n",
       "      <td>...</td>\n",
       "      <td>...</td>\n",
       "      <td>...</td>\n",
       "      <td>...</td>\n",
       "      <td>...</td>\n",
       "      <td>...</td>\n",
       "      <td>...</td>\n",
       "      <td>...</td>\n",
       "      <td>...</td>\n",
       "    </tr>\n",
       "    <tr>\n",
       "      <th>2023-05-05 22:04:00+02:00</th>\n",
       "      <td>2023-05-05 22:04:00+02:00</td>\n",
       "      <td>0.003005</td>\n",
       "      <td>0.003006</td>\n",
       "      <td>0.003005</td>\n",
       "      <td>0.003006</td>\n",
       "      <td>2.603</td>\n",
       "      <td>2023-05-05 22:04:59.999000+02:00</td>\n",
       "      <td>0.007824</td>\n",
       "      <td>5</td>\n",
       "      <td>2.603</td>\n",
       "      <td>0.007824</td>\n",
       "      <td>0</td>\n",
       "      <td>1683317040000</td>\n",
       "      <td>1683317099999</td>\n",
       "    </tr>\n",
       "    <tr>\n",
       "      <th>2023-05-05 22:05:00+02:00</th>\n",
       "      <td>2023-05-05 22:05:00+02:00</td>\n",
       "      <td>0.003005</td>\n",
       "      <td>0.003006</td>\n",
       "      <td>0.003004</td>\n",
       "      <td>0.003004</td>\n",
       "      <td>3.509</td>\n",
       "      <td>2023-05-05 22:05:59.999000+02:00</td>\n",
       "      <td>0.010545</td>\n",
       "      <td>4</td>\n",
       "      <td>3.208</td>\n",
       "      <td>0.009641</td>\n",
       "      <td>0</td>\n",
       "      <td>1683317100000</td>\n",
       "      <td>1683317159999</td>\n",
       "    </tr>\n",
       "    <tr>\n",
       "      <th>2023-05-05 22:06:00+02:00</th>\n",
       "      <td>2023-05-05 22:06:00+02:00</td>\n",
       "      <td>0.003005</td>\n",
       "      <td>0.003005</td>\n",
       "      <td>0.003003</td>\n",
       "      <td>0.003005</td>\n",
       "      <td>2.324</td>\n",
       "      <td>2023-05-05 22:06:59.999000+02:00</td>\n",
       "      <td>0.006980</td>\n",
       "      <td>4</td>\n",
       "      <td>1.089</td>\n",
       "      <td>0.003272</td>\n",
       "      <td>0</td>\n",
       "      <td>1683317160000</td>\n",
       "      <td>1683317219999</td>\n",
       "    </tr>\n",
       "    <tr>\n",
       "      <th>2023-05-05 22:07:00+02:00</th>\n",
       "      <td>2023-05-05 22:07:00+02:00</td>\n",
       "      <td>0.003005</td>\n",
       "      <td>0.003005</td>\n",
       "      <td>0.003004</td>\n",
       "      <td>0.003004</td>\n",
       "      <td>23.847</td>\n",
       "      <td>2023-05-05 22:07:59.999000+02:00</td>\n",
       "      <td>0.071644</td>\n",
       "      <td>6</td>\n",
       "      <td>10.612</td>\n",
       "      <td>0.031886</td>\n",
       "      <td>0</td>\n",
       "      <td>1683317220000</td>\n",
       "      <td>1683317279999</td>\n",
       "    </tr>\n",
       "    <tr>\n",
       "      <th>2023-05-05 22:08:00+02:00</th>\n",
       "      <td>2023-05-05 22:08:00+02:00</td>\n",
       "      <td>0.003005</td>\n",
       "      <td>0.003005</td>\n",
       "      <td>0.003005</td>\n",
       "      <td>0.003005</td>\n",
       "      <td>1.833</td>\n",
       "      <td>2023-05-05 22:08:59.999000+02:00</td>\n",
       "      <td>0.005508</td>\n",
       "      <td>2</td>\n",
       "      <td>0.542</td>\n",
       "      <td>0.001629</td>\n",
       "      <td>0</td>\n",
       "      <td>1683317280000</td>\n",
       "      <td>1683317339999</td>\n",
       "    </tr>\n",
       "  </tbody>\n",
       "</table>\n",
       "<p>128 rows × 14 columns</p>\n",
       "</div>"
      ],
      "text/plain": [
       "                                          Open time      Open      High       Low     Close  Volume                       Close time  Quote volume  Trades  Taker buy base volume  Taker buy quote volume  Ignore  Open timestamp  Close timestamp\n",
       "LTCBTC 1m Europe/Madrid                                                                                                                                                                                                                           \n",
       "2023-05-05 20:01:00+02:00 2023-05-05 20:01:00+02:00  0.003007  0.003008  0.003007  0.003008   3.596 2023-05-05 20:01:59.999000+02:00      0.010815       2                  0.000                0.000000       0   1683309660000    1683309719999\n",
       "2023-05-05 20:02:00+02:00 2023-05-05 20:02:00+02:00  0.003009  0.003009  0.003007  0.003007  53.482 2023-05-05 20:02:59.999000+02:00      0.160831       7                  2.340                0.007041       0   1683309720000    1683309779999\n",
       "2023-05-05 20:03:00+02:00 2023-05-05 20:03:00+02:00  0.003008  0.003008  0.003007  0.003007   5.448 2023-05-05 20:03:59.999000+02:00      0.016384       5                  5.448                0.016384       0   1683309780000    1683309839999\n",
       "2023-05-05 20:04:00+02:00 2023-05-05 20:04:00+02:00  0.003007  0.003007  0.003007  0.003007   0.000 2023-05-05 20:04:59.999000+02:00      0.000000       0                  0.000                0.000000       0   1683309840000    1683309899999\n",
       "2023-05-05 20:05:00+02:00 2023-05-05 20:05:00+02:00  0.003009  0.003009  0.003009  0.003009   1.550 2023-05-05 20:05:59.999000+02:00      0.004664       3                  1.550                0.004664       0   1683309900000    1683309959999\n",
       "...                                             ...       ...       ...       ...       ...     ...                              ...           ...     ...                    ...                     ...     ...             ...              ...\n",
       "2023-05-05 22:04:00+02:00 2023-05-05 22:04:00+02:00  0.003005  0.003006  0.003005  0.003006   2.603 2023-05-05 22:04:59.999000+02:00      0.007824       5                  2.603                0.007824       0   1683317040000    1683317099999\n",
       "2023-05-05 22:05:00+02:00 2023-05-05 22:05:00+02:00  0.003005  0.003006  0.003004  0.003004   3.509 2023-05-05 22:05:59.999000+02:00      0.010545       4                  3.208                0.009641       0   1683317100000    1683317159999\n",
       "2023-05-05 22:06:00+02:00 2023-05-05 22:06:00+02:00  0.003005  0.003005  0.003003  0.003005   2.324 2023-05-05 22:06:59.999000+02:00      0.006980       4                  1.089                0.003272       0   1683317160000    1683317219999\n",
       "2023-05-05 22:07:00+02:00 2023-05-05 22:07:00+02:00  0.003005  0.003005  0.003004  0.003004  23.847 2023-05-05 22:07:59.999000+02:00      0.071644       6                 10.612                0.031886       0   1683317220000    1683317279999\n",
       "2023-05-05 22:08:00+02:00 2023-05-05 22:08:00+02:00  0.003005  0.003005  0.003005  0.003005   1.833 2023-05-05 22:08:59.999000+02:00      0.005508       2                  0.542                0.001629       0   1683317280000    1683317339999\n",
       "\n",
       "[128 rows x 14 columns]"
      ]
     },
     "execution_count": 83,
     "metadata": {},
     "output_type": "execute_result"
    }
   ],
   "source": [
    "sym = binpan.Symbol(symbol='ltcbtc', tick_interval='1m', sentinel_redis=True, time_zone='Europe/Madrid', limit=5000)\n",
    "sym.df"
   ]
  },
  {
   "cell_type": "code",
   "execution_count": 84,
   "id": "052172f0",
   "metadata": {},
   "outputs": [
    {
     "data": {
      "text/plain": [
       "Redis<SentinelConnectionPool<service=mymaster(master)>"
      ]
     },
     "execution_count": 84,
     "metadata": {},
     "output_type": "execute_result"
    }
   ],
   "source": [
    "sym.from_redis"
   ]
  },
  {
   "cell_type": "code",
   "execution_count": 85,
   "id": "2347250a",
   "metadata": {},
   "outputs": [
    {
     "name": "stdout",
     "output_type": "stream",
     "text": [
      "Requesting atomic trades between 2023-05-05 20:01:00 and 2023-05-05 22:08:59\n"
     ]
    },
    {
     "name": "stderr",
     "output_type": "stream",
     "text": [
      "2023-05-05\t 22:09:35     INFO Fetching atomic trades from redis server for LTCBTC\n",
      "2023-05-05\t 22:09:37     INFO Clean atomic 799 trades found for LTCBTC\n"
     ]
    },
    {
     "data": {
      "text/html": [
       "<div>\n",
       "<style scoped>\n",
       "    .dataframe tbody tr th:only-of-type {\n",
       "        vertical-align: middle;\n",
       "    }\n",
       "\n",
       "    .dataframe tbody tr th {\n",
       "        vertical-align: top;\n",
       "    }\n",
       "\n",
       "    .dataframe thead th {\n",
       "        text-align: right;\n",
       "    }\n",
       "</style>\n",
       "<table border=\"1\" class=\"dataframe\">\n",
       "  <thead>\n",
       "    <tr style=\"text-align: right;\">\n",
       "      <th></th>\n",
       "      <th>Trade Id</th>\n",
       "      <th>Price</th>\n",
       "      <th>Quantity</th>\n",
       "      <th>Buyer Order Id</th>\n",
       "      <th>Seller Order Id</th>\n",
       "      <th>Date</th>\n",
       "      <th>Timestamp</th>\n",
       "      <th>Buyer was maker</th>\n",
       "      <th>Best price match</th>\n",
       "    </tr>\n",
       "    <tr>\n",
       "      <th>LTCBTC Europe/Madrid</th>\n",
       "      <th></th>\n",
       "      <th></th>\n",
       "      <th></th>\n",
       "      <th></th>\n",
       "      <th></th>\n",
       "      <th></th>\n",
       "      <th></th>\n",
       "      <th></th>\n",
       "      <th></th>\n",
       "    </tr>\n",
       "  </thead>\n",
       "  <tbody>\n",
       "    <tr>\n",
       "      <th>2023-05-05 20:01:38.079000+02:00</th>\n",
       "      <td>90740182</td>\n",
       "      <td>0.003007</td>\n",
       "      <td>2.205</td>\n",
       "      <td>1073479749</td>\n",
       "      <td>1073479785</td>\n",
       "      <td>1683309698000000000</td>\n",
       "      <td>1683309698079</td>\n",
       "      <td>True</td>\n",
       "      <td>True</td>\n",
       "    </tr>\n",
       "    <tr>\n",
       "      <th>2023-05-05 20:01:58.897000+02:00</th>\n",
       "      <td>90740183</td>\n",
       "      <td>0.003008</td>\n",
       "      <td>1.391</td>\n",
       "      <td>1073479851</td>\n",
       "      <td>1073479852</td>\n",
       "      <td>1683309718000000000</td>\n",
       "      <td>1683309718897</td>\n",
       "      <td>True</td>\n",
       "      <td>True</td>\n",
       "    </tr>\n",
       "    <tr>\n",
       "      <th>2023-05-05 20:02:14.499000+02:00</th>\n",
       "      <td>90740184</td>\n",
       "      <td>0.003009</td>\n",
       "      <td>2.340</td>\n",
       "      <td>1073479907</td>\n",
       "      <td>1073479048</td>\n",
       "      <td>1683309734000000000</td>\n",
       "      <td>1683309734499</td>\n",
       "      <td>False</td>\n",
       "      <td>True</td>\n",
       "    </tr>\n",
       "    <tr>\n",
       "      <th>2023-05-05 20:02:14.845000+02:00</th>\n",
       "      <td>90740185</td>\n",
       "      <td>0.003008</td>\n",
       "      <td>3.000</td>\n",
       "      <td>1073479893</td>\n",
       "      <td>1073479908</td>\n",
       "      <td>1683309734000000000</td>\n",
       "      <td>1683309734845</td>\n",
       "      <td>True</td>\n",
       "      <td>True</td>\n",
       "    </tr>\n",
       "    <tr>\n",
       "      <th>2023-05-05 20:02:14.851000+02:00</th>\n",
       "      <td>90740186</td>\n",
       "      <td>0.003008</td>\n",
       "      <td>3.000</td>\n",
       "      <td>1073479893</td>\n",
       "      <td>1073479909</td>\n",
       "      <td>1683309734000000000</td>\n",
       "      <td>1683309734851</td>\n",
       "      <td>True</td>\n",
       "      <td>True</td>\n",
       "    </tr>\n",
       "    <tr>\n",
       "      <th>...</th>\n",
       "      <td>...</td>\n",
       "      <td>...</td>\n",
       "      <td>...</td>\n",
       "      <td>...</td>\n",
       "      <td>...</td>\n",
       "      <td>...</td>\n",
       "      <td>...</td>\n",
       "      <td>...</td>\n",
       "      <td>...</td>\n",
       "    </tr>\n",
       "    <tr>\n",
       "      <th>2023-05-05 22:07:34.937000+02:00</th>\n",
       "      <td>90740976</td>\n",
       "      <td>0.003005</td>\n",
       "      <td>4.306</td>\n",
       "      <td>1073499833</td>\n",
       "      <td>1073499684</td>\n",
       "      <td>1683317254000000000</td>\n",
       "      <td>1683317254937</td>\n",
       "      <td>False</td>\n",
       "      <td>True</td>\n",
       "    </tr>\n",
       "    <tr>\n",
       "      <th>2023-05-05 22:07:34.937000+02:00</th>\n",
       "      <td>90740977</td>\n",
       "      <td>0.003005</td>\n",
       "      <td>2.929</td>\n",
       "      <td>1073499833</td>\n",
       "      <td>1073499778</td>\n",
       "      <td>1683317254000000000</td>\n",
       "      <td>1683317254937</td>\n",
       "      <td>False</td>\n",
       "      <td>True</td>\n",
       "    </tr>\n",
       "    <tr>\n",
       "      <th>2023-05-05 22:07:50.147000+02:00</th>\n",
       "      <td>90740978</td>\n",
       "      <td>0.003004</td>\n",
       "      <td>13.235</td>\n",
       "      <td>1073499856</td>\n",
       "      <td>1073499865</td>\n",
       "      <td>1683317270000000000</td>\n",
       "      <td>1683317270147</td>\n",
       "      <td>True</td>\n",
       "      <td>True</td>\n",
       "    </tr>\n",
       "    <tr>\n",
       "      <th>2023-05-05 22:08:02.386000+02:00</th>\n",
       "      <td>90740979</td>\n",
       "      <td>0.003005</td>\n",
       "      <td>0.542</td>\n",
       "      <td>1073499911</td>\n",
       "      <td>1073499885</td>\n",
       "      <td>1683317282000000000</td>\n",
       "      <td>1683317282386</td>\n",
       "      <td>False</td>\n",
       "      <td>True</td>\n",
       "    </tr>\n",
       "    <tr>\n",
       "      <th>2023-05-05 22:08:07.446000+02:00</th>\n",
       "      <td>90740980</td>\n",
       "      <td>0.003005</td>\n",
       "      <td>1.291</td>\n",
       "      <td>1073499922</td>\n",
       "      <td>1073499930</td>\n",
       "      <td>1683317287000000000</td>\n",
       "      <td>1683317287446</td>\n",
       "      <td>True</td>\n",
       "      <td>True</td>\n",
       "    </tr>\n",
       "  </tbody>\n",
       "</table>\n",
       "<p>799 rows × 9 columns</p>\n",
       "</div>"
      ],
      "text/plain": [
       "                                  Trade Id     Price  Quantity  Buyer Order Id  Seller Order Id                 Date      Timestamp  Buyer was maker  Best price match\n",
       "LTCBTC Europe/Madrid                                                                                                                                                  \n",
       "2023-05-05 20:01:38.079000+02:00  90740182  0.003007     2.205      1073479749       1073479785  1683309698000000000  1683309698079             True              True\n",
       "2023-05-05 20:01:58.897000+02:00  90740183  0.003008     1.391      1073479851       1073479852  1683309718000000000  1683309718897             True              True\n",
       "2023-05-05 20:02:14.499000+02:00  90740184  0.003009     2.340      1073479907       1073479048  1683309734000000000  1683309734499            False              True\n",
       "2023-05-05 20:02:14.845000+02:00  90740185  0.003008     3.000      1073479893       1073479908  1683309734000000000  1683309734845             True              True\n",
       "2023-05-05 20:02:14.851000+02:00  90740186  0.003008     3.000      1073479893       1073479909  1683309734000000000  1683309734851             True              True\n",
       "...                                    ...       ...       ...             ...              ...                  ...            ...              ...               ...\n",
       "2023-05-05 22:07:34.937000+02:00  90740976  0.003005     4.306      1073499833       1073499684  1683317254000000000  1683317254937            False              True\n",
       "2023-05-05 22:07:34.937000+02:00  90740977  0.003005     2.929      1073499833       1073499778  1683317254000000000  1683317254937            False              True\n",
       "2023-05-05 22:07:50.147000+02:00  90740978  0.003004    13.235      1073499856       1073499865  1683317270000000000  1683317270147             True              True\n",
       "2023-05-05 22:08:02.386000+02:00  90740979  0.003005     0.542      1073499911       1073499885  1683317282000000000  1683317282386            False              True\n",
       "2023-05-05 22:08:07.446000+02:00  90740980  0.003005     1.291      1073499922       1073499930  1683317287000000000  1683317287446             True              True\n",
       "\n",
       "[799 rows x 9 columns]"
      ]
     },
     "execution_count": 85,
     "metadata": {},
     "output_type": "execute_result"
    }
   ],
   "source": [
    "sym.get_atomic_trades()"
   ]
  },
  {
   "cell_type": "markdown",
   "id": "d1c76e93",
   "metadata": {},
   "source": [
    "# Passing sentinel config to class"
   ]
  },
  {
   "cell_type": "code",
   "execution_count": 87,
   "id": "8a846788",
   "metadata": {},
   "outputs": [
    {
     "data": {
      "text/html": [
       "<div>\n",
       "<style scoped>\n",
       "    .dataframe tbody tr th:only-of-type {\n",
       "        vertical-align: middle;\n",
       "    }\n",
       "\n",
       "    .dataframe tbody tr th {\n",
       "        vertical-align: top;\n",
       "    }\n",
       "\n",
       "    .dataframe thead th {\n",
       "        text-align: right;\n",
       "    }\n",
       "</style>\n",
       "<table border=\"1\" class=\"dataframe\">\n",
       "  <thead>\n",
       "    <tr style=\"text-align: right;\">\n",
       "      <th></th>\n",
       "      <th>Open time</th>\n",
       "      <th>Open</th>\n",
       "      <th>High</th>\n",
       "      <th>Low</th>\n",
       "      <th>Close</th>\n",
       "      <th>Volume</th>\n",
       "      <th>Close time</th>\n",
       "      <th>Quote volume</th>\n",
       "      <th>Trades</th>\n",
       "      <th>Taker buy base volume</th>\n",
       "      <th>Taker buy quote volume</th>\n",
       "      <th>Ignore</th>\n",
       "      <th>Open timestamp</th>\n",
       "      <th>Close timestamp</th>\n",
       "    </tr>\n",
       "    <tr>\n",
       "      <th>LTCBTC 1m Europe/Madrid</th>\n",
       "      <th></th>\n",
       "      <th></th>\n",
       "      <th></th>\n",
       "      <th></th>\n",
       "      <th></th>\n",
       "      <th></th>\n",
       "      <th></th>\n",
       "      <th></th>\n",
       "      <th></th>\n",
       "      <th></th>\n",
       "      <th></th>\n",
       "      <th></th>\n",
       "      <th></th>\n",
       "      <th></th>\n",
       "    </tr>\n",
       "  </thead>\n",
       "  <tbody>\n",
       "    <tr>\n",
       "      <th>2023-05-05 20:01:00+02:00</th>\n",
       "      <td>2023-05-05 20:01:00+02:00</td>\n",
       "      <td>0.003007</td>\n",
       "      <td>0.003008</td>\n",
       "      <td>0.003007</td>\n",
       "      <td>0.003008</td>\n",
       "      <td>3.596</td>\n",
       "      <td>2023-05-05 20:01:59.999000+02:00</td>\n",
       "      <td>0.010815</td>\n",
       "      <td>2</td>\n",
       "      <td>0.000</td>\n",
       "      <td>0.000000</td>\n",
       "      <td>0</td>\n",
       "      <td>1683309660000</td>\n",
       "      <td>1683309719999</td>\n",
       "    </tr>\n",
       "    <tr>\n",
       "      <th>2023-05-05 20:02:00+02:00</th>\n",
       "      <td>2023-05-05 20:02:00+02:00</td>\n",
       "      <td>0.003009</td>\n",
       "      <td>0.003009</td>\n",
       "      <td>0.003007</td>\n",
       "      <td>0.003007</td>\n",
       "      <td>53.482</td>\n",
       "      <td>2023-05-05 20:02:59.999000+02:00</td>\n",
       "      <td>0.160831</td>\n",
       "      <td>7</td>\n",
       "      <td>2.340</td>\n",
       "      <td>0.007041</td>\n",
       "      <td>0</td>\n",
       "      <td>1683309720000</td>\n",
       "      <td>1683309779999</td>\n",
       "    </tr>\n",
       "    <tr>\n",
       "      <th>2023-05-05 20:03:00+02:00</th>\n",
       "      <td>2023-05-05 20:03:00+02:00</td>\n",
       "      <td>0.003008</td>\n",
       "      <td>0.003008</td>\n",
       "      <td>0.003007</td>\n",
       "      <td>0.003007</td>\n",
       "      <td>5.448</td>\n",
       "      <td>2023-05-05 20:03:59.999000+02:00</td>\n",
       "      <td>0.016384</td>\n",
       "      <td>5</td>\n",
       "      <td>5.448</td>\n",
       "      <td>0.016384</td>\n",
       "      <td>0</td>\n",
       "      <td>1683309780000</td>\n",
       "      <td>1683309839999</td>\n",
       "    </tr>\n",
       "    <tr>\n",
       "      <th>2023-05-05 20:04:00+02:00</th>\n",
       "      <td>2023-05-05 20:04:00+02:00</td>\n",
       "      <td>0.003007</td>\n",
       "      <td>0.003007</td>\n",
       "      <td>0.003007</td>\n",
       "      <td>0.003007</td>\n",
       "      <td>0.000</td>\n",
       "      <td>2023-05-05 20:04:59.999000+02:00</td>\n",
       "      <td>0.000000</td>\n",
       "      <td>0</td>\n",
       "      <td>0.000</td>\n",
       "      <td>0.000000</td>\n",
       "      <td>0</td>\n",
       "      <td>1683309840000</td>\n",
       "      <td>1683309899999</td>\n",
       "    </tr>\n",
       "    <tr>\n",
       "      <th>2023-05-05 20:05:00+02:00</th>\n",
       "      <td>2023-05-05 20:05:00+02:00</td>\n",
       "      <td>0.003009</td>\n",
       "      <td>0.003009</td>\n",
       "      <td>0.003009</td>\n",
       "      <td>0.003009</td>\n",
       "      <td>1.550</td>\n",
       "      <td>2023-05-05 20:05:59.999000+02:00</td>\n",
       "      <td>0.004664</td>\n",
       "      <td>3</td>\n",
       "      <td>1.550</td>\n",
       "      <td>0.004664</td>\n",
       "      <td>0</td>\n",
       "      <td>1683309900000</td>\n",
       "      <td>1683309959999</td>\n",
       "    </tr>\n",
       "    <tr>\n",
       "      <th>...</th>\n",
       "      <td>...</td>\n",
       "      <td>...</td>\n",
       "      <td>...</td>\n",
       "      <td>...</td>\n",
       "      <td>...</td>\n",
       "      <td>...</td>\n",
       "      <td>...</td>\n",
       "      <td>...</td>\n",
       "      <td>...</td>\n",
       "      <td>...</td>\n",
       "      <td>...</td>\n",
       "      <td>...</td>\n",
       "      <td>...</td>\n",
       "      <td>...</td>\n",
       "    </tr>\n",
       "    <tr>\n",
       "      <th>2023-05-05 22:05:00+02:00</th>\n",
       "      <td>2023-05-05 22:05:00+02:00</td>\n",
       "      <td>0.003005</td>\n",
       "      <td>0.003006</td>\n",
       "      <td>0.003004</td>\n",
       "      <td>0.003004</td>\n",
       "      <td>3.509</td>\n",
       "      <td>2023-05-05 22:05:59.999000+02:00</td>\n",
       "      <td>0.010545</td>\n",
       "      <td>4</td>\n",
       "      <td>3.208</td>\n",
       "      <td>0.009641</td>\n",
       "      <td>0</td>\n",
       "      <td>1683317100000</td>\n",
       "      <td>1683317159999</td>\n",
       "    </tr>\n",
       "    <tr>\n",
       "      <th>2023-05-05 22:06:00+02:00</th>\n",
       "      <td>2023-05-05 22:06:00+02:00</td>\n",
       "      <td>0.003005</td>\n",
       "      <td>0.003005</td>\n",
       "      <td>0.003003</td>\n",
       "      <td>0.003005</td>\n",
       "      <td>2.324</td>\n",
       "      <td>2023-05-05 22:06:59.999000+02:00</td>\n",
       "      <td>0.006980</td>\n",
       "      <td>4</td>\n",
       "      <td>1.089</td>\n",
       "      <td>0.003272</td>\n",
       "      <td>0</td>\n",
       "      <td>1683317160000</td>\n",
       "      <td>1683317219999</td>\n",
       "    </tr>\n",
       "    <tr>\n",
       "      <th>2023-05-05 22:07:00+02:00</th>\n",
       "      <td>2023-05-05 22:07:00+02:00</td>\n",
       "      <td>0.003005</td>\n",
       "      <td>0.003005</td>\n",
       "      <td>0.003004</td>\n",
       "      <td>0.003004</td>\n",
       "      <td>23.847</td>\n",
       "      <td>2023-05-05 22:07:59.999000+02:00</td>\n",
       "      <td>0.071644</td>\n",
       "      <td>6</td>\n",
       "      <td>10.612</td>\n",
       "      <td>0.031886</td>\n",
       "      <td>0</td>\n",
       "      <td>1683317220000</td>\n",
       "      <td>1683317279999</td>\n",
       "    </tr>\n",
       "    <tr>\n",
       "      <th>2023-05-05 22:08:00+02:00</th>\n",
       "      <td>2023-05-05 22:08:00+02:00</td>\n",
       "      <td>0.003005</td>\n",
       "      <td>0.003005</td>\n",
       "      <td>0.003005</td>\n",
       "      <td>0.003005</td>\n",
       "      <td>1.833</td>\n",
       "      <td>2023-05-05 22:08:59.999000+02:00</td>\n",
       "      <td>0.005508</td>\n",
       "      <td>2</td>\n",
       "      <td>0.542</td>\n",
       "      <td>0.001629</td>\n",
       "      <td>0</td>\n",
       "      <td>1683317280000</td>\n",
       "      <td>1683317339999</td>\n",
       "    </tr>\n",
       "    <tr>\n",
       "      <th>2023-05-05 22:09:00+02:00</th>\n",
       "      <td>2023-05-05 22:09:00+02:00</td>\n",
       "      <td>0.003005</td>\n",
       "      <td>0.003005</td>\n",
       "      <td>0.003005</td>\n",
       "      <td>0.003005</td>\n",
       "      <td>16.703</td>\n",
       "      <td>2023-05-05 22:09:59.999000+02:00</td>\n",
       "      <td>0.050192</td>\n",
       "      <td>9</td>\n",
       "      <td>16.703</td>\n",
       "      <td>0.050192</td>\n",
       "      <td>0</td>\n",
       "      <td>1683317340000</td>\n",
       "      <td>1683317399999</td>\n",
       "    </tr>\n",
       "  </tbody>\n",
       "</table>\n",
       "<p>129 rows × 14 columns</p>\n",
       "</div>"
      ],
      "text/plain": [
       "                                          Open time      Open      High       Low     Close  Volume                       Close time  Quote volume  Trades  Taker buy base volume  Taker buy quote volume  Ignore  Open timestamp  Close timestamp\n",
       "LTCBTC 1m Europe/Madrid                                                                                                                                                                                                                           \n",
       "2023-05-05 20:01:00+02:00 2023-05-05 20:01:00+02:00  0.003007  0.003008  0.003007  0.003008   3.596 2023-05-05 20:01:59.999000+02:00      0.010815       2                  0.000                0.000000       0   1683309660000    1683309719999\n",
       "2023-05-05 20:02:00+02:00 2023-05-05 20:02:00+02:00  0.003009  0.003009  0.003007  0.003007  53.482 2023-05-05 20:02:59.999000+02:00      0.160831       7                  2.340                0.007041       0   1683309720000    1683309779999\n",
       "2023-05-05 20:03:00+02:00 2023-05-05 20:03:00+02:00  0.003008  0.003008  0.003007  0.003007   5.448 2023-05-05 20:03:59.999000+02:00      0.016384       5                  5.448                0.016384       0   1683309780000    1683309839999\n",
       "2023-05-05 20:04:00+02:00 2023-05-05 20:04:00+02:00  0.003007  0.003007  0.003007  0.003007   0.000 2023-05-05 20:04:59.999000+02:00      0.000000       0                  0.000                0.000000       0   1683309840000    1683309899999\n",
       "2023-05-05 20:05:00+02:00 2023-05-05 20:05:00+02:00  0.003009  0.003009  0.003009  0.003009   1.550 2023-05-05 20:05:59.999000+02:00      0.004664       3                  1.550                0.004664       0   1683309900000    1683309959999\n",
       "...                                             ...       ...       ...       ...       ...     ...                              ...           ...     ...                    ...                     ...     ...             ...              ...\n",
       "2023-05-05 22:05:00+02:00 2023-05-05 22:05:00+02:00  0.003005  0.003006  0.003004  0.003004   3.509 2023-05-05 22:05:59.999000+02:00      0.010545       4                  3.208                0.009641       0   1683317100000    1683317159999\n",
       "2023-05-05 22:06:00+02:00 2023-05-05 22:06:00+02:00  0.003005  0.003005  0.003003  0.003005   2.324 2023-05-05 22:06:59.999000+02:00      0.006980       4                  1.089                0.003272       0   1683317160000    1683317219999\n",
       "2023-05-05 22:07:00+02:00 2023-05-05 22:07:00+02:00  0.003005  0.003005  0.003004  0.003004  23.847 2023-05-05 22:07:59.999000+02:00      0.071644       6                 10.612                0.031886       0   1683317220000    1683317279999\n",
       "2023-05-05 22:08:00+02:00 2023-05-05 22:08:00+02:00  0.003005  0.003005  0.003005  0.003005   1.833 2023-05-05 22:08:59.999000+02:00      0.005508       2                  0.542                0.001629       0   1683317280000    1683317339999\n",
       "2023-05-05 22:09:00+02:00 2023-05-05 22:09:00+02:00  0.003005  0.003005  0.003005  0.003005  16.703 2023-05-05 22:09:59.999000+02:00      0.050192       9                 16.703                0.050192       0   1683317340000    1683317399999\n",
       "\n",
       "[129 rows x 14 columns]"
      ]
     },
     "execution_count": 87,
     "metadata": {},
     "output_type": "execute_result"
    }
   ],
   "source": [
    "sentinel_info = {'hosts': [(\"192.168.89.241\", 26379), (\"192.168.89.242\", 26379), (\"192.168.89.243\", 26379)],\n",
    "                 'password': None,\n",
    "                 'name': 'mymaster'}\n",
    "sym = binpan.Symbol(symbol='ltcbtc', tick_interval='1m', sentinel_redis=sentinel_info, time_zone='Europe/Madrid', limit=5000)\n",
    "sym.df"
   ]
  },
  {
   "cell_type": "code",
   "execution_count": 88,
   "id": "9c6910ae",
   "metadata": {},
   "outputs": [
    {
     "name": "stdout",
     "output_type": "stream",
     "text": [
      "Requesting atomic trades between 2023-05-05 20:01:00 and 2023-05-05 22:09:59\n"
     ]
    },
    {
     "name": "stderr",
     "output_type": "stream",
     "text": [
      "2023-05-05\t 22:11:02     INFO Fetching atomic trades from redis server for LTCBTC\n",
      "2023-05-05\t 22:11:04     INFO Clean atomic 808 trades found for LTCBTC\n"
     ]
    },
    {
     "data": {
      "text/html": [
       "<div>\n",
       "<style scoped>\n",
       "    .dataframe tbody tr th:only-of-type {\n",
       "        vertical-align: middle;\n",
       "    }\n",
       "\n",
       "    .dataframe tbody tr th {\n",
       "        vertical-align: top;\n",
       "    }\n",
       "\n",
       "    .dataframe thead th {\n",
       "        text-align: right;\n",
       "    }\n",
       "</style>\n",
       "<table border=\"1\" class=\"dataframe\">\n",
       "  <thead>\n",
       "    <tr style=\"text-align: right;\">\n",
       "      <th></th>\n",
       "      <th>Trade Id</th>\n",
       "      <th>Price</th>\n",
       "      <th>Quantity</th>\n",
       "      <th>Buyer Order Id</th>\n",
       "      <th>Seller Order Id</th>\n",
       "      <th>Date</th>\n",
       "      <th>Timestamp</th>\n",
       "      <th>Buyer was maker</th>\n",
       "      <th>Best price match</th>\n",
       "    </tr>\n",
       "    <tr>\n",
       "      <th>LTCBTC Europe/Madrid</th>\n",
       "      <th></th>\n",
       "      <th></th>\n",
       "      <th></th>\n",
       "      <th></th>\n",
       "      <th></th>\n",
       "      <th></th>\n",
       "      <th></th>\n",
       "      <th></th>\n",
       "      <th></th>\n",
       "    </tr>\n",
       "  </thead>\n",
       "  <tbody>\n",
       "    <tr>\n",
       "      <th>2023-05-05 20:01:38.079000+02:00</th>\n",
       "      <td>90740182</td>\n",
       "      <td>0.003007</td>\n",
       "      <td>2.205</td>\n",
       "      <td>1073479749</td>\n",
       "      <td>1073479785</td>\n",
       "      <td>1683309698000000000</td>\n",
       "      <td>1683309698079</td>\n",
       "      <td>True</td>\n",
       "      <td>True</td>\n",
       "    </tr>\n",
       "    <tr>\n",
       "      <th>2023-05-05 20:01:58.897000+02:00</th>\n",
       "      <td>90740183</td>\n",
       "      <td>0.003008</td>\n",
       "      <td>1.391</td>\n",
       "      <td>1073479851</td>\n",
       "      <td>1073479852</td>\n",
       "      <td>1683309718000000000</td>\n",
       "      <td>1683309718897</td>\n",
       "      <td>True</td>\n",
       "      <td>True</td>\n",
       "    </tr>\n",
       "    <tr>\n",
       "      <th>2023-05-05 20:02:14.499000+02:00</th>\n",
       "      <td>90740184</td>\n",
       "      <td>0.003009</td>\n",
       "      <td>2.340</td>\n",
       "      <td>1073479907</td>\n",
       "      <td>1073479048</td>\n",
       "      <td>1683309734000000000</td>\n",
       "      <td>1683309734499</td>\n",
       "      <td>False</td>\n",
       "      <td>True</td>\n",
       "    </tr>\n",
       "    <tr>\n",
       "      <th>2023-05-05 20:02:14.845000+02:00</th>\n",
       "      <td>90740185</td>\n",
       "      <td>0.003008</td>\n",
       "      <td>3.000</td>\n",
       "      <td>1073479893</td>\n",
       "      <td>1073479908</td>\n",
       "      <td>1683309734000000000</td>\n",
       "      <td>1683309734845</td>\n",
       "      <td>True</td>\n",
       "      <td>True</td>\n",
       "    </tr>\n",
       "    <tr>\n",
       "      <th>2023-05-05 20:02:14.851000+02:00</th>\n",
       "      <td>90740186</td>\n",
       "      <td>0.003008</td>\n",
       "      <td>3.000</td>\n",
       "      <td>1073479893</td>\n",
       "      <td>1073479909</td>\n",
       "      <td>1683309734000000000</td>\n",
       "      <td>1683309734851</td>\n",
       "      <td>True</td>\n",
       "      <td>True</td>\n",
       "    </tr>\n",
       "    <tr>\n",
       "      <th>...</th>\n",
       "      <td>...</td>\n",
       "      <td>...</td>\n",
       "      <td>...</td>\n",
       "      <td>...</td>\n",
       "      <td>...</td>\n",
       "      <td>...</td>\n",
       "      <td>...</td>\n",
       "      <td>...</td>\n",
       "      <td>...</td>\n",
       "    </tr>\n",
       "    <tr>\n",
       "      <th>2023-05-05 22:09:48.355000+02:00</th>\n",
       "      <td>90740985</td>\n",
       "      <td>0.003005</td>\n",
       "      <td>0.099</td>\n",
       "      <td>1073500096</td>\n",
       "      <td>1073499987</td>\n",
       "      <td>1683317388000000000</td>\n",
       "      <td>1683317388355</td>\n",
       "      <td>False</td>\n",
       "      <td>True</td>\n",
       "    </tr>\n",
       "    <tr>\n",
       "      <th>2023-05-05 22:09:48.679000+02:00</th>\n",
       "      <td>90740986</td>\n",
       "      <td>0.003005</td>\n",
       "      <td>0.699</td>\n",
       "      <td>1073500097</td>\n",
       "      <td>1073499987</td>\n",
       "      <td>1683317388000000000</td>\n",
       "      <td>1683317388679</td>\n",
       "      <td>False</td>\n",
       "      <td>True</td>\n",
       "    </tr>\n",
       "    <tr>\n",
       "      <th>2023-05-05 22:09:49.641000+02:00</th>\n",
       "      <td>90740987</td>\n",
       "      <td>0.003005</td>\n",
       "      <td>0.035</td>\n",
       "      <td>1073500099</td>\n",
       "      <td>1073500070</td>\n",
       "      <td>1683317389000000000</td>\n",
       "      <td>1683317389641</td>\n",
       "      <td>False</td>\n",
       "      <td>True</td>\n",
       "    </tr>\n",
       "    <tr>\n",
       "      <th>2023-05-05 22:09:49.655000+02:00</th>\n",
       "      <td>90740988</td>\n",
       "      <td>0.003005</td>\n",
       "      <td>6.396</td>\n",
       "      <td>1073500101</td>\n",
       "      <td>1073500070</td>\n",
       "      <td>1683317389000000000</td>\n",
       "      <td>1683317389655</td>\n",
       "      <td>False</td>\n",
       "      <td>True</td>\n",
       "    </tr>\n",
       "    <tr>\n",
       "      <th>2023-05-05 22:09:51.813000+02:00</th>\n",
       "      <td>90740989</td>\n",
       "      <td>0.003005</td>\n",
       "      <td>2.600</td>\n",
       "      <td>1073500114</td>\n",
       "      <td>1073500077</td>\n",
       "      <td>1683317391000000000</td>\n",
       "      <td>1683317391813</td>\n",
       "      <td>False</td>\n",
       "      <td>True</td>\n",
       "    </tr>\n",
       "  </tbody>\n",
       "</table>\n",
       "<p>808 rows × 9 columns</p>\n",
       "</div>"
      ],
      "text/plain": [
       "                                  Trade Id     Price  Quantity  Buyer Order Id  Seller Order Id                 Date      Timestamp  Buyer was maker  Best price match\n",
       "LTCBTC Europe/Madrid                                                                                                                                                  \n",
       "2023-05-05 20:01:38.079000+02:00  90740182  0.003007     2.205      1073479749       1073479785  1683309698000000000  1683309698079             True              True\n",
       "2023-05-05 20:01:58.897000+02:00  90740183  0.003008     1.391      1073479851       1073479852  1683309718000000000  1683309718897             True              True\n",
       "2023-05-05 20:02:14.499000+02:00  90740184  0.003009     2.340      1073479907       1073479048  1683309734000000000  1683309734499            False              True\n",
       "2023-05-05 20:02:14.845000+02:00  90740185  0.003008     3.000      1073479893       1073479908  1683309734000000000  1683309734845             True              True\n",
       "2023-05-05 20:02:14.851000+02:00  90740186  0.003008     3.000      1073479893       1073479909  1683309734000000000  1683309734851             True              True\n",
       "...                                    ...       ...       ...             ...              ...                  ...            ...              ...               ...\n",
       "2023-05-05 22:09:48.355000+02:00  90740985  0.003005     0.099      1073500096       1073499987  1683317388000000000  1683317388355            False              True\n",
       "2023-05-05 22:09:48.679000+02:00  90740986  0.003005     0.699      1073500097       1073499987  1683317388000000000  1683317388679            False              True\n",
       "2023-05-05 22:09:49.641000+02:00  90740987  0.003005     0.035      1073500099       1073500070  1683317389000000000  1683317389641            False              True\n",
       "2023-05-05 22:09:49.655000+02:00  90740988  0.003005     6.396      1073500101       1073500070  1683317389000000000  1683317389655            False              True\n",
       "2023-05-05 22:09:51.813000+02:00  90740989  0.003005     2.600      1073500114       1073500077  1683317391000000000  1683317391813            False              True\n",
       "\n",
       "[808 rows x 9 columns]"
      ]
     },
     "execution_count": 88,
     "metadata": {},
     "output_type": "execute_result"
    }
   ],
   "source": [
    "sym.get_atomic_trades()"
   ]
  },
  {
   "cell_type": "markdown",
   "id": "d68428f9",
   "metadata": {},
   "source": [
    "# Creating your own client mode"
   ]
  },
  {
   "cell_type": "code",
   "execution_count": 89,
   "id": "b83af6c6",
   "metadata": {},
   "outputs": [],
   "source": [
    "redis_conf_klines = {'host': '192.168.89.241', 'port': 6379, 'db': 0, 'decode_responses': True}\n",
    "\n",
    "redisClient_klines = StrictRedis(**redis_conf_klines)"
   ]
  },
  {
   "cell_type": "code",
   "execution_count": 90,
   "id": "77b71c9d",
   "metadata": {
    "pycharm": {
     "name": "#%%\n"
    }
   },
   "outputs": [],
   "source": [
    "keys = redis_fetch.fetch_keys(redisClient=redisClient_klines)"
   ]
  },
  {
   "cell_type": "code",
   "execution_count": 91,
   "id": "f3151d3f",
   "metadata": {
    "pycharm": {
     "name": "#%%\n"
    }
   },
   "outputs": [
    {
     "data": {
      "text/plain": [
       "['compbtc@kline_1m',\n",
       " 'sntbtc@trade',\n",
       " 'idbtc@trade',\n",
       " 'rlcbtc@kline_1m',\n",
       " 'rvnbtc@kline_1m',\n",
       " 'xnobtc@trade',\n",
       " 'pivxbtc@kline_1m',\n",
       " 'qtumbtc@trade',\n",
       " 'cfxbtc@trade',\n",
       " 'psgbtc@trade',\n",
       " 'rarebtc@kline_1m',\n",
       " 'apebtc@kline_1m',\n",
       " 'etcbtc@trade',\n",
       " 'snmbtc@trade',\n",
       " 'ctkbtc@kline_1m']"
      ]
     },
     "execution_count": 91,
     "metadata": {},
     "output_type": "execute_result"
    }
   ],
   "source": [
    "keys = list(keys)\n",
    "keys[:15]"
   ]
  },
  {
   "cell_type": "code",
   "execution_count": 92,
   "id": "ea8aa52e",
   "metadata": {
    "pycharm": {
     "name": "#%%\n"
    }
   },
   "outputs": [],
   "source": [
    "mykey = choice(keys)\n",
    "mykey = 'ltcbtc@kline_1m'"
   ]
  },
  {
   "cell_type": "code",
   "execution_count": 93,
   "id": "93cb8f96",
   "metadata": {
    "pycharm": {
     "name": "#%%\n"
    }
   },
   "outputs": [
    {
     "name": "stdout",
     "output_type": "stream",
     "text": [
      "130\n"
     ]
    },
    {
     "data": {
      "text/plain": [
       "['{\"t\": 1683316560000, \"T\": 1683316619999, \"s\": \"LTCBTC\", \"i\": \"1m\", \"f\": 90740866, \"L\": 90740867, \"o\": \"0.00300200\", \"c\": \"0.00300400\", \"h\": \"0.00300400\", \"l\": \"0.00300200\", \"v\": \"0.95000000\", \"n\": 2, \"x\": true, \"q\": \"0.00285210\", \"V\": \"0.10700000\", \"Q\": \"0.00032142\", \"B\": \"0\"}',\n",
       " '{\"t\": 1683316620000, \"T\": 1683316679999, \"s\": \"LTCBTC\", \"i\": \"1m\", \"f\": 90740868, \"L\": 90740876, \"o\": \"0.00300400\", \"c\": \"0.00300100\", \"h\": \"0.00300400\", \"l\": \"0.00300100\", \"v\": \"13.61200000\", \"n\": 9, \"x\": true, \"q\": \"0.04087793\", \"V\": \"12.59400000\", \"Q\": \"0.03782292\", \"B\": \"0\"}',\n",
       " '{\"t\": 1683316680000, \"T\": 1683316739999, \"s\": \"LTCBTC\", \"i\": \"1m\", \"f\": 90740877, \"L\": 90740878, \"o\": \"0.00300200\", \"c\": \"0.00300200\", \"h\": \"0.00300200\", \"l\": \"0.00300200\", \"v\": \"6.77900000\", \"n\": 2, \"x\": true, \"q\": \"0.02035055\", \"V\": \"6.77900000\", \"Q\": \"0.02035055\", \"B\": \"0\"}',\n",
       " '{\"t\": 1683316740000, \"T\": 1683316799999, \"s\": \"LTCBTC\", \"i\": \"1m\", \"f\": 90740879, \"L\": 90740883, \"o\": \"0.00300200\", \"c\": \"0.00300000\", \"h\": \"0.00300200\", \"l\": \"0.00300000\", \"v\": \"12.73700000\", \"n\": 5, \"x\": true, \"q\": \"0.03823639\", \"V\": \"12.69500000\", \"Q\": \"0.03811039\", \"B\": \"0\"}',\n",
       " '{\"t\": 1683316800000, \"T\": 1683316859999, \"s\": \"LTCBTC\", \"i\": \"1m\", \"f\": 90740884, \"L\": 90740922, \"o\": \"0.00300000\", \"c\": \"0.00300300\", \"h\": \"0.00300300\", \"l\": \"0.00300000\", \"v\": \"216.76900000\", \"n\": 39, \"x\": true, \"q\": \"0.65061899\", \"V\": \"192.08100000\", \"Q\": \"0.57652060\", \"B\": \"0\"}',\n",
       " '{\"t\": 1683316860000, \"T\": 1683316919999, \"s\": \"LTCBTC\", \"i\": \"1m\", \"f\": 90740923, \"L\": 90740931, \"o\": \"0.00300300\", \"c\": \"0.00300400\", \"h\": \"0.00300400\", \"l\": \"0.00300300\", \"v\": \"22.15800000\", \"n\": 9, \"x\": true, \"q\": \"0.06654147\", \"V\": \"1.44800000\", \"Q\": \"0.00434936\", \"B\": \"0\"}',\n",
       " '{\"t\": 1683316920000, \"T\": 1683316979999, \"s\": \"LTCBTC\", \"i\": \"1m\", \"f\": 90740932, \"L\": 90740938, \"o\": \"0.00300400\", \"c\": \"0.00300400\", \"h\": \"0.00300400\", \"l\": \"0.00300400\", \"v\": \"11.53200000\", \"n\": 7, \"x\": true, \"q\": \"0.03464211\", \"V\": \"1.71100000\", \"Q\": \"0.00513984\", \"B\": \"0\"}',\n",
       " '{\"t\": 1683316980000, \"T\": 1683317039999, \"s\": \"LTCBTC\", \"i\": \"1m\", \"f\": 90740939, \"L\": 90740959, \"o\": \"0.00300400\", \"c\": \"0.00300500\", \"h\": \"0.00300600\", \"l\": \"0.00300400\", \"v\": \"51.50800000\", \"n\": 21, \"x\": true, \"q\": \"0.15476238\", \"V\": \"4.62100000\", \"Q\": \"0.01388612\", \"B\": \"0\"}',\n",
       " '{\"t\": 1683317040000, \"T\": 1683317099999, \"s\": \"LTCBTC\", \"i\": \"1m\", \"f\": 90740960, \"L\": 90740964, \"o\": \"0.00300500\", \"c\": \"0.00300600\", \"h\": \"0.00300600\", \"l\": \"0.00300500\", \"v\": \"2.60300000\", \"n\": 5, \"x\": true, \"q\": \"0.00782448\", \"V\": \"2.60300000\", \"Q\": \"0.00782448\", \"B\": \"0\"}',\n",
       " '{\"t\": 1683317100000, \"T\": 1683317159999, \"s\": \"LTCBTC\", \"i\": \"1m\", \"f\": 90740965, \"L\": 90740968, \"o\": \"0.00300500\", \"c\": \"0.00300400\", \"h\": \"0.00300600\", \"l\": \"0.00300400\", \"v\": \"3.50900000\", \"n\": 4, \"x\": true, \"q\": \"0.01054484\", \"V\": \"3.20800000\", \"Q\": \"0.00964064\", \"B\": \"0\"}',\n",
       " '{\"t\": 1683317160000, \"T\": 1683317219999, \"s\": \"LTCBTC\", \"i\": \"1m\", \"f\": 90740969, \"L\": 90740972, \"o\": \"0.00300500\", \"c\": \"0.00300500\", \"h\": \"0.00300500\", \"l\": \"0.00300300\", \"v\": \"2.32400000\", \"n\": 4, \"x\": true, \"q\": \"0.00698039\", \"V\": \"1.08900000\", \"Q\": \"0.00327160\", \"B\": \"0\"}',\n",
       " '{\"t\": 1683317220000, \"T\": 1683317279999, \"s\": \"LTCBTC\", \"i\": \"1m\", \"f\": 90740973, \"L\": 90740978, \"o\": \"0.00300500\", \"c\": \"0.00300400\", \"h\": \"0.00300500\", \"l\": \"0.00300400\", \"v\": \"23.84700000\", \"n\": 6, \"x\": true, \"q\": \"0.07164439\", \"V\": \"10.61200000\", \"Q\": \"0.03188645\", \"B\": \"0\"}',\n",
       " '{\"t\": 1683317280000, \"T\": 1683317339999, \"s\": \"LTCBTC\", \"i\": \"1m\", \"f\": 90740979, \"L\": 90740980, \"o\": \"0.00300500\", \"c\": \"0.00300500\", \"h\": \"0.00300500\", \"l\": \"0.00300500\", \"v\": \"1.83300000\", \"n\": 2, \"x\": true, \"q\": \"0.00550816\", \"V\": \"0.54200000\", \"Q\": \"0.00162871\", \"B\": \"0\"}',\n",
       " '{\"t\": 1683317340000, \"T\": 1683317399999, \"s\": \"LTCBTC\", \"i\": \"1m\", \"f\": 90740981, \"L\": 90740989, \"o\": \"0.00300500\", \"c\": \"0.00300500\", \"h\": \"0.00300500\", \"l\": \"0.00300500\", \"v\": \"16.70300000\", \"n\": 9, \"x\": true, \"q\": \"0.05019248\", \"V\": \"16.70300000\", \"Q\": \"0.05019248\", \"B\": \"0\"}',\n",
       " '{\"t\": 1683317400000, \"T\": 1683317459999, \"s\": \"LTCBTC\", \"i\": \"1m\", \"f\": 90740990, \"L\": 90740994, \"o\": \"0.00300500\", \"c\": \"0.00300600\", \"h\": \"0.00300600\", \"l\": \"0.00300500\", \"v\": \"16.58800000\", \"n\": 5, \"x\": true, \"q\": \"0.04986334\", \"V\": \"16.41200000\", \"Q\": \"0.04933446\", \"B\": \"0\"}']"
      ]
     },
     "execution_count": 93,
     "metadata": {},
     "output_type": "execute_result"
    }
   ],
   "source": [
    "response = redis_fetch.fetch_zset_range(redisClient=redisClient_klines, key=mykey)\n",
    "print(len(response))\n",
    "response[-15:]"
   ]
  },
  {
   "cell_type": "code",
   "execution_count": 94,
   "id": "2ac81dfe",
   "metadata": {
    "pycharm": {
     "name": "#%%\n"
    }
   },
   "outputs": [],
   "source": [
    "# %timeit redis_fetch.fetch_zset_range(redisClient=redisClient, key=mykey)\n",
    "# 1.6 ms ± 24.9 µs per loop (mean ± std. dev. of 7 runs, 1000 loops each)"
   ]
  },
  {
   "cell_type": "code",
   "execution_count": 95,
   "id": "33f238b0",
   "metadata": {
    "pycharm": {
     "name": "#%%\n"
    }
   },
   "outputs": [
    {
     "data": {
      "text/html": [
       "<div>\n",
       "<style scoped>\n",
       "    .dataframe tbody tr th:only-of-type {\n",
       "        vertical-align: middle;\n",
       "    }\n",
       "\n",
       "    .dataframe tbody tr th {\n",
       "        vertical-align: top;\n",
       "    }\n",
       "\n",
       "    .dataframe thead th {\n",
       "        text-align: right;\n",
       "    }\n",
       "</style>\n",
       "<table border=\"1\" class=\"dataframe\">\n",
       "  <thead>\n",
       "    <tr style=\"text-align: right;\">\n",
       "      <th></th>\n",
       "      <th>Open time</th>\n",
       "      <th>Open</th>\n",
       "      <th>High</th>\n",
       "      <th>Low</th>\n",
       "      <th>Close</th>\n",
       "      <th>Volume</th>\n",
       "      <th>Close time</th>\n",
       "      <th>Quote volume</th>\n",
       "      <th>Trades</th>\n",
       "      <th>Taker buy base volume</th>\n",
       "      <th>Taker buy quote volume</th>\n",
       "      <th>Ignore</th>\n",
       "      <th>Open timestamp</th>\n",
       "      <th>Close timestamp</th>\n",
       "    </tr>\n",
       "    <tr>\n",
       "      <th>LTCBTC 1m Europe/madrid</th>\n",
       "      <th></th>\n",
       "      <th></th>\n",
       "      <th></th>\n",
       "      <th></th>\n",
       "      <th></th>\n",
       "      <th></th>\n",
       "      <th></th>\n",
       "      <th></th>\n",
       "      <th></th>\n",
       "      <th></th>\n",
       "      <th></th>\n",
       "      <th></th>\n",
       "      <th></th>\n",
       "      <th></th>\n",
       "    </tr>\n",
       "  </thead>\n",
       "  <tbody>\n",
       "    <tr>\n",
       "      <th>2023-05-05 20:01:00+02:00</th>\n",
       "      <td>2023-05-05 20:01:00+02:00</td>\n",
       "      <td>0.003007</td>\n",
       "      <td>0.003008</td>\n",
       "      <td>0.003007</td>\n",
       "      <td>0.003008</td>\n",
       "      <td>3.596</td>\n",
       "      <td>2023-05-05 20:01:59+02:00</td>\n",
       "      <td>0.010815</td>\n",
       "      <td>2</td>\n",
       "      <td>0.000</td>\n",
       "      <td>0.000000</td>\n",
       "      <td>0</td>\n",
       "      <td>1683309660000</td>\n",
       "      <td>1683309719999</td>\n",
       "    </tr>\n",
       "    <tr>\n",
       "      <th>2023-05-05 20:02:00+02:00</th>\n",
       "      <td>2023-05-05 20:02:00+02:00</td>\n",
       "      <td>0.003009</td>\n",
       "      <td>0.003009</td>\n",
       "      <td>0.003007</td>\n",
       "      <td>0.003007</td>\n",
       "      <td>53.482</td>\n",
       "      <td>2023-05-05 20:02:59+02:00</td>\n",
       "      <td>0.160831</td>\n",
       "      <td>7</td>\n",
       "      <td>2.340</td>\n",
       "      <td>0.007041</td>\n",
       "      <td>0</td>\n",
       "      <td>1683309720000</td>\n",
       "      <td>1683309779999</td>\n",
       "    </tr>\n",
       "    <tr>\n",
       "      <th>2023-05-05 20:03:00+02:00</th>\n",
       "      <td>2023-05-05 20:03:00+02:00</td>\n",
       "      <td>0.003008</td>\n",
       "      <td>0.003008</td>\n",
       "      <td>0.003007</td>\n",
       "      <td>0.003007</td>\n",
       "      <td>5.448</td>\n",
       "      <td>2023-05-05 20:03:59+02:00</td>\n",
       "      <td>0.016384</td>\n",
       "      <td>5</td>\n",
       "      <td>5.448</td>\n",
       "      <td>0.016384</td>\n",
       "      <td>0</td>\n",
       "      <td>1683309780000</td>\n",
       "      <td>1683309839999</td>\n",
       "    </tr>\n",
       "    <tr>\n",
       "      <th>2023-05-05 20:04:00+02:00</th>\n",
       "      <td>2023-05-05 20:04:00+02:00</td>\n",
       "      <td>0.003007</td>\n",
       "      <td>0.003007</td>\n",
       "      <td>0.003007</td>\n",
       "      <td>0.003007</td>\n",
       "      <td>0.000</td>\n",
       "      <td>2023-05-05 20:04:59+02:00</td>\n",
       "      <td>0.000000</td>\n",
       "      <td>0</td>\n",
       "      <td>0.000</td>\n",
       "      <td>0.000000</td>\n",
       "      <td>0</td>\n",
       "      <td>1683309840000</td>\n",
       "      <td>1683309899999</td>\n",
       "    </tr>\n",
       "    <tr>\n",
       "      <th>2023-05-05 20:05:00+02:00</th>\n",
       "      <td>2023-05-05 20:05:00+02:00</td>\n",
       "      <td>0.003009</td>\n",
       "      <td>0.003009</td>\n",
       "      <td>0.003009</td>\n",
       "      <td>0.003009</td>\n",
       "      <td>1.550</td>\n",
       "      <td>2023-05-05 20:05:59+02:00</td>\n",
       "      <td>0.004664</td>\n",
       "      <td>3</td>\n",
       "      <td>1.550</td>\n",
       "      <td>0.004664</td>\n",
       "      <td>0</td>\n",
       "      <td>1683309900000</td>\n",
       "      <td>1683309959999</td>\n",
       "    </tr>\n",
       "    <tr>\n",
       "      <th>...</th>\n",
       "      <td>...</td>\n",
       "      <td>...</td>\n",
       "      <td>...</td>\n",
       "      <td>...</td>\n",
       "      <td>...</td>\n",
       "      <td>...</td>\n",
       "      <td>...</td>\n",
       "      <td>...</td>\n",
       "      <td>...</td>\n",
       "      <td>...</td>\n",
       "      <td>...</td>\n",
       "      <td>...</td>\n",
       "      <td>...</td>\n",
       "      <td>...</td>\n",
       "    </tr>\n",
       "    <tr>\n",
       "      <th>2023-05-05 22:06:00+02:00</th>\n",
       "      <td>2023-05-05 22:06:00+02:00</td>\n",
       "      <td>0.003005</td>\n",
       "      <td>0.003005</td>\n",
       "      <td>0.003003</td>\n",
       "      <td>0.003005</td>\n",
       "      <td>2.324</td>\n",
       "      <td>2023-05-05 22:06:59+02:00</td>\n",
       "      <td>0.006980</td>\n",
       "      <td>4</td>\n",
       "      <td>1.089</td>\n",
       "      <td>0.003272</td>\n",
       "      <td>0</td>\n",
       "      <td>1683317160000</td>\n",
       "      <td>1683317219999</td>\n",
       "    </tr>\n",
       "    <tr>\n",
       "      <th>2023-05-05 22:07:00+02:00</th>\n",
       "      <td>2023-05-05 22:07:00+02:00</td>\n",
       "      <td>0.003005</td>\n",
       "      <td>0.003005</td>\n",
       "      <td>0.003004</td>\n",
       "      <td>0.003004</td>\n",
       "      <td>23.847</td>\n",
       "      <td>2023-05-05 22:07:59+02:00</td>\n",
       "      <td>0.071644</td>\n",
       "      <td>6</td>\n",
       "      <td>10.612</td>\n",
       "      <td>0.031886</td>\n",
       "      <td>0</td>\n",
       "      <td>1683317220000</td>\n",
       "      <td>1683317279999</td>\n",
       "    </tr>\n",
       "    <tr>\n",
       "      <th>2023-05-05 22:08:00+02:00</th>\n",
       "      <td>2023-05-05 22:08:00+02:00</td>\n",
       "      <td>0.003005</td>\n",
       "      <td>0.003005</td>\n",
       "      <td>0.003005</td>\n",
       "      <td>0.003005</td>\n",
       "      <td>1.833</td>\n",
       "      <td>2023-05-05 22:08:59+02:00</td>\n",
       "      <td>0.005508</td>\n",
       "      <td>2</td>\n",
       "      <td>0.542</td>\n",
       "      <td>0.001629</td>\n",
       "      <td>0</td>\n",
       "      <td>1683317280000</td>\n",
       "      <td>1683317339999</td>\n",
       "    </tr>\n",
       "    <tr>\n",
       "      <th>2023-05-05 22:09:00+02:00</th>\n",
       "      <td>2023-05-05 22:09:00+02:00</td>\n",
       "      <td>0.003005</td>\n",
       "      <td>0.003005</td>\n",
       "      <td>0.003005</td>\n",
       "      <td>0.003005</td>\n",
       "      <td>16.703</td>\n",
       "      <td>2023-05-05 22:09:59+02:00</td>\n",
       "      <td>0.050192</td>\n",
       "      <td>9</td>\n",
       "      <td>16.703</td>\n",
       "      <td>0.050192</td>\n",
       "      <td>0</td>\n",
       "      <td>1683317340000</td>\n",
       "      <td>1683317399999</td>\n",
       "    </tr>\n",
       "    <tr>\n",
       "      <th>2023-05-05 22:10:00+02:00</th>\n",
       "      <td>2023-05-05 22:10:00+02:00</td>\n",
       "      <td>0.003005</td>\n",
       "      <td>0.003006</td>\n",
       "      <td>0.003005</td>\n",
       "      <td>0.003006</td>\n",
       "      <td>16.588</td>\n",
       "      <td>2023-05-05 22:10:59+02:00</td>\n",
       "      <td>0.049863</td>\n",
       "      <td>5</td>\n",
       "      <td>16.412</td>\n",
       "      <td>0.049334</td>\n",
       "      <td>0</td>\n",
       "      <td>1683317400000</td>\n",
       "      <td>1683317459999</td>\n",
       "    </tr>\n",
       "  </tbody>\n",
       "</table>\n",
       "<p>130 rows × 14 columns</p>\n",
       "</div>"
      ],
      "text/plain": [
       "                                          Open time      Open      High       Low     Close  Volume                Close time  Quote volume  Trades  Taker buy base volume  Taker buy quote volume  Ignore  Open timestamp  Close timestamp\n",
       "LTCBTC 1m Europe/madrid                                                                                                                                                                                                                    \n",
       "2023-05-05 20:01:00+02:00 2023-05-05 20:01:00+02:00  0.003007  0.003008  0.003007  0.003008   3.596 2023-05-05 20:01:59+02:00      0.010815       2                  0.000                0.000000       0   1683309660000    1683309719999\n",
       "2023-05-05 20:02:00+02:00 2023-05-05 20:02:00+02:00  0.003009  0.003009  0.003007  0.003007  53.482 2023-05-05 20:02:59+02:00      0.160831       7                  2.340                0.007041       0   1683309720000    1683309779999\n",
       "2023-05-05 20:03:00+02:00 2023-05-05 20:03:00+02:00  0.003008  0.003008  0.003007  0.003007   5.448 2023-05-05 20:03:59+02:00      0.016384       5                  5.448                0.016384       0   1683309780000    1683309839999\n",
       "2023-05-05 20:04:00+02:00 2023-05-05 20:04:00+02:00  0.003007  0.003007  0.003007  0.003007   0.000 2023-05-05 20:04:59+02:00      0.000000       0                  0.000                0.000000       0   1683309840000    1683309899999\n",
       "2023-05-05 20:05:00+02:00 2023-05-05 20:05:00+02:00  0.003009  0.003009  0.003009  0.003009   1.550 2023-05-05 20:05:59+02:00      0.004664       3                  1.550                0.004664       0   1683309900000    1683309959999\n",
       "...                                             ...       ...       ...       ...       ...     ...                       ...           ...     ...                    ...                     ...     ...             ...              ...\n",
       "2023-05-05 22:06:00+02:00 2023-05-05 22:06:00+02:00  0.003005  0.003005  0.003003  0.003005   2.324 2023-05-05 22:06:59+02:00      0.006980       4                  1.089                0.003272       0   1683317160000    1683317219999\n",
       "2023-05-05 22:07:00+02:00 2023-05-05 22:07:00+02:00  0.003005  0.003005  0.003004  0.003004  23.847 2023-05-05 22:07:59+02:00      0.071644       6                 10.612                0.031886       0   1683317220000    1683317279999\n",
       "2023-05-05 22:08:00+02:00 2023-05-05 22:08:00+02:00  0.003005  0.003005  0.003005  0.003005   1.833 2023-05-05 22:08:59+02:00      0.005508       2                  0.542                0.001629       0   1683317280000    1683317339999\n",
       "2023-05-05 22:09:00+02:00 2023-05-05 22:09:00+02:00  0.003005  0.003005  0.003005  0.003005  16.703 2023-05-05 22:09:59+02:00      0.050192       9                 16.703                0.050192       0   1683317340000    1683317399999\n",
       "2023-05-05 22:10:00+02:00 2023-05-05 22:10:00+02:00  0.003005  0.003006  0.003005  0.003006  16.588 2023-05-05 22:10:59+02:00      0.049863       5                 16.412                0.049334       0   1683317400000    1683317459999\n",
       "\n",
       "[130 rows x 14 columns]"
      ]
     },
     "execution_count": 95,
     "metadata": {},
     "output_type": "execute_result"
    }
   ],
   "source": [
    "df = redis_fetch.fetch_set_and_parse(redisClient=redisClient_klines, key=mykey)\n",
    "df"
   ]
  },
  {
   "cell_type": "code",
   "execution_count": 96,
   "id": "3cb98b2a",
   "metadata": {},
   "outputs": [],
   "source": [
    "# verify not missing entries\n",
    "verification = df['Open timestamp'].diff().value_counts()\n",
    "assert len(verification) == 1"
   ]
  },
  {
   "cell_type": "code",
   "execution_count": 97,
   "id": "aef0008a",
   "metadata": {
    "pycharm": {
     "name": "#%%\n"
    }
   },
   "outputs": [],
   "source": [
    "# %%timeit\n",
    "# data = redis_fetch.fetch_set_and_parse(redisClient=redisClient, key=mykey)\n",
    "# 20.6 ms ± 412 µs per loop (mean ± std. dev. of 7 runs, 10 loops each)"
   ]
  },
  {
   "cell_type": "code",
   "execution_count": 98,
   "id": "995a6804",
   "metadata": {
    "scrolled": false
   },
   "outputs": [
    {
     "name": "stderr",
     "output_type": "stream",
     "text": [
      "2023-05-05\t 22:11:54     INFO Empty trades, please request using: get_agg_trades() method: Example: my_symbol.get_agg_trades()\n"
     ]
    }
   ],
   "source": [
    "sym.plot_trades_scatter()"
   ]
  },
  {
   "cell_type": "code",
   "execution_count": 99,
   "id": "5d694615",
   "metadata": {},
   "outputs": [
    {
     "name": "stderr",
     "output_type": "stream",
     "text": [
      "2023-05-05\t 22:11:55     INFO Empty trades, please request using: get_agg_trades() method: Example: my_symbol.get_agg_trades()\n"
     ]
    }
   ],
   "source": [
    "sym.plot_market_profile(from_agg_trades=True)"
   ]
  },
  {
   "cell_type": "code",
   "execution_count": 100,
   "id": "47daf562",
   "metadata": {},
   "outputs": [
    {
     "data": {
      "application/vnd.plotly.v1+json": {
       "config": {
        "plotlyServerURL": "https://plot.ly"
       },
       "data": [
        {
         "name": "Buyer was maker: False",
         "type": "bar",
         "x": [
          "(0.003, 0.0030001]",
          "(0.0030001, 0.0030003]",
          "(0.0030003, 0.0030004]",
          "(0.0030004, 0.0030005]",
          "(0.0030005, 0.0030006]",
          "(0.0030006, 0.0030008]",
          "(0.0030008, 0.0030009]",
          "(0.0030009, 0.003001]",
          "(0.003001, 0.0030012]",
          "(0.0030012, 0.0030013]",
          "(0.0030013, 0.0030014]",
          "(0.0030014, 0.0030016]",
          "(0.0030016, 0.0030017]",
          "(0.0030017, 0.0030018]",
          "(0.0030018, 0.003002]",
          "(0.003002, 0.0030021]",
          "(0.0030021, 0.0030022]",
          "(0.0030022, 0.0030023]",
          "(0.0030023, 0.0030025]",
          "(0.0030025, 0.0030026]",
          "(0.0030026, 0.0030027]",
          "(0.0030027, 0.0030029]",
          "(0.0030029, 0.003003]",
          "(0.003003, 0.0030031]",
          "(0.0030031, 0.0030033]",
          "(0.0030033, 0.0030034]",
          "(0.0030034, 0.0030035]",
          "(0.0030035, 0.0030036]",
          "(0.0030036, 0.0030038]",
          "(0.0030038, 0.0030039]",
          "(0.0030039, 0.003004]",
          "(0.003004, 0.0030042]",
          "(0.0030042, 0.0030043]",
          "(0.0030043, 0.0030044]",
          "(0.0030044, 0.0030046]",
          "(0.0030046, 0.0030047]",
          "(0.0030047, 0.0030048]",
          "(0.0030048, 0.0030049]",
          "(0.0030049, 0.0030051]",
          "(0.0030051, 0.0030052]",
          "(0.0030052, 0.0030053]",
          "(0.0030053, 0.0030055]",
          "(0.0030055, 0.0030056]",
          "(0.0030056, 0.0030057]",
          "(0.0030057, 0.0030058]",
          "(0.0030058, 0.003006]",
          "(0.003006, 0.0030061]",
          "(0.0030061, 0.0030062]",
          "(0.0030062, 0.0030064]",
          "(0.0030064, 0.0030065]",
          "(0.0030065, 0.0030066]",
          "(0.0030066, 0.0030068]",
          "(0.0030068, 0.0030069]",
          "(0.0030069, 0.003007]",
          "(0.003007, 0.0030072]",
          "(0.0030072, 0.0030073]",
          "(0.0030073, 0.0030074]",
          "(0.0030074, 0.0030075]",
          "(0.0030075, 0.0030077]",
          "(0.0030077, 0.0030078]",
          "(0.0030078, 0.0030079]",
          "(0.0030079, 0.0030081]",
          "(0.0030081, 0.0030082]",
          "(0.0030082, 0.0030083]",
          "(0.0030083, 0.0030085]",
          "(0.0030085, 0.0030086]",
          "(0.0030086, 0.0030087]",
          "(0.0030087, 0.0030088]",
          "(0.0030088, 0.003009]",
          "(0.003009, 0.0030091]",
          "(0.0030091, 0.0030092]",
          "(0.0030092, 0.0030094]",
          "(0.0030094, 0.0030095]",
          "(0.0030095, 0.0030096]",
          "(0.0030096, 0.0030098]",
          "(0.0030098, 0.0030099]",
          "(0.0030099, 0.00301]",
          "(0.00301, 0.0030101]",
          "(0.0030101, 0.0030103]",
          "(0.0030103, 0.0030104]",
          "(0.0030104, 0.0030105]",
          "(0.0030105, 0.0030107]",
          "(0.0030107, 0.0030108]",
          "(0.0030108, 0.0030109]",
          "(0.0030109, 0.003011]",
          "(0.003011, 0.0030112]",
          "(0.0030112, 0.0030113]",
          "(0.0030113, 0.0030114]",
          "(0.0030114, 0.0030116]",
          "(0.0030116, 0.0030117]",
          "(0.0030117, 0.0030118]",
          "(0.0030118, 0.003012]",
          "(0.003012, 0.0030121]",
          "(0.0030121, 0.0030122]",
          "(0.0030122, 0.0030124]",
          "(0.0030124, 0.0030125]",
          "(0.0030125, 0.0030126]",
          "(0.0030126, 0.0030127]",
          "(0.0030127, 0.0030129]",
          "(0.0030129, 0.003013]"
         ],
         "y": [
          0,
          0,
          0,
          0,
          0,
          0,
          0,
          118.259,
          0,
          0,
          0,
          0,
          0,
          0,
          0,
          83.31700000000001,
          0,
          0,
          0,
          0,
          0,
          0,
          0,
          107.373,
          0,
          0,
          0,
          0,
          0,
          0,
          36.287,
          0,
          0,
          0,
          0,
          0,
          0,
          0,
          128.773,
          0,
          0,
          0,
          0,
          0,
          0,
          0,
          99.526,
          0,
          0,
          0,
          0,
          0,
          0,
          135.673,
          0,
          0,
          0,
          0,
          0,
          0,
          0,
          116.537,
          0,
          0,
          0,
          0,
          0,
          0,
          0,
          502.926,
          0,
          0,
          0,
          0,
          0,
          0,
          61.76,
          0,
          0,
          0,
          0,
          0,
          0,
          0,
          23.283,
          0,
          0,
          0,
          0,
          0,
          0,
          0,
          1.6969999999999998,
          0,
          0,
          0,
          0,
          0,
          0,
          5.734
         ]
        },
        {
         "name": "Buyer was maker: True",
         "type": "bar",
         "x": [
          "(0.003, 0.0030001]",
          "(0.0030001, 0.0030003]",
          "(0.0030003, 0.0030004]",
          "(0.0030004, 0.0030005]",
          "(0.0030005, 0.0030006]",
          "(0.0030006, 0.0030008]",
          "(0.0030008, 0.0030009]",
          "(0.0030009, 0.003001]",
          "(0.003001, 0.0030012]",
          "(0.0030012, 0.0030013]",
          "(0.0030013, 0.0030014]",
          "(0.0030014, 0.0030016]",
          "(0.0030016, 0.0030017]",
          "(0.0030017, 0.0030018]",
          "(0.0030018, 0.003002]",
          "(0.003002, 0.0030021]",
          "(0.0030021, 0.0030022]",
          "(0.0030022, 0.0030023]",
          "(0.0030023, 0.0030025]",
          "(0.0030025, 0.0030026]",
          "(0.0030026, 0.0030027]",
          "(0.0030027, 0.0030029]",
          "(0.0030029, 0.003003]",
          "(0.003003, 0.0030031]",
          "(0.0030031, 0.0030033]",
          "(0.0030033, 0.0030034]",
          "(0.0030034, 0.0030035]",
          "(0.0030035, 0.0030036]",
          "(0.0030036, 0.0030038]",
          "(0.0030038, 0.0030039]",
          "(0.0030039, 0.003004]",
          "(0.003004, 0.0030042]",
          "(0.0030042, 0.0030043]",
          "(0.0030043, 0.0030044]",
          "(0.0030044, 0.0030046]",
          "(0.0030046, 0.0030047]",
          "(0.0030047, 0.0030048]",
          "(0.0030048, 0.0030049]",
          "(0.0030049, 0.0030051]",
          "(0.0030051, 0.0030052]",
          "(0.0030052, 0.0030053]",
          "(0.0030053, 0.0030055]",
          "(0.0030055, 0.0030056]",
          "(0.0030056, 0.0030057]",
          "(0.0030057, 0.0030058]",
          "(0.0030058, 0.003006]",
          "(0.003006, 0.0030061]",
          "(0.0030061, 0.0030062]",
          "(0.0030062, 0.0030064]",
          "(0.0030064, 0.0030065]",
          "(0.0030065, 0.0030066]",
          "(0.0030066, 0.0030068]",
          "(0.0030068, 0.0030069]",
          "(0.0030069, 0.003007]",
          "(0.003007, 0.0030072]",
          "(0.0030072, 0.0030073]",
          "(0.0030073, 0.0030074]",
          "(0.0030074, 0.0030075]",
          "(0.0030075, 0.0030077]",
          "(0.0030077, 0.0030078]",
          "(0.0030078, 0.0030079]",
          "(0.0030079, 0.0030081]",
          "(0.0030081, 0.0030082]",
          "(0.0030082, 0.0030083]",
          "(0.0030083, 0.0030085]",
          "(0.0030085, 0.0030086]",
          "(0.0030086, 0.0030087]",
          "(0.0030087, 0.0030088]",
          "(0.0030088, 0.003009]",
          "(0.003009, 0.0030091]",
          "(0.0030091, 0.0030092]",
          "(0.0030092, 0.0030094]",
          "(0.0030094, 0.0030095]",
          "(0.0030095, 0.0030096]",
          "(0.0030096, 0.0030098]",
          "(0.0030098, 0.0030099]",
          "(0.0030099, 0.00301]",
          "(0.00301, 0.0030101]",
          "(0.0030101, 0.0030103]",
          "(0.0030103, 0.0030104]",
          "(0.0030104, 0.0030105]",
          "(0.0030105, 0.0030107]",
          "(0.0030107, 0.0030108]",
          "(0.0030108, 0.0030109]",
          "(0.0030109, 0.003011]",
          "(0.003011, 0.0030112]",
          "(0.0030112, 0.0030113]",
          "(0.0030113, 0.0030114]",
          "(0.0030114, 0.0030116]",
          "(0.0030116, 0.0030117]",
          "(0.0030117, 0.0030118]",
          "(0.0030118, 0.003012]",
          "(0.003012, 0.0030121]",
          "(0.0030121, 0.0030122]",
          "(0.0030122, 0.0030124]",
          "(0.0030124, 0.0030125]",
          "(0.0030125, 0.0030126]",
          "(0.0030126, 0.0030127]",
          "(0.0030127, 0.0030129]",
          "(0.0030129, 0.003013]"
         ],
         "y": [
          0,
          0,
          0,
          0,
          0,
          0,
          0,
          25.437,
          0,
          0,
          0,
          0,
          0,
          0,
          0,
          58.99,
          0,
          0,
          0,
          0,
          0,
          0,
          0,
          78.539,
          0,
          0,
          0,
          0,
          0,
          0,
          108.865,
          0,
          0,
          0,
          0,
          0,
          0,
          0,
          61.313,
          0,
          0,
          0,
          0,
          0,
          0,
          0,
          21.681,
          0,
          0,
          0,
          0,
          0,
          0,
          110.48700000000001,
          0,
          0,
          0,
          0,
          0,
          0,
          0,
          275.941,
          0,
          0,
          0,
          0,
          0,
          0,
          0,
          172.447,
          0,
          0,
          0,
          0,
          0,
          0,
          107.513,
          0,
          0,
          0,
          0,
          0,
          0,
          0,
          201.571,
          0,
          0,
          0,
          0,
          0,
          0,
          0,
          5.615,
          0,
          0,
          0,
          0,
          0,
          0,
          0
         ]
        }
       ],
       "layout": {
        "barmode": "stack",
        "height": 900,
        "template": {
         "data": {
          "bar": [
           {
            "error_x": {
             "color": "#2a3f5f"
            },
            "error_y": {
             "color": "#2a3f5f"
            },
            "marker": {
             "line": {
              "color": "#E5ECF6",
              "width": 0.5
             },
             "pattern": {
              "fillmode": "overlay",
              "size": 10,
              "solidity": 0.2
             }
            },
            "type": "bar"
           }
          ],
          "barpolar": [
           {
            "marker": {
             "line": {
              "color": "#E5ECF6",
              "width": 0.5
             },
             "pattern": {
              "fillmode": "overlay",
              "size": 10,
              "solidity": 0.2
             }
            },
            "type": "barpolar"
           }
          ],
          "carpet": [
           {
            "aaxis": {
             "endlinecolor": "#2a3f5f",
             "gridcolor": "white",
             "linecolor": "white",
             "minorgridcolor": "white",
             "startlinecolor": "#2a3f5f"
            },
            "baxis": {
             "endlinecolor": "#2a3f5f",
             "gridcolor": "white",
             "linecolor": "white",
             "minorgridcolor": "white",
             "startlinecolor": "#2a3f5f"
            },
            "type": "carpet"
           }
          ],
          "choropleth": [
           {
            "colorbar": {
             "outlinewidth": 0,
             "ticks": ""
            },
            "type": "choropleth"
           }
          ],
          "contour": [
           {
            "colorbar": {
             "outlinewidth": 0,
             "ticks": ""
            },
            "colorscale": [
             [
              0,
              "#0d0887"
             ],
             [
              0.1111111111111111,
              "#46039f"
             ],
             [
              0.2222222222222222,
              "#7201a8"
             ],
             [
              0.3333333333333333,
              "#9c179e"
             ],
             [
              0.4444444444444444,
              "#bd3786"
             ],
             [
              0.5555555555555556,
              "#d8576b"
             ],
             [
              0.6666666666666666,
              "#ed7953"
             ],
             [
              0.7777777777777778,
              "#fb9f3a"
             ],
             [
              0.8888888888888888,
              "#fdca26"
             ],
             [
              1,
              "#f0f921"
             ]
            ],
            "type": "contour"
           }
          ],
          "contourcarpet": [
           {
            "colorbar": {
             "outlinewidth": 0,
             "ticks": ""
            },
            "type": "contourcarpet"
           }
          ],
          "heatmap": [
           {
            "colorbar": {
             "outlinewidth": 0,
             "ticks": ""
            },
            "colorscale": [
             [
              0,
              "#0d0887"
             ],
             [
              0.1111111111111111,
              "#46039f"
             ],
             [
              0.2222222222222222,
              "#7201a8"
             ],
             [
              0.3333333333333333,
              "#9c179e"
             ],
             [
              0.4444444444444444,
              "#bd3786"
             ],
             [
              0.5555555555555556,
              "#d8576b"
             ],
             [
              0.6666666666666666,
              "#ed7953"
             ],
             [
              0.7777777777777778,
              "#fb9f3a"
             ],
             [
              0.8888888888888888,
              "#fdca26"
             ],
             [
              1,
              "#f0f921"
             ]
            ],
            "type": "heatmap"
           }
          ],
          "heatmapgl": [
           {
            "colorbar": {
             "outlinewidth": 0,
             "ticks": ""
            },
            "colorscale": [
             [
              0,
              "#0d0887"
             ],
             [
              0.1111111111111111,
              "#46039f"
             ],
             [
              0.2222222222222222,
              "#7201a8"
             ],
             [
              0.3333333333333333,
              "#9c179e"
             ],
             [
              0.4444444444444444,
              "#bd3786"
             ],
             [
              0.5555555555555556,
              "#d8576b"
             ],
             [
              0.6666666666666666,
              "#ed7953"
             ],
             [
              0.7777777777777778,
              "#fb9f3a"
             ],
             [
              0.8888888888888888,
              "#fdca26"
             ],
             [
              1,
              "#f0f921"
             ]
            ],
            "type": "heatmapgl"
           }
          ],
          "histogram": [
           {
            "marker": {
             "pattern": {
              "fillmode": "overlay",
              "size": 10,
              "solidity": 0.2
             }
            },
            "type": "histogram"
           }
          ],
          "histogram2d": [
           {
            "colorbar": {
             "outlinewidth": 0,
             "ticks": ""
            },
            "colorscale": [
             [
              0,
              "#0d0887"
             ],
             [
              0.1111111111111111,
              "#46039f"
             ],
             [
              0.2222222222222222,
              "#7201a8"
             ],
             [
              0.3333333333333333,
              "#9c179e"
             ],
             [
              0.4444444444444444,
              "#bd3786"
             ],
             [
              0.5555555555555556,
              "#d8576b"
             ],
             [
              0.6666666666666666,
              "#ed7953"
             ],
             [
              0.7777777777777778,
              "#fb9f3a"
             ],
             [
              0.8888888888888888,
              "#fdca26"
             ],
             [
              1,
              "#f0f921"
             ]
            ],
            "type": "histogram2d"
           }
          ],
          "histogram2dcontour": [
           {
            "colorbar": {
             "outlinewidth": 0,
             "ticks": ""
            },
            "colorscale": [
             [
              0,
              "#0d0887"
             ],
             [
              0.1111111111111111,
              "#46039f"
             ],
             [
              0.2222222222222222,
              "#7201a8"
             ],
             [
              0.3333333333333333,
              "#9c179e"
             ],
             [
              0.4444444444444444,
              "#bd3786"
             ],
             [
              0.5555555555555556,
              "#d8576b"
             ],
             [
              0.6666666666666666,
              "#ed7953"
             ],
             [
              0.7777777777777778,
              "#fb9f3a"
             ],
             [
              0.8888888888888888,
              "#fdca26"
             ],
             [
              1,
              "#f0f921"
             ]
            ],
            "type": "histogram2dcontour"
           }
          ],
          "mesh3d": [
           {
            "colorbar": {
             "outlinewidth": 0,
             "ticks": ""
            },
            "type": "mesh3d"
           }
          ],
          "parcoords": [
           {
            "line": {
             "colorbar": {
              "outlinewidth": 0,
              "ticks": ""
             }
            },
            "type": "parcoords"
           }
          ],
          "pie": [
           {
            "automargin": true,
            "type": "pie"
           }
          ],
          "scatter": [
           {
            "fillpattern": {
             "fillmode": "overlay",
             "size": 10,
             "solidity": 0.2
            },
            "type": "scatter"
           }
          ],
          "scatter3d": [
           {
            "line": {
             "colorbar": {
              "outlinewidth": 0,
              "ticks": ""
             }
            },
            "marker": {
             "colorbar": {
              "outlinewidth": 0,
              "ticks": ""
             }
            },
            "type": "scatter3d"
           }
          ],
          "scattercarpet": [
           {
            "marker": {
             "colorbar": {
              "outlinewidth": 0,
              "ticks": ""
             }
            },
            "type": "scattercarpet"
           }
          ],
          "scattergeo": [
           {
            "marker": {
             "colorbar": {
              "outlinewidth": 0,
              "ticks": ""
             }
            },
            "type": "scattergeo"
           }
          ],
          "scattergl": [
           {
            "marker": {
             "colorbar": {
              "outlinewidth": 0,
              "ticks": ""
             }
            },
            "type": "scattergl"
           }
          ],
          "scattermapbox": [
           {
            "marker": {
             "colorbar": {
              "outlinewidth": 0,
              "ticks": ""
             }
            },
            "type": "scattermapbox"
           }
          ],
          "scatterpolar": [
           {
            "marker": {
             "colorbar": {
              "outlinewidth": 0,
              "ticks": ""
             }
            },
            "type": "scatterpolar"
           }
          ],
          "scatterpolargl": [
           {
            "marker": {
             "colorbar": {
              "outlinewidth": 0,
              "ticks": ""
             }
            },
            "type": "scatterpolargl"
           }
          ],
          "scatterternary": [
           {
            "marker": {
             "colorbar": {
              "outlinewidth": 0,
              "ticks": ""
             }
            },
            "type": "scatterternary"
           }
          ],
          "surface": [
           {
            "colorbar": {
             "outlinewidth": 0,
             "ticks": ""
            },
            "colorscale": [
             [
              0,
              "#0d0887"
             ],
             [
              0.1111111111111111,
              "#46039f"
             ],
             [
              0.2222222222222222,
              "#7201a8"
             ],
             [
              0.3333333333333333,
              "#9c179e"
             ],
             [
              0.4444444444444444,
              "#bd3786"
             ],
             [
              0.5555555555555556,
              "#d8576b"
             ],
             [
              0.6666666666666666,
              "#ed7953"
             ],
             [
              0.7777777777777778,
              "#fb9f3a"
             ],
             [
              0.8888888888888888,
              "#fdca26"
             ],
             [
              1,
              "#f0f921"
             ]
            ],
            "type": "surface"
           }
          ],
          "table": [
           {
            "cells": {
             "fill": {
              "color": "#EBF0F8"
             },
             "line": {
              "color": "white"
             }
            },
            "header": {
             "fill": {
              "color": "#C8D4E3"
             },
             "line": {
              "color": "white"
             }
            },
            "type": "table"
           }
          ]
         },
         "layout": {
          "annotationdefaults": {
           "arrowcolor": "#2a3f5f",
           "arrowhead": 0,
           "arrowwidth": 1
          },
          "autotypenumbers": "strict",
          "coloraxis": {
           "colorbar": {
            "outlinewidth": 0,
            "ticks": ""
           }
          },
          "colorscale": {
           "diverging": [
            [
             0,
             "#8e0152"
            ],
            [
             0.1,
             "#c51b7d"
            ],
            [
             0.2,
             "#de77ae"
            ],
            [
             0.3,
             "#f1b6da"
            ],
            [
             0.4,
             "#fde0ef"
            ],
            [
             0.5,
             "#f7f7f7"
            ],
            [
             0.6,
             "#e6f5d0"
            ],
            [
             0.7,
             "#b8e186"
            ],
            [
             0.8,
             "#7fbc41"
            ],
            [
             0.9,
             "#4d9221"
            ],
            [
             1,
             "#276419"
            ]
           ],
           "sequential": [
            [
             0,
             "#0d0887"
            ],
            [
             0.1111111111111111,
             "#46039f"
            ],
            [
             0.2222222222222222,
             "#7201a8"
            ],
            [
             0.3333333333333333,
             "#9c179e"
            ],
            [
             0.4444444444444444,
             "#bd3786"
            ],
            [
             0.5555555555555556,
             "#d8576b"
            ],
            [
             0.6666666666666666,
             "#ed7953"
            ],
            [
             0.7777777777777778,
             "#fb9f3a"
            ],
            [
             0.8888888888888888,
             "#fdca26"
            ],
            [
             1,
             "#f0f921"
            ]
           ],
           "sequentialminus": [
            [
             0,
             "#0d0887"
            ],
            [
             0.1111111111111111,
             "#46039f"
            ],
            [
             0.2222222222222222,
             "#7201a8"
            ],
            [
             0.3333333333333333,
             "#9c179e"
            ],
            [
             0.4444444444444444,
             "#bd3786"
            ],
            [
             0.5555555555555556,
             "#d8576b"
            ],
            [
             0.6666666666666666,
             "#ed7953"
            ],
            [
             0.7777777777777778,
             "#fb9f3a"
            ],
            [
             0.8888888888888888,
             "#fdca26"
            ],
            [
             1,
             "#f0f921"
            ]
           ]
          },
          "colorway": [
           "#636efa",
           "#EF553B",
           "#00cc96",
           "#ab63fa",
           "#FFA15A",
           "#19d3f3",
           "#FF6692",
           "#B6E880",
           "#FF97FF",
           "#FECB52"
          ],
          "font": {
           "color": "#2a3f5f"
          },
          "geo": {
           "bgcolor": "white",
           "lakecolor": "white",
           "landcolor": "#E5ECF6",
           "showlakes": true,
           "showland": true,
           "subunitcolor": "white"
          },
          "hoverlabel": {
           "align": "left"
          },
          "hovermode": "closest",
          "mapbox": {
           "style": "light"
          },
          "paper_bgcolor": "white",
          "plot_bgcolor": "#E5ECF6",
          "polar": {
           "angularaxis": {
            "gridcolor": "white",
            "linecolor": "white",
            "ticks": ""
           },
           "bgcolor": "#E5ECF6",
           "radialaxis": {
            "gridcolor": "white",
            "linecolor": "white",
            "ticks": ""
           }
          },
          "scene": {
           "xaxis": {
            "backgroundcolor": "#E5ECF6",
            "gridcolor": "white",
            "gridwidth": 2,
            "linecolor": "white",
            "showbackground": true,
            "ticks": "",
            "zerolinecolor": "white"
           },
           "yaxis": {
            "backgroundcolor": "#E5ECF6",
            "gridcolor": "white",
            "gridwidth": 2,
            "linecolor": "white",
            "showbackground": true,
            "ticks": "",
            "zerolinecolor": "white"
           },
           "zaxis": {
            "backgroundcolor": "#E5ECF6",
            "gridcolor": "white",
            "gridwidth": 2,
            "linecolor": "white",
            "showbackground": true,
            "ticks": "",
            "zerolinecolor": "white"
           }
          },
          "shapedefaults": {
           "line": {
            "color": "#2a3f5f"
           }
          },
          "ternary": {
           "aaxis": {
            "gridcolor": "white",
            "linecolor": "white",
            "ticks": ""
           },
           "baxis": {
            "gridcolor": "white",
            "linecolor": "white",
            "ticks": ""
           },
           "bgcolor": "#E5ECF6",
           "caxis": {
            "gridcolor": "white",
            "linecolor": "white",
            "ticks": ""
           }
          },
          "title": {
           "x": 0.05
          },
          "xaxis": {
           "automargin": true,
           "gridcolor": "white",
           "linecolor": "white",
           "ticks": "",
           "title": {
            "standoff": 15
           },
           "zerolinecolor": "white",
           "zerolinewidth": 2
          },
          "yaxis": {
           "automargin": true,
           "gridcolor": "white",
           "linecolor": "white",
           "ticks": "",
           "title": {
            "standoff": 15
           },
           "zerolinecolor": "white",
           "zerolinewidth": 2
          }
         }
        },
        "title": {
         "text": "Market Profile Atomic LTCBTC"
        },
        "yaxis": {
         "title": {
          "text": "Buy takers VS Buy makers"
         }
        }
       }
      },
      "text/html": [
       "<div>                            <div id=\"7f9b5aa6-8909-4795-9e16-2dd8424acc60\" class=\"plotly-graph-div\" style=\"height:900px; width:100%;\"></div>            <script type=\"text/javascript\">                require([\"plotly\"], function(Plotly) {                    window.PLOTLYENV=window.PLOTLYENV || {};                                    if (document.getElementById(\"7f9b5aa6-8909-4795-9e16-2dd8424acc60\")) {                    Plotly.newPlot(                        \"7f9b5aa6-8909-4795-9e16-2dd8424acc60\",                        [{\"name\":\"Buyer was maker: False\",\"x\":[\"(0.003, 0.0030001]\",\"(0.0030001, 0.0030003]\",\"(0.0030003, 0.0030004]\",\"(0.0030004, 0.0030005]\",\"(0.0030005, 0.0030006]\",\"(0.0030006, 0.0030008]\",\"(0.0030008, 0.0030009]\",\"(0.0030009, 0.003001]\",\"(0.003001, 0.0030012]\",\"(0.0030012, 0.0030013]\",\"(0.0030013, 0.0030014]\",\"(0.0030014, 0.0030016]\",\"(0.0030016, 0.0030017]\",\"(0.0030017, 0.0030018]\",\"(0.0030018, 0.003002]\",\"(0.003002, 0.0030021]\",\"(0.0030021, 0.0030022]\",\"(0.0030022, 0.0030023]\",\"(0.0030023, 0.0030025]\",\"(0.0030025, 0.0030026]\",\"(0.0030026, 0.0030027]\",\"(0.0030027, 0.0030029]\",\"(0.0030029, 0.003003]\",\"(0.003003, 0.0030031]\",\"(0.0030031, 0.0030033]\",\"(0.0030033, 0.0030034]\",\"(0.0030034, 0.0030035]\",\"(0.0030035, 0.0030036]\",\"(0.0030036, 0.0030038]\",\"(0.0030038, 0.0030039]\",\"(0.0030039, 0.003004]\",\"(0.003004, 0.0030042]\",\"(0.0030042, 0.0030043]\",\"(0.0030043, 0.0030044]\",\"(0.0030044, 0.0030046]\",\"(0.0030046, 0.0030047]\",\"(0.0030047, 0.0030048]\",\"(0.0030048, 0.0030049]\",\"(0.0030049, 0.0030051]\",\"(0.0030051, 0.0030052]\",\"(0.0030052, 0.0030053]\",\"(0.0030053, 0.0030055]\",\"(0.0030055, 0.0030056]\",\"(0.0030056, 0.0030057]\",\"(0.0030057, 0.0030058]\",\"(0.0030058, 0.003006]\",\"(0.003006, 0.0030061]\",\"(0.0030061, 0.0030062]\",\"(0.0030062, 0.0030064]\",\"(0.0030064, 0.0030065]\",\"(0.0030065, 0.0030066]\",\"(0.0030066, 0.0030068]\",\"(0.0030068, 0.0030069]\",\"(0.0030069, 0.003007]\",\"(0.003007, 0.0030072]\",\"(0.0030072, 0.0030073]\",\"(0.0030073, 0.0030074]\",\"(0.0030074, 0.0030075]\",\"(0.0030075, 0.0030077]\",\"(0.0030077, 0.0030078]\",\"(0.0030078, 0.0030079]\",\"(0.0030079, 0.0030081]\",\"(0.0030081, 0.0030082]\",\"(0.0030082, 0.0030083]\",\"(0.0030083, 0.0030085]\",\"(0.0030085, 0.0030086]\",\"(0.0030086, 0.0030087]\",\"(0.0030087, 0.0030088]\",\"(0.0030088, 0.003009]\",\"(0.003009, 0.0030091]\",\"(0.0030091, 0.0030092]\",\"(0.0030092, 0.0030094]\",\"(0.0030094, 0.0030095]\",\"(0.0030095, 0.0030096]\",\"(0.0030096, 0.0030098]\",\"(0.0030098, 0.0030099]\",\"(0.0030099, 0.00301]\",\"(0.00301, 0.0030101]\",\"(0.0030101, 0.0030103]\",\"(0.0030103, 0.0030104]\",\"(0.0030104, 0.0030105]\",\"(0.0030105, 0.0030107]\",\"(0.0030107, 0.0030108]\",\"(0.0030108, 0.0030109]\",\"(0.0030109, 0.003011]\",\"(0.003011, 0.0030112]\",\"(0.0030112, 0.0030113]\",\"(0.0030113, 0.0030114]\",\"(0.0030114, 0.0030116]\",\"(0.0030116, 0.0030117]\",\"(0.0030117, 0.0030118]\",\"(0.0030118, 0.003012]\",\"(0.003012, 0.0030121]\",\"(0.0030121, 0.0030122]\",\"(0.0030122, 0.0030124]\",\"(0.0030124, 0.0030125]\",\"(0.0030125, 0.0030126]\",\"(0.0030126, 0.0030127]\",\"(0.0030127, 0.0030129]\",\"(0.0030129, 0.003013]\"],\"y\":[0.0,0.0,0.0,0.0,0.0,0.0,0.0,118.259,0.0,0.0,0.0,0.0,0.0,0.0,0.0,83.31700000000001,0.0,0.0,0.0,0.0,0.0,0.0,0.0,107.373,0.0,0.0,0.0,0.0,0.0,0.0,36.287,0.0,0.0,0.0,0.0,0.0,0.0,0.0,128.773,0.0,0.0,0.0,0.0,0.0,0.0,0.0,99.526,0.0,0.0,0.0,0.0,0.0,0.0,135.673,0.0,0.0,0.0,0.0,0.0,0.0,0.0,116.537,0.0,0.0,0.0,0.0,0.0,0.0,0.0,502.926,0.0,0.0,0.0,0.0,0.0,0.0,61.76,0.0,0.0,0.0,0.0,0.0,0.0,0.0,23.283,0.0,0.0,0.0,0.0,0.0,0.0,0.0,1.6969999999999998,0.0,0.0,0.0,0.0,0.0,0.0,5.734],\"type\":\"bar\"},{\"name\":\"Buyer was maker: True\",\"x\":[\"(0.003, 0.0030001]\",\"(0.0030001, 0.0030003]\",\"(0.0030003, 0.0030004]\",\"(0.0030004, 0.0030005]\",\"(0.0030005, 0.0030006]\",\"(0.0030006, 0.0030008]\",\"(0.0030008, 0.0030009]\",\"(0.0030009, 0.003001]\",\"(0.003001, 0.0030012]\",\"(0.0030012, 0.0030013]\",\"(0.0030013, 0.0030014]\",\"(0.0030014, 0.0030016]\",\"(0.0030016, 0.0030017]\",\"(0.0030017, 0.0030018]\",\"(0.0030018, 0.003002]\",\"(0.003002, 0.0030021]\",\"(0.0030021, 0.0030022]\",\"(0.0030022, 0.0030023]\",\"(0.0030023, 0.0030025]\",\"(0.0030025, 0.0030026]\",\"(0.0030026, 0.0030027]\",\"(0.0030027, 0.0030029]\",\"(0.0030029, 0.003003]\",\"(0.003003, 0.0030031]\",\"(0.0030031, 0.0030033]\",\"(0.0030033, 0.0030034]\",\"(0.0030034, 0.0030035]\",\"(0.0030035, 0.0030036]\",\"(0.0030036, 0.0030038]\",\"(0.0030038, 0.0030039]\",\"(0.0030039, 0.003004]\",\"(0.003004, 0.0030042]\",\"(0.0030042, 0.0030043]\",\"(0.0030043, 0.0030044]\",\"(0.0030044, 0.0030046]\",\"(0.0030046, 0.0030047]\",\"(0.0030047, 0.0030048]\",\"(0.0030048, 0.0030049]\",\"(0.0030049, 0.0030051]\",\"(0.0030051, 0.0030052]\",\"(0.0030052, 0.0030053]\",\"(0.0030053, 0.0030055]\",\"(0.0030055, 0.0030056]\",\"(0.0030056, 0.0030057]\",\"(0.0030057, 0.0030058]\",\"(0.0030058, 0.003006]\",\"(0.003006, 0.0030061]\",\"(0.0030061, 0.0030062]\",\"(0.0030062, 0.0030064]\",\"(0.0030064, 0.0030065]\",\"(0.0030065, 0.0030066]\",\"(0.0030066, 0.0030068]\",\"(0.0030068, 0.0030069]\",\"(0.0030069, 0.003007]\",\"(0.003007, 0.0030072]\",\"(0.0030072, 0.0030073]\",\"(0.0030073, 0.0030074]\",\"(0.0030074, 0.0030075]\",\"(0.0030075, 0.0030077]\",\"(0.0030077, 0.0030078]\",\"(0.0030078, 0.0030079]\",\"(0.0030079, 0.0030081]\",\"(0.0030081, 0.0030082]\",\"(0.0030082, 0.0030083]\",\"(0.0030083, 0.0030085]\",\"(0.0030085, 0.0030086]\",\"(0.0030086, 0.0030087]\",\"(0.0030087, 0.0030088]\",\"(0.0030088, 0.003009]\",\"(0.003009, 0.0030091]\",\"(0.0030091, 0.0030092]\",\"(0.0030092, 0.0030094]\",\"(0.0030094, 0.0030095]\",\"(0.0030095, 0.0030096]\",\"(0.0030096, 0.0030098]\",\"(0.0030098, 0.0030099]\",\"(0.0030099, 0.00301]\",\"(0.00301, 0.0030101]\",\"(0.0030101, 0.0030103]\",\"(0.0030103, 0.0030104]\",\"(0.0030104, 0.0030105]\",\"(0.0030105, 0.0030107]\",\"(0.0030107, 0.0030108]\",\"(0.0030108, 0.0030109]\",\"(0.0030109, 0.003011]\",\"(0.003011, 0.0030112]\",\"(0.0030112, 0.0030113]\",\"(0.0030113, 0.0030114]\",\"(0.0030114, 0.0030116]\",\"(0.0030116, 0.0030117]\",\"(0.0030117, 0.0030118]\",\"(0.0030118, 0.003012]\",\"(0.003012, 0.0030121]\",\"(0.0030121, 0.0030122]\",\"(0.0030122, 0.0030124]\",\"(0.0030124, 0.0030125]\",\"(0.0030125, 0.0030126]\",\"(0.0030126, 0.0030127]\",\"(0.0030127, 0.0030129]\",\"(0.0030129, 0.003013]\"],\"y\":[0.0,0.0,0.0,0.0,0.0,0.0,0.0,25.437,0.0,0.0,0.0,0.0,0.0,0.0,0.0,58.99,0.0,0.0,0.0,0.0,0.0,0.0,0.0,78.539,0.0,0.0,0.0,0.0,0.0,0.0,108.865,0.0,0.0,0.0,0.0,0.0,0.0,0.0,61.313,0.0,0.0,0.0,0.0,0.0,0.0,0.0,21.681,0.0,0.0,0.0,0.0,0.0,0.0,110.48700000000001,0.0,0.0,0.0,0.0,0.0,0.0,0.0,275.941,0.0,0.0,0.0,0.0,0.0,0.0,0.0,172.447,0.0,0.0,0.0,0.0,0.0,0.0,107.513,0.0,0.0,0.0,0.0,0.0,0.0,0.0,201.571,0.0,0.0,0.0,0.0,0.0,0.0,0.0,5.615,0.0,0.0,0.0,0.0,0.0,0.0,0.0],\"type\":\"bar\"}],                        {\"template\":{\"data\":{\"histogram2dcontour\":[{\"type\":\"histogram2dcontour\",\"colorbar\":{\"outlinewidth\":0,\"ticks\":\"\"},\"colorscale\":[[0.0,\"#0d0887\"],[0.1111111111111111,\"#46039f\"],[0.2222222222222222,\"#7201a8\"],[0.3333333333333333,\"#9c179e\"],[0.4444444444444444,\"#bd3786\"],[0.5555555555555556,\"#d8576b\"],[0.6666666666666666,\"#ed7953\"],[0.7777777777777778,\"#fb9f3a\"],[0.8888888888888888,\"#fdca26\"],[1.0,\"#f0f921\"]]}],\"choropleth\":[{\"type\":\"choropleth\",\"colorbar\":{\"outlinewidth\":0,\"ticks\":\"\"}}],\"histogram2d\":[{\"type\":\"histogram2d\",\"colorbar\":{\"outlinewidth\":0,\"ticks\":\"\"},\"colorscale\":[[0.0,\"#0d0887\"],[0.1111111111111111,\"#46039f\"],[0.2222222222222222,\"#7201a8\"],[0.3333333333333333,\"#9c179e\"],[0.4444444444444444,\"#bd3786\"],[0.5555555555555556,\"#d8576b\"],[0.6666666666666666,\"#ed7953\"],[0.7777777777777778,\"#fb9f3a\"],[0.8888888888888888,\"#fdca26\"],[1.0,\"#f0f921\"]]}],\"heatmap\":[{\"type\":\"heatmap\",\"colorbar\":{\"outlinewidth\":0,\"ticks\":\"\"},\"colorscale\":[[0.0,\"#0d0887\"],[0.1111111111111111,\"#46039f\"],[0.2222222222222222,\"#7201a8\"],[0.3333333333333333,\"#9c179e\"],[0.4444444444444444,\"#bd3786\"],[0.5555555555555556,\"#d8576b\"],[0.6666666666666666,\"#ed7953\"],[0.7777777777777778,\"#fb9f3a\"],[0.8888888888888888,\"#fdca26\"],[1.0,\"#f0f921\"]]}],\"heatmapgl\":[{\"type\":\"heatmapgl\",\"colorbar\":{\"outlinewidth\":0,\"ticks\":\"\"},\"colorscale\":[[0.0,\"#0d0887\"],[0.1111111111111111,\"#46039f\"],[0.2222222222222222,\"#7201a8\"],[0.3333333333333333,\"#9c179e\"],[0.4444444444444444,\"#bd3786\"],[0.5555555555555556,\"#d8576b\"],[0.6666666666666666,\"#ed7953\"],[0.7777777777777778,\"#fb9f3a\"],[0.8888888888888888,\"#fdca26\"],[1.0,\"#f0f921\"]]}],\"contourcarpet\":[{\"type\":\"contourcarpet\",\"colorbar\":{\"outlinewidth\":0,\"ticks\":\"\"}}],\"contour\":[{\"type\":\"contour\",\"colorbar\":{\"outlinewidth\":0,\"ticks\":\"\"},\"colorscale\":[[0.0,\"#0d0887\"],[0.1111111111111111,\"#46039f\"],[0.2222222222222222,\"#7201a8\"],[0.3333333333333333,\"#9c179e\"],[0.4444444444444444,\"#bd3786\"],[0.5555555555555556,\"#d8576b\"],[0.6666666666666666,\"#ed7953\"],[0.7777777777777778,\"#fb9f3a\"],[0.8888888888888888,\"#fdca26\"],[1.0,\"#f0f921\"]]}],\"surface\":[{\"type\":\"surface\",\"colorbar\":{\"outlinewidth\":0,\"ticks\":\"\"},\"colorscale\":[[0.0,\"#0d0887\"],[0.1111111111111111,\"#46039f\"],[0.2222222222222222,\"#7201a8\"],[0.3333333333333333,\"#9c179e\"],[0.4444444444444444,\"#bd3786\"],[0.5555555555555556,\"#d8576b\"],[0.6666666666666666,\"#ed7953\"],[0.7777777777777778,\"#fb9f3a\"],[0.8888888888888888,\"#fdca26\"],[1.0,\"#f0f921\"]]}],\"mesh3d\":[{\"type\":\"mesh3d\",\"colorbar\":{\"outlinewidth\":0,\"ticks\":\"\"}}],\"scatter\":[{\"fillpattern\":{\"fillmode\":\"overlay\",\"size\":10,\"solidity\":0.2},\"type\":\"scatter\"}],\"parcoords\":[{\"type\":\"parcoords\",\"line\":{\"colorbar\":{\"outlinewidth\":0,\"ticks\":\"\"}}}],\"scatterpolargl\":[{\"type\":\"scatterpolargl\",\"marker\":{\"colorbar\":{\"outlinewidth\":0,\"ticks\":\"\"}}}],\"bar\":[{\"error_x\":{\"color\":\"#2a3f5f\"},\"error_y\":{\"color\":\"#2a3f5f\"},\"marker\":{\"line\":{\"color\":\"#E5ECF6\",\"width\":0.5},\"pattern\":{\"fillmode\":\"overlay\",\"size\":10,\"solidity\":0.2}},\"type\":\"bar\"}],\"scattergeo\":[{\"type\":\"scattergeo\",\"marker\":{\"colorbar\":{\"outlinewidth\":0,\"ticks\":\"\"}}}],\"scatterpolar\":[{\"type\":\"scatterpolar\",\"marker\":{\"colorbar\":{\"outlinewidth\":0,\"ticks\":\"\"}}}],\"histogram\":[{\"marker\":{\"pattern\":{\"fillmode\":\"overlay\",\"size\":10,\"solidity\":0.2}},\"type\":\"histogram\"}],\"scattergl\":[{\"type\":\"scattergl\",\"marker\":{\"colorbar\":{\"outlinewidth\":0,\"ticks\":\"\"}}}],\"scatter3d\":[{\"type\":\"scatter3d\",\"line\":{\"colorbar\":{\"outlinewidth\":0,\"ticks\":\"\"}},\"marker\":{\"colorbar\":{\"outlinewidth\":0,\"ticks\":\"\"}}}],\"scattermapbox\":[{\"type\":\"scattermapbox\",\"marker\":{\"colorbar\":{\"outlinewidth\":0,\"ticks\":\"\"}}}],\"scatterternary\":[{\"type\":\"scatterternary\",\"marker\":{\"colorbar\":{\"outlinewidth\":0,\"ticks\":\"\"}}}],\"scattercarpet\":[{\"type\":\"scattercarpet\",\"marker\":{\"colorbar\":{\"outlinewidth\":0,\"ticks\":\"\"}}}],\"carpet\":[{\"aaxis\":{\"endlinecolor\":\"#2a3f5f\",\"gridcolor\":\"white\",\"linecolor\":\"white\",\"minorgridcolor\":\"white\",\"startlinecolor\":\"#2a3f5f\"},\"baxis\":{\"endlinecolor\":\"#2a3f5f\",\"gridcolor\":\"white\",\"linecolor\":\"white\",\"minorgridcolor\":\"white\",\"startlinecolor\":\"#2a3f5f\"},\"type\":\"carpet\"}],\"table\":[{\"cells\":{\"fill\":{\"color\":\"#EBF0F8\"},\"line\":{\"color\":\"white\"}},\"header\":{\"fill\":{\"color\":\"#C8D4E3\"},\"line\":{\"color\":\"white\"}},\"type\":\"table\"}],\"barpolar\":[{\"marker\":{\"line\":{\"color\":\"#E5ECF6\",\"width\":0.5},\"pattern\":{\"fillmode\":\"overlay\",\"size\":10,\"solidity\":0.2}},\"type\":\"barpolar\"}],\"pie\":[{\"automargin\":true,\"type\":\"pie\"}]},\"layout\":{\"autotypenumbers\":\"strict\",\"colorway\":[\"#636efa\",\"#EF553B\",\"#00cc96\",\"#ab63fa\",\"#FFA15A\",\"#19d3f3\",\"#FF6692\",\"#B6E880\",\"#FF97FF\",\"#FECB52\"],\"font\":{\"color\":\"#2a3f5f\"},\"hovermode\":\"closest\",\"hoverlabel\":{\"align\":\"left\"},\"paper_bgcolor\":\"white\",\"plot_bgcolor\":\"#E5ECF6\",\"polar\":{\"bgcolor\":\"#E5ECF6\",\"angularaxis\":{\"gridcolor\":\"white\",\"linecolor\":\"white\",\"ticks\":\"\"},\"radialaxis\":{\"gridcolor\":\"white\",\"linecolor\":\"white\",\"ticks\":\"\"}},\"ternary\":{\"bgcolor\":\"#E5ECF6\",\"aaxis\":{\"gridcolor\":\"white\",\"linecolor\":\"white\",\"ticks\":\"\"},\"baxis\":{\"gridcolor\":\"white\",\"linecolor\":\"white\",\"ticks\":\"\"},\"caxis\":{\"gridcolor\":\"white\",\"linecolor\":\"white\",\"ticks\":\"\"}},\"coloraxis\":{\"colorbar\":{\"outlinewidth\":0,\"ticks\":\"\"}},\"colorscale\":{\"sequential\":[[0.0,\"#0d0887\"],[0.1111111111111111,\"#46039f\"],[0.2222222222222222,\"#7201a8\"],[0.3333333333333333,\"#9c179e\"],[0.4444444444444444,\"#bd3786\"],[0.5555555555555556,\"#d8576b\"],[0.6666666666666666,\"#ed7953\"],[0.7777777777777778,\"#fb9f3a\"],[0.8888888888888888,\"#fdca26\"],[1.0,\"#f0f921\"]],\"sequentialminus\":[[0.0,\"#0d0887\"],[0.1111111111111111,\"#46039f\"],[0.2222222222222222,\"#7201a8\"],[0.3333333333333333,\"#9c179e\"],[0.4444444444444444,\"#bd3786\"],[0.5555555555555556,\"#d8576b\"],[0.6666666666666666,\"#ed7953\"],[0.7777777777777778,\"#fb9f3a\"],[0.8888888888888888,\"#fdca26\"],[1.0,\"#f0f921\"]],\"diverging\":[[0,\"#8e0152\"],[0.1,\"#c51b7d\"],[0.2,\"#de77ae\"],[0.3,\"#f1b6da\"],[0.4,\"#fde0ef\"],[0.5,\"#f7f7f7\"],[0.6,\"#e6f5d0\"],[0.7,\"#b8e186\"],[0.8,\"#7fbc41\"],[0.9,\"#4d9221\"],[1,\"#276419\"]]},\"xaxis\":{\"gridcolor\":\"white\",\"linecolor\":\"white\",\"ticks\":\"\",\"title\":{\"standoff\":15},\"zerolinecolor\":\"white\",\"automargin\":true,\"zerolinewidth\":2},\"yaxis\":{\"gridcolor\":\"white\",\"linecolor\":\"white\",\"ticks\":\"\",\"title\":{\"standoff\":15},\"zerolinecolor\":\"white\",\"automargin\":true,\"zerolinewidth\":2},\"scene\":{\"xaxis\":{\"backgroundcolor\":\"#E5ECF6\",\"gridcolor\":\"white\",\"linecolor\":\"white\",\"showbackground\":true,\"ticks\":\"\",\"zerolinecolor\":\"white\",\"gridwidth\":2},\"yaxis\":{\"backgroundcolor\":\"#E5ECF6\",\"gridcolor\":\"white\",\"linecolor\":\"white\",\"showbackground\":true,\"ticks\":\"\",\"zerolinecolor\":\"white\",\"gridwidth\":2},\"zaxis\":{\"backgroundcolor\":\"#E5ECF6\",\"gridcolor\":\"white\",\"linecolor\":\"white\",\"showbackground\":true,\"ticks\":\"\",\"zerolinecolor\":\"white\",\"gridwidth\":2}},\"shapedefaults\":{\"line\":{\"color\":\"#2a3f5f\"}},\"annotationdefaults\":{\"arrowcolor\":\"#2a3f5f\",\"arrowhead\":0,\"arrowwidth\":1},\"geo\":{\"bgcolor\":\"white\",\"landcolor\":\"#E5ECF6\",\"subunitcolor\":\"white\",\"showland\":true,\"showlakes\":true,\"lakecolor\":\"white\"},\"title\":{\"x\":0.05},\"mapbox\":{\"style\":\"light\"}}},\"barmode\":\"stack\",\"title\":{\"text\":\"Market Profile Atomic LTCBTC\"},\"height\":900,\"yaxis\":{\"title\":{\"text\":\"Buy takers VS Buy makers\"}}},                        {\"responsive\": true}                    ).then(function(){\n",
       "                            \n",
       "var gd = document.getElementById('7f9b5aa6-8909-4795-9e16-2dd8424acc60');\n",
       "var x = new MutationObserver(function (mutations, observer) {{\n",
       "        var display = window.getComputedStyle(gd).display;\n",
       "        if (!display || display === 'none') {{\n",
       "            console.log([gd, 'removed!']);\n",
       "            Plotly.purge(gd);\n",
       "            observer.disconnect();\n",
       "        }}\n",
       "}});\n",
       "\n",
       "// Listen for the removal of the full notebook cells\n",
       "var notebookContainer = gd.closest('#notebook-container');\n",
       "if (notebookContainer) {{\n",
       "    x.observe(notebookContainer, {childList: true});\n",
       "}}\n",
       "\n",
       "// Listen for the clearing of the current output cell\n",
       "var outputEl = gd.closest('.output');\n",
       "if (outputEl) {{\n",
       "    x.observe(outputEl, {childList: true});\n",
       "}}\n",
       "\n",
       "                        })                };                });            </script>        </div>"
      ]
     },
     "metadata": {},
     "output_type": "display_data"
    }
   ],
   "source": [
    "sym.plot_market_profile(from_atomic_trades=True)"
   ]
  },
  {
   "cell_type": "markdown",
   "id": "99222f52",
   "metadata": {},
   "source": [
    "# Thank you"
   ]
  }
 ],
 "metadata": {
  "kernelspec": {
   "display_name": "Python 3 (ipykernel)",
   "language": "python",
   "name": "python3"
  },
  "language_info": {
   "codemirror_mode": {
    "name": "ipython",
    "version": 3
   },
   "file_extension": ".py",
   "mimetype": "text/x-python",
   "name": "python",
   "nbconvert_exporter": "python",
   "pygments_lexer": "ipython3",
   "version": "3.11.2"
  }
 },
 "nbformat": 4,
 "nbformat_minor": 5
}
