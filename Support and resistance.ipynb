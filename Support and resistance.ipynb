{
 "cells": [
  {
   "cell_type": "code",
   "execution_count": 1,
   "id": "e3c66a49",
   "metadata": {},
   "outputs": [
    {
     "data": {
      "text/html": [
       "<style>.container { width:100% !important; }</style>"
      ],
      "text/plain": [
       "<IPython.core.display.HTML object>"
      ]
     },
     "metadata": {},
     "output_type": "display_data"
    }
   ],
   "source": [
    "from IPython.display import display, HTML\n",
    "\n",
    "display(HTML(\"<style>.container { width:100% !important; }</style>\"))"
   ]
  },
  {
   "cell_type": "code",
   "execution_count": 2,
   "id": "5f202f06",
   "metadata": {},
   "outputs": [],
   "source": [
    "from binpan import binpan\n",
    "from binpan import handlers\n",
    "\n",
    "from matplotlib import pyplot as plt\n",
    "import matplotlib.ticker as mpticker"
   ]
  },
  {
   "cell_type": "markdown",
   "id": "bc0d42ce",
   "metadata": {},
   "source": [
    "# This book is in progress"
   ]
  },
  {
   "cell_type": "code",
   "execution_count": 3,
   "id": "54eb5072",
   "metadata": {},
   "outputs": [
    {
     "name": "stdout",
     "output_type": "stream",
     "text": [
      "Python 3.11.2\n"
     ]
    }
   ],
   "source": [
    "!python -V"
   ]
  },
  {
   "cell_type": "code",
   "execution_count": 4,
   "id": "aa0fd0c8",
   "metadata": {},
   "outputs": [
    {
     "data": {
      "text/plain": [
       "'0.4.11'"
      ]
     },
     "execution_count": 4,
     "metadata": {},
     "output_type": "execute_result"
    }
   ],
   "source": [
    "binpan.__version__"
   ]
  },
  {
   "cell_type": "code",
   "execution_count": 5,
   "id": "1b4f1a8e",
   "metadata": {},
   "outputs": [],
   "source": [
    "sym = binpan.Symbol(symbol='ltcbtc', tick_interval='1m', time_zone='Europe/Madrid', from_redis=True, from_redis_agg_trades=True, from_redis_atomic_trades=True, limit = 1000)"
   ]
  },
  {
   "cell_type": "code",
   "execution_count": 6,
   "id": "481b3246",
   "metadata": {},
   "outputs": [
    {
     "name": "stdout",
     "output_type": "stream",
     "text": [
      "Requesting atomic trades between 2023-04-04 19:32:37 and 2023-04-05 12:12:38\n"
     ]
    },
    {
     "name": "stderr",
     "output_type": "stream",
     "text": [
      "2023-04-05\t 12:12:39     INFO Fetching atomic trades from redis server for LTCBTC\n",
      "2023-04-05\t 12:12:47     INFO Clean atomic 11176 trades found for LTCBTC\n"
     ]
    },
    {
     "data": {
      "text/html": [
       "<div>\n",
       "<style scoped>\n",
       "    .dataframe tbody tr th:only-of-type {\n",
       "        vertical-align: middle;\n",
       "    }\n",
       "\n",
       "    .dataframe tbody tr th {\n",
       "        vertical-align: top;\n",
       "    }\n",
       "\n",
       "    .dataframe thead th {\n",
       "        text-align: right;\n",
       "    }\n",
       "</style>\n",
       "<table border=\"1\" class=\"dataframe\">\n",
       "  <thead>\n",
       "    <tr style=\"text-align: right;\">\n",
       "      <th></th>\n",
       "      <th>Trade Id</th>\n",
       "      <th>Price</th>\n",
       "      <th>Quantity</th>\n",
       "      <th>Buyer Order Id</th>\n",
       "      <th>Seller Order Id</th>\n",
       "      <th>Date</th>\n",
       "      <th>Timestamp</th>\n",
       "      <th>Buyer was maker</th>\n",
       "      <th>Best price match</th>\n",
       "    </tr>\n",
       "    <tr>\n",
       "      <th>LTCBTC Europe/Madrid</th>\n",
       "      <th></th>\n",
       "      <th></th>\n",
       "      <th></th>\n",
       "      <th></th>\n",
       "      <th></th>\n",
       "      <th></th>\n",
       "      <th></th>\n",
       "      <th></th>\n",
       "      <th></th>\n",
       "    </tr>\n",
       "  </thead>\n",
       "  <tbody>\n",
       "    <tr>\n",
       "      <th>2023-04-04 19:32:42.576000+02:00</th>\n",
       "      <td>90070064</td>\n",
       "      <td>0.003307</td>\n",
       "      <td>3.976</td>\n",
       "      <td>1063081361</td>\n",
       "      <td>1063081285</td>\n",
       "      <td>2023-04-04 19:32:42</td>\n",
       "      <td>1680629562576</td>\n",
       "      <td>False</td>\n",
       "      <td>True</td>\n",
       "    </tr>\n",
       "    <tr>\n",
       "      <th>2023-04-04 19:32:48.606000+02:00</th>\n",
       "      <td>90070065</td>\n",
       "      <td>0.003308</td>\n",
       "      <td>4.325</td>\n",
       "      <td>1063081421</td>\n",
       "      <td>1063081407</td>\n",
       "      <td>2023-04-04 19:32:48</td>\n",
       "      <td>1680629568606</td>\n",
       "      <td>False</td>\n",
       "      <td>True</td>\n",
       "    </tr>\n",
       "    <tr>\n",
       "      <th>2023-04-04 19:32:48.663000+02:00</th>\n",
       "      <td>90070066</td>\n",
       "      <td>0.003308</td>\n",
       "      <td>4.326</td>\n",
       "      <td>1063081422</td>\n",
       "      <td>1063081407</td>\n",
       "      <td>2023-04-04 19:32:48</td>\n",
       "      <td>1680629568663</td>\n",
       "      <td>False</td>\n",
       "      <td>True</td>\n",
       "    </tr>\n",
       "    <tr>\n",
       "      <th>2023-04-04 19:32:48.714000+02:00</th>\n",
       "      <td>90070067</td>\n",
       "      <td>0.003308</td>\n",
       "      <td>4.251</td>\n",
       "      <td>1063081424</td>\n",
       "      <td>1063081408</td>\n",
       "      <td>2023-04-04 19:32:48</td>\n",
       "      <td>1680629568714</td>\n",
       "      <td>False</td>\n",
       "      <td>True</td>\n",
       "    </tr>\n",
       "    <tr>\n",
       "      <th>2023-04-04 19:32:48.931000+02:00</th>\n",
       "      <td>90070068</td>\n",
       "      <td>0.003309</td>\n",
       "      <td>1.700</td>\n",
       "      <td>1063081429</td>\n",
       "      <td>1063081350</td>\n",
       "      <td>2023-04-04 19:32:48</td>\n",
       "      <td>1680629568931</td>\n",
       "      <td>False</td>\n",
       "      <td>True</td>\n",
       "    </tr>\n",
       "    <tr>\n",
       "      <th>...</th>\n",
       "      <td>...</td>\n",
       "      <td>...</td>\n",
       "      <td>...</td>\n",
       "      <td>...</td>\n",
       "      <td>...</td>\n",
       "      <td>...</td>\n",
       "      <td>...</td>\n",
       "      <td>...</td>\n",
       "      <td>...</td>\n",
       "    </tr>\n",
       "    <tr>\n",
       "      <th>2023-04-05 10:37:06.610000+02:00</th>\n",
       "      <td>90081235</td>\n",
       "      <td>0.003319</td>\n",
       "      <td>0.420</td>\n",
       "      <td>1063271195</td>\n",
       "      <td>1063270918</td>\n",
       "      <td>2023-04-05 10:37:06</td>\n",
       "      <td>1680683826610</td>\n",
       "      <td>False</td>\n",
       "      <td>True</td>\n",
       "    </tr>\n",
       "    <tr>\n",
       "      <th>2023-04-05 10:37:06.610000+02:00</th>\n",
       "      <td>90081236</td>\n",
       "      <td>0.003319</td>\n",
       "      <td>0.150</td>\n",
       "      <td>1063271195</td>\n",
       "      <td>1063270931</td>\n",
       "      <td>2023-04-05 10:37:06</td>\n",
       "      <td>1680683826610</td>\n",
       "      <td>False</td>\n",
       "      <td>True</td>\n",
       "    </tr>\n",
       "    <tr>\n",
       "      <th>2023-04-05 10:37:27.473000+02:00</th>\n",
       "      <td>90081237</td>\n",
       "      <td>0.003318</td>\n",
       "      <td>1.361</td>\n",
       "      <td>1063271272</td>\n",
       "      <td>1063271264</td>\n",
       "      <td>2023-04-05 10:37:27</td>\n",
       "      <td>1680683847473</td>\n",
       "      <td>False</td>\n",
       "      <td>True</td>\n",
       "    </tr>\n",
       "    <tr>\n",
       "      <th>2023-04-05 10:37:37.784000+02:00</th>\n",
       "      <td>90081238</td>\n",
       "      <td>0.003317</td>\n",
       "      <td>4.258</td>\n",
       "      <td>1063271261</td>\n",
       "      <td>1063271299</td>\n",
       "      <td>2023-04-05 10:37:37</td>\n",
       "      <td>1680683857784</td>\n",
       "      <td>True</td>\n",
       "      <td>True</td>\n",
       "    </tr>\n",
       "    <tr>\n",
       "      <th>2023-04-05 10:37:49.213000+02:00</th>\n",
       "      <td>90081239</td>\n",
       "      <td>0.003318</td>\n",
       "      <td>0.150</td>\n",
       "      <td>1063271332</td>\n",
       "      <td>1063271331</td>\n",
       "      <td>2023-04-05 10:37:49</td>\n",
       "      <td>1680683869213</td>\n",
       "      <td>False</td>\n",
       "      <td>True</td>\n",
       "    </tr>\n",
       "  </tbody>\n",
       "</table>\n",
       "<p>11176 rows × 9 columns</p>\n",
       "</div>"
      ],
      "text/plain": [
       "                                  Trade Id     Price  Quantity  Buyer Order Id  Seller Order Id                 Date      Timestamp  Buyer was maker  Best price match\n",
       "LTCBTC Europe/Madrid                                                                                                                                                  \n",
       "2023-04-04 19:32:42.576000+02:00  90070064  0.003307     3.976      1063081361       1063081285  2023-04-04 19:32:42  1680629562576            False              True\n",
       "2023-04-04 19:32:48.606000+02:00  90070065  0.003308     4.325      1063081421       1063081407  2023-04-04 19:32:48  1680629568606            False              True\n",
       "2023-04-04 19:32:48.663000+02:00  90070066  0.003308     4.326      1063081422       1063081407  2023-04-04 19:32:48  1680629568663            False              True\n",
       "2023-04-04 19:32:48.714000+02:00  90070067  0.003308     4.251      1063081424       1063081408  2023-04-04 19:32:48  1680629568714            False              True\n",
       "2023-04-04 19:32:48.931000+02:00  90070068  0.003309     1.700      1063081429       1063081350  2023-04-04 19:32:48  1680629568931            False              True\n",
       "...                                    ...       ...       ...             ...              ...                  ...            ...              ...               ...\n",
       "2023-04-05 10:37:06.610000+02:00  90081235  0.003319     0.420      1063271195       1063270918  2023-04-05 10:37:06  1680683826610            False              True\n",
       "2023-04-05 10:37:06.610000+02:00  90081236  0.003319     0.150      1063271195       1063270931  2023-04-05 10:37:06  1680683826610            False              True\n",
       "2023-04-05 10:37:27.473000+02:00  90081237  0.003318     1.361      1063271272       1063271264  2023-04-05 10:37:27  1680683847473            False              True\n",
       "2023-04-05 10:37:37.784000+02:00  90081238  0.003317     4.258      1063271261       1063271299  2023-04-05 10:37:37  1680683857784             True              True\n",
       "2023-04-05 10:37:49.213000+02:00  90081239  0.003318     0.150      1063271332       1063271331  2023-04-05 10:37:49  1680683869213            False              True\n",
       "\n",
       "[11176 rows x 9 columns]"
      ]
     },
     "execution_count": 6,
     "metadata": {},
     "output_type": "execute_result"
    }
   ],
   "source": [
    "sym.get_atomic_trades()"
   ]
  },
  {
   "cell_type": "code",
   "execution_count": 7,
   "id": "fa02fb0f",
   "metadata": {},
   "outputs": [
    {
     "name": "stdout",
     "output_type": "stream",
     "text": [
      "CBIO: 1m data not available for startTime=1576731600 and endTime=1576818000. The requested range must be within the last 30 days.\n",
      "Optimum K is 0\n"
     ]
    },
    {
     "name": "stderr",
     "output_type": "stream",
     "text": [
      "C:\\Users\\hanca\\AppData\\Local\\Temp\\ipykernel_1512\\739421785.py:57: MatplotlibDeprecationWarning: Auto-removal of overlapping axes is deprecated since 3.6 and will be removed two minor releases later; explicitly call ax.remove() as needed.\n",
      "  ax1 = plt.subplot2grid((5,1), (0,0), rowspan=4)\n"
     ]
    },
    {
     "ename": "IndexError",
     "evalue": "list index out of range",
     "output_type": "error",
     "traceback": [
      "\u001B[1;31m---------------------------------------------------------------------------\u001B[0m",
      "\u001B[1;31mIndexError\u001B[0m                                Traceback (most recent call last)",
      "Cell \u001B[1;32mIn[7], line 101\u001B[0m\n\u001B[0;32m     98\u001B[0m lows \u001B[38;5;241m=\u001B[39m pandas\u001B[38;5;241m.\u001B[39mDataFrame(data\u001B[38;5;241m=\u001B[39mdata, index\u001B[38;5;241m=\u001B[39mdata\u001B[38;5;241m.\u001B[39mindex, columns\u001B[38;5;241m=\u001B[39m[\u001B[38;5;124m\"\u001B[39m\u001B[38;5;124mLow\u001B[39m\u001B[38;5;124m\"\u001B[39m])\n\u001B[0;32m     99\u001B[0m highs \u001B[38;5;241m=\u001B[39m pandas\u001B[38;5;241m.\u001B[39mDataFrame(data\u001B[38;5;241m=\u001B[39mdata, index\u001B[38;5;241m=\u001B[39mdata\u001B[38;5;241m.\u001B[39mindex, columns\u001B[38;5;241m=\u001B[39m[\u001B[38;5;124m\"\u001B[39m\u001B[38;5;124mHigh\u001B[39m\u001B[38;5;124m\"\u001B[39m])\n\u001B[1;32m--> 101\u001B[0m low_clusters \u001B[38;5;241m=\u001B[39m \u001B[43mget_optimum_clusters\u001B[49m\u001B[43m(\u001B[49m\u001B[43mlows\u001B[49m\u001B[43m)\u001B[49m\n\u001B[0;32m    102\u001B[0m low_centers \u001B[38;5;241m=\u001B[39m low_clusters\u001B[38;5;241m.\u001B[39mcluster_centers_\n\u001B[0;32m    103\u001B[0m low_centers \u001B[38;5;241m=\u001B[39m numpy\u001B[38;5;241m.\u001B[39msort(low_centers, axis\u001B[38;5;241m=\u001B[39m\u001B[38;5;241m0\u001B[39m)\n",
      "Cell \u001B[1;32mIn[7], line 50\u001B[0m, in \u001B[0;36mget_optimum_clusters\u001B[1;34m(df, saturation_point)\u001B[0m\n\u001B[0;32m     47\u001B[0m         \u001B[38;5;28;01mbreak\u001B[39;00m\n\u001B[0;32m     49\u001B[0m \u001B[38;5;28mprint\u001B[39m(\u001B[38;5;124m\"\u001B[39m\u001B[38;5;124mOptimum K is \u001B[39m\u001B[38;5;124m\"\u001B[39m \u001B[38;5;241m+\u001B[39m \u001B[38;5;28mstr\u001B[39m(optimum_k \u001B[38;5;241m+\u001B[39m \u001B[38;5;241m1\u001B[39m))\n\u001B[1;32m---> 50\u001B[0m optimum_clusters \u001B[38;5;241m=\u001B[39m \u001B[43mk_models\u001B[49m\u001B[43m[\u001B[49m\u001B[43moptimum_k\u001B[49m\u001B[43m]\u001B[49m\n\u001B[0;32m     52\u001B[0m \u001B[38;5;28;01mreturn\u001B[39;00m optimum_clusters\n",
      "\u001B[1;31mIndexError\u001B[0m: list index out of range"
     ]
    },
    {
     "data": {
      "image/png": "[encoded data removed]",
      "text/plain": [
       "<Figure size 640x480 with 2 Axes>"
      ]
     },
     "metadata": {},
     "output_type": "display_data"
    }
   ],
   "source": [
    "\"\"\"\n",
    "https://www.github.com/judopro\n",
    "https://www.medium.com/@judopro\n",
    "\"\"\"\n",
    "import datetime\n",
    "import pytz\n",
    "from sklearn.cluster import KMeans\n",
    "from matplotlib import pyplot as plt\n",
    "import matplotlib.ticker as mpticker\n",
    "import pandas\n",
    "import numpy\n",
    "\n",
    "from mplfinance.original_flavor import candlestick_ohlc\n",
    "\n",
    "import yfinance as yf\n",
    "yf.pdr_override()\n",
    "\n",
    "\n",
    "def get_optimum_clusters(df, saturation_point=0.05):\n",
    "    '''\n",
    "\n",
    "    :param df: dataframe\n",
    "    :param saturation_point: The amount of difference we are willing to detect\n",
    "    :return: clusters with optimum K centers\n",
    "\n",
    "    This method uses elbow method to find the optimum number of K clusters\n",
    "    We initialize different K-means with 1..10 centers and compare the inertias\n",
    "    If the difference is no more than saturation_point, we choose that as K and move on\n",
    "    '''\n",
    "\n",
    "    wcss = []\n",
    "    k_models = []\n",
    "\n",
    "    size = min(11, len(df.index))\n",
    "    for i in range(1, size):\n",
    "        kmeans = KMeans(n_clusters=i, init='k-means++', max_iter=300, n_init=10, random_state=0)\n",
    "        kmeans.fit(df)\n",
    "        wcss.append(kmeans.inertia_)\n",
    "        k_models.append(kmeans)\n",
    "\n",
    "    # Compare differences in inertias until it's no more than saturation_point\n",
    "    optimum_k = len(wcss)-1\n",
    "    for i in range(0, len(wcss)-1):\n",
    "        diff = abs(wcss[i+1] - wcss[i])\n",
    "        if diff < saturation_point:\n",
    "            optimum_k = i\n",
    "            break\n",
    "\n",
    "    print(\"Optimum K is \" + str(optimum_k + 1))\n",
    "    optimum_clusters = k_models[optimum_k]\n",
    "\n",
    "    return optimum_clusters\n",
    "\n",
    "\n",
    "def plot_stock_data(data):\n",
    "    fig, ax = plt.subplots()\n",
    "    ax1 = plt.subplot2grid((5,1), (0,0), rowspan=4)\n",
    "    ax2 = plt.subplot2grid((5,1), (4,0), sharex=ax1)\n",
    "\n",
    "    ax1.set_title(\"{} - {}\".format(symbol, start))\n",
    "    ax1.set_facecolor(\"#131722\")\n",
    "    ax1.xaxis.set_major_formatter(mpticker.FuncFormatter(mydate))\n",
    "\n",
    "    candlestick_ohlc(ax1, data.to_numpy(), width=8, colorup='#77d879', colordown='#db3f3f')\n",
    "\n",
    "    ax2.bar(data['Time'], data['Volume'], width=30)\n",
    "    ax2.xaxis.set_major_formatter(mpticker.FuncFormatter(mydate))\n",
    "    fig.subplots_adjust(hspace=0)\n",
    "    fig.autofmt_xdate()\n",
    "    return ax1\n",
    "\n",
    "\n",
    "def mydate(x,pos):\n",
    "    try:\n",
    "        return datetime.datetime.fromtimestamp(x, tz=est).strftime(date_format)\n",
    "    except IndexError:\n",
    "        return ''\n",
    "\n",
    "\n",
    "symbol = \"CBIO\"\n",
    "start = \"2019-12-19\"\n",
    "end = \"2019-12-20\"\n",
    "est = pytz.timezone('US/Eastern')\n",
    "date_format = \"%H:%M\"\n",
    "\n",
    "ticker = yf.Ticker(symbol)\n",
    "data = ticker.history(period=\"1d\", interval=\"1m\",start=start, end=end, prepost=False, actions=False)\n",
    "data = data[:60] #30 1M candles\n",
    "\n",
    "data[\"Time\"] = [d.timestamp() for d in data.index]\n",
    "data.Time = data.Time.tz_convert(est)\n",
    "data = data[[\"Time\", \"Open\", \"High\", \"Low\", \"Close\", \"Volume\"]]\n",
    "\n",
    "ax = plot_stock_data(data)\n",
    "\n",
    "lod, hod = 0, 0\n",
    "\n",
    "lows = pandas.DataFrame(data=data, index=data.index, columns=[\"Low\"])\n",
    "highs = pandas.DataFrame(data=data, index=data.index, columns=[\"High\"])\n",
    "\n",
    "low_clusters = get_optimum_clusters(lows)\n",
    "low_centers = low_clusters.cluster_centers_\n",
    "low_centers = numpy.sort(low_centers, axis=0)\n",
    "\n",
    "high_clusters = get_optimum_clusters(highs)\n",
    "high_centers = high_clusters.cluster_centers_\n",
    "high_centers = numpy.sort(high_centers, axis=0)\n",
    "\n",
    "print(data)\n",
    "print(low_centers)\n",
    "print(high_centers)\n",
    "\n",
    "for low in low_centers[:2]:\n",
    "    ax.axhline(low[0], color='yellow', ls='--')\n",
    "\n",
    "for high in high_centers[-1:]:\n",
    "    ax.axhline(high[0], color='orange', ls='--')\n",
    "\n",
    "plt.show()"
   ]
  },
  {
   "cell_type": "code",
   "execution_count": null,
   "id": "0139c594",
   "metadata": {},
   "outputs": [],
   "source": [
    "# !pip install -U scikit-learn\n",
    "stop"
   ]
  },
  {
   "cell_type": "code",
   "execution_count": null,
   "id": "1649492c",
   "metadata": {},
   "outputs": [],
   "source": [
    "import sys\n",
    "\n",
    "!{sys.executable} -m pip install yfinance"
   ]
  },
  {
   "cell_type": "code",
   "execution_count": null,
   "id": "bd068308",
   "metadata": {},
   "outputs": [],
   "source": [
    "!pip install yfinance"
   ]
  },
  {
   "cell_type": "code",
   "execution_count": null,
   "id": "813463a3",
   "metadata": {},
   "outputs": [],
   "source": []
  }
 ],
 "metadata": {
  "kernelspec": {
   "display_name": "Python 3 (ipykernel)",
   "language": "python",
   "name": "python3"
  },
  "language_info": {
   "codemirror_mode": {
    "name": "ipython",
    "version": 3
   },
   "file_extension": ".py",
   "mimetype": "text/x-python",
   "name": "python",
   "nbconvert_exporter": "python",
   "pygments_lexer": "ipython3",
   "version": "3.8.0"
  }
 },
 "nbformat": 4,
 "nbformat_minor": 5
}
