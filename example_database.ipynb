{
 "cells": [
  {
   "cell_type": "code",
   "execution_count": 1,
   "id": "6cb5c3ab",
   "metadata": {
    "ExecuteTime": {
     "end_time": "2023-10-24T08:10:55.810932200Z",
     "start_time": "2023-10-24T08:10:55.799039700Z"
    }
   },
   "outputs": [
    {
     "data": {
      "text/plain": "<IPython.core.display.HTML object>",
      "text/html": "<style>.container { width:100% !important; }</style>"
     },
     "metadata": {},
     "output_type": "display_data"
    }
   ],
   "source": [
    "from IPython.display import display, HTML\n",
    "\n",
    "display(HTML(\"<style>.container { width:100% !important; }</style>\"))"
   ]
  },
  {
   "cell_type": "code",
   "execution_count": 2,
   "id": "618c7267",
   "metadata": {
    "ExecuteTime": {
     "end_time": "2023-10-24T08:10:55.882559500Z",
     "start_time": "2023-10-24T08:10:55.810932200Z"
    }
   },
   "outputs": [
    {
     "name": "stdout",
     "output_type": "stream",
     "text": [
      "Python 3.11.2\n"
     ]
    }
   ],
   "source": [
    "!python -V"
   ]
  },
  {
   "cell_type": "code",
   "execution_count": 3,
   "id": "da1cbca0",
   "metadata": {
    "ExecuteTime": {
     "end_time": "2023-10-24T08:11:03.864749400Z",
     "start_time": "2023-10-24T08:10:55.882559500Z"
    }
   },
   "outputs": [
    {
     "name": "stdout",
     "output_type": "stream",
     "text": [
      "Cannot import numba: only Python versions >=3.7,<3.11 are supported. Using Numpy.\n"
     ]
    }
   ],
   "source": [
    "import binpan\n",
    "import pandas as pd\n",
    "from handlers.postgresql_database import *"
   ]
  },
  {
   "cell_type": "code",
   "execution_count": 4,
   "id": "ea6a6242",
   "metadata": {
    "ExecuteTime": {
     "end_time": "2023-10-24T08:11:03.869284900Z",
     "start_time": "2023-10-24T08:11:03.864749400Z"
    }
   },
   "outputs": [
    {
     "data": {
      "text/plain": "'0.6.06'"
     },
     "execution_count": 4,
     "metadata": {},
     "output_type": "execute_result"
    }
   ],
   "source": [
    "binpan.__version__"
   ]
  },
  {
   "cell_type": "markdown",
   "id": "d20c7e5c",
   "metadata": {},
   "source": [
    "# Database connector"
   ]
  },
  {
   "cell_type": "code",
   "execution_count": 5,
   "id": "b0575b3f",
   "metadata": {
    "ExecuteTime": {
     "end_time": "2023-10-24T08:11:03.934155900Z",
     "start_time": "2023-10-24T08:11:03.869284900Z"
    }
   },
   "outputs": [
    {
     "name": "stdout",
     "output_type": "stream",
     "text": [
      "Host: 192.168.89.211\n",
      "Port: 5432\n",
      "User: nando\n",
      "Database: crypto\n"
     ]
    }
   ],
   "source": [
    "db = binpan.Database(host=\"192.168.89.211\")"
   ]
  },
  {
   "cell_type": "code",
   "execution_count": 6,
   "id": "44e6863f",
   "metadata": {
    "ExecuteTime": {
     "end_time": "2023-10-24T08:11:03.934155900Z",
     "start_time": "2023-10-24T08:11:03.929853300Z"
    }
   },
   "outputs": [
    {
     "name": "stdout",
     "output_type": "stream",
     "text": [
      "Host: 192.168.89.211\n",
      "Port: 5432\n",
      "User: nando\n",
      "Password: XXXXXXXXXXXX \n",
      "Database: crypto\n",
      "Connection: <connection object at 0x000001D95C885470; dsn: 'user=nando password=xxx connect_timeout=10 dbname=crypto host=192.168.89.211 port=5432', closed: 0>\n",
      "Cursor: <cursor object at 0x000001D92BCC6260; closed: 0>\n"
     ]
    }
   ],
   "source": [
    "db.status()"
   ]
  },
  {
   "cell_type": "code",
   "execution_count": 7,
   "id": "2b4a3444",
   "metadata": {
    "ExecuteTime": {
     "end_time": "2023-10-24T08:11:03.955307Z",
     "start_time": "2023-10-24T08:11:03.934155900Z"
    }
   },
   "outputs": [
    {
     "data": {
      "text/plain": "['litusdt_kline_1m',\n 'badgerusdt_kline_1m',\n 'omusdt_kline_1m',\n 'tkousdt_kline_1m',\n 'barusdt_kline_1m',\n 'polsusdt_kline_1m',\n 'maskusdt_kline_1m',\n 'gftusdt_kline_1m',\n 'qntusdt_kline_1m',\n 'alpacausdt_kline_1m',\n 'requsdt_kline_1m',\n 'xecusdt_kline_1m',\n 'elfusdt_kline_1m',\n 'dydxusdt_kline_1m',\n 'galausdt_kline_1m',\n 'agldusdt_kline_1m',\n 'betausdt_kline_1m',\n 'chessusdt_kline_1m',\n 'adxusdt_kline_1m',\n 'ensusdt_kline_1m',\n 'kp3rusdt_kline_1m',\n 'qiusdt_kline_1m',\n 'jasmyusdt_kline_1m',\n 'ampusdt_kline_1m',\n 'alcxusdt_kline_1m',\n 'fxsusdt_kline_1m',\n 'voxelusdt_kline_1m',\n 'ookiusdt_kline_1m',\n 'glmrusdt_kline_1m',\n 'xvsusdt_kline_1m',\n 'aaveusdt_kline_1m',\n 'nearusdt_kline_1m',\n 'akrousdt_kline_1m',\n 'roseusdt_kline_1m',\n 'avausdt_kline_1m',\n 'sklusdt_kline_1m',\n 'grtusdt_kline_1m',\n 'juvusdt_kline_1m',\n 'psgusdt_kline_1m',\n 'ogusdt_kline_1m',\n 'asrusdt_kline_1m',\n 'rifusdt_kline_1m',\n 'truusdt_kline_1m',\n 'ckbusdt_kline_1m',\n 'twtusdt_kline_1m',\n 'linausdt_kline_1m',\n 'cfxusdt_kline_1m',\n 'forthusdt_kline_1m',\n 'bakeusdt_kline_1m',\n 'shibusdt_kline_1m',\n 'arusdt_kline_1m',\n 'lptusdt_kline_1m',\n 'gtcusdt_kline_1m',\n 'ernusdt_kline_1m',\n 'dentusdt_kline_1m',\n 'clvusdt_kline_1m',\n 'tvkusdt_kline_1m',\n 'rayusdt_kline_1m',\n 'mboxusdt_kline_1m',\n 'waxpusdt_kline_1m',\n 'vidtusdt_kline_1m',\n 'dfusdt_kline_1m',\n 'fidausdt_kline_1m',\n 'darusdt_kline_1m',\n 'portousdt_kline_1m',\n 'vgxusdt_kline_1m',\n 'plausdt_kline_1m',\n 'rndrusdt_kline_1m',\n 'mcusdt_kline_1m',\n 'slpusdt_kline_1m',\n 'fluxusdt_kline_1m',\n 'cvxusdt_kline_1m',\n 'scrtusdt_kline_1m',\n 'alpineusdt_kline_1m',\n 'gmtusdt_kline_1m',\n 'steemusdt_kline_1m',\n 'gmxusdt_kline_1m',\n 'polyxusdt_kline_1m',\n 'phbusdt_kline_1m',\n 'agixusdt_kline_1m',\n 'gnsusdt_kline_1m',\n 'lqtyusdt_kline_1m',\n 'gasusdt_kline_1m',\n 'arbusdt_kline_1m',\n 'wbtcusdt_kline_1m',\n 'eduusdt_kline_1m',\n 'astusdt_kline_1m',\n 'arkusdt_kline_1m',\n 'iqusdt_kline_1m',\n 'mobusdt_kline_1m',\n 'ldousdt_kline_1m',\n 'epxusdt_kline_1m',\n 'stgusdt_kline_1m',\n 'luncusdt_kline_1m',\n 'osmousdt_kline_1m',\n 'prosusdt_kline_1m',\n 'synusdt_kline_1m',\n 'ssvusdt_kline_1m',\n 'ambusdt_kline_1m',\n 'ustcusdt_kline_1m',\n 'idusdt_kline_1m',\n 'combousdt_kline_1m',\n 'wldusdt_kline_1m',\n 'fdusdusdt_kline_1m',\n 'seiusdt_kline_1m',\n 'creamusdt_kline_1m',\n 'injusdt_kline_1m',\n 'ctkusdt_kline_1m',\n 'celousdt_kline_1m',\n 'straxusdt_kline_1m',\n 'reefusdt_kline_1m',\n 'alphausdt_kline_1m',\n 'api3usdt_kline_1m',\n 'firousdt_kline_1m',\n 'sfpusdt_kline_1m',\n 'dodousdt_kline_1m',\n 'acmusdt_kline_1m',\n 'fisusdt_kline_1m',\n 'pondusdt_kline_1m',\n 'degousdt_kline_1m',\n 'burgerusdt_kline_1m',\n 'klayusdt_kline_1m',\n 'dexeusdt_kline_1m',\n 'c98usdt_kline_1m',\n 'flowusdt_kline_1m',\n 'gnousdt_kline_1m',\n 'bnbupusdt_kline_1m',\n 'idexusdt_kline_1m',\n 'yggusdt_kline_1m',\n 'frontusdt_kline_1m',\n 'cvpusdt_kline_1m',\n 'rareusdt_kline_1m',\n 'auctionusdt_kline_1m',\n 'bnxusdt_kline_1m',\n 'santosusdt_kline_1m',\n 'highusdt_kline_1m',\n 'spellusdt_kline_1m',\n 'joeusdt_kline_1m',\n 'acausdt_kline_1m',\n 'kdausdt_kline_1m',\n 'qtumusdt_kline_1m',\n 'xrpusdt_kline_1m',\n 'eosusdt_kline_1m',\n 'trxusdt_kline_1m',\n 'icxusdt_kline_1m',\n 'usdcusdt_kline_1m',\n 'audiousdt_kline_1m',\n 'axsusdt_kline_1m',\n 'hardusdt_kline_1m',\n 'xemusdt_kline_1m',\n 't_1inchusdt_kline_1m',\n 'atmusdt_kline_1m',\n 'cakeusdt_kline_1m',\n 'aliceusdt_kline_1m',\n 'ongusdt_kline_1m',\n 'hotusdt_kline_1m',\n 'celrusdt_kline_1m',\n 'tfuelusdt_kline_1m',\n 'perpusdt_kline_1m',\n 'superusdt_kline_1m',\n 'pundixusdt_kline_1m',\n 'ftmusdt_kline_1m',\n 'ankrusdt_kline_1m',\n 'keyusdt_kline_1m',\n 'wanusdt_kline_1m',\n 'chzusdt_kline_1m',\n 'tlmusdt_kline_1m',\n 'icpusdt_kline_1m',\n 'mdxusdt_kline_1m',\n 'xvgusdt_kline_1m',\n 'atausdt_kline_1m',\n 'bandusdt_kline_1m',\n 'hbarusdt_kline_1m',\n 'stxusdt_kline_1m',\n 'kavausdt_kline_1m',\n 'rlcusdt_kline_1m',\n 'phausdt_kline_1m',\n 'bondusdt_kline_1m',\n 'mlnusdt_kline_1m',\n 'minausdt_kline_1m',\n 'farmusdt_kline_1m',\n 'quickusdt_kline_1m',\n 'forusdt_kline_1m',\n 'ghstusdt_kline_1m',\n 'usdpusdt_kline_1m',\n 'ilvusdt_kline_1m',\n 'sysusdt_kline_1m',\n 'radusdt_kline_1m',\n 'laziousdt_kline_1m',\n 'movrusdt_kline_1m',\n 'cityusdt_kline_1m',\n 'powrusdt_kline_1m',\n 'pyrusdt_kline_1m',\n 'bchusdt_kline_1m',\n 'cotiusdt_kline_1m',\n 'bicousdt_kline_1m',\n 'peopleusdt_kline_1m',\n 'achusdt_kline_1m',\n 'imxusdt_kline_1m',\n 'bttcusdt_kline_1m',\n 'lokausdt_kline_1m',\n 'xnousdt_kline_1m',\n 'woousdt_kline_1m',\n 'tusdt_kline_1m',\n 'astrusdt_kline_1m',\n 'apeusdt_kline_1m',\n 'bifiusdt_kline_1m',\n 'solusdt_kline_1m',\n 'pntusdt_kline_1m',\n 'mkrusdt_kline_1m',\n 'storjusdt_kline_1m',\n 'multiusdt_kline_1m',\n 'nexousdt_kline_1m',\n 'reiusdt_kline_1m',\n 'galusdt_kline_1m',\n 'opusdt_kline_1m',\n 'magicusdt_kline_1m',\n 'hifiusdt_kline_1m',\n 'uftusdt_kline_1m',\n 'bnbdownusdt_kline_1m',\n 'blzusdt_kline_1m',\n 'sandusdt_kline_1m',\n 'dotusdt_kline_1m',\n 'oceanusdt_kline_1m',\n 'trbusdt_kline_1m',\n 'loomusdt_kline_1m',\n 'sushiusdt_kline_1m',\n 'btcusdt_kline_1m',\n 'iotausdt_kline_1m',\n 'oaxusdt_kline_1m',\n 'ontusdt_kline_1m',\n 'suiusdt_kline_1m',\n 'aergousdt_kline_1m',\n 'pepeusdt_kline_1m',\n 'sntusdt_kline_1m',\n 'arkmusdt_kline_1m',\n 'wbethusdt_kline_1m',\n 'ntrnusdt_kline_1m',\n 'bswusdt_kline_1m',\n 'leverusdt_kline_1m',\n 'aptusdt_kline_1m',\n 'hftusdt_kline_1m',\n 'hookusdt_kline_1m',\n 'rplusdt_kline_1m',\n 'vibusdt_kline_1m',\n 'glmusdt_kline_1m',\n 'promusdt_kline_1m',\n 'wavesusdt_kline_1m',\n 'fetusdt_kline_1m',\n 'qkcusdt_kline_1m',\n 'rdntusdt_kline_1m',\n 'flokiusdt_kline_1m',\n 'mavusdt_kline_1m',\n 'pendleusdt_kline_1m',\n 'cyberusdt_kline_1m',\n 'xmrusdt_kline_1m',\n 'zecusdt_kline_1m',\n 'maticusdt_kline_1m',\n 'dogeusdt_kline_1m',\n 'duskusdt_kline_1m',\n 'dockusdt_kline_1m',\n 'funusdt_kline_1m',\n 'busdusdt_kline_1m',\n 'arpausdt_kline_1m',\n 'ognusdt_kline_1m',\n 'mblusdt_kline_1m',\n 'stptusdt_kline_1m',\n 'datausdt_kline_1m',\n 'btcupusdt_kline_1m',\n 'ardrusdt_kline_1m',\n 'compusdt_kline_1m',\n 'snxusdt_kline_1m',\n 'ethupusdt_kline_1m',\n 'dgbusdt_kline_1m',\n 'sxpusdt_kline_1m',\n 'jstusdt_kline_1m',\n 'nmrusdt_kline_1m',\n 'paxgusdt_kline_1m',\n 'ksmusdt_kline_1m',\n 'diausdt_kline_1m',\n 'oxtusdt_kline_1m',\n 'sunusdt_kline_1m',\n 'ornusdt_kline_1m',\n 'utkusdt_kline_1m',\n 'bnbusdt_kline_1m',\n 'neousdt_kline_1m',\n 'ltcusdt_kline_1m',\n 'adausdt_kline_1m',\n 'tusdusdt_kline_1m',\n 'xlmusdt_kline_1m',\n 'nulsusdt_kline_1m',\n 'batusdt_kline_1m',\n 'iostusdt_kline_1m',\n 'dashusdt_kline_1m',\n 'omgusdt_kline_1m',\n 'thetausdt_kline_1m',\n 'enjusdt_kline_1m',\n 'oneusdt_kline_1m',\n 'algousdt_kline_1m',\n 'perlusdt_kline_1m',\n 'cvcusdt_kline_1m',\n 'xtzusdt_kline_1m',\n 'renusdt_kline_1m',\n 'ctxcusdt_kline_1m',\n 'viteusdt_kline_1m',\n 'fttusdt_kline_1m',\n 'drepusdt_kline_1m',\n 'wrxusdt_kline_1m',\n 'lskusdt_kline_1m',\n 'ctsiusdt_kline_1m',\n 'hiveusdt_kline_1m',\n 'chrusdt_kline_1m',\n 'stmxusdt_kline_1m',\n 'scusdt_kline_1m',\n 'gbpusdt_kline_1m',\n 'yfiusdt_kline_1m',\n 'balusdt_kline_1m',\n 'kmdusdt_kline_1m',\n 'crvusdt_kline_1m',\n 'umausdt_kline_1m',\n 'flmusdt_kline_1m',\n 'ethusdt_kline_1m',\n 'etcusdt_kline_1m',\n 'vetusdt_kline_1m',\n 'linkusdt_kline_1m',\n 'zilusdt_kline_1m',\n 'zrxusdt_kline_1m',\n 'atomusdt_kline_1m',\n 'winusdt_kline_1m',\n 'cosusdt_kline_1m',\n 'mtlusdt_kline_1m',\n 'tomousdt_kline_1m',\n 'rvnusdt_kline_1m',\n 'nknusdt_kline_1m',\n 'iotxusdt_kline_1m',\n 'troyusdt_kline_1m',\n 'eurusdt_kline_1m',\n 'btsusdt_kline_1m',\n 'bntusdt_kline_1m',\n 'ltousdt_kline_1m',\n 'wtcusdt_kline_1m',\n 'btcdownusdt_kline_1m',\n 'mdtusdt_kline_1m',\n 'kncusdt_kline_1m',\n 'lrcusdt_kline_1m',\n 'zenusdt_kline_1m',\n 'ethdownusdt_kline_1m',\n 'vthousdt_kline_1m',\n 'dcrusdt_kline_1m',\n 'manausdt_kline_1m',\n 'irisusdt_kline_1m',\n 'antusdt_kline_1m',\n 'lunausdt_kline_1m',\n 'rsrusdt_kline_1m',\n 'wnxmusdt_kline_1m',\n 'egldusdt_kline_1m',\n 'runeusdt_kline_1m',\n 'fiousdt_kline_1m',\n 'belusdt_kline_1m',\n 'wingusdt_kline_1m',\n 'unfiusdt_kline_1m',\n 'uniusdt_kline_1m',\n 'avaxusdt_kline_1m',\n 'filusdt_kline_1m']"
     },
     "execution_count": 7,
     "metadata": {},
     "output_type": "execute_result"
    }
   ],
   "source": [
    "tables = db.get_tables(table_type=\"kline_1m\")\n",
    "tables"
   ]
  },
  {
   "cell_type": "code",
   "execution_count": 8,
   "id": "565bb800",
   "metadata": {
    "ExecuteTime": {
     "end_time": "2023-10-24T08:11:08.463462300Z",
     "start_time": "2023-10-24T08:11:03.955307Z"
    }
   },
   "outputs": [
    {
     "data": {
      "text/plain": "{'aaveusdt_kline_1m': 92,\n 'acausdt_kline_1m': 91,\n 'achusdt_kline_1m': 91,\n 'acmusdt_kline_1m': 92,\n 'adausdt_kline_1m': 92,\n 'adxusdt_kline_1m': 92,\n 'aergousdt_kline_1m': 90,\n 'agixusdt_kline_1m': 91,\n 'agldusdt_kline_1m': 92,\n 'akrousdt_kline_1m': 92,\n 'alcxusdt_kline_1m': 91,\n 'algousdt_kline_1m': 92,\n 'aliceusdt_kline_1m': 92,\n 'alpacausdt_kline_1m': 92,\n 'alphausdt_kline_1m': 1588647,\n 'alpineusdt_kline_1m': 92,\n 'ambusdt_kline_1m': 91,\n 'ampusdt_kline_1m': 91,\n 'ankrusdt_kline_1m': 93,\n 'antusdt_kline_1m': 92,\n 'apeusdt_kline_1m': 91,\n 'api3usdt_kline_1m': 40090,\n 'aptusdt_kline_1m': 531835,\n 'arbusdt_kline_1m': 91,\n 'ardrusdt_kline_1m': 92,\n 'arkmusdt_kline_1m': 139574,\n 'arkusdt_kline_1m': 91,\n 'arpausdt_kline_1m': 92,\n 'arusdt_kline_1m': 92,\n 'asrusdt_kline_1m': 92,\n 'astrusdt_kline_1m': 91,\n 'astusdt_kline_1m': 91,\n 'atausdt_kline_1m': 1249622,\n 'atmusdt_kline_1m': 92,\n 'atomusdt_kline_1m': 92,\n 'auctionusdt_kline_1m': 92,\n 'audiousdt_kline_1m': 92,\n 'avausdt_kline_1m': 92,\n 'avaxusdt_kline_1m': 92,\n 'axsusdt_kline_1m': 92,\n 'badgerusdt_kline_1m': 92,\n 'bakeusdt_kline_1m': 92,\n 'balusdt_kline_1m': 92,\n 'bandusdt_kline_1m': 2152207,\n 'barusdt_kline_1m': 92,\n 'batusdt_kline_1m': 92,\n 'bchusdt_kline_1m': 2047745,\n 'belusdt_kline_1m': 92,\n 'betausdt_kline_1m': 92,\n 'bicousdt_kline_1m': 91,\n 'bifiusdt_kline_1m': 91,\n 'blzusdt_kline_1m': 93,\n 'bnbdownusdt_kline_1m': 93,\n 'bnbupusdt_kline_1m': 1688611,\n 'bnbusdt_kline_1m': 92,\n 'bntusdt_kline_1m': 92,\n 'bnxusdt_kline_1m': 1024856,\n 'bondusdt_kline_1m': 92,\n 'bswusdt_kline_1m': 91,\n 'btcdownusdt_kline_1m': 92,\n 'btcupusdt_kline_1m': 1808440,\n 'btcusdt_kline_1m': 93,\n 'btsusdt_kline_1m': 92,\n 'bttcusdt_kline_1m': 91,\n 'burgerusdt_kline_1m': 1299621,\n 'busdusdt_kline_1m': 92,\n 'c98usdt_kline_1m': 92,\n 'cakeusdt_kline_1m': 92,\n 'celousdt_kline_1m': 1469273,\n 'celrusdt_kline_1m': 93,\n 'cfxusdt_kline_1m': 92,\n 'chessusdt_kline_1m': 92,\n 'chrusdt_kline_1m': 92,\n 'chzusdt_kline_1m': 93,\n 'cityusdt_kline_1m': 91,\n 'ckbusdt_kline_1m': 1438823,\n 'clvusdt_kline_1m': 1174826,\n 'combousdt_kline_1m': 91,\n 'compusdt_kline_1m': 92,\n 'cosusdt_kline_1m': 92,\n 'cotiusdt_kline_1m': 93,\n 'creamusdt_kline_1m': 91,\n 'crvusdt_kline_1m': 92,\n 'ctkusdt_kline_1m': 1569731,\n 'ctsiusdt_kline_1m': 92,\n 'ctxcusdt_kline_1m': 2057949,\n 'cvcusdt_kline_1m': 92,\n 'cvpusdt_kline_1m': 92,\n 'cvxusdt_kline_1m': 92,\n 'cyberusdt_kline_1m': 91,\n 'darusdt_kline_1m': 92,\n 'dashusdt_kline_1m': 2396341,\n 'datausdt_kline_1m': 92,\n 'dcrusdt_kline_1m': 92,\n 'degousdt_kline_1m': 92,\n 'dentusdt_kline_1m': 2183686,\n 'dexeusdt_kline_1m': 92,\n 'dfusdt_kline_1m': 92,\n 'dgbusdt_kline_1m': 92,\n 'diausdt_kline_1m': 92,\n 'dockusdt_kline_1m': 2183687,\n 'dodousdt_kline_1m': 92,\n 'dogeusdt_kline_1m': 93,\n 'dotusdt_kline_1m': 93,\n 'drepusdt_kline_1m': 92,\n 'duskusdt_kline_1m': 93,\n 'dydxusdt_kline_1m': 1114856,\n 'eduusdt_kline_1m': 91,\n 'egldusdt_kline_1m': 92,\n 'elfusdt_kline_1m': 92,\n 'enjusdt_kline_1m': 92,\n 'ensusdt_kline_1m': 1019996,\n 'eosusdt_kline_1m': 93,\n 'epxusdt_kline_1m': 91,\n 'ernusdt_kline_1m': 92,\n 'etcusdt_kline_1m': 92,\n 'ethdownusdt_kline_1m': 1720931,\n 'ethupusdt_kline_1m': 1718631,\n 'ethusdt_kline_1m': 92,\n 'eurusdt_kline_1m': 92,\n 'farmusdt_kline_1m': 92,\n 'fdusdusdt_kline_1m': 91,\n 'fetusdt_kline_1m': 93,\n 'fidausdt_kline_1m': 92,\n 'filusdt_kline_1m': 92,\n 'fiousdt_kline_1m': 92,\n 'firousdt_kline_1m': 92,\n 'fisusdt_kline_1m': 92,\n 'flmusdt_kline_1m': 92,\n 'flokiusdt_kline_1m': 91,\n 'flowusdt_kline_1m': 92,\n 'fluxusdt_kline_1m': 92,\n 'forthusdt_kline_1m': 92,\n 'forusdt_kline_1m': 639996,\n 'frontusdt_kline_1m': 92,\n 'ftmusdt_kline_1m': 2294087,\n 'fttusdt_kline_1m': 92,\n 'funusdt_kline_1m': 93,\n 'fxsusdt_kline_1m': 982075,\n 'galausdt_kline_1m': 92,\n 'galusdt_kline_1m': 91,\n 'gasusdt_kline_1m': 91,\n 'gbpusdt_kline_1m': 92,\n 'gftusdt_kline_1m': 44775,\n 'ghstusdt_kline_1m': 92,\n 'glmrusdt_kline_1m': 91,\n 'glmusdt_kline_1m': 91,\n 'gmtusdt_kline_1m': 92,\n 'gmxusdt_kline_1m': 91,\n 'gnousdt_kline_1m': 540012,\n 'gnsusdt_kline_1m': 91,\n 'grtusdt_kline_1m': 92,\n 'gtcusdt_kline_1m': 92,\n 'hardusdt_kline_1m': 92,\n 'hbarusdt_kline_1m': 93,\n 'hftusdt_kline_1m': 499996,\n 'hifiusdt_kline_1m': 90,\n 'highusdt_kline_1m': 91,\n 'hiveusdt_kline_1m': 92,\n 'hookusdt_kline_1m': 91,\n 'hotusdt_kline_1m': 93,\n 'icpusdt_kline_1m': 92,\n 'icxusdt_kline_1m': 93,\n 'idexusdt_kline_1m': 92,\n 'idusdt_kline_1m': 91,\n 'ilvusdt_kline_1m': 91,\n 'imxusdt_kline_1m': 91,\n 'injusdt_kline_1m': 92,\n 'iostusdt_kline_1m': 92,\n 'iotausdt_kline_1m': 93,\n 'iotxusdt_kline_1m': 92,\n 'iqusdt_kline_1m': 91,\n 'irisusdt_kline_1m': 92,\n 'jasmyusdt_kline_1m': 91,\n 'joeusdt_kline_1m': 91,\n 'jstusdt_kline_1m': 92,\n 'juvusdt_kline_1m': 1490711,\n 'kavausdt_kline_1m': 93,\n 'kdausdt_kline_1m': 91,\n 'keyusdt_kline_1m': 93,\n 'klayusdt_kline_1m': 92,\n 'kmdusdt_kline_1m': 92,\n 'kncusdt_kline_1m': 92,\n 'kp3rusdt_kline_1m': 92,\n 'ksmusdt_kline_1m': 92,\n 'laziousdt_kline_1m': 91,\n 'ldousdt_kline_1m': 91,\n 'leverusdt_kline_1m': 91,\n 'linausdt_kline_1m': 92,\n 'linkusdt_kline_1m': 92,\n 'litusdt_kline_1m': 92,\n 'lokausdt_kline_1m': 91,\n 'loomusdt_kline_1m': 90,\n 'lptusdt_kline_1m': 92,\n 'lqtyusdt_kline_1m': 91,\n 'lrcusdt_kline_1m': 92,\n 'lskusdt_kline_1m': 92,\n 'ltcusdt_kline_1m': 1100590,\n 'ltousdt_kline_1m': 92,\n 'lunausdt_kline_1m': 729996,\n 'luncusdt_kline_1m': 91,\n 'magicusdt_kline_1m': 90,\n 'manausdt_kline_1m': 92,\n 'maskusdt_kline_1m': 5186,\n 'maticusdt_kline_1m': 93,\n 'mavusdt_kline_1m': 91,\n 'mblusdt_kline_1m': 93,\n 'mboxusdt_kline_1m': 92,\n 'mcusdt_kline_1m': 993656,\n 'mdtusdt_kline_1m': 92,\n 'mdxusdt_kline_1m': 92,\n 'minausdt_kline_1m': 92,\n 'mkrusdt_kline_1m': 93,\n 'mlnusdt_kline_1m': 92,\n 'mobusdt_kline_1m': 780012,\n 'movrusdt_kline_1m': 91,\n 'mtlusdt_kline_1m': 92,\n 'multiusdt_kline_1m': 813895,\n 'nearusdt_kline_1m': 92,\n 'neousdt_kline_1m': 92,\n 'nexousdt_kline_1m': 91,\n 'nknusdt_kline_1m': 92,\n 'nmrusdt_kline_1m': 93,\n 'ntrnusdt_kline_1m': 90,\n 'nulsusdt_kline_1m': 92,\n 'oaxusdt_kline_1m': 90,\n 'oceanusdt_kline_1m': 93,\n 'ognusdt_kline_1m': 93,\n 'ogusdt_kline_1m': 92,\n 'omgusdt_kline_1m': 92,\n 'omusdt_kline_1m': 92,\n 'oneusdt_kline_1m': 92,\n 'ongusdt_kline_1m': 2458303,\n 'ontusdt_kline_1m': 93,\n 'ookiusdt_kline_1m': 91,\n 'opusdt_kline_1m': 90,\n 'ornusdt_kline_1m': 92,\n 'osmousdt_kline_1m': 91,\n 'oxtusdt_kline_1m': 92,\n 'paxgusdt_kline_1m': 93,\n 'pendleusdt_kline_1m': 91,\n 'peopleusdt_kline_1m': 91,\n 'pepeusdt_kline_1m': 90,\n 'perlusdt_kline_1m': 92,\n 'perpusdt_kline_1m': 1359189,\n 'phausdt_kline_1m': 92,\n 'phbusdt_kline_1m': 91,\n 'plausdt_kline_1m': 92,\n 'pntusdt_kline_1m': 93,\n 'polsusdt_kline_1m': 92,\n 'polyxusdt_kline_1m': 534295,\n 'pondusdt_kline_1m': 92,\n 'portousdt_kline_1m': 92,\n 'powrusdt_kline_1m': 91,\n 'promusdt_kline_1m': 91,\n 'prosusdt_kline_1m': 91,\n 'psgusdt_kline_1m': 92,\n 'pundixusdt_kline_1m': 92,\n 'pyrusdt_kline_1m': 91,\n 'qiusdt_kline_1m': 92,\n 'qkcusdt_kline_1m': 91,\n 'qntusdt_kline_1m': 92,\n 'qtumusdt_kline_1m': 93,\n 'quickusdt_kline_1m': 92,\n 'radusdt_kline_1m': 91,\n 'rareusdt_kline_1m': 92,\n 'rayusdt_kline_1m': 92,\n 'rdntusdt_kline_1m': 91,\n 'reefusdt_kline_1m': 92,\n 'reiusdt_kline_1m': 91,\n 'renusdt_kline_1m': 92,\n 'requsdt_kline_1m': 92,\n 'rifusdt_kline_1m': 92,\n 'rlcusdt_kline_1m': 93,\n 'rndrusdt_kline_1m': 92,\n 'roseusdt_kline_1m': 92,\n 'rplusdt_kline_1m': 91,\n 'rsrusdt_kline_1m': 92,\n 'runeusdt_kline_1m': 92,\n 'rvnusdt_kline_1m': 92,\n 'sandusdt_kline_1m': 93,\n 'santosusdt_kline_1m': 91,\n 'scrtusdt_kline_1m': 92,\n 'scusdt_kline_1m': 92,\n 'seiusdt_kline_1m': 99255,\n 'sfpusdt_kline_1m': 92,\n 'shibusdt_kline_1m': 92,\n 'sklusdt_kline_1m': 92,\n 'slpusdt_kline_1m': 1304066,\n 'sntusdt_kline_1m': 90,\n 'snxusdt_kline_1m': 93,\n 'solusdt_kline_1m': 1680733,\n 'spellusdt_kline_1m': 91,\n 'ssvusdt_kline_1m': 91,\n 'steemusdt_kline_1m': 91,\n 'stgusdt_kline_1m': 91,\n 'stmxusdt_kline_1m': 92,\n 'storjusdt_kline_1m': 93,\n 'stptusdt_kline_1m': 93,\n 'straxusdt_kline_1m': 92,\n 'stxusdt_kline_1m': 93,\n 'suiusdt_kline_1m': 90,\n 'sunusdt_kline_1m': 92,\n 'superusdt_kline_1m': 92,\n 'sushiusdt_kline_1m': 93,\n 'sxpusdt_kline_1m': 1712053,\n 'synusdt_kline_1m': 349825,\n 'sysusdt_kline_1m': 91,\n 't_1inchusdt_kline_1m': 92,\n 'tfuelusdt_kline_1m': 93,\n 'thetausdt_kline_1m': 92,\n 'tkousdt_kline_1m': 92,\n 'tlmusdt_kline_1m': 92,\n 'tomousdt_kline_1m': 92,\n 'trbusdt_kline_1m': 1648633,\n 'troyusdt_kline_1m': 92,\n 'truusdt_kline_1m': 92,\n 'trxusdt_kline_1m': 93,\n 'tusdt_kline_1m': 91,\n 'tusdusdt_kline_1m': 93,\n 'tvkusdt_kline_1m': 92,\n 'twtusdt_kline_1m': 92,\n 'uftusdt_kline_1m': 90,\n 'umausdt_kline_1m': 92,\n 'unfiusdt_kline_1m': 92,\n 'uniusdt_kline_1m': 92,\n 'usdcusdt_kline_1m': 93,\n 'usdpusdt_kline_1m': 91,\n 'ustcusdt_kline_1m': 91,\n 'utkusdt_kline_1m': 92,\n 'vetusdt_kline_1m': 2754676,\n 'vgxusdt_kline_1m': 92,\n 'vibusdt_kline_1m': 91,\n 'vidtusdt_kline_1m': 92,\n 'viteusdt_kline_1m': 92,\n 'voxelusdt_kline_1m': 91,\n 'vthousdt_kline_1m': 92,\n 'wanusdt_kline_1m': 93,\n 'wavesusdt_kline_1m': 2500067,\n 'waxpusdt_kline_1m': 92,\n 'wbethusdt_kline_1m': 138494,\n 'wbtcusdt_kline_1m': 91,\n 'wingusdt_kline_1m': 92,\n 'winusdt_kline_1m': 92,\n 'wldusdt_kline_1m': 91,\n 'wnxmusdt_kline_1m': 92,\n 'woousdt_kline_1m': 91,\n 'wrxusdt_kline_1m': 92,\n 'wtcusdt_kline_1m': 92,\n 'xecusdt_kline_1m': 92,\n 'xemusdt_kline_1m': 92,\n 'xlmusdt_kline_1m': 93,\n 'xmrusdt_kline_1m': 2420147,\n 'xnousdt_kline_1m': 91,\n 'xrpusdt_kline_1m': 93,\n 'xtzusdt_kline_1m': 2142947,\n 'xvgusdt_kline_1m': 92,\n 'xvsusdt_kline_1m': 92,\n 'yfiusdt_kline_1m': 92,\n 'yggusdt_kline_1m': 92,\n 'zecusdt_kline_1m': 93,\n 'zenusdt_kline_1m': 670012,\n 'zilusdt_kline_1m': 92,\n 'zrxusdt_kline_1m': 92}"
     },
     "execution_count": 8,
     "metadata": {},
     "output_type": "execute_result"
    }
   ],
   "source": [
    "table_counts = db.get_table_counts()\n",
    "table_counts"
   ]
  },
  {
   "cell_type": "code",
   "execution_count": 9,
   "id": "7b335ab9",
   "metadata": {
    "ExecuteTime": {
     "end_time": "2023-10-24T08:11:08.469167800Z",
     "start_time": "2023-10-24T08:11:08.460326Z"
    }
   },
   "outputs": [
    {
     "data": {
      "text/plain": "vetusdt_kline_1m      2754676\nwavesusdt_kline_1m    2500067\nongusdt_kline_1m      2458303\nxmrusdt_kline_1m      2420147\ndashusdt_kline_1m     2396341\n                       ...   \nntrnusdt_kline_1m          90\nmagicusdt_kline_1m         90\nopusdt_kline_1m            90\noaxusdt_kline_1m           90\nhifiusdt_kline_1m          90\nLength: 364, dtype: int64"
     },
     "execution_count": 9,
     "metadata": {},
     "output_type": "execute_result"
    }
   ],
   "source": [
    "ser = pd.Series(table_counts)\n",
    "ser.sort_values(ascending=False, inplace=True)\n",
    "ser"
   ]
  },
  {
   "cell_type": "code",
   "execution_count": 10,
   "id": "6d3b9203",
   "metadata": {
    "ExecuteTime": {
     "end_time": "2023-10-24T08:11:08.478155600Z",
     "start_time": "2023-10-24T08:11:08.465981900Z"
    }
   },
   "outputs": [
    {
     "data": {
      "text/plain": "'vetusdt_kline_1m'"
     },
     "execution_count": 10,
     "metadata": {},
     "output_type": "execute_result"
    }
   ],
   "source": [
    "table = ser.index[0]\n",
    "table"
   ]
  },
  {
   "cell_type": "code",
   "execution_count": 11,
   "id": "718cc0cb",
   "metadata": {
    "ExecuteTime": {
     "end_time": "2023-10-24T08:11:08.541445100Z",
     "start_time": "2023-10-24T08:11:08.476155300Z"
    }
   },
   "outputs": [
    {
     "data": {
      "text/plain": "['time',\n 'open',\n 'high',\n 'low',\n 'close',\n 'volume',\n 'close_timestamp',\n 'quote_volume',\n 'trades',\n 'taker_buy_base_volume',\n 'taker_buy_quote_volume',\n 'last_trade_id',\n 'first_trade_id']"
     },
     "execution_count": 11,
     "metadata": {},
     "output_type": "execute_result"
    }
   ],
   "source": [
    "db.get_columns(table_name=table)"
   ]
  },
  {
   "cell_type": "code",
   "execution_count": 12,
   "id": "9632ef99",
   "metadata": {
    "ExecuteTime": {
     "end_time": "2023-10-24T08:11:08.542445400Z",
     "start_time": "2023-10-24T08:11:08.498795700Z"
    }
   },
   "outputs": [],
   "source": [
    "symbol = table.split(\"_\")[0]\n",
    "tick_interval = table.split(\"_\")[-1]"
   ]
  },
  {
   "cell_type": "code",
   "execution_count": 13,
   "id": "8c00700b",
   "metadata": {
    "scrolled": false,
    "ExecuteTime": {
     "end_time": "2023-10-24T08:11:19.404032Z",
     "start_time": "2023-10-24T08:11:08.502009600Z"
    }
   },
   "outputs": [
    {
     "name": "stderr",
     "output_type": "stream",
     "text": [
      "2023-10-24\t 10:11:08     INFO Postgres connection requested as str: 192.168.89.211\n",
      "2023-10-24\t 10:11:12     INFO Getting data from table vetusdt_kline_1m from 2022-10-24 04:11:08 to 2023-10-24 10:10:58\n",
      "2023-10-24\t 10:11:19  WARNING BinPan Warning: Dataframe has gaps in klines continuity: \n",
      "                                     Open timestamp                  Close timestamp             Gap length\n",
      "VETUSDT 1m Europe/Madrid                                                                                   \n",
      "2023-03-24 15:00:00+01:00 2023-03-24 15:00:00+01:00 2023-03-24 15:00:59.999000+01:00 0 days 00:00:59.999000\n",
      "2023-10-24 08:25:00+02:00 2023-10-24 08:25:00+02:00 2023-10-24 08:25:59.999000+02:00 0 days 00:00:59.999000\n",
      "2023-10-24 08:51:00+02:00 2023-10-24 08:51:00+02:00 2023-10-24 08:51:59.999000+02:00 0 days 00:00:59.999000\n",
      "2023-10-24 09:38:00+02:00 2023-10-24 09:38:00+02:00 2023-10-24 09:38:59.999000+02:00 0 days 00:00:59.999000\n",
      "2023-10-24\t 10:11:19     INFO Please, repair the dataframe with the function 'repair_kline_discontinuity'.\n"
     ]
    }
   ],
   "source": [
    "sym = binpan.Symbol(symbol=symbol,\n",
    "                    tick_interval=\"1m\",\n",
    "                    time_zone='Europe/Madrid',\n",
    "                    hours=8766,\n",
    "                    postgres_klines=\"192.168.89.211\")"
   ]
  },
  {
   "cell_type": "code",
   "execution_count": 14,
   "id": "9a62a263",
   "metadata": {
    "ExecuteTime": {
     "end_time": "2023-10-24T08:11:19.412909Z",
     "start_time": "2023-10-24T08:11:19.404032Z"
    }
   },
   "outputs": [
    {
     "data": {
      "text/plain": "                                     Open timestamp                  Close timestamp             Gap length\nVETUSDT 1m Europe/Madrid                                                                                   \n2023-03-24 15:00:00+01:00 2023-03-24 15:00:00+01:00 2023-03-24 15:00:59.999000+01:00 0 days 00:00:59.999000\n2023-10-24 08:25:00+02:00 2023-10-24 08:25:00+02:00 2023-10-24 08:25:59.999000+02:00 0 days 00:00:59.999000\n2023-10-24 08:51:00+02:00 2023-10-24 08:51:00+02:00 2023-10-24 08:51:59.999000+02:00 0 days 00:00:59.999000\n2023-10-24 09:38:00+02:00 2023-10-24 09:38:00+02:00 2023-10-24 09:38:59.999000+02:00 0 days 00:00:59.999000",
      "text/html": "<div>\n<style scoped>\n    .dataframe tbody tr th:only-of-type {\n        vertical-align: middle;\n    }\n\n    .dataframe tbody tr th {\n        vertical-align: top;\n    }\n\n    .dataframe thead th {\n        text-align: right;\n    }\n</style>\n<table border=\"1\" class=\"dataframe\">\n  <thead>\n    <tr style=\"text-align: right;\">\n      <th></th>\n      <th>Open timestamp</th>\n      <th>Close timestamp</th>\n      <th>Gap length</th>\n    </tr>\n    <tr>\n      <th>VETUSDT 1m Europe/Madrid</th>\n      <th></th>\n      <th></th>\n      <th></th>\n    </tr>\n  </thead>\n  <tbody>\n    <tr>\n      <th>2023-03-24 15:00:00+01:00</th>\n      <td>2023-03-24 15:00:00+01:00</td>\n      <td>2023-03-24 15:00:59.999000+01:00</td>\n      <td>0 days 00:00:59.999000</td>\n    </tr>\n    <tr>\n      <th>2023-10-24 08:25:00+02:00</th>\n      <td>2023-10-24 08:25:00+02:00</td>\n      <td>2023-10-24 08:25:59.999000+02:00</td>\n      <td>0 days 00:00:59.999000</td>\n    </tr>\n    <tr>\n      <th>2023-10-24 08:51:00+02:00</th>\n      <td>2023-10-24 08:51:00+02:00</td>\n      <td>2023-10-24 08:51:59.999000+02:00</td>\n      <td>0 days 00:00:59.999000</td>\n    </tr>\n    <tr>\n      <th>2023-10-24 09:38:00+02:00</th>\n      <td>2023-10-24 09:38:00+02:00</td>\n      <td>2023-10-24 09:38:59.999000+02:00</td>\n      <td>0 days 00:00:59.999000</td>\n    </tr>\n  </tbody>\n</table>\n</div>"
     },
     "execution_count": 14,
     "metadata": {},
     "output_type": "execute_result"
    }
   ],
   "source": [
    "sym.discontinuities"
   ]
  },
  {
   "cell_type": "code",
   "execution_count": 15,
   "id": "60af5267",
   "metadata": {
    "ExecuteTime": {
     "end_time": "2023-10-24T08:11:19.447622900Z",
     "start_time": "2023-10-24T08:11:19.412909Z"
    }
   },
   "outputs": [
    {
     "data": {
      "text/plain": "                                          Open time     Open     High      Low    Close     Volume                       Close time  Quote volume  Trades  Taker buy base volume  Taker buy quote volume  Open timestamp  Close timestamp  First TradeId  Last TradeId\nVETUSDT 1m Europe/Madrid                                                                                                                                                                                                                                              \n2022-10-24 04:12:00+02:00 2022-10-24 04:12:00+02:00  0.02256  0.02256  0.02256  0.02256      969.1 2022-10-24 04:12:59.999000+02:00     21.862896       1                    0.0                0.000000   1666577520000    1666577579999            NaN           NaN\n2022-10-24 04:13:00+02:00 2022-10-24 04:13:00+02:00  0.02256  0.02256  0.02256  0.02256    18458.1 2022-10-24 04:13:59.999000+02:00    416.414736       2                    0.0                0.000000   1666577580000    1666577639999            NaN           NaN\n2022-10-24 04:14:00+02:00 2022-10-24 04:14:00+02:00  0.02256  0.02256  0.02255  0.02255    19298.0 2022-10-24 04:14:59.999000+02:00    435.312815       4                14291.5              322.416240   1666577640000    1666577699999            NaN           NaN\n2022-10-24 04:15:00+02:00 2022-10-24 04:15:00+02:00  0.02256  0.02256  0.02255  0.02255   150932.1 2022-10-24 04:15:59.999000+02:00   3404.414626      15                39018.7              880.261872   1666577700000    1666577759999            NaN           NaN\n2022-10-24 04:16:00+02:00 2022-10-24 04:16:00+02:00  0.02256  0.02256  0.02255  0.02255    35030.5 2022-10-24 04:16:59.999000+02:00    789.990935       8                12653.2              285.382820   1666577760000    1666577819999            NaN           NaN\n...                                             ...      ...      ...      ...      ...        ...                              ...           ...     ...                    ...                     ...             ...              ...            ...           ...\n2023-10-24 10:06:00+02:00 2023-10-24 10:06:00+02:00  0.01865  0.01866  0.01864  0.01866  1147348.7 2023-10-24 10:06:59.999000+02:00  21397.868762     138               468047.2             8732.264696   1698134760000    1698134819999    199964493.0   199964630.0\n2023-10-24 10:07:00+02:00 2023-10-24 10:07:00+02:00  0.01866  0.01868  0.01866  0.01868   628244.9 2023-10-24 10:07:59.999000+02:00  11726.758820      91               308548.7             5760.543452   1698134820000    1698134879999    199964631.0   199964721.0\n2023-10-24 10:08:00+02:00 2023-10-24 10:08:00+02:00  0.01869  0.01872  0.01866  0.01868  2566382.6 2023-10-24 10:08:59.999000+02:00  47975.388897     246              1352016.8            25279.034752   1698134880000    1698134939999    199964722.0   199964967.0\n2023-10-24 10:09:00+02:00 2023-10-24 10:09:00+02:00  0.01868  0.01871  0.01867  0.01871   667421.1 2023-10-24 10:09:59.999000+02:00  12474.524140      65               366648.1             6856.055040   1698134940000    1698134999999    199964968.0   199965032.0\n2023-10-24 10:10:00+02:00 2023-10-24 10:10:00+02:00  0.01871  0.01873  0.01871  0.01872  2420013.3 2023-10-24 10:10:59.999000+02:00  45302.324181     145               602899.0            11288.433854   1698135000000    1698135059999    199965033.0   199965177.0\n\n[524565 rows x 15 columns]",
      "text/html": "<div>\n<style scoped>\n    .dataframe tbody tr th:only-of-type {\n        vertical-align: middle;\n    }\n\n    .dataframe tbody tr th {\n        vertical-align: top;\n    }\n\n    .dataframe thead th {\n        text-align: right;\n    }\n</style>\n<table border=\"1\" class=\"dataframe\">\n  <thead>\n    <tr style=\"text-align: right;\">\n      <th></th>\n      <th>Open time</th>\n      <th>Open</th>\n      <th>High</th>\n      <th>Low</th>\n      <th>Close</th>\n      <th>Volume</th>\n      <th>Close time</th>\n      <th>Quote volume</th>\n      <th>Trades</th>\n      <th>Taker buy base volume</th>\n      <th>Taker buy quote volume</th>\n      <th>Open timestamp</th>\n      <th>Close timestamp</th>\n      <th>First TradeId</th>\n      <th>Last TradeId</th>\n    </tr>\n    <tr>\n      <th>VETUSDT 1m Europe/Madrid</th>\n      <th></th>\n      <th></th>\n      <th></th>\n      <th></th>\n      <th></th>\n      <th></th>\n      <th></th>\n      <th></th>\n      <th></th>\n      <th></th>\n      <th></th>\n      <th></th>\n      <th></th>\n      <th></th>\n      <th></th>\n    </tr>\n  </thead>\n  <tbody>\n    <tr>\n      <th>2022-10-24 04:12:00+02:00</th>\n      <td>2022-10-24 04:12:00+02:00</td>\n      <td>0.02256</td>\n      <td>0.02256</td>\n      <td>0.02256</td>\n      <td>0.02256</td>\n      <td>969.1</td>\n      <td>2022-10-24 04:12:59.999000+02:00</td>\n      <td>21.862896</td>\n      <td>1</td>\n      <td>0.0</td>\n      <td>0.000000</td>\n      <td>1666577520000</td>\n      <td>1666577579999</td>\n      <td>NaN</td>\n      <td>NaN</td>\n    </tr>\n    <tr>\n      <th>2022-10-24 04:13:00+02:00</th>\n      <td>2022-10-24 04:13:00+02:00</td>\n      <td>0.02256</td>\n      <td>0.02256</td>\n      <td>0.02256</td>\n      <td>0.02256</td>\n      <td>18458.1</td>\n      <td>2022-10-24 04:13:59.999000+02:00</td>\n      <td>416.414736</td>\n      <td>2</td>\n      <td>0.0</td>\n      <td>0.000000</td>\n      <td>1666577580000</td>\n      <td>1666577639999</td>\n      <td>NaN</td>\n      <td>NaN</td>\n    </tr>\n    <tr>\n      <th>2022-10-24 04:14:00+02:00</th>\n      <td>2022-10-24 04:14:00+02:00</td>\n      <td>0.02256</td>\n      <td>0.02256</td>\n      <td>0.02255</td>\n      <td>0.02255</td>\n      <td>19298.0</td>\n      <td>2022-10-24 04:14:59.999000+02:00</td>\n      <td>435.312815</td>\n      <td>4</td>\n      <td>14291.5</td>\n      <td>322.416240</td>\n      <td>1666577640000</td>\n      <td>1666577699999</td>\n      <td>NaN</td>\n      <td>NaN</td>\n    </tr>\n    <tr>\n      <th>2022-10-24 04:15:00+02:00</th>\n      <td>2022-10-24 04:15:00+02:00</td>\n      <td>0.02256</td>\n      <td>0.02256</td>\n      <td>0.02255</td>\n      <td>0.02255</td>\n      <td>150932.1</td>\n      <td>2022-10-24 04:15:59.999000+02:00</td>\n      <td>3404.414626</td>\n      <td>15</td>\n      <td>39018.7</td>\n      <td>880.261872</td>\n      <td>1666577700000</td>\n      <td>1666577759999</td>\n      <td>NaN</td>\n      <td>NaN</td>\n    </tr>\n    <tr>\n      <th>2022-10-24 04:16:00+02:00</th>\n      <td>2022-10-24 04:16:00+02:00</td>\n      <td>0.02256</td>\n      <td>0.02256</td>\n      <td>0.02255</td>\n      <td>0.02255</td>\n      <td>35030.5</td>\n      <td>2022-10-24 04:16:59.999000+02:00</td>\n      <td>789.990935</td>\n      <td>8</td>\n      <td>12653.2</td>\n      <td>285.382820</td>\n      <td>1666577760000</td>\n      <td>1666577819999</td>\n      <td>NaN</td>\n      <td>NaN</td>\n    </tr>\n    <tr>\n      <th>...</th>\n      <td>...</td>\n      <td>...</td>\n      <td>...</td>\n      <td>...</td>\n      <td>...</td>\n      <td>...</td>\n      <td>...</td>\n      <td>...</td>\n      <td>...</td>\n      <td>...</td>\n      <td>...</td>\n      <td>...</td>\n      <td>...</td>\n      <td>...</td>\n      <td>...</td>\n    </tr>\n    <tr>\n      <th>2023-10-24 10:06:00+02:00</th>\n      <td>2023-10-24 10:06:00+02:00</td>\n      <td>0.01865</td>\n      <td>0.01866</td>\n      <td>0.01864</td>\n      <td>0.01866</td>\n      <td>1147348.7</td>\n      <td>2023-10-24 10:06:59.999000+02:00</td>\n      <td>21397.868762</td>\n      <td>138</td>\n      <td>468047.2</td>\n      <td>8732.264696</td>\n      <td>1698134760000</td>\n      <td>1698134819999</td>\n      <td>199964493.0</td>\n      <td>199964630.0</td>\n    </tr>\n    <tr>\n      <th>2023-10-24 10:07:00+02:00</th>\n      <td>2023-10-24 10:07:00+02:00</td>\n      <td>0.01866</td>\n      <td>0.01868</td>\n      <td>0.01866</td>\n      <td>0.01868</td>\n      <td>628244.9</td>\n      <td>2023-10-24 10:07:59.999000+02:00</td>\n      <td>11726.758820</td>\n      <td>91</td>\n      <td>308548.7</td>\n      <td>5760.543452</td>\n      <td>1698134820000</td>\n      <td>1698134879999</td>\n      <td>199964631.0</td>\n      <td>199964721.0</td>\n    </tr>\n    <tr>\n      <th>2023-10-24 10:08:00+02:00</th>\n      <td>2023-10-24 10:08:00+02:00</td>\n      <td>0.01869</td>\n      <td>0.01872</td>\n      <td>0.01866</td>\n      <td>0.01868</td>\n      <td>2566382.6</td>\n      <td>2023-10-24 10:08:59.999000+02:00</td>\n      <td>47975.388897</td>\n      <td>246</td>\n      <td>1352016.8</td>\n      <td>25279.034752</td>\n      <td>1698134880000</td>\n      <td>1698134939999</td>\n      <td>199964722.0</td>\n      <td>199964967.0</td>\n    </tr>\n    <tr>\n      <th>2023-10-24 10:09:00+02:00</th>\n      <td>2023-10-24 10:09:00+02:00</td>\n      <td>0.01868</td>\n      <td>0.01871</td>\n      <td>0.01867</td>\n      <td>0.01871</td>\n      <td>667421.1</td>\n      <td>2023-10-24 10:09:59.999000+02:00</td>\n      <td>12474.524140</td>\n      <td>65</td>\n      <td>366648.1</td>\n      <td>6856.055040</td>\n      <td>1698134940000</td>\n      <td>1698134999999</td>\n      <td>199964968.0</td>\n      <td>199965032.0</td>\n    </tr>\n    <tr>\n      <th>2023-10-24 10:10:00+02:00</th>\n      <td>2023-10-24 10:10:00+02:00</td>\n      <td>0.01871</td>\n      <td>0.01873</td>\n      <td>0.01871</td>\n      <td>0.01872</td>\n      <td>2420013.3</td>\n      <td>2023-10-24 10:10:59.999000+02:00</td>\n      <td>45302.324181</td>\n      <td>145</td>\n      <td>602899.0</td>\n      <td>11288.433854</td>\n      <td>1698135000000</td>\n      <td>1698135059999</td>\n      <td>199965033.0</td>\n      <td>199965177.0</td>\n    </tr>\n  </tbody>\n</table>\n<p>524565 rows × 15 columns</p>\n</div>"
     },
     "execution_count": 15,
     "metadata": {},
     "output_type": "execute_result"
    }
   ],
   "source": [
    "df = sym.df\n",
    "df"
   ]
  },
  {
   "cell_type": "code",
   "execution_count": 16,
   "id": "6915be60",
   "metadata": {
    "ExecuteTime": {
     "end_time": "2023-10-24T08:11:19.689773100Z",
     "start_time": "2023-10-24T08:11:19.435624600Z"
    }
   },
   "outputs": [
    {
     "data": {
      "text/plain": "                                          Open time     Open     High      Low    Close      Volume                       Close time   Quote volume  Trades  Taker buy base volume  Taker buy quote volume  Open timestamp  Close timestamp\nVETUSDT 30m Europe/Madrid                                                                                                                                                                                                                  \n2022-10-24 04:00:00+02:00 2022-10-24 04:12:00+02:00  0.02256  0.02257  0.02254  0.02255   1567545.1 2022-10-24 04:29:59.999000+02:00   35347.741875     126               644398.7            14534.790379    1.666578e+12     1.666579e+12\n2022-10-24 04:30:00+02:00 2022-10-24 04:30:00+02:00  0.02256  0.02257  0.02252  0.02252   1931393.1 2022-10-24 04:59:59.999000+02:00   43533.905714     218              1249366.0            28166.962509    1.666579e+12     1.666580e+12\n2022-10-24 05:00:00+02:00 2022-10-24 05:00:00+02:00  0.02252  0.02254  0.02238  0.02245   4047678.9 2022-10-24 05:29:59.999000+02:00   90840.233790     476              1377369.0            30897.478767    1.666580e+12     1.666582e+12\n2022-10-24 05:30:00+02:00 2022-10-24 05:30:00+02:00  0.02244  0.02247  0.02242  0.02246   2251637.8 2022-10-24 05:59:59.999000+02:00   50532.676672     182              1006003.5            22581.357073    1.666582e+12     1.666584e+12\n2022-10-24 06:00:00+02:00 2022-10-24 06:00:00+02:00  0.02246  0.02249  0.02230  0.02237   6475412.0 2022-10-24 06:29:59.999000+02:00  144865.603263     735              2103199.4            47090.138629    1.666584e+12     1.666586e+12\n...                                             ...      ...      ...      ...      ...         ...                              ...            ...     ...                    ...                     ...             ...              ...\n2023-10-24 08:00:00+02:00 2023-10-24 08:25:00+02:00  0.01865  0.01867  0.01854  0.01856   6758172.6 2023-10-24 08:29:59.999000+02:00  125769.742885     937              3019567.6            56190.878291    1.698129e+12     1.698129e+12\n2023-10-24 08:30:00+02:00 2023-10-24 08:30:00+02:00  0.01855  0.01870  0.01850  0.01868  21597335.8 2023-10-24 08:59:59.999000+02:00  402024.672823    2360             12613058.3           234871.035023    1.698129e+12     1.698131e+12\n2023-10-24 09:00:00+02:00 2023-10-24 09:00:00+02:00  0.01869  0.01872  0.01848  0.01849  35830876.7 2023-10-24 09:29:59.999000+02:00  667023.968861    3498             17863804.8           332765.091996    1.698131e+12     1.698133e+12\n2023-10-24 09:30:00+02:00 2023-10-24 09:30:00+02:00  0.01849  0.01859  0.01842  0.01859  34262279.5 2023-10-24 09:59:59.999000+02:00  632782.492476    2982             16821435.7           310733.093299    1.698133e+12     1.698134e+12\n2023-10-24 10:00:00+02:00 2023-10-24 10:00:00+02:00  0.01859  0.01873  0.01855  0.01872  15576998.8 2023-10-24 10:10:59.999000+02:00  290579.059952    1311              7251625.6           135261.459238    1.698134e+12     1.698135e+12\n\n[17533 rows x 13 columns]",
      "text/html": "<div>\n<style scoped>\n    .dataframe tbody tr th:only-of-type {\n        vertical-align: middle;\n    }\n\n    .dataframe tbody tr th {\n        vertical-align: top;\n    }\n\n    .dataframe thead th {\n        text-align: right;\n    }\n</style>\n<table border=\"1\" class=\"dataframe\">\n  <thead>\n    <tr style=\"text-align: right;\">\n      <th></th>\n      <th>Open time</th>\n      <th>Open</th>\n      <th>High</th>\n      <th>Low</th>\n      <th>Close</th>\n      <th>Volume</th>\n      <th>Close time</th>\n      <th>Quote volume</th>\n      <th>Trades</th>\n      <th>Taker buy base volume</th>\n      <th>Taker buy quote volume</th>\n      <th>Open timestamp</th>\n      <th>Close timestamp</th>\n    </tr>\n    <tr>\n      <th>VETUSDT 30m Europe/Madrid</th>\n      <th></th>\n      <th></th>\n      <th></th>\n      <th></th>\n      <th></th>\n      <th></th>\n      <th></th>\n      <th></th>\n      <th></th>\n      <th></th>\n      <th></th>\n      <th></th>\n      <th></th>\n    </tr>\n  </thead>\n  <tbody>\n    <tr>\n      <th>2022-10-24 04:00:00+02:00</th>\n      <td>2022-10-24 04:12:00+02:00</td>\n      <td>0.02256</td>\n      <td>0.02257</td>\n      <td>0.02254</td>\n      <td>0.02255</td>\n      <td>1567545.1</td>\n      <td>2022-10-24 04:29:59.999000+02:00</td>\n      <td>35347.741875</td>\n      <td>126</td>\n      <td>644398.7</td>\n      <td>14534.790379</td>\n      <td>1.666578e+12</td>\n      <td>1.666579e+12</td>\n    </tr>\n    <tr>\n      <th>2022-10-24 04:30:00+02:00</th>\n      <td>2022-10-24 04:30:00+02:00</td>\n      <td>0.02256</td>\n      <td>0.02257</td>\n      <td>0.02252</td>\n      <td>0.02252</td>\n      <td>1931393.1</td>\n      <td>2022-10-24 04:59:59.999000+02:00</td>\n      <td>43533.905714</td>\n      <td>218</td>\n      <td>1249366.0</td>\n      <td>28166.962509</td>\n      <td>1.666579e+12</td>\n      <td>1.666580e+12</td>\n    </tr>\n    <tr>\n      <th>2022-10-24 05:00:00+02:00</th>\n      <td>2022-10-24 05:00:00+02:00</td>\n      <td>0.02252</td>\n      <td>0.02254</td>\n      <td>0.02238</td>\n      <td>0.02245</td>\n      <td>4047678.9</td>\n      <td>2022-10-24 05:29:59.999000+02:00</td>\n      <td>90840.233790</td>\n      <td>476</td>\n      <td>1377369.0</td>\n      <td>30897.478767</td>\n      <td>1.666580e+12</td>\n      <td>1.666582e+12</td>\n    </tr>\n    <tr>\n      <th>2022-10-24 05:30:00+02:00</th>\n      <td>2022-10-24 05:30:00+02:00</td>\n      <td>0.02244</td>\n      <td>0.02247</td>\n      <td>0.02242</td>\n      <td>0.02246</td>\n      <td>2251637.8</td>\n      <td>2022-10-24 05:59:59.999000+02:00</td>\n      <td>50532.676672</td>\n      <td>182</td>\n      <td>1006003.5</td>\n      <td>22581.357073</td>\n      <td>1.666582e+12</td>\n      <td>1.666584e+12</td>\n    </tr>\n    <tr>\n      <th>2022-10-24 06:00:00+02:00</th>\n      <td>2022-10-24 06:00:00+02:00</td>\n      <td>0.02246</td>\n      <td>0.02249</td>\n      <td>0.02230</td>\n      <td>0.02237</td>\n      <td>6475412.0</td>\n      <td>2022-10-24 06:29:59.999000+02:00</td>\n      <td>144865.603263</td>\n      <td>735</td>\n      <td>2103199.4</td>\n      <td>47090.138629</td>\n      <td>1.666584e+12</td>\n      <td>1.666586e+12</td>\n    </tr>\n    <tr>\n      <th>...</th>\n      <td>...</td>\n      <td>...</td>\n      <td>...</td>\n      <td>...</td>\n      <td>...</td>\n      <td>...</td>\n      <td>...</td>\n      <td>...</td>\n      <td>...</td>\n      <td>...</td>\n      <td>...</td>\n      <td>...</td>\n      <td>...</td>\n    </tr>\n    <tr>\n      <th>2023-10-24 08:00:00+02:00</th>\n      <td>2023-10-24 08:25:00+02:00</td>\n      <td>0.01865</td>\n      <td>0.01867</td>\n      <td>0.01854</td>\n      <td>0.01856</td>\n      <td>6758172.6</td>\n      <td>2023-10-24 08:29:59.999000+02:00</td>\n      <td>125769.742885</td>\n      <td>937</td>\n      <td>3019567.6</td>\n      <td>56190.878291</td>\n      <td>1.698129e+12</td>\n      <td>1.698129e+12</td>\n    </tr>\n    <tr>\n      <th>2023-10-24 08:30:00+02:00</th>\n      <td>2023-10-24 08:30:00+02:00</td>\n      <td>0.01855</td>\n      <td>0.01870</td>\n      <td>0.01850</td>\n      <td>0.01868</td>\n      <td>21597335.8</td>\n      <td>2023-10-24 08:59:59.999000+02:00</td>\n      <td>402024.672823</td>\n      <td>2360</td>\n      <td>12613058.3</td>\n      <td>234871.035023</td>\n      <td>1.698129e+12</td>\n      <td>1.698131e+12</td>\n    </tr>\n    <tr>\n      <th>2023-10-24 09:00:00+02:00</th>\n      <td>2023-10-24 09:00:00+02:00</td>\n      <td>0.01869</td>\n      <td>0.01872</td>\n      <td>0.01848</td>\n      <td>0.01849</td>\n      <td>35830876.7</td>\n      <td>2023-10-24 09:29:59.999000+02:00</td>\n      <td>667023.968861</td>\n      <td>3498</td>\n      <td>17863804.8</td>\n      <td>332765.091996</td>\n      <td>1.698131e+12</td>\n      <td>1.698133e+12</td>\n    </tr>\n    <tr>\n      <th>2023-10-24 09:30:00+02:00</th>\n      <td>2023-10-24 09:30:00+02:00</td>\n      <td>0.01849</td>\n      <td>0.01859</td>\n      <td>0.01842</td>\n      <td>0.01859</td>\n      <td>34262279.5</td>\n      <td>2023-10-24 09:59:59.999000+02:00</td>\n      <td>632782.492476</td>\n      <td>2982</td>\n      <td>16821435.7</td>\n      <td>310733.093299</td>\n      <td>1.698133e+12</td>\n      <td>1.698134e+12</td>\n    </tr>\n    <tr>\n      <th>2023-10-24 10:00:00+02:00</th>\n      <td>2023-10-24 10:00:00+02:00</td>\n      <td>0.01859</td>\n      <td>0.01873</td>\n      <td>0.01855</td>\n      <td>0.01872</td>\n      <td>15576998.8</td>\n      <td>2023-10-24 10:10:59.999000+02:00</td>\n      <td>290579.059952</td>\n      <td>1311</td>\n      <td>7251625.6</td>\n      <td>135261.459238</td>\n      <td>1.698134e+12</td>\n      <td>1.698135e+12</td>\n    </tr>\n  </tbody>\n</table>\n<p>17533 rows × 13 columns</p>\n</div>"
     },
     "execution_count": 16,
     "metadata": {},
     "output_type": "execute_result"
    }
   ],
   "source": [
    "sym.resample(tick_interval=\"30m\")"
   ]
  }
 ],
 "metadata": {
  "kernelspec": {
   "display_name": "Python 3 (ipykernel)",
   "language": "python",
   "name": "python3"
  },
  "language_info": {
   "codemirror_mode": {
    "name": "ipython",
    "version": 3
   },
   "file_extension": ".py",
   "mimetype": "text/x-python",
   "name": "python",
   "nbconvert_exporter": "python",
   "pygments_lexer": "ipython3",
   "version": "3.11.2"
  }
 },
 "nbformat": 4,
 "nbformat_minor": 5
}
