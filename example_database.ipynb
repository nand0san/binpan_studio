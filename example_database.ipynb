{
 "cells": [
  {
   "cell_type": "code",
   "execution_count": 1,
   "id": "6cb5c3ab",
   "metadata": {
    "ExecuteTime": {
     "end_time": "2023-10-08T09:49:39.393156800Z",
     "start_time": "2023-10-08T09:49:39.380249500Z"
    }
   },
   "outputs": [
    {
     "data": {
      "text/html": [
       "<style>.container { width:100% !important; }</style>"
      ],
      "text/plain": [
       "<IPython.core.display.HTML object>"
      ]
     },
     "metadata": {},
     "output_type": "display_data"
    }
   ],
   "source": [
    "from IPython.display import display, HTML\n",
    "\n",
    "display(HTML(\"<style>.container { width:100% !important; }</style>\"))"
   ]
  },
  {
   "cell_type": "code",
   "execution_count": 2,
   "id": "618c7267",
   "metadata": {
    "ExecuteTime": {
     "end_time": "2023-10-08T09:49:39.462642400Z",
     "start_time": "2023-10-08T09:49:39.393156800Z"
    }
   },
   "outputs": [
    {
     "name": "stdout",
     "output_type": "stream",
     "text": [
      "Python 3.11.2\n"
     ]
    }
   ],
   "source": [
    "!python -V"
   ]
  },
  {
   "cell_type": "code",
   "execution_count": 3,
   "id": "da1cbca0",
   "metadata": {
    "ExecuteTime": {
     "end_time": "2023-10-08T09:49:47.500155100Z",
     "start_time": "2023-10-08T09:49:39.462642400Z"
    }
   },
   "outputs": [
    {
     "name": "stdout",
     "output_type": "stream",
     "text": [
      "Cannot import numba: only Python versions >=3.7,<3.11 are supported. Using Numpy.\n"
     ]
    }
   ],
   "source": [
    "import binpan\n",
    "from binpan import handlers\n",
    "from random import choice"
   ]
  },
  {
   "cell_type": "code",
   "execution_count": 4,
   "id": "ea6a6242",
   "metadata": {
    "ExecuteTime": {
     "end_time": "2023-10-08T09:49:47.505616Z",
     "start_time": "2023-10-08T09:49:47.500155100Z"
    }
   },
   "outputs": [
    {
     "data": {
      "text/plain": [
       "'0.5.21'"
      ]
     },
     "execution_count": 4,
     "metadata": {},
     "output_type": "execute_result"
    }
   ],
   "source": [
    "binpan.__version__"
   ]
  },
  {
   "cell_type": "markdown",
   "id": "d20c7e5c",
   "metadata": {},
   "source": [
    "# Database connector"
   ]
  },
  {
   "cell_type": "code",
   "execution_count": 5,
   "id": "b0575b3f",
   "metadata": {},
   "outputs": [
    {
     "name": "stdout",
     "output_type": "stream",
     "text": [
      "Host: 192.168.89.242\n",
      "Port: 5432\n",
      "User: nando\n",
      "Database: crypto\n"
     ]
    }
   ],
   "source": [
    "db = binpan.Database(host=\"192.168.89.242\")"
   ]
  },
  {
   "cell_type": "code",
   "execution_count": 6,
   "id": "44e6863f",
   "metadata": {},
   "outputs": [
    {
     "name": "stdout",
     "output_type": "stream",
     "text": [
      "Host: 192.168.89.242\n",
      "Port: 5432\n",
      "User: nando\n",
      "Password: I6d4imwC0arZSr98WaIN5w==\n",
      "Database: crypto\n",
      "Connection: <connection object at 0x00000230C1C35470; dsn: 'user=nando password=xxx connect_timeout=10 dbname=crypto host=192.168.89.242 port=5432', closed: 0>\n",
      "Cursor: <cursor object at 0x0000023091075EE0; closed: 0>\n"
     ]
    }
   ],
   "source": [
    "db.status()"
   ]
  },
  {
   "cell_type": "code",
   "execution_count": 7,
   "id": "2b4a3444",
   "metadata": {},
   "outputs": [
    {
     "data": {
      "text/plain": [
       "['ltcusdt_aggtrade']"
      ]
     },
     "execution_count": 7,
     "metadata": {},
     "output_type": "execute_result"
    }
   ],
   "source": [
    "tables = db.get_tables(table_type=\"aggtrade\")\n",
    "tables"
   ]
  },
  {
   "cell_type": "code",
   "execution_count": 8,
   "id": "d44b6217",
   "metadata": {},
   "outputs": [
    {
     "data": {
      "text/plain": [
       "'ltcusdt_aggtrade'"
      ]
     },
     "execution_count": 8,
     "metadata": {},
     "output_type": "execute_result"
    }
   ],
   "source": [
    "table=choice(tables)\n",
    "table"
   ]
  },
  {
   "cell_type": "code",
   "execution_count": 9,
   "id": "30353955",
   "metadata": {},
   "outputs": [
    {
     "data": {
      "text/plain": [
       "True"
      ]
     },
     "execution_count": 9,
     "metadata": {},
     "output_type": "execute_result"
    }
   ],
   "source": [
    "\"ltcusdt_aggtrade\" in tables"
   ]
  },
  {
   "cell_type": "code",
   "execution_count": 10,
   "id": "718cc0cb",
   "metadata": {},
   "outputs": [
    {
     "data": {
      "text/plain": [
       "['trade_id',\n",
       " 'price',\n",
       " 'quantity',\n",
       " 'first_trade_id',\n",
       " 'last_trade_id',\n",
       " 'time',\n",
       " 'seller_taker']"
      ]
     },
     "execution_count": 10,
     "metadata": {},
     "output_type": "execute_result"
    }
   ],
   "source": [
    "db.get_columns(table_name=\"ltcusdt_aggtrade\")"
   ]
  },
  {
   "cell_type": "code",
   "execution_count": 11,
   "id": "9632ef99",
   "metadata": {},
   "outputs": [],
   "source": [
    "symbol = table.split(\"_\")[0]\n",
    "tick_interval = table.split(\"_\")[-1]"
   ]
  },
  {
   "cell_type": "code",
   "execution_count": 12,
   "id": "8c00700b",
   "metadata": {
    "scrolled": false
   },
   "outputs": [
    {
     "name": "stderr",
     "output_type": "stream",
     "text": [
      "2023-10-10\t 01:12:46     INFO get_candles_by_time_stamps -> symbol=LTCUSDT tick_interval=1h start=2023-08-29 09:12:46 end=2023-10-10 00:59:58 channel:ltcusdt@kline_1h\n",
      "2023-10-10\t 01:12:46     INFO API request: LTCUSDT 2023-08-29 09:12:46 to 2023-10-10 01:12:46\n"
     ]
    }
   ],
   "source": [
    "sym = binpan.Symbol(symbol=symbol,\n",
    "                    tick_interval=\"1h\",\n",
    "                    time_zone='Europe/Madrid',\n",
    "                    postgres_agg_trades=\"192.168.89.242\")"
   ]
  },
  {
   "cell_type": "code",
   "execution_count": 13,
   "id": "60af5267",
   "metadata": {},
   "outputs": [
    {
     "data": {
      "text/html": [
       "<div>\n",
       "<style scoped>\n",
       "    .dataframe tbody tr th:only-of-type {\n",
       "        vertical-align: middle;\n",
       "    }\n",
       "\n",
       "    .dataframe tbody tr th {\n",
       "        vertical-align: top;\n",
       "    }\n",
       "\n",
       "    .dataframe thead th {\n",
       "        text-align: right;\n",
       "    }\n",
       "</style>\n",
       "<table border=\"1\" class=\"dataframe\">\n",
       "  <thead>\n",
       "    <tr style=\"text-align: right;\">\n",
       "      <th></th>\n",
       "      <th>Open time</th>\n",
       "      <th>Open</th>\n",
       "      <th>High</th>\n",
       "      <th>Low</th>\n",
       "      <th>Close</th>\n",
       "      <th>Volume</th>\n",
       "      <th>Close time</th>\n",
       "      <th>Quote volume</th>\n",
       "      <th>Trades</th>\n",
       "      <th>Taker buy base volume</th>\n",
       "      <th>Taker buy quote volume</th>\n",
       "      <th>Ignore</th>\n",
       "      <th>Open timestamp</th>\n",
       "      <th>Close timestamp</th>\n",
       "    </tr>\n",
       "    <tr>\n",
       "      <th>LTCUSDT 1h Europe/Madrid</th>\n",
       "      <th></th>\n",
       "      <th></th>\n",
       "      <th></th>\n",
       "      <th></th>\n",
       "      <th></th>\n",
       "      <th></th>\n",
       "      <th></th>\n",
       "      <th></th>\n",
       "      <th></th>\n",
       "      <th></th>\n",
       "      <th></th>\n",
       "      <th></th>\n",
       "      <th></th>\n",
       "      <th></th>\n",
       "    </tr>\n",
       "  </thead>\n",
       "  <tbody>\n",
       "    <tr>\n",
       "      <th>2023-08-29 10:00:00+02:00</th>\n",
       "      <td>2023-08-29 10:00:00+02:00</td>\n",
       "      <td>65.10</td>\n",
       "      <td>65.14</td>\n",
       "      <td>64.91</td>\n",
       "      <td>65.01</td>\n",
       "      <td>11518.675</td>\n",
       "      <td>2023-08-29 10:59:59.999000+02:00</td>\n",
       "      <td>7.489077e+05</td>\n",
       "      <td>2009</td>\n",
       "      <td>4615.717</td>\n",
       "      <td>300033.71766</td>\n",
       "      <td>0</td>\n",
       "      <td>1693296000000</td>\n",
       "      <td>1693299599999</td>\n",
       "    </tr>\n",
       "    <tr>\n",
       "      <th>2023-08-29 11:00:00+02:00</th>\n",
       "      <td>2023-08-29 11:00:00+02:00</td>\n",
       "      <td>65.02</td>\n",
       "      <td>65.09</td>\n",
       "      <td>64.89</td>\n",
       "      <td>64.95</td>\n",
       "      <td>7530.317</td>\n",
       "      <td>2023-08-29 11:59:59.999000+02:00</td>\n",
       "      <td>4.895728e+05</td>\n",
       "      <td>1508</td>\n",
       "      <td>3402.279</td>\n",
       "      <td>221196.89785</td>\n",
       "      <td>0</td>\n",
       "      <td>1693299600000</td>\n",
       "      <td>1693303199999</td>\n",
       "    </tr>\n",
       "    <tr>\n",
       "      <th>2023-08-29 12:00:00+02:00</th>\n",
       "      <td>2023-08-29 12:00:00+02:00</td>\n",
       "      <td>64.95</td>\n",
       "      <td>64.99</td>\n",
       "      <td>64.60</td>\n",
       "      <td>64.85</td>\n",
       "      <td>21927.647</td>\n",
       "      <td>2023-08-29 12:59:59.999000+02:00</td>\n",
       "      <td>1.420253e+06</td>\n",
       "      <td>2865</td>\n",
       "      <td>10756.797</td>\n",
       "      <td>696847.99878</td>\n",
       "      <td>0</td>\n",
       "      <td>1693303200000</td>\n",
       "      <td>1693306799999</td>\n",
       "    </tr>\n",
       "    <tr>\n",
       "      <th>2023-08-29 13:00:00+02:00</th>\n",
       "      <td>2023-08-29 13:00:00+02:00</td>\n",
       "      <td>64.86</td>\n",
       "      <td>65.04</td>\n",
       "      <td>64.79</td>\n",
       "      <td>64.81</td>\n",
       "      <td>11804.479</td>\n",
       "      <td>2023-08-29 13:59:59.999000+02:00</td>\n",
       "      <td>7.663028e+05</td>\n",
       "      <td>2136</td>\n",
       "      <td>6983.583</td>\n",
       "      <td>453447.33181</td>\n",
       "      <td>0</td>\n",
       "      <td>1693306800000</td>\n",
       "      <td>1693310399999</td>\n",
       "    </tr>\n",
       "    <tr>\n",
       "      <th>2023-08-29 14:00:00+02:00</th>\n",
       "      <td>2023-08-29 14:00:00+02:00</td>\n",
       "      <td>64.81</td>\n",
       "      <td>64.95</td>\n",
       "      <td>64.66</td>\n",
       "      <td>64.94</td>\n",
       "      <td>11321.209</td>\n",
       "      <td>2023-08-29 14:59:59.999000+02:00</td>\n",
       "      <td>7.338337e+05</td>\n",
       "      <td>2072</td>\n",
       "      <td>4943.972</td>\n",
       "      <td>320507.51611</td>\n",
       "      <td>0</td>\n",
       "      <td>1693310400000</td>\n",
       "      <td>1693313999999</td>\n",
       "    </tr>\n",
       "    <tr>\n",
       "      <th>...</th>\n",
       "      <td>...</td>\n",
       "      <td>...</td>\n",
       "      <td>...</td>\n",
       "      <td>...</td>\n",
       "      <td>...</td>\n",
       "      <td>...</td>\n",
       "      <td>...</td>\n",
       "      <td>...</td>\n",
       "      <td>...</td>\n",
       "      <td>...</td>\n",
       "      <td>...</td>\n",
       "      <td>...</td>\n",
       "      <td>...</td>\n",
       "      <td>...</td>\n",
       "    </tr>\n",
       "    <tr>\n",
       "      <th>2023-10-09 20:00:00+02:00</th>\n",
       "      <td>2023-10-09 20:00:00+02:00</td>\n",
       "      <td>62.70</td>\n",
       "      <td>63.04</td>\n",
       "      <td>62.66</td>\n",
       "      <td>62.89</td>\n",
       "      <td>15685.020</td>\n",
       "      <td>2023-10-09 20:59:59.999000+02:00</td>\n",
       "      <td>9.858820e+05</td>\n",
       "      <td>3279</td>\n",
       "      <td>7727.567</td>\n",
       "      <td>485846.55403</td>\n",
       "      <td>0</td>\n",
       "      <td>1696874400000</td>\n",
       "      <td>1696877999999</td>\n",
       "    </tr>\n",
       "    <tr>\n",
       "      <th>2023-10-09 21:00:00+02:00</th>\n",
       "      <td>2023-10-09 21:00:00+02:00</td>\n",
       "      <td>62.88</td>\n",
       "      <td>63.06</td>\n",
       "      <td>62.76</td>\n",
       "      <td>63.05</td>\n",
       "      <td>10855.085</td>\n",
       "      <td>2023-10-09 21:59:59.999000+02:00</td>\n",
       "      <td>6.828348e+05</td>\n",
       "      <td>2226</td>\n",
       "      <td>4920.118</td>\n",
       "      <td>309615.77774</td>\n",
       "      <td>0</td>\n",
       "      <td>1696878000000</td>\n",
       "      <td>1696881599999</td>\n",
       "    </tr>\n",
       "    <tr>\n",
       "      <th>2023-10-09 22:00:00+02:00</th>\n",
       "      <td>2023-10-09 22:00:00+02:00</td>\n",
       "      <td>63.05</td>\n",
       "      <td>63.19</td>\n",
       "      <td>62.95</td>\n",
       "      <td>62.96</td>\n",
       "      <td>8608.566</td>\n",
       "      <td>2023-10-09 22:59:59.999000+02:00</td>\n",
       "      <td>5.430335e+05</td>\n",
       "      <td>2094</td>\n",
       "      <td>3526.892</td>\n",
       "      <td>222539.44320</td>\n",
       "      <td>0</td>\n",
       "      <td>1696881600000</td>\n",
       "      <td>1696885199999</td>\n",
       "    </tr>\n",
       "    <tr>\n",
       "      <th>2023-10-09 23:00:00+02:00</th>\n",
       "      <td>2023-10-09 23:00:00+02:00</td>\n",
       "      <td>62.96</td>\n",
       "      <td>63.18</td>\n",
       "      <td>62.85</td>\n",
       "      <td>63.07</td>\n",
       "      <td>3520.724</td>\n",
       "      <td>2023-10-09 23:59:59.999000+02:00</td>\n",
       "      <td>2.218731e+05</td>\n",
       "      <td>1495</td>\n",
       "      <td>1982.687</td>\n",
       "      <td>124962.93406</td>\n",
       "      <td>0</td>\n",
       "      <td>1696885200000</td>\n",
       "      <td>1696888799999</td>\n",
       "    </tr>\n",
       "    <tr>\n",
       "      <th>2023-10-10 00:00:00+02:00</th>\n",
       "      <td>2023-10-10 00:00:00+02:00</td>\n",
       "      <td>63.08</td>\n",
       "      <td>63.12</td>\n",
       "      <td>62.95</td>\n",
       "      <td>62.96</td>\n",
       "      <td>3759.588</td>\n",
       "      <td>2023-10-10 00:59:59.999000+02:00</td>\n",
       "      <td>2.369907e+05</td>\n",
       "      <td>1203</td>\n",
       "      <td>1777.164</td>\n",
       "      <td>112034.88593</td>\n",
       "      <td>0</td>\n",
       "      <td>1696888800000</td>\n",
       "      <td>1696892399999</td>\n",
       "    </tr>\n",
       "  </tbody>\n",
       "</table>\n",
       "<p>999 rows × 14 columns</p>\n",
       "</div>"
      ],
      "text/plain": [
       "                                          Open time   Open   High    Low  Close     Volume                       Close time  Quote volume  Trades  Taker buy base volume  Taker buy quote volume  Ignore  Open timestamp  Close timestamp\n",
       "LTCUSDT 1h Europe/Madrid                                                                                                                                                                                                                 \n",
       "2023-08-29 10:00:00+02:00 2023-08-29 10:00:00+02:00  65.10  65.14  64.91  65.01  11518.675 2023-08-29 10:59:59.999000+02:00  7.489077e+05    2009               4615.717            300033.71766       0   1693296000000    1693299599999\n",
       "2023-08-29 11:00:00+02:00 2023-08-29 11:00:00+02:00  65.02  65.09  64.89  64.95   7530.317 2023-08-29 11:59:59.999000+02:00  4.895728e+05    1508               3402.279            221196.89785       0   1693299600000    1693303199999\n",
       "2023-08-29 12:00:00+02:00 2023-08-29 12:00:00+02:00  64.95  64.99  64.60  64.85  21927.647 2023-08-29 12:59:59.999000+02:00  1.420253e+06    2865              10756.797            696847.99878       0   1693303200000    1693306799999\n",
       "2023-08-29 13:00:00+02:00 2023-08-29 13:00:00+02:00  64.86  65.04  64.79  64.81  11804.479 2023-08-29 13:59:59.999000+02:00  7.663028e+05    2136               6983.583            453447.33181       0   1693306800000    1693310399999\n",
       "2023-08-29 14:00:00+02:00 2023-08-29 14:00:00+02:00  64.81  64.95  64.66  64.94  11321.209 2023-08-29 14:59:59.999000+02:00  7.338337e+05    2072               4943.972            320507.51611       0   1693310400000    1693313999999\n",
       "...                                             ...    ...    ...    ...    ...        ...                              ...           ...     ...                    ...                     ...     ...             ...              ...\n",
       "2023-10-09 20:00:00+02:00 2023-10-09 20:00:00+02:00  62.70  63.04  62.66  62.89  15685.020 2023-10-09 20:59:59.999000+02:00  9.858820e+05    3279               7727.567            485846.55403       0   1696874400000    1696877999999\n",
       "2023-10-09 21:00:00+02:00 2023-10-09 21:00:00+02:00  62.88  63.06  62.76  63.05  10855.085 2023-10-09 21:59:59.999000+02:00  6.828348e+05    2226               4920.118            309615.77774       0   1696878000000    1696881599999\n",
       "2023-10-09 22:00:00+02:00 2023-10-09 22:00:00+02:00  63.05  63.19  62.95  62.96   8608.566 2023-10-09 22:59:59.999000+02:00  5.430335e+05    2094               3526.892            222539.44320       0   1696881600000    1696885199999\n",
       "2023-10-09 23:00:00+02:00 2023-10-09 23:00:00+02:00  62.96  63.18  62.85  63.07   3520.724 2023-10-09 23:59:59.999000+02:00  2.218731e+05    1495               1982.687            124962.93406       0   1696885200000    1696888799999\n",
       "2023-10-10 00:00:00+02:00 2023-10-10 00:00:00+02:00  63.08  63.12  62.95  62.96   3759.588 2023-10-10 00:59:59.999000+02:00  2.369907e+05    1203               1777.164            112034.88593       0   1696888800000    1696892399999\n",
       "\n",
       "[999 rows x 14 columns]"
      ]
     },
     "execution_count": 13,
     "metadata": {},
     "output_type": "execute_result"
    }
   ],
   "source": [
    "sym.df"
   ]
  },
  {
   "cell_type": "code",
   "execution_count": 14,
   "id": "d7c450ab",
   "metadata": {},
   "outputs": [
    {
     "name": "stderr",
     "output_type": "stream",
     "text": [
      "2023-10-10\t 01:12:46     INFO Getting data from table ltcusdt_aggtrade from 1693296000000 to 1696888800000\n"
     ]
    },
    {
     "name": "stdout",
     "output_type": "stream",
     "text": [
      "Requesting aggregated trades between 2023-08-29 10:00:00 and 2023-10-10 00:00:00\n"
     ]
    },
    {
     "data": {
      "text/html": [
       "<div>\n",
       "<style scoped>\n",
       "    .dataframe tbody tr th:only-of-type {\n",
       "        vertical-align: middle;\n",
       "    }\n",
       "\n",
       "    .dataframe tbody tr th {\n",
       "        vertical-align: top;\n",
       "    }\n",
       "\n",
       "    .dataframe thead th {\n",
       "        text-align: right;\n",
       "    }\n",
       "</style>\n",
       "<table border=\"1\" class=\"dataframe\">\n",
       "  <thead>\n",
       "    <tr style=\"text-align: right;\">\n",
       "      <th></th>\n",
       "      <th>Aggregate tradeId</th>\n",
       "      <th>Price</th>\n",
       "      <th>Quantity</th>\n",
       "      <th>First tradeId</th>\n",
       "      <th>Last tradeId</th>\n",
       "      <th>Timestamp</th>\n",
       "      <th>Buyer was maker</th>\n",
       "      <th>Date</th>\n",
       "    </tr>\n",
       "    <tr>\n",
       "      <th>LTCUSDT Europe/Madrid</th>\n",
       "      <th></th>\n",
       "      <th></th>\n",
       "      <th></th>\n",
       "      <th></th>\n",
       "      <th></th>\n",
       "      <th></th>\n",
       "      <th></th>\n",
       "      <th></th>\n",
       "    </tr>\n",
       "  </thead>\n",
       "  <tbody>\n",
       "    <tr>\n",
       "      <th>2023-10-09 22:22:22.545000+02:00</th>\n",
       "      <td>217798619</td>\n",
       "      <td>63.11</td>\n",
       "      <td>0.317</td>\n",
       "      <td>308518924</td>\n",
       "      <td>308518924</td>\n",
       "      <td>1696882942545</td>\n",
       "      <td>False</td>\n",
       "      <td>2023-10-09 22:22:22.545000+02:00</td>\n",
       "    </tr>\n",
       "    <tr>\n",
       "      <th>2023-10-09 22:22:33.022000+02:00</th>\n",
       "      <td>217798620</td>\n",
       "      <td>63.11</td>\n",
       "      <td>0.997</td>\n",
       "      <td>308518925</td>\n",
       "      <td>308518925</td>\n",
       "      <td>1696882953022</td>\n",
       "      <td>False</td>\n",
       "      <td>2023-10-09 22:22:33.022000+02:00</td>\n",
       "    </tr>\n",
       "    <tr>\n",
       "      <th>2023-10-09 22:22:38.289000+02:00</th>\n",
       "      <td>217798621</td>\n",
       "      <td>63.11</td>\n",
       "      <td>0.382</td>\n",
       "      <td>308518926</td>\n",
       "      <td>308518926</td>\n",
       "      <td>1696882958289</td>\n",
       "      <td>False</td>\n",
       "      <td>2023-10-09 22:22:38.289000+02:00</td>\n",
       "    </tr>\n",
       "    <tr>\n",
       "      <th>2023-10-09 22:22:44.081000+02:00</th>\n",
       "      <td>217798622</td>\n",
       "      <td>63.11</td>\n",
       "      <td>0.146</td>\n",
       "      <td>308518927</td>\n",
       "      <td>308518927</td>\n",
       "      <td>1696882964081</td>\n",
       "      <td>False</td>\n",
       "      <td>2023-10-09 22:22:44.081000+02:00</td>\n",
       "    </tr>\n",
       "    <tr>\n",
       "      <th>2023-10-09 22:22:44.271000+02:00</th>\n",
       "      <td>217798623</td>\n",
       "      <td>63.11</td>\n",
       "      <td>45.952</td>\n",
       "      <td>308518928</td>\n",
       "      <td>308518929</td>\n",
       "      <td>1696882964271</td>\n",
       "      <td>True</td>\n",
       "      <td>2023-10-09 22:22:44.271000+02:00</td>\n",
       "    </tr>\n",
       "    <tr>\n",
       "      <th>...</th>\n",
       "      <td>...</td>\n",
       "      <td>...</td>\n",
       "      <td>...</td>\n",
       "      <td>...</td>\n",
       "      <td>...</td>\n",
       "      <td>...</td>\n",
       "      <td>...</td>\n",
       "      <td>...</td>\n",
       "    </tr>\n",
       "    <tr>\n",
       "      <th>2023-10-09 23:27:54.007000+02:00</th>\n",
       "      <td>217799903</td>\n",
       "      <td>63.05</td>\n",
       "      <td>6.300</td>\n",
       "      <td>308520714</td>\n",
       "      <td>308520715</td>\n",
       "      <td>1696886874007</td>\n",
       "      <td>False</td>\n",
       "      <td>2023-10-09 23:27:54.007000+02:00</td>\n",
       "    </tr>\n",
       "    <tr>\n",
       "      <th>2023-10-09 23:27:54.107000+02:00</th>\n",
       "      <td>217799904</td>\n",
       "      <td>63.05</td>\n",
       "      <td>3.916</td>\n",
       "      <td>308520716</td>\n",
       "      <td>308520716</td>\n",
       "      <td>1696886874107</td>\n",
       "      <td>False</td>\n",
       "      <td>2023-10-09 23:27:54.107000+02:00</td>\n",
       "    </tr>\n",
       "    <tr>\n",
       "      <th>2023-10-09 23:28:01.506000+02:00</th>\n",
       "      <td>217799905</td>\n",
       "      <td>63.04</td>\n",
       "      <td>2.294</td>\n",
       "      <td>308520717</td>\n",
       "      <td>308520717</td>\n",
       "      <td>1696886881506</td>\n",
       "      <td>True</td>\n",
       "      <td>2023-10-09 23:28:01.506000+02:00</td>\n",
       "    </tr>\n",
       "    <tr>\n",
       "      <th>2023-10-09 23:28:02.209000+02:00</th>\n",
       "      <td>217799906</td>\n",
       "      <td>63.04</td>\n",
       "      <td>2.468</td>\n",
       "      <td>308520718</td>\n",
       "      <td>308520719</td>\n",
       "      <td>1696886882209</td>\n",
       "      <td>True</td>\n",
       "      <td>2023-10-09 23:28:02.209000+02:00</td>\n",
       "    </tr>\n",
       "    <tr>\n",
       "      <th>2023-10-09 23:28:04.962000+02:00</th>\n",
       "      <td>217799907</td>\n",
       "      <td>63.05</td>\n",
       "      <td>1.264</td>\n",
       "      <td>308520720</td>\n",
       "      <td>308520720</td>\n",
       "      <td>1696886884962</td>\n",
       "      <td>False</td>\n",
       "      <td>2023-10-09 23:28:04.962000+02:00</td>\n",
       "    </tr>\n",
       "  </tbody>\n",
       "</table>\n",
       "<p>1289 rows × 8 columns</p>\n",
       "</div>"
      ],
      "text/plain": [
       "                                  Aggregate tradeId  Price  Quantity  First tradeId  Last tradeId      Timestamp  Buyer was maker                             Date\n",
       "LTCUSDT Europe/Madrid                                                                                                                                             \n",
       "2023-10-09 22:22:22.545000+02:00          217798619  63.11     0.317      308518924     308518924  1696882942545            False 2023-10-09 22:22:22.545000+02:00\n",
       "2023-10-09 22:22:33.022000+02:00          217798620  63.11     0.997      308518925     308518925  1696882953022            False 2023-10-09 22:22:33.022000+02:00\n",
       "2023-10-09 22:22:38.289000+02:00          217798621  63.11     0.382      308518926     308518926  1696882958289            False 2023-10-09 22:22:38.289000+02:00\n",
       "2023-10-09 22:22:44.081000+02:00          217798622  63.11     0.146      308518927     308518927  1696882964081            False 2023-10-09 22:22:44.081000+02:00\n",
       "2023-10-09 22:22:44.271000+02:00          217798623  63.11    45.952      308518928     308518929  1696882964271             True 2023-10-09 22:22:44.271000+02:00\n",
       "...                                             ...    ...       ...            ...           ...            ...              ...                              ...\n",
       "2023-10-09 23:27:54.007000+02:00          217799903  63.05     6.300      308520714     308520715  1696886874007            False 2023-10-09 23:27:54.007000+02:00\n",
       "2023-10-09 23:27:54.107000+02:00          217799904  63.05     3.916      308520716     308520716  1696886874107            False 2023-10-09 23:27:54.107000+02:00\n",
       "2023-10-09 23:28:01.506000+02:00          217799905  63.04     2.294      308520717     308520717  1696886881506             True 2023-10-09 23:28:01.506000+02:00\n",
       "2023-10-09 23:28:02.209000+02:00          217799906  63.04     2.468      308520718     308520719  1696886882209             True 2023-10-09 23:28:02.209000+02:00\n",
       "2023-10-09 23:28:04.962000+02:00          217799907  63.05     1.264      308520720     308520720  1696886884962            False 2023-10-09 23:28:04.962000+02:00\n",
       "\n",
       "[1289 rows x 8 columns]"
      ]
     },
     "execution_count": 14,
     "metadata": {},
     "output_type": "execute_result"
    }
   ],
   "source": [
    "sym.get_agg_trades()"
   ]
  },
  {
   "cell_type": "code",
   "execution_count": 15,
   "id": "ca528fee",
   "metadata": {
    "ExecuteTime": {
     "end_time": "2023-10-08T09:49:50.084303300Z",
     "start_time": "2023-10-08T09:49:48.868031600Z"
    },
    "scrolled": false
   },
   "outputs": [
    {
     "ename": "Exception",
     "evalue": "BinPan Error on tick_interval: aggtrade not in expected API intervals.\n['1m', '3m', '5m', '15m', '30m', '1h', '2h', '4h', '6h', '8h', '12h', '1d', '3d', '1w', '1M']",
     "output_type": "error",
     "traceback": [
      "\u001b[1;31m---------------------------------------------------------------------------\u001b[0m",
      "\u001b[1;31mException\u001b[0m                                 Traceback (most recent call last)",
      "Cell \u001b[1;32mIn[15], line 5\u001b[0m\n\u001b[0;32m      2\u001b[0m symbol \u001b[38;5;241m=\u001b[39m table\u001b[38;5;241m.\u001b[39msplit(\u001b[38;5;124m\"\u001b[39m\u001b[38;5;124m_\u001b[39m\u001b[38;5;124m\"\u001b[39m)[\u001b[38;5;241m0\u001b[39m]\n\u001b[0;32m      3\u001b[0m tick_interval \u001b[38;5;241m=\u001b[39m table\u001b[38;5;241m.\u001b[39msplit(\u001b[38;5;124m\"\u001b[39m\u001b[38;5;124m_\u001b[39m\u001b[38;5;124m\"\u001b[39m)[\u001b[38;5;241m-\u001b[39m\u001b[38;5;241m1\u001b[39m]\n\u001b[1;32m----> 5\u001b[0m sym \u001b[38;5;241m=\u001b[39m \u001b[43mbinpan\u001b[49m\u001b[38;5;241;43m.\u001b[39;49m\u001b[43mSymbol\u001b[49m\u001b[43m(\u001b[49m\u001b[43msymbol\u001b[49m\u001b[38;5;241;43m=\u001b[39;49m\u001b[43msymbol\u001b[49m\u001b[43m,\u001b[49m\n\u001b[0;32m      6\u001b[0m \u001b[43m                    \u001b[49m\u001b[43mtick_interval\u001b[49m\u001b[38;5;241;43m=\u001b[39;49m\u001b[43mtick_interval\u001b[49m\u001b[43m,\u001b[49m\n\u001b[0;32m      7\u001b[0m \u001b[43m                    \u001b[49m\u001b[43mtime_zone\u001b[49m\u001b[38;5;241;43m=\u001b[39;49m\u001b[38;5;124;43m'\u001b[39;49m\u001b[38;5;124;43mEurope/Madrid\u001b[39;49m\u001b[38;5;124;43m'\u001b[39;49m\u001b[43m)\u001b[49m\n\u001b[0;32m      8\u001b[0m sym\u001b[38;5;241m.\u001b[39mplot()\n",
      "File \u001b[1;32m~\\PycharmProjects\\binpan_studio\\binpan\\symbol_manager.py:232\u001b[0m, in \u001b[0;36mSymbol.__init__\u001b[1;34m(self, symbol, tick_interval, start_time, end_time, limit, time_zone, closed, hours, postgres_klines, postgres_agg_trades, postgres_atomic_trades, display_columns, display_max_rows, display_min_rows, display_width, from_csv, info_dic)\u001b[0m\n\u001b[0;32m    230\u001b[0m \u001b[38;5;66;03m# check correct tick interval passed\u001b[39;00m\n\u001b[0;32m    231\u001b[0m \u001b[38;5;28;01mif\u001b[39;00m \u001b[38;5;129;01mnot\u001b[39;00m from_csv:\n\u001b[1;32m--> 232\u001b[0m     tick_interval \u001b[38;5;241m=\u001b[39m \u001b[43mcheck_tick_interval\u001b[49m\u001b[43m(\u001b[49m\u001b[43mtick_interval\u001b[49m\u001b[43m)\u001b[49m\n\u001b[0;32m    233\u001b[0m \u001b[38;5;28;01melse\u001b[39;00m:\n\u001b[0;32m    234\u001b[0m     tick_interval \u001b[38;5;241m=\u001b[39m tick_interval\n",
      "File \u001b[1;32m~\\PycharmProjects\\binpan_studio\\handlers\\time_helper.py:272\u001b[0m, in \u001b[0;36mcheck_tick_interval\u001b[1;34m(tick_interval)\u001b[0m\n\u001b[0;32m    265\u001b[0m \u001b[38;5;250m\u001b[39m\u001b[38;5;124;03m\"\"\"\u001b[39;00m\n\u001b[0;32m    266\u001b[0m \u001b[38;5;124;03mChecks if argument is a Binance valid tick interval for candles.\u001b[39;00m\n\u001b[0;32m    267\u001b[0m \n\u001b[0;32m    268\u001b[0m \u001b[38;5;124;03m:param str tick_interval: A string, maybe, binance tick interval well formatted.\u001b[39;00m\n\u001b[0;32m    269\u001b[0m \n\u001b[0;32m    270\u001b[0m \u001b[38;5;124;03m\"\"\"\u001b[39;00m\n\u001b[0;32m    271\u001b[0m \u001b[38;5;28;01mif\u001b[39;00m \u001b[38;5;129;01mnot\u001b[39;00m tick_interval \u001b[38;5;129;01min\u001b[39;00m tick_interval_values:\n\u001b[1;32m--> 272\u001b[0m     \u001b[38;5;28;01mraise\u001b[39;00m \u001b[38;5;167;01mException\u001b[39;00m(\u001b[38;5;124mf\u001b[39m\u001b[38;5;124m\"\u001b[39m\u001b[38;5;124mBinPan Error on tick_interval: \u001b[39m\u001b[38;5;132;01m{\u001b[39;00mtick_interval\u001b[38;5;132;01m}\u001b[39;00m\u001b[38;5;124m not in \u001b[39m\u001b[38;5;124m\"\u001b[39m\n\u001b[0;32m    273\u001b[0m                     \u001b[38;5;124mf\u001b[39m\u001b[38;5;124m\"\u001b[39m\u001b[38;5;124mexpected API intervals.\u001b[39m\u001b[38;5;130;01m\\n\u001b[39;00m\u001b[38;5;132;01m{\u001b[39;00mtick_interval_values\u001b[38;5;132;01m}\u001b[39;00m\u001b[38;5;124m\"\u001b[39m)\n\u001b[0;32m    274\u001b[0m \u001b[38;5;28;01mreturn\u001b[39;00m tick_interval\n",
      "\u001b[1;31mException\u001b[0m: BinPan Error on tick_interval: aggtrade not in expected API intervals.\n['1m', '3m', '5m', '15m', '30m', '1h', '2h', '4h', '6h', '8h', '12h', '1d', '3d', '1w', '1M']"
     ]
    }
   ],
   "source": [
    "table=choice(tables)\n",
    "symbol = table.split(\"_\")[0]\n",
    "tick_interval = table.split(\"_\")[-1]\n",
    "\n",
    "sym = binpan.Symbol(symbol=symbol,\n",
    "                    tick_interval=tick_interval,\n",
    "                    time_zone='Europe/Madrid')\n",
    "sym.plot()"
   ]
  },
  {
   "cell_type": "code",
   "execution_count": null,
   "id": "57ea958a",
   "metadata": {},
   "outputs": [],
   "source": []
  },
  {
   "cell_type": "code",
   "execution_count": null,
   "id": "dbdf2b36740b049c",
   "metadata": {
    "ExecuteTime": {
     "start_time": "2023-10-07T10:20:19.720270600Z"
    }
   },
   "outputs": [],
   "source": []
  },
  {
   "cell_type": "code",
   "execution_count": null,
   "id": "b1c51961",
   "metadata": {
    "ExecuteTime": {
     "start_time": "2023-10-07T10:20:19.720270600Z"
    }
   },
   "outputs": [],
   "source": []
  }
 ],
 "metadata": {
  "kernelspec": {
   "display_name": "Python 3 (ipykernel)",
   "language": "python",
   "name": "python3"
  },
  "language_info": {
   "codemirror_mode": {
    "name": "ipython",
    "version": 3
   },
   "file_extension": ".py",
   "mimetype": "text/x-python",
   "name": "python",
   "nbconvert_exporter": "python",
   "pygments_lexer": "ipython3",
   "version": "3.11.2"
  }
 },
 "nbformat": 4,
 "nbformat_minor": 5
}
