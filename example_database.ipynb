{
 "cells": [
  {
   "cell_type": "code",
   "execution_count": 1,
   "id": "6cb5c3ab",
   "metadata": {
    "ExecuteTime": {
     "end_time": "2023-10-17T17:29:26.931166800Z",
     "start_time": "2023-10-17T17:29:26.920998800Z"
    }
   },
   "outputs": [
    {
     "data": {
      "text/plain": "<IPython.core.display.HTML object>",
      "text/html": "<style>.container { width:100% !important; }</style>"
     },
     "metadata": {},
     "output_type": "display_data"
    }
   ],
   "source": [
    "from IPython.display import display, HTML\n",
    "\n",
    "display(HTML(\"<style>.container { width:100% !important; }</style>\"))"
   ]
  },
  {
   "cell_type": "code",
   "execution_count": 2,
   "id": "618c7267",
   "metadata": {
    "ExecuteTime": {
     "end_time": "2023-10-17T17:29:27.004490700Z",
     "start_time": "2023-10-17T17:29:26.931166800Z"
    }
   },
   "outputs": [
    {
     "name": "stdout",
     "output_type": "stream",
     "text": [
      "Python 3.11.2\n"
     ]
    }
   ],
   "source": [
    "!python -V"
   ]
  },
  {
   "cell_type": "code",
   "execution_count": 3,
   "id": "da1cbca0",
   "metadata": {
    "ExecuteTime": {
     "end_time": "2023-10-17T17:29:35.144824100Z",
     "start_time": "2023-10-17T17:29:26.997493800Z"
    }
   },
   "outputs": [
    {
     "name": "stdout",
     "output_type": "stream",
     "text": [
      "Cannot import numba: only Python versions >=3.7,<3.11 are supported. Using Numpy.\n"
     ]
    }
   ],
   "source": [
    "import binpan\n",
    "import pandas as pd"
   ]
  },
  {
   "cell_type": "code",
   "execution_count": 4,
   "id": "ea6a6242",
   "metadata": {
    "ExecuteTime": {
     "end_time": "2023-10-17T17:29:35.150016Z",
     "start_time": "2023-10-17T17:29:35.144824100Z"
    }
   },
   "outputs": [
    {
     "data": {
      "text/plain": "'0.6.03'"
     },
     "execution_count": 4,
     "metadata": {},
     "output_type": "execute_result"
    }
   ],
   "source": [
    "binpan.__version__"
   ]
  },
  {
   "cell_type": "markdown",
   "id": "d20c7e5c",
   "metadata": {},
   "source": [
    "# Database connector"
   ]
  },
  {
   "cell_type": "code",
   "execution_count": 5,
   "id": "b0575b3f",
   "metadata": {
    "ExecuteTime": {
     "end_time": "2023-10-17T17:29:35.326635500Z",
     "start_time": "2023-10-17T17:29:35.150016Z"
    }
   },
   "outputs": [
    {
     "name": "stdout",
     "output_type": "stream",
     "text": [
      "Host: 192.168.89.242\n",
      "Port: 5432\n",
      "User: nando\n",
      "Database: crypto\n"
     ]
    }
   ],
   "source": [
    "db = binpan.Database(host=\"192.168.89.242\")"
   ]
  },
  {
   "cell_type": "code",
   "execution_count": 6,
   "id": "44e6863f",
   "metadata": {
    "ExecuteTime": {
     "end_time": "2023-10-17T17:29:35.326635500Z",
     "start_time": "2023-10-17T17:29:35.322500600Z"
    }
   },
   "outputs": [
    {
     "name": "stdout",
     "output_type": "stream",
     "text": [
      "Host: 192.168.89.242\n",
      "Port: 5432\n",
      "User: nando\n",
      "Password: XXXXXXXXXXXX \n",
      "Database: crypto\n",
      "Connection: <connection object at 0x000001CC0B6A47B0; dsn: 'user=nando password=xxx connect_timeout=10 dbname=crypto host=192.168.89.242 port=5432', closed: 0>\n",
      "Cursor: <cursor object at 0x000001CC59FC5E00; closed: 0>\n"
     ]
    }
   ],
   "source": [
    "db.status()"
   ]
  },
  {
   "cell_type": "code",
   "execution_count": 7,
   "id": "2b4a3444",
   "metadata": {
    "ExecuteTime": {
     "end_time": "2023-10-17T17:29:35.398493900Z",
     "start_time": "2023-10-17T17:29:35.326635500Z"
    }
   },
   "outputs": [
    {
     "data": {
      "text/plain": "['btcusdt_kline_1m',\n 'iotausdt_kline_1m',\n 'ontusdt_kline_1m',\n 'wavesusdt_kline_1m',\n 'belusdt_kline_1m',\n 'fetusdt_kline_1m',\n 'xmrusdt_kline_1m',\n 'zecusdt_kline_1m',\n 'maticusdt_kline_1m',\n 'wingusdt_kline_1m',\n 'dogeusdt_kline_1m',\n 'duskusdt_kline_1m',\n 'dockusdt_kline_1m',\n 'funusdt_kline_1m',\n 'busdusdt_kline_1m',\n 'arpausdt_kline_1m',\n 'ognusdt_kline_1m',\n 'mblusdt_kline_1m',\n 'stptusdt_kline_1m',\n 'datausdt_kline_1m',\n 'chessusdt_kline_1m',\n 'ethupusdt_kline_1m',\n 'btcupusdt_kline_1m',\n 'ardrusdt_kline_1m',\n 'compusdt_kline_1m',\n 'snxusdt_kline_1m',\n 'dgbusdt_kline_1m',\n 'sxpusdt_kline_1m',\n 'icxusdt_kline_1m',\n 'qtumusdt_kline_1m',\n 'xrpusdt_kline_1m',\n 'eosusdt_kline_1m',\n 'trxusdt_kline_1m',\n 'usdcusdt_kline_1m',\n 'ongusdt_kline_1m',\n 'ankrusdt_kline_1m',\n 'hotusdt_kline_1m',\n 'celrusdt_kline_1m',\n 'tfuelusdt_kline_1m',\n 'ftmusdt_kline_1m',\n 'keyusdt_kline_1m',\n 'wanusdt_kline_1m',\n 'adxusdt_kline_1m',\n 'kavausdt_kline_1m',\n 'chzusdt_kline_1m',\n 'bandusdt_kline_1m',\n 'hbarusdt_kline_1m',\n 'stxusdt_kline_1m',\n 'rlcusdt_kline_1m',\n 'bchusdt_kline_1m',\n 'neousdt_kline_1m',\n 'cotiusdt_kline_1m',\n 'solusdt_kline_1m',\n 'pntusdt_kline_1m',\n 'bnbusdt_kline_1m',\n 'ltcusdt_kline_1m',\n 'adausdt_kline_1m',\n 'iostusdt_kline_1m',\n 'tusdusdt_kline_1m',\n 'xlmusdt_kline_1m',\n 'nulsusdt_kline_1m',\n 'batusdt_kline_1m',\n 'dashusdt_kline_1m',\n 'omgusdt_kline_1m',\n 'ensusdt_kline_1m',\n 'perlusdt_kline_1m',\n 'thetausdt_kline_1m',\n 'enjusdt_kline_1m',\n 'oneusdt_kline_1m',\n 'algousdt_kline_1m',\n 'cvcusdt_kline_1m',\n 'xtzusdt_kline_1m',\n 'drepusdt_kline_1m',\n 'renusdt_kline_1m',\n 'ctxcusdt_kline_1m',\n 'viteusdt_kline_1m',\n 'fttusdt_kline_1m',\n 'wrxusdt_kline_1m',\n 'kp3rusdt_kline_1m',\n 'lskusdt_kline_1m',\n 'ctsiusdt_kline_1m',\n 'hiveusdt_kline_1m',\n 'chrusdt_kline_1m',\n 'stmxusdt_kline_1m',\n 'scusdt_kline_1m',\n 'gbpusdt_kline_1m',\n 'ethusdt_kline_1m',\n 'etcusdt_kline_1m',\n 'vetusdt_kline_1m',\n 'linkusdt_kline_1m',\n 'zilusdt_kline_1m',\n 'zrxusdt_kline_1m',\n 'atomusdt_kline_1m',\n 'winusdt_kline_1m',\n 'cosusdt_kline_1m',\n 'mtlusdt_kline_1m',\n 'tomousdt_kline_1m',\n 'dentusdt_kline_1m',\n 'rvnusdt_kline_1m',\n 'nknusdt_kline_1m',\n 'qiusdt_kline_1m',\n 'iotxusdt_kline_1m',\n 'troyusdt_kline_1m',\n 'eurusdt_kline_1m',\n 'btsusdt_kline_1m',\n 'bntusdt_kline_1m',\n 'ltousdt_kline_1m',\n 'wtcusdt_kline_1m',\n 'btcdownusdt_kline_1m',\n 'mdtusdt_kline_1m',\n 'kncusdt_kline_1m',\n 'lrcusdt_kline_1m',\n 'zenusdt_kline_1m',\n 'ethdownusdt_kline_1m',\n 'vthousdt_kline_1m',\n 'jstusdt_kline_1m',\n 'nmrusdt_kline_1m',\n 'paxgusdt_kline_1m',\n 'ksmusdt_kline_1m',\n 'diausdt_kline_1m',\n 'oxtusdt_kline_1m',\n 'sunusdt_kline_1m',\n 'jasmyusdt_kline_1m',\n 'ornusdt_kline_1m',\n 'utkusdt_kline_1m',\n 'xvsusdt_kline_1m',\n 'aaveusdt_kline_1m',\n 'nearusdt_kline_1m',\n 'akrousdt_kline_1m',\n 'roseusdt_kline_1m',\n 'avausdt_kline_1m',\n 'sklusdt_kline_1m',\n 'grtusdt_kline_1m',\n 'juvusdt_kline_1m',\n 'psgusdt_kline_1m',\n 'ogusdt_kline_1m',\n 'asrusdt_kline_1m',\n 'rifusdt_kline_1m',\n 'truusdt_kline_1m',\n 'ckbusdt_kline_1m',\n 'twtusdt_kline_1m',\n 'linausdt_kline_1m',\n 'cfxusdt_kline_1m',\n 'forthusdt_kline_1m',\n 'ampusdt_kline_1m',\n 'bakeusdt_kline_1m',\n 'shibusdt_kline_1m',\n 'arusdt_kline_1m',\n 'lptusdt_kline_1m',\n 'gtcusdt_kline_1m',\n 'ernusdt_kline_1m',\n 'clvusdt_kline_1m',\n 'tvkusdt_kline_1m',\n 'rayusdt_kline_1m',\n 'mboxusdt_kline_1m',\n 'waxpusdt_kline_1m',\n 'vidtusdt_kline_1m',\n 'dfusdt_kline_1m',\n 'fidausdt_kline_1m',\n 'mkrusdt_kline_1m',\n 'storjusdt_kline_1m',\n 'bnbupusdt_kline_1m',\n 'bnbdownusdt_kline_1m',\n 'blzusdt_kline_1m',\n 'sandusdt_kline_1m',\n 'oceanusdt_kline_1m',\n 'alcxusdt_kline_1m',\n 'dotusdt_kline_1m',\n 'trbusdt_kline_1m',\n 'sushiusdt_kline_1m',\n 'filusdt_kline_1m',\n 'unfiusdt_kline_1m',\n 'litusdt_kline_1m',\n 'badgerusdt_kline_1m',\n 'omusdt_kline_1m',\n 'tkousdt_kline_1m',\n 'barusdt_kline_1m',\n 'slpusdt_kline_1m',\n 'polsusdt_kline_1m',\n 'maskusdt_kline_1m',\n 'qntusdt_kline_1m',\n 'alpacausdt_kline_1m',\n 'requsdt_kline_1m',\n 'xecusdt_kline_1m',\n 'elfusdt_kline_1m',\n 'dydxusdt_kline_1m',\n 'galausdt_kline_1m',\n 'agldusdt_kline_1m',\n 'fxsusdt_kline_1m',\n 'betausdt_kline_1m',\n 'yfiusdt_kline_1m',\n 'balusdt_kline_1m',\n 'kmdusdt_kline_1m',\n 'crvusdt_kline_1m',\n 'umausdt_kline_1m',\n 'flmusdt_kline_1m',\n 'alphausdt_kline_1m',\n 'audiousdt_kline_1m',\n 'axsusdt_kline_1m',\n 'hardusdt_kline_1m',\n 'xemusdt_kline_1m',\n 't_1inchusdt_kline_1m',\n 'atmusdt_kline_1m',\n 'cakeusdt_kline_1m',\n 'aliceusdt_kline_1m',\n 'perpusdt_kline_1m',\n 'superusdt_kline_1m',\n 'pundixusdt_kline_1m',\n 'tlmusdt_kline_1m',\n 'icpusdt_kline_1m',\n 'voxelusdt_kline_1m',\n 'mdxusdt_kline_1m',\n 'xvgusdt_kline_1m',\n 'atausdt_kline_1m',\n 'phausdt_kline_1m',\n 'bondusdt_kline_1m',\n 'mlnusdt_kline_1m',\n 'minausdt_kline_1m',\n 'farmusdt_kline_1m',\n 'quickusdt_kline_1m',\n 'forusdt_kline_1m',\n 'ghstusdt_kline_1m',\n 'usdpusdt_kline_1m',\n 'ilvusdt_kline_1m',\n 'sysusdt_kline_1m',\n 'radusdt_kline_1m',\n 'dcrusdt_kline_1m',\n 'manausdt_kline_1m',\n 'irisusdt_kline_1m',\n 'antusdt_kline_1m',\n 'lunausdt_kline_1m',\n 'rsrusdt_kline_1m',\n 'ookiusdt_kline_1m',\n 'wnxmusdt_kline_1m',\n 'egldusdt_kline_1m',\n 'runeusdt_kline_1m',\n 'fiousdt_kline_1m',\n 'uniusdt_kline_1m',\n 'avaxusdt_kline_1m',\n 'injusdt_kline_1m',\n 'firousdt_kline_1m',\n 'ctkusdt_kline_1m',\n 'straxusdt_kline_1m',\n 'reefusdt_kline_1m',\n 'celousdt_kline_1m',\n 'sfpusdt_kline_1m',\n 'dodousdt_kline_1m',\n 'burgerusdt_kline_1m',\n 'acmusdt_kline_1m',\n 'fisusdt_kline_1m',\n 'pondusdt_kline_1m',\n 'degousdt_kline_1m',\n 'klayusdt_kline_1m',\n 'dexeusdt_kline_1m',\n 'yggusdt_kline_1m',\n 'c98usdt_kline_1m',\n 'flowusdt_kline_1m',\n 'gnousdt_kline_1m',\n 'idexusdt_kline_1m',\n 'frontusdt_kline_1m',\n 'cvpusdt_kline_1m',\n 'highusdt_kline_1m',\n 'rareusdt_kline_1m',\n 'auctionusdt_kline_1m',\n 'bnxusdt_kline_1m',\n 'santosusdt_kline_1m',\n 'spellusdt_kline_1m',\n 'darusdt_kline_1m',\n 'mcusdt_kline_1m',\n 'portousdt_kline_1m',\n 'vgxusdt_kline_1m',\n 'plausdt_kline_1m',\n 'rndrusdt_kline_1m',\n 'fluxusdt_kline_1m',\n 'cvxusdt_kline_1m',\n 'pyrusdt_kline_1m',\n 'laziousdt_kline_1m',\n 'movrusdt_kline_1m',\n 'cityusdt_kline_1m',\n 'powrusdt_kline_1m',\n 'bicousdt_kline_1m',\n 'peopleusdt_kline_1m',\n 'multiusdt_kline_1m',\n 'joeusdt_kline_1m',\n 'acausdt_kline_1m',\n 'kdausdt_kline_1m',\n 'bifiusdt_kline_1m',\n 'nexousdt_kline_1m',\n 'reiusdt_kline_1m',\n 'uftusdt_kline_1m',\n 'galusdt_kline_1m',\n 'opusdt_kline_1m',\n 'magicusdt_kline_1m',\n 'hifiusdt_kline_1m',\n 'loomusdt_kline_1m',\n 'oaxusdt_kline_1m',\n 'arkmusdt_kline_1m',\n 'suiusdt_kline_1m',\n 'aergousdt_kline_1m',\n 'pepeusdt_kline_1m',\n 'sntusdt_kline_1m',\n 'wbethusdt_kline_1m',\n 'glmrusdt_kline_1m',\n 'agixusdt_kline_1m',\n 'steemusdt_kline_1m',\n 'gmxusdt_kline_1m',\n 'polyxusdt_kline_1m',\n 'phbusdt_kline_1m',\n 'gnsusdt_kline_1m',\n 'lqtyusdt_kline_1m',\n 'astusdt_kline_1m',\n 'gasusdt_kline_1m',\n 'arbusdt_kline_1m',\n 'wbtcusdt_kline_1m',\n 'eduusdt_kline_1m',\n 'arkusdt_kline_1m',\n 'iqusdt_kline_1m',\n 'bttcusdt_kline_1m',\n 'achusdt_kline_1m',\n 'imxusdt_kline_1m',\n 'lokausdt_kline_1m',\n 'api3usdt_kline_1m',\n 'xnousdt_kline_1m',\n 'woousdt_kline_1m',\n 'leverusdt_kline_1m',\n 'tusdt_kline_1m',\n 'astrusdt_kline_1m',\n 'apeusdt_kline_1m',\n 'bswusdt_kline_1m',\n 'aptusdt_kline_1m',\n 'hftusdt_kline_1m',\n 'glmusdt_kline_1m',\n 'hookusdt_kline_1m',\n 'rplusdt_kline_1m',\n 'vibusdt_kline_1m',\n 'bethusdt_kline_1m',\n 'promusdt_kline_1m',\n 'qkcusdt_kline_1m',\n 'cyberusdt_kline_1m',\n 'rdntusdt_kline_1m',\n 'flokiusdt_kline_1m',\n 'mavusdt_kline_1m',\n 'pendleusdt_kline_1m',\n 'gftusdt_kline_1m',\n 'scrtusdt_kline_1m',\n 'epxusdt_kline_1m',\n 'alpineusdt_kline_1m',\n 'gmtusdt_kline_1m',\n 'mobusdt_kline_1m',\n 'ldousdt_kline_1m',\n 'stgusdt_kline_1m',\n 'luncusdt_kline_1m',\n 'ambusdt_kline_1m',\n 'osmousdt_kline_1m',\n 'prosusdt_kline_1m',\n 'synusdt_kline_1m',\n 'ssvusdt_kline_1m',\n 'ustcusdt_kline_1m',\n 'idusdt_kline_1m',\n 'creamusdt_kline_1m',\n 'combousdt_kline_1m',\n 'wldusdt_kline_1m',\n 'fdusdusdt_kline_1m',\n 'seiusdt_kline_1m',\n 'ntrnusdt_kline_1m']"
     },
     "execution_count": 7,
     "metadata": {},
     "output_type": "execute_result"
    }
   ],
   "source": [
    "tables = db.get_tables(table_type=\"kline_1m\")\n",
    "tables"
   ]
  },
  {
   "cell_type": "code",
   "execution_count": 8,
   "id": "565bb800",
   "metadata": {
    "ExecuteTime": {
     "end_time": "2023-10-17T17:31:34.178887100Z",
     "start_time": "2023-10-17T17:29:35.398493900Z"
    }
   },
   "outputs": [],
   "source": [
    "table_counts = db.get_table_counts()"
   ]
  },
  {
   "cell_type": "code",
   "execution_count": 9,
   "id": "7b335ab9",
   "metadata": {
    "ExecuteTime": {
     "end_time": "2023-10-17T17:31:34.178887100Z",
     "start_time": "2023-10-17T17:31:33.949883700Z"
    }
   },
   "outputs": [],
   "source": [
    "ser = pd.Series(table_counts)\n",
    "ser.sort_values(ascending=False, inplace=True)"
   ]
  },
  {
   "cell_type": "code",
   "execution_count": 10,
   "id": "6d3b9203",
   "metadata": {
    "ExecuteTime": {
     "end_time": "2023-10-17T17:31:34.178887100Z",
     "start_time": "2023-10-17T17:31:33.955781200Z"
    }
   },
   "outputs": [
    {
     "data": {
      "text/plain": "'umausdt_kline_1m'"
     },
     "execution_count": 10,
     "metadata": {},
     "output_type": "execute_result"
    }
   ],
   "source": [
    "table = ser.index[0]\n",
    "table"
   ]
  },
  {
   "cell_type": "code",
   "execution_count": 11,
   "id": "718cc0cb",
   "metadata": {
    "ExecuteTime": {
     "end_time": "2023-10-17T17:31:34.599888700Z",
     "start_time": "2023-10-17T17:31:33.965867900Z"
    }
   },
   "outputs": [
    {
     "data": {
      "text/plain": "['time',\n 'close_timestamp',\n 'first_trade_id',\n 'last_trade_id',\n 'open',\n 'close',\n 'high',\n 'low',\n 'volume',\n 'trades',\n 'quote_volume',\n 'taker_buy_base_volume',\n 'taker_buy_quote_volume']"
     },
     "execution_count": 11,
     "metadata": {},
     "output_type": "execute_result"
    }
   ],
   "source": [
    "db.get_columns(table_name=table)"
   ]
  },
  {
   "cell_type": "code",
   "execution_count": 12,
   "id": "9632ef99",
   "metadata": {
    "ExecuteTime": {
     "end_time": "2023-10-17T17:31:34.599888700Z",
     "start_time": "2023-10-17T17:31:34.046676Z"
    }
   },
   "outputs": [],
   "source": [
    "symbol = table.split(\"_\")[0]\n",
    "tick_interval = table.split(\"_\")[-1]"
   ]
  },
  {
   "cell_type": "code",
   "execution_count": 13,
   "id": "8c00700b",
   "metadata": {
    "scrolled": false,
    "ExecuteTime": {
     "end_time": "2023-10-17T17:31:46.062693400Z",
     "start_time": "2023-10-17T17:31:34.050887800Z"
    }
   },
   "outputs": [
    {
     "name": "stderr",
     "output_type": "stream",
     "text": [
      "2023-10-17\t 19:31:34     INFO Postgres connection requested as str: 192.168.89.242\n",
      "2023-10-17\t 19:31:34     INFO Getting data from table umausdt_kline_1m from 2022-10-17 13:31:34 to 2023-10-17 19:30:58\n",
      "2023-10-17\t 19:31:46  WARNING BinPan Warning: Dataframe has gaps in klines continuity: \n",
      "                                     Open timestamp                  Close timestamp             Gap length\n",
      "UMAUSDT 1m Europe/Madrid                                                                                   \n",
      "2023-03-24 15:00:00+01:00 2023-03-24 15:00:00+01:00 2023-03-24 15:00:59.999000+01:00 0 days 00:00:59.999000\n",
      "2023-10-17\t 19:31:46  WARNING \n",
      "Timestamp discontinuities detected: \n",
      "DatetimeIndex(['2023-03-24 15:00:00+01:00'], dtype='datetime64[ns, Europe/Madrid]', name='UMAUSDT 1m Europe/Madrid', freq=None)\n"
     ]
    }
   ],
   "source": [
    "sym = binpan.Symbol(symbol=symbol,\n",
    "                    tick_interval=\"1m\",\n",
    "                    time_zone='Europe/Madrid',\n",
    "                    hours=8766,\n",
    "                    postgres_klines=\"192.168.89.242\")"
   ]
  },
  {
   "cell_type": "code",
   "execution_count": 14,
   "id": "9a62a263",
   "metadata": {
    "ExecuteTime": {
     "end_time": "2023-10-17T17:31:46.070611600Z",
     "start_time": "2023-10-17T17:31:46.062693400Z"
    }
   },
   "outputs": [
    {
     "data": {
      "text/plain": "                                     Open timestamp                  Close timestamp             Gap length\nUMAUSDT 1m Europe/Madrid                                                                                   \n2023-03-24 15:00:00+01:00 2023-03-24 15:00:00+01:00 2023-03-24 15:00:59.999000+01:00 0 days 00:00:59.999000",
      "text/html": "<div>\n<style scoped>\n    .dataframe tbody tr th:only-of-type {\n        vertical-align: middle;\n    }\n\n    .dataframe tbody tr th {\n        vertical-align: top;\n    }\n\n    .dataframe thead th {\n        text-align: right;\n    }\n</style>\n<table border=\"1\" class=\"dataframe\">\n  <thead>\n    <tr style=\"text-align: right;\">\n      <th></th>\n      <th>Open timestamp</th>\n      <th>Close timestamp</th>\n      <th>Gap length</th>\n    </tr>\n    <tr>\n      <th>UMAUSDT 1m Europe/Madrid</th>\n      <th></th>\n      <th></th>\n      <th></th>\n    </tr>\n  </thead>\n  <tbody>\n    <tr>\n      <th>2023-03-24 15:00:00+01:00</th>\n      <td>2023-03-24 15:00:00+01:00</td>\n      <td>2023-03-24 15:00:59.999000+01:00</td>\n      <td>0 days 00:00:59.999000</td>\n    </tr>\n  </tbody>\n</table>\n</div>"
     },
     "execution_count": 14,
     "metadata": {},
     "output_type": "execute_result"
    }
   ],
   "source": [
    "sym.discontinuities"
   ]
  },
  {
   "cell_type": "code",
   "execution_count": 15,
   "id": "60af5267",
   "metadata": {
    "ExecuteTime": {
     "end_time": "2023-10-17T17:31:46.122654900Z",
     "start_time": "2023-10-17T17:31:46.070611600Z"
    }
   },
   "outputs": [
    {
     "data": {
      "text/plain": "                                          Open time   Open   High    Low  Close  Volume                       Close time  Quote volume  Trades  Taker buy base volume  Taker buy quote volume  Open timestamp  Close timestamp  First TradeId  Last TradeId\nUMAUSDT 1m Europe/Madrid                                                                                                                                                                                                                                   \n2022-10-20 02:00:00+02:00 2022-10-20 02:00:00+02:00  2.145  2.145  2.143  2.143    37.4 2022-10-20 02:00:59.999000+02:00       80.2136       2                    0.0                  0.0000   1666224000000    1666224059999            NaN           NaN\n2022-10-20 02:01:00+02:00 2022-10-20 02:01:00+02:00  2.143  2.143  2.143  2.143     0.0 2022-10-20 02:01:59.999000+02:00        0.0000       0                    0.0                  0.0000   1666224060000    1666224119999            NaN           NaN\n2022-10-20 02:02:00+02:00 2022-10-20 02:02:00+02:00  2.143  2.143  2.143  2.143     0.0 2022-10-20 02:02:59.999000+02:00        0.0000       0                    0.0                  0.0000   1666224120000    1666224179999            NaN           NaN\n2022-10-20 02:03:00+02:00 2022-10-20 02:03:00+02:00  2.144  2.144  2.144  2.144     5.5 2022-10-20 02:03:59.999000+02:00       11.7920       1                    5.5                 11.7920   1666224180000    1666224239999            NaN           NaN\n2022-10-20 02:04:00+02:00 2022-10-20 02:04:00+02:00  2.144  2.144  2.143  2.143    12.6 2022-10-20 02:04:59.999000+02:00       27.0074       2                    0.0                  0.0000   1666224240000    1666224299999            NaN           NaN\n...                                             ...    ...    ...    ...    ...     ...                              ...           ...     ...                    ...                     ...             ...              ...            ...           ...\n2023-10-17 19:26:00+02:00 2023-10-17 19:26:00+02:00  1.471  1.471  1.468  1.469  1368.5 2023-10-17 19:26:59.999000+02:00     2011.4829      17                  212.3                311.8687   1697563560000    1697563619999     27172672.0    27172688.0\n2023-10-17 19:27:00+02:00 2023-10-17 19:27:00+02:00  1.469  1.469  1.467  1.467  1019.4 2023-10-17 19:27:59.999000+02:00     1496.4843       8                   50.0                 73.3561   1697563620000    1697563679999     27172689.0    27172696.0\n2023-10-17 19:28:00+02:00 2023-10-17 19:28:00+02:00  1.467  1.468  1.466  1.468  1152.0 2023-10-17 19:28:59.999000+02:00     1689.4967      17                  138.4                203.0859   1697563680000    1697563739999     27172697.0    27172713.0\n2023-10-17 19:29:00+02:00 2023-10-17 19:29:00+02:00  1.467  1.468  1.466  1.468  2124.0 2023-10-17 19:29:59.999000+02:00     3114.4962      25                  603.5                885.3615   1697563740000    1697563799999     27172714.0    27172738.0\n2023-10-17 19:30:00+02:00 2023-10-17 19:30:00+02:00  1.468  1.468  1.466  1.467   556.2 2023-10-17 19:30:59.999000+02:00      816.0259      14                  215.6                316.5008   1697563800000    1697563859999     27172739.0    27172752.0\n\n[522251 rows x 15 columns]",
      "text/html": "<div>\n<style scoped>\n    .dataframe tbody tr th:only-of-type {\n        vertical-align: middle;\n    }\n\n    .dataframe tbody tr th {\n        vertical-align: top;\n    }\n\n    .dataframe thead th {\n        text-align: right;\n    }\n</style>\n<table border=\"1\" class=\"dataframe\">\n  <thead>\n    <tr style=\"text-align: right;\">\n      <th></th>\n      <th>Open time</th>\n      <th>Open</th>\n      <th>High</th>\n      <th>Low</th>\n      <th>Close</th>\n      <th>Volume</th>\n      <th>Close time</th>\n      <th>Quote volume</th>\n      <th>Trades</th>\n      <th>Taker buy base volume</th>\n      <th>Taker buy quote volume</th>\n      <th>Open timestamp</th>\n      <th>Close timestamp</th>\n      <th>First TradeId</th>\n      <th>Last TradeId</th>\n    </tr>\n    <tr>\n      <th>UMAUSDT 1m Europe/Madrid</th>\n      <th></th>\n      <th></th>\n      <th></th>\n      <th></th>\n      <th></th>\n      <th></th>\n      <th></th>\n      <th></th>\n      <th></th>\n      <th></th>\n      <th></th>\n      <th></th>\n      <th></th>\n      <th></th>\n      <th></th>\n    </tr>\n  </thead>\n  <tbody>\n    <tr>\n      <th>2022-10-20 02:00:00+02:00</th>\n      <td>2022-10-20 02:00:00+02:00</td>\n      <td>2.145</td>\n      <td>2.145</td>\n      <td>2.143</td>\n      <td>2.143</td>\n      <td>37.4</td>\n      <td>2022-10-20 02:00:59.999000+02:00</td>\n      <td>80.2136</td>\n      <td>2</td>\n      <td>0.0</td>\n      <td>0.0000</td>\n      <td>1666224000000</td>\n      <td>1666224059999</td>\n      <td>NaN</td>\n      <td>NaN</td>\n    </tr>\n    <tr>\n      <th>2022-10-20 02:01:00+02:00</th>\n      <td>2022-10-20 02:01:00+02:00</td>\n      <td>2.143</td>\n      <td>2.143</td>\n      <td>2.143</td>\n      <td>2.143</td>\n      <td>0.0</td>\n      <td>2022-10-20 02:01:59.999000+02:00</td>\n      <td>0.0000</td>\n      <td>0</td>\n      <td>0.0</td>\n      <td>0.0000</td>\n      <td>1666224060000</td>\n      <td>1666224119999</td>\n      <td>NaN</td>\n      <td>NaN</td>\n    </tr>\n    <tr>\n      <th>2022-10-20 02:02:00+02:00</th>\n      <td>2022-10-20 02:02:00+02:00</td>\n      <td>2.143</td>\n      <td>2.143</td>\n      <td>2.143</td>\n      <td>2.143</td>\n      <td>0.0</td>\n      <td>2022-10-20 02:02:59.999000+02:00</td>\n      <td>0.0000</td>\n      <td>0</td>\n      <td>0.0</td>\n      <td>0.0000</td>\n      <td>1666224120000</td>\n      <td>1666224179999</td>\n      <td>NaN</td>\n      <td>NaN</td>\n    </tr>\n    <tr>\n      <th>2022-10-20 02:03:00+02:00</th>\n      <td>2022-10-20 02:03:00+02:00</td>\n      <td>2.144</td>\n      <td>2.144</td>\n      <td>2.144</td>\n      <td>2.144</td>\n      <td>5.5</td>\n      <td>2022-10-20 02:03:59.999000+02:00</td>\n      <td>11.7920</td>\n      <td>1</td>\n      <td>5.5</td>\n      <td>11.7920</td>\n      <td>1666224180000</td>\n      <td>1666224239999</td>\n      <td>NaN</td>\n      <td>NaN</td>\n    </tr>\n    <tr>\n      <th>2022-10-20 02:04:00+02:00</th>\n      <td>2022-10-20 02:04:00+02:00</td>\n      <td>2.144</td>\n      <td>2.144</td>\n      <td>2.143</td>\n      <td>2.143</td>\n      <td>12.6</td>\n      <td>2022-10-20 02:04:59.999000+02:00</td>\n      <td>27.0074</td>\n      <td>2</td>\n      <td>0.0</td>\n      <td>0.0000</td>\n      <td>1666224240000</td>\n      <td>1666224299999</td>\n      <td>NaN</td>\n      <td>NaN</td>\n    </tr>\n    <tr>\n      <th>...</th>\n      <td>...</td>\n      <td>...</td>\n      <td>...</td>\n      <td>...</td>\n      <td>...</td>\n      <td>...</td>\n      <td>...</td>\n      <td>...</td>\n      <td>...</td>\n      <td>...</td>\n      <td>...</td>\n      <td>...</td>\n      <td>...</td>\n      <td>...</td>\n      <td>...</td>\n    </tr>\n    <tr>\n      <th>2023-10-17 19:26:00+02:00</th>\n      <td>2023-10-17 19:26:00+02:00</td>\n      <td>1.471</td>\n      <td>1.471</td>\n      <td>1.468</td>\n      <td>1.469</td>\n      <td>1368.5</td>\n      <td>2023-10-17 19:26:59.999000+02:00</td>\n      <td>2011.4829</td>\n      <td>17</td>\n      <td>212.3</td>\n      <td>311.8687</td>\n      <td>1697563560000</td>\n      <td>1697563619999</td>\n      <td>27172672.0</td>\n      <td>27172688.0</td>\n    </tr>\n    <tr>\n      <th>2023-10-17 19:27:00+02:00</th>\n      <td>2023-10-17 19:27:00+02:00</td>\n      <td>1.469</td>\n      <td>1.469</td>\n      <td>1.467</td>\n      <td>1.467</td>\n      <td>1019.4</td>\n      <td>2023-10-17 19:27:59.999000+02:00</td>\n      <td>1496.4843</td>\n      <td>8</td>\n      <td>50.0</td>\n      <td>73.3561</td>\n      <td>1697563620000</td>\n      <td>1697563679999</td>\n      <td>27172689.0</td>\n      <td>27172696.0</td>\n    </tr>\n    <tr>\n      <th>2023-10-17 19:28:00+02:00</th>\n      <td>2023-10-17 19:28:00+02:00</td>\n      <td>1.467</td>\n      <td>1.468</td>\n      <td>1.466</td>\n      <td>1.468</td>\n      <td>1152.0</td>\n      <td>2023-10-17 19:28:59.999000+02:00</td>\n      <td>1689.4967</td>\n      <td>17</td>\n      <td>138.4</td>\n      <td>203.0859</td>\n      <td>1697563680000</td>\n      <td>1697563739999</td>\n      <td>27172697.0</td>\n      <td>27172713.0</td>\n    </tr>\n    <tr>\n      <th>2023-10-17 19:29:00+02:00</th>\n      <td>2023-10-17 19:29:00+02:00</td>\n      <td>1.467</td>\n      <td>1.468</td>\n      <td>1.466</td>\n      <td>1.468</td>\n      <td>2124.0</td>\n      <td>2023-10-17 19:29:59.999000+02:00</td>\n      <td>3114.4962</td>\n      <td>25</td>\n      <td>603.5</td>\n      <td>885.3615</td>\n      <td>1697563740000</td>\n      <td>1697563799999</td>\n      <td>27172714.0</td>\n      <td>27172738.0</td>\n    </tr>\n    <tr>\n      <th>2023-10-17 19:30:00+02:00</th>\n      <td>2023-10-17 19:30:00+02:00</td>\n      <td>1.468</td>\n      <td>1.468</td>\n      <td>1.466</td>\n      <td>1.467</td>\n      <td>556.2</td>\n      <td>2023-10-17 19:30:59.999000+02:00</td>\n      <td>816.0259</td>\n      <td>14</td>\n      <td>215.6</td>\n      <td>316.5008</td>\n      <td>1697563800000</td>\n      <td>1697563859999</td>\n      <td>27172739.0</td>\n      <td>27172752.0</td>\n    </tr>\n  </tbody>\n</table>\n<p>522251 rows × 15 columns</p>\n</div>"
     },
     "execution_count": 15,
     "metadata": {},
     "output_type": "execute_result"
    }
   ],
   "source": [
    "df = sym.df\n",
    "df"
   ]
  },
  {
   "cell_type": "code",
   "execution_count": 16,
   "id": "6915be60",
   "metadata": {
    "ExecuteTime": {
     "end_time": "2023-10-17T17:31:47.136884Z",
     "start_time": "2023-10-17T17:31:46.091395100Z"
    }
   },
   "outputs": [
    {
     "data": {
      "text/plain": "                                          Open time   Open   High    Low  Close   Volume                       Close time  Quote volume  Trades  Taker buy base volume  Taker buy quote volume  Open timestamp  Close timestamp\nUMAUSDT 30m Europe/Madrid                                                                                                                                                                                                      \n2022-10-20 02:00:00+02:00 2022-10-20 02:00:00+02:00  2.145  2.151  2.141  2.151    436.7 2022-10-20 02:29:59.999000+02:00      937.3677      34                  192.6                413.3525    1.666224e+12     1.666226e+12\n2022-10-20 02:30:00+02:00 2022-10-20 02:30:00+02:00  2.151  2.151  2.132  2.132   3831.5 2022-10-20 02:59:59.999000+02:00     8196.6179      83                 2607.4               5571.8660    1.666226e+12     1.666228e+12\n2022-10-20 03:00:00+02:00 2022-10-20 03:00:00+02:00  2.132  2.147  2.130  2.137   7594.6 2022-10-20 03:29:59.999000+02:00    16210.4018     133                 5076.4              10824.3249    1.666228e+12     1.666229e+12\n2022-10-20 03:30:00+02:00 2022-10-20 03:30:00+02:00  2.137  2.138  2.129  2.138   1126.8 2022-10-20 03:59:59.999000+02:00     2402.4522      38                  310.9                663.2020    1.666229e+12     1.666231e+12\n2022-10-20 04:00:00+02:00 2022-10-20 04:00:00+02:00  2.137  2.148  2.137  2.144   2887.7 2022-10-20 04:29:59.999000+02:00     6182.0949      58                 1066.2               2284.4145    1.666231e+12     1.666233e+12\n...                                             ...    ...    ...    ...    ...      ...                              ...           ...     ...                    ...                     ...             ...              ...\n2023-10-17 17:30:00+02:00 2023-10-17 17:30:00+02:00  1.470  1.476  1.468  1.470  29378.0 2023-10-17 17:59:59.999000+02:00    43234.6862     399                 9952.7              14657.9657    1.697557e+12     1.697558e+12\n2023-10-17 18:00:00+02:00 2023-10-17 18:00:00+02:00  1.471  1.478  1.465  1.473  30649.3 2023-10-17 18:29:59.999000+02:00    45160.6390     502                15060.5              22194.6704    1.697558e+12     1.697560e+12\n2023-10-17 18:30:00+02:00 2023-10-17 18:30:00+02:00  1.472  1.478  1.468  1.477  37377.7 2023-10-17 18:59:59.999000+02:00    55042.5903     481                15842.9              23343.9541    1.697560e+12     1.697562e+12\n2023-10-17 19:00:00+02:00 2023-10-17 19:00:00+02:00  1.476  1.485  1.466  1.468  36580.9 2023-10-17 19:29:59.999000+02:00    53984.5444     519                17737.3              26206.9103    1.697562e+12     1.697564e+12\n2023-10-17 19:30:00+02:00 2023-10-17 19:30:00+02:00  1.468  1.468  1.466  1.467    556.2 2023-10-17 19:30:59.999000+02:00      816.0259      14                  215.6                316.5008    1.697564e+12     1.697564e+12\n\n[17412 rows x 13 columns]",
      "text/html": "<div>\n<style scoped>\n    .dataframe tbody tr th:only-of-type {\n        vertical-align: middle;\n    }\n\n    .dataframe tbody tr th {\n        vertical-align: top;\n    }\n\n    .dataframe thead th {\n        text-align: right;\n    }\n</style>\n<table border=\"1\" class=\"dataframe\">\n  <thead>\n    <tr style=\"text-align: right;\">\n      <th></th>\n      <th>Open time</th>\n      <th>Open</th>\n      <th>High</th>\n      <th>Low</th>\n      <th>Close</th>\n      <th>Volume</th>\n      <th>Close time</th>\n      <th>Quote volume</th>\n      <th>Trades</th>\n      <th>Taker buy base volume</th>\n      <th>Taker buy quote volume</th>\n      <th>Open timestamp</th>\n      <th>Close timestamp</th>\n    </tr>\n    <tr>\n      <th>UMAUSDT 30m Europe/Madrid</th>\n      <th></th>\n      <th></th>\n      <th></th>\n      <th></th>\n      <th></th>\n      <th></th>\n      <th></th>\n      <th></th>\n      <th></th>\n      <th></th>\n      <th></th>\n      <th></th>\n      <th></th>\n    </tr>\n  </thead>\n  <tbody>\n    <tr>\n      <th>2022-10-20 02:00:00+02:00</th>\n      <td>2022-10-20 02:00:00+02:00</td>\n      <td>2.145</td>\n      <td>2.151</td>\n      <td>2.141</td>\n      <td>2.151</td>\n      <td>436.7</td>\n      <td>2022-10-20 02:29:59.999000+02:00</td>\n      <td>937.3677</td>\n      <td>34</td>\n      <td>192.6</td>\n      <td>413.3525</td>\n      <td>1.666224e+12</td>\n      <td>1.666226e+12</td>\n    </tr>\n    <tr>\n      <th>2022-10-20 02:30:00+02:00</th>\n      <td>2022-10-20 02:30:00+02:00</td>\n      <td>2.151</td>\n      <td>2.151</td>\n      <td>2.132</td>\n      <td>2.132</td>\n      <td>3831.5</td>\n      <td>2022-10-20 02:59:59.999000+02:00</td>\n      <td>8196.6179</td>\n      <td>83</td>\n      <td>2607.4</td>\n      <td>5571.8660</td>\n      <td>1.666226e+12</td>\n      <td>1.666228e+12</td>\n    </tr>\n    <tr>\n      <th>2022-10-20 03:00:00+02:00</th>\n      <td>2022-10-20 03:00:00+02:00</td>\n      <td>2.132</td>\n      <td>2.147</td>\n      <td>2.130</td>\n      <td>2.137</td>\n      <td>7594.6</td>\n      <td>2022-10-20 03:29:59.999000+02:00</td>\n      <td>16210.4018</td>\n      <td>133</td>\n      <td>5076.4</td>\n      <td>10824.3249</td>\n      <td>1.666228e+12</td>\n      <td>1.666229e+12</td>\n    </tr>\n    <tr>\n      <th>2022-10-20 03:30:00+02:00</th>\n      <td>2022-10-20 03:30:00+02:00</td>\n      <td>2.137</td>\n      <td>2.138</td>\n      <td>2.129</td>\n      <td>2.138</td>\n      <td>1126.8</td>\n      <td>2022-10-20 03:59:59.999000+02:00</td>\n      <td>2402.4522</td>\n      <td>38</td>\n      <td>310.9</td>\n      <td>663.2020</td>\n      <td>1.666229e+12</td>\n      <td>1.666231e+12</td>\n    </tr>\n    <tr>\n      <th>2022-10-20 04:00:00+02:00</th>\n      <td>2022-10-20 04:00:00+02:00</td>\n      <td>2.137</td>\n      <td>2.148</td>\n      <td>2.137</td>\n      <td>2.144</td>\n      <td>2887.7</td>\n      <td>2022-10-20 04:29:59.999000+02:00</td>\n      <td>6182.0949</td>\n      <td>58</td>\n      <td>1066.2</td>\n      <td>2284.4145</td>\n      <td>1.666231e+12</td>\n      <td>1.666233e+12</td>\n    </tr>\n    <tr>\n      <th>...</th>\n      <td>...</td>\n      <td>...</td>\n      <td>...</td>\n      <td>...</td>\n      <td>...</td>\n      <td>...</td>\n      <td>...</td>\n      <td>...</td>\n      <td>...</td>\n      <td>...</td>\n      <td>...</td>\n      <td>...</td>\n      <td>...</td>\n    </tr>\n    <tr>\n      <th>2023-10-17 17:30:00+02:00</th>\n      <td>2023-10-17 17:30:00+02:00</td>\n      <td>1.470</td>\n      <td>1.476</td>\n      <td>1.468</td>\n      <td>1.470</td>\n      <td>29378.0</td>\n      <td>2023-10-17 17:59:59.999000+02:00</td>\n      <td>43234.6862</td>\n      <td>399</td>\n      <td>9952.7</td>\n      <td>14657.9657</td>\n      <td>1.697557e+12</td>\n      <td>1.697558e+12</td>\n    </tr>\n    <tr>\n      <th>2023-10-17 18:00:00+02:00</th>\n      <td>2023-10-17 18:00:00+02:00</td>\n      <td>1.471</td>\n      <td>1.478</td>\n      <td>1.465</td>\n      <td>1.473</td>\n      <td>30649.3</td>\n      <td>2023-10-17 18:29:59.999000+02:00</td>\n      <td>45160.6390</td>\n      <td>502</td>\n      <td>15060.5</td>\n      <td>22194.6704</td>\n      <td>1.697558e+12</td>\n      <td>1.697560e+12</td>\n    </tr>\n    <tr>\n      <th>2023-10-17 18:30:00+02:00</th>\n      <td>2023-10-17 18:30:00+02:00</td>\n      <td>1.472</td>\n      <td>1.478</td>\n      <td>1.468</td>\n      <td>1.477</td>\n      <td>37377.7</td>\n      <td>2023-10-17 18:59:59.999000+02:00</td>\n      <td>55042.5903</td>\n      <td>481</td>\n      <td>15842.9</td>\n      <td>23343.9541</td>\n      <td>1.697560e+12</td>\n      <td>1.697562e+12</td>\n    </tr>\n    <tr>\n      <th>2023-10-17 19:00:00+02:00</th>\n      <td>2023-10-17 19:00:00+02:00</td>\n      <td>1.476</td>\n      <td>1.485</td>\n      <td>1.466</td>\n      <td>1.468</td>\n      <td>36580.9</td>\n      <td>2023-10-17 19:29:59.999000+02:00</td>\n      <td>53984.5444</td>\n      <td>519</td>\n      <td>17737.3</td>\n      <td>26206.9103</td>\n      <td>1.697562e+12</td>\n      <td>1.697564e+12</td>\n    </tr>\n    <tr>\n      <th>2023-10-17 19:30:00+02:00</th>\n      <td>2023-10-17 19:30:00+02:00</td>\n      <td>1.468</td>\n      <td>1.468</td>\n      <td>1.466</td>\n      <td>1.467</td>\n      <td>556.2</td>\n      <td>2023-10-17 19:30:59.999000+02:00</td>\n      <td>816.0259</td>\n      <td>14</td>\n      <td>215.6</td>\n      <td>316.5008</td>\n      <td>1.697564e+12</td>\n      <td>1.697564e+12</td>\n    </tr>\n  </tbody>\n</table>\n<p>17412 rows × 13 columns</p>\n</div>"
     },
     "execution_count": 16,
     "metadata": {},
     "output_type": "execute_result"
    }
   ],
   "source": [
    "sym.resample(tick_interval=\"30m\")"
   ]
  }
 ],
 "metadata": {
  "kernelspec": {
   "display_name": "Python 3 (ipykernel)",
   "language": "python",
   "name": "python3"
  },
  "language_info": {
   "codemirror_mode": {
    "name": "ipython",
    "version": 3
   },
   "file_extension": ".py",
   "mimetype": "text/x-python",
   "name": "python",
   "nbconvert_exporter": "python",
   "pygments_lexer": "ipython3",
   "version": "3.11.2"
  }
 },
 "nbformat": 4,
 "nbformat_minor": 5
}
