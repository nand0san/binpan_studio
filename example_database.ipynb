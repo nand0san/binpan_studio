{
 "cells": [
  {
   "cell_type": "code",
   "execution_count": 1,
   "id": "6cb5c3ab",
   "metadata": {
    "ExecuteTime": {
     "end_time": "2023-11-14T18:19:13.352229700Z",
     "start_time": "2023-11-14T18:19:13.231706Z"
    }
   },
   "outputs": [
    {
     "data": {
      "text/plain": "<IPython.core.display.HTML object>",
      "text/html": "<style>.container { width:100% !important; }</style>"
     },
     "metadata": {},
     "output_type": "display_data"
    }
   ],
   "source": [
    "from IPython.display import display, HTML\n",
    "\n",
    "display(HTML(\"<style>.container { width:100% !important; }</style>\"))"
   ]
  },
  {
   "cell_type": "code",
   "execution_count": 2,
   "id": "618c7267",
   "metadata": {
    "ExecuteTime": {
     "end_time": "2023-11-14T18:19:13.408394800Z",
     "start_time": "2023-11-14T18:19:13.260668700Z"
    }
   },
   "outputs": [
    {
     "name": "stdout",
     "output_type": "stream",
     "text": [
      "Python 3.11.2\n"
     ]
    }
   ],
   "source": [
    "!python -V"
   ]
  },
  {
   "cell_type": "code",
   "execution_count": 3,
   "id": "da1cbca0",
   "metadata": {
    "ExecuteTime": {
     "end_time": "2023-11-14T18:19:22.323203Z",
     "start_time": "2023-11-14T18:19:13.408394800Z"
    }
   },
   "outputs": [
    {
     "name": "stdout",
     "output_type": "stream",
     "text": [
      "Numba imported\n"
     ]
    }
   ],
   "source": [
    "import binpan\n",
    "from handlers.postgresql_database import *"
   ]
  },
  {
   "cell_type": "code",
   "execution_count": 4,
   "id": "ea6a6242",
   "metadata": {
    "ExecuteTime": {
     "end_time": "2023-11-14T18:19:22.323203Z",
     "start_time": "2023-11-14T18:19:22.307599800Z"
    }
   },
   "outputs": [
    {
     "data": {
      "text/plain": "'0.7.10'"
     },
     "execution_count": 4,
     "metadata": {},
     "output_type": "execute_result"
    }
   ],
   "source": [
    "binpan.__version__"
   ]
  },
  {
   "cell_type": "markdown",
   "id": "d20c7e5c",
   "metadata": {},
   "source": [
    "# Database connector"
   ]
  },
  {
   "cell_type": "code",
   "execution_count": 5,
   "id": "b0575b3f",
   "metadata": {
    "ExecuteTime": {
     "end_time": "2023-11-14T18:19:22.908090200Z",
     "start_time": "2023-11-14T18:19:22.313691500Z"
    }
   },
   "outputs": [
    {
     "name": "stdout",
     "output_type": "stream",
     "text": [
      "Host: 192.168.89.211\n",
      "Port: 5432\n",
      "User: nando\n",
      "Database: crypto\n"
     ]
    }
   ],
   "source": [
    "db = binpan.Database(host=\"192.168.89.211\")"
   ]
  },
  {
   "cell_type": "code",
   "execution_count": 6,
   "id": "44e6863f",
   "metadata": {
    "ExecuteTime": {
     "end_time": "2023-11-14T18:19:22.912085100Z",
     "start_time": "2023-11-14T18:19:22.908090200Z"
    }
   },
   "outputs": [
    {
     "name": "stdout",
     "output_type": "stream",
     "text": [
      "Host: 192.168.89.211\n",
      "Port: 5432\n",
      "User: nando\n",
      "Password: XXXXXXXXXXXX \n",
      "Database: crypto\n",
      "Connection: <connection object at 0x000002877D3DE240; dsn: 'user=nando password=xxx connect_timeout=10 dbname=crypto host=192.168.89.211 port=5432', closed: 0>\n",
      "Cursor: <cursor object at 0x000002877D6EEC00; closed: 0>\n"
     ]
    }
   ],
   "source": [
    "db.status()"
   ]
  },
  {
   "cell_type": "code",
   "execution_count": 7,
   "id": "6332fba86742d04e",
   "metadata": {
    "ExecuteTime": {
     "end_time": "2023-11-14T18:19:22.923717900Z",
     "start_time": "2023-11-14T18:19:22.912085100Z"
    }
   },
   "outputs": [
    {
     "data": {
      "text/plain": "'100 GB'"
     },
     "execution_count": 7,
     "metadata": {},
     "output_type": "execute_result"
    }
   ],
   "source": [
    "db.size"
   ]
  },
  {
   "cell_type": "code",
   "execution_count": 8,
   "id": "27d15f1ba9cb3bc2",
   "metadata": {
    "ExecuteTime": {
     "end_time": "2023-11-14T18:19:22.968257800Z",
     "start_time": "2023-11-14T18:19:22.923717900Z"
    }
   },
   "outputs": [
    {
     "data": {
      "text/plain": "    schemaname            tablename  table_size_kb  indexes_size_kb  total_size_kb\n0       public     juvusdt_kline_1m            8.0             16.0           24.0\n34      public   polyxusdt_kline_1m            8.0             16.0           24.0\n25      public     atausdt_kline_1m            8.0             16.0           24.0\n26      public     ctkusdt_kline_1m            8.0             16.0           24.0\n27      public    perpusdt_kline_1m            8.0             16.0           24.0\n..         ...                  ...            ...              ...            ...\n274     public  alpineusdt_kline_1m            0.0             16.0           16.0\n275     public     gmtusdt_kline_1m            0.0             16.0           16.0\n276     public     gnsusdt_kline_1m            0.0             16.0           16.0\n277     public    lqtyusdt_kline_1m            0.0             16.0           16.0\n735     public     ampusdt_kline_1m            0.0             16.0           16.0\n\n[736 rows x 5 columns]",
      "text/html": "<div>\n<style scoped>\n    .dataframe tbody tr th:only-of-type {\n        vertical-align: middle;\n    }\n\n    .dataframe tbody tr th {\n        vertical-align: top;\n    }\n\n    .dataframe thead th {\n        text-align: right;\n    }\n</style>\n<table border=\"1\" class=\"dataframe\">\n  <thead>\n    <tr style=\"text-align: right;\">\n      <th></th>\n      <th>schemaname</th>\n      <th>tablename</th>\n      <th>table_size_kb</th>\n      <th>indexes_size_kb</th>\n      <th>total_size_kb</th>\n    </tr>\n  </thead>\n  <tbody>\n    <tr>\n      <th>0</th>\n      <td>public</td>\n      <td>juvusdt_kline_1m</td>\n      <td>8.0</td>\n      <td>16.0</td>\n      <td>24.0</td>\n    </tr>\n    <tr>\n      <th>34</th>\n      <td>public</td>\n      <td>polyxusdt_kline_1m</td>\n      <td>8.0</td>\n      <td>16.0</td>\n      <td>24.0</td>\n    </tr>\n    <tr>\n      <th>25</th>\n      <td>public</td>\n      <td>atausdt_kline_1m</td>\n      <td>8.0</td>\n      <td>16.0</td>\n      <td>24.0</td>\n    </tr>\n    <tr>\n      <th>26</th>\n      <td>public</td>\n      <td>ctkusdt_kline_1m</td>\n      <td>8.0</td>\n      <td>16.0</td>\n      <td>24.0</td>\n    </tr>\n    <tr>\n      <th>27</th>\n      <td>public</td>\n      <td>perpusdt_kline_1m</td>\n      <td>8.0</td>\n      <td>16.0</td>\n      <td>24.0</td>\n    </tr>\n    <tr>\n      <th>...</th>\n      <td>...</td>\n      <td>...</td>\n      <td>...</td>\n      <td>...</td>\n      <td>...</td>\n    </tr>\n    <tr>\n      <th>274</th>\n      <td>public</td>\n      <td>alpineusdt_kline_1m</td>\n      <td>0.0</td>\n      <td>16.0</td>\n      <td>16.0</td>\n    </tr>\n    <tr>\n      <th>275</th>\n      <td>public</td>\n      <td>gmtusdt_kline_1m</td>\n      <td>0.0</td>\n      <td>16.0</td>\n      <td>16.0</td>\n    </tr>\n    <tr>\n      <th>276</th>\n      <td>public</td>\n      <td>gnsusdt_kline_1m</td>\n      <td>0.0</td>\n      <td>16.0</td>\n      <td>16.0</td>\n    </tr>\n    <tr>\n      <th>277</th>\n      <td>public</td>\n      <td>lqtyusdt_kline_1m</td>\n      <td>0.0</td>\n      <td>16.0</td>\n      <td>16.0</td>\n    </tr>\n    <tr>\n      <th>735</th>\n      <td>public</td>\n      <td>ampusdt_kline_1m</td>\n      <td>0.0</td>\n      <td>16.0</td>\n      <td>16.0</td>\n    </tr>\n  </tbody>\n</table>\n<p>736 rows × 5 columns</p>\n</div>"
     },
     "execution_count": 8,
     "metadata": {},
     "output_type": "execute_result"
    }
   ],
   "source": [
    "db.table_sizes"
   ]
  },
  {
   "cell_type": "code",
   "execution_count": 9,
   "id": "f0b07856c086dfdf",
   "metadata": {
    "ExecuteTime": {
     "end_time": "2023-11-14T18:19:22.968257800Z",
     "start_time": "2023-11-14T18:19:22.942111500Z"
    }
   },
   "outputs": [
    {
     "data": {
      "text/plain": "    hypertable_schema           hypertable_name  owner  num_dimensions  num_chunks  compression_enabled  is_distributed replication_factor data_nodes tablespaces\n71             public          btcusdt_kline_1m  nando               1         326                False           False               None       None        None\n133            public          ethusdt_kline_1m  nando               1         326                False           False               None       None        None\n100            public          bnbusdt_kline_1m  nando               1         315                False           False               None       None        None\n101            public          neousdt_kline_1m  nando               1         313                False           False               None       None        None\n1              public          ltcusdt_kline_1m  nando               1         310                False           False               None       None        None\n..                ...                       ...    ...             ...         ...                  ...             ...                ...        ...         ...\n727            public   tiausdt_kline_1m_missed  nando               1           1                False           False               None       None        None\n729            public  memeusdt_kline_1m_missed  nando               1           1                False           False               None       None        None\n731            public           ltcbtc_kline_1m  nando               1           1                False           False               None       None        None\n735            public  ordiusdt_kline_1m_missed  nando               1           1                False           False               None       None        None\n730            public    ltcbtc_kline_1m_missed  nando               1           0                False           False               None       None        None\n\n[736 rows x 10 columns]",
      "text/html": "<div>\n<style scoped>\n    .dataframe tbody tr th:only-of-type {\n        vertical-align: middle;\n    }\n\n    .dataframe tbody tr th {\n        vertical-align: top;\n    }\n\n    .dataframe thead th {\n        text-align: right;\n    }\n</style>\n<table border=\"1\" class=\"dataframe\">\n  <thead>\n    <tr style=\"text-align: right;\">\n      <th></th>\n      <th>hypertable_schema</th>\n      <th>hypertable_name</th>\n      <th>owner</th>\n      <th>num_dimensions</th>\n      <th>num_chunks</th>\n      <th>compression_enabled</th>\n      <th>is_distributed</th>\n      <th>replication_factor</th>\n      <th>data_nodes</th>\n      <th>tablespaces</th>\n    </tr>\n  </thead>\n  <tbody>\n    <tr>\n      <th>71</th>\n      <td>public</td>\n      <td>btcusdt_kline_1m</td>\n      <td>nando</td>\n      <td>1</td>\n      <td>326</td>\n      <td>False</td>\n      <td>False</td>\n      <td>None</td>\n      <td>None</td>\n      <td>None</td>\n    </tr>\n    <tr>\n      <th>133</th>\n      <td>public</td>\n      <td>ethusdt_kline_1m</td>\n      <td>nando</td>\n      <td>1</td>\n      <td>326</td>\n      <td>False</td>\n      <td>False</td>\n      <td>None</td>\n      <td>None</td>\n      <td>None</td>\n    </tr>\n    <tr>\n      <th>100</th>\n      <td>public</td>\n      <td>bnbusdt_kline_1m</td>\n      <td>nando</td>\n      <td>1</td>\n      <td>315</td>\n      <td>False</td>\n      <td>False</td>\n      <td>None</td>\n      <td>None</td>\n      <td>None</td>\n    </tr>\n    <tr>\n      <th>101</th>\n      <td>public</td>\n      <td>neousdt_kline_1m</td>\n      <td>nando</td>\n      <td>1</td>\n      <td>313</td>\n      <td>False</td>\n      <td>False</td>\n      <td>None</td>\n      <td>None</td>\n      <td>None</td>\n    </tr>\n    <tr>\n      <th>1</th>\n      <td>public</td>\n      <td>ltcusdt_kline_1m</td>\n      <td>nando</td>\n      <td>1</td>\n      <td>310</td>\n      <td>False</td>\n      <td>False</td>\n      <td>None</td>\n      <td>None</td>\n      <td>None</td>\n    </tr>\n    <tr>\n      <th>...</th>\n      <td>...</td>\n      <td>...</td>\n      <td>...</td>\n      <td>...</td>\n      <td>...</td>\n      <td>...</td>\n      <td>...</td>\n      <td>...</td>\n      <td>...</td>\n      <td>...</td>\n    </tr>\n    <tr>\n      <th>727</th>\n      <td>public</td>\n      <td>tiausdt_kline_1m_missed</td>\n      <td>nando</td>\n      <td>1</td>\n      <td>1</td>\n      <td>False</td>\n      <td>False</td>\n      <td>None</td>\n      <td>None</td>\n      <td>None</td>\n    </tr>\n    <tr>\n      <th>729</th>\n      <td>public</td>\n      <td>memeusdt_kline_1m_missed</td>\n      <td>nando</td>\n      <td>1</td>\n      <td>1</td>\n      <td>False</td>\n      <td>False</td>\n      <td>None</td>\n      <td>None</td>\n      <td>None</td>\n    </tr>\n    <tr>\n      <th>731</th>\n      <td>public</td>\n      <td>ltcbtc_kline_1m</td>\n      <td>nando</td>\n      <td>1</td>\n      <td>1</td>\n      <td>False</td>\n      <td>False</td>\n      <td>None</td>\n      <td>None</td>\n      <td>None</td>\n    </tr>\n    <tr>\n      <th>735</th>\n      <td>public</td>\n      <td>ordiusdt_kline_1m_missed</td>\n      <td>nando</td>\n      <td>1</td>\n      <td>1</td>\n      <td>False</td>\n      <td>False</td>\n      <td>None</td>\n      <td>None</td>\n      <td>None</td>\n    </tr>\n    <tr>\n      <th>730</th>\n      <td>public</td>\n      <td>ltcbtc_kline_1m_missed</td>\n      <td>nando</td>\n      <td>1</td>\n      <td>0</td>\n      <td>False</td>\n      <td>False</td>\n      <td>None</td>\n      <td>None</td>\n      <td>None</td>\n    </tr>\n  </tbody>\n</table>\n<p>736 rows × 10 columns</p>\n</div>"
     },
     "execution_count": 9,
     "metadata": {},
     "output_type": "execute_result"
    }
   ],
   "source": [
    "db.hypertable_info"
   ]
  },
  {
   "cell_type": "code",
   "execution_count": 10,
   "id": "2b4a3444",
   "metadata": {
    "ExecuteTime": {
     "end_time": "2023-11-14T18:19:22.991610Z",
     "start_time": "2023-11-14T18:19:22.952618600Z"
    }
   },
   "outputs": [
    {
     "data": {
      "text/plain": "['litusdt_kline_1m',\n 'badgerusdt_kline_1m',\n 'omusdt_kline_1m',\n 'tkousdt_kline_1m',\n 'barusdt_kline_1m',\n 'polsusdt_kline_1m',\n 'maskusdt_kline_1m',\n 'gftusdt_kline_1m',\n 'qntusdt_kline_1m',\n 'alpacausdt_kline_1m',\n 'requsdt_kline_1m',\n 'xecusdt_kline_1m',\n 'elfusdt_kline_1m',\n 'dydxusdt_kline_1m',\n 'galausdt_kline_1m',\n 'agldusdt_kline_1m',\n 'betausdt_kline_1m',\n 'chessusdt_kline_1m',\n 'adxusdt_kline_1m',\n 'ensusdt_kline_1m',\n 'kp3rusdt_kline_1m',\n 'qiusdt_kline_1m',\n 'jasmyusdt_kline_1m',\n 'ampusdt_kline_1m',\n 'alcxusdt_kline_1m',\n 'fxsusdt_kline_1m',\n 'voxelusdt_kline_1m',\n 'ookiusdt_kline_1m',\n 'glmrusdt_kline_1m',\n 'xvsusdt_kline_1m',\n 'aaveusdt_kline_1m',\n 'nearusdt_kline_1m',\n 'akrousdt_kline_1m',\n 'roseusdt_kline_1m',\n 'avausdt_kline_1m',\n 'sklusdt_kline_1m',\n 'grtusdt_kline_1m',\n 'juvusdt_kline_1m',\n 'psgusdt_kline_1m',\n 'ogusdt_kline_1m',\n 'asrusdt_kline_1m',\n 'rifusdt_kline_1m',\n 'truusdt_kline_1m',\n 'ckbusdt_kline_1m',\n 'twtusdt_kline_1m',\n 'linausdt_kline_1m',\n 'cfxusdt_kline_1m',\n 'forthusdt_kline_1m',\n 'bakeusdt_kline_1m',\n 'shibusdt_kline_1m',\n 'arusdt_kline_1m',\n 'lptusdt_kline_1m',\n 'gtcusdt_kline_1m',\n 'ernusdt_kline_1m',\n 'dentusdt_kline_1m',\n 'clvusdt_kline_1m',\n 'tvkusdt_kline_1m',\n 'rayusdt_kline_1m',\n 'mboxusdt_kline_1m',\n 'waxpusdt_kline_1m',\n 'vidtusdt_kline_1m',\n 'dfusdt_kline_1m',\n 'fidausdt_kline_1m',\n 'darusdt_kline_1m',\n 'portousdt_kline_1m',\n 'vgxusdt_kline_1m',\n 'plausdt_kline_1m',\n 'rndrusdt_kline_1m',\n 'mcusdt_kline_1m',\n 'slpusdt_kline_1m',\n 'fluxusdt_kline_1m',\n 'cvxusdt_kline_1m',\n 'scrtusdt_kline_1m',\n 'alpineusdt_kline_1m',\n 'gmtusdt_kline_1m',\n 'steemusdt_kline_1m',\n 'gmxusdt_kline_1m',\n 'polyxusdt_kline_1m',\n 'phbusdt_kline_1m',\n 'agixusdt_kline_1m',\n 'gnsusdt_kline_1m',\n 'lqtyusdt_kline_1m',\n 'gasusdt_kline_1m',\n 'arbusdt_kline_1m',\n 'wbtcusdt_kline_1m',\n 'eduusdt_kline_1m',\n 'astusdt_kline_1m',\n 'arkusdt_kline_1m',\n 'iqusdt_kline_1m',\n 'mobusdt_kline_1m',\n 'ldousdt_kline_1m',\n 'epxusdt_kline_1m',\n 'stgusdt_kline_1m',\n 'luncusdt_kline_1m',\n 'osmousdt_kline_1m',\n 'prosusdt_kline_1m',\n 'synusdt_kline_1m',\n 'ssvusdt_kline_1m',\n 'ambusdt_kline_1m',\n 'ustcusdt_kline_1m',\n 'idusdt_kline_1m',\n 'combousdt_kline_1m',\n 'wldusdt_kline_1m',\n 'fdusdusdt_kline_1m',\n 'seiusdt_kline_1m',\n 'creamusdt_kline_1m',\n 'injusdt_kline_1m',\n 'ctkusdt_kline_1m',\n 'celousdt_kline_1m',\n 'straxusdt_kline_1m',\n 'reefusdt_kline_1m',\n 'alphausdt_kline_1m',\n 'api3usdt_kline_1m',\n 'firousdt_kline_1m',\n 'sfpusdt_kline_1m',\n 'dodousdt_kline_1m',\n 'acmusdt_kline_1m',\n 'fisusdt_kline_1m',\n 'pondusdt_kline_1m',\n 'degousdt_kline_1m',\n 'burgerusdt_kline_1m',\n 'klayusdt_kline_1m',\n 'dexeusdt_kline_1m',\n 'c98usdt_kline_1m',\n 'flowusdt_kline_1m',\n 'gnousdt_kline_1m',\n 'bnbupusdt_kline_1m',\n 'idexusdt_kline_1m',\n 'yggusdt_kline_1m',\n 'frontusdt_kline_1m',\n 'cvpusdt_kline_1m',\n 'rareusdt_kline_1m',\n 'auctionusdt_kline_1m',\n 'spellusdt_kline_1m',\n 'joeusdt_kline_1m',\n 'acausdt_kline_1m',\n 'kdausdt_kline_1m',\n 'qtumusdt_kline_1m',\n 'xrpusdt_kline_1m',\n 'eosusdt_kline_1m',\n 'trxusdt_kline_1m',\n 'icxusdt_kline_1m',\n 'usdcusdt_kline_1m',\n 'audiousdt_kline_1m',\n 'xemusdt_kline_1m',\n 'axsusdt_kline_1m',\n 'hardusdt_kline_1m',\n 't_1inchusdt_kline_1m',\n 'atmusdt_kline_1m',\n 'cakeusdt_kline_1m',\n 'aliceusdt_kline_1m',\n 'ongusdt_kline_1m',\n 'perpusdt_kline_1m',\n 'bnxusdt_kline_1m',\n 'hotusdt_kline_1m',\n 'celrusdt_kline_1m',\n 'tfuelusdt_kline_1m',\n 'superusdt_kline_1m',\n 'santosusdt_kline_1m',\n 'highusdt_kline_1m',\n 'pundixusdt_kline_1m',\n 'ftmusdt_kline_1m',\n 'bandusdt_kline_1m',\n 'atausdt_kline_1m',\n 'ankrusdt_kline_1m',\n 'keyusdt_kline_1m',\n 'wanusdt_kline_1m',\n 'tlmusdt_kline_1m',\n 'chzusdt_kline_1m',\n 'icpusdt_kline_1m',\n 'mdxusdt_kline_1m',\n 'bondusdt_kline_1m',\n 'xvgusdt_kline_1m',\n 'mlnusdt_kline_1m',\n 'minausdt_kline_1m',\n 'hbarusdt_kline_1m',\n 'forusdt_kline_1m',\n 'farmusdt_kline_1m',\n 'stxusdt_kline_1m',\n 'ghstusdt_kline_1m',\n 'kavausdt_kline_1m',\n 'quickusdt_kline_1m',\n 'rlcusdt_kline_1m',\n 'usdpusdt_kline_1m',\n 'bifiusdt_kline_1m',\n 'ilvusdt_kline_1m',\n 'sysusdt_kline_1m',\n 'radusdt_kline_1m',\n 'laziousdt_kline_1m',\n 'phausdt_kline_1m',\n 'pyrusdt_kline_1m',\n 'woousdt_kline_1m',\n 'cotiusdt_kline_1m',\n 'movrusdt_kline_1m',\n 'tusdt_kline_1m',\n 'cityusdt_kline_1m',\n 'powrusdt_kline_1m',\n 'bicousdt_kline_1m',\n 'astrusdt_kline_1m',\n 'peopleusdt_kline_1m',\n 'apeusdt_kline_1m',\n 'achusdt_kline_1m',\n 'pntusdt_kline_1m',\n 'imxusdt_kline_1m',\n 'lokausdt_kline_1m',\n 'bttcusdt_kline_1m',\n 'xnousdt_kline_1m',\n 'solusdt_kline_1m',\n 'mkrusdt_kline_1m',\n 'multiusdt_kline_1m',\n 'storjusdt_kline_1m',\n 'bnbdownusdt_kline_1m',\n 'nexousdt_kline_1m',\n 'reiusdt_kline_1m',\n 'galusdt_kline_1m',\n 'opusdt_kline_1m',\n 'magicusdt_kline_1m',\n 'blzusdt_kline_1m',\n 'sandusdt_kline_1m',\n 'hifiusdt_kline_1m',\n 'oceanusdt_kline_1m',\n 'uftusdt_kline_1m',\n 'dotusdt_kline_1m',\n 'trbusdt_kline_1m',\n 'sushiusdt_kline_1m',\n 'loomusdt_kline_1m',\n 'btcusdt_kline_1m',\n 'aptusdt_kline_1m',\n 'iotausdt_kline_1m',\n 'hftusdt_kline_1m',\n 'suiusdt_kline_1m',\n 'ontusdt_kline_1m',\n 'oaxusdt_kline_1m',\n 'aergousdt_kline_1m',\n 'wbethusdt_kline_1m',\n 'leverusdt_kline_1m',\n 'vibusdt_kline_1m',\n 'ntrnusdt_kline_1m',\n 'pepeusdt_kline_1m',\n 'hookusdt_kline_1m',\n 'sntusdt_kline_1m',\n 'rplusdt_kline_1m',\n 'arkmusdt_kline_1m',\n 'bswusdt_kline_1m',\n 'glmusdt_kline_1m',\n 'rdntusdt_kline_1m',\n 'promusdt_kline_1m',\n 'wavesusdt_kline_1m',\n 'flokiusdt_kline_1m',\n 'mavusdt_kline_1m',\n 'pendleusdt_kline_1m',\n 'cyberusdt_kline_1m',\n 'dockusdt_kline_1m',\n 'xmrusdt_kline_1m',\n 'fetusdt_kline_1m',\n 'qkcusdt_kline_1m',\n 'zecusdt_kline_1m',\n 'dogeusdt_kline_1m',\n 'maticusdt_kline_1m',\n 'duskusdt_kline_1m',\n 'btcupusdt_kline_1m',\n 'funusdt_kline_1m',\n 'busdusdt_kline_1m',\n 'arpausdt_kline_1m',\n 'mblusdt_kline_1m',\n 'ognusdt_kline_1m',\n 'stptusdt_kline_1m',\n 'datausdt_kline_1m',\n 'dgbusdt_kline_1m',\n 'ltcusdt_kline_1m',\n 'sxpusdt_kline_1m',\n 'diausdt_kline_1m',\n 'oxtusdt_kline_1m',\n 'sunusdt_kline_1m',\n 'ornusdt_kline_1m',\n 'utkusdt_kline_1m',\n 'ardrusdt_kline_1m',\n 'compusdt_kline_1m',\n 'snxusdt_kline_1m',\n 'ethupusdt_kline_1m',\n 'jstusdt_kline_1m',\n 'nmrusdt_kline_1m',\n 'paxgusdt_kline_1m',\n 'ksmusdt_kline_1m',\n 'bnbusdt_kline_1m',\n 'xlmusdt_kline_1m',\n 'neousdt_kline_1m',\n 'adausdt_kline_1m',\n 'nulsusdt_kline_1m',\n 'tusdusdt_kline_1m',\n 'batusdt_kline_1m',\n 'iostusdt_kline_1m',\n 'xtzusdt_kline_1m',\n 'dashusdt_kline_1m',\n 'omgusdt_kline_1m',\n 'thetausdt_kline_1m',\n 'oneusdt_kline_1m',\n 'enjusdt_kline_1m',\n 'algousdt_kline_1m',\n 'perlusdt_kline_1m',\n 'cvcusdt_kline_1m',\n 'renusdt_kline_1m',\n 'ctxcusdt_kline_1m',\n 'ctsiusdt_kline_1m',\n 'scusdt_kline_1m',\n 'hiveusdt_kline_1m',\n 'chrusdt_kline_1m',\n 'stmxusdt_kline_1m',\n 'viteusdt_kline_1m',\n 'ethusdt_kline_1m',\n 'fttusdt_kline_1m',\n 'drepusdt_kline_1m',\n 'wrxusdt_kline_1m',\n 'lskusdt_kline_1m',\n 'gbpusdt_kline_1m',\n 'yfiusdt_kline_1m',\n 'balusdt_kline_1m',\n 'etcusdt_kline_1m',\n 'kmdusdt_kline_1m',\n 'vetusdt_kline_1m',\n 'crvusdt_kline_1m',\n 'umausdt_kline_1m',\n 'flmusdt_kline_1m',\n 'atomusdt_kline_1m',\n 'winusdt_kline_1m',\n 'cosusdt_kline_1m',\n 'linkusdt_kline_1m',\n 'mtlusdt_kline_1m',\n 'zilusdt_kline_1m',\n 'zrxusdt_kline_1m',\n 'tomousdt_kline_1m',\n 'rvnusdt_kline_1m',\n 'lrcusdt_kline_1m',\n 'nknusdt_kline_1m',\n 'wtcusdt_kline_1m',\n 'iotxusdt_kline_1m',\n 'btcdownusdt_kline_1m',\n 'troyusdt_kline_1m',\n 'mdtusdt_kline_1m',\n 'kncusdt_kline_1m',\n 'eurusdt_kline_1m',\n 'zenusdt_kline_1m',\n 'btsusdt_kline_1m',\n 'bntusdt_kline_1m',\n 'ltousdt_kline_1m',\n 'wingusdt_kline_1m',\n 'ethdownusdt_kline_1m',\n 'vthousdt_kline_1m',\n 'dcrusdt_kline_1m',\n 'manausdt_kline_1m',\n 'irisusdt_kline_1m',\n 'antusdt_kline_1m',\n 'uniusdt_kline_1m',\n 'lunausdt_kline_1m',\n 'runeusdt_kline_1m',\n 'avaxusdt_kline_1m',\n 'rsrusdt_kline_1m',\n 'wnxmusdt_kline_1m',\n 'unfiusdt_kline_1m',\n 'egldusdt_kline_1m',\n 'filusdt_kline_1m',\n 'fiousdt_kline_1m',\n 'belusdt_kline_1m',\n 'memeusdt_kline_1m',\n 'tiausdt_kline_1m',\n 'bchusdt_kline_1m',\n 'ordiusdt_kline_1m',\n 'ltcbtc_kline_1m']"
     },
     "execution_count": 10,
     "metadata": {},
     "output_type": "execute_result"
    }
   ],
   "source": [
    "tables = db.get_tables(table_type=\"kline_1m\")\n",
    "tables"
   ]
  },
  {
   "cell_type": "code",
   "execution_count": 11,
   "id": "565bb800",
   "metadata": {
    "ExecuteTime": {
     "end_time": "2023-11-14T18:19:24.426037400Z",
     "start_time": "2023-11-14T18:19:22.991610Z"
    }
   },
   "outputs": [
    {
     "data": {
      "text/plain": "ethusdt_kline_1m     3258707\nbtcusdt_kline_1m     3258133\nbnbusdt_kline_1m     3152325\nneousdt_kline_1m     3130980\nltcusdt_kline_1m     3088445\n                      ...   \nntrnusdt_kline_1m      49520\ntiausdt_kline_1m       18031\nmemeusdt_kline_1m      15186\nordiusdt_kline_1m       8469\nltcbtc_kline_1m          113\nLength: 368, dtype: int64"
     },
     "execution_count": 11,
     "metadata": {},
     "output_type": "execute_result"
    }
   ],
   "source": [
    "table_counts = db.get_table_counts()\n",
    "table_counts"
   ]
  },
  {
   "cell_type": "code",
   "execution_count": 12,
   "id": "7b335ab9",
   "metadata": {
    "ExecuteTime": {
     "end_time": "2023-11-14T18:19:24.426037400Z",
     "start_time": "2023-11-14T18:19:24.407607600Z"
    }
   },
   "outputs": [
    {
     "data": {
      "text/plain": "ethusdt_kline_1m     3258707\nbtcusdt_kline_1m     3258133\nbnbusdt_kline_1m     3152325\nneousdt_kline_1m     3130980\nltcusdt_kline_1m     3088445\n                      ...   \nntrnusdt_kline_1m      49520\ntiausdt_kline_1m       18031\nmemeusdt_kline_1m      15186\nordiusdt_kline_1m       8469\nltcbtc_kline_1m          113\nLength: 368, dtype: int64"
     },
     "execution_count": 12,
     "metadata": {},
     "output_type": "execute_result"
    }
   ],
   "source": [
    "ser = pd.Series(table_counts)\n",
    "ser.sort_values(ascending=False, inplace=True)\n",
    "ser"
   ]
  },
  {
   "cell_type": "code",
   "execution_count": 13,
   "id": "6d3b9203",
   "metadata": {
    "ExecuteTime": {
     "end_time": "2023-11-14T18:19:26.754018200Z",
     "start_time": "2023-11-14T18:19:26.747618700Z"
    }
   },
   "outputs": [
    {
     "data": {
      "text/plain": "'ethusdt_kline_1m'"
     },
     "execution_count": 13,
     "metadata": {},
     "output_type": "execute_result"
    }
   ],
   "source": [
    "table = ser.index[0]\n",
    "table"
   ]
  },
  {
   "cell_type": "code",
   "execution_count": 14,
   "id": "718cc0cb",
   "metadata": {
    "ExecuteTime": {
     "end_time": "2023-11-14T18:19:27.085835Z",
     "start_time": "2023-11-14T18:19:27.064156800Z"
    }
   },
   "outputs": [
    {
     "data": {
      "text/plain": "['time',\n 'close_timestamp',\n 'first_trade_id',\n 'last_trade_id',\n 'open',\n 'close',\n 'high',\n 'low',\n 'volume',\n 'trades',\n 'quote_volume',\n 'taker_buy_base_volume',\n 'taker_buy_quote_volume']"
     },
     "execution_count": 14,
     "metadata": {},
     "output_type": "execute_result"
    }
   ],
   "source": [
    "db.get_columns(table_name=table)"
   ]
  },
  {
   "cell_type": "code",
   "execution_count": 15,
   "id": "9632ef99",
   "metadata": {
    "ExecuteTime": {
     "end_time": "2023-11-14T18:19:28.109866800Z",
     "start_time": "2023-11-14T18:19:28.109866800Z"
    }
   },
   "outputs": [],
   "source": [
    "symbol = table.split(\"_\")[0]\n",
    "tick_interval = table.split(\"_\")[-1]"
   ]
  },
  {
   "cell_type": "code",
   "execution_count": 16,
   "id": "8c00700b",
   "metadata": {
    "scrolled": false,
    "ExecuteTime": {
     "end_time": "2023-11-14T18:19:37.062196700Z",
     "start_time": "2023-11-14T18:19:29.145355900Z"
    }
   },
   "outputs": [
    {
     "name": "stderr",
     "output_type": "stream",
     "text": [
      "2023-11-14\t 19:19:29     INFO Postgres connection requested as str: 192.168.89.211\n",
      "2023-11-14\t 19:19:29     INFO Getting data from table ethusdt_kline_1m from 2022-11-14 13:19:29 to 2023-11-14 19:18:58\n",
      "2023-11-14\t 19:19:37  WARNING BinPan Warning: Dataframe has gaps in klines continuity: \n",
      "                                     Open timestamp                  Close timestamp             Gap length\n",
      "ETHUSDT 1m Europe/Madrid                                                                                   \n",
      "2023-03-24 15:00:00+01:00 2023-03-24 15:00:00+01:00 2023-03-24 15:00:59.999000+01:00 0 days 00:00:59.999000\n",
      "2023-10-24 09:38:00+02:00 2023-10-24 09:38:00+02:00 2023-10-24 09:38:59.999000+02:00 0 days 00:00:59.999000\n",
      "2023-10-24 11:16:00+02:00 2023-10-24 11:16:00+02:00 2023-10-24 11:16:59.999000+02:00 0 days 00:00:59.999000\n",
      "2023-10-24 16:03:00+02:00 2023-10-24 16:03:00+02:00 2023-10-24 16:03:59.999000+02:00 0 days 00:00:59.999000\n",
      "2023-10-24 16:05:00+02:00 2023-10-24 16:05:00+02:00 2023-10-24 16:05:59.999000+02:00 0 days 00:00:59.999000\n",
      "...                                             ...                              ...                    ...\n",
      "2023-10-31 17:26:00+01:00 2023-10-31 17:26:00+01:00 2023-10-31 17:26:59.999000+01:00 0 days 00:00:59.999000\n",
      "2023-11-09 02:56:00+01:00 2023-11-09 02:56:00+01:00 2023-11-09 02:56:59.999000+01:00 0 days 00:00:59.999000\n",
      "2023-11-13 15:55:00+01:00 2023-11-13 15:55:00+01:00 2023-11-13 15:55:59.999000+01:00 0 days 00:00:59.999000\n",
      "2023-11-14 01:17:00+01:00 2023-11-14 01:17:00+01:00 2023-11-14 01:17:59.999000+01:00 0 days 00:00:59.999000\n",
      "2023-11-14 17:12:00+01:00 2023-11-14 17:12:00+01:00 2023-11-14 17:12:59.999000+01:00 0 days 00:00:59.999000\n",
      "\n",
      "[25 rows x 3 columns]\n",
      "2023-11-14\t 19:19:37     INFO Please, repair the dataframe with the function 'repair_continuity' method or 'repair_kline_discontinuity' function from 'auxiliar.py'.\n"
     ]
    }
   ],
   "source": [
    "sym = binpan.Symbol(symbol=symbol,\n",
    "                    tick_interval=\"1m\",\n",
    "                    time_zone='Europe/Madrid',\n",
    "                    hours=8766,\n",
    "                    postgres_klines=\"192.168.89.211\")"
   ]
  },
  {
   "cell_type": "code",
   "execution_count": 17,
   "id": "a814be76",
   "metadata": {
    "ExecuteTime": {
     "end_time": "2023-11-14T18:19:37.067431400Z",
     "start_time": "2023-11-14T18:19:37.062196700Z"
    }
   },
   "outputs": [
    {
     "data": {
      "text/plain": "pandas.core.indexes.datetimes.DatetimeIndex"
     },
     "execution_count": 17,
     "metadata": {},
     "output_type": "execute_result"
    }
   ],
   "source": [
    "type(sym.df.index)"
   ]
  },
  {
   "cell_type": "code",
   "execution_count": 18,
   "id": "9a62a263",
   "metadata": {
    "ExecuteTime": {
     "end_time": "2023-11-14T18:19:37.113425900Z",
     "start_time": "2023-11-14T18:19:37.067431400Z"
    }
   },
   "outputs": [
    {
     "data": {
      "text/plain": "                                     Open timestamp                  Close timestamp             Gap length\nETHUSDT 1m Europe/Madrid                                                                                   \n2023-03-24 15:00:00+01:00 2023-03-24 15:00:00+01:00 2023-03-24 15:00:59.999000+01:00 0 days 00:00:59.999000\n2023-10-24 09:38:00+02:00 2023-10-24 09:38:00+02:00 2023-10-24 09:38:59.999000+02:00 0 days 00:00:59.999000\n2023-10-24 11:16:00+02:00 2023-10-24 11:16:00+02:00 2023-10-24 11:16:59.999000+02:00 0 days 00:00:59.999000\n2023-10-24 16:03:00+02:00 2023-10-24 16:03:00+02:00 2023-10-24 16:03:59.999000+02:00 0 days 00:00:59.999000\n2023-10-24 16:05:00+02:00 2023-10-24 16:05:00+02:00 2023-10-24 16:05:59.999000+02:00 0 days 00:00:59.999000\n...                                             ...                              ...                    ...\n2023-10-31 17:26:00+01:00 2023-10-31 17:26:00+01:00 2023-10-31 17:26:59.999000+01:00 0 days 00:00:59.999000\n2023-11-09 02:56:00+01:00 2023-11-09 02:56:00+01:00 2023-11-09 02:56:59.999000+01:00 0 days 00:00:59.999000\n2023-11-13 15:55:00+01:00 2023-11-13 15:55:00+01:00 2023-11-13 15:55:59.999000+01:00 0 days 00:00:59.999000\n2023-11-14 01:17:00+01:00 2023-11-14 01:17:00+01:00 2023-11-14 01:17:59.999000+01:00 0 days 00:00:59.999000\n2023-11-14 17:12:00+01:00 2023-11-14 17:12:00+01:00 2023-11-14 17:12:59.999000+01:00 0 days 00:00:59.999000\n\n[25 rows x 3 columns]",
      "text/html": "<div>\n<style scoped>\n    .dataframe tbody tr th:only-of-type {\n        vertical-align: middle;\n    }\n\n    .dataframe tbody tr th {\n        vertical-align: top;\n    }\n\n    .dataframe thead th {\n        text-align: right;\n    }\n</style>\n<table border=\"1\" class=\"dataframe\">\n  <thead>\n    <tr style=\"text-align: right;\">\n      <th></th>\n      <th>Open timestamp</th>\n      <th>Close timestamp</th>\n      <th>Gap length</th>\n    </tr>\n    <tr>\n      <th>ETHUSDT 1m Europe/Madrid</th>\n      <th></th>\n      <th></th>\n      <th></th>\n    </tr>\n  </thead>\n  <tbody>\n    <tr>\n      <th>2023-03-24 15:00:00+01:00</th>\n      <td>2023-03-24 15:00:00+01:00</td>\n      <td>2023-03-24 15:00:59.999000+01:00</td>\n      <td>0 days 00:00:59.999000</td>\n    </tr>\n    <tr>\n      <th>2023-10-24 09:38:00+02:00</th>\n      <td>2023-10-24 09:38:00+02:00</td>\n      <td>2023-10-24 09:38:59.999000+02:00</td>\n      <td>0 days 00:00:59.999000</td>\n    </tr>\n    <tr>\n      <th>2023-10-24 11:16:00+02:00</th>\n      <td>2023-10-24 11:16:00+02:00</td>\n      <td>2023-10-24 11:16:59.999000+02:00</td>\n      <td>0 days 00:00:59.999000</td>\n    </tr>\n    <tr>\n      <th>2023-10-24 16:03:00+02:00</th>\n      <td>2023-10-24 16:03:00+02:00</td>\n      <td>2023-10-24 16:03:59.999000+02:00</td>\n      <td>0 days 00:00:59.999000</td>\n    </tr>\n    <tr>\n      <th>2023-10-24 16:05:00+02:00</th>\n      <td>2023-10-24 16:05:00+02:00</td>\n      <td>2023-10-24 16:05:59.999000+02:00</td>\n      <td>0 days 00:00:59.999000</td>\n    </tr>\n    <tr>\n      <th>...</th>\n      <td>...</td>\n      <td>...</td>\n      <td>...</td>\n    </tr>\n    <tr>\n      <th>2023-10-31 17:26:00+01:00</th>\n      <td>2023-10-31 17:26:00+01:00</td>\n      <td>2023-10-31 17:26:59.999000+01:00</td>\n      <td>0 days 00:00:59.999000</td>\n    </tr>\n    <tr>\n      <th>2023-11-09 02:56:00+01:00</th>\n      <td>2023-11-09 02:56:00+01:00</td>\n      <td>2023-11-09 02:56:59.999000+01:00</td>\n      <td>0 days 00:00:59.999000</td>\n    </tr>\n    <tr>\n      <th>2023-11-13 15:55:00+01:00</th>\n      <td>2023-11-13 15:55:00+01:00</td>\n      <td>2023-11-13 15:55:59.999000+01:00</td>\n      <td>0 days 00:00:59.999000</td>\n    </tr>\n    <tr>\n      <th>2023-11-14 01:17:00+01:00</th>\n      <td>2023-11-14 01:17:00+01:00</td>\n      <td>2023-11-14 01:17:59.999000+01:00</td>\n      <td>0 days 00:00:59.999000</td>\n    </tr>\n    <tr>\n      <th>2023-11-14 17:12:00+01:00</th>\n      <td>2023-11-14 17:12:00+01:00</td>\n      <td>2023-11-14 17:12:59.999000+01:00</td>\n      <td>0 days 00:00:59.999000</td>\n    </tr>\n  </tbody>\n</table>\n<p>25 rows × 3 columns</p>\n</div>"
     },
     "execution_count": 18,
     "metadata": {},
     "output_type": "execute_result"
    }
   ],
   "source": [
    "sym.discontinuities"
   ]
  },
  {
   "cell_type": "code",
   "execution_count": 19,
   "id": "fa401762",
   "metadata": {
    "ExecuteTime": {
     "end_time": "2023-11-14T18:19:38.026248900Z",
     "start_time": "2023-11-14T18:19:37.082164700Z"
    }
   },
   "outputs": [
    {
     "name": "stderr",
     "output_type": "stream",
     "text": [
      "2023-11-14\t 19:19:37     INFO Repairing kline discontinuity with selective ffill...\n",
      "2023-11-14\t 19:19:37     INFO Common interval found: 60000 ms. Inserting 104 missing rows...\n",
      "C:\\Users\\hanca\\PycharmProjects\\binpan_studio\\binpan\\auxiliar.py:252: FutureWarning: The behavior of DataFrame concatenation with empty or all-NA entries is deprecated. In a future version, this will no longer exclude empty or all-NA columns when determining the result dtypes. To retain the old behavior, exclude the relevant entries before the concat operation.\n",
      "  df_copy = pd.concat([df_copy, df_], axis=0, ignore_index=False)\n",
      "2023-11-14\t 19:19:37     INFO Filling missing values...\n",
      "2023-11-14\t 19:19:37     INFO Klines continuity verification after repair\n",
      "2023-11-14\t 19:19:38     INFO Klines continuity OK\n"
     ]
    }
   ],
   "source": [
    "sym.repair_continuity()"
   ]
  },
  {
   "cell_type": "code",
   "execution_count": 20,
   "id": "42222598",
   "metadata": {
    "ExecuteTime": {
     "end_time": "2023-11-14T18:19:38.026248900Z",
     "start_time": "2023-11-14T18:19:38.019960Z"
    }
   },
   "outputs": [
    {
     "data": {
      "text/plain": "pandas.core.indexes.datetimes.DatetimeIndex"
     },
     "execution_count": 20,
     "metadata": {},
     "output_type": "execute_result"
    }
   ],
   "source": [
    "type(sym.df.index)"
   ]
  },
  {
   "cell_type": "code",
   "execution_count": 21,
   "id": "60af5267",
   "metadata": {
    "ExecuteTime": {
     "end_time": "2023-11-14T18:19:38.075230400Z",
     "start_time": "2023-11-14T18:19:38.026248900Z"
    }
   },
   "outputs": [
    {
     "data": {
      "text/plain": "                                          Open time     Open     High      Low    Close    Volume                       Close time  Quote volume  Trades  Taker buy base volume  Taker buy quote volume  Open timestamp  Close timestamp  First TradeId  Last TradeId\nETHUSDT 1m Europe/Madrid                                                                                                                                                                                                                                             \n2022-11-14 13:20:00+01:00 2022-11-14 13:20:00+01:00  1253.29  1254.59  1253.03  1254.13  210.6092 2022-11-14 13:20:59.999000+01:00  2.640535e+05     450                96.3046           120736.532714   1668428400000    1668428459999            NaN           NaN\n2022-11-14 13:21:00+01:00 2022-11-14 13:21:00+01:00  1254.13  1254.51  1253.90  1254.31  132.5147 2022-11-14 13:21:59.999000+01:00  1.662061e+05     309                83.0628           104178.037388   1668428460000    1668428519999            NaN           NaN\n2022-11-14 13:22:00+01:00 2022-11-14 13:22:00+01:00  1254.32  1255.34  1253.98  1255.34  399.6292 2022-11-14 13:22:59.999000+01:00  5.013894e+05     457               294.4535           369420.187075   1668428520000    1668428579999            NaN           NaN\n2022-11-14 13:23:00+01:00 2022-11-14 13:23:00+01:00  1255.34  1255.50  1255.04  1255.18  219.6935 2022-11-14 13:23:59.999000+01:00  2.757794e+05     367                99.6738           125120.876205   1668428580000    1668428639999            NaN           NaN\n2022-11-14 13:24:00+01:00 2022-11-14 13:24:00+01:00  1255.18  1256.31  1255.09  1255.22  366.0395 2022-11-14 13:24:59.999000+01:00  4.596376e+05     641               211.0178           264972.796851   1668428640000    1668428699999            NaN           NaN\n...                                             ...      ...      ...      ...      ...       ...                              ...           ...     ...                    ...                     ...             ...              ...            ...           ...\n2023-11-14 19:14:00+01:00 2023-11-14 19:14:00+01:00  2012.70  2015.20  2008.88  2008.88  967.2789 2023-11-14 19:14:59.999000+01:00  1.946938e+06    1498               391.2189           787543.293177   1699985640000    1699985699999   1.231623e+09  1.231624e+09\n2023-11-14 19:15:00+01:00 2023-11-14 19:15:00+01:00  2008.88  2013.19  2007.71  2011.21  710.8905 2023-11-14 19:15:59.999000+01:00  1.429320e+06    1555               393.8644           791827.646138   1699985700000    1699985759999   1.231624e+09  1.231626e+09\n2023-11-14 19:16:00+01:00 2023-11-14 19:16:00+01:00  2011.21  2013.60  2009.90  2013.60  439.5908 2023-11-14 19:16:59.999000+01:00  8.841233e+05     892               258.1919           519263.142073   1699985760000    1699985819999   1.231626e+09  1.231627e+09\n2023-11-14 19:17:00+01:00 2023-11-14 19:17:00+01:00  2013.60  2016.01  2012.60  2015.40  705.6397 2023-11-14 19:17:59.999000+01:00  1.421521e+06    1065               439.9250           886212.466249   1699985820000    1699985879999   1.231627e+09  1.231628e+09\n2023-11-14 19:18:00+01:00 2023-11-14 19:18:00+01:00  2015.40  2015.57  2013.80  2014.79  256.6603 2023-11-14 19:18:59.999000+01:00  5.170894e+05     808               129.5292           260937.180861   1699985880000    1699985939999   1.231628e+09  1.231628e+09\n\n[525959 rows x 15 columns]",
      "text/html": "<div>\n<style scoped>\n    .dataframe tbody tr th:only-of-type {\n        vertical-align: middle;\n    }\n\n    .dataframe tbody tr th {\n        vertical-align: top;\n    }\n\n    .dataframe thead th {\n        text-align: right;\n    }\n</style>\n<table border=\"1\" class=\"dataframe\">\n  <thead>\n    <tr style=\"text-align: right;\">\n      <th></th>\n      <th>Open time</th>\n      <th>Open</th>\n      <th>High</th>\n      <th>Low</th>\n      <th>Close</th>\n      <th>Volume</th>\n      <th>Close time</th>\n      <th>Quote volume</th>\n      <th>Trades</th>\n      <th>Taker buy base volume</th>\n      <th>Taker buy quote volume</th>\n      <th>Open timestamp</th>\n      <th>Close timestamp</th>\n      <th>First TradeId</th>\n      <th>Last TradeId</th>\n    </tr>\n    <tr>\n      <th>ETHUSDT 1m Europe/Madrid</th>\n      <th></th>\n      <th></th>\n      <th></th>\n      <th></th>\n      <th></th>\n      <th></th>\n      <th></th>\n      <th></th>\n      <th></th>\n      <th></th>\n      <th></th>\n      <th></th>\n      <th></th>\n      <th></th>\n      <th></th>\n    </tr>\n  </thead>\n  <tbody>\n    <tr>\n      <th>2022-11-14 13:20:00+01:00</th>\n      <td>2022-11-14 13:20:00+01:00</td>\n      <td>1253.29</td>\n      <td>1254.59</td>\n      <td>1253.03</td>\n      <td>1254.13</td>\n      <td>210.6092</td>\n      <td>2022-11-14 13:20:59.999000+01:00</td>\n      <td>2.640535e+05</td>\n      <td>450</td>\n      <td>96.3046</td>\n      <td>120736.532714</td>\n      <td>1668428400000</td>\n      <td>1668428459999</td>\n      <td>NaN</td>\n      <td>NaN</td>\n    </tr>\n    <tr>\n      <th>2022-11-14 13:21:00+01:00</th>\n      <td>2022-11-14 13:21:00+01:00</td>\n      <td>1254.13</td>\n      <td>1254.51</td>\n      <td>1253.90</td>\n      <td>1254.31</td>\n      <td>132.5147</td>\n      <td>2022-11-14 13:21:59.999000+01:00</td>\n      <td>1.662061e+05</td>\n      <td>309</td>\n      <td>83.0628</td>\n      <td>104178.037388</td>\n      <td>1668428460000</td>\n      <td>1668428519999</td>\n      <td>NaN</td>\n      <td>NaN</td>\n    </tr>\n    <tr>\n      <th>2022-11-14 13:22:00+01:00</th>\n      <td>2022-11-14 13:22:00+01:00</td>\n      <td>1254.32</td>\n      <td>1255.34</td>\n      <td>1253.98</td>\n      <td>1255.34</td>\n      <td>399.6292</td>\n      <td>2022-11-14 13:22:59.999000+01:00</td>\n      <td>5.013894e+05</td>\n      <td>457</td>\n      <td>294.4535</td>\n      <td>369420.187075</td>\n      <td>1668428520000</td>\n      <td>1668428579999</td>\n      <td>NaN</td>\n      <td>NaN</td>\n    </tr>\n    <tr>\n      <th>2022-11-14 13:23:00+01:00</th>\n      <td>2022-11-14 13:23:00+01:00</td>\n      <td>1255.34</td>\n      <td>1255.50</td>\n      <td>1255.04</td>\n      <td>1255.18</td>\n      <td>219.6935</td>\n      <td>2022-11-14 13:23:59.999000+01:00</td>\n      <td>2.757794e+05</td>\n      <td>367</td>\n      <td>99.6738</td>\n      <td>125120.876205</td>\n      <td>1668428580000</td>\n      <td>1668428639999</td>\n      <td>NaN</td>\n      <td>NaN</td>\n    </tr>\n    <tr>\n      <th>2022-11-14 13:24:00+01:00</th>\n      <td>2022-11-14 13:24:00+01:00</td>\n      <td>1255.18</td>\n      <td>1256.31</td>\n      <td>1255.09</td>\n      <td>1255.22</td>\n      <td>366.0395</td>\n      <td>2022-11-14 13:24:59.999000+01:00</td>\n      <td>4.596376e+05</td>\n      <td>641</td>\n      <td>211.0178</td>\n      <td>264972.796851</td>\n      <td>1668428640000</td>\n      <td>1668428699999</td>\n      <td>NaN</td>\n      <td>NaN</td>\n    </tr>\n    <tr>\n      <th>...</th>\n      <td>...</td>\n      <td>...</td>\n      <td>...</td>\n      <td>...</td>\n      <td>...</td>\n      <td>...</td>\n      <td>...</td>\n      <td>...</td>\n      <td>...</td>\n      <td>...</td>\n      <td>...</td>\n      <td>...</td>\n      <td>...</td>\n      <td>...</td>\n      <td>...</td>\n    </tr>\n    <tr>\n      <th>2023-11-14 19:14:00+01:00</th>\n      <td>2023-11-14 19:14:00+01:00</td>\n      <td>2012.70</td>\n      <td>2015.20</td>\n      <td>2008.88</td>\n      <td>2008.88</td>\n      <td>967.2789</td>\n      <td>2023-11-14 19:14:59.999000+01:00</td>\n      <td>1.946938e+06</td>\n      <td>1498</td>\n      <td>391.2189</td>\n      <td>787543.293177</td>\n      <td>1699985640000</td>\n      <td>1699985699999</td>\n      <td>1.231623e+09</td>\n      <td>1.231624e+09</td>\n    </tr>\n    <tr>\n      <th>2023-11-14 19:15:00+01:00</th>\n      <td>2023-11-14 19:15:00+01:00</td>\n      <td>2008.88</td>\n      <td>2013.19</td>\n      <td>2007.71</td>\n      <td>2011.21</td>\n      <td>710.8905</td>\n      <td>2023-11-14 19:15:59.999000+01:00</td>\n      <td>1.429320e+06</td>\n      <td>1555</td>\n      <td>393.8644</td>\n      <td>791827.646138</td>\n      <td>1699985700000</td>\n      <td>1699985759999</td>\n      <td>1.231624e+09</td>\n      <td>1.231626e+09</td>\n    </tr>\n    <tr>\n      <th>2023-11-14 19:16:00+01:00</th>\n      <td>2023-11-14 19:16:00+01:00</td>\n      <td>2011.21</td>\n      <td>2013.60</td>\n      <td>2009.90</td>\n      <td>2013.60</td>\n      <td>439.5908</td>\n      <td>2023-11-14 19:16:59.999000+01:00</td>\n      <td>8.841233e+05</td>\n      <td>892</td>\n      <td>258.1919</td>\n      <td>519263.142073</td>\n      <td>1699985760000</td>\n      <td>1699985819999</td>\n      <td>1.231626e+09</td>\n      <td>1.231627e+09</td>\n    </tr>\n    <tr>\n      <th>2023-11-14 19:17:00+01:00</th>\n      <td>2023-11-14 19:17:00+01:00</td>\n      <td>2013.60</td>\n      <td>2016.01</td>\n      <td>2012.60</td>\n      <td>2015.40</td>\n      <td>705.6397</td>\n      <td>2023-11-14 19:17:59.999000+01:00</td>\n      <td>1.421521e+06</td>\n      <td>1065</td>\n      <td>439.9250</td>\n      <td>886212.466249</td>\n      <td>1699985820000</td>\n      <td>1699985879999</td>\n      <td>1.231627e+09</td>\n      <td>1.231628e+09</td>\n    </tr>\n    <tr>\n      <th>2023-11-14 19:18:00+01:00</th>\n      <td>2023-11-14 19:18:00+01:00</td>\n      <td>2015.40</td>\n      <td>2015.57</td>\n      <td>2013.80</td>\n      <td>2014.79</td>\n      <td>256.6603</td>\n      <td>2023-11-14 19:18:59.999000+01:00</td>\n      <td>5.170894e+05</td>\n      <td>808</td>\n      <td>129.5292</td>\n      <td>260937.180861</td>\n      <td>1699985880000</td>\n      <td>1699985939999</td>\n      <td>1.231628e+09</td>\n      <td>1.231628e+09</td>\n    </tr>\n  </tbody>\n</table>\n<p>525959 rows × 15 columns</p>\n</div>"
     },
     "execution_count": 21,
     "metadata": {},
     "output_type": "execute_result"
    }
   ],
   "source": [
    "df = sym.df\n",
    "df"
   ]
  },
  {
   "cell_type": "code",
   "execution_count": 22,
   "id": "6915be60",
   "metadata": {
    "ExecuteTime": {
     "end_time": "2023-11-14T18:19:38.236168400Z",
     "start_time": "2023-11-14T18:19:38.055073700Z"
    }
   },
   "outputs": [
    {
     "data": {
      "text/plain": "                                          Open time     Open     High      Low    Close      Volume                       Close time  Quote volume  Trades  Taker buy base volume  Taker buy quote volume  Open timestamp  Close timestamp\nETHUSDT 30m Europe/Madrid                                                                                                                                                                                                                 \n2022-11-14 13:00:00+01:00 2022-11-14 13:20:00+01:00  1253.29  1262.41  1253.03  1261.62   7877.9733 2022-11-14 13:29:59.999000+01:00  9.923107e+06    8835              3289.1108            4.140479e+06   1668428400000    1668428999999\n2022-11-14 13:30:00+01:00 2022-11-14 13:30:00+01:00  1261.63  1267.22  1260.00  1264.32  14444.6556 2022-11-14 13:59:59.999000+01:00  1.825552e+07   21561              6901.9140            8.723207e+06   1668429000000    1668430799999\n2022-11-14 14:00:00+01:00 2022-11-14 14:00:00+01:00  1264.32  1291.20  1258.41  1288.46  53708.7258 2022-11-14 14:29:59.999000+01:00  6.850500e+07   70930             30075.9412            3.837016e+07   1668430800000    1668432599999\n2022-11-14 14:30:00+01:00 2022-11-14 14:30:00+01:00  1288.46  1289.71  1240.00  1259.16  51154.8359 2022-11-14 14:59:59.999000+01:00  6.467705e+07   71161             22970.1098            2.903086e+07   1668432600000    1668434399999\n2022-11-14 15:00:00+01:00 2022-11-14 15:00:00+01:00  1259.16  1263.83  1245.01  1250.42  27172.5674 2022-11-14 15:29:59.999000+01:00  3.409868e+07   44814             13310.5723            1.670683e+07   1668434400000    1668436199999\n...                                             ...      ...      ...      ...      ...         ...                              ...           ...     ...                    ...                     ...             ...              ...\n2023-11-14 17:00:00+01:00 2023-11-14 17:00:00+01:00  2038.10  2051.51  2037.15  2050.76  10146.3732 2023-11-14 17:29:59.999000+01:00  2.076004e+07   16495              5796.2698            1.185959e+07   1699977600000    1699979399999\n2023-11-14 17:30:00+01:00 2023-11-14 17:30:00+01:00  2050.76  2053.80  2045.00  2045.37   6724.1705 2023-11-14 17:59:59.999000+01:00  1.378543e+07   13247              3446.3491            7.065063e+06   1699979400000    1699981199999\n2023-11-14 18:00:00+01:00 2023-11-14 18:00:00+01:00  2045.38  2046.74  2032.00  2040.59   6828.2163 2023-11-14 18:29:59.999000+01:00  1.392684e+07   15779              3129.2735            6.382067e+06   1699981200000    1699982999999\n2023-11-14 18:30:00+01:00 2023-11-14 18:30:00+01:00  2040.60  2041.94  2023.40  2023.95   8533.1884 2023-11-14 18:59:59.999000+01:00  1.733507e+07   15821              2684.4457            5.457049e+06   1699983000000    1699984799999\n2023-11-14 19:00:00+01:00 2023-11-14 19:00:00+01:00  2023.94  2026.99  2007.32  2014.79  17496.9412 2023-11-14 19:18:59.999000+01:00  3.527205e+07   26940              6956.1939            1.402644e+07   1699984800000    1699985939999\n\n[17533 rows x 13 columns]",
      "text/html": "<div>\n<style scoped>\n    .dataframe tbody tr th:only-of-type {\n        vertical-align: middle;\n    }\n\n    .dataframe tbody tr th {\n        vertical-align: top;\n    }\n\n    .dataframe thead th {\n        text-align: right;\n    }\n</style>\n<table border=\"1\" class=\"dataframe\">\n  <thead>\n    <tr style=\"text-align: right;\">\n      <th></th>\n      <th>Open time</th>\n      <th>Open</th>\n      <th>High</th>\n      <th>Low</th>\n      <th>Close</th>\n      <th>Volume</th>\n      <th>Close time</th>\n      <th>Quote volume</th>\n      <th>Trades</th>\n      <th>Taker buy base volume</th>\n      <th>Taker buy quote volume</th>\n      <th>Open timestamp</th>\n      <th>Close timestamp</th>\n    </tr>\n    <tr>\n      <th>ETHUSDT 30m Europe/Madrid</th>\n      <th></th>\n      <th></th>\n      <th></th>\n      <th></th>\n      <th></th>\n      <th></th>\n      <th></th>\n      <th></th>\n      <th></th>\n      <th></th>\n      <th></th>\n      <th></th>\n      <th></th>\n    </tr>\n  </thead>\n  <tbody>\n    <tr>\n      <th>2022-11-14 13:00:00+01:00</th>\n      <td>2022-11-14 13:20:00+01:00</td>\n      <td>1253.29</td>\n      <td>1262.41</td>\n      <td>1253.03</td>\n      <td>1261.62</td>\n      <td>7877.9733</td>\n      <td>2022-11-14 13:29:59.999000+01:00</td>\n      <td>9.923107e+06</td>\n      <td>8835</td>\n      <td>3289.1108</td>\n      <td>4.140479e+06</td>\n      <td>1668428400000</td>\n      <td>1668428999999</td>\n    </tr>\n    <tr>\n      <th>2022-11-14 13:30:00+01:00</th>\n      <td>2022-11-14 13:30:00+01:00</td>\n      <td>1261.63</td>\n      <td>1267.22</td>\n      <td>1260.00</td>\n      <td>1264.32</td>\n      <td>14444.6556</td>\n      <td>2022-11-14 13:59:59.999000+01:00</td>\n      <td>1.825552e+07</td>\n      <td>21561</td>\n      <td>6901.9140</td>\n      <td>8.723207e+06</td>\n      <td>1668429000000</td>\n      <td>1668430799999</td>\n    </tr>\n    <tr>\n      <th>2022-11-14 14:00:00+01:00</th>\n      <td>2022-11-14 14:00:00+01:00</td>\n      <td>1264.32</td>\n      <td>1291.20</td>\n      <td>1258.41</td>\n      <td>1288.46</td>\n      <td>53708.7258</td>\n      <td>2022-11-14 14:29:59.999000+01:00</td>\n      <td>6.850500e+07</td>\n      <td>70930</td>\n      <td>30075.9412</td>\n      <td>3.837016e+07</td>\n      <td>1668430800000</td>\n      <td>1668432599999</td>\n    </tr>\n    <tr>\n      <th>2022-11-14 14:30:00+01:00</th>\n      <td>2022-11-14 14:30:00+01:00</td>\n      <td>1288.46</td>\n      <td>1289.71</td>\n      <td>1240.00</td>\n      <td>1259.16</td>\n      <td>51154.8359</td>\n      <td>2022-11-14 14:59:59.999000+01:00</td>\n      <td>6.467705e+07</td>\n      <td>71161</td>\n      <td>22970.1098</td>\n      <td>2.903086e+07</td>\n      <td>1668432600000</td>\n      <td>1668434399999</td>\n    </tr>\n    <tr>\n      <th>2022-11-14 15:00:00+01:00</th>\n      <td>2022-11-14 15:00:00+01:00</td>\n      <td>1259.16</td>\n      <td>1263.83</td>\n      <td>1245.01</td>\n      <td>1250.42</td>\n      <td>27172.5674</td>\n      <td>2022-11-14 15:29:59.999000+01:00</td>\n      <td>3.409868e+07</td>\n      <td>44814</td>\n      <td>13310.5723</td>\n      <td>1.670683e+07</td>\n      <td>1668434400000</td>\n      <td>1668436199999</td>\n    </tr>\n    <tr>\n      <th>...</th>\n      <td>...</td>\n      <td>...</td>\n      <td>...</td>\n      <td>...</td>\n      <td>...</td>\n      <td>...</td>\n      <td>...</td>\n      <td>...</td>\n      <td>...</td>\n      <td>...</td>\n      <td>...</td>\n      <td>...</td>\n      <td>...</td>\n    </tr>\n    <tr>\n      <th>2023-11-14 17:00:00+01:00</th>\n      <td>2023-11-14 17:00:00+01:00</td>\n      <td>2038.10</td>\n      <td>2051.51</td>\n      <td>2037.15</td>\n      <td>2050.76</td>\n      <td>10146.3732</td>\n      <td>2023-11-14 17:29:59.999000+01:00</td>\n      <td>2.076004e+07</td>\n      <td>16495</td>\n      <td>5796.2698</td>\n      <td>1.185959e+07</td>\n      <td>1699977600000</td>\n      <td>1699979399999</td>\n    </tr>\n    <tr>\n      <th>2023-11-14 17:30:00+01:00</th>\n      <td>2023-11-14 17:30:00+01:00</td>\n      <td>2050.76</td>\n      <td>2053.80</td>\n      <td>2045.00</td>\n      <td>2045.37</td>\n      <td>6724.1705</td>\n      <td>2023-11-14 17:59:59.999000+01:00</td>\n      <td>1.378543e+07</td>\n      <td>13247</td>\n      <td>3446.3491</td>\n      <td>7.065063e+06</td>\n      <td>1699979400000</td>\n      <td>1699981199999</td>\n    </tr>\n    <tr>\n      <th>2023-11-14 18:00:00+01:00</th>\n      <td>2023-11-14 18:00:00+01:00</td>\n      <td>2045.38</td>\n      <td>2046.74</td>\n      <td>2032.00</td>\n      <td>2040.59</td>\n      <td>6828.2163</td>\n      <td>2023-11-14 18:29:59.999000+01:00</td>\n      <td>1.392684e+07</td>\n      <td>15779</td>\n      <td>3129.2735</td>\n      <td>6.382067e+06</td>\n      <td>1699981200000</td>\n      <td>1699982999999</td>\n    </tr>\n    <tr>\n      <th>2023-11-14 18:30:00+01:00</th>\n      <td>2023-11-14 18:30:00+01:00</td>\n      <td>2040.60</td>\n      <td>2041.94</td>\n      <td>2023.40</td>\n      <td>2023.95</td>\n      <td>8533.1884</td>\n      <td>2023-11-14 18:59:59.999000+01:00</td>\n      <td>1.733507e+07</td>\n      <td>15821</td>\n      <td>2684.4457</td>\n      <td>5.457049e+06</td>\n      <td>1699983000000</td>\n      <td>1699984799999</td>\n    </tr>\n    <tr>\n      <th>2023-11-14 19:00:00+01:00</th>\n      <td>2023-11-14 19:00:00+01:00</td>\n      <td>2023.94</td>\n      <td>2026.99</td>\n      <td>2007.32</td>\n      <td>2014.79</td>\n      <td>17496.9412</td>\n      <td>2023-11-14 19:18:59.999000+01:00</td>\n      <td>3.527205e+07</td>\n      <td>26940</td>\n      <td>6956.1939</td>\n      <td>1.402644e+07</td>\n      <td>1699984800000</td>\n      <td>1699985939999</td>\n    </tr>\n  </tbody>\n</table>\n<p>17533 rows × 13 columns</p>\n</div>"
     },
     "execution_count": 22,
     "metadata": {},
     "output_type": "execute_result"
    }
   ],
   "source": [
    "sym.resample(tick_interval=\"30m\")"
   ]
  },
  {
   "cell_type": "code",
   "execution_count": null,
   "id": "bad6c34a",
   "metadata": {},
   "outputs": [],
   "source": []
  }
 ],
 "metadata": {
  "kernelspec": {
   "display_name": "Python 3 (ipykernel)",
   "language": "python",
   "name": "python3"
  },
  "language_info": {
   "codemirror_mode": {
    "name": "ipython",
    "version": 3
   },
   "file_extension": ".py",
   "mimetype": "text/x-python",
   "name": "python",
   "nbconvert_exporter": "python",
   "pygments_lexer": "ipython3",
   "version": "3.11.2"
  }
 },
 "nbformat": 4,
 "nbformat_minor": 5
}
