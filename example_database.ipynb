{
 "cells": [
  {
   "cell_type": "code",
   "execution_count": 1,
   "id": "6cb5c3ab",
   "metadata": {
    "ExecuteTime": {
     "end_time": "2023-10-08T09:49:39.393156800Z",
     "start_time": "2023-10-08T09:49:39.380249500Z"
    }
   },
   "outputs": [
    {
     "data": {
      "text/html": [
       "<style>.container { width:100% !important; }</style>"
      ],
      "text/plain": [
       "<IPython.core.display.HTML object>"
      ]
     },
     "metadata": {},
     "output_type": "display_data"
    }
   ],
   "source": [
    "from IPython.display import display, HTML\n",
    "\n",
    "display(HTML(\"<style>.container { width:100% !important; }</style>\"))"
   ]
  },
  {
   "cell_type": "code",
   "execution_count": 2,
   "id": "618c7267",
   "metadata": {
    "ExecuteTime": {
     "end_time": "2023-10-08T09:49:39.462642400Z",
     "start_time": "2023-10-08T09:49:39.393156800Z"
    }
   },
   "outputs": [
    {
     "name": "stdout",
     "output_type": "stream",
     "text": [
      "Python 3.11.2\n"
     ]
    }
   ],
   "source": [
    "!python -V"
   ]
  },
  {
   "cell_type": "code",
   "execution_count": 11,
   "id": "da1cbca0",
   "metadata": {
    "ExecuteTime": {
     "end_time": "2023-10-08T09:49:47.500155100Z",
     "start_time": "2023-10-08T09:49:39.462642400Z"
    }
   },
   "outputs": [],
   "source": [
    "import binpan\n",
    "from binpan import handlers\n",
    "\n",
    "from random import choice\n",
    "import pandas as pd"
   ]
  },
  {
   "cell_type": "code",
   "execution_count": 4,
   "id": "ea6a6242",
   "metadata": {
    "ExecuteTime": {
     "end_time": "2023-10-08T09:49:47.505616Z",
     "start_time": "2023-10-08T09:49:47.500155100Z"
    }
   },
   "outputs": [
    {
     "data": {
      "text/plain": [
       "'0.5.21'"
      ]
     },
     "execution_count": 4,
     "metadata": {},
     "output_type": "execute_result"
    }
   ],
   "source": [
    "binpan.__version__"
   ]
  },
  {
   "cell_type": "markdown",
   "id": "d20c7e5c",
   "metadata": {},
   "source": [
    "# Database connector"
   ]
  },
  {
   "cell_type": "code",
   "execution_count": 5,
   "id": "b0575b3f",
   "metadata": {},
   "outputs": [
    {
     "name": "stdout",
     "output_type": "stream",
     "text": [
      "Host: 192.168.89.242\n",
      "Port: 5432\n",
      "User: nando\n",
      "Database: crypto\n"
     ]
    }
   ],
   "source": [
    "db = binpan.Database(host=\"192.168.89.242\")"
   ]
  },
  {
   "cell_type": "code",
   "execution_count": 6,
   "id": "44e6863f",
   "metadata": {},
   "outputs": [
    {
     "name": "stdout",
     "output_type": "stream",
     "text": [
      "Host: 192.168.89.242\n",
      "Port: 5432\n",
      "User: nando\n",
      "Password: I6d4imwC0arZSr98WaIN5w==\n",
      "Database: crypto\n",
      "Connection: <connection object at 0x0000020A316F8D00; dsn: 'user=nando password=xxx connect_timeout=10 dbname=crypto host=192.168.89.242 port=5432', closed: 0>\n",
      "Cursor: <cursor object at 0x0000020A7FB65FC0; closed: 0>\n"
     ]
    }
   ],
   "source": [
    "db.status()"
   ]
  },
  {
   "cell_type": "code",
   "execution_count": 7,
   "id": "2b4a3444",
   "metadata": {},
   "outputs": [
    {
     "data": {
      "text/plain": [
       "['btcusdt_kline_1m',\n",
       " 'iotausdt_kline_1m',\n",
       " 'ontusdt_kline_1m',\n",
       " 'wavesusdt_kline_1m',\n",
       " 'belusdt_kline_1m',\n",
       " 'fetusdt_kline_1m',\n",
       " 'xmrusdt_kline_1m',\n",
       " 'zecusdt_kline_1m',\n",
       " 'maticusdt_kline_1m',\n",
       " 'wingusdt_kline_1m',\n",
       " 'dogeusdt_kline_1m',\n",
       " 'duskusdt_kline_1m',\n",
       " 'dockusdt_kline_1m',\n",
       " 'funusdt_kline_1m',\n",
       " 'busdusdt_kline_1m',\n",
       " 'arpausdt_kline_1m',\n",
       " 'ognusdt_kline_1m',\n",
       " 'mblusdt_kline_1m',\n",
       " 'stptusdt_kline_1m',\n",
       " 'datausdt_kline_1m',\n",
       " 'chessusdt_kline_1m',\n",
       " 'ethupusdt_kline_1m',\n",
       " 'btcupusdt_kline_1m',\n",
       " 'ardrusdt_kline_1m',\n",
       " 'compusdt_kline_1m',\n",
       " 'snxusdt_kline_1m',\n",
       " 'dgbusdt_kline_1m',\n",
       " 'sxpusdt_kline_1m',\n",
       " 'icxusdt_kline_1m',\n",
       " 'qtumusdt_kline_1m',\n",
       " 'xrpusdt_kline_1m',\n",
       " 'eosusdt_kline_1m',\n",
       " 'trxusdt_kline_1m',\n",
       " 'usdcusdt_kline_1m',\n",
       " 'ongusdt_kline_1m',\n",
       " 'ankrusdt_kline_1m',\n",
       " 'hotusdt_kline_1m',\n",
       " 'celrusdt_kline_1m',\n",
       " 'tfuelusdt_kline_1m',\n",
       " 'ftmusdt_kline_1m',\n",
       " 'keyusdt_kline_1m',\n",
       " 'wanusdt_kline_1m',\n",
       " 'adxusdt_kline_1m',\n",
       " 'kavausdt_kline_1m',\n",
       " 'chzusdt_kline_1m',\n",
       " 'bandusdt_kline_1m',\n",
       " 'hbarusdt_kline_1m',\n",
       " 'stxusdt_kline_1m',\n",
       " 'rlcusdt_kline_1m',\n",
       " 'bchusdt_kline_1m',\n",
       " 'neousdt_kline_1m',\n",
       " 'cotiusdt_kline_1m',\n",
       " 'solusdt_kline_1m',\n",
       " 'pntusdt_kline_1m',\n",
       " 'bnbusdt_kline_1m',\n",
       " 'ltcusdt_kline_1m',\n",
       " 'adausdt_kline_1m',\n",
       " 'iostusdt_kline_1m',\n",
       " 'tusdusdt_kline_1m',\n",
       " 'xlmusdt_kline_1m',\n",
       " 'nulsusdt_kline_1m',\n",
       " 'batusdt_kline_1m',\n",
       " 'dashusdt_kline_1m',\n",
       " 'omgusdt_kline_1m',\n",
       " 'ensusdt_kline_1m',\n",
       " 'perlusdt_kline_1m',\n",
       " 'thetausdt_kline_1m',\n",
       " 'enjusdt_kline_1m',\n",
       " 'oneusdt_kline_1m',\n",
       " 'algousdt_kline_1m',\n",
       " 'cvcusdt_kline_1m',\n",
       " 'xtzusdt_kline_1m',\n",
       " 'drepusdt_kline_1m',\n",
       " 'renusdt_kline_1m',\n",
       " 'ctxcusdt_kline_1m',\n",
       " 'viteusdt_kline_1m',\n",
       " 'fttusdt_kline_1m',\n",
       " 'wrxusdt_kline_1m',\n",
       " 'kp3rusdt_kline_1m',\n",
       " 'lskusdt_kline_1m',\n",
       " 'ctsiusdt_kline_1m',\n",
       " 'hiveusdt_kline_1m',\n",
       " 'chrusdt_kline_1m',\n",
       " 'stmxusdt_kline_1m',\n",
       " 'scusdt_kline_1m',\n",
       " 'gbpusdt_kline_1m',\n",
       " 'ethusdt_kline_1m',\n",
       " 'etcusdt_kline_1m',\n",
       " 'vetusdt_kline_1m',\n",
       " 'linkusdt_kline_1m',\n",
       " 'zilusdt_kline_1m',\n",
       " 'zrxusdt_kline_1m',\n",
       " 'atomusdt_kline_1m',\n",
       " 'winusdt_kline_1m',\n",
       " 'cosusdt_kline_1m',\n",
       " 'mtlusdt_kline_1m',\n",
       " 'tomousdt_kline_1m',\n",
       " 'dentusdt_kline_1m',\n",
       " 'rvnusdt_kline_1m',\n",
       " 'nknusdt_kline_1m',\n",
       " 'qiusdt_kline_1m',\n",
       " 'iotxusdt_kline_1m',\n",
       " 'troyusdt_kline_1m',\n",
       " 'eurusdt_kline_1m',\n",
       " 'btsusdt_kline_1m',\n",
       " 'bntusdt_kline_1m',\n",
       " 'ltousdt_kline_1m',\n",
       " 'wtcusdt_kline_1m',\n",
       " 'btcdownusdt_kline_1m',\n",
       " 'mdtusdt_kline_1m',\n",
       " 'kncusdt_kline_1m',\n",
       " 'lrcusdt_kline_1m',\n",
       " 'zenusdt_kline_1m',\n",
       " 'ethdownusdt_kline_1m',\n",
       " 'vthousdt_kline_1m',\n",
       " 'jstusdt_kline_1m',\n",
       " 'nmrusdt_kline_1m',\n",
       " 'paxgusdt_kline_1m',\n",
       " 'ksmusdt_kline_1m',\n",
       " 'diausdt_kline_1m',\n",
       " 'oxtusdt_kline_1m',\n",
       " 'sunusdt_kline_1m',\n",
       " 'jasmyusdt_kline_1m',\n",
       " 'ornusdt_kline_1m',\n",
       " 'utkusdt_kline_1m',\n",
       " 'xvsusdt_kline_1m',\n",
       " 'aaveusdt_kline_1m',\n",
       " 'nearusdt_kline_1m',\n",
       " 'akrousdt_kline_1m',\n",
       " 'roseusdt_kline_1m',\n",
       " 'avausdt_kline_1m',\n",
       " 'sklusdt_kline_1m',\n",
       " 'grtusdt_kline_1m',\n",
       " 'juvusdt_kline_1m',\n",
       " 'psgusdt_kline_1m',\n",
       " 'ogusdt_kline_1m',\n",
       " 'asrusdt_kline_1m',\n",
       " 'rifusdt_kline_1m',\n",
       " 'truusdt_kline_1m',\n",
       " 'ckbusdt_kline_1m',\n",
       " 'twtusdt_kline_1m',\n",
       " 'linausdt_kline_1m',\n",
       " 'cfxusdt_kline_1m',\n",
       " 'forthusdt_kline_1m',\n",
       " 'ampusdt_kline_1m',\n",
       " 'bakeusdt_kline_1m',\n",
       " 'shibusdt_kline_1m',\n",
       " 'arusdt_kline_1m',\n",
       " 'lptusdt_kline_1m',\n",
       " 'gtcusdt_kline_1m',\n",
       " 'ernusdt_kline_1m',\n",
       " 'clvusdt_kline_1m',\n",
       " 'tvkusdt_kline_1m',\n",
       " 'rayusdt_kline_1m',\n",
       " 'mboxusdt_kline_1m',\n",
       " 'waxpusdt_kline_1m',\n",
       " 'vidtusdt_kline_1m',\n",
       " 'dfusdt_kline_1m',\n",
       " 'fidausdt_kline_1m',\n",
       " 'mkrusdt_kline_1m',\n",
       " 'storjusdt_kline_1m',\n",
       " 'bnbupusdt_kline_1m',\n",
       " 'bnbdownusdt_kline_1m',\n",
       " 'blzusdt_kline_1m',\n",
       " 'sandusdt_kline_1m',\n",
       " 'oceanusdt_kline_1m',\n",
       " 'alcxusdt_kline_1m',\n",
       " 'dotusdt_kline_1m',\n",
       " 'trbusdt_kline_1m',\n",
       " 'sushiusdt_kline_1m',\n",
       " 'filusdt_kline_1m',\n",
       " 'unfiusdt_kline_1m',\n",
       " 'litusdt_kline_1m',\n",
       " 'badgerusdt_kline_1m',\n",
       " 'omusdt_kline_1m',\n",
       " 'tkousdt_kline_1m',\n",
       " 'barusdt_kline_1m',\n",
       " 'slpusdt_kline_1m',\n",
       " 'polsusdt_kline_1m',\n",
       " 'maskusdt_kline_1m',\n",
       " 'qntusdt_kline_1m',\n",
       " 'alpacausdt_kline_1m',\n",
       " 'requsdt_kline_1m',\n",
       " 'xecusdt_kline_1m',\n",
       " 'elfusdt_kline_1m',\n",
       " 'dydxusdt_kline_1m',\n",
       " 'galausdt_kline_1m',\n",
       " 'agldusdt_kline_1m',\n",
       " 'fxsusdt_kline_1m',\n",
       " 'betausdt_kline_1m',\n",
       " 'yfiusdt_kline_1m',\n",
       " 'balusdt_kline_1m',\n",
       " 'kmdusdt_kline_1m',\n",
       " 'crvusdt_kline_1m',\n",
       " 'umausdt_kline_1m',\n",
       " 'flmusdt_kline_1m',\n",
       " 'alphausdt_kline_1m',\n",
       " 'audiousdt_kline_1m',\n",
       " 'axsusdt_kline_1m',\n",
       " 'hardusdt_kline_1m',\n",
       " 'xemusdt_kline_1m',\n",
       " 't_1inchusdt_kline_1m',\n",
       " 'atmusdt_kline_1m',\n",
       " 'cakeusdt_kline_1m',\n",
       " 'aliceusdt_kline_1m',\n",
       " 'perpusdt_kline_1m',\n",
       " 'superusdt_kline_1m',\n",
       " 'pundixusdt_kline_1m',\n",
       " 'tlmusdt_kline_1m',\n",
       " 'icpusdt_kline_1m',\n",
       " 'voxelusdt_kline_1m',\n",
       " 'mdxusdt_kline_1m',\n",
       " 'xvgusdt_kline_1m',\n",
       " 'atausdt_kline_1m',\n",
       " 'phausdt_kline_1m',\n",
       " 'bondusdt_kline_1m',\n",
       " 'mlnusdt_kline_1m',\n",
       " 'minausdt_kline_1m',\n",
       " 'farmusdt_kline_1m',\n",
       " 'quickusdt_kline_1m',\n",
       " 'forusdt_kline_1m',\n",
       " 'ghstusdt_kline_1m',\n",
       " 'usdpusdt_kline_1m',\n",
       " 'ilvusdt_kline_1m',\n",
       " 'sysusdt_kline_1m',\n",
       " 'radusdt_kline_1m',\n",
       " 'dcrusdt_kline_1m',\n",
       " 'manausdt_kline_1m',\n",
       " 'irisusdt_kline_1m',\n",
       " 'antusdt_kline_1m',\n",
       " 'lunausdt_kline_1m',\n",
       " 'rsrusdt_kline_1m',\n",
       " 'ookiusdt_kline_1m',\n",
       " 'wnxmusdt_kline_1m',\n",
       " 'egldusdt_kline_1m',\n",
       " 'runeusdt_kline_1m',\n",
       " 'fiousdt_kline_1m',\n",
       " 'uniusdt_kline_1m',\n",
       " 'avaxusdt_kline_1m',\n",
       " 'injusdt_kline_1m',\n",
       " 'firousdt_kline_1m',\n",
       " 'ctkusdt_kline_1m',\n",
       " 'straxusdt_kline_1m',\n",
       " 'reefusdt_kline_1m',\n",
       " 'celousdt_kline_1m',\n",
       " 'sfpusdt_kline_1m',\n",
       " 'dodousdt_kline_1m',\n",
       " 'burgerusdt_kline_1m',\n",
       " 'acmusdt_kline_1m',\n",
       " 'fisusdt_kline_1m',\n",
       " 'pondusdt_kline_1m',\n",
       " 'degousdt_kline_1m',\n",
       " 'klayusdt_kline_1m',\n",
       " 'dexeusdt_kline_1m',\n",
       " 'yggusdt_kline_1m',\n",
       " 'c98usdt_kline_1m',\n",
       " 'flowusdt_kline_1m',\n",
       " 'gnousdt_kline_1m',\n",
       " 'idexusdt_kline_1m',\n",
       " 'frontusdt_kline_1m',\n",
       " 'cvpusdt_kline_1m',\n",
       " 'highusdt_kline_1m',\n",
       " 'rareusdt_kline_1m',\n",
       " 'auctionusdt_kline_1m',\n",
       " 'bnxusdt_kline_1m',\n",
       " 'santosusdt_kline_1m',\n",
       " 'spellusdt_kline_1m',\n",
       " 'darusdt_kline_1m',\n",
       " 'mcusdt_kline_1m',\n",
       " 'portousdt_kline_1m',\n",
       " 'vgxusdt_kline_1m',\n",
       " 'plausdt_kline_1m',\n",
       " 'rndrusdt_kline_1m',\n",
       " 'fluxusdt_kline_1m',\n",
       " 'cvxusdt_kline_1m',\n",
       " 'pyrusdt_kline_1m',\n",
       " 'laziousdt_kline_1m',\n",
       " 'movrusdt_kline_1m',\n",
       " 'cityusdt_kline_1m',\n",
       " 'powrusdt_kline_1m',\n",
       " 'bicousdt_kline_1m',\n",
       " 'peopleusdt_kline_1m',\n",
       " 'multiusdt_kline_1m',\n",
       " 'joeusdt_kline_1m',\n",
       " 'acausdt_kline_1m',\n",
       " 'kdausdt_kline_1m',\n",
       " 'bifiusdt_kline_1m',\n",
       " 'nexousdt_kline_1m',\n",
       " 'reiusdt_kline_1m',\n",
       " 'uftusdt_kline_1m',\n",
       " 'galusdt_kline_1m',\n",
       " 'opusdt_kline_1m',\n",
       " 'magicusdt_kline_1m',\n",
       " 'hifiusdt_kline_1m',\n",
       " 'loomusdt_kline_1m',\n",
       " 'oaxusdt_kline_1m',\n",
       " 'arkmusdt_kline_1m',\n",
       " 'suiusdt_kline_1m',\n",
       " 'aergousdt_kline_1m',\n",
       " 'pepeusdt_kline_1m',\n",
       " 'sntusdt_kline_1m',\n",
       " 'wbethusdt_kline_1m',\n",
       " 'glmrusdt_kline_1m',\n",
       " 'agixusdt_kline_1m',\n",
       " 'steemusdt_kline_1m',\n",
       " 'gmxusdt_kline_1m',\n",
       " 'polyxusdt_kline_1m',\n",
       " 'phbusdt_kline_1m',\n",
       " 'gnsusdt_kline_1m',\n",
       " 'lqtyusdt_kline_1m',\n",
       " 'astusdt_kline_1m',\n",
       " 'gasusdt_kline_1m',\n",
       " 'arbusdt_kline_1m',\n",
       " 'wbtcusdt_kline_1m',\n",
       " 'eduusdt_kline_1m',\n",
       " 'arkusdt_kline_1m',\n",
       " 'iqusdt_kline_1m',\n",
       " 'bttcusdt_kline_1m',\n",
       " 'achusdt_kline_1m',\n",
       " 'imxusdt_kline_1m',\n",
       " 'lokausdt_kline_1m',\n",
       " 'api3usdt_kline_1m',\n",
       " 'xnousdt_kline_1m',\n",
       " 'woousdt_kline_1m',\n",
       " 'leverusdt_kline_1m',\n",
       " 'tusdt_kline_1m',\n",
       " 'astrusdt_kline_1m',\n",
       " 'apeusdt_kline_1m',\n",
       " 'bswusdt_kline_1m',\n",
       " 'aptusdt_kline_1m',\n",
       " 'hftusdt_kline_1m',\n",
       " 'glmusdt_kline_1m',\n",
       " 'hookusdt_kline_1m',\n",
       " 'rplusdt_kline_1m',\n",
       " 'vibusdt_kline_1m',\n",
       " 'bethusdt_kline_1m',\n",
       " 'promusdt_kline_1m',\n",
       " 'qkcusdt_kline_1m',\n",
       " 'cyberusdt_kline_1m',\n",
       " 'rdntusdt_kline_1m',\n",
       " 'flokiusdt_kline_1m',\n",
       " 'mavusdt_kline_1m',\n",
       " 'pendleusdt_kline_1m',\n",
       " 'gftusdt_kline_1m',\n",
       " 'scrtusdt_kline_1m',\n",
       " 'epxusdt_kline_1m',\n",
       " 'alpineusdt_kline_1m',\n",
       " 'gmtusdt_kline_1m',\n",
       " 'mobusdt_kline_1m',\n",
       " 'ldousdt_kline_1m',\n",
       " 'stgusdt_kline_1m',\n",
       " 'luncusdt_kline_1m',\n",
       " 'ambusdt_kline_1m',\n",
       " 'osmousdt_kline_1m',\n",
       " 'prosusdt_kline_1m',\n",
       " 'synusdt_kline_1m',\n",
       " 'ssvusdt_kline_1m',\n",
       " 'ustcusdt_kline_1m',\n",
       " 'idusdt_kline_1m',\n",
       " 'creamusdt_kline_1m',\n",
       " 'combousdt_kline_1m',\n",
       " 'wldusdt_kline_1m',\n",
       " 'fdusdusdt_kline_1m',\n",
       " 'seiusdt_kline_1m']"
      ]
     },
     "execution_count": 7,
     "metadata": {},
     "output_type": "execute_result"
    }
   ],
   "source": [
    "tables = db.get_tables(table_type=\"kline_1m\")\n",
    "tables"
   ]
  },
  {
   "cell_type": "code",
   "execution_count": 14,
   "id": "0851fd54",
   "metadata": {},
   "outputs": [],
   "source": [
    "table_counts = db.get_table_counts()"
   ]
  },
  {
   "cell_type": "code",
   "execution_count": 22,
   "id": "5b56b9bc",
   "metadata": {},
   "outputs": [],
   "source": [
    "ser = pd.Series(table_counts)\n",
    "ser.sort_values(ascending=False, inplace=True)"
   ]
  },
  {
   "cell_type": "code",
   "execution_count": 23,
   "id": "e266d79a",
   "metadata": {},
   "outputs": [
    {
     "data": {
      "text/plain": [
       "'multiusdt_kline_1m'"
      ]
     },
     "execution_count": 23,
     "metadata": {},
     "output_type": "execute_result"
    }
   ],
   "source": [
    "table = ser.index[0]\n",
    "table"
   ]
  },
  {
   "cell_type": "code",
   "execution_count": 24,
   "id": "718cc0cb",
   "metadata": {},
   "outputs": [
    {
     "data": {
      "text/plain": [
       "['time',\n",
       " 'close_timestamp',\n",
       " 'first_trade_id',\n",
       " 'last_trade_id',\n",
       " 'open',\n",
       " 'close',\n",
       " 'high',\n",
       " 'low',\n",
       " 'volume',\n",
       " 'trades',\n",
       " 'quote_volume',\n",
       " 'taker_buy_base_volume',\n",
       " 'taker_buy_quote_volume']"
      ]
     },
     "execution_count": 24,
     "metadata": {},
     "output_type": "execute_result"
    }
   ],
   "source": [
    "db.get_columns(table_name=table)"
   ]
  },
  {
   "cell_type": "code",
   "execution_count": 25,
   "id": "9632ef99",
   "metadata": {},
   "outputs": [],
   "source": [
    "symbol = table.split(\"_\")[0]\n",
    "tick_interval = table.split(\"_\")[-1]"
   ]
  },
  {
   "cell_type": "code",
   "execution_count": 29,
   "id": "8c00700b",
   "metadata": {
    "scrolled": false
   },
   "outputs": [
    {
     "name": "stderr",
     "output_type": "stream",
     "text": [
      "2023-10-10\t 15:54:01     INFO Postgres connection requested as str: 192.168.89.242\n",
      "2023-10-10\t 15:54:01     INFO Getting data from table multiusdt_kline_1m from 1665388441764 to 1696946038000\n"
     ]
    },
    {
     "ename": "AmbiguousTimeError",
     "evalue": "Cannot infer dst time from 2022-10-30 02:00:59.999000, try using the 'ambiguous' argument",
     "output_type": "error",
     "traceback": [
      "\u001b[1;31m---------------------------------------------------------------------------\u001b[0m",
      "\u001b[1;31mAmbiguousTimeError\u001b[0m                        Traceback (most recent call last)",
      "Cell \u001b[1;32mIn[29], line 1\u001b[0m\n\u001b[1;32m----> 1\u001b[0m sym \u001b[38;5;241m=\u001b[39m \u001b[43mbinpan\u001b[49m\u001b[38;5;241;43m.\u001b[39;49m\u001b[43mSymbol\u001b[49m\u001b[43m(\u001b[49m\u001b[43msymbol\u001b[49m\u001b[38;5;241;43m=\u001b[39;49m\u001b[43msymbol\u001b[49m\u001b[43m,\u001b[49m\n\u001b[0;32m      2\u001b[0m \u001b[43m                    \u001b[49m\u001b[43mtick_interval\u001b[49m\u001b[38;5;241;43m=\u001b[39;49m\u001b[38;5;124;43m\"\u001b[39;49m\u001b[38;5;124;43m1m\u001b[39;49m\u001b[38;5;124;43m\"\u001b[39;49m\u001b[43m,\u001b[49m\n\u001b[0;32m      3\u001b[0m \u001b[43m                    \u001b[49m\u001b[43mtime_zone\u001b[49m\u001b[38;5;241;43m=\u001b[39;49m\u001b[38;5;124;43m'\u001b[39;49m\u001b[38;5;124;43mEurope/Madrid\u001b[39;49m\u001b[38;5;124;43m'\u001b[39;49m\u001b[43m,\u001b[49m\n\u001b[0;32m      4\u001b[0m \u001b[43m                    \u001b[49m\u001b[43mhours\u001b[49m\u001b[38;5;241;43m=\u001b[39;49m\u001b[38;5;241;43m8766\u001b[39;49m\u001b[43m,\u001b[49m\n\u001b[0;32m      5\u001b[0m \u001b[43m                    \u001b[49m\u001b[43mpostgres_klines\u001b[49m\u001b[38;5;241;43m=\u001b[39;49m\u001b[38;5;124;43m\"\u001b[39;49m\u001b[38;5;124;43m192.168.89.242\u001b[39;49m\u001b[38;5;124;43m\"\u001b[39;49m\u001b[43m)\u001b[49m\n",
      "File \u001b[1;32m~\\PycharmProjects\\binpan_studio\\binpan\\symbol_manager.py:423\u001b[0m, in \u001b[0;36mSymbol.__init__\u001b[1;34m(self, symbol, tick_interval, start_time, end_time, limit, time_zone, closed, hours, postgres_klines, postgres_agg_trades, postgres_atomic_trades, display_columns, display_max_rows, display_min_rows, display_width, from_csv, info_dic)\u001b[0m\n\u001b[0;32m    421\u001b[0m     \u001b[38;5;28;01mimport\u001b[39;00m \u001b[38;5;21;01mhandlers\u001b[39;00m\u001b[38;5;21;01m.\u001b[39;00m\u001b[38;5;21;01mpostgresql\u001b[39;00m \u001b[38;5;28;01mas\u001b[39;00m \u001b[38;5;21;01mpostgresql\u001b[39;00m  \u001b[38;5;66;03m# solo para pycharm\u001b[39;00m\n\u001b[0;32m    422\u001b[0m     \u001b[38;5;28mself\u001b[39m\u001b[38;5;241m.\u001b[39mtable \u001b[38;5;241m=\u001b[39m postgresql\u001b[38;5;241m.\u001b[39msanitize_table_name(\u001b[38;5;124mf\u001b[39m\u001b[38;5;124m\"\u001b[39m\u001b[38;5;132;01m{\u001b[39;00m\u001b[38;5;28mself\u001b[39m\u001b[38;5;241m.\u001b[39msymbol\u001b[38;5;241m.\u001b[39mlower()\u001b[38;5;132;01m}\u001b[39;00m\u001b[38;5;124m@kline_\u001b[39m\u001b[38;5;132;01m{\u001b[39;00m\u001b[38;5;28mself\u001b[39m\u001b[38;5;241m.\u001b[39mtick_interval\u001b[38;5;132;01m}\u001b[39;00m\u001b[38;5;124m\"\u001b[39m)\n\u001b[1;32m--> 423\u001b[0m     \u001b[38;5;28mself\u001b[39m\u001b[38;5;241m.\u001b[39mdf \u001b[38;5;241m=\u001b[39m \u001b[43mpostgresql\u001b[49m\u001b[38;5;241;43m.\u001b[39;49m\u001b[43mget_data_and_parse\u001b[49m\u001b[43m(\u001b[49m\u001b[43mcursor\u001b[49m\u001b[38;5;241;43m=\u001b[39;49m\u001b[38;5;28;43mself\u001b[39;49m\u001b[38;5;241;43m.\u001b[39;49m\u001b[43mcursor_klines\u001b[49m\u001b[43m,\u001b[49m\n\u001b[0;32m    424\u001b[0m \u001b[43m                                            \u001b[49m\u001b[43mtable\u001b[49m\u001b[38;5;241;43m=\u001b[39;49m\u001b[38;5;28;43mself\u001b[39;49m\u001b[38;5;241;43m.\u001b[39;49m\u001b[43mtable\u001b[49m\u001b[43m,\u001b[49m\n\u001b[0;32m    425\u001b[0m \u001b[43m                                            \u001b[49m\u001b[43msymbol\u001b[49m\u001b[38;5;241;43m=\u001b[39;49m\u001b[38;5;28;43mself\u001b[39;49m\u001b[38;5;241;43m.\u001b[39;49m\u001b[43msymbol\u001b[49m\u001b[43m,\u001b[49m\n\u001b[0;32m    426\u001b[0m \u001b[43m                                            \u001b[49m\u001b[43mtick_interval\u001b[49m\u001b[38;5;241;43m=\u001b[39;49m\u001b[38;5;28;43mself\u001b[39;49m\u001b[38;5;241;43m.\u001b[39;49m\u001b[43mtick_interval\u001b[49m\u001b[43m,\u001b[49m\n\u001b[0;32m    427\u001b[0m \u001b[43m                                            \u001b[49m\u001b[43mtime_zone\u001b[49m\u001b[38;5;241;43m=\u001b[39;49m\u001b[38;5;28;43mself\u001b[39;49m\u001b[38;5;241;43m.\u001b[39;49m\u001b[43mtime_zone\u001b[49m\u001b[43m,\u001b[49m\n\u001b[0;32m    428\u001b[0m \u001b[43m                                            \u001b[49m\u001b[43mstart_time\u001b[49m\u001b[38;5;241;43m=\u001b[39;49m\u001b[38;5;28;43mself\u001b[39;49m\u001b[38;5;241;43m.\u001b[39;49m\u001b[43mstart_time\u001b[49m\u001b[43m,\u001b[49m\n\u001b[0;32m    429\u001b[0m \u001b[43m                                            \u001b[49m\u001b[43mend_time\u001b[49m\u001b[38;5;241;43m=\u001b[39;49m\u001b[38;5;28;43mself\u001b[39;49m\u001b[38;5;241;43m.\u001b[39;49m\u001b[43mend_time\u001b[49m\u001b[43m,\u001b[49m\n\u001b[0;32m    430\u001b[0m \u001b[43m                                            \u001b[49m\u001b[43mdata_type\u001b[49m\u001b[38;5;241;43m=\u001b[39;49m\u001b[38;5;124;43m'\u001b[39;49m\u001b[38;5;124;43mkline\u001b[39;49m\u001b[38;5;124;43m'\u001b[39;49m\u001b[43m)\u001b[49m\n\u001b[0;32m    431\u001b[0m \u001b[38;5;28;01melse\u001b[39;00m:\n\u001b[0;32m    432\u001b[0m     \u001b[38;5;28mself\u001b[39m\u001b[38;5;241m.\u001b[39mraw \u001b[38;5;241m=\u001b[39m \u001b[38;5;28;01mNone\u001b[39;00m\n",
      "File \u001b[1;32m~\\PycharmProjects\\binpan_studio\\handlers\\postgresql.py:1075\u001b[0m, in \u001b[0;36mget_data_and_parse\u001b[1;34m(cursor, table, symbol, tick_interval, time_zone, start_time, end_time, data_type)\u001b[0m\n\u001b[0;32m   1073\u001b[0m     \u001b[38;5;66;03m# df[kline_close_time_col] = (df[kline_close_time_col].astype('int64') // 10 ** 6).astype('int64')\u001b[39;00m\n\u001b[0;32m   1074\u001b[0m     df[kline_close_time_col] \u001b[38;5;241m=\u001b[39m df[kline_close_timestamp_col]\n\u001b[1;32m-> 1075\u001b[0m     df[kline_close_time_col] \u001b[38;5;241m=\u001b[39m \u001b[43mpd\u001b[49m\u001b[38;5;241;43m.\u001b[39;49m\u001b[43mto_datetime\u001b[49m\u001b[43m(\u001b[49m\u001b[43mdf\u001b[49m\u001b[43m[\u001b[49m\u001b[43mkline_close_time_col\u001b[49m\u001b[43m]\u001b[49m\u001b[43m,\u001b[49m\u001b[43m \u001b[49m\u001b[43munit\u001b[49m\u001b[38;5;241;43m=\u001b[39;49m\u001b[38;5;124;43m'\u001b[39;49m\u001b[38;5;124;43mms\u001b[39;49m\u001b[38;5;124;43m'\u001b[39;49m\u001b[43m)\u001b[49m\u001b[38;5;241;43m.\u001b[39;49m\u001b[43mdt\u001b[49m\u001b[38;5;241;43m.\u001b[39;49m\u001b[43mtz_localize\u001b[49m\u001b[43m(\u001b[49m\u001b[43mtime_zone\u001b[49m\u001b[43m)\u001b[49m\n\u001b[0;32m   1076\u001b[0m     date_col \u001b[38;5;241m=\u001b[39m kline_open_time_col\n\u001b[0;32m   1077\u001b[0m \u001b[38;5;28;01melif\u001b[39;00m data_type \u001b[38;5;241m==\u001b[39m \u001b[38;5;124m\"\u001b[39m\u001b[38;5;124maggTrade\u001b[39m\u001b[38;5;124m\"\u001b[39m \u001b[38;5;129;01mor\u001b[39;00m data_type \u001b[38;5;241m==\u001b[39m \u001b[38;5;124m\"\u001b[39m\u001b[38;5;124maggtrade\u001b[39m\u001b[38;5;124m\"\u001b[39m:\n",
      "File \u001b[1;32m~\\PycharmProjects\\binpan_studio\\venv3.11\\Lib\\site-packages\\pandas\\core\\accessor.py:112\u001b[0m, in \u001b[0;36mPandasDelegate._add_delegate_accessors.<locals>._create_delegator_method.<locals>.f\u001b[1;34m(self, *args, **kwargs)\u001b[0m\n\u001b[0;32m    111\u001b[0m \u001b[38;5;28;01mdef\u001b[39;00m \u001b[38;5;21mf\u001b[39m(\u001b[38;5;28mself\u001b[39m, \u001b[38;5;241m*\u001b[39margs, \u001b[38;5;241m*\u001b[39m\u001b[38;5;241m*\u001b[39mkwargs):\n\u001b[1;32m--> 112\u001b[0m     \u001b[38;5;28;01mreturn\u001b[39;00m \u001b[38;5;28;43mself\u001b[39;49m\u001b[38;5;241;43m.\u001b[39;49m\u001b[43m_delegate_method\u001b[49m\u001b[43m(\u001b[49m\u001b[43mname\u001b[49m\u001b[43m,\u001b[49m\u001b[43m \u001b[49m\u001b[38;5;241;43m*\u001b[39;49m\u001b[43margs\u001b[49m\u001b[43m,\u001b[49m\u001b[43m \u001b[49m\u001b[38;5;241;43m*\u001b[39;49m\u001b[38;5;241;43m*\u001b[39;49m\u001b[43mkwargs\u001b[49m\u001b[43m)\u001b[49m\n",
      "File \u001b[1;32m~\\PycharmProjects\\binpan_studio\\venv3.11\\Lib\\site-packages\\pandas\\core\\indexes\\accessors.py:134\u001b[0m, in \u001b[0;36mProperties._delegate_method\u001b[1;34m(self, name, *args, **kwargs)\u001b[0m\n\u001b[0;32m    131\u001b[0m values \u001b[38;5;241m=\u001b[39m \u001b[38;5;28mself\u001b[39m\u001b[38;5;241m.\u001b[39m_get_values()\n\u001b[0;32m    133\u001b[0m method \u001b[38;5;241m=\u001b[39m \u001b[38;5;28mgetattr\u001b[39m(values, name)\n\u001b[1;32m--> 134\u001b[0m result \u001b[38;5;241m=\u001b[39m \u001b[43mmethod\u001b[49m\u001b[43m(\u001b[49m\u001b[38;5;241;43m*\u001b[39;49m\u001b[43margs\u001b[49m\u001b[43m,\u001b[49m\u001b[43m \u001b[49m\u001b[38;5;241;43m*\u001b[39;49m\u001b[38;5;241;43m*\u001b[39;49m\u001b[43mkwargs\u001b[49m\u001b[43m)\u001b[49m\n\u001b[0;32m    136\u001b[0m \u001b[38;5;28;01mif\u001b[39;00m \u001b[38;5;129;01mnot\u001b[39;00m is_list_like(result):\n\u001b[0;32m    137\u001b[0m     \u001b[38;5;28;01mreturn\u001b[39;00m result\n",
      "File \u001b[1;32m~\\PycharmProjects\\binpan_studio\\venv3.11\\Lib\\site-packages\\pandas\\core\\indexes\\datetimes.py:291\u001b[0m, in \u001b[0;36mDatetimeIndex.tz_localize\u001b[1;34m(self, tz, ambiguous, nonexistent)\u001b[0m\n\u001b[0;32m    284\u001b[0m \u001b[38;5;129m@doc\u001b[39m(DatetimeArray\u001b[38;5;241m.\u001b[39mtz_localize)\n\u001b[0;32m    285\u001b[0m \u001b[38;5;28;01mdef\u001b[39;00m \u001b[38;5;21mtz_localize\u001b[39m(\n\u001b[0;32m    286\u001b[0m     \u001b[38;5;28mself\u001b[39m,\n\u001b[1;32m   (...)\u001b[0m\n\u001b[0;32m    289\u001b[0m     nonexistent: TimeNonexistent \u001b[38;5;241m=\u001b[39m \u001b[38;5;124m\"\u001b[39m\u001b[38;5;124mraise\u001b[39m\u001b[38;5;124m\"\u001b[39m,\n\u001b[0;32m    290\u001b[0m ) \u001b[38;5;241m-\u001b[39m\u001b[38;5;241m>\u001b[39m Self:\n\u001b[1;32m--> 291\u001b[0m     arr \u001b[38;5;241m=\u001b[39m \u001b[38;5;28;43mself\u001b[39;49m\u001b[38;5;241;43m.\u001b[39;49m\u001b[43m_data\u001b[49m\u001b[38;5;241;43m.\u001b[39;49m\u001b[43mtz_localize\u001b[49m\u001b[43m(\u001b[49m\u001b[43mtz\u001b[49m\u001b[43m,\u001b[49m\u001b[43m \u001b[49m\u001b[43mambiguous\u001b[49m\u001b[43m,\u001b[49m\u001b[43m \u001b[49m\u001b[43mnonexistent\u001b[49m\u001b[43m)\u001b[49m\n\u001b[0;32m    292\u001b[0m     \u001b[38;5;28;01mreturn\u001b[39;00m \u001b[38;5;28mtype\u001b[39m(\u001b[38;5;28mself\u001b[39m)\u001b[38;5;241m.\u001b[39m_simple_new(arr, name\u001b[38;5;241m=\u001b[39m\u001b[38;5;28mself\u001b[39m\u001b[38;5;241m.\u001b[39mname)\n",
      "File \u001b[1;32m~\\PycharmProjects\\binpan_studio\\venv3.11\\Lib\\site-packages\\pandas\\core\\arrays\\_mixins.py:80\u001b[0m, in \u001b[0;36mravel_compat.<locals>.method\u001b[1;34m(self, *args, **kwargs)\u001b[0m\n\u001b[0;32m     77\u001b[0m \u001b[38;5;129m@wraps\u001b[39m(meth)\n\u001b[0;32m     78\u001b[0m \u001b[38;5;28;01mdef\u001b[39;00m \u001b[38;5;21mmethod\u001b[39m(\u001b[38;5;28mself\u001b[39m, \u001b[38;5;241m*\u001b[39margs, \u001b[38;5;241m*\u001b[39m\u001b[38;5;241m*\u001b[39mkwargs):\n\u001b[0;32m     79\u001b[0m     \u001b[38;5;28;01mif\u001b[39;00m \u001b[38;5;28mself\u001b[39m\u001b[38;5;241m.\u001b[39mndim \u001b[38;5;241m==\u001b[39m \u001b[38;5;241m1\u001b[39m:\n\u001b[1;32m---> 80\u001b[0m         \u001b[38;5;28;01mreturn\u001b[39;00m \u001b[43mmeth\u001b[49m\u001b[43m(\u001b[49m\u001b[38;5;28;43mself\u001b[39;49m\u001b[43m,\u001b[49m\u001b[43m \u001b[49m\u001b[38;5;241;43m*\u001b[39;49m\u001b[43margs\u001b[49m\u001b[43m,\u001b[49m\u001b[43m \u001b[49m\u001b[38;5;241;43m*\u001b[39;49m\u001b[38;5;241;43m*\u001b[39;49m\u001b[43mkwargs\u001b[49m\u001b[43m)\u001b[49m\n\u001b[0;32m     82\u001b[0m     flags \u001b[38;5;241m=\u001b[39m \u001b[38;5;28mself\u001b[39m\u001b[38;5;241m.\u001b[39m_ndarray\u001b[38;5;241m.\u001b[39mflags\n\u001b[0;32m     83\u001b[0m     flat \u001b[38;5;241m=\u001b[39m \u001b[38;5;28mself\u001b[39m\u001b[38;5;241m.\u001b[39mravel(\u001b[38;5;124m\"\u001b[39m\u001b[38;5;124mK\u001b[39m\u001b[38;5;124m\"\u001b[39m)\n",
      "File \u001b[1;32m~\\PycharmProjects\\binpan_studio\\venv3.11\\Lib\\site-packages\\pandas\\core\\arrays\\datetimes.py:1066\u001b[0m, in \u001b[0;36mDatetimeArray.tz_localize\u001b[1;34m(self, tz, ambiguous, nonexistent)\u001b[0m\n\u001b[0;32m   1063\u001b[0m     tz \u001b[38;5;241m=\u001b[39m timezones\u001b[38;5;241m.\u001b[39mmaybe_get_tz(tz)\n\u001b[0;32m   1064\u001b[0m     \u001b[38;5;66;03m# Convert to UTC\u001b[39;00m\n\u001b[1;32m-> 1066\u001b[0m     new_dates \u001b[38;5;241m=\u001b[39m \u001b[43mtzconversion\u001b[49m\u001b[38;5;241;43m.\u001b[39;49m\u001b[43mtz_localize_to_utc\u001b[49m\u001b[43m(\u001b[49m\n\u001b[0;32m   1067\u001b[0m \u001b[43m        \u001b[49m\u001b[38;5;28;43mself\u001b[39;49m\u001b[38;5;241;43m.\u001b[39;49m\u001b[43masi8\u001b[49m\u001b[43m,\u001b[49m\n\u001b[0;32m   1068\u001b[0m \u001b[43m        \u001b[49m\u001b[43mtz\u001b[49m\u001b[43m,\u001b[49m\n\u001b[0;32m   1069\u001b[0m \u001b[43m        \u001b[49m\u001b[43mambiguous\u001b[49m\u001b[38;5;241;43m=\u001b[39;49m\u001b[43mambiguous\u001b[49m\u001b[43m,\u001b[49m\n\u001b[0;32m   1070\u001b[0m \u001b[43m        \u001b[49m\u001b[43mnonexistent\u001b[49m\u001b[38;5;241;43m=\u001b[39;49m\u001b[43mnonexistent\u001b[49m\u001b[43m,\u001b[49m\n\u001b[0;32m   1071\u001b[0m \u001b[43m        \u001b[49m\u001b[43mcreso\u001b[49m\u001b[38;5;241;43m=\u001b[39;49m\u001b[38;5;28;43mself\u001b[39;49m\u001b[38;5;241;43m.\u001b[39;49m\u001b[43m_creso\u001b[49m\u001b[43m,\u001b[49m\n\u001b[0;32m   1072\u001b[0m \u001b[43m    \u001b[49m\u001b[43m)\u001b[49m\n\u001b[0;32m   1073\u001b[0m new_dates_dt64 \u001b[38;5;241m=\u001b[39m new_dates\u001b[38;5;241m.\u001b[39mview(\u001b[38;5;124mf\u001b[39m\u001b[38;5;124m\"\u001b[39m\u001b[38;5;124mM8[\u001b[39m\u001b[38;5;132;01m{\u001b[39;00m\u001b[38;5;28mself\u001b[39m\u001b[38;5;241m.\u001b[39munit\u001b[38;5;132;01m}\u001b[39;00m\u001b[38;5;124m]\u001b[39m\u001b[38;5;124m\"\u001b[39m)\n\u001b[0;32m   1074\u001b[0m dtype \u001b[38;5;241m=\u001b[39m tz_to_dtype(tz, unit\u001b[38;5;241m=\u001b[39m\u001b[38;5;28mself\u001b[39m\u001b[38;5;241m.\u001b[39munit)\n",
      "File \u001b[1;32mtzconversion.pyx:368\u001b[0m, in \u001b[0;36mpandas._libs.tslibs.tzconversion.tz_localize_to_utc\u001b[1;34m()\u001b[0m\n",
      "\u001b[1;31mAmbiguousTimeError\u001b[0m: Cannot infer dst time from 2022-10-30 02:00:59.999000, try using the 'ambiguous' argument"
     ]
    }
   ],
   "source": [
    "sym = binpan.Symbol(symbol=symbol,\n",
    "                    tick_interval=\"1m\",\n",
    "                    time_zone='Europe/Madrid',\n",
    "                    hours=8766,\n",
    "                    postgres_klines=\"192.168.89.242\")"
   ]
  },
  {
   "cell_type": "code",
   "execution_count": null,
   "id": "60af5267",
   "metadata": {},
   "outputs": [],
   "source": [
    "sym.df"
   ]
  },
  {
   "cell_type": "code",
   "execution_count": null,
   "id": "9e27b047",
   "metadata": {},
   "outputs": [],
   "source": [
    "asdfasd"
   ]
  },
  {
   "cell_type": "code",
   "execution_count": null,
   "id": "d7c450ab",
   "metadata": {},
   "outputs": [],
   "source": [
    "sym.get_agg_trades()"
   ]
  },
  {
   "cell_type": "code",
   "execution_count": null,
   "id": "ca528fee",
   "metadata": {
    "ExecuteTime": {
     "end_time": "2023-10-08T09:49:50.084303300Z",
     "start_time": "2023-10-08T09:49:48.868031600Z"
    },
    "scrolled": false
   },
   "outputs": [],
   "source": [
    "table=choice(tables)\n",
    "symbol = table.split(\"_\")[0]\n",
    "tick_interval = table.split(\"_\")[-1]\n",
    "\n",
    "sym = binpan.Symbol(symbol=symbol,\n",
    "                    tick_interval=tick_interval,\n",
    "                    time_zone='Europe/Madrid')\n",
    "sym.plot()"
   ]
  },
  {
   "cell_type": "code",
   "execution_count": null,
   "id": "57ea958a",
   "metadata": {},
   "outputs": [],
   "source": []
  },
  {
   "cell_type": "code",
   "execution_count": null,
   "id": "dbdf2b36740b049c",
   "metadata": {
    "ExecuteTime": {
     "start_time": "2023-10-07T10:20:19.720270600Z"
    }
   },
   "outputs": [],
   "source": []
  },
  {
   "cell_type": "code",
   "execution_count": null,
   "id": "b1c51961",
   "metadata": {
    "ExecuteTime": {
     "start_time": "2023-10-07T10:20:19.720270600Z"
    }
   },
   "outputs": [],
   "source": []
  }
 ],
 "metadata": {
  "kernelspec": {
   "display_name": "Python 3 (ipykernel)",
   "language": "python",
   "name": "python3"
  },
  "language_info": {
   "codemirror_mode": {
    "name": "ipython",
    "version": 3
   },
   "file_extension": ".py",
   "mimetype": "text/x-python",
   "name": "python",
   "nbconvert_exporter": "python",
   "pygments_lexer": "ipython3",
   "version": "3.11.2"
  }
 },
 "nbformat": 4,
 "nbformat_minor": 5
}
